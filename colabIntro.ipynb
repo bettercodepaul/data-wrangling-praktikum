{
  "nbformat": 4,
  "nbformat_minor": 0,
  "metadata": {
    "colab": {
      "name": "colabIntro.ipynb",
      "provenance": [],
      "collapsed_sections": [],
      "toc_visible": true
    },
    "kernelspec": {
      "name": "python3",
      "display_name": "Python 3"
    }
  },
  "cells": [
    {
      "cell_type": "markdown",
      "metadata": {
        "id": "W_g8emxrO59C"
      },
      "source": [
        "# How to Colab\n",
        "\n",
        "In diesem Notebook werden kurz die wichtigsten Grundlagen zur Verwendung von Google Colab vorgestellt. Wenn du das hier liest, hast du wahrscheinlich schon herausgefunden, wie man in Colab ein Notebook öffnet. Colab basiert auf IPython/Jupyter-Notebooks, und wird sehr ähnlich zu diesen verwendet.\n",
        "\n",
        "Colab Notebooks können im Google Drive gespeichert und dort verwaltet werden."
      ]
    },
    {
      "cell_type": "markdown",
      "metadata": {
        "id": "cTQ5DGMWa9bi"
      },
      "source": [
        "## Zellen-Grundlagen\n",
        "\n",
        "Die Grundbausteine sind die beiden Zelltypen:\n",
        "\n",
        "*   Textzellen: Dieser Text befindet sich in einer davon. Mit einem Doppelklick kannst du den Text hier editieren, am oberen Rand des Felds erscheinen dann auch verschiedene Formatierungstools. Überschriften fangen mit dem Zeichen # an, wie oben zu sehen.\n",
        "\n",
        "*   Codezellen: In diese kann ausführbarer Pythoncode geschrieben werden. Sie können mit einen Klick auf den Pfeil in Klammern auf der linken Seite ausgeführt werden, oder mit `Strg + Shift + Enter`. Die Ausgabe des letzten Ausdrucks wird nach Ausführung unter der Zelle angezeigt."
      ]
    },
    {
      "cell_type": "code",
      "metadata": {
        "id": "gRHsbZbiOzTd",
        "outputId": "d1a83294-4817-4036-a4bb-8b920bbc9a89",
        "colab": {
          "base_uri": "https://localhost:8080/",
          "height": 34
        }
      },
      "source": [
        "1+5"
      ],
      "execution_count": null,
      "outputs": [
        {
          "output_type": "execute_result",
          "data": {
            "text/plain": [
              "6"
            ]
          },
          "metadata": {
            "tags": []
          },
          "execution_count": 3
        }
      ]
    },
    {
      "cell_type": "markdown",
      "metadata": {
        "id": "nNOBdG-5Rw48"
      },
      "source": [
        "Neue Zellen können einfach mit den beiden Buttons **+ Code** und **+ Text** oben in diesem Fenster hinzugefügt werden, und erscheinen unter der zuletzt selektierten Zellen. Alternativ kann mit Shortcuts `Strg + M B` (Strg gedrückt halten, dann M und B) eine Codezelle hinzugefügt werden. Weitere Shortcuts und Konfigurationsmöglichkeiten können in Colab unter **Tools** -> **Keyboard** shortcuts angezeigt werden.\n",
        "\n",
        "Zellen können mit der kleinen Toolbar rechts oben an der Zelle mit den Pfeilen nach oben oder unten verschoben werden.\n",
        "\n",
        "Werden Codezellen einmal ausgeführt, und das Notebook gespeichert, bleibt die angezeigte Ausgabe erhalten und kann später betrachtet werden:"
      ]
    },
    {
      "cell_type": "code",
      "metadata": {
        "id": "S_wO0yjux_cR",
        "outputId": "5ce2c816-0298-4b35-e02d-9361d4c758e1",
        "colab": {
          "base_uri": "https://localhost:8080/",
          "height": 282
        }
      },
      "source": [
        "import matplotlib.pyplot as plt\n",
        "plt.plot([1,5,10,20])"
      ],
      "execution_count": null,
      "outputs": [
        {
          "output_type": "execute_result",
          "data": {
            "text/plain": [
              "[<matplotlib.lines.Line2D at 0x7fb33eb46c88>]"
            ]
          },
          "metadata": {
            "tags": []
          },
          "execution_count": 1
        },
        {
          "output_type": "display_data",
          "data": {
            "image/png": "[encoded data removed]",
            "text/plain": [
              "<Figure size 432x288 with 1 Axes>"
            ]
          },
          "metadata": {
            "tags": [],
            "needs_background": "light"
          }
        }
      ]
    },
    {
      "cell_type": "markdown",
      "metadata": {
        "id": "qncyLFn0UUFQ"
      },
      "source": [
        "## Colab Runtime\n",
        "\n",
        "Ein wichtiger Unterschied zu normalen IPython-Notebooks ist die von Colab bereitgestellte Runtime. Zur Verwendung ist keine lokale Installation oder Konfiguration nötig, Kosten fallen ebenfalls nicht an (außer das Google das hier wahrscheinlich alles mitliest).\n",
        "\n",
        "Bevor Codezellen ausgeführt werden können, muss eine Verbindung zur Runtime hergestellt werden. Dies dauert im Normalfall wenige Sekunden. Das **Runtime** Menü oben im Fenster bietet einige Optionen zur Ausführungen, wichtig sind hier besonders **Run all**, **Run before** (führt alle Zellen vor der aktuellen aus) und **Factory reset runtime** (wichtig, falls Schlimme Dinge (tm) passiert sind).\n",
        "\n",
        "Über **Change runtime type** kann zusätzlich eine GPU bzw. TPU zugeschaltet werden, dies ist aber eher für Machine Learning wichtig."
      ]
    },
    {
      "cell_type": "markdown",
      "metadata": {
        "id": "fzStnraoWhrO"
      },
      "source": [
        "## Colab File System\n",
        "\n",
        "Jede Colab-Umgebung verfügt über ihr eigenes (temporäres) Unix-Filesystem. Dieses kann über das Ordnersymbol in der Leiste links eingesehen werden. Zum Hochladen von Dateien können diese einfach per Drag&Drop in den gewünschten Ordner gezogen werden. Das Working Directory beim Starten des Notebooks ist `/content`."
      ]
    },
    {
      "cell_type": "code",
      "metadata": {
        "id": "ZnVqHZkBXJhI",
        "outputId": "274c5634-6978-4e47-8b40-278c075256af",
        "colab": {
          "base_uri": "https://localhost:8080/",
          "height": 35
        }
      },
      "source": [
        "%pwd"
      ],
      "execution_count": null,
      "outputs": [
        {
          "output_type": "execute_result",
          "data": {
            "application/vnd.google.colaboratory.intrinsic+json": {
              "type": "string"
            },
            "text/plain": [
              "'/content'"
            ]
          },
          "metadata": {
            "tags": []
          },
          "execution_count": 6
        }
      ]
    },
    {
      "cell_type": "markdown",
      "metadata": {
        "id": "IxnCAGs1ZWWB"
      },
      "source": [
        "Achtung: Hochgeladene Dateien gehen verloren, sobald die Runtime geschlossen oder ein reset durchgeführt wird."
      ]
    },
    {
      "cell_type": "markdown",
      "metadata": {
        "id": "_DUtWcEUXgNS"
      },
      "source": [
        "## IPython Magics\n",
        "\n",
        "Die Codezelle oben mit `%pwd` war kein Pythoncode, sondern ein IPython Magic Command (sic), zu erkennen an dem führenden **%**-Zeichen. Mithilfe dieser Magcis können Befehle wie in einer Linux Command Line/Bash ausgeführt werden:"
      ]
    },
    {
      "cell_type": "code",
      "metadata": {
        "id": "SStfHHXKYu6V",
        "outputId": "e4a58a7b-4b4d-4555-bde4-0cbac9a9ceaa",
        "colab": {
          "base_uri": "https://localhost:8080/",
          "height": 34
        }
      },
      "source": [
        "# Aktuellen Ordnerinhalt anzeigen\n",
        "%ls"
      ],
      "execution_count": null,
      "outputs": [
        {
          "output_type": "stream",
          "text": [
            "\u001b[0m\u001b[01;34msample_data\u001b[0m/\n"
          ],
          "name": "stdout"
        }
      ]
    },
    {
      "cell_type": "code",
      "metadata": {
        "id": "rE8YcVnxYC9u"
      },
      "source": [
        "# Das Python-Modul Dash mit pip installieren\n",
        "%pip install dash"
      ],
      "execution_count": null,
      "outputs": []
    },
    {
      "cell_type": "code",
      "metadata": {
        "id": "hdYdSynFao20",
        "outputId": "871dbb44-8396-4d2a-dabb-98b6133881a9",
        "colab": {
          "base_uri": "https://localhost:8080/",
          "height": 156
        }
      },
      "source": [
        "# Zeigt verfügbare Magics an\n",
        "%lsmagic"
      ],
      "execution_count": null,
      "outputs": [
        {
          "output_type": "execute_result",
          "data": {
            "application/json": {
              "cell": {
                "prun": "ExecutionMagics",
                "file": "Other",
                "!": "OSMagics",
                "capture": "ExecutionMagics",
                "timeit": "ExecutionMagics",
                "script": "ScriptMagics",
                "pypy": "Other",
                "system": "OSMagics",
                "perl": "Other",
                "html": "DisplayMagics",
                "bash": "Other",
                "shell": "Other",
                "HTML": "Other",
                "python": "Other",
                "SVG": "Other",
                "javascript": "DisplayMagics",
                "bigquery": "Other",
                "js": "DisplayMagics",
                "writefile": "OSMagics",
                "ruby": "Other",
                "python3": "Other",
                "python2": "Other",
                "latex": "DisplayMagics",
                "sx": "OSMagics",
                "svg": "DisplayMagics",
                "sh": "Other",
                "time": "ExecutionMagics",
                "debug": "ExecutionMagics"
              },
              "line": {
                "psource": "NamespaceMagics",
                "logstart": "LoggingMagics",
                "popd": "OSMagics",
                "tensorflow_version": "Other",
                "loadpy": "CodeMagics",
                "colors": "BasicMagics",
                "who_ls": "NamespaceMagics",
                "lf": "Other",
                "ll": "Other",
                "pprint": "BasicMagics",
                "lk": "Other",
                "ls": "Other",
                "save": "CodeMagics",
                "tb": "ExecutionMagics",
                "lx": "Other",
                "pylab": "PylabMagics",
                "killbgscripts": "ScriptMagics",
                "quickref": "BasicMagics",
                "magic": "BasicMagics",
                "dhist": "OSMagics",
                "edit": "KernelMagics",
                "logstop": "LoggingMagics",
                "gui": "BasicMagics",
                "prun": "ExecutionMagics",
                "debug": "ExecutionMagics",
                "page": "BasicMagics",
                "logstate": "LoggingMagics",
                "ed": "Other",
                "pushd": "OSMagics",
                "timeit": "ExecutionMagics",
                "set_env": "OSMagics",
                "rehashx": "OSMagics",
                "hist": "Other",
                "qtconsole": "KernelMagics",
                "rm": "Other",
                "dirs": "OSMagics",
                "run": "ExecutionMagics",
                "reset_selective": "NamespaceMagics",
                "pinfo2": "NamespaceMagics",
                "matplotlib": "PylabMagics",
                "unload_ext": "ExtensionMagics",
                "doctest_mode": "BasicMagics",
                "logoff": "LoggingMagics",
                "reload_ext": "ExtensionMagics",
                "pdb": "ExecutionMagics",
                "load": "CodeMagics",
                "lsmagic": "BasicMagics",
                "autosave": "KernelMagics",
                "cd": "OSMagics",
                "pastebin": "CodeMagics",
                "alias_magic": "BasicMagics",
                "cp": "Other",
                "autocall": "AutoMagics",
                "ldir": "Other",
                "bookmark": "OSMagics",
                "connect_info": "KernelMagics",
                "mkdir": "Other",
                "system": "OSMagics",
                "whos": "NamespaceMagics",
                "rmdir": "Other",
                "automagic": "AutoMagics",
                "store": "StoreMagics",
                "more": "KernelMagics",
                "shell": "Other",
                "pdef": "NamespaceMagics",
                "precision": "BasicMagics",
                "pinfo": "NamespaceMagics",
                "pwd": "OSMagics",
                "psearch": "NamespaceMagics",
                "reset": "NamespaceMagics",
                "recall": "HistoryMagics",
                "xdel": "NamespaceMagics",
                "xmode": "BasicMagics",
                "cat": "Other",
                "mv": "Other",
                "rerun": "HistoryMagics",
                "logon": "LoggingMagics",
                "history": "HistoryMagics",
                "pycat": "OSMagics",
                "pip": "Other",
                "unalias": "OSMagics",
                "env": "OSMagics",
                "load_ext": "ExtensionMagics",
                "config": "ConfigMagics",
                "profile": "BasicMagics",
                "pfile": "NamespaceMagics",
                "less": "KernelMagics",
                "who": "NamespaceMagics",
                "notebook": "BasicMagics",
                "man": "KernelMagics",
                "sx": "OSMagics",
                "macro": "ExecutionMagics",
                "clear": "KernelMagics",
                "alias": "OSMagics",
                "time": "ExecutionMagics",
                "sc": "OSMagics",
                "rep": "Other",
                "pdoc": "NamespaceMagics"
              }
            },
            "text/plain": [
              "Available line magics:\n",
              "%alias  %alias_magic  %autocall  %automagic  %autosave  %bookmark  %cat  %cd  %clear  %colors  %config  %connect_info  %cp  %debug  %dhist  %dirs  %doctest_mode  %ed  %edit  %env  %gui  %hist  %history  %killbgscripts  %ldir  %less  %lf  %lk  %ll  %load  %load_ext  %loadpy  %logoff  %logon  %logstart  %logstate  %logstop  %ls  %lsmagic  %lx  %macro  %magic  %man  %matplotlib  %mkdir  %more  %mv  %notebook  %page  %pastebin  %pdb  %pdef  %pdoc  %pfile  %pinfo  %pinfo2  %pip  %popd  %pprint  %precision  %profile  %prun  %psearch  %psource  %pushd  %pwd  %pycat  %pylab  %qtconsole  %quickref  %recall  %rehashx  %reload_ext  %rep  %rerun  %reset  %reset_selective  %rm  %rmdir  %run  %save  %sc  %set_env  %shell  %store  %sx  %system  %tb  %tensorflow_version  %time  %timeit  %unalias  %unload_ext  %who  %who_ls  %whos  %xdel  %xmode\n",
              "\n",
              "Available cell magics:\n",
              "%%!  %%HTML  %%SVG  %%bash  %%bigquery  %%capture  %%debug  %%file  %%html  %%javascript  %%js  %%latex  %%perl  %%prun  %%pypy  %%python  %%python2  %%python3  %%ruby  %%script  %%sh  %%shell  %%svg  %%sx  %%system  %%time  %%timeit  %%writefile\n",
              "\n",
              "Automagic is ON, % prefix IS NOT needed for line magics."
            ]
          },
          "metadata": {
            "tags": []
          },
          "execution_count": 1
        }
      ]
    }
  ]
}