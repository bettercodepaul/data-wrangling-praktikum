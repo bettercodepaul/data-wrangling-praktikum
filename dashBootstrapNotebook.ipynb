{
  "nbformat": 4,
  "nbformat_minor": 0,
  "metadata": {
    "colab": {
      "name": "dashBootstrapNotebook.ipynb",
      "provenance": [],
      "collapsed_sections": [],
      "toc_visible": true
    },
    "kernelspec": {
      "name": "python3",
      "display_name": "Python 3"
    }
  },
  "cells": [
    {
      "cell_type": "markdown",
      "metadata": {
        "id": "BUPb5V_78Hse",
        "colab_type": "text"
      },
      "source": [
        "# Dash Einführung\n",
        "Dash ist ein Framework zur Erstellung von Webapps für die Datenvisualisierung, entwickelt von Plotly. Dash zielt darauf ab, dass der User so weit wie möglich in Python arbeiten kann und eignet sich gut dafür, mit Pandas zusammen verwendet zu werden.\n",
        "\n",
        "In diesem Notebook werden die Grundlagen von Dash anhand von Beispielen vorgestellt. Die offizielle Dokumentation befindet sich hier: \n",
        "\n",
        "https://dash.plotly.com/\n",
        "\n",
        "*Anmerkung: Damit Dash in der Colab-Umgebung richtig funktioniert, sollten JavaScript und Cookies im Browser erlaubt sein.*"
      ]
    },
    {
      "cell_type": "code",
      "metadata": {
        "id": "Mf9_yWAMFGsZ",
        "colab_type": "code",
        "colab": {
          "base_uri": "https://localhost:8080/",
          "height": 1000
        },
        "outputId": "00d9ce41-4351-4231-ea93-c2fe8377894a"
      },
      "source": [
        "!pip install jupyter-dash\n",
        "!pip install dash-bootstrap-components"
      ],
      "execution_count": null,
      "outputs": [
        {
          "output_type": "stream",
          "text": [
            "Requirement already satisfied: jupyter-dash in /usr/local/lib/python3.6/dist-packages (0.3.1)\n",
            "Requirement already satisfied: dash in /usr/local/lib/python3.6/dist-packages (from jupyter-dash) (1.16.1)\n",
            "Requirement already satisfied: ansi2html in /usr/local/lib/python3.6/dist-packages (from jupyter-dash) (1.5.2)\n",
            "Requirement already satisfied: flask in /usr/local/lib/python3.6/dist-packages (from jupyter-dash) (1.1.2)\n",
            "Requirement already satisfied: ipykernel in /usr/local/lib/python3.6/dist-packages (from jupyter-dash) (4.10.1)\n",
            "Requirement already satisfied: retrying in /usr/local/lib/python3.6/dist-packages (from jupyter-dash) (1.3.3)\n",
            "Requirement already satisfied: ipython in /usr/local/lib/python3.6/dist-packages (from jupyter-dash) (5.5.0)\n",
            "Requirement already satisfied: requests in /usr/local/lib/python3.6/dist-packages (from jupyter-dash) (2.23.0)\n",
            "Requirement already satisfied: dash-renderer==1.8.1 in /usr/local/lib/python3.6/dist-packages (from dash->jupyter-dash) (1.8.1)\n",
            "Requirement already satisfied: future in /usr/local/lib/python3.6/dist-packages (from dash->jupyter-dash) (0.16.0)\n",
            "Requirement already satisfied: dash-table==4.10.1 in /usr/local/lib/python3.6/dist-packages (from dash->jupyter-dash) (4.10.1)\n",
            "Requirement already satisfied: dash-html-components==1.1.1 in /usr/local/lib/python3.6/dist-packages (from dash->jupyter-dash) (1.1.1)\n",
            "Requirement already satisfied: plotly in /usr/local/lib/python3.6/dist-packages (from dash->jupyter-dash) (4.4.1)\n",
            "Requirement already satisfied: dash-core-components==1.12.1 in /usr/local/lib/python3.6/dist-packages (from dash->jupyter-dash) (1.12.1)\n",
            "Requirement already satisfied: flask-compress in /usr/local/lib/python3.6/dist-packages (from dash->jupyter-dash) (1.5.0)\n",
            "Requirement already satisfied: six in /usr/local/lib/python3.6/dist-packages (from ansi2html->jupyter-dash) (1.15.0)\n",
            "Requirement already satisfied: Werkzeug>=0.15 in /usr/local/lib/python3.6/dist-packages (from flask->jupyter-dash) (1.0.1)\n",
            "Requirement already satisfied: click>=5.1 in /usr/local/lib/python3.6/dist-packages (from flask->jupyter-dash) (7.1.2)\n",
            "Requirement already satisfied: itsdangerous>=0.24 in /usr/local/lib/python3.6/dist-packages (from flask->jupyter-dash) (1.1.0)\n",
            "Requirement already satisfied: Jinja2>=2.10.1 in /usr/local/lib/python3.6/dist-packages (from flask->jupyter-dash) (2.11.2)\n",
            "Requirement already satisfied: jupyter-client in /usr/local/lib/python3.6/dist-packages (from ipykernel->jupyter-dash) (5.3.5)\n",
            "Requirement already satisfied: tornado>=4.0 in /usr/local/lib/python3.6/dist-packages (from ipykernel->jupyter-dash) (5.1.1)\n",
            "Requirement already satisfied: traitlets>=4.1.0 in /usr/local/lib/python3.6/dist-packages (from ipykernel->jupyter-dash) (4.3.3)\n",
            "Requirement already satisfied: prompt-toolkit<2.0.0,>=1.0.4 in /usr/local/lib/python3.6/dist-packages (from ipython->jupyter-dash) (1.0.18)\n",
            "Requirement already satisfied: pickleshare in /usr/local/lib/python3.6/dist-packages (from ipython->jupyter-dash) (0.7.5)\n",
            "Requirement already satisfied: pygments in /usr/local/lib/python3.6/dist-packages (from ipython->jupyter-dash) (2.6.1)\n",
            "Requirement already satisfied: pexpect; sys_platform != \"win32\" in /usr/local/lib/python3.6/dist-packages (from ipython->jupyter-dash) (4.8.0)\n",
            "Requirement already satisfied: decorator in /usr/local/lib/python3.6/dist-packages (from ipython->jupyter-dash) (4.4.2)\n",
            "Requirement already satisfied: simplegeneric>0.8 in /usr/local/lib/python3.6/dist-packages (from ipython->jupyter-dash) (0.8.1)\n",
            "Requirement already satisfied: setuptools>=18.5 in /usr/local/lib/python3.6/dist-packages (from ipython->jupyter-dash) (50.3.0)\n",
            "Requirement already satisfied: urllib3!=1.25.0,!=1.25.1,<1.26,>=1.21.1 in /usr/local/lib/python3.6/dist-packages (from requests->jupyter-dash) (1.24.3)\n",
            "Requirement already satisfied: idna<3,>=2.5 in /usr/local/lib/python3.6/dist-packages (from requests->jupyter-dash) (2.10)\n",
            "Requirement already satisfied: chardet<4,>=3.0.2 in /usr/local/lib/python3.6/dist-packages (from requests->jupyter-dash) (3.0.4)\n",
            "Requirement already satisfied: certifi>=2017.4.17 in /usr/local/lib/python3.6/dist-packages (from requests->jupyter-dash) (2020.6.20)\n",
            "Requirement already satisfied: brotli in /usr/local/lib/python3.6/dist-packages (from flask-compress->dash->jupyter-dash) (1.0.9)\n",
            "Requirement already satisfied: MarkupSafe>=0.23 in /usr/local/lib/python3.6/dist-packages (from Jinja2>=2.10.1->flask->jupyter-dash) (1.1.1)\n",
            "Requirement already satisfied: pyzmq>=13 in /usr/local/lib/python3.6/dist-packages (from jupyter-client->ipykernel->jupyter-dash) (19.0.2)\n",
            "Requirement already satisfied: python-dateutil>=2.1 in /usr/local/lib/python3.6/dist-packages (from jupyter-client->ipykernel->jupyter-dash) (2.8.1)\n",
            "Requirement already satisfied: jupyter-core>=4.6.0 in /usr/local/lib/python3.6/dist-packages (from jupyter-client->ipykernel->jupyter-dash) (4.6.3)\n",
            "Requirement already satisfied: ipython-genutils in /usr/local/lib/python3.6/dist-packages (from traitlets>=4.1.0->ipykernel->jupyter-dash) (0.2.0)\n",
            "Requirement already satisfied: wcwidth in /usr/local/lib/python3.6/dist-packages (from prompt-toolkit<2.0.0,>=1.0.4->ipython->jupyter-dash) (0.2.5)\n",
            "Requirement already satisfied: ptyprocess>=0.5 in /usr/local/lib/python3.6/dist-packages (from pexpect; sys_platform != \"win32\"->ipython->jupyter-dash) (0.6.0)\n",
            "Requirement already satisfied: dash-bootstrap-components in /usr/local/lib/python3.6/dist-packages (0.10.6)\n",
            "Requirement already satisfied: dash>=1.9.0 in /usr/local/lib/python3.6/dist-packages (from dash-bootstrap-components) (1.16.1)\n",
            "Requirement already satisfied: dash-html-components==1.1.1 in /usr/local/lib/python3.6/dist-packages (from dash>=1.9.0->dash-bootstrap-components) (1.1.1)\n",
            "Requirement already satisfied: future in /usr/local/lib/python3.6/dist-packages (from dash>=1.9.0->dash-bootstrap-components) (0.16.0)\n",
            "Requirement already satisfied: dash-core-components==1.12.1 in /usr/local/lib/python3.6/dist-packages (from dash>=1.9.0->dash-bootstrap-components) (1.12.1)\n",
            "Requirement already satisfied: plotly in /usr/local/lib/python3.6/dist-packages (from dash>=1.9.0->dash-bootstrap-components) (4.4.1)\n",
            "Requirement already satisfied: Flask>=1.0.2 in /usr/local/lib/python3.6/dist-packages (from dash>=1.9.0->dash-bootstrap-components) (1.1.2)\n",
            "Requirement already satisfied: dash-renderer==1.8.1 in /usr/local/lib/python3.6/dist-packages (from dash>=1.9.0->dash-bootstrap-components) (1.8.1)\n",
            "Requirement already satisfied: flask-compress in /usr/local/lib/python3.6/dist-packages (from dash>=1.9.0->dash-bootstrap-components) (1.5.0)\n",
            "Requirement already satisfied: dash-table==4.10.1 in /usr/local/lib/python3.6/dist-packages (from dash>=1.9.0->dash-bootstrap-components) (4.10.1)\n",
            "Requirement already satisfied: six in /usr/local/lib/python3.6/dist-packages (from plotly->dash>=1.9.0->dash-bootstrap-components) (1.15.0)\n",
            "Requirement already satisfied: retrying>=1.3.3 in /usr/local/lib/python3.6/dist-packages (from plotly->dash>=1.9.0->dash-bootstrap-components) (1.3.3)\n",
            "Requirement already satisfied: Jinja2>=2.10.1 in /usr/local/lib/python3.6/dist-packages (from Flask>=1.0.2->dash>=1.9.0->dash-bootstrap-components) (2.11.2)\n",
            "Requirement already satisfied: Werkzeug>=0.15 in /usr/local/lib/python3.6/dist-packages (from Flask>=1.0.2->dash>=1.9.0->dash-bootstrap-components) (1.0.1)\n",
            "Requirement already satisfied: itsdangerous>=0.24 in /usr/local/lib/python3.6/dist-packages (from Flask>=1.0.2->dash>=1.9.0->dash-bootstrap-components) (1.1.0)\n",
            "Requirement already satisfied: click>=5.1 in /usr/local/lib/python3.6/dist-packages (from Flask>=1.0.2->dash>=1.9.0->dash-bootstrap-components) (7.1.2)\n",
            "Requirement already satisfied: brotli in /usr/local/lib/python3.6/dist-packages (from flask-compress->dash>=1.9.0->dash-bootstrap-components) (1.0.9)\n",
            "Requirement already satisfied: MarkupSafe>=0.23 in /usr/local/lib/python3.6/dist-packages (from Jinja2>=2.10.1->Flask>=1.0.2->dash>=1.9.0->dash-bootstrap-components) (1.1.1)\n"
          ],
          "name": "stdout"
        }
      ]
    },
    {
      "cell_type": "code",
      "metadata": {
        "id": "sWHYXuXOcU5k",
        "colab_type": "code",
        "colab": {}
      },
      "source": [
        "import dash\n",
        "import dash_bootstrap_components as dbc\n",
        "import dash_core_components as dcc\n",
        "import dash_html_components as html\n",
        "import dash_table\n",
        "import plotly.express as px\n",
        "from dash.dependencies import Input, Output\n",
        "from jupyter_dash import JupyterDash\n",
        "import pandas as pd"
      ],
      "execution_count": null,
      "outputs": []
    },
    {
      "cell_type": "code",
      "metadata": {
        "id": "6KhaPQb3cQ8-",
        "colab_type": "code",
        "colab": {}
      },
      "source": [
        "# Daten laden\n",
        "iris = pd.read_csv(\"https://raw.githubusercontent.com/thomas-bierhance-exxcellent/data-wrangling-praktikum/master/iris.csv\")\n",
        "vendors = pd.read_csv('https://github.com/thomas-bierhance-exxcellent/data-wrangling-praktikum/raw/master/vendors.csv.xz')\n",
        "customers = pd.read_csv('https://github.com/thomas-bierhance-exxcellent/data-wrangling-praktikum/raw/master/customers.csv.xz')\n",
        "locations = pd.read_csv('https://github.com/thomas-bierhance-exxcellent/data-wrangling-praktikum/raw/master/locations.csv.xz')\n",
        "orders = pd.read_csv('https://github.com/thomas-bierhance-exxcellent/data-wrangling-praktikum/raw/master/orders.csv.xz',\n",
        "                     parse_dates=['order_accepted_time', 'delivered_time', 'delivery_date'])"
      ],
      "execution_count": null,
      "outputs": []
    },
    {
      "cell_type": "markdown",
      "metadata": {
        "id": "aFow9JVUy7g9",
        "colab_type": "text"
      },
      "source": [
        "## Statische Apps"
      ]
    },
    {
      "cell_type": "markdown",
      "metadata": {
        "id": "AoqvBlYn8Qmz",
        "colab_type": "text"
      },
      "source": [
        "Mit Dash können sehr aufwändige Oberflächen mit komplexen Graphen, Auswahl- und Filterelementen (z.B. Dropdown-Menüs, Checkboxen, Slider, etc.) und Layouts erstellt werden.\n",
        "\n",
        "Normalerweise wird Dash als normales Pythonskript ausgeführt, der Zugriff auf die erzeugte Visualisierung erfolgt über den Browser. Innerhalb dieses Notebooks/der Colab-Umgebung greifen wir aber auf JupyterDash zurück, damit die Oberflächen inline angezeigt werden können:\n",
        "\n",
        "(https://medium.com/plotly/introducing-jupyterdash-811f1f57c02e)\n",
        "\n",
        "Für den Anfang erstmal eine minimale (Jupyter-)Dash-Anwendung:"
      ]
    },
    {
      "cell_type": "code",
      "metadata": {
        "id": "ytxx0akOi1BZ",
        "colab_type": "code",
        "colab": {
          "base_uri": "https://localhost:8080/",
          "height": 671
        },
        "outputId": "bbbb5aa9-d63f-4663-b124-9154f8f78cef"
      },
      "source": [
        "app = JupyterDash(__name__)\n",
        "\n",
        "# Das Layout wird ähnlich wie in HTML festgelegt\n",
        "app.layout = html.Div(children=[\n",
        "    html.H1(children='Hallo'),\n",
        "    html.Div(children=\"Hier könnte Ihre Dash App stehen.\")\n",
        "])\n",
        "\n",
        "# Die JupyterDash-App wird im Notebook selber angezeigt\n",
        "app.run_server(mode='inline')"
      ],
      "execution_count": null,
      "outputs": [
        {
          "output_type": "display_data",
          "data": {
            "application/javascript": [
              "(async (port, path, width, height, cache, element) => {\n",
              "    if (!google.colab.kernel.accessAllowed && !cache) {\n",
              "      return;\n",
              "    }\n",
              "    element.appendChild(document.createTextNode(''));\n",
              "    const url = await google.colab.kernel.proxyPort(port, {cache});\n",
              "    const iframe = document.createElement('iframe');\n",
              "    iframe.src = url + path;\n",
              "    iframe.height = height;\n",
              "    iframe.width = width;\n",
              "    iframe.style.border = 0;\n",
              "    element.appendChild(iframe);\n",
              "  })(8050, \"/\", \"100%\", 650, false, window.element)"
            ],
            "text/plain": [
              "<IPython.core.display.Javascript object>"
            ]
          },
          "metadata": {
            "tags": []
          }
        }
      ]
    },
    {
      "cell_type": "markdown",
      "metadata": {
        "id": "_qg2zL4ZNvzp",
        "colab_type": "text"
      },
      "source": [
        "Zum Vergleich dieselbe Anwendung in \"normalem\" Dash:"
      ]
    },
    {
      "cell_type": "code",
      "metadata": {
        "id": "4-am0FgQLccl",
        "colab_type": "code",
        "colab": {}
      },
      "source": [
        "app = dash.Dash(__name__)\n",
        "\n",
        "# Das Layout wird ähnlich wie in HTML festgelegt\n",
        "app.layout = html.Div(children=[\n",
        "    html.H1(children='Hallo'),\n",
        "    html.Div(children=\"Hier könnte Ihre Dash App stehen.\")\n",
        "])\n",
        "\n",
        "# Die Anwendung sollte unter standardmäßig unter \n",
        "# http://127.0.0.1:8050/ angezeigt werden\n",
        "if __name__ == '__main__':\n",
        "    app.run_server(debug=True)"
      ],
      "execution_count": null,
      "outputs": []
    },
    {
      "cell_type": "markdown",
      "metadata": {
        "id": "d6hBc1pfOAHh",
        "colab_type": "text"
      },
      "source": [
        "Der Code unterscheidet sich in diesem Beispiel nur in zwei Punkten: Die Erstellung des Dash-Objektes, und der run-Befehl.\n",
        "![jupyterVsNormal.JPG](data:image/jpeg;base64,/9j/4AAQSkZJRgABAQEAeAB4AAD/4RD+RXhpZgAATU0AKgAAAAgABAE7AAIAAAARAAAISodpAAQAAAABAAAIXJydAAEAAAAiAAAQ1OocAAcAAAgMAAAAPgAAAAAc6gAAAAgAAAAAAAAAAAAAAAAAAAAAAAAAAAAAAAAAAAAAAAAAAAAAAAAAAAAAAAAAAAAAAAAAAAAAAAAAAAAAAAAAAAAAAAAAAAAAAAAAAAAAAAAAAAAAAAAAAAAAAAAAAAAAAAAAAAAAAAAAAAAAAAAAAAAAAAAAAAAAAAAAAAAAAAAAAAAAAAAAAAAAAAAAAAAAAAAAAAAAAAAAAAAAAAAAAAAAAAAAAAAAAAAAAAAAAAAAAAAAAAAAAAAAAAAAAAAAAAAAAAAAAAAAAAAAAAAAAAAAAAAAAAAAAAAAAAAAAAAAAAAAAAAAAAAAAAAAAAAAAAAAAAAAAAAAAAAAAAAAAAAAAAAAAAAAAAAAAAAAAAAAAAAAAAAAAAAAAAAAAAAAAAAAAAAAAAAAAAAAAAAAAAAAAAAAAAAAAAAAAAAAAAAAAAAAAAAAAAAAAAAAAAAAAAAAAAAAAAAAAAAAAAAAAAAAAAAAAAAAAAAAAAAAAAAAAAAAAAAAAAAAAAAAAAAAAAAAAAAAAAAAAAAAAAAAAAAAAAAAAAAAAAAAAAAAAAAAAAAAAAAAAAAAAAAAAAAAAAAAAAAAAAAAAAAAAAAAAAAAAAAAAAAAAAAAAAAAAAAAAAAAAAAAAAAAAAAAAAAAAAAAAAAAAAAAAAAAAAAAAAAAAAAAAAAAAAAAAAAAAAAAAAAAAAAAAAAAAAAAAAAAAAAAAAAAAAAAAAAAAAAAAAAAAAAAAAAAAAAAAAAAAAAAAAAAAAAAAAAAAAAAAAAAAAAAAAAAAAAAAAAAAAAAAAAAAAAAAAAAAAAAAAAAAAAAAAAAAAAAAAAAAAAAAAAAAAAAAAAAAAAAAAAAAAAAAAAAAAAAAAAAAAAAAAAAAAAAAAAAAAAAAAAAAAAAAAAAAAAAAAAAAAAAAAAAAAAAAAAAAAAAAAAAAAAAAAAAAAAAAAAAAAAAAAAAAAAAAAAAAAAAAAAAAAAAAAAAAAAAAAAAAAAAAAAAAAAAAAAAAAAAAAAAAAAAAAAAAAAAAAAAAAAAAAAAAAAAAAAAAAAAAAAAAAAAAAAAAAAAAAAAAAAAAAAAAAAAAAAAAAAAAAAAAAAAAAAAAAAAAAAAAAAAAAAAAAAAAAAAAAAAAAAAAAAAAAAAAAAAAAAAAAAAAAAAAAAAAAAAAAAAAAAAAAAAAAAAAAAAAAAAAAAAAAAAAAAAAAAAAAAAAAAAAAAAAAAAAAAAAAAAAAAAAAAAAAAAAAAAAAAAAAAAAAAAAAAAAAAAAAAAAAAAAAAAAAAAAAAAAAAAAAAAAAAAAAAAAAAAAAAAAAAAAAAAAAAAAAAAAAAAAAAAAAAAAAAAAAAAAAAAAAAAAAAAAAAAAAAAAAAAAAAAAAAAAAAAAAAAAAAAAAAAAAAAAAAAAAAAAAAAAAAAAAAAAAAAAAAAAAAAAAAAAAAAAAAAAAAAAAAAAAAAAAAAAAAAAAAAAAAAAAAAAAAAAAAAAAAAAAAAAAAAAAAAAAAAAAAAAAAAAAAAAAAAAAAAAAAAAAAAAAAAAAAAAAAAAAAAAAAAAAAAAAAAAAAAAAAAAAAAAAAAAAAAAAAAAAAAAAAAAAAAAAAAAAAAAAAAAAAAAAAAAAAAAAAAAAAAAAAAAAAAAAAAAAAAAAAAAAAAAAAAAAAAAAAAAAAAAAAAAAAAAAAAAAAAAAAAAAAAAAAAAAAAAAAAAAAAAAAAAAAAAAAAAAAAAAAAAAAAAAAAAAAAAAAAAAAAAAAAAAAAAAAAAAAAAAAAAAAAAAAAAAAAAAAAAAAAAAAAAAAAAAAAAAAAAAAAAAAAAAAAAAAAAAAAAAAAAAAAAAAAAAAAAAAAAAAAAAAAAAAAAAAAAAAAAAAAAAAAAAAAAAAAAAAAAAAAAAAAAAAAAAAAAAAAAAAAAAAAAAAAAAAAAAAAAAAAAAAAAAAAAAAAAAAAAAAAAAAAAAAAAAAAAAAAAAAAAAAAAAAAAAAAAAAAAAAAAAAAAAAAAAAAAAAAAAAAAAAAAAAAAAAAAAAAAAAAAAAAAAAAAAAAAAAAAAAAAAAAAAAAAAAAAAAAAAAAAAAAAAAAAAAAAAAAAAAAAAAAAAAAAAAAAAAAAAAAAAAAAAAAAAAAAAAAAAAAAAAAAAAAAAAAAAAAAAAAAAAAAAAAAAAAAAAAAAAAAAAAAAAAAAAAAAAAAAAAAAAAAAAAAAAAAAAAAAAAAAAAAAAAAAAAAAAAAAAAAAAAAAAAAAAAAAAAAAAAAAAAAAAAAAAAAAAAAAAAAAAAAAAAAAAAAAAAAAAAAAAAAAAAAAAAAAAAAAAAAAAAAAAAAAAAAAAAAAAAAAAAAAAAAAAAAAAAAAAAAAAAAAAAAAAAAAAAAAAAAAAAAAAAAAAAAAAAAAAAAAAAAAAAAAAAAAAAAAAAAAAAAAAAAAAAAAAAAAAAAAAAAAAAAAAAAAAAAAAAAAAAAAAAAAAAAAAAAAAAAAAAAAAAAAAAAAAAAAAAAAAAAAAAAAAAAAAAAAAAAAAAAAAAAAAAAAAAAAAAAAAAAAAAAAAAAAAAAAAAAAAAAAAAAAAAAAAAAAAAAAAAAAAAAAAAAAAAAAAAAAAAAAAAAAAAAAAAAAAAAAAAAAAAAAAAAAAAAAAAAAAAAAAAAAAAAAAAAAAAAAAAAAAAAAAAAAAAAAAAAAAAAAAAAAAAAAAAAAAAAAAAAAAAAAAAAAAAAAAAAAAAAAAAAAAAAAAAAAAAAAAAAAAAAAAAAAAAAAAAAFlhbm4gUGhpbGlwcGN6eWsAAAAFkAMAAgAAABQAABCqkAQAAgAAABQAABC+kpEAAgAAAAM2MQAAkpIAAgAAAAM2MQAA6hwABwAACAwAAAieAAAAABzqAAAACAAAAAAAAAAAAAAAAAAAAAAAAAAAAAAAAAAAAAAAAAAAAAAAAAAAAAAAAAAAAAAAAAAAAAAAAAAAAAAAAAAAAAAAAAAAAAAAAAAAAAAAAAAAAAAAAAAAAAAAAAAAAAAAAAAAAAAAAAAAAAAAAAAAAAAAAAAAAAAAAAAAAAAAAAAAAAAAAAAAAAAAAAAAAAAAAAAAAAAAAAAAAAAAAAAAAAAAAAAAAAAAAAAAAAAAAAAAAAAAAAAAAAAAAAAAAAAAAAAAAAAAAAAAAAAAAAAAAAAAAAAAAAAAAAAAAAAAAAAAAAAAAAAAAAAAAAAAAAAAAAAAAAAAAAAAAAAAAAAAAAAAAAAAAAAAAAAAAAAAAAAAAAAAAAAAAAAAAAAAAAAAAAAAAAAAAAAAAAAAAAAAAAAAAAAAAAAAAAAAAAAAAAAAAAAAAAAAAAAAAAAAAAAAAAAAAAAAAAAAAAAAAAAAAAAAAAAAAAAAAAAAAAAAAAAAAAAAAAAAAAAAAAAAAAAAAAAAAAAAAAAAAAAAAAAAAAAAAAAAAAAAAAAAAAAAAAAAAAAAAAAAAAAAAAAAAAAAAAAAAAAAAAAAAAAAAAAAAAAAAAAAAAAAAAAAAAAAAAAAAAAAAAAAAAAAAAAAAAAAAAAAAAAAAAAAAAAAAAAAAAAAAAAAAAAAAAAAAAAAAAAAAAAAAAAAAAAAAAAAAAAAAAAAAAAAAAAAAAAAAAAAAAAAAAAAAAAAAAAAAAAAAAAAAAAAAAAAAAAAAAAAAAAAAAAAAAAAAAAAAAAAAAAAAAAAAAAAAAAAAAAAAAAAAAAAAAAAAAAAAAAAAAAAAAAAAAAAAAAAAAAAAAAAAAAAAAAAAAAAAAAAAAAAAAAAAAAAAAAAAAAAAAAAAAAAAAAAAAAAAAAAAAAAAAAAAAAAAAAAAAAAAAAAAAAAAAAAAAAAAAAAAAAAAAAAAAAAAAAAAAAAAAAAAAAAAAAAAAAAAAAAAAAAAAAAAAAAAAAAAAAAAAAAAAAAAAAAAAAAAAAAAAAAAAAAAAAAAAAAAAAAAAAAAAAAAAAAAAAAAAAAAAAAAAAAAAAAAAAAAAAAAAAAAAAAAAAAAAAAAAAAAAAAAAAAAAAAAAAAAAAAAAAAAAAAAAAAAAAAAAAAAAAAAAAAAAAAAAAAAAAAAAAAAAAAAAAAAAAAAAAAAAAAAAAAAAAAAAAAAAAAAAAAAAAAAAAAAAAAAAAAAAAAAAAAAAAAAAAAAAAAAAAAAAAAAAAAAAAAAAAAAAAAAAAAAAAAAAAAAAAAAAAAAAAAAAAAAAAAAAAAAAAAAAAAAAAAAAAAAAAAAAAAAAAAAAAAAAAAAAAAAAAAAAAAAAAAAAAAAAAAAAAAAAAAAAAAAAAAAAAAAAAAAAAAAAAAAAAAAAAAAAAAAAAAAAAAAAAAAAAAAAAAAAAAAAAAAAAAAAAAAAAAAAAAAAAAAAAAAAAAAAAAAAAAAAAAAAAAAAAAAAAAAAAAAAAAAAAAAAAAAAAAAAAAAAAAAAAAAAAAAAAAAAAAAAAAAAAAAAAAAAAAAAAAAAAAAAAAAAAAAAAAAAAAAAAAAAAAAAAAAAAAAAAAAAAAAAAAAAAAAAAAAAAAAAAAAAAAAAAAAAAAAAAAAAAAAAAAAAAAAAAAAAAAAAAAAAAAAAAAAAAAAAAAAAAAAAAAAAAAAAAAAAAAAAAAAAAAAAAAAAAAAAAAAAAAAAAAAAAAAAAAAAAAAAAAAAAAAAAAAAAAAAAAAAAAAAAAAAAAAAAAAAAAAAAAAAAAAAAAAAAAAAAAAAAAAAAAAAAAAAAAAAAAAAAAAAAAAAAAAAAAAAAAAAAAAAAAAAAAAAAAAAAAAAAAAAAAAAAAAAAAAAAAAAAAAAAAAAAAAAAAAAAAAAAAAAAAAAAAAAAAAAAAAAAAAAAAAAAAAAAAAAAAAAAAAAAAAAAAAAAAAAAAAAAAAAAAAAAAAAAAAAAAAAAAAAAAAAAAAAAAAAAAAAAAAAAAAAAAAAAAAAAAAAAAAAAAAAAAAAAAAAAAAAAAAAAAAAAAAAAAAAAAAAAAAAAAAAAAAAAAAAAAAAAAAAAAAAAAAAAAAAAAAAAAAAAAAAAAAAAAAAAAAAAAAAAAAAAAAAAAAAAAAAAAAAAAAAAAAAAAAAAAAAAAAAAAAAAAAAAAAAAAAAAAAAAAAAAAAAAAAAAAAAAAAAAAAAAAAAAAAAAAAAAAAAAAAAAAAAAAAAAAAAAAAAAAAAAAAAAAAAAAAAAAAAAAAAAAAAAAAAAAAAAAAAAAAAAAAAAAAAAAAAAAAAAAAAAAAAAAAAAAAAAAAAAAAAAAAAAAAAAAAAAAAAAAAAAAAAAAAAAAAAAAAAAAAAAAAAAAAAAAAAAAAAAAAAAAAAAAAAAAAAAAAAAAAAAAAAAAAAAAAAAAAAAAAAAAAAAAAAAAAAAAAAAAAAAAAAAAAAAAAAAAAAAAAAAAAAAAAAAAAAAAAAAAAAAAAAAAAAAAAAAAAAAAAAAAAAAAAAAAAAAAAAAAAAAAAAAAAAAAAAAAAAAAAAAAAAAAAAAAAAAAAAAAAAAAAAAAAAAAAAAAAAAAAAAAAAAAAAAAAAAAAAAAAAAAAAAAAAAAAAAAAAAAAAAAAAAAAAAAAAAAAAAAAAAAAAAAAAAAAAAAAAAAAAAAAAAAAAAAAAAAAAAAAAAAAAAAAAAAAAAAAAAAAAAAAAAAAAAAAAAAAAAAAAAAAAAAAAAAAAAAAAAAMjAyMDowOToyNSAxNDo0MToxNQAyMDIwOjA5OjI1IDE0OjQxOjE1AAAAWQBhAG4AbgAgAFAAaABpAGwAaQBwAHAAYwB6AHkAawAAAP/hCyNodHRwOi8vbnMuYWRvYmUuY29tL3hhcC8xLjAvADw/eHBhY2tldCBiZWdpbj0n77u/JyBpZD0nVzVNME1wQ2VoaUh6cmVTek5UY3prYzlkJz8+DQo8eDp4bXBtZXRhIHhtbG5zOng9ImFkb2JlOm5zOm1ldGEvIj48cmRmOlJERiB4bWxuczpyZGY9Imh0dHA6Ly93d3cudzMub3JnLzE5OTkvMDIvMjItcmRmLXN5bnRheC1ucyMiPjxyZGY6RGVzY3JpcHRpb24gcmRmOmFib3V0PSJ1dWlkOmZhZjViZGQ1LWJhM2QtMTFkYS1hZDMxLWQzM2Q3NTE4MmYxYiIgeG1sbnM6ZGM9Imh0dHA6Ly9wdXJsLm9yZy9kYy9lbGVtZW50cy8xLjEvIi8+PHJkZjpEZXNjcmlwdGlvbiByZGY6YWJvdXQ9InV1aWQ6ZmFmNWJkZDUtYmEzZC0xMWRhLWFkMzEtZDMzZDc1MTgyZjFiIiB4bWxuczp4bXA9Imh0dHA6Ly9ucy5hZG9iZS5jb20veGFwLzEuMC8iPjx4bXA6Q3JlYXRlRGF0ZT4yMDIwLTA5LTI1VDE0OjQxOjE1LjYxMzwveG1wOkNyZWF0ZURhdGU+PC9yZGY6RGVzY3JpcHRpb24+PHJkZjpEZXNjcmlwdGlvbiByZGY6YWJvdXQ9InV1aWQ6ZmFmNWJkZDUtYmEzZC0xMWRhLWFkMzEtZDMzZDc1MTgyZjFiIiB4bWxuczpkYz0iaHR0cDovL3B1cmwub3JnL2RjL2VsZW1lbnRzLzEuMS8iPjxkYzpjcmVhdG9yPjxyZGY6U2VxIHhtbG5zOnJkZj0iaHR0cDovL3d3dy53My5vcmcvMTk5OS8wMi8yMi1yZGYtc3ludGF4LW5zIyI+PHJkZjpsaT5ZYW5uIFBoaWxpcHBjenlrPC9yZGY6bGk+PC9yZGY6U2VxPg0KCQkJPC9kYzpjcmVhdG9yPjwvcmRmOkRlc2NyaXB0aW9uPjwvcmRmOlJERj48L3g6eG1wbWV0YT4NCiAgICAgICAgICAgICAgICAgICAgICAgICAgICAgICAgICAgICAgICAgICAgICAgICAgICAgICAgICAgICAgICAgICAgICAgICAgICAgICAgICAgICAgICAgICAgICAgICAgICAKICAgICAgICAgICAgICAgICAgICAgICAgICAgICAgICAgICAgICAgICAgICAgICAgICAgICAgICAgICAgICAgICAgICAgICAgICAgICAgICAgICAgICAgICAgICAgICAgICAgIAogICAgICAgICAgICAgICAgICAgICAgICAgICAgICAgICAgICAgICAgICAgICAgICAgICAgICAgICAgICAgICAgICAgICAgICAgICAgICAgICAgICAgICAgICAgICAgICAgICAgCiAgICAgICAgICAgICAgICAgICAgICAgICAgICAgICAgICAgICAgICAgICAgICAgICAgICAgICAgICAgICAgICAgICAgICAgICAgICAgICAgICAgICAgICAgICAgICAgICAgICAKICAgICAgICAgICAgICAgICAgICAgICAgICAgICAgICAgICAgICAgICAgICAgICAgICAgICAgICAgICAgICAgICAgICAgICAgICAgICAgICAgICAgICAgICAgICAgICAgICAgIAogICAgICAgICAgICAgICAgICAgICAgICAgICAgICAgICAgICAgICAgICAgICAgICAgICAgICAgICAgICAgICAgICAgICAgICAgICAgICAgICAgICAgICAgICAgICAgICAgICAgCiAgICAgICAgICAgICAgICAgICAgICAgICAgICAgICAgICAgICAgICAgICAgICAgICAgICAgICAgICAgICAgICAgICAgICAgICAgICAgICAgICAgICAgICAgICAgICAgICAgICAKICAgICAgICAgICAgICAgICAgICAgICAgICAgICAgICAgICAgICAgICAgICAgICAgICAgICAgICAgICAgICAgICAgICAgICAgICAgICAgICAgICAgICAgICAgICAgICAgICAgIAogICAgICAgICAgICAgICAgICAgICAgICAgICAgICAgICAgICAgICAgICAgICAgICAgICAgICAgICAgICAgICAgICAgICAgICAgICAgICAgICAgICAgICAgICAgICAgICAgICAgCiAgICAgICAgICAgICAgICAgICAgICAgICAgICAgICAgICAgICAgICAgICAgICAgICAgICAgICAgICAgICAgICAgICAgICAgICAgICAgICAgICAgICAgICAgICAgICAgICAgICAKICAgICAgICAgICAgICAgICAgICAgICAgICAgICAgICAgICAgICAgICAgICAgICAgICAgICAgICAgICAgICAgICAgICAgICAgICAgICAgICAgICAgICAgICAgICAgICAgICAgIAogICAgICAgICAgICAgICAgICAgICAgICAgICAgICAgICAgICAgICAgICAgICAgICAgICAgICAgICAgICAgICAgICAgICAgICAgICAgICAgICAgICAgICAgICAgICAgICAgICAgCiAgICAgICAgICAgICAgICAgICAgICAgICAgICAgICAgICAgICAgICAgICAgICAgICAgICAgICAgICAgICAgICAgICAgICAgICAgICAgICAgICAgICAgICAgICAgICAgICAgICAKICAgICAgICAgICAgICAgICAgICAgICAgICAgICAgICAgICAgICAgICAgICAgICAgICAgICAgICAgICAgICAgICAgICAgICAgICAgICAgICAgICAgICAgICAgICAgICAgICAgIAogICAgICAgICAgICAgICAgICAgICAgICAgICAgICAgICAgICAgICAgICAgICAgICAgICAgICAgICAgICAgICAgICAgICAgICAgICAgICAgICAgICAgICAgICAgICAgICAgICAgCiAgICAgICAgICAgICAgICAgICAgICAgICAgICAgICAgICAgICAgICAgICAgICAgICAgICAgICAgICAgICAgICAgICAgICAgICAgICAgICAgICAgICAgICAgICAgICAgICAgICAKICAgICAgICAgICAgICAgICAgICAgICAgICAgICAgICAgICAgICAgICAgICAgICAgICAgICAgICAgICAgICAgICAgICAgICAgICAgICAgICAgICAgICAgICAgICAgICAgICAgIAogICAgICAgICAgICAgICAgICAgICAgICAgICAgICAgICAgICAgICAgICAgICAgICAgICAgICAgICAgICAgICAgICAgICAgICAgICAgICAgICAgICAgICAgICAgICAgICAgICAgCiAgICAgICAgICAgICAgICAgICAgICAgICAgICAgICAgICAgICAgICAgICAgICAgICAgICAgICAgICAgICAgICAgICAgICAgICAgICAgICAgICAgICAgICAgICAgICAgICAgICAKICAgICAgICAgICAgICAgICAgICAgICAgICAgICAgICAgICAgICAgICAgICAgICAgICAgICAgICAgICAgICAgICAgICAgICAgICAgICAgICAgICAgICAgICAgICAgICAgICAgIAogICAgICAgICAgICAgICAgICAgICAgICAgICAgPD94cGFja2V0IGVuZD0ndyc/Pv/bAEMABwUFBgUEBwYFBggHBwgKEQsKCQkKFQ8QDBEYFRoZGBUYFxseJyEbHSUdFxgiLiIlKCkrLCsaIC8zLyoyJyorKv/bAEMBBwgICgkKFAsLFCocGBwqKioqKioqKioqKioqKioqKioqKioqKioqKioqKioqKioqKioqKioqKioqKioqKioqKv/AABEIARgEbwMBIgACEQEDEQH/xAAfAAABBQEBAQEBAQAAAAAAAAAAAQIDBAUGBwgJCgv/xAC1EAACAQMDAgQDBQUEBAAAAX0BAgMABBEFEiExQQYTUWEHInEUMoGRoQgjQrHBFVLR8CQzYnKCCQoWFxgZGiUmJygpKjQ1Njc4OTpDREVGR0hJSlNUVVZXWFlaY2RlZmdoaWpzdHV2d3h5eoOEhYaHiImKkpOUlZaXmJmaoqOkpaanqKmqsrO0tba3uLm6wsPExcbHyMnK0tPU1dbX2Nna4eLj5OXm5+jp6vHy8/T19vf4+fr/xAAfAQADAQEBAQEBAQEBAAAAAAAAAQIDBAUGBwgJCgv/xAC1EQACAQIEBAMEBwUEBAABAncAAQIDEQQFITEGEkFRB2FxEyIygQgUQpGhscEJIzNS8BVictEKFiQ04SXxFxgZGiYnKCkqNTY3ODk6Q0RFRkdISUpTVFVWV1hZWmNkZWZnaGlqc3R1dnd4eXqCg4SFhoeIiYqSk5SVlpeYmZqio6Slpqeoqaqys7S1tre4ubrCw8TFxsfIycrS09TV1tfY2dri4+Tl5ufo6ery8/T19vf4+fr/2gAMAwEAAhEDEQA/APpAsF6nFJ5i+tNm7VFQBP5i+tHmL61BRQBP5i+tHmL61BRQBP5i+tHmL61BRQBP5i+tHmL61BRQBP5i+tHmL61BRQBP5i+tHmL61BRQBP5i+tHmL61BRQBP5i+tHmL61BRQBP5i+tHmL61BRQBP5i+tHmL61BRQBP5i+tHmL61BRQBP5i+tHmL61BRQBP5i+tHmL61BRQBP5i+tHmL61BRQBP5i+tHmL61BRQBP5i+tHmL61BRQBP5i+tHmL61BRQBP5i+tHmL61BRQBP5i+tHmL61BRQBP5i+tHmL61BRQBP5i+tHmL61BRQBP5i+tHmL61BRQBP5i+tHmL61BRQBP5i+tHmL61BRQBP5i+tHmL61BRQBP5i+tHmL61BRQBP5i+tHmL61BRQBP5i+tHmL61BRQBP5i+tHmL61BRQBP5i+tHmL61BRQBP5i+tHmL61BRQBP5i+tHmL61BRQBP5i+tOqtVmgAooooAKKKKACms4XGadUc3agBfNX0NHmr6GoaKAJvNX0NHmr6GoaKAJvNX0NHmr6GoaKAJvNX0NHmr6GoaKAJvNX0NHmr6GoaKAJvNX0NHmr6GoaKAJvNX0NHmr6GoaKAJvNX0NHmr6GoaKAJvNX0NHmr6GoaKAJvNX0NHmr6GoaKAJvNX0NHmr6GoaKAJvNX0NHmr6GoaKAJvNX0NHmr6GoaKAJvNX0NHmr6GoaKAJvNX0NHmr6GoaKAJvNX0NHmr6GoaKAJvNX0NHmr6GoaKAJvNX0NHmr6GoaKAJvNX0NHmr6GoaKAJvNX0NHmr6GoaKAJvNX0NHmr6GoaKAJvNX0NHmr6GoaKAJvNX0NHmr6GoaKAJvNX0NHmr6GoaKAJvNX0NHmr6GoaKAJvNX0NHmr6GoaKAJvNX0NHmr6GoaKAJvNX0NHmr6GoaKAJvNX0NHmr6GoaKAJvNX0NHmr6GoaKAJvNX0NHmr6GoaKAJvNX0NHmr6GoaKAJvNX0NHmr6GoaKAJvNX0NPqtVmgCObtVHUb+30vTbi+vH2QW6F3b2FXpu1cV8VUmf4c6h9n6hoy/+4G+b9KAPKde+JHiPxJqLR6bNPZ25J8q3tch8AZyWHJOBn0qpoXxH8R6JdI/9oS3sAPzw3TGQMPqeR+dM+G7pH8RtIeVlVFkcszHAA8p+tWfiPe+G73xAX8MxYbJ+0SpxFI3+yP60Ae9aDrVt4h0O21OyyIp1ztPVCOCp+hBFaNee/BdJl8DymbOxrxzF/u4UH/x4GvQqADr0pcH0rmPiBqceleEpJJ7eOaGaVIZDPKYoIw2fmlYchBjnHqK83tL+OPwJr0a3ltY6ZBqdg0U+mXMnkRI0yb3jlcA446jjINEdW/67f5jtrFd/wCv0Pb8HOMGggjqMV49fy6VB4Z8TzeFrzyfDm23K3dtO3libcPMZJD7YyQeua6fwQdJbxLqz+EZxcaGYYt00Uhkie5yxcq3ILYI3YP92mlf+v6+XyIvqzuaKo60b5dFujpAY3ojPkhFQnd7ByF/MgVgeEJPF73s/wDwlSTrB5f7rzYrVRuz/wBMZGPT1GKS1dinornVyOsUbSPnaoJOATx9ByayNF8W6N4hu5rXSrmZ7iBFkkimtJoGCsSAcSIuQSD09K15JBFE0jbtqDJ2jJ/KuAS9h8ReKfEuo6BOL+2GhJZrPbtuUzgzkxgj+MBlyOo3D1qW7a+v5P8A4YpRuvu/Nf8ADnoWD6UbSOx/KvMLfxHY6teaHBpd8blrfTbgXLRElY3ERG1m6Bwex571S8EJoeqXOhp4fvTqE0+kMmvTR3DS/ejQKJWHAfO8KODgH0q7PW39b/5GSld2f9bf5nrmD6VBbXkF5532aTzPIlaGTCkbXHUc1wfhy3uNW1a10rUmldPDHmxTlmIE0jArHn+8vlsx+qioPB+keDtD8XahZJb2dnr0d7I1pbvKwlaIqCpVSeVwev1qfteVm/xRb0Xzt+Z6Vg4zjikIIBJBwOprxnwvJPceNLV7m/0Ox137a5vInvJhfzIC2Y2hYbcFMEY44BFdD4W8IQX9u2sz3t4dRg1e7kimeQtsjE0g8kDOAh6/Wn9m4PSXKdJpnjvw3q+oJZWGos80jskZktpoklZSQyo7oFYjB4BPQ10WDjOOK8b0PVbDWPAmjeHNLmjvdai1gTPbQsGe0SO9MjySf3BsBGTjO4DvUWuazFc+PPtFpBYW2pWuqpAd1zK2obFbaWMajYIiOmeNuM1TSUuXzt+Wv4g9IuXb/g/5HtODjODiqVjqcGoXl9bQLIHsZRFKWXAJIzxzyMGvONUu9Lsfiv55uNK128ku4oltFuW+32WRtwkY+UoufMOeQCx9KZ4i0m3ZPGWtkSnULC7jks5PMYCBgq8qB69+tKKcref+a/zCV+ZRXV/o/wDI9H1DWLXTbqytpvMkub6Xy4IYl3M2Blm9lUckn2HUgG/XMxsW+KU/2nbxpMZtM9eZG87H/kLP4V01Lon/AFvYOv3flf8AUKUAnoDSV594h0Gz13xL4g/tQTTR2unxvBEJWVEk2n5wB/EPWplJR3/rS5UVf+vOx6EAT0GaNpPQH8q8d8aaxDe6bpNrqkOnPctoyXcc+qXMsXmSspyIFjBLS5GT9VxVZrVtY1C1uNQluml26RGcSsuA7ssnHqVypz2JrTlbk4rvb8bEcy5Obyv+X+Z7Xg+hpK8O1GRxp+jW+sNpUWjx2BW2fWruWCETCVwcOgOXCBMBj06Zr1zwutwvhbTxd3sN/L5Izc27Fo5B2Kk8kYwM98VEXzR5kD0djVqnqmqW+j2q3V7vWDzFR5FXIj3HAZvRc4ye3U8ZNXKqasLZtFvRf7fspt5BNu6bNp3Z/ClJ8qv2KiruxbByMjkUVj+Emum8G6QdQz9qNpH5u7ru2962K0kuWTREXzRTCiiipKCiiigAooooAKKKKACiiigAooooAKKKKACiiigAooooAKKKKACiiigAooooAKKKKACiiigAooooAKs1WqzQAUUUUAFFFFABUc3apKjm7UAV5pPJt5JMZ2KWxnriqOiahdappsV5dWkVqsyLJEsc5lypGeflXB9uatXv/HhP/wBc2/lVLwz/AMirpf8A16R/+gigDTOdp2jJ7AnFZuk6ncX1xe297aR201pIqMI5zKrZUMDkqvr6Vp1i6P8A8jDrv/XeP/0UtAFS20yLVdb1x7y51D9xepFGsOozwqi/ZoWwFRwOrMenerh8MaeoJNzqoAGSTrF3x/5FpdE/5C/iL/sIp/6SW9TeI5byHw3fyaZaLe3awkxW7dJD6e/rjv0rFRjyttd/zPRq160ZxhGbStHq/wCVGXaWPhu/gnmsdbuLmK3z50kPiC4dYsf3iJcL0PX0p8GmeHrqa4htdYu5pbbidI9fuGaH/eAl+X8a8+t4NUax8TXl3Dd/ZJPDdwhlm0b+zlMgXO3YeWIBOGI7nGcGtXTreC8hiutE0a70ywsdGkhuJLmye288lPlUBwGfHXdyPerdOCjey/q/+X4/fz/W8Q1/Elvbd/3f8/wOsttL8P3tzLb2Wr3dzPCAZYodfuHaMEZBYCXIyPWrf/CL2H/Pxqv/AIOLv/45XGeBYYL248NXGjaNd6fb6fpJS6ubmye3EzOseFUuAZOVZtwyBxzyK9JlDNC6ocMVIBzjB+tOVKEXaxMcZiZJP2j+9mT/AMIvYf8APxqv/g4u/wD45R/wi9h/z8ar/wCDi7/+OVz3hvw34s07XornWNUNxaKG3R/2tPPnI4+RolB/Ou4bJU4644pezhbZFfW8Re3tJfezi9Qk8PWWvWGjxajd3F9dXIgkt08Q3HmwDYW3FPNJxwPTrWiuneHX1NtNTWbpr9RlrQa/cGUDrnZ5uf0rlNHtJjeeHbRfDt9Fe6fqLyalfy2ZRSxEmXEhH7wMTnKkgZGcZFU0XxDqHi6wln065t3g1ZXmhj0YpHDEGxu+1n/WAg8hc9TngZpqnBuKtv8A8AUsXiUpP2ktPN+f+R2w0/w4dVOmDWrn7eBk2n/CQXHnAYz9zzd3Q56VR0o6DqF1NaTX97a3a3MkEVtJ4gufMmCAEsqmQE9ewPSszThd2PxBYaHaX1xa3N7I92t/o7wrAGJLyR3bKN43fdQdQeOBSSeG5Y9Mu7mHSXF+/iWC4EohPmGITRbnB67dobJHGM0RpQbjotf80v1CWLxKdlUe/d9n/kdf/wAItYf8/Gq/+Di7/wDjlcnJrGhxX1zHLY+K0srS6+yT6n/aUxt43+Xri4L4+ZRnZgZ5wMmuyfV5U8Tw6SNLvXiktzOdQVP9HQg48st/ePXFcBcG/m0rxV4Yt9F1Nr3WL6ZIZ5LKRbZY5I0UymYjZgAMcZySMDk0o04N7dP1S/zG8XiP+fj+99m/8jrJ9P8ADltfQ2VzrV1Dd3ABht5NfuFklz02qZcn8KLuw8OafdQ21/rVza3E5Aihn8QXCPJk4G1TLk88cVwnja38Q3c2pWFpYXW+BYltfs2imf7QoC5f7UeEPX5Qcj0rc8TLc23jQXuiW19dX0ggSS3n0d5rWQKxwVudu2IgMxJB6gZpqnBpO27D63ibfxH97L+/QIfEF/pmo317YC1MKxy3HiC5QTtIu7aAZByMdMmrWtWGnaStrHH/AGxdXd5OIbe3TWbsbj1ZifMOFUAkn6DuKy9U8NDUNb8YXd3pHnyXFhDDbO0RbfiM5VD3Ib05q87PaeLvCk+olkWXT5rRTIMYuGETbT/tEI3/AHyaSpwb5bdv1/y/EqeLxCelSW3d9l5+f4Gx/wAIvYd7jVc98axd/wDxyl/4Rew/5+NV/wDBxd//ABytiij2cOyJ+t4j/n5L72c5e6X4f0yMyalq93ZoBktca9cRgDOM5aUdyB+NF7pnh7TbRbrUdYu7S3cgLNca/cRoxPTDGUA1DqGhxaj8RYLu+04XNtFpUsaySx7kDtIny88ZIzXJumt2Xg/wppz6fcxItgEnl/sdr+SKQAARtF/AD/eNLkgo3t/Wv+X4/eLF4l3/AHj0832R2Uul+H4BCZtXu4xPjyS+v3A8zOANuZec5GMdc0x7Hw1Fpv8AaMmuXCWOcfam8QXAiznGN/nY6+9efReFtTvfDWnR6ro9zNcRaXcQssluQUZr2MhcD7pKAkAdAOKuX+iaxaW8Ulva3FtY2+sXzvHFpX2wqrufLdYOrL7gHHWqlSgm1Zf07DWLxLv+8lp5vtc7+Hw7pVzAk9te6lNDIu5JI9aumVh6giXBFSf8IvYf8/Gq/wDg4u//AI5VTwJYfYPDCr591KJZ5JgLmwazZNx5UQnlRnJ/GujodOHYlYzE/wDPyX3v/M5vVdDtdP0ua7gXWLtoRvaFNZugzKD82P3nJAycd8Yqa00HSb6ziurW71SSGZA6MNYu+Qf+2tbks0dvC807qkUal3ZjgKoGST+FYHgSGSDwVYLJG0IYM6RN1RCxIFSqcLvT+v6/Jj+t4j/n4/vf9f8ADlnwsX/sRkeWWXyr27iVppWkbalzIqgsxJOAAOT2rYrH8L/8gif/ALCN9/6Vy1sU6fwL0DF/7xU9X+YUUUVZzBRRRQAUUUUAFFFFABRRRQAUUUUAFFFFABRRRQAUUUUAFFFFABRRRQAUUUUAFFFFABRRRQAUUUUAFFFFABVmq1WaAI5u1Vbq2hvbOW1uUEkMyFHQ9GB6irU3aoqAPCvEfwf1mwvHk8PgX9oxJRN22VB6HPB+tVtC+EPiHUbpP7ViXTbYH5zIwZ8ewHH6179RQBU0rTLbRtKt9PsE2W9um1B3+p9yeat0UUAHTpVHWdJh1uwW0upJERZ4pw0ZGd0ciyAcg8ZUZ9qvUUBexR1rSYdc0qSwupJEjkKktGRuGCCOoPpV8nJyaSijyDrcKKKKACgnPWiigCO4iFzbSwSFgsiFCR1ANVrTTRYaBb6VaXM0a29stvFPhS6hVChuRtJ4zyMe1XaKA63M3RNFj0S1kjW5nvJ55DLcXVyQZJnPc7QFHsFAA7CtLJxiiigBcnGM8UlFFAC5J6mjJ9aSigBcnGM8UmaKKAM/UdGt9RvLG8dpIbqxkLwzRHDYIwyH1VhjIPoD1AIzrnw5rE91LLD411i2jdiVhjtbIrGPQFoCcfUk10NFAHNyeGtZd8r451qMYA2ra2JHTrzB36/jW7ZQS21lFDcXct5Ii4a4mVFeQ+pCAKD9AKnooAXJ9aTNFFAC5I6GsXVdF1LULzzrPxRqWlx7QPItoLV1z65kiZs/jitmigDm28M60VQDxzrSlRgsLWx+bnv/AKP+HFWf+Ece50g6frOs32qxtMJJHnWKMyKMHy28pFBTI5GOeQcg4rbooAAAAABgDgCiiigAooooAKKKKACiiigAooooAKKKKACiiigAooooAKKKKACiiigAooooAKKKKACiiigAooooAKKKKACiiigAqzVarNABRRRQAUUUUAFRzdqkqObtQBA6LJGyOMqwwR7VV03SrbSLbyLLzhFxhZZ3l2gDAA3E4HsKuUUAIRuUg55GODiqen6TaaX5xtBKWnYPI807ysxxjqxJ6CrtFAGPon/IX8Rf9hFP/SS3rYrHk0CX+0Lu6s9a1Cy+1yCWSKFYGXcEVMjfEx6Ivej+xL//AKGfVf8Av1af/GKyi2tLfkd1SNOo1JVEtF/N0SXY0b6zg1HT7iyvE8y3uYmhlTJG5GGCMjkcHtStZwNYmzKfuDH5RTJ+7jGM9azf7Ev/APoZ9V/79Wn/AMYo/sS//wChn1X/AL9Wn/xiq5nty/l/mZ+xh/z9X/k3/wAiaVpaw2NlBaWqbILeNYo1yTtVRgDJ5PAqasf+xL//AKGfVf8Av1af/GKP7Ev/APoZ9V/79Wn/AMYo55PVp/h/mJUKaVlUj/5N/wDImxRWP/Yl/wD9DPqv/fq0/wDjFH9iX/8A0M+q/wDfq0/+MUcz7P8AD/MPYw/5+L/yb/5E2KKx/wCxL/8A6GfVf+/Vp/8AGKP7Ev8A/oZ9V/79Wn/xijmfZ/h/mHsYf8/F/wCTf/ImxRWP/Yl//wBDPqv/AH6tP/jFH9iX/wD0M+q/9+rT/wCMUcz7P8P8w9jD/n4v/Jv/AJE2KKx/7Ev/APoZ9V/79Wn/AMYo/sS//wChn1X/AL9Wn/xijmfZ/h/mHsYf8/F/5N/8ibFFY/8AYl//ANDPqv8A36tP/jFH9iX/AP0M+q/9+rT/AOMUcz7P8P8AMPYw/wCfi/8AJv8A5E2Krahp1rqlr9nvohLFvVwMkFWU5BBHIIPcVQ/sS/8A+hn1X/v1af8Axij+xL//AKGfVf8Av1af/GKOZ/y/l/mHsYf8/F/5N/8AIkeo+EdO1O9e6ubrWEkfGVttZu4E/BEkCj8qrHwFpJx/pviDj/qYb7/47V3+xL//AKGfVf8Av1af/GKP7Ev/APoZ9V/79Wn/AMYo5n/L+X+Yexh/z8X/AJN/8iXtO0+HTLFLS3e4kjTOGubiSdz9Xclj+Jq1WP8A2Jf/APQz6r/36tP/AIxR/Yl//wBDPqv/AH6tP/jFHM+z/D/MPYU/+fkf/Jv/AJE2KKx/7Ev/APoZ9V/79Wn/AMYo/sS//wChn1X/AL9Wn/xijmfZ/h/mHsYf8/F/5N/8iO1fw5Za3NHLeXGpxNGu0Cz1O4tVP1ETqCfc1Q/4QPSduPtviDGf+hhvv/jtXf7Ev/8AoZ9V/wC/Vp/8Yo/sS/8A+hn1X/v1af8Axijma+z+X+Y/Yw/5+r/yb/5EbbeFNMt9PnsWa+ure4ZWkS91Ce5ztOQMyOxAyOQOD3rZACqAoAAGAB2rI/sS/wD+hn1X/v1af/GKP7Ev/wDoZ9V/79Wn/wAYo5n2f4f5i9hT/wCfkf8Ayb/5EPC//IIn/wCwjff+lctbFU9K01NJ08WqTy3H7ySVpZtu52kdnYnaAOrHoBVynBNRSZOIkp1pyjs2/wAwoooqjAKKKKACiiigAooooAKKKKACiiigAooooAKKKKACiiigAooooAKKKKACiiigAooooAKKKKACiiigAooooAKs1WqzQBHN2qKpZu1RUAFFFFABRRRQAUU2SRIY2kmdY0XksxwB+NJHPFMXEMqSFDhtjA7T1wfSgB9FQ3d5a2Fubi+uYbaFTgyTSBFH4nim2V/Z6lB5+nXcF3Dnb5kEqyLn0yDjNK6vYV1exYooopjCikJABJOAOST2pIpY5olkhdZI3GVdDkMPUEUAOooooAKKKKACimJNFKzrFIjtGdrhWBKn0PoafQAUUVTbVbJNZj0ppsXskRmWLaeUBwTnGP1oE2luXKKKr319b6dZvdXsnlwx/ebaTj8BzQNuyuyxRRVWfU7C1keO5vraF0ALrJMqlQTgEgnjJ6UXE2lqy1RUEd7bzX09nHJme3VWlTaflDZxz07Gp6B3uFFUb/WbLTbmCC8aVGuGCxsIJGTJ6AsFKqfqRT9R1Wz0lYW1CbyRPMsEZ2k7nY4A4Bpcy7+XzFzJXu9i3RRULXkCX0doz4nlRpETB5UYBOencUxk1FFFABRVbUNQttL0+a9v5fKt4V3SPtJ2j6DmpoZo7i3jnhbdHKgdGxjIIyDRcV1ew+iio5547a2lnnbbFEhd2xnCgZJpNpK7GSUVXsb631OwhvbGTzbedA8b4I3D1weasUxJpq6Cio5Z4YApnlSIOwRS7BdzE4AGe5PaobnU7CyEhvL62txEoaTzZlTYDwCcngHB/Kk2luF0i1RWbD4i0S4WRrfWdPlWJd0hS6RggzjJweBk1be9tYpTHJcwpIsfmFGkAIT+9j096LpiUovZk9FIjrJGrxsGRgCrKcgg9waWmUFFZ8OuWNxqj6fA80k8bFXKW8hjVgMkGTbsBx2zWhSTTV0JNPYKKKZHNFMGMMiSBWKsUYHBHUH3pjH0UUUAFFUYNZsrjVZdNjaUXUS72SSCRAVzjKsygMPoTV6kmmroSaewUUUwTRGZoRIhlVQzRhhuAPQ49KYx9FFFABRRRQAUUUUAFFFFABRRRQAVZqtVmgAooooAKKKKACo5u1SVHN2oAiooooAKKKKACiikZgqlm6KCT9KAFoqra6ja3kmy2kLt5ay42MPlYkA8jvtP5VJd3UNjZy3V0/lwwqXdsE4A9hzSbSV3sG5NRWZpviLTNWnMNlNJ5oQSCOa3khZkP8Sh1BYe4z2rUII6ihNNXRMZRkrxdxKKXB9KSmUFFQ2t5BeI72z71jkaNjgjDKcEc+4qfBxnHFACUUYPpS4OM44oASijB9KhF3C1+1mHzcJGJWTaeFJIBz06g0eQE1FFGKACiqd9qP2G5s4TaXU/2qXyt8EW5Yv9pz/CPeroBPQUbiur2EopsriGF5WBIRSxAHPFQ6fex6lpttewBljuYllQOMEBhkZ9+aAur2LFFV7i9itZFSVZiWVmHlwPIMKMnJUHB9B1PbNQjVoG1K1slSXzLqBp4yU2gKMdQcEHnpildN2ByS3/AK/q5eopcH0qhrGpnR7BrtrK4uo4+ZBBsyg9TuZePpk0pSUVdjL1FU7vUltdGbUUtrm5VYhKIbePfIwOOAvc81ZhfzoUkCMu9Q21hhh7EetV1sJNPYfRVW9v47B7ZZlcm5mEKbR0Ygnn2+U1aIx1oH5BRRSMSqFtpbAzgDJNGwC0VU0u/wD7U06K7Frc2vmZ/c3UeyRcHHK9ulWyCOtAk01dBRQBk1T03UP7SimcWl1a+VM0W25j2Ftv8QHdT2NK+tgvYuUUEEdRUN5dwWFlNd3b+XBAheR8E7VHU4HNMZNRVObVbO3lt45ZSHuUZ4VWNmLhRk4wPTtVG18W6ReXEkEEl15kQJk8ywnQR4Xd8xZAF455qXKKdmyOeN7XNqis2PxDpcsdjJHdgrqB223yN+8P0xx+OKt2d7b39v59pJ5kW9k3YI5VipHPoQRTTT2GpRezJ6KKy59bEesHTrWwuryVFVpnh8sLCG6bi7LnpnAzQ2kNtJXZqUUuD+HrRg4zjimMSioY7qGW8mtEfM8Kq8ibT8obODnp/CfyqcAnoDQAlFLg+lZl5rIsdVtLKayuSt2/lx3K7PLDeh+bd/47SbStcTaSuzSopQCegoAJ6DNMYlFQy3cMF1BbSvtmuN3lLtPzbcZ/mKmouAUUUUAFFFFABRRRQAUUUUAFFFFABVmq1WaAI5u1RVLN2qKgAooooAKKKKAOZ8fGb/hGiIIriTdKin7PdeQRlgOT3B9Kq+ALa5ji1K4u47uPzLpgguL4zggYH5jHXvXWywxTpsnjSRcg7XUEZHQ80RxRwrthjSNck4RQBk9TxWahapz/ANdP+D95jKnzVFO+3/B/4Bz/AI3KjQ7cuVC/boc7unU1mahqFtY+JdYvLEv9mWxRLlrTAzO0gCDPQNgnnsDmuxubS3vYDBe28VxC3WOaMOp/A8VHFpthBZNZw2NtHatndAkKiNs9cqBipdNttr+tLDlFuV15fg7nIaBfajJfa1pqXEkDR2ySxG7vhdmJ24zv7D27Vo+ErllmuLG8N2b1I0kkM18bqNgcjKtkhckH5fpW3FpGmwW7wQadZxQuu140t0VWXrggDBHtT7PTrLTo2TTrO3tEY5ZbeJYwT6kACnGDUk79P8/6/pWiFKUbXe1/6/qxJc/8ek3/AFzb+VYvh6+t4PBVnIZ0/c2QdghDMoC5Py1vkAggjIPUGqVtoulWUxms9LsreVgQZIbZEYg9RkCqkpXdjZ35k0cXpeo3d34it7SKe+gh1K1lbM2oidhgZVlUf6s+1aGm6rqN/GHWWTzNIs5Fuo+f31yMqAw7/c3Y/wBsV0S6PZ2ccjaRZWNlcnJSVbVcBiMZIXaT+YpNH0v+y7eXfL59zcSme4mCbA7nAyFycAAAAZPA6moVNpct+n49Puv+RjCnOL1d9f8AL9V9zZzOm3Mkc+iXNtrF1fT6hu+1QSTl0C7SSwQ/c2kdsUWWtyT2/ha3bUXa5upnW4US/O4Ctnd9DjrXW2+m2FpcyXFrY20E8v8ArJYoVVn+pAyaSPS9PhuGuIbC1jndt7SpAoZm9SQM55PPvTjBp/15af13D2ckrJ/139f69eY8PaXa2/iXVt2o3/nQ3YKxSXzkSArwWUn5u/5V2DqXjZVJUsCAR2qvLp1jNeJeTWVtJdR8JO8KmRPoxGRVmnCHLDlNYR5W7HBReIr2TTILBrhhK0qQC73He8n2gKVz/uVseYlr4/ijXUJWSe1dngkuSyK4OBtUn5foK3RYWa7dtnbjbIZRiJeH/vdPve/WoW0PSHuzdPpVi1wW3mY2yFy3ruxnPvS5Zcyfn+n/AA/4EckrWXl+D/yOfgsdT1bUNXkj1q5gNrfKtrGrkRoAqMwYD7wOcYPAyfWsnxPMt7Ya1Lf6lPHLa3S28FolwUjIBGMoPvZ6816EkUcZcxxqhdtzlVA3H1PqeKgk02wmujczWNtJcFdhmeFS5X03EZx7UKnZq39baiqUuaLj3v8Ar+V/wLR6mvP/ABfrDx3moSWTXaSaeqBpBfCGNWIyB5R/1v8AkV39VJ9K065uhc3On2k1wBtEskCs+PTJGcU6kZStZl1IuceVHH6lBNcaz4hvYr+6tHtrCCZFtpSgLhXI3Y6jjoeOamumvNSur/dql5bJb6dFOiW0pj/eFc7iR29uhrsDa25MhMER81QsnyD51HQH1HJ4oFtACxEEQLqEb5B8yjoD7e1TOnfbT/hn/mvuJjTtv/Wpy+sagLnwpolxdSxrNPNayuCwHJGScenNW/FUkcR0+7j1CWF1vIVCR3JVJEaRQdy5wwxWpc6JpV55f2zS7K48tNiebbI+xf7oyOB7UT6HpF0Ixc6VYzCJdkYktkbYvoMjge1U4vmbXe/5f5C5J8tn2S/4P4mTrEpvPElpp02oS2Vi9s04e3uDC0z5xjeD0AwcZ5zUWo6ct14m0m1jvruOJbKbMkU58yQbk/5adevcelb8+l6fdWcdpc2FrNbR42QyQKyJjphSMCpY7W3h8vybeKPyl2R7EA2L6DHQe1L2d9/63/K5Tg2231t+hmeFLqa78M2kl1K00oDIZHOWfaSMk9zxVTxBqd1pWsWr2paVp7eSOK2ZjseXcm0kewzz6ZroIoo4IxHBGkaDoqKAB+ApJIIZZI5JYY3eI7o2ZAShxjIPbj0qrS5Vrr/Vy+X3bHGT3bal4Y1jUm1O4ij89mtDFcmPaFGNo55GR0qfX9Uuv7L0SK0eR0vMCaSC7EDEiPdt83+HJ/PGK6SXR9MuLdYJ9Ns5YUYssb26MqsepAIwCfWlGk6aLA2I0+0FoTk2/kL5ZPXO3GKz9nLVX3t+H+Zk6cn+P4lHwv8A2gNJZdUOWWVhCWuBO/l54DOOpHrVvWYo5tIuFluZbYbCRJDOYmBAyPmBqxa2dtY24gsbaG2hBJEcMYRQfoOKLuytb+Dyb62huYs58ueMOufXB4q5RbhymkI8sbPU5A311c+CfD/2fU5Y57i4giluI3BfDNg598etbPh4S295q1g91cXMVrcKImuZTI6q0atgseTyT19a0bfSdOtI9lpp9pAm8SbYoFUbh0bAHUetWVijR3dI1VpDl2CgFjjHPrxV/a5u/wDwP8jKnSceXmeyS+6/5nOeOPO/svT/ALL5Ym/tK28vzc7d3mLjOOcVDoi3zePtUXV/sjy/YbfH2ZW2bd8n97nNdRLDFMFE0SSBWDKHUHDDkEZ7j1oEMSztMsaCVlCtIFG4gdAT1xyanl1v/W1ip0uaanft+Df+ZwtrbxT/AA98lo0KzaiI2BGMg3AGKhv7K6sb7dqLKbmXS7mMlWzuVAoU59xzj1JrvRaWyxCJbeERht4QRjAbOc49c85p0ltBMwaaCORgpUF0BOD1HPY+lRGnyxS8rfhYJU+ZW9PzuUtCnhl0LT1imjdhaRZCuCR8gq7PHJLbvHBMbeRhhZQoYofXB4P41Xs9H0zTpGk07TbO0dhtZoLdIyR6EgCrlbP3tyqacYKL6HFeE49Ss9H1a8OpSXnlz3O23MCKHkHRsgZycdOlM8LT6xc31pcmSZreeJmuWuNSWdWOMgpGPuc9hjiu1ihigUiCNIwWLEIoXJPU8d6rRaRplvdvdQadZxXD53TJbortnrlgMnNYxpuPLrskvuX6mbpPSz2bf3v5/wBM5rRZZ4Ncay1i4u5bm7Ewjnh1AyQsAc5EYP7ohSAD6g07wnpttaXF+39oXrXEN5MPImvXZSM8FkJ5PfNdJaaTpunzPLYadaWsjjDPBAqFh1wSBzStpli94bw2duLsrt+0iFfNAxj72M0RpuKT6oapbX73OF0GfUNY1rT5zd6srrPPJeBrhltpEDERrGucHtwB2Oal0S91vUNTtryNpstdFbgS6ipjEecMog7EDp3zWjYeBvst5ayS3FiUtZTKstvp4iuZDzjfNvO7rzwM10Z0nTTf/bjp1obvOftHkL5mfXdjNRTpyXK3pb/gf8MYxpTa101/ruZT3EH/AAsOFTNHn+zyuN4znzOn1rn4L7W7/WpZ7bzllivvK2PqSpEsYIypgPUkZ569K7H+w9I+1/av7KsftG7f532ZN+713Yzn3qSXSdNuL5byfT7SW6UgrO8CtIMdMMRniqVOWl3tf8Xf/gG1SnOd+mv6W/4Jwz3Goat4gljivNVhlTUygaKdo7X7OnGMA4zkc8ZJzWn/AGTar8QLvz9S1CEtaxyIPt7pu+Y5HXkDjj3p0vgXzrx2lubJonuTcGb+zx9sGW3bRPu49M7enFdNdadY3zRtfWVvctEcxmeJXKH1BI4qKdJ2i5LVP9Lf8H1IVOTcuZbvT7yzRRRXUdQUUUUAFFFFABRRRQAUUUUAFWarVZoAKKKKACiiigAqObtUlRzdqAIqKKKACiiigArJ8URNN4YvkSG3n/dEmO5BKMMe3Oa1qKmceaLiG+h598P9Ca11e5vJrHTodltAitbo4ZWKbj19Q3PuBXVeK+fCOp4Gf9HbpWvnNFRKmnTdNdb/AImVGmqUeVHDJqcGq3ej3Gjbr0aVZySXUkGRjMWBED/eJGce1Z/he7jk8X2kliljBHc28v2n7CJDggZAkLcFgea9KJJ6mgknqTQ4Nz52+/4/1+Bn7B2WuzXTtb/L8Tg/CkllB4leCzNhqkkqyM+o2wPnKN2f32eOc4GP7td3Skk9STSVVOPJBR7GsIciZy/hzW9MhuLrTZr6FL19QuNsDHDHMjEcfSuYbUFufF1nc21vZ293/aSxTBfMa7EZbafMP3QpB/UV6huOMZOKQklSNxHH5VHs3eLb+H9Lf5fiROlKcXG/Xt6nF2Vo8mtjw4+8W2n3Rvc5yGibmNc/UsP+A1mkWjzvvV/+Es/tEFM5EoTeOn/TPy8+3Wu303SY9Oknma4nu7m4IMlxcFd7AdF+UAAD0ArQycYzxQqe3l/wPxsrX9QdPmWv9b/5nnWr6lFb2OraZI8n26TU/MSFVJbYXyH/AN3Her2p6X4bsfHj3Gs2VpDHdW6tFLMnyvMH55/vcrXb5PqaASOhxQqVlG/2f8rf8H1CVLmbb6+Xm3+ogxgY6dq4DUNRutLfXbWDebZZZGn+XcR5sSiML6fPu6V39Lk+tXKPN+RrJNrQ4TWp9E0rVPDzXM8EV/bvGJZGJ3rHt7n0q7d6NaeIPFl6t6XltTp0OxNx8slmkw+OhYdvTNdcGI6E0man2ad+bq7/AHq39eZn7Pvtp+BwmtQadDqZsfEe+9iisAtgsyFvNk6HaB1foK6bwurJ4R0hXBDCyhBBHQ7BWsCR0NJVQjy38/8Ag/5jVNKfN/XT/I4rxvdW7aja2N7a2LxmF5Ek1DeY2bIG1FXq/P5ZqnYWCa5L4Zj1mN7hDpchkWTOGPH3vX8a9CBI6GkyahUldt63/wCD/mTKjzSbb7fg0/0/E4PTtPj1E6BZ36STWyxXStE7Ha6rJhVb1A44PoKcNQttP+GdxBfXAh+ae3t1kJyQrkKo9cACu6yaXJ9TSlS5oySe5UafK010OK1/UNBvvh0JLqe2mX7Ntty3P75Y+i/7QqTWL6z1HQNKm+0CbRTKFv3jJK7QOjf7OetdjuPqaMnOcnNaSi5Nt9bfh/X3E+ydrX6W2/4Jxt/aaJfaTpFvoixHTn1IbhaEhT8j5HHr0NaPha3SxuNYsraPyrWC8PkxAfKgIyce1dDk+tJSjBKV/wCun+RappNPt/wf8zB8WS/Y7OyvwpZrW7VgB3JVlA/Mise0nt7u81OfxS0flWtslrc+cu2Msx3dPwArts46UuT60ODb3/q1glDmd/6/rb+med2moC4+F/kaLMk0kDBLhF3Hy4y5zkDnGMdO1angaOFZL57C80x7NgmLbTd+yJufm+boSPT0rsMk9SaCSepzSjTcZczf9f1+JCpPmi29vL/gle8a2SxmbUCgtQh80yfd298159Y32mv4E8TWOkTx/u2nkhihJysZVQCvtmvSKXcfU1XL71/KxVSm52t0/wArHL6RplvpHisRWEbRxz6erzZJPmOGPzMT1b3q74wBbwXrAUEk2cmABn+E1tUU+X3eX1HGCirI4qGy1C28VeG3vdSkvkMMu1TbpGI/3fqo/nVkFkm8ZNyOOCR1/wBHFdZmjJqZU01b1/EmnSVPZ/1axwsuiyWEek3LSCSNr63MMaKf3YZgWz+NX/B+t6YtkNLa+hF/9ruR9nJ+f/XOen05rq80u4+pq7Nbf1t/kJUmpKSfSwlcfouiJF451dze6mwh8ll33bkPlOjf3gPTtXYUVLgnJS7GkoKVrnmcSyyeKCby602y1X7eCjzmUXJj3DCr/CVZcjHTk1fu5rG08dmdWsdWupLlVWEgm6tjjBCdtoxn8a77JxjJxRk4xk4rONLlUVfb/gf1cxdC99d3f8/8ziJNM8Nad47uG1SztIHuUhktHkT78oZtxU/3slf0rn/EAstR8UalZ6p9kWVruIQ3lxcBGt4wBlQnUg+3BzXq4JHQ1gXHhSK4lugNSv4rS8kMk9nG0flyE9eShcA+zCplSasklZf8D+r/AICq0eaLUer7eT+85LX4t/iW9ju59NsZg0Y0+e880PGgA2mEr8v3s5/Wt7xNrWnWeq6HDeX8KTQ3KySgnou37x9Aa6yNRFGscQ2ooCqo7AdKcGI6E1fsmlo+qf3O/f7y1Sa5mnv/AF/wx5x4sYXHiGb7fNpsEDWyHT7i/MgCk5JeMrwGBwT3+7VLxU8UuqyWWsNaXZOnxxwXFxcCIQuesig8n1yOa9UBI6E1i3nh0XN9cXVtqt/YtdKqzpbNHtkwMD76MRwexFZVKDasur/z/wA91qRUot3a626f56M53XNG8PWs+g3mo2lrJYLGYZbpkyhGwbMnsODiu0svsv2GH+z9n2XYPK8v7u3tils7WHT7OG0s08uGFBHGoJOFAwBk81NXSoqMpNdXc1hT5dbLb+tQoooqjUKKKKACiiigAooooAKKKKACrNVqs0ARzdqiqWbtUVABRRRQAUUUUAV769i0+ze5nWRlQfchjLu59FUck+wrGHjjRF0O41a7lnsra1mSG4W8t3hkhZmAXejDIB3Dk9qk8Yadq2qaB9n0Kby5/ORpEFw1uZox96MSqC0eePmAzx71wl74e1bw74V1W5uYIfOvNT06S3tm1Oa5KlbhBsaeXLHkj5sYGfu8ckdXr5fmiraxXf8A4J2yeOdE/su9v7l7qyisCouEvLV4ZEDY2tsYZ2nPB6Vc0bxLp+uzXENkLmOa22l4rq3aFirZ2uAwGVODhhwcVxfimw1hPDeu67q1vaQX1ylvDDZQXLSIio4xulKjJJJ5CDA45xmuo0TT9Yk16+1vXoLWzuJoUtobS1uGnVVUk7mcquSS3TaMY6nPD6X/AK2M7u9v63N6dJJbeRIJvIlZSEl2Bth9cHg1heFNRvZdCupNbvUupbO6mie5EIiDKncqOBxVrTJfESeHDJrFrp0mtLuIgtZmSB+flG9gxHHU4NYGlaZ4tTw7rllNbWOlXl0ZprO5tr8z7ZH6AgxLjH97n6VGqk/T8bq36/1YvovX/P8A4BqW/jfSZ470vFqFrJZQ/aJYLqxkilaLON6IwywzxkVfk8Q6ZHdWkD3IDXdq95E2Pl8lApZy3RR869a4/wAOeGL7RNduNa8Q+RY2P9mm2m+0a1Pe7TvyWMk2AqkdgAB70eGPDx1vwprEclypguoJdK064VMqtohcIwU9eWI9GCKar+vz/wCB8r/I0/r+umv4HRad430fU7loIxe27+U00f2uzkhE6L1aMsBvGOeO1XB4k05ksGjaaQ6javd2ypCzNJGqqx49cOuB1Oa5+20HxBql3p516GxsYtKt5I4DaXJm+0O8Zj3MCi7AAc4BPPemeH/D/iSDVvD0mrw6dBa6LYS2X+j3DSPOSIgJOVAUHyz8vOP7xzxVle39df8Agff9yW+vn9/9X1/p3PC3jtPEl5PbNpGq2rx3MkSSS6fMkQVRn53YYVj6H2rrK5rQ7DW9H1q+tWs7ObSrq7kulvBdlZU3AfIYthB5HXeOvSulpPZWEr31GCeEttE0Zb0DjNSDlhXE2Hwv0vT/ABFHrEVzmaOYzBf7K09Oc5++tuJB9Q2feu2BwRS6D6nGeHvHtrezpYai0zXcl5LarNHat9nV1LbY2kA2h9o6E5OR61LZePY7rxVe6O2jawogkSNJhpsxUkjJLnbhRnoehHNEXhi/TQrOzZoPNg1YXrfOceWJd/HHXHarTWWtaf4yuL/TbOzvLDUFi89pbswyW5Qbcquxg4wAeq1EL8sb/P7l+twl8Urf1q/0sV5viT4bgvJLZ57ovGzKxS0dl+Vwr/MBj5SVLegIJ4NSX17qtn4/0eBNRWTS9SjmBtDbKChSMMGEnU5PasK68CavMkwR7X57S+hGZD96aeKRO3TCHPocda0tZsvFE3i3SL3TtI06ez0wSDfLqbRvLvQKfl8k7cfU59q0p2tFvdrX7mPaUl0Oyrh7rxZ4kjutZurLTNNuNL0e5MUyec63MiL94rxszjoCa6a6bWhr9iLJLI6SUk+2tKW88Nxs8vHGOuc+1crPoHir7Tr2n2UOnwWOsXLSf2ibtmlgRhg4h2YLY6fPiofNfTs/vut/xBW69/wsaWreJZBr/hy1024eG31CQO8kljI8dwjRsyosoG1H+XdgnoK2hrtgb7ULMyss2nRrLcBkIAVgSCD/ABdO1c34g0rxCLrQYPD2k2NzZaNMkyPdakYXk2xPHs2iJscMDuz26Vc8Q+HL3VtStbm18uNbiD7HqKmUjEBIZtnHzNkYHT+lW0vs+f8AwBLZc3Zf8En1TxDNLpml/wDCPpuu9ZKm2NwhXyoyoZpGU88KRx6sKs6x4ksdBa2t7wXV3dzqSlvZWrzyuB959iAkLnv05ArP8U7dL1rQ9fkRjaWTyW1wU6QpNtAkI9AyKD/vZ6Cnatp+r2/iaLXvD1tZ6i0lobWW3ubowDbuDB1kCv6Yxt5znPFL02u/y0/T7w/O36lfVfG0Wj+I4YbuO7a1n04XSW0Nk8lxu3NuJQDcAABnjin+KfE72/hi1vtDuJIjevEYrv7DJcRRoWGfMCg7MjIyehq8NMvpvEX9pzpDEJNMFs8ayl9su5iQDgZHzdePpWHqGh+I4fAdpoOmWFhdzY/fyTX7QrGRLvGP3bbsj6Y96lXUfO/6v9LA9XZdv0X/AATU8dXeq6b4Zk1PRtRWzktCryI1ssonBZRt5+71PIrS1fX7LQ7W3kvhPJJcMEht7WBppZWwWIVFBJwAScdADWL4stfE2teDv7PsdJ0/7XdoFuFl1JlSAggja3lHfnHotPv7TxHJNo+sWmm2B1G1SWGewkv2EexwOVm8vkgqvGzuavp8ytGl8/0t+pX0jx7aLoMN9r8slu95f3FvaxtbMsjbHIVCnUPjjB5JrSHjbSDoqakovGEk5tltRaObkyjkp5ON24AFiMdOelZmk+E9TtjpD6i9nLLaahdXc7RZC/vCSpQHJB59ePWpvGPhSXVls7nSIV862uGmlt0vZbH7TuXaSZocMrDC8kMCBjHQhPd/12/4JCvp/Xf/AIBebxtoaaPBqclxIkE0/wBmVGhYSLNnHlMmMh88bTzmruj6/Y63YvdWplhWOUwyx3cRgkicYO1kbBU4IPPYiue0/wAK3UOnaWsdjHp8sGpi8uY21OW9LDPLebINzE+hp114FGsRa3b6rLGkF9qi3sJS3guDtEEceCs8bqDlW7Zxjnk07b/12/zf3DWr/rz/AOAanjDV59K8FatqWlzRi5tbZnifAcKwHGR3rR0q3vbXTo4tTv8A+0LgZLXHkLFu54G1eOK4fXfCtn4Q+E/iS3s5g8cts8jMbS2t8cekEcan6kE13lje2moWaXGn3UN1A3AlgkDqcdeQcU7K2g38K+f6FiiiipEFFFFABRRRQAUUUUAFFFFABRRRQAUUUUAFFFFABRRRQAUUUUAFFFFABRRRQAUUUUAFWarVZoAKKKKACiiigAqObtUlRzdqAIqKKKACiiigApk0nlQvJtZ9oztQZJ9hT6z9e0x9a0C902O6ktHuYjGJ4zymf84PtSd7aDja6uY8fjXy4dUOq6NdafNp9m98IXmilM8Sg5KlGIB4AwcHkUWXjZbiVheaNfafG9q13avcbc3MajJwoO5Gx/CwBrmT8PpfD2g+Ir9V0lZZtDuLQWujaX9lRzsyGI3MzMcEck9sY5zrW3h/V5NLOqeIL21uri3014bOCytGhWMMnJbczMzduCB7U5aRv/XW36fj8izsvX/5H/NmlofjMaze2kMuj32nxX9t9psprnbidQFLDaDuQjeOGAz1GRXTHkVxXgzQNXa10PU/EV7aymy01IrS2tbRofL3om4yF2YswCgcbR97jpjotLs9WtbjUX1PVUvo55y9mgtxH9mjxwhI+/8AU81Ukk2v63/P8CINuKbMzwzHPa+I9esZNQvb2GGSJ4vtk3mGPemSAcDAz2p8XiyT/hIYdMvtFu7KO6Z0s7qSSNlnZVLEbVJZOAT8wFQ6LoXiSz8QX19quq6VNBfKokjtLGWKRSq7VKs0rAfiD+FYehfDJ9E1zTtWubrSmbTZJZGnttMKXN0rIw/fTFmZ2G7PYcdKiOnxF9zo7fxjbXNhpU8dncebqN01r9n+Xfbsm4SF+cYUrgkdyKrW/juO4u4H/sm7XR7m5Frb6t5kZikkLbV+QHeAW+UEjGaqeErSDVPE+q69aec2lO5WxE0Rj+d1Xz3UMA21mUdQOQ2ODT7PwTqEAtNMudXhn0GxuxdwQfZ2FyWV/MRXl37SofB4UEgYzVLdc3l/wf8AgfiJ7O39f11/A1B4utTYWl39mn23WpNpyrlcq4d13HnplD78isvT/FfiK58aalpcvhe4+yW5gCyC6t/3KsXBkb58sCFyAORg8c0xfBGqi6tojrcH9l2mqtqUUAtD5rFmdijvuwQC/BVV6c5rWm0TVYPFkuq6Rf2cVveLEl5b3Vs8jERlsGNlddpIZh8wYdOPVq39fL/gg9tP63/4B0FYV5438LadqT6ff+ItMtrxGCtby3Kq6k9AQTnuK3axLzwlp99qLXs11rCSswYrBrN3FHkekaSBQOOmKnqHQ2wcgEcg8iuGn8YXmkeIteSXTb/UbG0uIfMmjZFjs42RMn5iN3JJIXJA5PUV3IGAB6Vz154Xe6tvEEQu1T+2CpU+XnycIq888/dz2qXe90HQztT8V69a+NINN0/w3Pf2UlqZldLmBDLyPmG9wQBnoeafqvxATS9WbTxod/cyrIsJaJk2+a0XmqmSeeA2T0G3nqKvatoWpy3+n6hoV/aWt5aQm3f7ZbNNHJGR6K6kHIznNVbzwbNeax9ve/jVjepdsghOPltmhKj5u5bd+nvRqlb1GrN6lTxDfyX+l+HvEGmX+oWQmv7SM20c22ORJJlVlkXGG4yOtdtXFaj4P16XQdJ0rS9X02GHT5Ip2e5sZJGkkjkDrjbKoC5GCOT7it7UbLXbqy09bLV4LG6imR7ySO0DpcIB86KrElAT0OSR61q+W1l3f3aEJvlTe9vxMbVbjxHqHjO60rQ9ag0yK2sUnAksVn8x2JHJJBA47Vna54n1K9+HVpqUUF9ZSSSql5cadLGGtWWQIwAkILKWyOOcVs6r4e12TxRPq2gatYWS3NqttKtzZvM6gEnchEigHnuCKq6v4Kv38GW/hrw7qNpaWiKBNLf2zzySEMG3ZV1AJIycg9e1Zw2XN3/V/oX9vy/4C/U6GfWI7XxBZaTLDLm8hkeK442FkxlD33EEsPZTWTfeKpH8JtqOnWzRXFzcG0sVnIxI5YqknH8JA3D2xU2raDqWsaFaR3F/aw6xayebHeQW7CNGIKsVQuSMozD7x5Ofam+I9Cd/CkFvo8KNPpbxXFpCxwGaPov4jNN26/0gjuv61Jb7VH8MaTYWswuda1O4YQQxoVEl1JgsxySFUABjkkAAAelZmt+IdWtG0Cf+yb23nubmSOTTY5Y5Hk+X5QWUlQM85JwO9X9QspvEtjpesaPP/Z9/bMZrf7Zbl1XcpR45EyD3PRhyAc46zf2PqN5NpF1q95aPdafM8khtbdo45AVwAAzsR+ZpSu3r3X5q4otW07P8ijc+I7vU/A+pXdhpl9b30Ilt5raOaET2zqDlgxbYSAQw55yKs2ts+q+AbWN9T1FJHtVc3kcoiuGIGclhkAnvimTeHtUg0rVbfSNQs4p9Su3maS7tnkVEdApXarqd3Gc5x7UWOkeJLHwimmLqektfRgRx3BsZfK8vvlPNyWx33Ae1LVp+i+/r+IK90/X89PwK+ieImsvhnouqakbi/u7i0gAVfmluZXUYA9zySegAJPArNtvGt3psniTUvEenXtpDZPaqth5iTvEHyCV8skHJwcA54q5Z+D9Zh8E2WjXGrWLXmmPE1jdRWbqg8sYHmIZCWyC2cFeo6Yp0fgzUJo9Rk1TV4ri71C4tp5HjttkcflNnaq7idp7ZJI7k1pJ3cmvl+H/BCVrq39b/APALCeNkjh1E6lpF7Y3FkEZLaQo73CyHCFdpIGSCMHBGDnFNTxzHDpep3GraTeafc6ZGs09mWSZ2jbOGVkJVuh4ByPxFaXinw9B4o8PzaZcsqh2V0MkSyIGU5G5G4ZexB7enWsGx8BPB4d1TTXh8O2El8iqJdF0k2o4/vje2725GOaldbid0tDTsfGMEk9/FrdnLoZsoVuWa9lTa0DEgSZUnbyCMHBGOlW9L8WeH9feaHQdbsdQmijLulrOshUdMkD3pk/htbrxFd6jNcyLFc6fHZGOB3ikXa7NuEisCPvY4weOtP03w3ZaK00tncanK0kZUi81S4ulA9lldgD7jmlK3K/Qrqrf1t/wTN+HUVw/guw1G91O/v7jUIEnlN5P5gRiOQgwNo9q6quR+GWpW134D0yzhaQXFhbRw3MckDxmNwOR8wGfwzXXVrUtzu2wnuwooorMAooooAKKKKACiiigAooooAKKKKACiiigAooooAKKKKACiiigAooooAKKKKACiiigAqzVarNAEc3aoqlm7VFQAUUUUAFFFFABTXjSRdsiK65BwwyMg5B/OnUUANdEkUrIiup6qwyPyp1FFAEVzdQWVs9xeTRwQRjLyyMFVR6knpUoOQCOQelc18Rd3/Cudb2YDfZjjd0zkVRsk18areaJeeIppGn0+O5huY7WFWtX3EMqAoQykYA3hiPUnmk3Zf12v+hXL7qf9dP8AM7CWGK4haKeNJonGGR1DKw9weDSqscMIVQscca4AAwqgfyFeYeHBrGg/BQ6xb+ILm5dNL320M9vB5duw6EFUDN9GJq/4f1nxCfFyWep6uLy3+1zWpjFtGmcQxShsgZyDIVHP3cZyeauUeWTXb/hv1Jl7qTfVtfcdppet6XrkMk2i6ja6hFG+x3tZlkCt6Eg8Gr1c54dBHijxPx/y8xf+gVa8SzwzeENdWKaN2jsZ1kCMGKHyjwQOh9qiTtHm8r/gFP35W87fjY2c0V5PY3ut3E3w+i1LRoLK1Wb91cR34maQ/ZnxlNgxxz1NdL4a0tNL+I+vxxvNM8llaySzzuWeVy0mSSfyAHAAAAAAFVbV+oS0t5/5tfodc9zBFcRQSTRpNNny42YBnwMnA74HNS1y/h1V1DxX4g1S4Qm4trj+zoS3/LOJQrHb6biQT67R6UzwxJrGvztrc+tTQWgu5Yk0qGCExqqOUAdyhk3cZOGHPal2B6NnTW9zBdxeZazRzR7iu6NgwyDgjI7g0w6hZrqS6c13CL1o/NW2Mg8wpnG7b1xnvXnehy6zpltZ6gmrf6DNrT2ractumxkeQruLkF94JB4YDAAx1rohaTQfFOOaW4+0rPYOY1ktYQ1uA33VkVA5U9cFjUxldRff87XCXutrt/nY24td0mfWZdIh1O0k1KFd8tmsymVF45KZyByPzFWrm6gs7dp7yaOCFPvSSMFVfqTXP6ip/wCFnaEcH/kG3vb/AG4K5fxnc6jq2ja9cvrTWVhY3QtEsI4osTlWAO93UtknoFK8evWrVm4rv/nYc/djzf1/Wh6bRXE3MnizVdf1+HSNXhs4dOli+yReRGTMxQM0cjMpwhz1GG5PPGKytc8T+J5PEOoQ6HDqrvppSNLazsIJreaQjJErud4B7bNvHrUppiPS6K4LX9U8Qtea+9jqv9nQaPYRXqwJbRyNI5V2aNmcH5Tsxxg+9Gt/EmXRbi2g/s61mM1rHMWkvJIyCwzjCwuP1pgtVdf1/Vztrq5tbdEW9lhjWZxEglYASMeijPUnB49qmAAGAAAOAB2rP+y2uvafp9zewA7Gju4lVzhH2nBzxnG49R+Fc49zqcHxE1z+zNNivt1nbb/MuxDs+/8A7JzUyk4b/wBaGtOmqkW4vZX/ABS/U7Sql7qun6a8KajfW9q07bIhNKEMjegz1NcDpOsT2vgbQbOwur+O6XTFuHjsLWKZgmMBn8zgLkEcc8Gug1C9k1P4dw3so/eTCFmwO/mKKlz0bXQ0lQcJLm2vY3b/AFfTtK8r+07+2s/ObbF58oTefQZ6nmrlYHjgH/hCNR4/gT/0NaXV7u8fW9N0ayu2sDdQyTvcoiO4CbRsUOCuTvz06Kau9iFTUoprz/Cz/U2bm5gs7Z7i7mjghjGXkkYKqj1JPSiS5ghRHlmjRZGCozMAGJ6Aeuaw9KH/AAkXh++07W2F6kdxLaSyqPL88I2M/LjB45xgVp6rpVrquiz6bdIPIkj2e6EfdYHsVIBB7EA0ubTm6EuKT5XvcvUVieE9VfUvBOmanfsqPLbK8rscD65NbMciSxrJE6ujDKspyGHqDVyXK2jJbBJGk0bRzIskbDDI6ghh6EGmW9tBaQiG0gigiHRIkCqPwFS0UhhRRRQAUUUUAFFFFABRRRQAUUUUAFFFFABRRRQAUUUUAFFFFABRRRQAUUUUAFFFFABRRRQAVZqtVmgAooooAKKKKACo5u1SVHN2oAiooooAKKKKACiiigAooooAKR3EcbO5wqgkn2FLUN3/AMeM/wD1yb+RpSdk2NasZp9/barptvf2MnmW1zGssTlSu5SMg4PIqSC6guvM+zTxzeVIY5PLcNscdVOOhHpXmng2wmsNP8HsNX1KZNV05oriJ7phGF8tCnloDiMqOAygE9SSeas+BtG03TtU1vGq6j9ug1O5CWtxq8z71wMM0TPhzjncQTx14qpWTku1xtdj0fJJ5rMsvEFhf61c6VD9qS8tl3uk9pLErLkDcrMoDjJHKk15VoN5qw/sq6m8QapcM9tp1wyS3bFHeXzFfIzyMIvy9Mjd1JNd6mo2LfFV4kvbZnOmFAgmUnd5q/LjPX2ot73L6r7lczm+W/lb8XY6uqn9racbL7YL+2+y+Z5Xn+cuzfu27d2cZ3cY9eKSLWNPl1uTSI7yJtQhjWaS2B+dUbox9jivH0XxB/wrfeLjSv7H/t1P3fkyfaP+P9f49+3r/s9Km93b+t7GqjdX80vvTf6HsjahZpqCWD3cC3kkZlS3Mg8xkHBYL1I96Ze6naafJbR3c2yS7mEMCAFmkcgnAA54AJJ7AEngVx11/Y2nfFjSWhntYri4huXuWaZd7OQoAbJz04A7AYFa0Y+0fFG5+0oD9j0uM2hPbzJG80j/AL9xj/8AXVKz5fO/4X/y/Uj+byt+Nv8AM6aq1vqFtd3V1bQSbpbRwky7SNpKhgM9+COlchmDVvGuqxa7rd3YfYJY0srODUXtFdCoO8hWXzMn1zjpWXrVlN9v8X6vDqmoWsunzQywxW1y0UZcRoSXCkeYCMDa2RjoOTUX2fcemvkd5qOu6fpN9p9nfzmKfUpvItVCM3mPjOMgYHHc4qO/8RafpusWem3n2lJ71gkDi0laJmwTtMoXYGwpOCQeK5/xDeWtr4i8O3smsSW08syJNb/2gyRMhXOWh3bT9SKl8b6hZQXnhpZ723jYavHIQ8yqdvky/NyenvVR1dn3t+X+YLV/K/5/5HWyyLDE8khwqAsxx0AqKxvINR0+3vbN/Mt7mNZYn2kblYZBweRwa4nxXdWl7rt9a6zrd1p1haaeLi3jtL57b7QzdWLRkM+Om3kc9M4qjo1leaydA00axfWNh/wjUEksNnO0TO5yFYOpDLjHYjPAPSkndX/r7V//AEkT0dv6+z/mel0V5d4ln1q01PTNDu7q4ulhsWkM8WsnSzO4YAMZBy5Cn7ucEnJB7aKQ6vq134c0zWtXuoHn0ySS9Om3ezz3XGGEiYI65yuM/Sn0uvP8L/5CbstfL8bf5noFVtR1C20rT5r6+k8u3gXdI4UtgfQc1wFt4l8Tw+DdIm0q3fUZXaeKaV7GS7YiOUopJWRMHA5Jzmuw0V7nW/DMZ8RWSCWYETW8lqYlIzxmNmYj8Sack1dLoWrKSUjS+2W5mhiM6CWdDJFGzAM6jGSB1IGRn0yKWG5gufM+zzRy+W5jfYwbYw6qcdCPSuW8Qrf/APCeaCukPaRziyu8G6RmTbuh7KQc9KwrPUJbPS761uy8l5ea3cofsl0bNCynLfvckoPQZyelZc+v9d0jpjh+aCknq/8Ag/5HoOo6jBpVi93drOYk+95EDzMB67UBOPfFMm1a1g0ldRIuJbdlDDyLd5XIPfYoLfpxXN6Hqpn8Dak9/cgCJ7iCNprrzTgKcL5hxvPJGe+K19JvbUeD7aQ3UAjFsFL+auAcdM560ud6+if33IdLldmutjTsb2DUbCC9s38y3uIxJG+0jcpGQcHkVMTgEnoOa4Sz1Ex/DXw2lrdeXDMLa3u7iGTDQIYySdwPynIUZ7ZrZ8OPs1jVbK2vbi+0+ERtFLPOZ9rsDuQSEkt0HBPFaN+84oJ0eVN9v87fealvrVhd6EusQTFrFovOEuxh8nXOMZ/SrdvcQ3drFc20iywzIHjdTkMp5BFFtbQWdvHbWkMcMEahUijUKqj0AHQVzvgnMdtq9pGMWtpqk0VsAMAJhWwPbczU1rf+v63MJW3Xc6aiqel6vYa1Zm60m7ju4BI0ZkjPAZThh9QRirlAhSSepzSUUUAFFFFABRRRQAUUUUAFFFFABRRRQAUUUUAFFFFABRRRQAUUUUAFFFFABRRRQAUUUUAFFFFABVmq1WaAI5u1RVLN2qKgAooooAKKKKACiiigAooooAr31jbalYy2d/Cs9tMu2SNs4YenFKtjbLffbVhUXPlCHzOc7Ac7fzqj4o1eTQfC9/qkEccklrF5ipISFPIHOPrVeHxr4dnsby7i1e3eKwC/a2Uk+UScDPHQnjIo6X7FWdl5/wDA/wCAEPgvw9Ab7ytOCpqClLmPzpDG4JyQE3bV5/ugVcHh/ShO0wskErO0hcMwO5kCMevUqqj8KxvDvxG8OeItFOowX8UHlW/2i5ikJzbr6scYrSsfFehareCz0vVrW5umVysSMSTsOG/IkU2mvdZPr/TItH8F6BoGovfaTYvBcyAh5DdSvu+oZiDVuDw7pNsupCCxjQaqzPegE/vyy7STz3HHGKpeGtU1W+utVs9bWy8+wnWNXs1dUZWGRkMSc1ralerpuk3d+6GRbWB5mRTgsFUtj9Kl2Su+34bhDV+7vf8AHYiOi6cVsFNom3TTutBk/uTtK8c/3SRzWbYeBfDumaz/AGtY2Dx32cmY3UzZ69QzkEcngjiqei+Nbq9udOj1nQpNKi1VM2U32pZ1kbbu2NtA2naCRn0q1oXib+2vEOtW0M1hLYaeUWN4JGMwbHziRT0wQQMdarZ3DdWf9f1/mWYtHuLPxZNqdlMgtL6ILeW75z5i/ckT35IIPXg54wVXwnokevHWYrLy74tvMkc0iqW9SgbYT745q0utaY9lb3aX0LW91IIoJQ3EjltoUe+eKrR6xNdeKZdMsoka3s4wb2ds/LIwBSNffByc9iKF+X9f18g3uWF0TTVto7dbRBDHP9pRMnCybt27r1zzWdJ4G8Oy67/bMli51DzDJ532ubg5z93fjHtjHtVqXxTocOvJosmpwDUnxi2BJbnoOBgdKzNI8daZd6lPpupXlra6h9vntLe3DHdIEkKqfqQOlKK7f1/Wg2tG3/W//BLNz4G8O3eujWbiwd9QDhxN9rmGCMdFD4A+UZGMHHNSXngzw9qGqSaje6XHNdSgB2Z32tjgEpnbuH97Gfeov+Em87x8ugWk9jIkdq8t0hkYXEbgrtwvQrhuT9KS81fVrLx1punOti+l6ikuwhXE6Mibjk52kH6U43dredv6+QWeptwWVtbXFxPBEqS3LB5nGcuQAAT+AArL1TwfoWtagt9qFiXulAHmxTyRFgOm7Yw3Y981U8V+ONL8NL9me8tzqjtEIrSQtlg8gXPHTgn8quah4v8AD+kzGDVNXtbWZWRXjd+VLDIyO2R3pR30CzLs2j6fcG9M1qjm/iENzkn96gBAU8+jHp61bhRbeBIYRsjjUKig8ADgCsvVPFGh6JeW9pq2p29rPc48qORjlsnA6dBnuabq3i3QNCfZrGrW1o4xlZG5GRkHjt709RW6GxVdLC1jvp7xIVW4uEVJZBnLqucD8MmrC/OoZPmB6Ec5rE13UNbsZXGkaYl4i2U0oLE5My42R8H+LmplZblwTk+VPcdL4R0KaC2hk05PLtYxFCqyOu1P7pwRkexzTr3wrouoWtvbXdlugtlKxRLK6KoznGFYZ5HfpUttq/na1NpkluyTQWkdy7g8HeWG0D221k3PjFT4btNQtBbW9zeTCOGC9kIVgJNrfMO+ASPfFJqKWptH27as39/dX/I0bzwto2oafBZXlo0ttAMRxmeTge53Zb8c1JL4c0qfTYbCW1LW8BzGDK+5D7Pu3d/WptS1fT9Ht1n1S7jtY2O1Wc9T7AUk2t6ZbWcV1PfQRwTKWikLcOACTj14BotHW5ClWaVm/Lf8Cezs7fT7OO1s4hFBEu1EGTgfU8n6mq2t2l5qGkTWen3C2sk4EbzkEmNCcOV/2tuQPQnPbFWLG/tNTs0utPnS4gf7siHg1T1XVZLDVNItY40Zb+5aF2YnKARO+R+Kiqeu5CUuZ91d/dqM1PQzc+Fm0TTJ4bKJohBult/OUR9CNu5eSO+ePerWjaVb6FodlpVjvNvZQJBEZGyxVRgZPrxVW78SWEGlvf288FxBFMIpH83YqnODzjkj0HWi08S6fcaSNRnubeC2aV40k84Mrbc98cEgE460uZNvX+v6Yeymop20Wn9fca9FZsHiHSLjTxfQ6jA1qX8sS7sDd/d571Wu/F+i2ugSaul7HNaqSilCfmcDO3pwfrQ5JDVKo3ZRfb5m3RWVp/iXSdS02W+tr2JoIFDTMSQI8jPORVrTtVsdXtzPpl1HcxBtpZOx9Oad1ewnCS3RboqK5kmitZHtofPlVSUiLhN59Nx6Vzdv4tvbnw7f6o2kLaJau0aeZcrIHZZNjA7QMAEHnvUuSSbfQcacpK69PvOporMsfEekahb3EtrqEEi2i7rkqTiIYJJPtwfyp9prulX93LbWV/BPNCu+REb7q+v0p3V7C5JrdGhRWfp2vaXq80sWmX0NzJD/AKxUPI5x+P4Vau7gWllPcspYQxlyoPXAzii6tcXJJS5WtSaiuc0nxXLeyaeNS0qTTo9TjD2chnWVZDt3bTgDa23kDvg+ladpr2lX2oy2Fpfwy3UWd8Sk5GOv1/Ci5UqU47r9TQorPt9d0u71V9Nt76KS7jzviXJIx15xjvVDQ/Fthqvk209zbxalLuItUJzgZ9fYZpcybsHs52btsb9FFZB8QxDxP/Y5gYAgAXG4bTIVLbMeu1Sc1RKi5Xt0Neisw+I9GXUksDqUH2uRyixbuSwJBH1yD+VEniTRodQFjJqVut0ZPK8otyH4+U+h5HX1pXQ/Zz7M06KKz73XtL069itL6+ihuJseXEcktk4HQetO6RKi5OyRoUVz93420Sx186Vd3aRyrHuZznCtnG3GOver974g0nTbiCC/v4YJbgAxq55YHgH2696lST2ZbpVFb3XqaNFYd54ostM1ma11S4gtYFiR0kcnLFj0+lXNQ13S9KEJ1G+htxP/AKrcfve/Hbkc0cy7i9nPTTc0KKzr/X9J0vb/AGhqEEBZBIoZuWXOMjHUZNXoJ4rm3jnt5FlikUOjqchgeQRVCcZJXaH0VmareanbXVomm2K3Mcvmec7Z/d4QlenqwA/Gq93q+pWHhi11S5sU85Ujkv7cEgxKR8+33U+vYGgHFpJm3VmqcM0dxBHNCweORQ6MP4gRkGrlBIUUUUAFFFFABUc3apKjm7UARUUUUAFFFFABRRRQAUUUUAFBAIIIyD1BoqO4cx2srp95UYj6gUm7K4CJa28axLHbxKIRiILGB5Y6YX0/CoW0nTn1Iai+n2jXwXaLowKZQOmN+M4/GuW8IfEC11vSdNS6W7kv7ix+0GVbRliuXRR5ixHozAnG0d6k8L+Pf+EhvLu2m0XVbTybqWFZZLF1jCoM/Ox4Vvb6VbTTY2mtzqE0+yjChLO3UKFVQIVGAv3QOO2Tj0zVVPDuiRXwvY9F05LsPvFwtpGJN397djOfesSw+Jnh3Urm3htXvGNwY9jNasF2uDtYnspKsuf7ykdqs2NxqkHj680681I3lnJZ/aYYmt0QwHeq7QyjLDBPWpW/3/5kydlr/WtjfW1t1u2ult4luHUI0wQB2UdAW6ke1N+w2n2fyPssHk7t/leUu3dndnGMZzzn15qcckVwFh418Qtp667qFjpp0T7c1q6W7SfaIl83yhId3ykA4JA7ZpaXsVZ2v/X9aHWy+G9DnvDeT6LpstyzbzO9pGzlvXcRnPvTdR0Rb3V7DVIJ2tryyLLvC7hLE2N8bD0OFIPYqD6g5n9tXkvxIh0tJpYLJbN2aCaxYC4kBzvSboQAQCK0H8T6ZHZ6lcs8uzTJvIuV8o7g+FIAHfO9cY65prZP+uwnu1/W1y3e6NpepXEU+o6bZ3c0P+qkuLdJGTvwSCR+FTta27iUPBEwm/1oKA+Z2+b1/Gsi+1S7m8SWOkaWRGfLF3eTOgOyHOAgB/iY8ew5pdR8V2OnauumLb399dlVaSOwtWn8hWOFMmPug4OM/wB0+lAFq88O6JqFx5+oaNp11NtC+ZPaRu2B0GSM4ovPDuiajKsmoaNp13IqCNXntI3IUdFBI6e1c3eePYdF8W6zY6qLmW2tIoJUW1tTI0CMhLyOR0XPc9Ku+IdfuLXXtBsrGeW3jvLkeZMbIywzoUYiMSdEY7c/Qe9O23mOSa37X/C5uzaTptzLbSXGn2kslr/x7vJArGH/AHCR8vTtU8dtBEytFBEjKgjUqgBCjoo9vaud8YXWq6bNpN5pupG3gbULe2uLU26OJlklVT8x+ZSAT0qbxP4rt/D8EkSQXt3em3eZIrK1adowAcO4HRc9z1waTdo8z8x8rbsa1/pen6tCsWq2FrfRo25UuYFlCnpkBgcGpIbO1t1iW3toYhCnlxBIwvlr/dXHQewrmYvHVjZadpMeqfaZtT1Cz+0x29rbF3mxjcFVe43Zx6AntVufxvpEWl2F9breXw1GPzbeCztWlmZAASxQcgDIz6Uyd1c3ooYreMRwRJFGCSEjUKBk5PA96fXPXXjfRra1sZla5uW1BGe1htrdpJJdpG5Qo53DnI7bT6Vo6drmn6ppNvqVvOI7e4Xcnn/u2HqpB6Edx2oAumGNpllaNDIgIVyo3KD1APbOB+VQzabY3MLQ3FjbSxO/mMkkKsrN/eII5PvVe/e/uDYvok8Bi+0j7UxIYGLa2QPfdtrMttY1PT5tC0/X/sxur1JftMoYKEZVyNuOKnd2/ruaxjJq8X/Wv+RtS6Xp81qttNYWskCkMIngUoCBgHGMZxxTP7G0sWZtBptn9mLbjD9nTYT67cYz71jSeJppdK16WGNg1hcNbQS20Jnx+6VhIyjqAW5x2FaEesR2Xhu1v9SmadpI0G6GE7pnboFTrkntSun+H47FOFSNl5lyHTLC3tpLe3sbWKCX/WRJCqo/1AGDUlrZ21jAIbK2htogciOGMIufoOKzD4r0qPSJ9SupJbWC2kEVws8RR4WOMBlPI+8D9CKn0rXbPWHnS1E8ckBG+O4iMbYb7rAHqDjg09OhMo1LNtOxduo5ZrSWO3mNvK6FUlC7ihPcD1FU7DRotN0FdLs55oQI2X7QpHm7m6yZII3ZOeQR7VX8V6lc6T4eku7FlSZZYlBZQwwzgHg+xpZ/EdmbTUZLSUf6CpBnljbyTJj7oYfeOcZA55obSTf9f1qCpyaTX9bf5k2haFZ+HtMFlYbypkaWSWUgvLIxLO7EADJJJOABzwBWlXOWXiyFo7+XUw1otnGkjRSW0kUioRguVbqu7OCPSp4PF2lzQXkzfaYI7OITu08DJuiOcOufvLx1FHMg9jNdP6f/AA5uUVjW/imxuhciCC9aW3iEwi+zMHmQ8Box/ECe4qDw/wCKl1mzaa4sbyy2LI7yz27JCFViPvnvgZI+vpRzIPYzSbsdBRWVpviGy1S5MEMd1DIV3xi5gMfmr/eTP3hWqenHXtmi91dESi4uzCiua0nVtduvEGpWN8mmrBYBd7weZvbcpK4zxxjmk8MeLoNXt7G3ufPN5cQlvONuVhldcbgrdCRnp7GlzK6Xc0lRnG/W366nTUVhWvjHSb27igtmuHEspgE3kMI1kH8DN0DcdKli8UadLqYs1FwN0phS5aAiB5B1RZOhbgjHsaFJS2JdKa3RsUUVx0XivWEs59XurSxOkwXklvIsTP5yKshj388HkZwPWnfWwQpymro7Gism68R2VnqK2k8d0FZ1j+0i3YwK7HCqX6AkkD6kU6TxBaprB02KC8uJkKrK1vbl0hLDI3sOF45ouhezn28zUorlz4vhsdd1Oz1Hz3SC4jRGgtyywKyrgyMOgLMeT6H0rqAcjI5FEZKSuglCULX6hRWDrviGXSdRtYIII5YtvmXbMTuijLqikAdyzE89lNSal4r03TLyS0lW6nniQSyJbW7SFIyM7zj+H3pcy3GqU3ay3NqisS/8W6XYXS2zG4uJmt1uglrAZSYiSN/HYbefTI9a17e4iu7WO4t3DxSqGRh3BqiXCUUm1uSUVnarrdrpDQxzR3E80+7y4LWEyyMFxk7R2GRz71Q1rxSdJn01F0y/nF5IA2y1Zig2k44/j4+76ZqXJLcqNKctl/SOgorJuvEVraWltLLbXxlusmK1S2ZpyB1JTqMd6pX3iqCKTSLi2d5bS9aRTHHCWkdlU/IF67gQcj2NNySVxqlN9Do6Kx/+En086VDfILmQTOY0t0gJmLjquzrkd/Smz+LNKttNt72Z5lS4n+zJH5J8wS4Y+WV6hvlIx649aLoXsp9jaoqjpWr22s2rz2glXy5DFJHNGUeNx1DKeho1gakdOP8AYrRrdebHzIBjZvG/r/s5pk8r5uV6F6isq2i1ttLvkurmFL1pJPskqxgqifwZHf3p+gat/bWjpdPGIp1d4biIHIjlRijqPbcpwfTFAmrM0qs1WqzQIjm7VFUs3aoqACiiigAooooAKKRmVFLOwVR1LHAFIsiNHvV1ZP7wYEfnQA6iiigDD8aadcav4K1SwsofPnuINiRZA3nI454/OmW2lS2/jAXUVssNoNLS1DptABVyQuB2AJx25rfopNX/AK8mv1G23Hl/rdP9DzyDTtbk+F174Sm0K7S6t7FreO4aWEwXRzgbDv3DI5+ZVqfTfDuoWHig3w07EC30037soCyfZoUTAz6oygHpjsK7yiqk3K7fX/NP9Al71r9G395yPhafVG8TazJf+HNS06C+lWWKa5e3KgKuMERyscntxVy8k1jWNF8SWNxo/wBkPlTW9i/2hX+1q0XD4/g+Y4wfSuioqWrq3lYUPcd13ucFo9lrupr4ctL3RZ9ItdFCy3El5JEzzuqFVWMRu3GTkliPTBzV7RrvVpPHuoXV14Z1SztLqCKJLmeS2KqYy2SQsrNg5GMA++K6+iq63E1c4/SvDt5beJTbzQ7dIsbmS9s3BXaXkXaI8A5+XLtyByRjNWvDr/YvFviLT7ncJ5rhL2Etj97EyKuR9GUr+FdNUMlnbTXcN1LAj3EAYRSkfMgbGQD74FJafdb+vuQ3rq/X8/8AN/ecv4aTU/D13caTPod5cR3F7JOdVgkhMTh+QZAzq+4Y24CtwF59KI8MXy6JqMa6ei3Nx4gkvQQUDPH5pKyE567cdeQOK7yijol6fhb/ACG22mu//B/zOO1O51d/iPp11D4Z1SaxtIJ7Z7pJLYITK0RDgGYNtAQ5+UH0BpviCfVj450a5tPDGqXlppxmEtxDJbBX8xAoKhpg3B65A9s12dFOLtby/ULs8+1TTdfVtd02z0SS5GpX8N2l/wDaI1iES+UChyd+8eW2Bt24P3h0rXsPDKS+KvEt3qmnRvBqUVvAkj4JljEeHTg5Az24rqqKlJfhYE2tv61uea+I/DGqf8JBqPkx6/NpepW0Vvs0WWyBVFUoUk+0jdjkkFWP3m4B5O2nhyWPUtYkSy3JNpUVpbySlDI+FIKE/XGe1dfRSlFSVn5/imv1BOz0/rb/ACOA1DwFqWs6fpBOoxWMttp8MEsUq3THeq88w3US9fYn3rtNLs30/Sra0kkErwxhC6hgG9/mZm/NiferdFaOTbfnqQopJLsrHLXnhhNU8aXd7qEE5tTYxRwyRXTxZcM5YHYwJ4I68VnLY6tpvw+tNGi0W8ubjcSwhlixGBNuAYvIMkj0z713VFZuKaa7nV9Yk0k9Urd+isclrtnqt7eabqtpBqkHlxNHJbWj2wuYi3f95uQjscMOg60WvhwCLw8v2K5aKzupLmRb9omkiYq+GOw7c7myNvTNdbRQopO4vby5eVL+tV+pBa2VvZCUWsQiE0rTSYJ+Z2OSfxNc9408P3fiE6Xb2kksCR3DtLPEwBiUwuoPUEgkgEDnBPI6jqKKbSasRCpKEudb6/icjJaaq1to1ydH2SaRMwksYHTbMu3aHiywGB1AbaajGiX17ML2408RLc6wl21pJsLRIsRTc+CVLFgDwT1HpXZUUuW7u/X8v8i/bO1kv+G1/wA/U5W70O6nv5y1orwvqsNwA20govVsf5NTDSL1/wDhKkEYT+0JQ1szMMP/AKPGueOnzKRzXSUUKKSt/XT/ACF7aX9etzk9St9V17wiLRbC8066tZIH2ySQ5m8tgxCEM4528bgByMirfhmxlhuLy8u49XS4n2qx1RrcswUcEeTx3xzzXQ0U7a3B1XyOCSsRXMrQW0kscElwyKSIotu5/YbiBn6kVxen2GqT+CtV0q50W6tp5p5ZUE7wlZVknL7Rtc8hTznA+tdzRSlHmTT6ihVcI2S6p/cczqekXUkl99kthsk0ZrWMKVUF8cL/AJ4qzL4eifw5Ha2sMdrdRWZt4WXgR5HI44x+BrdopOCd79f+D/mxe1krW6f8D/I4/wAMaTdRanbzalBrSTWdq0EbXclqYACVyqeUAxHygjcBwOxrptUhe40m7hhXdJJCyqucZJFWqKpq6sOVVymp2OK0yw1i/tfD9tcaZJpqaNGru908bGaVYTGFURs3y/MSScHpgHPFbSNN8RTeIdGu9Ug1AJaGXzxcNbLDGWQgeUsfzbe3zHPt3rvqKHdy5rmn1h2astVb03/zOT0a21Kz8QeXp9nqVlpbSyyTxXzwNCCxzmLYxcEsS3zccnpwKNO0K7ttH0iI2axzQX/nzAFcgFjliQeTj8a6yipUErPt/mn+hMqzk72/rX/MPrXCNoPiYWj6gstsJ/t/277D9m/fHDD5BL5u0ZUY6Y5ru6Kbim7k06rp7HA2sF3qUeo6bZaVLGsusSSy6izRrGAspPYly3AXlce9Mihur688S6ZY6VIzXWqASagTGsaALGeed5I5wNpGccjrXeQW0Nsri3iWMO5kYKMbmJyT9SaILWC2eZreFI2nfzJSoxvbAG4++AKUYWiovt/l/ka/WN9P6v8A15EoGABXJ63a6imvtd6BZanFeSLHG9wjwfZZgG4Eqs2/C5b7oB5711lFU1cxpz5HtcwdSF/ZeJLXUrfT7jUImtTbyJaugaM7s7vnZQRz2OfasXXdF1GbWdQl8vWJrPUoFjZNMe1BAAIKSCYZ/iOCrHqeB1PcUVPInoXCs4O6SOdGjSJqV9KlsWRtNW3hkkKlycfdz/kVgHQNZtFsZmXVmVtIgs5odNktt6OgO4P53BB3dVPbnPFeg0U3FNW/rr/mOFeUOi/r/hjl7LQXtvEVhOlrIba10p7dJLgo0iOXB2nHfHccVPYrqmh+EtOgtNK+13MbLFJbiZY/LQk5bPIOBjgV0NFNq7v/AFvch1W91cKy/E15DY+Gb+SfaQ8DRIjf8tHYFVX8SQK1KintYLlojcQpKYXEke8Z2NjGR78miSurGadncqaBay2Ph3T7W4GJYrdFcf3Tjkfh0/Ctmq1Wapu7uSlZWCiiikMKKKKACo5u1SVHN2oAiooooAKKKKACiimu6xxs8jBUUFmYngAdTQA6is/Sde0nXraS40TUrXUIY32PJbSh1VuuCR3q5b3EN3bpPaypNDINySI2VYeoNAElRzoZbeWNeroVGfcVJRSaurAcrpPhq+sbLwpFM8BbR7cxXG1yQx8tV+XjkZHfFP0nS9a0jWNTt0trKfSr+6luxdG6ZJoy4+55XlkMAR13j6V09FN6tvv/AF+g7s8807wHq1pa2Mcs1qTb2thC+2RjloDJvx8vT5xj8ela8Vr4nPj46pNpelpp7QG1LrqbtKE3ht+zyQM8fd3fjXWUU7+9zf1qrfkTJc179f8AO/5mdCda/wCEln84WP8AYvkJ5BTd9o83J3bv4duMYxzXG6f4T8THRx4dvhp9rpf29rmW8gunlmmj87zBGIzGoTPALbm4zxzkeh0VKX9fO5V3a39bWOSvrTxPJ44s9QttL0trC0jkhDvqbrI6vj5tnkkAjHTcc+tTaj4ZuLvxYt3G8f8AZtwYZLyJmIYyQFmjKrjnLMCTkf6teueOnoprS3l/X56k2V35nMXTf2R8Q4r25G201W1W0ExPCTK2VU+m4cD3obTtd0jxNf3uiWlhf2uqPHJOt1dvbyQOqhCVxG4cFQMD5cEHk546ZkVwA6qwByAwzg+tLQtB97dTmbjw7ezX3iaZXhC6tbRRQDeflZUKndxwMntmqOvaV4nmTQbfSNO0y4i0uSG4eS41F4Wd1jdCgUQtx82d2fwrtKKFo7ry/C9vzG227/1sl+hyfjCx8Sarb6fDpGnabIIbqC8la41F4sNHIr7ABC2QcY3cfSo9T0fxJLqVze6dBpofVNMS0ulnuXxauu87kwn70fPjB2dM98V2FFD1jy9Auzl9J8NXljrmkXlw8DpY6Q9lIVJyZC8bZUY+7hD39Kp+LPB0+oalZX+kW0Uy28TQvYjUp9OUgtuDiSDnOScgqQfbv2lFD1t5frf/ADDpY5bRvDEmm3eiSW9rBYwWVvcJLbJdyXG15GVuJHAZ+QSScHmqcnw9i1Xw/Dp+s3Co8N3POrQ21vcAh3JH+vhcA4PYD6mu1oo63F1uZXh3QLfw1o66dZyNJErlwzQQxcn/AGYURP8Ax3NV9b8PJrWu6TcXdva3NnZ+aZYbhA+4suFIUgg81u0UPV6lQk6bvHz/ABOVt9Av9H0zWrbR7LTyt/dO8MPnGCOKNoVQn5UPO5ScAY560y58P6rqPhaytLuK3hu7GRWSOG+lCTAdjIqqyZ9QDj36V1tFQ4J7+X4bGvt5Xv176nJw+GJjoc9v9ggs7ia6imcHUJbwSBCpyXkUHOFxjGOBXVCKMTNKsaCRwAzhRuYDoCadRVJJKyInUlN3ZjeK9Hl1/wAOT6dAUDTPHne5UbQ4J5HI4B6VmHwxfjQZ9Ejlt/slvLHPp8zffBSQSCORcYIyv3gckHpnk9ZRS5So1pRiorZO/wAzlLrQ9Y1gX9zqCWtrcS2q2sEENw0qAB9xZnKKckkjGO1WtX0G7v2ujC8Q87TjaruYj58g5PHTiuhoo5Unf+uv+bD2sr3X9bf5GQmlTjxUNSZk8j+zxakZO7dvLZxjpg1QtNF1NtFvtBvktkspop447yGdjIRISRmIqAMBj/Ec49+OmoptXEqsl+H4HK+HPDs+nX8ct7p8aPDGUjuRq9xck9jiOQYTI9Ca6o9OOtFFCVlYmc3OXM/6+85jSLDXYPEeqXl/ZWEdvqG3mK9aRo9ikDgxAHOfUY96nsNCu7Wz0CKV4i2m587DHB+XHy8c/pXQUUuXYqVVyd7W/wCGt+Rk6FpB0/RY7S9SGR0laT5RuAJbIIyOvvWDpvhCex1SFbiyjvLeG4Msd02r3AZeSQfs5BTIzjqAeuB0rtKKSglby/r9BqtNc3n/AF/XQK4uLw1rcunXGiXQs4NNnvZbiS5iuGeV42lLhAhQBTyBncenSu0oqraihUcFp/T/AKZwmqeEta1HVJnkeKSP7dDPDPJqMw2xI6N5fkABAflbk7v6jS1XRNSu/EC3en2lvZPvTOoR6hIHZR/egCbHOOPmP411NFJRSVi/rE/wt1/r5beRz9zoV3Nb68iPFnUZVeHLHgBFB3ccfdPrW9Gu2NFPVVAP5U6imopbGLk2rM5bUPCd5q2oatcTavc2S3ka28SWvlEGILxu3xkg72c8H05zWdaxa+usX9hbw2Mlw1hBFcTy3LARnaQGChPn45xlfrXdUgVQxYKAx6nHJqHTT/ryf+ZssRK1ml/Vvv2OH+yajp3ittM0OG2uPL0K3t2kurho9gDyqGwFbd64yPrXXaVY/wBmaTbWW/zDCm0vjG49Sfzq1tXdu2jdjG7HOPSlrTrd/wBf1cipU5+n9WsYPifS7jU44FtdNt7t48lZn1CS0khJ/utGhJB7jIBx3pl1pOqnRtL2Sw3mpafKsp85zGkvBUgsFJGAx52nJHTmuhoqeVf15B7V2S7fr/XSxy2uaFqOrS2OoG3iNzDGY5rNNSmgTk5ys0YBOPQrz7VZ07QZLQ6Q0VtFZpaNK00K3Tz4Lgjh3ALcnJziugooUUhutJxUenz/AK/U4q78G3ksMcoMcs0GoXNykC3ctuJElY8GWP5lIHsRV238Nzpb6V5VrDZPbaibu4T7bJc7h5TpkSONzH5l4OOBXUUU0rO5UsROSs/P8b/LqzHgsNQsotYktDbm5upmlthITsBxxvxz+VaNj9r+wQf2j5P2vyx53kZ2b8c7c84z61PRRGKirIxcr7kN3dwWNnLdXcgighQvI56KB1rH8IW08OiyXN3GYpb+6muxEwwY0dyyAjsdu3I9c1usqupV1DKeoIyDS0+t/wCv62J8v6/rcKs1WqzQBHN2qKpZu1RUAFFFFABRRRQBFc2dtqFs9pf28N1bSjbJDNGHRx6FTwa5jwPp1m/gZ9ONrEtk09xEYEUKgQuRtAHQY9K6W8nmtrOWa1tHvZkGUt43VGkPoCxCj8TWF4XttU0zwc4uNO8vUC80y2bTIeWYlVLqSvpzmo+15Wf5orovX9GTeEbmeTS7izu5Gmk067ltBKxy0iIxCEnu23Gfet6svw9pLaPpIgnkEtzLI9xcyL0aV2LOR7ZJx7VqVevUjTpsFFFFAwooooAKKKKACiiigAooooAKKKKACiiigAooooAKKKKACiiigAooooAKKKKACiiigAooooAKKKKACiiigAooooAKKKKACiiigAooooAKKKKACiiigAooooAKKKKACiiigAooooAKKKKACiiigAqzVarNABRRRQAUUUUAFRzdqkqObtQBFRRRQAUUUUAFFFI+7y28sKXwdoY4BPbNAHPeHT/xUfib/r+T/wBFLTfDyiy8T69pdvtFpHJHcRRqOImkUFx7ZJJx71L4Z03VrObVbvXFsUuL+5Eqx2UryIoCBeWZVOePSrWhaTLpsdzcX0qT6hey+bcyxghc9FVc/wAKjAFTFNW9P6/ryGzVoooqhBRRRQAUUUUAFFFFABRRRQAUUUUAFFFFABRRRQAUUUUAFFFFABRRRQAUUUUAFFFFABRRRQAUUUUAFFFFABRRRQAUUUUAFFFFABRRRQAUUUUAFFFFABRRRQAUUUUAFFFFABRRRQAUUUUAFFFFABRRRQAVZqtVmgCObtUVSzdqioAKKKKACiiigAooooAKKKKACiiigAooooAKKKKACiiigAooooAKKKKACiiigAooooAKKKKACiiigAooooAKKKKACiiigAooooAKKKKACiiigAooooAKKKKACiiigAooooAKKKKACiiigAooooAKKKKACiiigAooooAKKKKACiiigAqzVarNABRRRQAUUUUAFRzdqkqObtQBFRRRQAUUUUAFFFFABRRRQAUUUUAFFFFABRRRQAUUUUAFFFFABRRRQAUUUUAFFFFABRRRQAUUUUAFFFFABRRRQAUUUUAFFFFABRRRQAUUUUAFFFFABRRRQAUUUUAFFFFABRRRQAUUUUAFFFFABRRRQAUUUUAFFFFABRRRQAUUUUAFFFFABVmq1WaAI5u1RVLN2qKgAooooAKKKKACisLxhrMui6C89vPaQzMwVGurkQ9xnb8pyfbHSqfgzXrvXTqL3M1jNHDcbENrd+dt4H+wvynkg9+eOKhVE5uC3M5VYxmoPdnU0VheL7q6tdFjNjcyWskl1FEZYsbgrHnGQR+lQWk+p6dr93o32o6mTa/araS8YIwIYKUZkXpyCDt9etLn961v6tf8hynyu3p+LsdJ060Vyug6pDpPgWW/u/NC20k3mCW5847g5GN7BeM9MgYFWPD/AIrTWNRksJDYGdYROpsL0XKbc4IYgDDAkcdOeCaamm1HqyVVjZX6nRUUjrvRlDMhIxuXqPcVy8E95o/iDUbebUrzUYINNF0qXbJncC+cFUXqFHrSlNQav5/gm/0NG2raHU0VhyeIzGdO/wBFB+228k5/efc2qWx05ziquneJ7+7Fk1zpMduuo2zTWii63OzBQdrDbhc54IJ46gdKpyS3/rf/ACI9pG9v66f5o6aisK28RyXyaYLSz3TXqu8iPJgQBQc5IBz82B+NVfDepeILy7vRqVvY/Z4rySNnW6ZmiA/hVfKAYD1JBpc65uX+un+Ye0Wnn/w509Fcja+PLa51WCDNh9nubj7PEI75XuQ2cAtCBwCeOpI9KntPFGo3v76PRSLNbuS0eUTFnBVmXeqBeV45JIwfXrSVSLV1/W3+aEq0G7JnT0Vwun3urQaDZa7Jq9zdeZeeVPaziPyyjTGP5cKCCOCOT0rV1Pxcuma0lpL/AGeY2mWJo/t4+1Dd/F5OOn/As47U+dLfTWxKrR5eZ6I6WisH/hIZn8VPpEUdinlsARc3ZjnkBGS0cew7wPXcOhrJGuajpera/MlmLqyt7pPMeS5KlFKjhFwc+uCVFCqRe39bf5lSqxj99vwb/Q7Siqc+s6Xa3qWdzqVnDcyY2QSXCK7Z6YUnJzWFrWr3tvrjS20zpYaYIzeIgBEm9uc8Z4Xng0+ZFSnFJs6miud1LxHf22o6hbWGlx3KafAtxNLJc+WChBOFG05b5TwcD3FNn8TXsk8sek6ZHcrFapdM81z5alWGdowpO79PcVLqRW/9b/5MOeJ0lFV9PvY9S022vYMiK5iWVA3UBhkZ/OqTa7DBqtxZ3iiERtCkL5LGVpM4GAOOR/8AqrR6OzHzxceboavXpRXG61qtzqXhuyvjatFbNeLv8q9aKQYkKqRhCGUjkgkVtazrV1YavZadYaeLue8WQqzS+Wke3HLHBwPcAn2NZ+0Vr/10J9orten4mxRXOr4i1C4itbe30pU1OZXaS3uZmjSJUJUnftJIJHGF5HPFWPCMs03hi3e6OZi8u/5y+D5jcAnkiqUlJ6AqibSRtUVieLjcDwzd/Z4967D5pW6aB1X1Rgrc1U1TxFNoemaeLSxN4ZLNpj5txtKrGik5ODkkH05OOmciXUSbv0t+N/8AIblZ2Z01FZGga1LrC3S3NoLWa2kCMiybwQV3DnA5x1/nVXxbeahaRad/ZUzRyPdfOoAPmqqM5Toeu3HFU5JK/wDWoc6ceZf1Y6GiuRh8UXB1C+W3X7Y088EVjCzbEUshLZYAkAdScE8cCn6jr+r/ANg6wsNnb22p6euZB9pLIFK7g6Ns+Y+xUcg0nNL+vn95Kqxf4/hf/I6uiudOvX2l+FzqWuW9mjbIxF5V3kSMwABdnRQnJGeoHNZd34qOqeHtXiia1a7sxE+7TbwTxurOMYfC4PBBBA/I0pVIptdQVaDt5nbUVzL+KrjT/tEWsacIp47ZZ4Et5jL5wJChSSow25lHcc9aWbxTc6Y08WvafHBMsImhFrOZlly23bkqpBz7Yx3p88f6/ryD2sf66evY6WiuV1LWdSGm6rY6pZR2Vz/ZstxBJa3JkBAXBBJVSrAkdiPerXhrW5NYtoWsollsI4gjXjSnMkgGCFXHzAHgsSOemaUaicuX+uv+Q/aRul/XT/M6CignAJ6/Sue0LxM+sG4kdbGKGFSzRx3Ze4ix2kjKDYfxNU5JOzKckmk+p0NBBHUVyekeOIdT1W1tj9g2Xu/yBb36zTKQMjzIwPkyATwTjocVb0a2jsfEetW9uZREFicI8zvtJXJxuJx+FSpqVmtiY1Iz+HU6GiuM8N67qFvpunrf2YNlc3ctut01wWk3b3IJTH3flxndnjpipbXx5b3OrQQf6D9nuLj7PGEvle5DZwC0IHAJ/wBokdxQqkW0u/8AX6k+2hyqUtDrqK5mPxRqM1xObfRGktLa9NpLKJSXPON6IFOQOM5Ixz1xXTGqjJTjzLY0Uk20ugUVzWqeLl0rWUtZxp5iaVIin28fahu6MIccj/gWcdqLzxReW096yaWjWdjdLBPM9xhiGK/MihTnG7kEj2JqfaRev9f1qS6kU2u39fodLRXKaz4vvLGS+bT9Nt7qCxmjgmaa6MT73APyqEbI5Hf8KTWPHEek309uw08fY0VrlZ9QWKRiRkiJCPnIHrtzx+B7WHVidaEW03t/w36HWUVhatrGqWhgk02ws7uG4KrEJLto5XJ9FEZHHruqlrvjWPR9Qmth/Z5NrEJbhbm/WB2zztiUg7zgHrtHTnngdSMd3boN1YrVnVYzRXM69cSXTaJcRI32KS6ibzIrtonyx4BUIQy+oyKm13xFdadeyWum2MF1LBZteTefcGEBAcYXCtk8H0A455olUUb83f8AJXD2i/L8ToKK5G91vxBJ/YM1jaWUa3zZeN7txuJXO0nyjge/X2rqbZp2tkN5HHHOR86ROXUH2YgE/kKqMlJtdnYcZqT09SWiiiqLCrNVqs0AFFFFABRRRQAVHN2qSo5u1AEVFFFABRRRQAUUVneILxtP0G7uUmEDJGdsjQPMFOP7qEH/AAqZSUYuTA0aK4DwJq9/qetTJPqIuIorOHKmxnjyTuJ+Z2IBGRz/ABDGOBXVeJ5Hi8K6k8TtG627FXRiCD7EdKh1LU3U9fwM6VRVVdGqQR1FIGViQrKSpwQDnFcfZwHRdW0JbG5uCmqQMs8VxcSTDcse8SDeSRzwcEA5qz4cJsbzxG10lt50dwJJpraN4xMdmclWdsH6Gq5rNp9L3+Vv8yY1HK2m7t+FzqKK47QfFt5qepWayKs1vfKWCRWE8X2YY3Lulf5XBHGQBz0zXY9OtOMlJXRUKkaivEKK4XSPENvN4sS5/tSKZdRuJbZbRbkMYgmAh2Z4ztc5wOoq5b+ItZcWl5OtkLOe++x+UkbGTltqvu3YHOMrg/WojVjK1uv/AAP80L2sbN9v6uddRXJ/8JfK+jRGGONtSKxb12ny9zNhlHOcgc49x1qD/hMbuTV2FuqyWy3Yt/sq2E7SMu4KX84DYME5xjoOvPD9pG6V9/8Agf5hKrGO/wDV7/5HZ0hIUZYgD1JrkrnxFrEP2u8C2QsbO++zNEUYySruxkNuAUj6HPtUPiO+1HU7DUvs0ltDYWV3FbukkLPLKweNiQwYBR8w7N3pe1XJzJf1p/mgdRJtdf8Ah/8AJnaUVzU/iG7hsddlSOEtpsipDlTyCoPzc89e2Kh1PX9Ygm1aW0FktrpZRnEkbM8ylVJUYYBSMnB5+nGTTmlb+vMftF+f4afodXRXFeIvF97ZXd1Bp1zp1rLb2yTRwXkbPJdMwyFQB1+nQmuwtvONrF9pKmbYPM2rtG7HOBk459zTjJSvboEailJxRLRXPeJNZvdLu7dIXjtLV0Znu5bKS6UMP4SsbArxk7jxxSXGq6le6lLZaHcWKfZbVLiSeeIypKXztChXGB8uc5PXpU+0Wv8AX9f1YHUSly9ToGljRgHkRS33QzAZ+lDyxx48yRE3cDcwGa5LVJrfXfCGnatPZw/aPtEBRmQMYz5yq21iMgHFXvGtpbXHhuWW4t4ZZIXRonkjDGM7xypPT8KbbV/UOe8eaPa50NFc14uOqrLpX9mX0Nsj3saMHgZyxOepDrlfVe/rRrWuXuixWFnPc25vbpnLXKWEsiKq88QoxYn/AIFil7RK7fR2/BP9ROoovVaWvc6Wisnw5qs+r6UZ7qJo5UlaIsYXiEmOjqr/ADAEHofepNS1Ca01LS7eJUKXczRyFgcgBc8VTkkk+9vx2LjJSjzI0qK5aXxDqbLIlrFa+d/axsU8wMFCeXu3HB5IP0z0461U1bUdan8K61H9rtYbvT5GjknigcCRcZG0eZlD75NT7RdP62/zRLqLb1/C/wDkztKK53U9U1LQNANxqFxa3VzJKkULQ2kiKu7uUDOzYwTxjPt1rO/4SzU00W/mjgjvLi2kiWGU2ktrHOHbG3bJyCPXJHNDqRTa7E+1irJ9dTs6Ky9Lk1oXlzDrMds0YVXhntlKqc9UILEkjH3uM56CreozT22m3E1nB9ouI42aOLON7AcCqcrRuzWL5izRXM6bqt7qui33laraNexpnB06WAw/Ln5o3k3H2YED60zw3c6pbeE0v9W1KzmgW2Z1LQvGykE8vIXbI/Cp9or/ACuZxqKVrLf0OporjrHxZeO+oRvLDdmCz+0xSrYzWozkjaVkJLDjqDUtt4j1S1VJ9YS0khm0x79I7ZGVo9oUlCxJ3ZDDnAx6GhVE9f66/wCTEq0Xa39bf5o6vcN2MjJ6DPNLXIWzamfGGm3OsT2bb7GV0SCFkEY64LMx3fXA+lLp3iua58QwWn2m3u7e6WXZ5NlNF5RXBH71ztlHUZUD1pe1XXTcftV1/rb/AD9TrqQsAQCQCegJ61y+k6x4hvbWz1K5trT7FKWEsUSnzEUZxJuLYxkfdwfrVFrvVL3VNA1S8ktBbziaa3t44W3RgpldzlsMcYzhRRKqkr2/pjVS9rLc7ejFcJY+LtduJ7Zp0sBBK8BZUjfcFkk2bQd2M98/hjvTjq6ReK7cQ3K3MMl+0ZijjusIxBBPnFvKb7v3MYHOORkv2iuvN2/QzdeNr+n4nbebH5nl+Ynmf3Nw3flTty7gu5dxGQuefyrzq1SA67Z3l/CkQfUpS2oiPMjSAhY4S45VTk9eDjHGa6GWKRPiPZyXC2svmWcogkWJ1liUEZUneVbJP90UqdRzUXbf/K/9feU6jTemzS+92/r/AIc6WiuHv/FuptrEtppl1psckeoJZixmhaS4ZTgtKMSDgAk9MYB5ruPr1q4SU1df1/Vyo1FKTiun/BX6BRXO32v3dtaeIJY0hLabt8nKn5soD83PPXtiq+oa3rSzaj9g+wxxWFvHOTNGztIWXJXAYY/3ufp3qHVilzP+v6sNzV7HVUVyV3Lrd34o0x9O1C1toLiyklSKW1eQKP3ed2JFDHng4GOeuabrfii9stTmsbSWFZLWFXctp88/nOeQo8viMcdST9Kcqiive0I9qldvbTt1OvormJda1q91O1tNJt7e2+0aet27XiMzQsSfkKgrk9u2MH6Vu6bLdT6bBJqMAt7pl/exA5Ct7fzqk73/AK6tfoXGak7L+tv8y1RRRVFhRRRQAUUUUAFFFFABRRRQAVZqtVmgCObtUVSzdqioAKKKKACiiigClq2lxaxYfZZ2KL5ivkKCflIOOfpRpemQ6VbPDAdwklaVmKgcsc44q716UuD6UrK9/wCun+SFyq9/66/5szdc0ga3potftL2rLKsqyooYqy9ODwar2ugTWxurltUmm1O5UIb54kJjQdFVPugdfrmtrB9DQQR1GKnkje4nBN3Zztj4UFvo91pd/qM1/a3BZtrxJGUZm3EgqPWr+laZd6ez/atTa+BAChraOMr+KjJ/GtLrS4Poaaik7olU4q1ugyRPMjZNzLuGNynBH0rJtPD4jlu5tQvZb+e6h+ztI6Km2Ln5QF4/iPPU1sYPpSkEdRQ4p7l2TafY5YeE5LcpcyapdXr2lvJDbwsiqoVlIxgdT79aPDuiXGn6Xp19q91dXc9nYqkVt5CqYPlG5Qq/ebgDnnj3rqKUgjqDRypf16/5mXsYJpr+tv8AJHN+GNMaK81HVJLaW1F5KTbwTLteKPqcj+HcQDj2q7baJLZ6tPc2uoyJa3EplmszEjKzEYJDH5hnGcCtfBHUGjB9D+VCikkuxSgrWfe/z/r8DD0/w7Jpl2ps9SdbFXLLaNbxttzzgORuxk5q9pmmR6XYvaxSNIryyylmAzl2LEfhmr2D6UYOM44oUUlZDjCMXdHM2Pg4Wwt4brVLi8srWYzw2rxoiq+4sCSvLYJyAe+D2ps3gpJrmQ/2pOltJdfa/s6xJ9/OeXxuIz2NdRtPofyrPutZtbXWLTSz5kt5dhnWONc7EHV29F7e56Zpezjdf1/W34E+xhy2tp/X+exTv/D02p6gk17qkj2scyzJai3jXaVOQPMA3YyM9eelPn8OQTwarE1xIBqcgkcgD5MADA/LvWztPofyowSM4OKailt/X9WRXs43v/XX/NjDFGWDMilh0JUZrAufA+iXz3suoWkd1c3js7XEiDemegU+3atbVNRh0jTZL66WRoo2RSI1ycswUdcd2FW1yyhgDgjNKUIT0krjcYtWaOOj8NahNrV/A2pXUFk1pbQSSCJc3YUMG+Y8qcdcf3qmm8P3k/iO8S1vJ9OsGtIocxxK3mgDBAY8gj1FdXVK/wBUg0+4soZ1kLXs3kxbACA2M889OKmVOLab7/ndfrsTGikrR/P5li1torO0htrZNkMKCONfRQMAflWVqXhqDUtSkvJLmWNmgMIVAPlOCA4PqATV7UdRXTVty9rdXAuJ1hH2eLfsJz8zei8dau4PYZq5JT1f9af5M05LRStoc5feFZbvR7PTINXmtre2VAdsEbGRlOQxJHHPYVpLpTG+sr25u3nuLWJ4yxRVEm7GSQOnTtSarrC6S9v51ldTRTOIzNCEKxEnA3ZYH8gam1XUBpVibl7a5uQHVDHaxeY/zMFzj0Gck9hmlaOr8/xEqOqa6+fYraporX99b3ltfTWNzCjRmSNFbeh6qQ38+oqfSNMj0fS4rGGWSVIyxDynLHLFuT361dAJ6Clwc4xVKKWwuVc3N1M3W9Ln1fT2tIdQkskkBWRkiVy6nt83SqMvhb7VYwQX2pTTtDby26y+Uikq6heg44ArT1fVINE0i51G8WQw2yb3EYBYj2BIpuo6vbaVpY1G7Egths3uqZ8tWIG5vRRnk9hz0FTyRbfnb/gDdO9pf1/Ww3TNIj0ye7ljleQ3Tq7BgPl2rt4qW909L24spnkZDZzecoUD5jtZcH/vqrSsGUMpBBGQR3FLViUYpWWxzS+CrWJ7qS2vJ4ZpblbmCRQD9mZRgBR0I56Gr1r4eijsr6K9uJL2bUARc3DqFLjbtAAHAAHYf1rXoqFCKEqcU72/r+mzD/4RySbRn07UNUnulBUwS+UkbwFfukFRzggdfSlbw/cT6PdWN7qrzm427ZVtY4zHgg9FGDyO9bdFDgnv/X9dxKnFWsYB8KR3MFyNWvpr6e4iEPnlViMaA5AULwDkA59hSHwnHdrcNrN/NqM80QhWVkWMxKDuG0LxnPOa6CijkiHs49v68+/zMBfC5lS7Op6nPfXFxataLM8aoYo264C8Ek4OT6CrGneH49KvzPY3MkcUkYWa2CjZK4GBJ/stjrjrWvRTUIp3X9b/AObH7OP9f1/S0EYEqQp2kjg4zisO28NMNU+36nqMl/KsTRIDAkQUN97OwDd+NbtFDim7scoqVrmLpWgT6VKqxapJLaRqVit5LePKDsN+Nxx703T9BvbPWJ76fW5rr7QAJYmto0DADA5AyMVuUUuRaE+zitvzZz+neFTZSW63Gpz3drayvNBbPEiKjsWOSRy2NzcH1qTT/DsmmXam01OQWSuWW0eCNsA84DkbsVuUUKCVv6/4cPZR/r+vwKenacmmxzrHIz+dO853DoWOSPpVyiiqSSSS6GhzFx4KS4uJj/ak6W0t19rMCxJ/rN2fv43EZ7VoXPh2G5tNQt2nkVb+cTOQBlCMcD/vmteipUIqPKtv6/yRHs4pt9/+D/mzzjUtKvk8T3t9b2Fw1/8AaA1o/wDZyTRsAAATMwyox27V1M3h64kvWvrXUWsJ7hVN1GsCTIzgdRvBx6cdeK3qKiFJRVv6/ruR7GN5PuYl/oV5d6xHqFtrUto0cXlpGLaORV9SNw4JpLrw5LJfteWWqSWk8yKtwfs8ciylejYYYU9en9K3KKvkRTpxd/PzZi6zoV3qz2/laxLZpbusipHbRtl1OQ2SP06VzfinR5rnX0mvLa7uhHaRrFPDpqXW9wWLZBGI/wCE8dc+1d9RUzpKS/EmdKM013/Qwv7KvdW0LTjqMxsNTtysolgVT5bem08HI6iti2jlhtkjuJzcSqMNKUClz64HAqWitLJNtdS4xSt9wUUUUywqzVarNABRRRQAUUUUAFRzdqkqObtQBFRRRQAUUUUAFRXNul3ay2827y5VKNtODg+9S1FcXENpbPPcyJFFGu5ndgoH4mk7W1AgsNLttM8z7KHHmBA25s8KoUfoKlvrOHUbCazudxhnQo+04OD6GqOmeJdL1e6+z2Vyjy+Usu3zEJwSeMAnkY5Hbir93cfZLKa4K7/KQvtzjOB0qXyyi77Ew5be6Z2n+GrLTpGlSa7nn8nyEmuZzI8SeiE/d/8ArCm6b4ZtdMvp7qK81Cd7j/XJcXJkSQ4xkjHXFWdP1uyv9PiuRc28ZaBJpYzOpMIZQfm9OvU4qPTPEmk6tCZLO+gOC2UaVAwC9TjPT3oagpWe+v8AwTKKpNRt8g0/QLfS7gPaXd8IVBCWrXBMKA9gnYDtWm6h0ZSSAwxkHBrN03xFpWrM62V7A7pIybPNXc204JABOR71cjvrSafyIbu3km27vLSVS2PXAOcUR5XHTZmkXFfCUf8AhGtL/s+2s1t9iWrI0UiYEgK9CW6n39aeNAsFtYbcLJ5cFyLpPn58wNu/LPar4miaZolkQyIAWQMNyg9MjtVW71D7Nf2dpHF5st0x/ixsQDJY/wAvqRTtFO/9dP8AJfcHLFLb+v6ZSj8KaXE8Lok2YblrpMyn77dQfVfQe1SL4dtotRa7tbq+tt0nmvBBcFYXbuSnv3qzd6j9m1Czs44jLLdM3AbGxFHLH16jioY9fsptd/sqEyPOI2cuE/d/KQCN3c/MOlSlBNJf1YTjDqLLoFhNZ3NtIsnlXM/2iQB+S+c8HsM9qrXnhPTL68lnuDc7ZpFlkgScrE0i4w+3+9wOfapJ/EdtbaklrPbXkcby+St20QEJk/u5zn8cY96j1PxMNJaU3Ojaq0MbBTcRxRlGJIAx8+TyQOlL93ZLp/X/AACZOnq5f1v/AMH8RL/wjpeo3E8twbkLcbTNDHOVjkYdGK+vHWrc+h2VxFqEciybdQA+0YfGcAAY9OBWgDlQfUZ5rGv/ABTZafeSwvBdTJb7PtM8MYaO33HjeSQffgHAqmoR3KahG8mYOraBqn9uXlxZWl3Isqxi3ltL2OFU2rj5w3JPuK7GyS4isLeO9lWa5WNRLIowHfHJA9zUwIZQynIIyCO4rI1PxJa6XdPA1vd3TRRiW4NtGHFuh6M+SOOD0yeDSSjTvd7kqEabc77k2p6JHqrDzr6/gTaUaO2uTGjg+oxzUF14X0658ryjcWXlwi3/ANDmMW6IdEbHUD+ta0UqTwpLCweORQysO4NZ2r+IrDRZIYrsyNJM6qqRJuK7jgE9gM03GOzW5UlCznLYj1DwxZaha29sbi9tbe3ACQ2twY14IIJA6kEZpdR8OW+qWEVpdX2o+VGoB2XRUyY7uccnitSWWOAAzSJGCwUF2AyT0HPeqOp61Fps0UAtbq8uJVLrBaorNtHVjuIGPxpSUEm2DjBJthcaJbXekx2FzNdSrGyuk7THzlYHIYP6g96jn8PW1zZQQTXN60luxaK7+0Hz1J6/P+lRN4psjZ2c1tBd3Ul5u8q2gjBl+XO7IJAGCMHmh/FFp/Z1nd2ttd3f2xikcMEa+YGHUMGYAEd+aUnDW5P7t/d+Bp2Vp9itVgE9xcbc/vLiTe5+pqDVNJt9WiiW4aaJ4X3xSwSbHQ+xqC41+O1tLaSaxvRcXTlIrIIpnYgEnjdtwAM5zVnTNUt9VsBd229FyVdJV2vGw6qw7EVXuv3WUnB+6VLPwxpthAkVus21Lo3YLSkkyldpJPfI/WrJ0ayMd/G8ZdNQYtcKzZDZGOPSnaXfnU7L7UITFGzsI8tneoOA3tnGfpVmWWOCFpZ5EijQZZ3YKqj1JPSnyxa1X9f0kVFRS0MxfDlp/ZT6fcXF5dRMwZWuLgu8ZHQq3bGKVPD9v9he0ubu+vI3kSTNzcF2UqcjB7DIq/He2s1uJ4rqCSEnAlWVSpP1zikjvrSa3eeG7gkhTO+RJVKrjrkg4FK0SVGGlieormD7TbSQmWWHeMb4X2uvuD2NRwalYXSu1tfW0yxjc5jmVgo9Tg8UseoWUtq11FeW726/emWZSi/Vs4FNtNFcyfUq6boVrpk08yyXFzPOoWSa7lMjlR0XJ7dePeq8XhXT4rO6s/Mu5LO5Rka1knLRxhjk7B/DzWlbahZXu77HeW9xsGW8mVX2/XB4pYL6zuo3e2u7eZI/vtHKrBPqQeKVokqMLKxmW/hTT4HnkeW8uZZ4Ps7yXFwXYp6Z7VaOh2LCEPGzrDatZqrNkGJgoIPr90c03R9WbVVunNusUUMxjikS4WVZlH8YK9PoamXWNMdmVNSs2KAlgLhDtx1zzxSXJy+T/r9fxCPJa6/r+rFGx8KadY3QuA91cTLEYVe5nMhEZH3RntTbHwjp1hd29xHLeStaqyW6zXBdYlIwVUdh/hVrSfEOma1GG0+7idiWHleYu/g8naCeK0WdUQu7BVUZLMcAD60KMGk0KMKbXuor2VhBp+nx2Vsp8iNSqhjk4+tZdr4Q0y0uop0a6kaAMsCyzllhVhgqg7Dnp7CtppY0VS8iKHICksBuJ6AetRx3trNcvbw3UEk8f34klUuv1AORVOMW9Smo6XM2LwrpcKxrGkuI/L25lP8Ayzbcv61HH4Q0yK7jmV7srDObiKA3B8qJySSVXtksa1hfWjTrCt3bmVwSsYlXc2OuBnJqnf69aWV/aWQlhlubicQmFZlDx5BO4r17frStDR+f4/8ADkuNNLXoRHwxYlox5l0IkmM5gE58t3LBssvfBAIpJ/DFtcaympvf6ks6E7Al2Qig9VC46cdK0ze2ovBaG6g+0kZEHmLvI9duc0jX1otwkDXcCzOSEjMq7mI6gDOTQowVrdP+GHKMJXucU+ga7Hqly9nDcwTyXXmR3cd2gt1UkdYvvHgEEd67wZwM8nHNFFFOCpx5UEYKMm11MPU/CWmatcTyXRuQtyAJ4opyscpHRmXuR6+wq6+i2b/bNyv/AKZEsU3z9VAwMenFX6KfJG1rFKMU+ZLUzL3QLS9htE826tns12QzW0xjkVcAEbu4OB+VMu/Dtrd3S3K3N9bXAjEbzW1wY2lUdN571rUUOKbuxckX0KqadAmoLe5ka4EAg3M+cqCTz75J5q1RRVbFhRRRQAUUUUAFFFFABRRRQAUUUUAFWarVZoAjm7VFUs3aoqACiiigAooooA5n4ganHpfhKSSe3jnhmlSGQ3EhjgjVs/NKw5CDHOPUV5va30cfgTXo1u7ax0uDU7Bop9MnkEESNMm94pHGccdRxkGvbgcdKo6xpUOt2C2l1JIiLPFOGjIzujkWQDkHjKjPtRHR39PzRV/ei+x5bfyaVB4Y8Tz+F7ryPDe23K3VtMwjE24eYyP9MZI75rp/BJ0g+I9Xk8IyrPoZhi3zROXie5yxcq3Qtgjdj/Zrq9a0qHXNLksLqSRI5CpLRkbhggjqD6VfJJOTT6f12/rT0M7av+upyGr69ZeJvhfqep6JPMYJoHSOQxtG4IbBIB5GDWdqHg+HR/COq3+lS3b3Vxozx3Chi73UgXIlPOd4+Ycf3q7/ACc5zRU2tJyX9b/5lPVJP+tv8jzQ6/Za5r9xJo16bqCLw26tNCSY/M38gN0LDv3FWPC+lwaP4n8PNZCUPqehvLfSSSMzXEieRtZie43v+deiZJ6k1Wvrea7sZYLe9msZXHy3ECozx89QHVl9uQetUnZ3t/Xvf5/gG9k/62/yJZmCwSF38tQpy/8Ad4615Z4Bu7S21bULPQzpWtXclnJL/bGmTNIzuCdv2gHhXctkY4JVq7ix8P6raXsU9x4w1e+jQ5a3ngs1ST2JSBW/Iit8knqc0rbjv0PHPAWZPFlpImo6Hb6iBL/aVvHczNfXHyn5ZY3AAIbDfgMcV0Xg3wfbTabpWtvd3R1GOaVnmkcsXhLOPIwTwnII+leg5OMZOKSh6tPsScBpFvO+sW/hiVpDHo1694xZyWeHrDk/9dGz9ENcx4bM8/jm0e61DQ7DXvtzm8SW5m+3zJlsxGNht2kbduONoGK9mzS5OMZOKI3TT/r+tBvVNf11/wAzzzw74Rt9TafVp7u6GoW+sPLbzM5byI1dd0SgnAVgCD9fat3RiT8RPEIudvnCO3+z5+95GwZx7b93410tZ91ottc61aaqGkhvLVSgeI48yM9Ucd1zyO4PTFKK5Yxj2X6Wv+H5g+r7/wCdzx7UNNRrm5u2Nw0xttQn3GVvvxXMXlcei7mIHqTWlrT6ZLc6udbkceLhdY0WMSFJ2jyPK8kZ5GOp9c5r2DJ9aMnGM8UJWjFdlb/g+TG37zl3/wCCePeJjpF5fauviKMXHiSC9thYw4ZnjtwYjvRR/BuMmW6ZqDxg7y+Mr5NUvtE0y6URjS7rVLuaGWJcD54No2nnr79a9oyfWgEjoSKErSv/AF/w4ulv6/4Y4bxK/jpNVA8Pi4e18pctDFZlS+Pm/wBbIrfpXZW6u1rCbpczBQW3AZDY56cflU1FPpYDjvG19odle6ZLqF1bQahFcI6GSXa6xZbJxn7uRUmpafY+IPEU32ktdWf9neZGqyHy2O4YbjqfQ11wJHQ0may9ne9/X8Lf8E6FW5UrXuvPzucFe+ILOLwBoR1fUIYrueK2mZZXCswwNzYq7451HQH0W2ubq8tfOZ0lspDLgsA67mXB5GOtdjkjuaMkdzVzi5X8wVWKaaT08/8AgHK6jDYeI9c0dTL9r06e3mYiKQ+XMOMZx1FczczXH/CL6PHeG3Ompc3MczahI6wjbIwiV2UZxjOM8ZA9q9PzRk+tJxurf1uVDEctlbb/AIP+f4GD4QiP/CMxpJd2d9CXfyTasZIlj3fKgLckKOOfSte9EB0+4F5t+zGJhLu6bMHdn2xmp+vWqWraXBrOnPY3jSC3kZfNSNtvmKDkof8AZOMEdxkdCaqS5lYwcrz5vO5neBzcnwLo5vt3n/ZV3buvtmt6kVQihUAVVGAB2FLVyfNJszWiCiiipGFFFFABRRRQAUUUUAFFFFABRRRQAUUUUAFFFFABRRRQAUUUUAFFFFABRRRQAUUUUAFFFFABVmq1WaACiiigAooooAKjm7VJUc3agCKiiigAooooAKzfEME9x4fvI7Tb5piO0PB5wbjpt71pVT1LVbXSY4XvDL+/k8qNYYHmZ22lsBUBPRWPTtUTScWmVGEqj5Yq78jlvBGgXun6jdXV+IR/o8ESgWAhOQmTg57biD6nr0rqtURpNHu0jUs7QsFVRkk46VS/4SiwH/Lvq3/gnu//AI3UF54mjNo39nw36T/wtcaJeMg+oVAf1qHKnyONy6eBr0o2jTl9zM/RtCisp/D3l6aIl/sx47vMXciM7Xz3zu4PvUvhS2tbES6bc6S8N2ksuZTYkRuhPGJdu0gjtmqv/CR65/z0h/8ACd1Gj/hI9c/56Q/+E7qNQ6kObm9e3XXuYRwWIgklSlpb7PlYs6FBbaddahYy6VJBdG4mkinWxPlmNvmGJQu0cHGM9qx/CtvDc2+gDS9OnhltpHmu7t7Z41ZTuBAdgN+SeikirzeItbZSpeHBGD/xTuo1DZavqunWUVpZmJIIhhFPh7UjgZz1PNTGUYpLtbt0+f39xSwWJck/ZStr9nvY6i1Ft/wkt8Y9MmhuDFH5l6yYScc4UHuV7/Wqujf8THWb/V25jB+yW2R/ApyzD6tj/vmsj/hI9c/56Q/+E7qNH/CR65/z0h/8J3UatVYp/f26/M1+q4n/AJ9S/wDATY0f/iY61f6seY1b7JbHtsQncw+r7vwArPub9F8eWbx2OoeTFbywPImnzeWHZkI+YLjHB56e9V/+Ej1z/npD/wCE7qNH/CR65/z0h/8ACd1Gp9pHTy9P8xSwuKasqUt/5STUtSbUvE6Wl/Y6lFp1jMGUpYTOLqUdDuVSAg+vP0rVv47jU/E1pamGQWNmPtU0jIQksnREB745Y+mBWN/wkeuf89If/Cd1Gj/hI9c/56Q/+E7qNEakVv3v0/z/AKsL6rine9KWv938Dp7nUmttVtLIWN1MLkEm4jTMcOP757ZridY0m7e91yxuYdQuIr+TzbOK3hbyJGZAh82Rc42lQcMV6d81f/4SPXP+ekP/AITuo0f8JHrn/PSH/wAJ3UaUpxlu/wAtvvCeExM1Z0pfd5W/U6GS9fS/7MsjY3d0ZysLTQJuSHA+857D3rl9dsLpfEGqLcRahLZahChgjsYSyzSBduyVlB2r0POByeetT/8ACR65/wA9If8AwndRpf8AhI9c/vw/+E7qNFSUKitL9P8AMHhMVaypS+42LaWXw7oOlWj2V1ePlLd/sy7/ACs/xN/sj1rP8dTf6Db28FleXE5uYZWNtZySjYrc5ZVI49OtVv8AhI9c/wCekP8A4Tuo0f8ACR65/wA9If8AwndRqpVVLr1v0/zB4PE8jgqUrWt8PyN3VprS7060nuNKur+J7iNkiEDB4m3cOynBUKeTmsrxXFI+s2TyQ30VssMg+2adbvLMrn+DCAkKR6jB9RVf/hI9c/56Q/8AhO6jR/wkeuf89If/AAndRqZzhJW/y9O45YXFSWtKXT7PZ3KCafqVrHo9zdQ3tnarbTWs4063LzKrOGRto3Mu7bzgHGcHGeLltpNvYeG7YXsWrWRF3LPbpp0TyyxBmJAbarEcYznvUn/CR64ejw/+E7qNJ/wkeuf89If/AAndRpOUH/S7379zNYHEJ39lL7vK35Fe5t9b8nSr+9a/WON54pZLeHzLpIXwUYquTu+UZIBIzyOuJLW1m0/w5NZWkc1tLrN6y26TZ8xI2PLsOoOOTnkVJ/wkeuf89If/AAndRo/4SPXP+ekP/hO6jQnTTv8A5baX69bFfU8Tv7OX3HYW9vHa20VvbrtihQIi+gAwKyPFkl1Hoy/Y7X7RumRZD9nafy0zy/lLy+PSquneJpVV/wC11uZWJHl/ZNCvkx653Ic1d/4Siw/599W/8E93/wDG63lOM47m/wBTxDjZU5L5M5CLS7250PUYZbKd4ptUgkRfsTW4dMJuYR5JUcHP45xVjxJZNp8OtJZ2ghgnuLMRIsR8uU7sEbVGWz0IUEn0NdP/AMJRYf8APvqv/gnu/wD43VTUdW0bVbUW95a6wUDh1aPS7xHRgchlZYwQR6is2oclk1/Vv8jL+zcRZ2hK9uz8/wDM5qK0e70fW/7Ogjt9SuJ4prizis5I9sIAHypIqM+dpPQAnIrX0OKO0t9V1CVLq7RolD2Q0V7UPtBxtjb75PTj8as6bfaHpTzSWttrbzTY8ya4069mkYDoC7xk4HpnFaH/AAlFh/z76r/4J7v/AON0oqCXxK9v+AKGXYlNSlTd15P+upg29v8Aa/Cuqx6XZT2+p3SeZKH097ZTzwi7lUNhRjrz+NP8MWiw3097I1ztS08t7b+xJLRSMg98iRhgjjPU9a2JvF2l28Ek1xHqcUUal3kfSbpVRQMkkmPgAd626uMYuXNF7L/PzJng6lPldWLXyaucLZXUcWk+JY4LK9sVleSaFpLKS3XaRjILKAD7dar+DoLWTWbZtSs7e2uRpwtoohYzRrcKMF2JljUM3TgZ4Jrvbq1hvbSW2ukEkMq7XU9xVDT/AA7YaddLcQ/aZpkTYj3V1JOY17hd5O3OBnHpSjTlGS7JJfcmvyZhKlJuL03f4tP9DK8JQ2+nb9Pl0uS3vY5ZczfYmCMucjEoXacjtmuh1CD7Vpl1bkZ82F0x65UirFFaKCUOTysbwXKcFbRaxqDaVDdW1ykJlEqB4mVbfyvu7sjjdjPNM8MaXcR6rpq30lxb3VmzGVV0d0EhOQwa5yVcE/NnPPHTpXoFFHs/e5jF0E7NvY5Lw54WtBpqTXdpJDeLfNciRgVcENkDJ52n06EGs+ytpPO0uF9Huf7Qg1JpLy7a2IGMvhvMI+YHI+6TjjOK72ilGmoqKXT/AIH+RcqUXsedw6VdnW3h1GSeCY6gJ1ki0d5dw3AqftKkhQQMHOMDORVq80R/7N1S5j09zfNq3mxSCImTbv8AvL3xj04ruqKUKShby/4H+RLopqS73/G/+Yp+8frSUUVsbhRRRQAUUUUAFFFFABRRRQAUUUUAFFFFABRRRQAUUUUAFWarVZoAjm7VFVmigCtRVmigCtRVmigCtRVmigCtRVmigCtRVmigCtRVmigCtRVmigCtRVmigCtRVmigCtRVmigCtRVmigCtRVmigCtRVmigCtRVmigCtRVmigCtRVmigCtRVmigCtRVmigCtRVmigCtRVmigCtRVmigCtRVmigCtRVmigCtRVmigCtRVmigCtRVmigCtRVmigCtRVmigCtRVmigCtRVmigCtRVmigCtRVmigCtVmiigAooooAKKKKACo5u1SVHN2oAiooooAKKKKACsTXzINT8PmFVaT+0H2h2wCfslx1IBx+VbdYfiJJJNQ0BIZjBI2oOFkChip+yXHODwaiWy9V+Z1YX+I/SX/pLIfDTTW2iXrG3nnuEu5S8C3QmLMcHCM4QY54BxiqPhAtqV9c6ne6bfxXLTygXE9ypjA3YEYRZCOBxnb+NbWiaNc6Q05n1WW+WZzIVkgjTaxxk5UD06Va0vTU0q0aCKRpFaV5csBnLHOOK9CdaK5+XVvrr8/wCmE6iXOo9Xvrt/XcuUVW1C9Gn2Et01vc3IjAPlWsRkkbnHyqOtYUfjeORiP+Ec8TLgE5bSXHSuI5TpHbZGzddoJrj9F8a6lqN3o7XuiR2dhrBkjt5Rd75VdFZvmQLgKQpwQxPqBV+18Xx6hdJaf2B4ig847PNn0x0RMjqWPQVJbeEra1t9DhW6mYaK7vESB+93Kynd/wB9np6U1bd/1v8A8AXW3k/+AZT+P1g8ZRaLO2jus87W8cdvqglvI3Ck5kgC/IvynkMccZHNZ9r8S9SmmgaXw9HFayyQ5l+25ZUkn8nO3b97cQcZxjOSDgHQs/hylpe2btrd3JaWF493a2nkRqELb8hmA3OP3h5Yk8VYT4fWSW0UIvrgiLycEqvPlziYfmRj6Uo/Zv8AP01/Ww3v5f8AB/yMy2+KVpceI4rINpDWk94bONYtVR70MCRva3A4QlT/ABFsEZUcgd/XMWHhK40jU/O0/W7hNNWVphprWsUg+bJKiQjeBk8DPHQcUN44iWRl/wCEb8THBIyNJcg0LZLqD3b6HT0VzH/Ccxb9v/CN+JuuM/2S+K6WN/MjV9rLuUHawwRnsR2NAdbGNf8AizTtNv2s7iDVmlUgFrfR7uaPn0dIyp/Oi98W6bp981pcQas0i4yYNGu5k5GR86RFT19eO9N1DwR4X1bUGv8AU9A0+7u3ILTzQBnOOnNF94H8Lapfte6j4f0+6umxumlgDMcAAc+wAoXmBuKdyhhnBGRkYqjqWmvqFzp8q3cluLO485kT/lsNpXaeenOe/SryqEUKowqjAA7CloHFtBRWRe+IEsrt4DpWrTlf+WlvZM6H6MOtQHxWg/5gmvf+C5qnmRoqNRq6RX1vxVdaXqxs7bTFuVUwK0jT7OZX2KAMH+LH4Z74BJ/FcsXh+1v2TTLWWZmVlv8AUPIiDKcEK5Uljnp8o98VK2jW+vy/2k/220aSS3fyZ4fLYeTJvHB55PFMl8IANavZanNay26yIZPJR96u24jDDA5PUc1Hv8vnr/wDZexTSktt9+3+ZT1nVH17wFFqFnF/o0xV5zFetC6BZBny3VG3cr3xkfWtbWdZu9OvNNsdOsFvJ7/eqeZP5aptUHLHBOOecAn2NVX8IyL4ah0Sz1m5t7ePdvfyY5Gl3MW5LDjBPatBdFZ7vTLq8vpLm40/zMOY1Tzd4AOQBgYx2rT7T7CcqaXdLmstflf8B+h6nJq2m+fPbi2nSV4pYlfeFZWI4bAyD16DrWjWF9oi8NK1ulnql8J5XnL21oZQpY9CRSf8JWn/AEBNd/8ABc1TGWivv19epDpSk24rQ1dRtWvtLurRJmga4heISp1jLKRuHTkZzTIYZtO0VIYd15Nbw7U3ttMrAdyemaTTdTGpxu62d7a7DjF3bmIt9AetWbmJp7WWFJXhaRCokjPzJnuPem9m0Z6r3ZEOmT3d1pNrPqVmLG8kiVp7YSCTyXI5XcOGweMirVVdMs30/SrWzmu5r2SCJY2ubg5klIGNzH1PU1aq5WvoZrYKKKKQzH8X/wDIj67/ANg64/8ARbVsVj+L/wDkR9d/7B1x/wCi2rYqF8b+X6nTL/d4/wCKX5RCiiirOYKKKKACiiigAooooAKKKKACiiigAooooAKKKKACiiigAooooAKKKKACiiigAooooAKKKKACrNVqs0AFFFFABRRRQAUUUUAFFFFABRRRQAUUUUAFFFFABRRRQAUUUUAFFFFABRRRQAUUUUAFFFFABRRRQAUUUUAFFFFABRRRQAUUUUAFFFFABRRRQAUUUUAFFFFABRRRQAUUUUAFFFFABRRRQAUUUUAFFFFABRRRQAUUUUAFFFFABRRRQAUUUUAFFFFABRRRQAUUUUAFRzdqkqObtQBFRRRQAUUUUAFY+t/8hfw7/wBhF/8A0kuK2Kx9b/5C/h3/ALCL/wDpJcVE9vmvzOnDfG/SX/pLNiiiirOYKKKZM/lwSOFZyqk7V6njoKHoBJgjsaMEdQfyrxbwjqkV745sbzTYdNtzew3P2yOymlknUkBgl1kbRID2HfdirHgqbRrm98OSaBem+1wNL/asiTtK6Q4cbZT0ABwFB74oWv4fj+ndibs7Lz/A9hwfQ0lePeH5NKu9T0Z9EvPtniWLVZxfbZ2eSG1DyhkcfwoPkwD3xXp8Wv6fP4muNBikkN/bQLcSIYmChGOAd3QnPahaoLmng+howfSvOfCvhC11MTaxPc3S6jb65dyQTlyfKRbiQeUoPAQ9SPU1nX+u21vb3Oivcyf2o3ia2k+yqGMiRGeE72H8KHBGTxk471UVeSj3/wA1/n+BUlaVvP8Az/y/E9XwfQ0leWahpFubfVtfYTPqdnrjC1maRj5C+bjag6BTkkjvmvVG+8frURd4qX9bJ/qJtKTj2/za/QME9AaME9BXlfim60qx+JS3c0+k61eB4Vj0yWZhfWzcDECjg5+9g96z/FzTy+OtQTU73Q9OuhNENIudUuZopUTauGhCja37zfnuTweMU1rbzB6X8j2QAnoDSYPpXA3Phe18TeNNXh1qWa4hSxt1WIORH5hX/Wgf3h2pNbiu/D+om0innum13T0sVlY4JuUwhf0DNG5bH/TI0ld/16/5fiHX+vL/AD/A9AwfQ/lQAT0BryHx3bR2Wt2Wn6u+kJpUFiqWkmtXE0URl6MVZBgyfU5xnFa8Hh5fEGuaZaeIb5tUhXw/H55hkYQ3blm/eHpnpkfWi+mnd/hf/L8Q238vxt/mdzq+q2uiabJe3zMI0IUKoy0jk4VFHdiSAB6mrasWiDlGX5clT1HtxXH39gdJv/BthcXL3NrBdyIZZv4nEMnlhu3BwB7gd6q+OZdFPiOxt/GTqNHa1dreKViI5rnONuB95sbdo9ziiWm39f1/kEbvf+v6/wAzsNI1OHWtMivrRJFilLACRQGG1ipyAT3U0271aCy1bT9OlSQzX5kERVRtGwAndzxwfevIrzfD4P8AC8N5Dp8GhCO68xNZaWG3SXzT5SvtGQ23fgNxn3xVy9GlR6Z4M/4SzW7GbSvMus3MNywt3jKjZGXbllxgc9cVbS5mvMKeqV+zf4HsGD6UYPoa8t0++ttCh0W/urk2Xh6LVLkWk85Kxx27QnZkn+Evu2k9QRWJquswN4ZguL6JrjSrnxFdvPa3kwtVljDkqGeQgLjqFJGelT0v6fjb/MI3ad+n6X/yPbCCOoxVHVdYs9Es/tWotMsOcZit5JiPqEViB74xXnvhmzvbH4cLJ4DeKSe61CSZ1sJoLgRIxOIy8rBTtG0cH6cV1Ogt4gPhm/8A+EoEwudr+X5qwKdu0/8APFiPz5rSmouaUttPL7tw6pdzV0TxBp3iO0Nzo8ss0GARI9tLEGBGQV3qNwx3GRWng+ledPDLN8CNDgjnntnez09PMhYq6ZMeSD2NWvEHh208M6LdXmmyTQ2zXdnNcR7iVjEcymSUn3XJY+1ejLBUnU5YyavJxStfZrd6d+3QzhJyt6J/fc7rFNmcwwvJ5byFVLBEA3NjsM96851fWW1S18S3Xh+VrmApbL5y7/LeP+NlKjJXHBK+/pV34brb+ZqLaZf6NLZYjxaaRcPLHC/PzHd0LD88VNTL5QoSqydmraW7pb9t+3QaqK6NjXdSttX+G2r31i5eGXTbgjcpVgfLbIIPIIPBB5Bro64OXI8N/EAR/wDHoDc+Tjpu8j95j/tpu/Gu8ryvtX7pP79Trl/u8V/el/7aFFFFUc4UUUUAFFFFABRRRQAUUUUAFFFFABRRRQAUUUUAFFFFABRRRQAUUUUAFFFFABRRRQAUUUUAFWarVZoAKKKKACiiigAooooAKKKKACiiigAooooAKKKKACiiigAooooAKKKKACiiigAooooAKKKKACiiigAooooAKKKKACiiigAooooAKKKKACiiigAooooAKKKKACiiigAooooAKKKKACiiigAooooAKKKKACiiigAooooAKKKKACiiigAooooAKKKKACiiigAooooAKjm7VJUc3agCKiiigAooooAKxPEUht7rRLpobiWK3v2eX7PbvMyKbaZQdqAnG5lGcd626KmSurGtGoqc+Zq+6+9WMf8A4Siw/wCffVf/AAT3f/xuj/hKLD/n31X/AME93/8AG62KKVp9/wAP+Cac2H/ll/4Ev/kTH/4Siw/599V/8E93/wDG6P8AhKLD/n31X/wT3f8A8brYootPv+H/AAQ5sP8Ayy/8CX/yJjP4osHjZWg1bDAj/kEXf/xuqekarpWjaNb6bbR6y8NupVWk0i6LEZJ5xEB3rpaKPf7/AIf8EObDb8j/APAl/wDInNaRqulaNpqWNtHrTxI7uDJpF0Tl3LHpEO7Grv8AwlNhjHkat/4J7v8A+N1sUUWn3/D/AIIKWGWnI/8AwJf/ACJj/wDCU2H/AD76t/4J7v8A+N0f8JTY4/1Grf8Agou//jdbFFFp9/w/4Ic2H/ll/wCBL/5Ex/8AhKbD/nhq3/gnu/8A43XOTvcSzySR+L/GEKsxKxp4fQqg9BmzJwPck13dFFp9/wAP+CHNh/5X/wCBL/5ExIfE1nFAkbrrErKoBd9HugW9ziID8gKePFNiOkGrD/uEXf8A8brYoo9/uvu/4Ic2H/ll/wCBL/5Ex/8AhKbD/n31b/wT3f8A8bo/4Smw/wCeGrf+Ce7/APjdbFFFp9/w/wCCHNh/5Zf+BL/5Exx4psB0g1Yf9wi7/wDjdH/CU2H/ADw1b/wT3f8A8brYootPv+H/AAQ5sP8Ayy/8CX/yJzOsalo2t6ZJZXttq+xiro6aRdh4nU5V1PlcMpAIPqKux+J7FI1UxauxAwWOj3WT78RVs0UWn3/D/ghzYf8Akf8A4Ev/AJEx/wDhKbAdINW/8FF3/wDG6P8AhKrH/nhq3/gou/8A43WxRRafdfd/wQ5sP/K//Al/8iY//CU2Oc+Rq2f+wRd//G6x9dn07WriyuornxDpt7Ys5gubXR52ZQw2sNskDKcj1GfSuwootPv/AF94c2H/AJX/AOBL/wCROS0K60rQoLgKddvbm7mM91d3OkXPmTvgLkhYQowqqMKAOPXJrV/4Siw/599V/wDBPd//AButiij331X3f8EObD/yy/8AAl/8iY//AAlNh/zw1b/wT3f/AMbo/wCEpsP+ffVv/BPd/wDxutiii0+6+7/ghzYf+WX/AIEv/kTH/wCEpsP+eGrf+Ce7/wDjdMm8TWUsLoE1iMspAddHusr7jMWM1t0UnGTVr/h/wQ58P/K//Al/8icTqF3ptv4D1DRtHstXZnsZoolbSrstJIyMMszR8sWOSxPU5NdtRRVJO7lJiqVIOChBNJNvV33t5LsFFFFUc4UUUUAFFFFABRRRQAUUUUAFFFFABRRRQAUUUUAFFFFABRRRQAUUUUAFFFFABRRRQAUUUUAFWarVZoAKKKKACiiigAooooAKKKKACiiigAooooAKKKKACiiigAooooAKKKKACiiigAooooAKKKKACiiigAooooAKKKKACiiigAooooAKKKKACiiigAooooAKKKKACiiigAooooAKKKKACiiigAooooAKKKKACiiigAooooAKKKKACiiigAooooAKKKKACiiigAooooAKKKKACiiigAooooAKKKKACiiigAooooAKKKKACiiigAooooAKKKKACiiigAooooAKKKKACiiigAooooAKKKKACiiigAooooAKKKKACiiigAooooAKKKKACiiigAooooAKKKKACiiigAooooAKKKKACiiigAooooAKKKKACiiigAooooAKKKKACiiigD//2Q==)"
      ]
    },
    {
      "cell_type": "markdown",
      "metadata": {
        "id": "W184w-viCgmT",
        "colab_type": "text"
      },
      "source": [
        "Für das Layout verwenden wir in diesem Notebook **Dash Bootstrap** (https://dash-bootstrap-components.opensource.faculty.ai/). Dies ändert nichts an den Konzepten von Dash, macht den Layout-Code bei etwas komplexeren Beispielen aber deutlich übersichtlicher."
      ]
    },
    {
      "cell_type": "code",
      "metadata": {
        "id": "4dy0LgFyCBRh",
        "colab_type": "code",
        "colab": {
          "base_uri": "https://localhost:8080/",
          "height": 671
        },
        "outputId": "61f6ab68-92fe-47f1-e5ac-ae3d79f41285"
      },
      "source": [
        "app = JupyterDash(__name__, external_stylesheets=[dbc.themes.BOOTSTRAP])\n",
        "\n",
        "\n",
        "# Das Layout wird ähnlich wie in HTML festgelegt\n",
        "# Der dbc.Container ist ein Dash-Bootstrap Element\n",
        "app.layout = app.layout = dbc.Container([\n",
        "     html.H1(\"Hallo\"),\n",
        "     html.Div(\"Hier ist Dash :D\")\n",
        "])\n",
        "\n",
        "# Die JupyterDash-App wird im Notebook selber angezeigt\n",
        "app.run_server(mode='inline')"
      ],
      "execution_count": null,
      "outputs": [
        {
          "output_type": "display_data",
          "data": {
            "application/javascript": [
              "(async (port, path, width, height, cache, element) => {\n",
              "    if (!google.colab.kernel.accessAllowed && !cache) {\n",
              "      return;\n",
              "    }\n",
              "    element.appendChild(document.createTextNode(''));\n",
              "    const url = await google.colab.kernel.proxyPort(port, {cache});\n",
              "    const iframe = document.createElement('iframe');\n",
              "    iframe.src = url + path;\n",
              "    iframe.height = height;\n",
              "    iframe.width = width;\n",
              "    iframe.style.border = 0;\n",
              "    element.appendChild(iframe);\n",
              "  })(8050, \"/\", \"100%\", 650, false, window.element)"
            ],
            "text/plain": [
              "<IPython.core.display.Javascript object>"
            ]
          },
          "metadata": {
            "tags": []
          }
        }
      ]
    },
    {
      "cell_type": "markdown",
      "metadata": {
        "id": "J9MZQZRm9M8y",
        "colab_type": "text"
      },
      "source": [
        "Wir setzen jetzt einen der Iris-Plots aus dem Pandas-Notebook in Dash um. Hierfür verwenden wir das `plotly.express` Modul, oben importiert als `px`. `plotly.express` vereinfacht die Erstellung von simplen Graphen und wird in der Dokumentation empfohlen: https://plotly.com/python/plotly-express/"
      ]
    },
    {
      "cell_type": "code",
      "metadata": {
        "id": "c3JAcqKs9L2v",
        "colab_type": "code",
        "colab": {
          "base_uri": "https://localhost:8080/",
          "height": 671
        },
        "outputId": "aa3f3944-9f15-4933-9d2d-d4412c7fe523"
      },
      "source": [
        "app = JupyterDash(__name__, external_stylesheets=[dbc.themes.BOOTSTRAP])\n",
        "# Scatterplot erzeugen\n",
        "fig = px.scatter(iris, x=\"sepal_length\", y=\"sepal_width\", color=\"species\")\n",
        "# Die Minimal- und Maximalwerte der Achsen\n",
        "fig.update_xaxes(range=[4, 8])\n",
        "fig.update_yaxes(range=[1.5, 5])\n",
        "\n",
        "app.layout = dbc.Container(\n",
        "    [\n",
        "        html.H1(\"Iris Data\"),\n",
        "        dcc.Graph(id='iris-graph', figure=fig)\n",
        "    ]\n",
        ")\n",
        "\n",
        "app.run_server(mode='inline')"
      ],
      "execution_count": null,
      "outputs": [
        {
          "output_type": "display_data",
          "data": {
            "application/javascript": [
              "(async (port, path, width, height, cache, element) => {\n",
              "    if (!google.colab.kernel.accessAllowed && !cache) {\n",
              "      return;\n",
              "    }\n",
              "    element.appendChild(document.createTextNode(''));\n",
              "    const url = await google.colab.kernel.proxyPort(port, {cache});\n",
              "    const iframe = document.createElement('iframe');\n",
              "    iframe.src = url + path;\n",
              "    iframe.height = height;\n",
              "    iframe.width = width;\n",
              "    iframe.style.border = 0;\n",
              "    element.appendChild(iframe);\n",
              "  })(8050, \"/\", \"100%\", 650, false, window.element)"
            ],
            "text/plain": [
              "<IPython.core.display.Javascript object>"
            ]
          },
          "metadata": {
            "tags": []
          }
        }
      ]
    },
    {
      "cell_type": "markdown",
      "metadata": {
        "id": "fma-oXGR917w",
        "colab_type": "text"
      },
      "source": [
        "Tooltips für die einzelnen Datenpunkte werden durch Dash automatisch generiert, ebenso wie Legenden (siehe erstes Iris-Beispiel weiter unten) und eine Plot-Toolbar mit Auswahl- und Zoomwerkzeugen (die Ansicht kann mit dem \"Autoscale\"-Button zurückgesetzt werden).\n",
        "\n",
        "Auch 3D-Plots können ohne großen Aufwand erstellt werden:"
      ]
    },
    {
      "cell_type": "code",
      "metadata": {
        "id": "rAsmcwfiN2NB",
        "colab_type": "code",
        "colab": {
          "base_uri": "https://localhost:8080/",
          "height": 671
        },
        "outputId": "93bf174a-a805-4905-e886-cc66180f6441"
      },
      "source": [
        "app = JupyterDash(__name__, external_stylesheets=[dbc.themes.BOOTSTRAP])\n",
        "# Die Dimension \"petal_length\" wird nun hinzugefügt\n",
        "fig = px.scatter_3d(iris, x=\"sepal_length\", y=\"sepal_width\", z=\"petal_width\", color=\"species\")\n",
        "\n",
        "# Die Achsen müssen bei 3D-Plots etwas anders gesetzt werden, dies ist aber optional\n",
        "fig.update_layout(\n",
        "    scene = dict(\n",
        "        xaxis = dict(range=[4,8]),\n",
        "        yaxis = dict(range=[1.5, 5]),\n",
        "        zaxis = dict(range=[0,3])\n",
        "        )\n",
        ")\n",
        "\n",
        "app.layout = dbc.Container(\n",
        "    [\n",
        "        html.H1(\"Iris Data\"),\n",
        "        dcc.Graph(id='iris-graph', figure=fig)\n",
        "    ]\n",
        ")\n",
        "\n",
        "app.run_server(mode='inline')"
      ],
      "execution_count": null,
      "outputs": [
        {
          "output_type": "display_data",
          "data": {
            "application/javascript": [
              "(async (port, path, width, height, cache, element) => {\n",
              "    if (!google.colab.kernel.accessAllowed && !cache) {\n",
              "      return;\n",
              "    }\n",
              "    element.appendChild(document.createTextNode(''));\n",
              "    const url = await google.colab.kernel.proxyPort(port, {cache});\n",
              "    const iframe = document.createElement('iframe');\n",
              "    iframe.src = url + path;\n",
              "    iframe.height = height;\n",
              "    iframe.width = width;\n",
              "    iframe.style.border = 0;\n",
              "    element.appendChild(iframe);\n",
              "  })(8050, \"/\", \"100%\", 650, false, window.element)"
            ],
            "text/plain": [
              "<IPython.core.display.Javascript object>"
            ]
          },
          "metadata": {
            "tags": []
          }
        }
      ]
    },
    {
      "cell_type": "markdown",
      "metadata": {
        "id": "MlshLO0xYBzA",
        "colab_type": "text"
      },
      "source": [
        "### Übung\n",
        "\n",
        "Jetzt zu den Aufgaben für Dich:\n",
        "\n",
        "1.   Erstelle aus den Restaurant-Daten einen neuen DataFrame mit dem Bestelltdatum als Zeilenindex und den Spalten `revenue` und `total_orders`. `revenue` ist der Gesamtumsatz aller Restaurants zum jeweiligen Datum, `total_orders` die Gesamtzahl aller Bestellungen.\n",
        "2.    Erstelle einen einfachen Dash-Plot mit obigem DataFrame, mit dem Datum auf der x-Achse und dem Gesamtumsatz auf der y-Achse.\n",
        "\n",
        "\n"
      ]
    },
    {
      "cell_type": "code",
      "metadata": {
        "id": "iX7-jL5921TM",
        "colab_type": "code",
        "colab": {}
      },
      "source": [
        "# Platz für Deine Übungen :)"
      ],
      "execution_count": null,
      "outputs": []
    },
    {
      "cell_type": "markdown",
      "metadata": {
        "id": "ngOI84Fqx0R_",
        "colab_type": "text"
      },
      "source": [
        "### Lösung"
      ]
    },
    {
      "cell_type": "code",
      "metadata": {
        "id": "tTkSMJey3bnw",
        "colab_type": "code",
        "colab": {
          "base_uri": "https://localhost:8080/",
          "height": 450
        },
        "outputId": "0fbc97c7-6547-4e86-91f7-97b89a5ebdf2"
      },
      "source": [
        "# 1. DataFrame erstellen\n",
        "restaurant_df = orders[['delivery_date', 'grand_total']].groupby('delivery_date').agg(revenue=('grand_total', 'sum'), total_orders=('grand_total', 'count'))\n",
        "restaurant_df"
      ],
      "execution_count": null,
      "outputs": [
        {
          "output_type": "execute_result",
          "data": {
            "text/html": [
              "<div>\n",
              "<style scoped>\n",
              "    .dataframe tbody tr th:only-of-type {\n",
              "        vertical-align: middle;\n",
              "    }\n",
              "\n",
              "    .dataframe tbody tr th {\n",
              "        vertical-align: top;\n",
              "    }\n",
              "\n",
              "    .dataframe thead th {\n",
              "        text-align: right;\n",
              "    }\n",
              "</style>\n",
              "<table border=\"1\" class=\"dataframe\">\n",
              "  <thead>\n",
              "    <tr style=\"text-align: right;\">\n",
              "      <th></th>\n",
              "      <th>revenue</th>\n",
              "      <th>total_orders</th>\n",
              "    </tr>\n",
              "    <tr>\n",
              "      <th>delivery_date</th>\n",
              "      <th></th>\n",
              "      <th></th>\n",
              "    </tr>\n",
              "  </thead>\n",
              "  <tbody>\n",
              "    <tr>\n",
              "      <th>2019-05-31</th>\n",
              "      <td>833.6</td>\n",
              "      <td>45</td>\n",
              "    </tr>\n",
              "    <tr>\n",
              "      <th>2019-06-01</th>\n",
              "      <td>3903.3</td>\n",
              "      <td>203</td>\n",
              "    </tr>\n",
              "    <tr>\n",
              "      <th>2019-06-02</th>\n",
              "      <td>3168.1</td>\n",
              "      <td>185</td>\n",
              "    </tr>\n",
              "    <tr>\n",
              "      <th>2019-06-03</th>\n",
              "      <td>3048.1</td>\n",
              "      <td>180</td>\n",
              "    </tr>\n",
              "    <tr>\n",
              "      <th>2019-06-04</th>\n",
              "      <td>4208.4</td>\n",
              "      <td>246</td>\n",
              "    </tr>\n",
              "    <tr>\n",
              "      <th>...</th>\n",
              "      <td>...</td>\n",
              "      <td>...</td>\n",
              "    </tr>\n",
              "    <tr>\n",
              "      <th>2020-03-20</th>\n",
              "      <td>35.9</td>\n",
              "      <td>4</td>\n",
              "    </tr>\n",
              "    <tr>\n",
              "      <th>2020-03-21</th>\n",
              "      <td>66.1</td>\n",
              "      <td>6</td>\n",
              "    </tr>\n",
              "    <tr>\n",
              "      <th>2020-03-24</th>\n",
              "      <td>12.2</td>\n",
              "      <td>1</td>\n",
              "    </tr>\n",
              "    <tr>\n",
              "      <th>2020-04-01</th>\n",
              "      <td>7.6</td>\n",
              "      <td>1</td>\n",
              "    </tr>\n",
              "    <tr>\n",
              "      <th>2020-04-03</th>\n",
              "      <td>24.3</td>\n",
              "      <td>3</td>\n",
              "    </tr>\n",
              "  </tbody>\n",
              "</table>\n",
              "<p>259 rows × 2 columns</p>\n",
              "</div>"
            ],
            "text/plain": [
              "               revenue  total_orders\n",
              "delivery_date                       \n",
              "2019-05-31       833.6            45\n",
              "2019-06-01      3903.3           203\n",
              "2019-06-02      3168.1           185\n",
              "2019-06-03      3048.1           180\n",
              "2019-06-04      4208.4           246\n",
              "...                ...           ...\n",
              "2020-03-20        35.9             4\n",
              "2020-03-21        66.1             6\n",
              "2020-03-24        12.2             1\n",
              "2020-04-01         7.6             1\n",
              "2020-04-03        24.3             3\n",
              "\n",
              "[259 rows x 2 columns]"
            ]
          },
          "metadata": {
            "tags": []
          },
          "execution_count": 38
        }
      ]
    },
    {
      "cell_type": "code",
      "metadata": {
        "id": "9AyzK4xRHK1R",
        "colab_type": "code",
        "colab": {
          "base_uri": "https://localhost:8080/",
          "height": 671
        },
        "outputId": "dd6ba273-e340-4620-a6d7-f800628dde8e"
      },
      "source": [
        "# 2. Dash-Plot erstellen\n",
        "app = JupyterDash(__name__, external_stylesheets=[dbc.themes.BOOTSTRAP])\n",
        "# Zur Abwechslung mal einen Line-Plot\n",
        "fig = px.line(restaurant_df, x = restaurant_df.index, y=\"revenue\")\n",
        "\n",
        "app.layout = dbc.Container(\n",
        "    [\n",
        "        html.H1(\"Restaurant Data\"),\n",
        "        dcc.Graph(id='restaurant-graph', figure=fig)\n",
        "    ]\n",
        ")\n",
        "\n",
        "app.run_server(mode='inline')"
      ],
      "execution_count": null,
      "outputs": [
        {
          "output_type": "display_data",
          "data": {
            "application/javascript": [
              "(async (port, path, width, height, cache, element) => {\n",
              "    if (!google.colab.kernel.accessAllowed && !cache) {\n",
              "      return;\n",
              "    }\n",
              "    element.appendChild(document.createTextNode(''));\n",
              "    const url = await google.colab.kernel.proxyPort(port, {cache});\n",
              "    const iframe = document.createElement('iframe');\n",
              "    iframe.src = url + path;\n",
              "    iframe.height = height;\n",
              "    iframe.width = width;\n",
              "    iframe.style.border = 0;\n",
              "    element.appendChild(iframe);\n",
              "  })(8050, \"/\", \"100%\", 650, false, window.element)"
            ],
            "text/plain": [
              "<IPython.core.display.Javascript object>"
            ]
          },
          "metadata": {
            "tags": []
          }
        }
      ]
    },
    {
      "cell_type": "markdown",
      "metadata": {
        "id": "UJjLNhQ5Ab9C",
        "colab_type": "text"
      },
      "source": [
        "## Interaktive Apps mit Callbacks\n",
        "Ein höherer Grad an Interaktion wird in Dash über Callbacks erreicht. Auch hierzu wieder ein Minimalbeispiel:"
      ]
    },
    {
      "cell_type": "code",
      "metadata": {
        "id": "EbHyBfgLBFvV",
        "colab_type": "code",
        "colab": {
          "base_uri": "https://localhost:8080/",
          "height": 671
        },
        "outputId": "3f8edad7-54a9-47b1-9682-954000df96a7"
      },
      "source": [
        "app = JupyterDash(__name__, external_stylesheets=[dbc.themes.BOOTSTRAP])\n",
        "\n",
        "# Für Callbacks sind die component_ids im Layout wichtig\n",
        "app.layout = html.Div([\n",
        "    html.H5(\"Mit dem Inputfeld kann der Text im Output verändert werden\"),\n",
        "    html.Div([\"Input: \",\n",
        "              dcc.Input(id='my-input', value='Hai :D', type='text')]),\n",
        "    html.Br(),\n",
        "    html.Div(id='my-output'),\n",
        "\n",
        "])\n",
        "\n",
        "app.layout = dbc.Container(\n",
        "    [\n",
        "        html.H6(\"Mit dem Inputfeld kann der Text im Output verändert werden\"),\n",
        "        dbc.Input(id=\"my-input\", type=\"text\", value=\"\", placeholder=\"Input\"),\n",
        "        html.Br(),\n",
        "        html.Div(id=\"my-output\"),\n",
        "    ]\n",
        ")\n",
        "\n",
        "# Der Callback wird immer aufgerufen, sobald sich eine Property des Inputs ändert,\n",
        "# in diesem Fall mit component_id='my-input' im Layout \n",
        "# Der Output wird analog über component_id='my-output' angesprochen\n",
        "@app.callback(\n",
        "    Output(component_id='my-output', component_property='children'),\n",
        "    [Input(component_id='my-input', component_property='value')]\n",
        ")\n",
        "def update_output_div(input_value):\n",
        "    return 'Output: {}'.format(input_value)\n",
        "\n",
        "\n",
        "app.run_server(mode='inline')"
      ],
      "execution_count": null,
      "outputs": [
        {
          "output_type": "display_data",
          "data": {
            "application/javascript": [
              "(async (port, path, width, height, cache, element) => {\n",
              "    if (!google.colab.kernel.accessAllowed && !cache) {\n",
              "      return;\n",
              "    }\n",
              "    element.appendChild(document.createTextNode(''));\n",
              "    const url = await google.colab.kernel.proxyPort(port, {cache});\n",
              "    const iframe = document.createElement('iframe');\n",
              "    iframe.src = url + path;\n",
              "    iframe.height = height;\n",
              "    iframe.width = width;\n",
              "    iframe.style.border = 0;\n",
              "    element.appendChild(iframe);\n",
              "  })(8050, \"/\", \"100%\", 650, false, window.element)"
            ],
            "text/plain": [
              "<IPython.core.display.Javascript object>"
            ]
          },
          "metadata": {
            "tags": []
          }
        }
      ]
    },
    {
      "cell_type": "markdown",
      "metadata": {
        "id": "Gjr9n0MVNhZG",
        "colab_type": "text"
      },
      "source": [
        "Das Input-Feld in diesem Beispiel ist Teil der Dash Core Components (https://dash.plotly.com/dash-core-components), ebenso wie `dcc.Graph `, welcher uns in den vorherigen Beispielen bereits begegnet ist.\n",
        "\n",
        "Mithilfe von Callbacks bauen wir in die Iris-App eine einfache Filtermöglichkeit ein: Ein Dropdown-Menü (ebenfalls aus `dcc`), mit welchem Iris-Spezies ausgewählt werden können."
      ]
    },
    {
      "cell_type": "markdown",
      "metadata": {
        "id": "-UVcDcLBKWBQ",
        "colab_type": "text"
      },
      "source": [
        "*Anmerkung: In diesem Beispiel sind die Farben nicht an die Spezies gebunden, d.h. wenn nur eine Spezies ausgewählt wird, wird diese immer in Blau angezeigt. Um den Code halbwegs übersichtlich zu halten, belassen wir das in diesem Notebook so.*"
      ]
    },
    {
      "cell_type": "code",
      "metadata": {
        "id": "hODE5A2aAt_J",
        "colab_type": "code",
        "colab": {
          "base_uri": "https://localhost:8080/",
          "height": 671
        },
        "outputId": "a432068f-789c-4f8d-89e7-6f506ae3377f"
      },
      "source": [
        "app = JupyterDash(__name__, external_stylesheets=[dbc.themes.BOOTSTRAP])\n",
        "\n",
        "# Liste der Spezies für das Dropdown-Menü erstellen, mit Zusatzoption 'All species'\n",
        "species_list = ['All species']\n",
        "species_list.extend(iris['species'].unique())\n",
        "species_list\n",
        "\n",
        "# Die Erstellung des Plots an sich kapseln wir zwecks Verwendung im Callback in eine\n",
        "# eigene Methode\n",
        "def generate_my_plot(df):\n",
        "  fig = px.scatter(df, x=\"sepal_length\", y=\"sepal_width\", color=\"species\")\n",
        "  # Die Minimal- und Maximalwerte der Achsen\n",
        "  fig.update_xaxes(range=[4, 8])\n",
        "  fig.update_yaxes(range=[1.5, 5])\n",
        "  return fig\n",
        "\n",
        "fig = generate_my_plot(iris)\n",
        "\n",
        "app.layout = dbc.Container([\n",
        "     html.H1(\"Iris Data\"),\n",
        "     dcc.Dropdown(id=\"species-select\", \n",
        "                  options=[{\"label\": i, \"value\": i} for i in species_list], \n",
        "                  value=species_list[0]),\n",
        "     dcc.Graph(id='iris-graph', figure=fig)\n",
        "])\n",
        "\n",
        "\n",
        "\n",
        "# Der Callback wird aufgerufen sobald, sich eine Input-Property ändert\n",
        "@app.callback(\n",
        "    Output(component_id='iris-graph', component_property='figure'),\n",
        "    [Input(component_id='species-select', component_property='value')]\n",
        ")\n",
        "def update_graph(input_value):\n",
        "  if input_value == 'All species':\n",
        "    iris_updated = iris\n",
        "  else:\n",
        "    iris_updated = iris.loc[iris['species']==input_value]\n",
        "  return generate_my_plot(iris_updated)\n",
        "\n",
        "app.run_server(mode='inline')"
      ],
      "execution_count": null,
      "outputs": [
        {
          "output_type": "display_data",
          "data": {
            "application/javascript": [
              "(async (port, path, width, height, cache, element) => {\n",
              "    if (!google.colab.kernel.accessAllowed && !cache) {\n",
              "      return;\n",
              "    }\n",
              "    element.appendChild(document.createTextNode(''));\n",
              "    const url = await google.colab.kernel.proxyPort(port, {cache});\n",
              "    const iframe = document.createElement('iframe');\n",
              "    iframe.src = url + path;\n",
              "    iframe.height = height;\n",
              "    iframe.width = width;\n",
              "    iframe.style.border = 0;\n",
              "    element.appendChild(iframe);\n",
              "  })(8050, \"/\", \"100%\", 650, false, window.element)"
            ],
            "text/plain": [
              "<IPython.core.display.Javascript object>"
            ]
          },
          "metadata": {
            "tags": []
          }
        }
      ]
    },
    {
      "cell_type": "markdown",
      "metadata": {
        "id": "JY2PTUcn3lrd",
        "colab_type": "text"
      },
      "source": [
        "### Mehrere Inputs\n",
        "Nur nach der Spezies zu filtern ist natürlich zu einfach, deshalb wollen wir zusätzlich nach Blütengrößen filtern können. Zur Abwechslung verwenden wir hierzu Slider-Elemente."
      ]
    },
    {
      "cell_type": "code",
      "metadata": {
        "id": "V_ZmcoOP4jwL",
        "colab_type": "code",
        "colab": {
          "base_uri": "https://localhost:8080/",
          "height": 671
        },
        "outputId": "f2993df0-b161-412d-d15f-03c81eb9e642"
      },
      "source": [
        "app = JupyterDash(__name__, external_stylesheets=[dbc.themes.BOOTSTRAP])\n",
        "\n",
        "species_list = ['All species']\n",
        "species_list.extend(iris['species'].unique())\n",
        "species_list\n",
        "\n",
        "def generate_my_plot(df):\n",
        "  fig = px.scatter(df, x=\"sepal_length\", y=\"sepal_width\", color=\"species\")\n",
        "  # Die Minimal- und Maximalwerte der Achsen\n",
        "  fig.update_xaxes(range=[4, 8])\n",
        "  fig.update_yaxes(range=[1.5, 5])\n",
        "  return fig\n",
        "\n",
        "fig = generate_my_plot(iris)\n",
        "\n",
        "app.layout = dbc.Container([\n",
        "      html.H1(\"Iris Data\"),\n",
        "      dbc.FormGroup([\n",
        "                    dbc.Label('Species:'),\n",
        "                    dcc.Dropdown(id=\"species-select\", \n",
        "                    options=[{\"label\": i, \"value\": i} for i in species_list], \n",
        "                    value=species_list[0],)\n",
        "      ]),\n",
        "      dbc.FormGroup([\n",
        "                    dbc.Label('Petal length:'),\n",
        "                    dcc.RangeSlider(id=\"petal-length-select\", \n",
        "                                    count=1,min=1,max=7,step=0.5,\n",
        "                                    value=[1,7], \n",
        "                                    marks={i: '{}'.format(i) for i in range(1,8)}),\n",
        "      ]),\n",
        "      dbc.FormGroup([\n",
        "                    dbc.Label('Petal width:'),\n",
        "                    dcc.RangeSlider(id=\"petal-width-select\", \n",
        "                                    count=1,min=0,max=3,step=0.5,\n",
        "                                    value=[0, 3], \n",
        "                                    marks={i: '{}'.format(i) for i in range(0, 4)})\n",
        "      ]),\n",
        "      dcc.Graph(id='iris-graph', figure=fig)\n",
        "])\n",
        "\n",
        "\n",
        "\n",
        "# Die zusätzlichen Inputs werden einfach hinzugefügt\n",
        "@app.callback(\n",
        "    Output(component_id='iris-graph', component_property='figure'),\n",
        "    [Input(component_id='species-select', component_property='value'),\n",
        "     Input(component_id='petal-length-select', component_property='value'),\n",
        "     Input(component_id='petal-width-select', component_property='value')]\n",
        ")\n",
        "def update_graph(species_select, petal_length_select, petal_width_select):\n",
        "  # Spezies filtern\n",
        "  if species_select == 'All species':\n",
        "    iris_updated = iris\n",
        "  else:\n",
        "    iris_updated = iris.loc[iris['species']==species_select]\n",
        "  # Sliderwerte filtern\n",
        "  iris_updated = iris_updated.loc[iris_updated['petal_length'].between(petal_length_select[0],petal_length_select[1])]\n",
        "  iris_updated = iris_updated.loc[iris_updated['petal_width'].between(petal_width_select[0],petal_width_select[1])]\n",
        "  return generate_my_plot(iris_updated)\n",
        "\n",
        "app.run_server(mode='inline')"
      ],
      "execution_count": null,
      "outputs": [
        {
          "output_type": "display_data",
          "data": {
            "application/javascript": [
              "(async (port, path, width, height, cache, element) => {\n",
              "    if (!google.colab.kernel.accessAllowed && !cache) {\n",
              "      return;\n",
              "    }\n",
              "    element.appendChild(document.createTextNode(''));\n",
              "    const url = await google.colab.kernel.proxyPort(port, {cache});\n",
              "    const iframe = document.createElement('iframe');\n",
              "    iframe.src = url + path;\n",
              "    iframe.height = height;\n",
              "    iframe.width = width;\n",
              "    iframe.style.border = 0;\n",
              "    element.appendChild(iframe);\n",
              "  })(8050, \"/\", \"100%\", 650, false, window.element)"
            ],
            "text/plain": [
              "<IPython.core.display.Javascript object>"
            ]
          },
          "metadata": {
            "tags": []
          }
        }
      ]
    },
    {
      "cell_type": "markdown",
      "metadata": {
        "id": "Uz5EM9pkOS68",
        "colab_type": "text"
      },
      "source": [
        "## Anpassung des Layouts\n",
        "Das Dropdown-Menü sind momentan etwas groß. Bevor wir unserer App also weitere Elemente hinzufügen, sollten wir das Layout noch ein wenig anpassen. Da wir Dash Bootstrap benutzen, können wir das entsprechende Grid-Layout nutzen, das mit Reihen (`dbc.Row`) und Spalten (`dbc.Col`) arbeitet. \n",
        "\n",
        "(https://dash-bootstrap-components.opensource.faculty.ai/docs/components/layout)"
      ]
    },
    {
      "cell_type": "code",
      "metadata": {
        "id": "zd4oDF2xPASL",
        "colab_type": "code",
        "colab": {
          "base_uri": "https://localhost:8080/",
          "height": 671
        },
        "outputId": "89d74d7d-dcea-400a-8626-0b1cef888ff3"
      },
      "source": [
        "app = JupyterDash(__name__, external_stylesheets=[dbc.themes.BOOTSTRAP])\n",
        "\n",
        "species_list = ['All species']\n",
        "species_list.extend(iris['species'].unique())\n",
        "species_list\n",
        "\n",
        "def generate_my_plot(df):\n",
        "  fig = px.scatter(df, x=\"sepal_length\", y=\"sepal_width\", color=\"species\")\n",
        "  # Die Minimal- und Maximalwerte der Achsen\n",
        "  fig.update_xaxes(range=[4, 8])\n",
        "  fig.update_yaxes(range=[1.5, 5])\n",
        "  return fig\n",
        "\n",
        "fig = generate_my_plot(iris)\n",
        "\n",
        "app.layout = dbc.Container([\n",
        "      html.H1(\"Iris Data\"),\n",
        "      dbc.Row([\n",
        "               dbc.Col(dbc.FormGroup([\n",
        "                  dbc.Label('Species:'),\n",
        "                  dcc.Dropdown(id=\"species-select\", \n",
        "                  options=[{\"label\": i, \"value\": i} for i in species_list], \n",
        "                  value=species_list[0],)\n",
        "        \t      ]), md=3),\n",
        "               \n",
        "               dbc.Col(dbc.FormGroup([\n",
        "                    dbc.Label('Petal length:'),\n",
        "                    dcc.RangeSlider(id=\"petal-length-select\", \n",
        "                                    count=1,min=1,max=7,step=0.5,\n",
        "                                    value=[1,7], \n",
        "                                    marks={i: '{}'.format(i) for i in range(1,8)}),\n",
        "               ]), md=4),\n",
        "               dbc.Col(dbc.FormGroup([\n",
        "                    dbc.Label('Petal width:'),\n",
        "                    dcc.RangeSlider(id=\"petal-width-select\", \n",
        "                                    count=1,min=0,max=3,step=0.5,\n",
        "                                    value=[0, 3], \n",
        "                                    marks={i: '{}'.format(i) for i in range(0, 4)})\n",
        "                ]), md=4)\n",
        "      ]),\n",
        "      dcc.Graph(id='iris-graph', figure=fig)\n",
        "])\n",
        "\n",
        "\n",
        "\n",
        "# Die zusätzlichen Inputs werden einfach hinzugefügt\n",
        "@app.callback(\n",
        "    Output(component_id='iris-graph', component_property='figure'),\n",
        "    [Input(component_id='species-select', component_property='value'),\n",
        "     Input(component_id='petal-length-select', component_property='value'),\n",
        "     Input(component_id='petal-width-select', component_property='value')]\n",
        ")\n",
        "def update_graph(species_select, petal_length_select, petal_width_select):\n",
        "  # Spezies filtern\n",
        "  if species_select == 'All species':\n",
        "    iris_updated = iris\n",
        "  else:\n",
        "    iris_updated = iris.loc[iris['species']==species_select]\n",
        "  # Sliderwerte filtern\n",
        "  iris_updated = iris_updated.loc[iris_updated['petal_length'].between(petal_length_select[0],petal_length_select[1])]\n",
        "  iris_updated = iris_updated.loc[iris_updated['petal_width'].between(petal_width_select[0],petal_width_select[1])]\n",
        "  return generate_my_plot(iris_updated)\n",
        "\n",
        "app.run_server(mode='inline')"
      ],
      "execution_count": null,
      "outputs": [
        {
          "output_type": "display_data",
          "data": {
            "application/javascript": [
              "(async (port, path, width, height, cache, element) => {\n",
              "    if (!google.colab.kernel.accessAllowed && !cache) {\n",
              "      return;\n",
              "    }\n",
              "    element.appendChild(document.createTextNode(''));\n",
              "    const url = await google.colab.kernel.proxyPort(port, {cache});\n",
              "    const iframe = document.createElement('iframe');\n",
              "    iframe.src = url + path;\n",
              "    iframe.height = height;\n",
              "    iframe.width = width;\n",
              "    iframe.style.border = 0;\n",
              "    element.appendChild(iframe);\n",
              "  })(8050, \"/\", \"100%\", 650, false, window.element)"
            ],
            "text/plain": [
              "<IPython.core.display.Javascript object>"
            ]
          },
          "metadata": {
            "tags": []
          }
        }
      ]
    },
    {
      "cell_type": "markdown",
      "metadata": {
        "id": "xP8_eppteqmu",
        "colab_type": "text"
      },
      "source": [
        "### Übung\n",
        "Jetzt zu den Aufgaben für Dich:\n",
        "1.  Füge zum Restaurant-Plot ein Dropdown-Menü hinzu, so dass die Anzeige auf der y-Achse zwischen dem Umsatz und der Anzahl an Bestellungen umgestellt werden kann.\n",
        "2.  Passe das Layout an, so dass es dir besser gefällt.\n",
        "3. Füge einen Slider ein, mit dem dem die Daten zusätzlich nach minimaler und maximaler `delivery_distance` gefiltert werden können."
      ]
    },
    {
      "cell_type": "code",
      "metadata": {
        "id": "9G6Wx9oIf4LC",
        "colab_type": "code",
        "colab": {}
      },
      "source": [
        "# Platz für Deine Übungen :)"
      ],
      "execution_count": null,
      "outputs": []
    },
    {
      "cell_type": "markdown",
      "metadata": {
        "id": "r1MeKOlketBn",
        "colab_type": "text"
      },
      "source": [
        "### Lösung"
      ]
    },
    {
      "cell_type": "code",
      "metadata": {
        "id": "QV_eoZ-KM6bB",
        "colab_type": "code",
        "colab": {
          "base_uri": "https://localhost:8080/",
          "height": 671
        },
        "outputId": "d38cf710-1884-4c71-cf55-f7231da3ed73"
      },
      "source": [
        "# 1. Dropdown-Menü\n",
        "app = JupyterDash(__name__, external_stylesheets=[dbc.themes.BOOTSTRAP])\n",
        "\n",
        "def generate_my_plot(df, column):\n",
        "  return px.line(df, x = df.index, y=column)\n",
        "\n",
        "fig = generate_my_plot(restaurant_df, restaurant_df.columns[0])\n",
        "\n",
        "app.layout = dbc.Container([\n",
        "                            html.H1(\"Restaurant Data\"),\n",
        "                            dcc.Dropdown(id=\"axes-select\",\n",
        "                                         options=[{\"label\": i, \"value\": i} for i in restaurant_df.columns],\n",
        "                                         value=restaurant_df.columns[0]),\n",
        "                            dcc.Graph(id='restaurant-graph', figure=fig)\n",
        "])\n",
        "\n",
        "@app.callback(\n",
        "    Output(component_id='restaurant-graph', component_property='figure'),\n",
        "    [Input(component_id='axes-select', component_property='value')]\n",
        ")\n",
        "def update_graph(input_value):\n",
        "  return generate_my_plot(restaurant_df, input_value)\n",
        "\n",
        "app.run_server(mode='inline')"
      ],
      "execution_count": null,
      "outputs": [
        {
          "output_type": "display_data",
          "data": {
            "application/javascript": [
              "(async (port, path, width, height, cache, element) => {\n",
              "    if (!google.colab.kernel.accessAllowed && !cache) {\n",
              "      return;\n",
              "    }\n",
              "    element.appendChild(document.createTextNode(''));\n",
              "    const url = await google.colab.kernel.proxyPort(port, {cache});\n",
              "    const iframe = document.createElement('iframe');\n",
              "    iframe.src = url + path;\n",
              "    iframe.height = height;\n",
              "    iframe.width = width;\n",
              "    iframe.style.border = 0;\n",
              "    element.appendChild(iframe);\n",
              "  })(8050, \"/\", \"100%\", 650, false, window.element)"
            ],
            "text/plain": [
              "<IPython.core.display.Javascript object>"
            ]
          },
          "metadata": {
            "tags": []
          }
        }
      ]
    },
    {
      "cell_type": "code",
      "metadata": {
        "id": "QYGRR58abRAR",
        "colab_type": "code",
        "colab": {
          "base_uri": "https://localhost:8080/",
          "height": 671
        },
        "outputId": "53dd1053-3536-4101-ebf6-6d264b7837c8"
      },
      "source": [
        "# 2. Layout\n",
        "app = JupyterDash(__name__, external_stylesheets=[dbc.themes.BOOTSTRAP])\n",
        "\n",
        "def generate_my_plot(df, column):\n",
        "  return px.line(df, x = df.index, y=column)\n",
        "\n",
        "fig = generate_my_plot(restaurant_df, restaurant_df.columns[0])\n",
        "\n",
        "controls = dbc.Card([\n",
        "                     \n",
        "], body=True)\n",
        "\n",
        "app.layout = dbc.Container([\n",
        "                            html.H1(\"Restaurant Data\"),\n",
        "                            dbc.Row([\n",
        "                                     dbc.Col(dbc.FormGroup([\n",
        "                                                            dbc.Label('x-Axis data:'),\n",
        "                                                            dcc.Dropdown(id=\"axes-select\",\n",
        "                                                                         options=[{\"label\": i, \"value\": i} for i in restaurant_df.columns],\n",
        "                                                                         value=restaurant_df.columns[0])\n",
        "                                      ]), md=4),\n",
        "                                     ]), \n",
        "                            dcc.Graph(id='restaurant-graph', figure=fig)\n",
        "])    \n",
        "\n",
        "@app.callback(\n",
        "    Output(component_id='restaurant-graph', component_property='figure'),\n",
        "    [Input(component_id='axes-select', component_property='value')]\n",
        ")\n",
        "def update_graph(input_value):\n",
        "  return generate_my_plot(restaurant_df, input_value)\n",
        "\n",
        "app.run_server(mode='inline')"
      ],
      "execution_count": null,
      "outputs": [
        {
          "output_type": "display_data",
          "data": {
            "application/javascript": [
              "(async (port, path, width, height, cache, element) => {\n",
              "    if (!google.colab.kernel.accessAllowed && !cache) {\n",
              "      return;\n",
              "    }\n",
              "    element.appendChild(document.createTextNode(''));\n",
              "    const url = await google.colab.kernel.proxyPort(port, {cache});\n",
              "    const iframe = document.createElement('iframe');\n",
              "    iframe.src = url + path;\n",
              "    iframe.height = height;\n",
              "    iframe.width = width;\n",
              "    iframe.style.border = 0;\n",
              "    element.appendChild(iframe);\n",
              "  })(8050, \"/\", \"100%\", 650, false, window.element)"
            ],
            "text/plain": [
              "<IPython.core.display.Javascript object>"
            ]
          },
          "metadata": {
            "tags": []
          }
        }
      ]
    },
    {
      "cell_type": "code",
      "metadata": {
        "id": "m5matJPdftv_",
        "colab_type": "code",
        "colab": {
          "base_uri": "https://localhost:8080/",
          "height": 671
        },
        "outputId": "8474e68a-c267-4add-f5a5-891d16b29a78"
      },
      "source": [
        "# 3. Slider\n",
        "app = JupyterDash(__name__, external_stylesheets=[dbc.themes.BOOTSTRAP])\n",
        "\n",
        "def generate_my_plot(df, column):\n",
        "  return px.line(df, x = df.index, y=column)\n",
        "\n",
        "# Neue Methode, um Distanzfilter zu berücksichtigen\n",
        "def filter_restaurant_df(lower_distance, upper_distance):\n",
        "  # Distanzen im gewählten Bereich selektieren\n",
        "  df = orders.loc[orders['delivery_distance'].between(lower_distance, upper_distance)]\n",
        "  # Nun wieder den Restauren-Dataframe wie zuvor zusammenbauen\n",
        "  df = df[['delivery_date', 'grand_total']].groupby('delivery_date')\n",
        "  restaurant_df = pd.concat([df.sum(), df.count()], axis=1)\n",
        "  restaurant_df.columns = ['revenue', 'total_orders']\n",
        "  return restaurant_df\n",
        "\n",
        "fig = generate_my_plot(restaurant_df, restaurant_df.columns[0])\n",
        "\n",
        "app.layout = dbc.Container([\n",
        "                            html.H1(\"Restaurant Data\"),\n",
        "                            dbc.Row([\n",
        "                                dbc.Col(dbc.FormGroup([\n",
        "                                                dbc.Label('x-Axis data:'),\n",
        "                                                dcc.Dropdown(id=\"axes-select\",\n",
        "                                                    options=[{\"label\": i, \"value\": i} for i in restaurant_df.columns],\n",
        "                                                    value=restaurant_df.columns[0])\n",
        "                                ]), md=4),\n",
        "                                dbc.Col(dbc.FormGroup([\n",
        "                                                dbc.Label('Delivery distance:'),\n",
        "                                                dcc.RangeSlider(id=\"delivery-distance-select\", \n",
        "                                                                count=1,min=0,max=20,step=1,\n",
        "                                                                value=[0,20], \n",
        "                                                                marks={0:\"0\", 5:\"5\", 10:\"10\", 15: \"15\", 20:\"20\"}),\n",
        "                                ]), md=4)\n",
        "                            ]),\n",
        "                            dcc.Graph(id='restaurant-graph', figure=fig)\n",
        "])    \n",
        "\n",
        "@app.callback(\n",
        "    Output(component_id='restaurant-graph', component_property='figure'),\n",
        "    [Input(component_id='axes-select', component_property='value'),\n",
        "     Input(component_id='delivery-distance-select', component_property='value')]\n",
        ")\n",
        "def update_graph(axes_select, delivery_distance_select):\n",
        "  return generate_my_plot(filter_restaurant_df(delivery_distance_select[0], \n",
        "                                               delivery_distance_select[1]), \n",
        "                                               axes_select)\n",
        "\n",
        "app.run_server(mode='inline')"
      ],
      "execution_count": null,
      "outputs": [
        {
          "output_type": "display_data",
          "data": {
            "application/javascript": [
              "(async (port, path, width, height, cache, element) => {\n",
              "    if (!google.colab.kernel.accessAllowed && !cache) {\n",
              "      return;\n",
              "    }\n",
              "    element.appendChild(document.createTextNode(''));\n",
              "    const url = await google.colab.kernel.proxyPort(port, {cache});\n",
              "    const iframe = document.createElement('iframe');\n",
              "    iframe.src = url + path;\n",
              "    iframe.height = height;\n",
              "    iframe.width = width;\n",
              "    iframe.style.border = 0;\n",
              "    element.appendChild(iframe);\n",
              "  })(8050, \"/\", \"100%\", 650, false, window.element)"
            ],
            "text/plain": [
              "<IPython.core.display.Javascript object>"
            ]
          },
          "metadata": {
            "tags": []
          }
        }
      ]
    },
    {
      "cell_type": "markdown",
      "metadata": {
        "id": "yk96h_O3D8Jp",
        "colab_type": "text"
      },
      "source": [
        "## DataTable\n",
        "Für tiefergehende Datenanalyse kann in einer Dash-Anwendung natürlich auch mehr als nur ein einzelner Graph angezeigt werden. Ein mächtiges Werkzeug hierfür sind DataTables. Diese ermöglichen nicht nur die Anzeige von Daten, sondern können auch für das Editieren oder Filtern verwendet werden: \n",
        "https://dash.plotly.com/datatable\n",
        "\n",
        "Als Beispiel stellen wir die Iris-Daten in einer DataTable dar:"
      ]
    },
    {
      "cell_type": "code",
      "metadata": {
        "id": "Gx6AO3oDzV6o",
        "colab_type": "code",
        "colab": {
          "base_uri": "https://localhost:8080/",
          "height": 671
        },
        "outputId": "2aec5e2f-1866-4dac-86ae-151123995f13"
      },
      "source": [
        "app = JupyterDash(__name__, external_stylesheets=[dbc.themes.BOOTSTRAP])\n",
        "app.layout = dash_table.DataTable(\n",
        "    id='species-table',\n",
        "    columns=[{\"name\": i, \"id\": i} for i in iris.columns],\n",
        "    data=iris.to_dict('records'))\n",
        "app.run_server(mode='inline')"
      ],
      "execution_count": null,
      "outputs": [
        {
          "output_type": "display_data",
          "data": {
            "application/javascript": [
              "(async (port, path, width, height, cache, element) => {\n",
              "    if (!google.colab.kernel.accessAllowed && !cache) {\n",
              "      return;\n",
              "    }\n",
              "    element.appendChild(document.createTextNode(''));\n",
              "    const url = await google.colab.kernel.proxyPort(port, {cache});\n",
              "    const iframe = document.createElement('iframe');\n",
              "    iframe.src = url + path;\n",
              "    iframe.height = height;\n",
              "    iframe.width = width;\n",
              "    iframe.style.border = 0;\n",
              "    element.appendChild(iframe);\n",
              "  })(8050, \"/\", \"100%\", 650, false, window.element)"
            ],
            "text/plain": [
              "<IPython.core.display.Javascript object>"
            ]
          },
          "metadata": {
            "tags": []
          }
        }
      ]
    },
    {
      "cell_type": "markdown",
      "metadata": {
        "id": "RICIunG3zWdZ",
        "colab_type": "text"
      },
      "source": [
        "Im letzten Schritt für die Iris-Anwendung werden wir nun eine Datatable hinzufügen, mit der eine Spezies ausgewählt und zusätzliche Informationen zu ihr angezeigt werden können.\n",
        "\n",
        "*Anmerkung: Die Verwendung der ersten DataTable als Pseudo-Radiobutton-Group in diesem Beispiel ist Overkill und dient nur zu Demonstrationszwecken.*"
      ]
    },
    {
      "cell_type": "code",
      "metadata": {
        "id": "8UDh6rFQHYej",
        "colab_type": "code",
        "colab": {
          "base_uri": "https://localhost:8080/",
          "height": 671
        },
        "outputId": "f6ab85f7-21cf-419e-eef0-9bd23e59513a"
      },
      "source": [
        "app = JupyterDash(__name__, external_stylesheets=[dbc.themes.BOOTSTRAP])\n",
        "\n",
        "species_list = ['All species']\n",
        "species_list.extend(iris['species'].unique())\n",
        "species_list\n",
        "\n",
        "def generate_my_plot(df):\n",
        "  fig = px.scatter(df, x=\"sepal_length\", y=\"sepal_width\", color=\"species\")\n",
        "  fig.update_xaxes(range=[4, 8])\n",
        "  fig.update_yaxes(range=[1.5, 5])\n",
        "  return fig\n",
        "\n",
        "fig = generate_my_plot(iris)\n",
        "species_dataTable = generate_species_dataTable(iris)\n",
        "\n",
        "\n",
        "app.layout = dbc.Container([\n",
        "      html.H1(\"Iris Data\"),\n",
        "      dbc.Row([\n",
        "               dbc.Col(dbc.FormGroup([\n",
        "                  dbc.Label('Species:'),\n",
        "                  dcc.Dropdown(id=\"species-select\", \n",
        "                  options=[{\"label\": i, \"value\": i} for i in species_list], \n",
        "                  value=species_list[0],)\n",
        "        \t      ]), md=3),\n",
        "               \n",
        "               dbc.Col(dbc.FormGroup([\n",
        "                    dbc.Label('Petal length:'),\n",
        "                    dcc.RangeSlider(id=\"petal-length-select\", \n",
        "                                    count=1,min=1,max=7,step=0.5,\n",
        "                                    value=[1,7], \n",
        "                                    marks={i: '{}'.format(i) for i in range(1,8)}),\n",
        "               ]), md=4),\n",
        "               dbc.Col(dbc.FormGroup([\n",
        "                    dbc.Label('Petal width:'),\n",
        "                    dcc.RangeSlider(id=\"petal-width-select\", \n",
        "                                    count=1,min=0,max=3,step=0.5,\n",
        "                                    value=[0, 3], \n",
        "                                    marks={i: '{}'.format(i) for i in range(0, 4)})\n",
        "                ]), md=4)\n",
        "      ]),\n",
        "      dcc.Graph(id='iris-graph', figure=fig),\n",
        "      # DataTables hinzufügen\n",
        "      dbc.FormGroup([\n",
        "                    dbc.Label('Species data selector:'),\n",
        "                    dash_table.DataTable(\n",
        "                    id='species-select-table',\n",
        "                    columns=[{\"name\": \"Species\", \"id\": \"species\"}], # id muss dem Spaltennamen aus den Daten entsprechen!\n",
        "                    data=[{'species': 'All'},\n",
        "                          {'species': 'species-setosa'},\n",
        "                          {'species': 'species-versicolor'},\n",
        "                          {'species': 'species-virginica'}\n",
        "                          ],\n",
        "                    row_selectable=\"single\")\n",
        "      ]),\n",
        "      dash_table.DataTable(\n",
        "          id='species-table',\n",
        "          columns=[{\"name\": i, \"id\": i} for i in iris.columns],\n",
        "          data=iris.to_dict('records'))\n",
        "])\n",
        "\n",
        "\n",
        "@app.callback(\n",
        "    Output(component_id='iris-graph', component_property='figure'),\n",
        "    [Input(component_id='species-select', component_property='value'),\n",
        "     Input(component_id='petal-length-select', component_property='value'),\n",
        "     Input(component_id='petal-width-select', component_property='value')]\n",
        ")\n",
        "def update_iris_graph(species_select, petal_length_select, petal_width_select):\n",
        "  # Spezies filtern\n",
        "  if species_select == 'All species':\n",
        "    iris_updated = iris\n",
        "  else:\n",
        "    iris_updated = iris.loc[iris['species']==species_select]\n",
        "  # Sliderwerte filtern\n",
        "  iris_updated = iris_updated.loc[iris_updated['petal_length'].between(petal_length_select[0],petal_length_select[1])]\n",
        "  iris_updated = iris_updated.loc[iris_updated['petal_width'].between(petal_width_select[0],petal_width_select[1])]\n",
        "  return generate_my_plot(iris_updated)\n",
        "\n",
        "\n",
        "# Hier brauchen wir jetzt mehrere Outputs, um die DataTable anzupassen;\n",
        "# auch hier ist die Reihenfolge wichtig!\n",
        "@app.callback(\n",
        "    [Output('species-table', 'columns'), Output('species-table', 'data')],\n",
        "    [Input('species-select-table', 'selected_rows')]\n",
        ")\n",
        "def update_species_table(input_value):\n",
        "  if input_value[0] == 0:\n",
        "    iris_updated = iris\n",
        "  elif input_value[0] == 1:\n",
        "    iris_updated = iris.loc[iris['species']=='species-setosa']\n",
        "  elif input_value[0] == 2:\n",
        "    iris_updated = iris.loc[iris['species']=='species-versicolor']\n",
        "  elif input_value[0] == 3:\n",
        "    iris_updated = iris.loc[iris['species']=='species-virginica']\n",
        "\n",
        "  columns=[{\"name\": i, \"id\": i} for i in iris_updated.columns]\n",
        "  data=iris_updated.to_dict('records')\n",
        "  return columns, data\n",
        "\n",
        "app.run_server(mode='inline')"
      ],
      "execution_count": null,
      "outputs": [
        {
          "output_type": "display_data",
          "data": {
            "application/javascript": [
              "(async (port, path, width, height, cache, element) => {\n",
              "    if (!google.colab.kernel.accessAllowed && !cache) {\n",
              "      return;\n",
              "    }\n",
              "    element.appendChild(document.createTextNode(''));\n",
              "    const url = await google.colab.kernel.proxyPort(port, {cache});\n",
              "    const iframe = document.createElement('iframe');\n",
              "    iframe.src = url + path;\n",
              "    iframe.height = height;\n",
              "    iframe.width = width;\n",
              "    iframe.style.border = 0;\n",
              "    element.appendChild(iframe);\n",
              "  })(8050, \"/\", \"100%\", 650, false, window.element)"
            ],
            "text/plain": [
              "<IPython.core.display.Javascript object>"
            ]
          },
          "metadata": {
            "tags": []
          }
        }
      ]
    },
    {
      "cell_type": "markdown",
      "metadata": {
        "id": "bcYAF-gGfXDx",
        "colab_type": "text"
      },
      "source": [
        "### Übung TODO\n",
        "Jetzt zu den Aufgaben für Dich:\n",
        "1.  Erstelle zwei DataTables: In der ersten sollen Kundendaten gelistet werden, und zwar die `customer_id`, und die Summe aller Zahlungen des entsprechenden Kunden (`grand_total`). Die Zeilen dieser DataTable sollen selektierbar sein.\n",
        "\n",
        "Wird ein Kundeneintrag selektiert, sollen in der zweiten DataTable alle Bestellungen des entsprechenden Kunden gelistet werden."
      ]
    },
    {
      "cell_type": "code",
      "metadata": {
        "id": "p9snK2nyf5an",
        "colab_type": "code",
        "colab": {}
      },
      "source": [
        "# Platz für Deine Übungen :)"
      ],
      "execution_count": null,
      "outputs": []
    },
    {
      "cell_type": "markdown",
      "metadata": {
        "id": "5ZVY_CxxfZMU",
        "colab_type": "text"
      },
      "source": [
        "### Lösung TODO"
      ]
    },
    {
      "cell_type": "code",
      "metadata": {
        "id": "917ogF-J_6iJ",
        "colab_type": "code",
        "colab": {
          "base_uri": "https://localhost:8080/",
          "height": 671
        },
        "outputId": "32303daa-4664-48f5-9879-bdda69e3de43"
      },
      "source": [
        "# 1. Restaurant-Liste\n",
        "app = JupyterDash(__name__, external_stylesheets=[dbc.themes.BOOTSTRAP])\n",
        "\n",
        "def generate_my_plot(df, column):\n",
        "  return px.line(df, x = df.index, y=column)\n",
        "\n",
        "def filter_restaurant_df(lower_distance, upper_distance):\n",
        "  df = orders.loc[orders['delivery_distance'].between(lower_distance, upper_distance)]\n",
        "  df = df[['delivery_date', 'grand_total']].groupby('delivery_date')\n",
        "  restaurant_df = pd.concat([df.sum(), df.count()], axis=1)\n",
        "  restaurant_df.columns = ['revenue', 'total_orders']\n",
        "  return restaurant_df\n",
        "\n",
        "#def filter_customer_df():\n",
        "\n",
        "customers_df = orders[['customer_id', 'grand_total']]\n",
        "# Durch sum() werden die Customer-IDs zu Indizes, wir wollen sie aber als Spalte;\n",
        "# reset_index() macht genau das\n",
        "customers_df = customers_df.groupby('customer_id').sum().reset_index()\n",
        "# Die Geldbeträge enthalten stellenweise sehr viele Nachkommastellen -> Runden\n",
        "customers_df['grand_total'] = customers_df['grand_total'].apply(lambda x: round(x, 2))\n",
        "\n",
        "fig = generate_my_plot(restaurant_df, restaurant_df.columns[0])\n",
        "\n",
        "\n",
        "# Die Kunden-Auswahl-Tabelle\n",
        "customer_controls = dbc.Card([\n",
        "                                \n",
        "])\n",
        "\n",
        "app.layout = dbc.Container([\n",
        "                            html.H1(\"Restaurant Data\"),\n",
        "                            dbc.Row([\n",
        "                                dbc.Col(dbc.FormGroup([\n",
        "                                                dbc.Label('x-Axis data:'),\n",
        "                                                dcc.Dropdown(id=\"axes-select\",\n",
        "                                                    options=[{\"label\": i, \"value\": i} for i in restaurant_df.columns],\n",
        "                                                    value=restaurant_df.columns[0])\n",
        "                                ]), md=4),\n",
        "                                dbc.Col(dbc.FormGroup([\n",
        "                                                dbc.Label('Delivery distance:'),\n",
        "                                                dcc.RangeSlider(id=\"delivery-distance-select\", \n",
        "                                                                count=1,min=0,max=20,step=1,\n",
        "                                                                value=[0,20], \n",
        "                                                                marks={0:\"0\", 5:\"5\", 10:\"10\", 15: \"15\", 20:\"20\"}),\n",
        "                                ]), md=4)\n",
        "                            ]),\n",
        "                            dcc.Graph(id='restaurant-graph', figure=fig),\n",
        "                            dbc.FormGroup([\n",
        "                                           dbc.Label('Customers:'),\n",
        "                                           dash_table.DataTable(\n",
        "                                               id='customer-table',\n",
        "                                               columns=[{\"name\": i, \"id\": i} for i in customers_df.columns],\n",
        "                                               data=customers_df.to_dict('records'),\n",
        "                                               row_selectable=\"single\",\n",
        "                                               style_table = {'overflowX': 'auto'}\n",
        "                                            )\n",
        "                                ])\n",
        "])   \n",
        "\n",
        "@app.callback(\n",
        "    Output(component_id='restaurant-graph', component_property='figure'),\n",
        "    [Input(component_id='axes-select', component_property='value'),\n",
        "     Input(component_id='delivery-distance-select', component_property='value')]\n",
        ")\n",
        "def update_graph(axes_select, delivery_distance_select):\n",
        "  return generate_my_plot(filter_restaurant_df(delivery_distance_select[0], \n",
        "                                               delivery_distance_select[1]), \n",
        "                                               axes_select)\n",
        "\n",
        "app.run_server(mode='inline')"
      ],
      "execution_count": null,
      "outputs": [
        {
          "output_type": "display_data",
          "data": {
            "application/javascript": [
              "(async (port, path, width, height, cache, element) => {\n",
              "    if (!google.colab.kernel.accessAllowed && !cache) {\n",
              "      return;\n",
              "    }\n",
              "    element.appendChild(document.createTextNode(''));\n",
              "    const url = await google.colab.kernel.proxyPort(port, {cache});\n",
              "    const iframe = document.createElement('iframe');\n",
              "    iframe.src = url + path;\n",
              "    iframe.height = height;\n",
              "    iframe.width = width;\n",
              "    iframe.style.border = 0;\n",
              "    element.appendChild(iframe);\n",
              "  })(8050, \"/\", \"100%\", 650, false, window.element)"
            ],
            "text/plain": [
              "<IPython.core.display.Javascript object>"
            ]
          },
          "metadata": {
            "tags": []
          }
        }
      ]
    },
    {
      "cell_type": "code",
      "metadata": {
        "id": "rkAgeRauiE3i",
        "colab_type": "code",
        "colab": {
          "base_uri": "https://localhost:8080/",
          "height": 419
        },
        "outputId": "8f5d3fc0-7d9c-459e-f819-27e65975f282"
      },
      "source": [
        "customers_df = orders[['customer_id', 'grand_total']]\n",
        "# Durch sum() werden die Customer-IDs zu Indizes, wir wollen sie aber als Spalte;\n",
        "# reset_index() macht genau das\n",
        "customers_df = customers_df.groupby('customer_id').sum().reset_index()\n",
        "customers_df['grand_total'] = customers_df['grand_total'].apply(lambda x: round(x, 2))\n",
        "customers_df"
      ],
      "execution_count": null,
      "outputs": [
        {
          "output_type": "execute_result",
          "data": {
            "text/html": [
              "<div>\n",
              "<style scoped>\n",
              "    .dataframe tbody tr th:only-of-type {\n",
              "        vertical-align: middle;\n",
              "    }\n",
              "\n",
              "    .dataframe tbody tr th {\n",
              "        vertical-align: top;\n",
              "    }\n",
              "\n",
              "    .dataframe thead th {\n",
              "        text-align: right;\n",
              "    }\n",
              "</style>\n",
              "<table border=\"1\" class=\"dataframe\">\n",
              "  <thead>\n",
              "    <tr style=\"text-align: right;\">\n",
              "      <th></th>\n",
              "      <th>customer_id</th>\n",
              "      <th>grand_total</th>\n",
              "    </tr>\n",
              "  </thead>\n",
              "  <tbody>\n",
              "    <tr>\n",
              "      <th>0</th>\n",
              "      <td>000THBA</td>\n",
              "      <td>29.6</td>\n",
              "    </tr>\n",
              "    <tr>\n",
              "      <th>1</th>\n",
              "      <td>002510Y</td>\n",
              "      <td>13.6</td>\n",
              "    </tr>\n",
              "    <tr>\n",
              "      <th>2</th>\n",
              "      <td>005ECL6</td>\n",
              "      <td>48.7</td>\n",
              "    </tr>\n",
              "    <tr>\n",
              "      <th>3</th>\n",
              "      <td>0075AM7</td>\n",
              "      <td>25.8</td>\n",
              "    </tr>\n",
              "    <tr>\n",
              "      <th>4</th>\n",
              "      <td>009UFS1</td>\n",
              "      <td>29.6</td>\n",
              "    </tr>\n",
              "    <tr>\n",
              "      <th>...</th>\n",
              "      <td>...</td>\n",
              "      <td>...</td>\n",
              "    </tr>\n",
              "    <tr>\n",
              "      <th>27440</th>\n",
              "      <td>ZZVGIVK</td>\n",
              "      <td>38.6</td>\n",
              "    </tr>\n",
              "    <tr>\n",
              "      <th>27441</th>\n",
              "      <td>ZZVLIB5</td>\n",
              "      <td>504.4</td>\n",
              "    </tr>\n",
              "    <tr>\n",
              "      <th>27442</th>\n",
              "      <td>ZZWKMGG</td>\n",
              "      <td>22.2</td>\n",
              "    </tr>\n",
              "    <tr>\n",
              "      <th>27443</th>\n",
              "      <td>ZZY3N0D</td>\n",
              "      <td>67.6</td>\n",
              "    </tr>\n",
              "    <tr>\n",
              "      <th>27444</th>\n",
              "      <td>ZZYY4EX</td>\n",
              "      <td>1.9</td>\n",
              "    </tr>\n",
              "  </tbody>\n",
              "</table>\n",
              "<p>27445 rows × 2 columns</p>\n",
              "</div>"
            ],
            "text/plain": [
              "      customer_id  grand_total\n",
              "0         000THBA         29.6\n",
              "1         002510Y         13.6\n",
              "2         005ECL6         48.7\n",
              "3         0075AM7         25.8\n",
              "4         009UFS1         29.6\n",
              "...           ...          ...\n",
              "27440     ZZVGIVK         38.6\n",
              "27441     ZZVLIB5        504.4\n",
              "27442     ZZWKMGG         22.2\n",
              "27443     ZZY3N0D         67.6\n",
              "27444     ZZYY4EX          1.9\n",
              "\n",
              "[27445 rows x 2 columns]"
            ]
          },
          "metadata": {
            "tags": []
          },
          "execution_count": 20
        }
      ]
    },
    {
      "cell_type": "markdown",
      "metadata": {
        "id": "lFGxUzAHv443",
        "colab_type": "text"
      },
      "source": [
        "## Weiterführende Ressourcen\n",
        "\n",
        "*  Dash Gallery (Umfangreiche Beispielsammlung für Dash-Apps, inkl. Source-Code): https://dash-gallery.plotly.host/Portal/"
      ]
    },
    {
      "cell_type": "markdown",
      "metadata": {
        "id": "Li4DxBnwujt8",
        "colab_type": "text"
      },
      "source": [
        "# TODO\n",
        "\n",
        "Mehr Erklärungen zu callbacks (mit Grafik)\n",
        "\n",
        "component property erklären - Auf Beispiel verweisen\n",
        "\n",
        "Lösung fertig bauen"
      ]
    }
  ]
}