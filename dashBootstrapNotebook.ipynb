{
  "nbformat": 4,
  "nbformat_minor": 0,
  "metadata": {
    "colab": {
      "name": "dashBootstrapNotebook.ipynb",
      "provenance": [],
      "collapsed_sections": []
    },
    "kernelspec": {
      "name": "python3",
      "display_name": "Python 3"
    }
  },
  "cells": [
    {
      "cell_type": "markdown",
      "metadata": {
        "id": "BUPb5V_78Hse",
        "colab_type": "text"
      },
      "source": [
        "# Dash Einführung\n",
        "Dash ist ein Framework zur Erstellung von Webapps für die Datenvisualisierung, entwickelt von Plotly. Dash zielt darauf ab, dass der User so weit wie möglich in Python arbeiten kann und eignet sich gut dafür, mit Pandas zusammen verwendet zu werden.\n",
        "\n",
        "In diesem Notebook werden die Grundlagen von Dash anhand von Beispielen vorgestellt. Die offizielle Dokumentation befindet sich hier: \n",
        "\n",
        "https://dash.plotly.com/\n",
        "\n",
        "Normalerweise wird Dash als normaler Pythonskript ausgeführt, der Zugriff auf die erzeugte Visualisierung erfolgt über den Browser. Innerhalb dieses Notebooks/der Colab-Umgebung greifen wir daher auf JupyterDash zurück, das ebenfalls von Plotly entwickelt wurde:\n",
        "\n",
        "(https://medium.com/plotly/introducing-jupyterdash-811f1f57c02e)\n",
        "\n",
        "*Anmerkung: Damit Dash in der Colab-Umgebung richtig funktioniert, sollten JavaScript und Cookies im Browser erlaubt sein.*"
      ]
    },
    {
      "cell_type": "code",
      "metadata": {
        "id": "Mf9_yWAMFGsZ",
        "colab_type": "code",
        "colab": {
          "base_uri": "https://localhost:8080/",
          "height": 1000
        },
        "outputId": "166730d6-fa0f-44f2-b470-38af62cc456b"
      },
      "source": [
        "!pip install jupyter-dash\n",
        "!pip install dash-bootstrap-components\n",
        "\n",
        "import dash\n",
        "import dash_bootstrap_components as dbc\n",
        "import dash_core_components as dcc\n",
        "import dash_html_components as html\n",
        "import dash_table\n",
        "import plotly.express as px\n",
        "from dash.dependencies import Input, Output\n",
        "from jupyter_dash import JupyterDash\n",
        "import numpy as np\n",
        "import pandas as pd\n",
        "\n",
        "iris = pd.read_csv(\"https://raw.githubusercontent.com/thomas-bierhance-exxcellent/data-wrangling-praktikum/master/iris.csv\")"
      ],
      "execution_count": null,
      "outputs": [
        {
          "output_type": "stream",
          "text": [
            "Collecting jupyter-dash\n",
            "\u001b[?25l  Downloading https://files.pythonhosted.org/packages/b9/b9/5f9499a0154124a262c85e3a99033b9b3a20dc3d2707b587f52b32b60d76/jupyter_dash-0.3.1-py3-none-any.whl (49kB)\n",
            "\r\u001b[K     |██████▊                         | 10kB 16.3MB/s eta 0:00:01\r\u001b[K     |█████████████▍                  | 20kB 1.8MB/s eta 0:00:01\r\u001b[K     |████████████████████            | 30kB 2.4MB/s eta 0:00:01\r\u001b[K     |██████████████████████████▊     | 40kB 2.6MB/s eta 0:00:01\r\u001b[K     |████████████████████████████████| 51kB 1.6MB/s \n",
            "\u001b[?25hRequirement already satisfied: ipython in /usr/local/lib/python3.6/dist-packages (from jupyter-dash) (5.5.0)\n",
            "Requirement already satisfied: requests in /usr/local/lib/python3.6/dist-packages (from jupyter-dash) (2.23.0)\n",
            "Requirement already satisfied: flask in /usr/local/lib/python3.6/dist-packages (from jupyter-dash) (1.1.2)\n",
            "Collecting dash\n",
            "\u001b[?25l  Downloading https://files.pythonhosted.org/packages/d1/c2/0eb000c0a2f9e594c7f94c3234838e8f840b209dc8c5b2bc1ed0a9bc0f3c/dash-1.16.1.tar.gz (72kB)\n",
            "\u001b[K     |████████████████████████████████| 81kB 4.2MB/s \n",
            "\u001b[?25hRequirement already satisfied: ipykernel in /usr/local/lib/python3.6/dist-packages (from jupyter-dash) (4.10.1)\n",
            "Collecting ansi2html\n",
            "  Downloading https://files.pythonhosted.org/packages/b7/f5/0d658908d70cb902609fbb39b9ce891b99e060fa06e98071d369056e346f/ansi2html-1.5.2.tar.gz\n",
            "Requirement already satisfied: retrying in /usr/local/lib/python3.6/dist-packages (from jupyter-dash) (1.3.3)\n",
            "Requirement already satisfied: prompt-toolkit<2.0.0,>=1.0.4 in /usr/local/lib/python3.6/dist-packages (from ipython->jupyter-dash) (1.0.18)\n",
            "Requirement already satisfied: pickleshare in /usr/local/lib/python3.6/dist-packages (from ipython->jupyter-dash) (0.7.5)\n",
            "Requirement already satisfied: pexpect; sys_platform != \"win32\" in /usr/local/lib/python3.6/dist-packages (from ipython->jupyter-dash) (4.8.0)\n",
            "Requirement already satisfied: setuptools>=18.5 in /usr/local/lib/python3.6/dist-packages (from ipython->jupyter-dash) (50.3.0)\n",
            "Requirement already satisfied: decorator in /usr/local/lib/python3.6/dist-packages (from ipython->jupyter-dash) (4.4.2)\n",
            "Requirement already satisfied: simplegeneric>0.8 in /usr/local/lib/python3.6/dist-packages (from ipython->jupyter-dash) (0.8.1)\n",
            "Requirement already satisfied: traitlets>=4.2 in /usr/local/lib/python3.6/dist-packages (from ipython->jupyter-dash) (4.3.3)\n",
            "Requirement already satisfied: pygments in /usr/local/lib/python3.6/dist-packages (from ipython->jupyter-dash) (2.6.1)\n",
            "Requirement already satisfied: chardet<4,>=3.0.2 in /usr/local/lib/python3.6/dist-packages (from requests->jupyter-dash) (3.0.4)\n",
            "Requirement already satisfied: urllib3!=1.25.0,!=1.25.1,<1.26,>=1.21.1 in /usr/local/lib/python3.6/dist-packages (from requests->jupyter-dash) (1.24.3)\n",
            "Requirement already satisfied: certifi>=2017.4.17 in /usr/local/lib/python3.6/dist-packages (from requests->jupyter-dash) (2020.6.20)\n",
            "Requirement already satisfied: idna<3,>=2.5 in /usr/local/lib/python3.6/dist-packages (from requests->jupyter-dash) (2.10)\n",
            "Requirement already satisfied: Jinja2>=2.10.1 in /usr/local/lib/python3.6/dist-packages (from flask->jupyter-dash) (2.11.2)\n",
            "Requirement already satisfied: Werkzeug>=0.15 in /usr/local/lib/python3.6/dist-packages (from flask->jupyter-dash) (1.0.1)\n",
            "Requirement already satisfied: itsdangerous>=0.24 in /usr/local/lib/python3.6/dist-packages (from flask->jupyter-dash) (1.1.0)\n",
            "Requirement already satisfied: click>=5.1 in /usr/local/lib/python3.6/dist-packages (from flask->jupyter-dash) (7.1.2)\n",
            "Collecting flask-compress\n",
            "  Downloading https://files.pythonhosted.org/packages/a0/96/cd684c1ffe97b513303b5bfd4bbfb4114c5f4a5ea8a737af6fd813273df8/Flask-Compress-1.5.0.tar.gz\n",
            "Requirement already satisfied: plotly in /usr/local/lib/python3.6/dist-packages (from dash->jupyter-dash) (4.4.1)\n",
            "Collecting dash_renderer==1.8.1\n",
            "\u001b[?25l  Downloading https://files.pythonhosted.org/packages/12/22/82e15ff57fd91bedd52583ee7e5968380a09b5a3003dd63361bfb67fdb54/dash_renderer-1.8.1.tar.gz (951kB)\n",
            "\u001b[K     |████████████████████████████████| 952kB 14.4MB/s \n",
            "\u001b[?25hCollecting dash-core-components==1.12.1\n",
            "\u001b[?25l  Downloading https://files.pythonhosted.org/packages/bb/9e/979263a03963d7ac70229ae9a9a118640dd3ef9b57c5d0c89d3d18f073e7/dash_core_components-1.12.1.tar.gz (3.4MB)\n",
            "\u001b[K     |████████████████████████████████| 3.4MB 34.1MB/s \n",
            "\u001b[?25hCollecting dash-html-components==1.1.1\n",
            "\u001b[?25l  Downloading https://files.pythonhosted.org/packages/02/ba/bb9427c62feb25bfbaf243894eeeb4e7c67a92b426ed0575a167100e436e/dash_html_components-1.1.1.tar.gz (188kB)\n",
            "\u001b[K     |████████████████████████████████| 194kB 31.1MB/s \n",
            "\u001b[?25hCollecting dash-table==4.10.1\n",
            "\u001b[?25l  Downloading https://files.pythonhosted.org/packages/a9/85/2408091d71af9af8c5ce6855730ff2e3e443ba8a667864e22f0881f4d785/dash_table-4.10.1.tar.gz (1.8MB)\n",
            "\u001b[K     |████████████████████████████████| 1.8MB 36.6MB/s \n",
            "\u001b[?25hRequirement already satisfied: future in /usr/local/lib/python3.6/dist-packages (from dash->jupyter-dash) (0.16.0)\n",
            "Requirement already satisfied: jupyter-client in /usr/local/lib/python3.6/dist-packages (from ipykernel->jupyter-dash) (5.3.5)\n",
            "Requirement already satisfied: tornado>=4.0 in /usr/local/lib/python3.6/dist-packages (from ipykernel->jupyter-dash) (5.1.1)\n",
            "Requirement already satisfied: six in /usr/local/lib/python3.6/dist-packages (from ansi2html->jupyter-dash) (1.15.0)\n",
            "Requirement already satisfied: wcwidth in /usr/local/lib/python3.6/dist-packages (from prompt-toolkit<2.0.0,>=1.0.4->ipython->jupyter-dash) (0.2.5)\n",
            "Requirement already satisfied: ptyprocess>=0.5 in /usr/local/lib/python3.6/dist-packages (from pexpect; sys_platform != \"win32\"->ipython->jupyter-dash) (0.6.0)\n",
            "Requirement already satisfied: ipython-genutils in /usr/local/lib/python3.6/dist-packages (from traitlets>=4.2->ipython->jupyter-dash) (0.2.0)\n",
            "Requirement already satisfied: MarkupSafe>=0.23 in /usr/local/lib/python3.6/dist-packages (from Jinja2>=2.10.1->flask->jupyter-dash) (1.1.1)\n",
            "Collecting brotli\n",
            "\u001b[?25l  Downloading https://files.pythonhosted.org/packages/b4/d3/7c98f05b7b9103e2f3a112ba42f269c798155b3e5404fb80bb8f823aaebe/Brotli-1.0.9-cp36-cp36m-manylinux1_x86_64.whl (357kB)\n",
            "\u001b[K     |████████████████████████████████| 358kB 33.4MB/s \n",
            "\u001b[?25hRequirement already satisfied: jupyter-core>=4.6.0 in /usr/local/lib/python3.6/dist-packages (from jupyter-client->ipykernel->jupyter-dash) (4.6.3)\n",
            "Requirement already satisfied: python-dateutil>=2.1 in /usr/local/lib/python3.6/dist-packages (from jupyter-client->ipykernel->jupyter-dash) (2.8.1)\n",
            "Requirement already satisfied: pyzmq>=13 in /usr/local/lib/python3.6/dist-packages (from jupyter-client->ipykernel->jupyter-dash) (19.0.2)\n",
            "Building wheels for collected packages: dash, ansi2html, flask-compress, dash-renderer, dash-core-components, dash-html-components, dash-table\n",
            "  Building wheel for dash (setup.py) ... \u001b[?25l\u001b[?25hdone\n",
            "  Created wheel for dash: filename=dash-1.16.1-cp36-none-any.whl size=82320 sha256=f105b9ee608a140479ef79baac0f5b6e8c80de73b1b2e876670a95144e615139\n",
            "  Stored in directory: /root/.cache/pip/wheels/52/0c/98/a3842c450867b2aec8577ee1051bb94ad0f8fe62ed3f80c175\n",
            "  Building wheel for ansi2html (setup.py) ... \u001b[?25l\u001b[?25hdone\n",
            "  Created wheel for ansi2html: filename=ansi2html-1.5.2-cp36-none-any.whl size=13862 sha256=e961c1e947d71af45255c3682b725f5e31f64d05b2e017145f5eb6127d9b9267\n",
            "  Stored in directory: /root/.cache/pip/wheels/f9/ea/e0/1ed3c3945ce073f930f3e5aa2b9bbadb03cd2efc8f8695cd61\n",
            "  Building wheel for flask-compress (setup.py) ... \u001b[?25l\u001b[?25hdone\n",
            "  Created wheel for flask-compress: filename=Flask_Compress-1.5.0-cp36-none-any.whl size=5272 sha256=2562006d901629957db6e095fee4ffa4b5f5ad6c850ee799638e9e5a12c78453\n",
            "  Stored in directory: /root/.cache/pip/wheels/f7/e9/e4/5afc286be7c87461375e33152558415dfeb0c8f5af3b50e742\n",
            "  Building wheel for dash-renderer (setup.py) ... \u001b[?25l\u001b[?25hdone\n",
            "  Created wheel for dash-renderer: filename=dash_renderer-1.8.1-cp36-none-any.whl size=960253 sha256=0e84396c02781be731868f2d2561fdacbb9211604f38f0277fb039b43445b004\n",
            "  Stored in directory: /root/.cache/pip/wheels/5a/e6/52/22190c9e35ff7c8fa8ce90bd76ea22a94903ca84b95b1d6db2\n",
            "  Building wheel for dash-core-components (setup.py) ... \u001b[?25l\u001b[?25hdone\n",
            "  Created wheel for dash-core-components: filename=dash_core_components-1.12.1-cp36-none-any.whl size=3475396 sha256=22e11901d0308f82892b835c7aec975dc4dcb59d3fe2781ed3ff5b243933552f\n",
            "  Stored in directory: /root/.cache/pip/wheels/29/11/a0/0cf8183b6f7df4716bec25b0e089043cd161bb58accc6633a6\n",
            "  Building wheel for dash-html-components (setup.py) ... \u001b[?25l\u001b[?25hdone\n",
            "  Created wheel for dash-html-components: filename=dash_html_components-1.1.1-cp36-none-any.whl size=427894 sha256=7a9cdfa51a25cf84fa14fbe0f9c6dd9a5996ef23bb951e13e024b12408386fe7\n",
            "  Stored in directory: /root/.cache/pip/wheels/8d/01/46/78e4de185a8a4a2da8ba31da16c52170f036d4cebeeb6e07a2\n",
            "  Building wheel for dash-table (setup.py) ... \u001b[?25l\u001b[?25hdone\n",
            "  Created wheel for dash-table: filename=dash_table-4.10.1-cp36-none-any.whl size=1824995 sha256=a69c50000d5a11f386af8c2967ab0b8d531e37cbaadd3027091e29783c888f38\n",
            "  Stored in directory: /root/.cache/pip/wheels/3d/c2/fd/50a7ea0b9aef63cf3bf3c5fb22799b8ba9a97ea8f9b14b7124\n",
            "Successfully built dash ansi2html flask-compress dash-renderer dash-core-components dash-html-components dash-table\n",
            "Installing collected packages: brotli, flask-compress, dash-renderer, dash-core-components, dash-html-components, dash-table, dash, ansi2html, jupyter-dash\n",
            "Successfully installed ansi2html-1.5.2 brotli-1.0.9 dash-1.16.1 dash-core-components-1.12.1 dash-html-components-1.1.1 dash-renderer-1.8.1 dash-table-4.10.1 flask-compress-1.5.0 jupyter-dash-0.3.1\n",
            "Collecting dash-bootstrap-components\n",
            "\u001b[?25l  Downloading https://files.pythonhosted.org/packages/61/01/5da09fab6018f065d70237ffb429afe2a4c10ef6986662c62eedcc76d6e6/dash_bootstrap_components-0.10.6-py2.py3-none-any.whl (185kB)\n",
            "\u001b[K     |████████████████████████████████| 194kB 2.9MB/s \n",
            "\u001b[?25hRequirement already satisfied: dash>=1.9.0 in /usr/local/lib/python3.6/dist-packages (from dash-bootstrap-components) (1.16.1)\n",
            "Requirement already satisfied: future in /usr/local/lib/python3.6/dist-packages (from dash>=1.9.0->dash-bootstrap-components) (0.16.0)\n",
            "Requirement already satisfied: dash-core-components==1.12.1 in /usr/local/lib/python3.6/dist-packages (from dash>=1.9.0->dash-bootstrap-components) (1.12.1)\n",
            "Requirement already satisfied: dash-renderer==1.8.1 in /usr/local/lib/python3.6/dist-packages (from dash>=1.9.0->dash-bootstrap-components) (1.8.1)\n",
            "Requirement already satisfied: plotly in /usr/local/lib/python3.6/dist-packages (from dash>=1.9.0->dash-bootstrap-components) (4.4.1)\n",
            "Requirement already satisfied: dash-table==4.10.1 in /usr/local/lib/python3.6/dist-packages (from dash>=1.9.0->dash-bootstrap-components) (4.10.1)\n",
            "Requirement already satisfied: Flask>=1.0.2 in /usr/local/lib/python3.6/dist-packages (from dash>=1.9.0->dash-bootstrap-components) (1.1.2)\n",
            "Requirement already satisfied: dash-html-components==1.1.1 in /usr/local/lib/python3.6/dist-packages (from dash>=1.9.0->dash-bootstrap-components) (1.1.1)\n",
            "Requirement already satisfied: flask-compress in /usr/local/lib/python3.6/dist-packages (from dash>=1.9.0->dash-bootstrap-components) (1.5.0)\n",
            "Requirement already satisfied: retrying>=1.3.3 in /usr/local/lib/python3.6/dist-packages (from plotly->dash>=1.9.0->dash-bootstrap-components) (1.3.3)\n",
            "Requirement already satisfied: six in /usr/local/lib/python3.6/dist-packages (from plotly->dash>=1.9.0->dash-bootstrap-components) (1.15.0)\n",
            "Requirement already satisfied: Werkzeug>=0.15 in /usr/local/lib/python3.6/dist-packages (from Flask>=1.0.2->dash>=1.9.0->dash-bootstrap-components) (1.0.1)\n",
            "Requirement already satisfied: itsdangerous>=0.24 in /usr/local/lib/python3.6/dist-packages (from Flask>=1.0.2->dash>=1.9.0->dash-bootstrap-components) (1.1.0)\n",
            "Requirement already satisfied: Jinja2>=2.10.1 in /usr/local/lib/python3.6/dist-packages (from Flask>=1.0.2->dash>=1.9.0->dash-bootstrap-components) (2.11.2)\n",
            "Requirement already satisfied: click>=5.1 in /usr/local/lib/python3.6/dist-packages (from Flask>=1.0.2->dash>=1.9.0->dash-bootstrap-components) (7.1.2)\n",
            "Requirement already satisfied: brotli in /usr/local/lib/python3.6/dist-packages (from flask-compress->dash>=1.9.0->dash-bootstrap-components) (1.0.9)\n",
            "Requirement already satisfied: MarkupSafe>=0.23 in /usr/local/lib/python3.6/dist-packages (from Jinja2>=2.10.1->Flask>=1.0.2->dash>=1.9.0->dash-bootstrap-components) (1.1.1)\n",
            "Installing collected packages: dash-bootstrap-components\n",
            "Successfully installed dash-bootstrap-components-0.10.6\n"
          ],
          "name": "stdout"
        }
      ]
    },
    {
      "cell_type": "markdown",
      "metadata": {
        "id": "aFow9JVUy7g9",
        "colab_type": "text"
      },
      "source": [
        "## Plots und Layout"
      ]
    },
    {
      "cell_type": "markdown",
      "metadata": {
        "id": "AoqvBlYn8Qmz",
        "colab_type": "text"
      },
      "source": [
        "Mit Dash können sehr aufwändige Oberflächen mit komplexen Graphen, Auswahl- und Filterelementen (z.B. Dropdown-Menüs, Checkboxen, Slider, etc.) und Layouts erstellt werden.\n",
        "\n",
        "Für den Anfang erstmal eine minimale Dash-App:"
      ]
    },
    {
      "cell_type": "code",
      "metadata": {
        "id": "ytxx0akOi1BZ",
        "colab_type": "code",
        "colab": {
          "base_uri": "https://localhost:8080/",
          "height": 671
        },
        "outputId": "bbbb5aa9-d63f-4663-b124-9154f8f78cef"
      },
      "source": [
        "app = JupyterDash(__name__)\n",
        "\n",
        "# Das Layout wird ähnlich wie in HTML festgelegt\n",
        "app.layout = html.Div(children=[\n",
        "    html.H1(children='Hallo'),\n",
        "    html.Div(children=\"Hier könnte Ihre Dash App stehen.\")\n",
        "])\n",
        "\n",
        "# Die JupyterDash-App wird im Notebook selber angezeigt\n",
        "app.run_server(mode='inline')"
      ],
      "execution_count": null,
      "outputs": [
        {
          "output_type": "display_data",
          "data": {
            "application/javascript": [
              "(async (port, path, width, height, cache, element) => {\n",
              "    if (!google.colab.kernel.accessAllowed && !cache) {\n",
              "      return;\n",
              "    }\n",
              "    element.appendChild(document.createTextNode(''));\n",
              "    const url = await google.colab.kernel.proxyPort(port, {cache});\n",
              "    const iframe = document.createElement('iframe');\n",
              "    iframe.src = url + path;\n",
              "    iframe.height = height;\n",
              "    iframe.width = width;\n",
              "    iframe.style.border = 0;\n",
              "    element.appendChild(iframe);\n",
              "  })(8050, \"/\", \"100%\", 650, false, window.element)"
            ],
            "text/plain": [
              "<IPython.core.display.Javascript object>"
            ]
          },
          "metadata": {
            "tags": []
          }
        }
      ]
    },
    {
      "cell_type": "markdown",
      "metadata": {
        "id": "W184w-viCgmT",
        "colab_type": "text"
      },
      "source": [
        "Für das Layout verwenden wir in diesem Notebook **Dash Bootstrap** (https://dash-bootstrap-components.opensource.faculty.ai/). Dies ändert nichts an den Konzepten von Dash, macht den Layout-Code bei etwas komplexeren Beispielen aber deutlich übersichtlicher."
      ]
    },
    {
      "cell_type": "code",
      "metadata": {
        "id": "4dy0LgFyCBRh",
        "colab_type": "code",
        "colab": {
          "base_uri": "https://localhost:8080/",
          "height": 671
        },
        "outputId": "61f6ab68-92fe-47f1-e5ac-ae3d79f41285"
      },
      "source": [
        "app = JupyterDash(__name__, external_stylesheets=[dbc.themes.BOOTSTRAP])\n",
        "\n",
        "\n",
        "# Das Layout wird ähnlich wie in HTML festgelegt\n",
        "app.layout = app.layout = dbc.Container([\n",
        "     html.H1(\"Hallo\"),\n",
        "     html.Div(\"Hier ist Dash :D\")\n",
        "])\n",
        "\n",
        "# Die JupyterDash-App wird im Notebook selber angezeigt\n",
        "app.run_server(mode='inline')"
      ],
      "execution_count": null,
      "outputs": [
        {
          "output_type": "display_data",
          "data": {
            "application/javascript": [
              "(async (port, path, width, height, cache, element) => {\n",
              "    if (!google.colab.kernel.accessAllowed && !cache) {\n",
              "      return;\n",
              "    }\n",
              "    element.appendChild(document.createTextNode(''));\n",
              "    const url = await google.colab.kernel.proxyPort(port, {cache});\n",
              "    const iframe = document.createElement('iframe');\n",
              "    iframe.src = url + path;\n",
              "    iframe.height = height;\n",
              "    iframe.width = width;\n",
              "    iframe.style.border = 0;\n",
              "    element.appendChild(iframe);\n",
              "  })(8050, \"/\", \"100%\", 650, false, window.element)"
            ],
            "text/plain": [
              "<IPython.core.display.Javascript object>"
            ]
          },
          "metadata": {
            "tags": []
          }
        }
      ]
    },
    {
      "cell_type": "markdown",
      "metadata": {
        "id": "J9MZQZRm9M8y",
        "colab_type": "text"
      },
      "source": [
        "Wir setzen jetzt einen der Iris-Plots aus dem Pandas-Notebook in Dash um: "
      ]
    },
    {
      "cell_type": "code",
      "metadata": {
        "id": "c3JAcqKs9L2v",
        "colab_type": "code",
        "colab": {
          "base_uri": "https://localhost:8080/",
          "height": 671
        },
        "outputId": "aa3f3944-9f15-4933-9d2d-d4412c7fe523"
      },
      "source": [
        "app = JupyterDash(__name__, external_stylesheets=[dbc.themes.BOOTSTRAP])\n",
        "# Scatterplot erzeugen\n",
        "fig = px.scatter(iris, x=\"sepal_length\", y=\"sepal_width\", color=\"species\")\n",
        "# Die Minimal- und Maximalwerte der Achsen\n",
        "fig.update_xaxes(range=[4, 8])\n",
        "fig.update_yaxes(range=[1.5, 5])\n",
        "\n",
        "app.layout = dbc.Container(\n",
        "    [\n",
        "        html.H1(\"Iris Data\"),\n",
        "        dcc.Graph(id='iris-graph', figure=fig)\n",
        "    ]\n",
        ")\n",
        "\n",
        "app.run_server(mode='inline')"
      ],
      "execution_count": null,
      "outputs": [
        {
          "output_type": "display_data",
          "data": {
            "application/javascript": [
              "(async (port, path, width, height, cache, element) => {\n",
              "    if (!google.colab.kernel.accessAllowed && !cache) {\n",
              "      return;\n",
              "    }\n",
              "    element.appendChild(document.createTextNode(''));\n",
              "    const url = await google.colab.kernel.proxyPort(port, {cache});\n",
              "    const iframe = document.createElement('iframe');\n",
              "    iframe.src = url + path;\n",
              "    iframe.height = height;\n",
              "    iframe.width = width;\n",
              "    iframe.style.border = 0;\n",
              "    element.appendChild(iframe);\n",
              "  })(8050, \"/\", \"100%\", 650, false, window.element)"
            ],
            "text/plain": [
              "<IPython.core.display.Javascript object>"
            ]
          },
          "metadata": {
            "tags": []
          }
        }
      ]
    },
    {
      "cell_type": "markdown",
      "metadata": {
        "id": "fma-oXGR917w",
        "colab_type": "text"
      },
      "source": [
        "Tooltips für die einzelnen Datenpunkte werden durch Dash automatisch generiert, ebenso wie Legenden (siehe erstes Iris-Beispiel weiter unten) und eine Plot-Toolbar mit Auswahl- und Zoomwerkzeugen (die Ansicht kann mit dem \"Autoscale\"-Button zurückgesetzt werden).\n",
        "\n",
        "Auch 3D-Plots können ohne großen Aufwand erstellt werden:"
      ]
    },
    {
      "cell_type": "code",
      "metadata": {
        "id": "rAsmcwfiN2NB",
        "colab_type": "code",
        "colab": {
          "base_uri": "https://localhost:8080/",
          "height": 671
        },
        "outputId": "93bf174a-a805-4905-e886-cc66180f6441"
      },
      "source": [
        "app = JupyterDash(__name__, external_stylesheets=[dbc.themes.BOOTSTRAP])\n",
        "# Die Dimension \"petal_length\" wird nun hinzugefügt\n",
        "fig = px.scatter_3d(iris, x=\"sepal_length\", y=\"sepal_width\", z=\"petal_width\", color=\"species\")\n",
        "\n",
        "# Die Achsen müssen bei 3D-Plots etwas anders gesetzt werden, dies ist aber optional\n",
        "fig.update_layout(\n",
        "    scene = dict(\n",
        "        xaxis = dict(range=[4,8]),\n",
        "        yaxis = dict(range=[1.5, 5]),\n",
        "        zaxis = dict(range=[0,3])\n",
        "        )\n",
        ")\n",
        "\n",
        "app.layout = dbc.Container(\n",
        "    [\n",
        "        html.H1(\"Iris Data\"),\n",
        "        dcc.Graph(id='iris-graph', figure=fig)\n",
        "    ]\n",
        ")\n",
        "\n",
        "app.run_server(mode='inline')"
      ],
      "execution_count": null,
      "outputs": [
        {
          "output_type": "display_data",
          "data": {
            "application/javascript": [
              "(async (port, path, width, height, cache, element) => {\n",
              "    if (!google.colab.kernel.accessAllowed && !cache) {\n",
              "      return;\n",
              "    }\n",
              "    element.appendChild(document.createTextNode(''));\n",
              "    const url = await google.colab.kernel.proxyPort(port, {cache});\n",
              "    const iframe = document.createElement('iframe');\n",
              "    iframe.src = url + path;\n",
              "    iframe.height = height;\n",
              "    iframe.width = width;\n",
              "    iframe.style.border = 0;\n",
              "    element.appendChild(iframe);\n",
              "  })(8050, \"/\", \"100%\", 650, false, window.element)"
            ],
            "text/plain": [
              "<IPython.core.display.Javascript object>"
            ]
          },
          "metadata": {
            "tags": []
          }
        }
      ]
    },
    {
      "cell_type": "markdown",
      "metadata": {
        "id": "MlshLO0xYBzA",
        "colab_type": "text"
      },
      "source": [
        "### TODO Übung\n",
        "\n",
        "Jetzt zu den Aufgaben für Dich:\n",
        "\n",
        "1.   Erstelle aus den Restaurant-Daten einen neuen DataFrame mit den Spalten vendor_id, vendor_rating (aus der Tabelle vendors) und vendor_total(Gesamtgewinn des jeweiligen Restaurants, berechnet aus den einzelnen Bestellungen)\n",
        "\n",
        "\n"
      ]
    },
    {
      "cell_type": "code",
      "metadata": {
        "id": "B11kEqUB2riO",
        "colab_type": "code",
        "colab": {}
      },
      "source": [
        "# Daten laden\n",
        "vendors = pd.read_csv('https://github.com/thomas-bierhance-exxcellent/data-wrangling-praktikum/raw/master/vendors.csv.xz')\n",
        "customers = pd.read_csv('https://github.com/thomas-bierhance-exxcellent/data-wrangling-praktikum/raw/master/customers.csv.xz')\n",
        "locations = pd.read_csv('https://github.com/thomas-bierhance-exxcellent/data-wrangling-praktikum/raw/master/locations.csv.xz')\n",
        "orders = pd.read_csv('https://github.com/thomas-bierhance-exxcellent/data-wrangling-praktikum/raw/master/orders.csv.xz',\n",
        "                     parse_dates=['order_accepted_time', 'delivered_time', 'delivery_date'])"
      ],
      "execution_count": null,
      "outputs": []
    },
    {
      "cell_type": "code",
      "metadata": {
        "id": "iX7-jL5921TM",
        "colab_type": "code",
        "colab": {}
      },
      "source": [
        "# Platz für Deine Übungen :)"
      ],
      "execution_count": null,
      "outputs": []
    },
    {
      "cell_type": "markdown",
      "metadata": {
        "id": "ngOI84Fqx0R_",
        "colab_type": "text"
      },
      "source": [
        "### TODO Lösung"
      ]
    },
    {
      "cell_type": "code",
      "metadata": {
        "id": "WwzRm3eA27Vz",
        "colab_type": "code",
        "colab": {
          "base_uri": "https://localhost:8080/",
          "height": 419
        },
        "outputId": "2055c69e-e98c-412d-b06c-f7773938028e"
      },
      "source": [
        "# \n",
        "vendor_revenue = vendors.loc[\"vendor_id\t\", \"\"]"
      ],
      "execution_count": null,
      "outputs": [
        {
          "output_type": "execute_result",
          "data": {
            "text/html": [
              "<div>\n",
              "<style scoped>\n",
              "    .dataframe tbody tr th:only-of-type {\n",
              "        vertical-align: middle;\n",
              "    }\n",
              "\n",
              "    .dataframe tbody tr th {\n",
              "        vertical-align: top;\n",
              "    }\n",
              "\n",
              "    .dataframe thead th {\n",
              "        text-align: right;\n",
              "    }\n",
              "</style>\n",
              "<table border=\"1\" class=\"dataframe\">\n",
              "  <thead>\n",
              "    <tr style=\"text-align: right;\">\n",
              "      <th></th>\n",
              "      <th>vendor_id</th>\n",
              "      <th>latitude</th>\n",
              "      <th>longitude</th>\n",
              "      <th>vendor_category_en</th>\n",
              "      <th>serving_distance</th>\n",
              "      <th>opening_time</th>\n",
              "      <th>vendor_rating</th>\n",
              "      <th>vendor_tag_name</th>\n",
              "    </tr>\n",
              "  </thead>\n",
              "  <tbody>\n",
              "    <tr>\n",
              "      <th>0</th>\n",
              "      <td>4</td>\n",
              "      <td>-0.588596</td>\n",
              "      <td>0.754434</td>\n",
              "      <td>Restaurants</td>\n",
              "      <td>6.0</td>\n",
              "      <td>11:00AM-11:30PM</td>\n",
              "      <td>4.4</td>\n",
              "      <td>Arabic,Breakfast,Burgers,Desserts,Free Deliver...</td>\n",
              "    </tr>\n",
              "    <tr>\n",
              "      <th>1</th>\n",
              "      <td>13</td>\n",
              "      <td>-0.471654</td>\n",
              "      <td>0.744470</td>\n",
              "      <td>Restaurants</td>\n",
              "      <td>5.0</td>\n",
              "      <td>08:30AM-10:30PM</td>\n",
              "      <td>4.7</td>\n",
              "      <td>Breakfast,Cakes,Crepes,Italian,Pasta,Pizzas,Sa...</td>\n",
              "    </tr>\n",
              "    <tr>\n",
              "      <th>2</th>\n",
              "      <td>20</td>\n",
              "      <td>-0.407527</td>\n",
              "      <td>0.643681</td>\n",
              "      <td>Restaurants</td>\n",
              "      <td>8.0</td>\n",
              "      <td>08:00AM-10:45PM</td>\n",
              "      <td>4.5</td>\n",
              "      <td>Breakfast,Desserts,Free Delivery,Indian</td>\n",
              "    </tr>\n",
              "    <tr>\n",
              "      <th>3</th>\n",
              "      <td>23</td>\n",
              "      <td>-0.585385</td>\n",
              "      <td>0.753811</td>\n",
              "      <td>Restaurants</td>\n",
              "      <td>5.0</td>\n",
              "      <td>10:59AM-10:30PM</td>\n",
              "      <td>4.5</td>\n",
              "      <td>Burgers,Desserts,Fries,Salads</td>\n",
              "    </tr>\n",
              "    <tr>\n",
              "      <th>4</th>\n",
              "      <td>28</td>\n",
              "      <td>0.480602</td>\n",
              "      <td>0.552850</td>\n",
              "      <td>Restaurants</td>\n",
              "      <td>15.0</td>\n",
              "      <td>11:00AM-11:45PM</td>\n",
              "      <td>4.4</td>\n",
              "      <td>Burgers</td>\n",
              "    </tr>\n",
              "    <tr>\n",
              "      <th>...</th>\n",
              "      <td>...</td>\n",
              "      <td>...</td>\n",
              "      <td>...</td>\n",
              "      <td>...</td>\n",
              "      <td>...</td>\n",
              "      <td>...</td>\n",
              "      <td>...</td>\n",
              "      <td>...</td>\n",
              "    </tr>\n",
              "    <tr>\n",
              "      <th>95</th>\n",
              "      <td>849</td>\n",
              "      <td>-1.588060</td>\n",
              "      <td>-0.066441</td>\n",
              "      <td>Restaurants</td>\n",
              "      <td>10.0</td>\n",
              "      <td>NaN</td>\n",
              "      <td>4.1</td>\n",
              "      <td>American,Breakfast,Burgers,Cafe,Desserts,Free ...</td>\n",
              "    </tr>\n",
              "    <tr>\n",
              "      <th>96</th>\n",
              "      <td>855</td>\n",
              "      <td>2.145206</td>\n",
              "      <td>0.745025</td>\n",
              "      <td>Restaurants</td>\n",
              "      <td>8.0</td>\n",
              "      <td>NaN</td>\n",
              "      <td>4.2</td>\n",
              "      <td>American,Burgers,Desserts,Free Delivery,Fries,...</td>\n",
              "    </tr>\n",
              "    <tr>\n",
              "      <th>97</th>\n",
              "      <td>856</td>\n",
              "      <td>0.251469</td>\n",
              "      <td>0.483632</td>\n",
              "      <td>Restaurants</td>\n",
              "      <td>7.0</td>\n",
              "      <td>NaN</td>\n",
              "      <td>4.3</td>\n",
              "      <td>American,Breakfast,Burgers,Cafe,Desserts,Free ...</td>\n",
              "    </tr>\n",
              "    <tr>\n",
              "      <th>98</th>\n",
              "      <td>858</td>\n",
              "      <td>0.019817</td>\n",
              "      <td>0.587087</td>\n",
              "      <td>Restaurants</td>\n",
              "      <td>3.0</td>\n",
              "      <td>NaN</td>\n",
              "      <td>4.2</td>\n",
              "      <td>American,Breakfast,Burgers,Cafe,Desserts,Free ...</td>\n",
              "    </tr>\n",
              "    <tr>\n",
              "      <th>99</th>\n",
              "      <td>907</td>\n",
              "      <td>13.335131</td>\n",
              "      <td>-1.449556</td>\n",
              "      <td>Restaurants</td>\n",
              "      <td>12.0</td>\n",
              "      <td>NaN</td>\n",
              "      <td>4.3</td>\n",
              "      <td>Fatayers,Mojitos ,Sandwiches</td>\n",
              "    </tr>\n",
              "  </tbody>\n",
              "</table>\n",
              "<p>100 rows × 8 columns</p>\n",
              "</div>"
            ],
            "text/plain": [
              "    vendor_id  ...                                    vendor_tag_name\n",
              "0           4  ...  Arabic,Breakfast,Burgers,Desserts,Free Deliver...\n",
              "1          13  ...  Breakfast,Cakes,Crepes,Italian,Pasta,Pizzas,Sa...\n",
              "2          20  ...            Breakfast,Desserts,Free Delivery,Indian\n",
              "3          23  ...                      Burgers,Desserts,Fries,Salads\n",
              "4          28  ...                                            Burgers\n",
              "..        ...  ...                                                ...\n",
              "95        849  ...  American,Breakfast,Burgers,Cafe,Desserts,Free ...\n",
              "96        855  ...  American,Burgers,Desserts,Free Delivery,Fries,...\n",
              "97        856  ...  American,Breakfast,Burgers,Cafe,Desserts,Free ...\n",
              "98        858  ...  American,Breakfast,Burgers,Cafe,Desserts,Free ...\n",
              "99        907  ...                       Fatayers,Mojitos ,Sandwiches\n",
              "\n",
              "[100 rows x 8 columns]"
            ]
          },
          "metadata": {
            "tags": []
          },
          "execution_count": 46
        }
      ]
    },
    {
      "cell_type": "code",
      "metadata": {
        "id": "nKGPIyUp3CGp",
        "colab_type": "code",
        "colab": {
          "base_uri": "https://localhost:8080/",
          "height": 419
        },
        "outputId": "04643535-1902-48d3-9d15-e77f6cd963b3"
      },
      "source": [
        "locations"
      ],
      "execution_count": null,
      "outputs": [
        {
          "output_type": "execute_result",
          "data": {
            "text/html": [
              "<div>\n",
              "<style scoped>\n",
              "    .dataframe tbody tr th:only-of-type {\n",
              "        vertical-align: middle;\n",
              "    }\n",
              "\n",
              "    .dataframe tbody tr th {\n",
              "        vertical-align: top;\n",
              "    }\n",
              "\n",
              "    .dataframe thead th {\n",
              "        text-align: right;\n",
              "    }\n",
              "</style>\n",
              "<table border=\"1\" class=\"dataframe\">\n",
              "  <thead>\n",
              "    <tr style=\"text-align: right;\">\n",
              "      <th></th>\n",
              "      <th>customer_id</th>\n",
              "      <th>location_number</th>\n",
              "      <th>location_type</th>\n",
              "      <th>latitude</th>\n",
              "      <th>longitude</th>\n",
              "    </tr>\n",
              "  </thead>\n",
              "  <tbody>\n",
              "    <tr>\n",
              "      <th>0</th>\n",
              "      <td>02SFNJH</td>\n",
              "      <td>0</td>\n",
              "      <td>NaN</td>\n",
              "      <td>1.682392</td>\n",
              "      <td>-78.789737</td>\n",
              "    </tr>\n",
              "    <tr>\n",
              "      <th>1</th>\n",
              "      <td>02SFNJH</td>\n",
              "      <td>1</td>\n",
              "      <td>NaN</td>\n",
              "      <td>1.679137</td>\n",
              "      <td>0.766823</td>\n",
              "    </tr>\n",
              "    <tr>\n",
              "      <th>2</th>\n",
              "      <td>02SFNJH</td>\n",
              "      <td>2</td>\n",
              "      <td>NaN</td>\n",
              "      <td>-0.498648</td>\n",
              "      <td>0.661241</td>\n",
              "    </tr>\n",
              "    <tr>\n",
              "      <th>3</th>\n",
              "      <td>RU43CXC</td>\n",
              "      <td>0</td>\n",
              "      <td>Home</td>\n",
              "      <td>0.100853</td>\n",
              "      <td>0.438165</td>\n",
              "    </tr>\n",
              "    <tr>\n",
              "      <th>4</th>\n",
              "      <td>BDFBPRD</td>\n",
              "      <td>0</td>\n",
              "      <td>NaN</td>\n",
              "      <td>2.523125</td>\n",
              "      <td>0.733464</td>\n",
              "    </tr>\n",
              "    <tr>\n",
              "      <th>...</th>\n",
              "      <td>...</td>\n",
              "      <td>...</td>\n",
              "      <td>...</td>\n",
              "      <td>...</td>\n",
              "      <td>...</td>\n",
              "    </tr>\n",
              "    <tr>\n",
              "      <th>59498</th>\n",
              "      <td>9PP42SA</td>\n",
              "      <td>2</td>\n",
              "      <td>NaN</td>\n",
              "      <td>-0.788515</td>\n",
              "      <td>-78.497721</td>\n",
              "    </tr>\n",
              "    <tr>\n",
              "      <th>59499</th>\n",
              "      <td>9PP42SA</td>\n",
              "      <td>3</td>\n",
              "      <td>Home</td>\n",
              "      <td>-1.445114</td>\n",
              "      <td>0.072558</td>\n",
              "    </tr>\n",
              "    <tr>\n",
              "      <th>59500</th>\n",
              "      <td>9PP42SA</td>\n",
              "      <td>4</td>\n",
              "      <td>NaN</td>\n",
              "      <td>-0.001785</td>\n",
              "      <td>0.431695</td>\n",
              "    </tr>\n",
              "    <tr>\n",
              "      <th>59501</th>\n",
              "      <td>HWELAU8</td>\n",
              "      <td>0</td>\n",
              "      <td>NaN</td>\n",
              "      <td>-0.066291</td>\n",
              "      <td>-78.583075</td>\n",
              "    </tr>\n",
              "    <tr>\n",
              "      <th>59502</th>\n",
              "      <td>HWELAU8</td>\n",
              "      <td>1</td>\n",
              "      <td>NaN</td>\n",
              "      <td>-0.067043</td>\n",
              "      <td>0.648221</td>\n",
              "    </tr>\n",
              "  </tbody>\n",
              "</table>\n",
              "<p>59503 rows × 5 columns</p>\n",
              "</div>"
            ],
            "text/plain": [
              "      customer_id  location_number location_type  latitude  longitude\n",
              "0         02SFNJH                0           NaN  1.682392 -78.789737\n",
              "1         02SFNJH                1           NaN  1.679137   0.766823\n",
              "2         02SFNJH                2           NaN -0.498648   0.661241\n",
              "3         RU43CXC                0          Home  0.100853   0.438165\n",
              "4         BDFBPRD                0           NaN  2.523125   0.733464\n",
              "...           ...              ...           ...       ...        ...\n",
              "59498     9PP42SA                2           NaN -0.788515 -78.497721\n",
              "59499     9PP42SA                3          Home -1.445114   0.072558\n",
              "59500     9PP42SA                4           NaN -0.001785   0.431695\n",
              "59501     HWELAU8                0           NaN -0.066291 -78.583075\n",
              "59502     HWELAU8                1           NaN -0.067043   0.648221\n",
              "\n",
              "[59503 rows x 5 columns]"
            ]
          },
          "metadata": {
            "tags": []
          },
          "execution_count": 48
        }
      ]
    },
    {
      "cell_type": "code",
      "metadata": {
        "id": "CoypvTwa3IxN",
        "colab_type": "code",
        "colab": {
          "base_uri": "https://localhost:8080/",
          "height": 419
        },
        "outputId": "032dcfc0-c83d-4e7e-fc9c-fe1d82cef839"
      },
      "source": [
        "orders"
      ],
      "execution_count": null,
      "outputs": [
        {
          "output_type": "execute_result",
          "data": {
            "text/html": [
              "<div>\n",
              "<style scoped>\n",
              "    .dataframe tbody tr th:only-of-type {\n",
              "        vertical-align: middle;\n",
              "    }\n",
              "\n",
              "    .dataframe tbody tr th {\n",
              "        vertical-align: top;\n",
              "    }\n",
              "\n",
              "    .dataframe thead th {\n",
              "        text-align: right;\n",
              "    }\n",
              "</style>\n",
              "<table border=\"1\" class=\"dataframe\">\n",
              "  <thead>\n",
              "    <tr style=\"text-align: right;\">\n",
              "      <th></th>\n",
              "      <th>customer_id</th>\n",
              "      <th>grand_total</th>\n",
              "      <th>vendor_rating</th>\n",
              "      <th>driver_rating</th>\n",
              "      <th>delivery_distance</th>\n",
              "      <th>order_accepted_time</th>\n",
              "      <th>delivered_time</th>\n",
              "      <th>delivery_date</th>\n",
              "      <th>vendor_id</th>\n",
              "      <th>location_number</th>\n",
              "    </tr>\n",
              "  </thead>\n",
              "  <tbody>\n",
              "    <tr>\n",
              "      <th>0</th>\n",
              "      <td>92PEE24</td>\n",
              "      <td>7.6</td>\n",
              "      <td>NaN</td>\n",
              "      <td>0.0</td>\n",
              "      <td>0.00</td>\n",
              "      <td>NaT</td>\n",
              "      <td>NaT</td>\n",
              "      <td>2019-07-31</td>\n",
              "      <td>105</td>\n",
              "      <td>0</td>\n",
              "    </tr>\n",
              "    <tr>\n",
              "      <th>1</th>\n",
              "      <td>QS68UD8</td>\n",
              "      <td>8.7</td>\n",
              "      <td>NaN</td>\n",
              "      <td>0.0</td>\n",
              "      <td>0.00</td>\n",
              "      <td>NaT</td>\n",
              "      <td>NaT</td>\n",
              "      <td>2019-07-31</td>\n",
              "      <td>294</td>\n",
              "      <td>0</td>\n",
              "    </tr>\n",
              "    <tr>\n",
              "      <th>2</th>\n",
              "      <td>MB7VY5F</td>\n",
              "      <td>14.4</td>\n",
              "      <td>NaN</td>\n",
              "      <td>0.0</td>\n",
              "      <td>0.00</td>\n",
              "      <td>NaT</td>\n",
              "      <td>NaT</td>\n",
              "      <td>2019-07-31</td>\n",
              "      <td>83</td>\n",
              "      <td>0</td>\n",
              "    </tr>\n",
              "    <tr>\n",
              "      <th>3</th>\n",
              "      <td>KDJ951Y</td>\n",
              "      <td>7.1</td>\n",
              "      <td>NaN</td>\n",
              "      <td>0.0</td>\n",
              "      <td>0.00</td>\n",
              "      <td>NaT</td>\n",
              "      <td>NaT</td>\n",
              "      <td>2019-07-31</td>\n",
              "      <td>90</td>\n",
              "      <td>0</td>\n",
              "    </tr>\n",
              "    <tr>\n",
              "      <th>4</th>\n",
              "      <td>BAL0RVT</td>\n",
              "      <td>27.2</td>\n",
              "      <td>NaN</td>\n",
              "      <td>0.0</td>\n",
              "      <td>0.00</td>\n",
              "      <td>NaT</td>\n",
              "      <td>NaT</td>\n",
              "      <td>2019-07-31</td>\n",
              "      <td>83</td>\n",
              "      <td>0</td>\n",
              "    </tr>\n",
              "    <tr>\n",
              "      <th>...</th>\n",
              "      <td>...</td>\n",
              "      <td>...</td>\n",
              "      <td>...</td>\n",
              "      <td>...</td>\n",
              "      <td>...</td>\n",
              "      <td>...</td>\n",
              "      <td>...</td>\n",
              "      <td>...</td>\n",
              "      <td>...</td>\n",
              "      <td>...</td>\n",
              "    </tr>\n",
              "    <tr>\n",
              "      <th>135298</th>\n",
              "      <td>L6LFY6H</td>\n",
              "      <td>13.3</td>\n",
              "      <td>NaN</td>\n",
              "      <td>0.0</td>\n",
              "      <td>1.75</td>\n",
              "      <td>2020-02-29 23:48:47</td>\n",
              "      <td>2020-03-01 00:29:42</td>\n",
              "      <td>2020-03-01</td>\n",
              "      <td>67</td>\n",
              "      <td>0</td>\n",
              "    </tr>\n",
              "    <tr>\n",
              "      <th>135299</th>\n",
              "      <td>2GMMVGI</td>\n",
              "      <td>9.5</td>\n",
              "      <td>5.0</td>\n",
              "      <td>4.0</td>\n",
              "      <td>12.81</td>\n",
              "      <td>2020-02-29 23:49:50</td>\n",
              "      <td>2020-03-01 01:03:14</td>\n",
              "      <td>2020-03-01</td>\n",
              "      <td>79</td>\n",
              "      <td>0</td>\n",
              "    </tr>\n",
              "    <tr>\n",
              "      <th>135300</th>\n",
              "      <td>LYTAAV0</td>\n",
              "      <td>18.2</td>\n",
              "      <td>NaN</td>\n",
              "      <td>0.0</td>\n",
              "      <td>11.15</td>\n",
              "      <td>2020-02-29 23:49:16</td>\n",
              "      <td>2020-03-01 00:36:37</td>\n",
              "      <td>2020-03-01</td>\n",
              "      <td>28</td>\n",
              "      <td>2</td>\n",
              "    </tr>\n",
              "    <tr>\n",
              "      <th>135301</th>\n",
              "      <td>NEV9A5D</td>\n",
              "      <td>7.7</td>\n",
              "      <td>NaN</td>\n",
              "      <td>0.0</td>\n",
              "      <td>2.29</td>\n",
              "      <td>2020-02-29 23:54:38</td>\n",
              "      <td>2020-03-01 00:36:52</td>\n",
              "      <td>2020-03-01</td>\n",
              "      <td>841</td>\n",
              "      <td>0</td>\n",
              "    </tr>\n",
              "    <tr>\n",
              "      <th>135302</th>\n",
              "      <td>77KCRC1</td>\n",
              "      <td>6.8</td>\n",
              "      <td>NaN</td>\n",
              "      <td>0.0</td>\n",
              "      <td>3.92</td>\n",
              "      <td>2020-02-29 23:58:04</td>\n",
              "      <td>2020-03-01 00:28:06</td>\n",
              "      <td>2020-03-01</td>\n",
              "      <td>79</td>\n",
              "      <td>4</td>\n",
              "    </tr>\n",
              "  </tbody>\n",
              "</table>\n",
              "<p>135303 rows × 10 columns</p>\n",
              "</div>"
            ],
            "text/plain": [
              "       customer_id  grand_total  ...  vendor_id  location_number\n",
              "0          92PEE24          7.6  ...        105                0\n",
              "1          QS68UD8          8.7  ...        294                0\n",
              "2          MB7VY5F         14.4  ...         83                0\n",
              "3          KDJ951Y          7.1  ...         90                0\n",
              "4          BAL0RVT         27.2  ...         83                0\n",
              "...            ...          ...  ...        ...              ...\n",
              "135298     L6LFY6H         13.3  ...         67                0\n",
              "135299     2GMMVGI          9.5  ...         79                0\n",
              "135300     LYTAAV0         18.2  ...         28                2\n",
              "135301     NEV9A5D          7.7  ...        841                0\n",
              "135302     77KCRC1          6.8  ...         79                4\n",
              "\n",
              "[135303 rows x 10 columns]"
            ]
          },
          "metadata": {
            "tags": []
          },
          "execution_count": 49
        }
      ]
    },
    {
      "cell_type": "code",
      "metadata": {
        "id": "tTkSMJey3bnw",
        "colab_type": "code",
        "colab": {
          "base_uri": "https://localhost:8080/",
          "height": 34
        },
        "outputId": "5a4de097-c302-494f-e3ad-6ec7644334e4"
      },
      "source": [
        "len(set(orders['vendor_id']))\n",
        "len(set(vendors['vendor_id']))"
      ],
      "execution_count": null,
      "outputs": [
        {
          "output_type": "execute_result",
          "data": {
            "text/plain": [
              "100"
            ]
          },
          "metadata": {
            "tags": []
          },
          "execution_count": 60
        }
      ]
    },
    {
      "cell_type": "markdown",
      "metadata": {
        "id": "UJjLNhQ5Ab9C",
        "colab_type": "text"
      },
      "source": [
        "## Callbacks\n",
        "Ein höherer Grad an Interaktion wird in Dash über Callbacks erreicht. Auch hierzu wieder ein Minimalbeispiel:"
      ]
    },
    {
      "cell_type": "code",
      "metadata": {
        "id": "EbHyBfgLBFvV",
        "colab_type": "code",
        "colab": {
          "base_uri": "https://localhost:8080/",
          "height": 671
        },
        "outputId": "f64df4bc-16e9-41a2-a8cf-722382b9cb5d"
      },
      "source": [
        "app = JupyterDash(__name__, external_stylesheets=[dbc.themes.BOOTSTRAP])\n",
        "\n",
        "# Für Callbacks sind die component_ids im Layout wichtig\n",
        "app.layout = html.Div([\n",
        "    html.H5(\"Mit dem Inputfeld kann der Text im Output verändert werden\"),\n",
        "    html.Div([\"Input: \",\n",
        "              dcc.Input(id='my-input', value='Hai :D', type='text')]),\n",
        "    html.Br(),\n",
        "    html.Div(id='my-output'),\n",
        "\n",
        "])\n",
        "\n",
        "app.layout = dbc.Container(\n",
        "    [\n",
        "        html.H6(\"Mit dem Inputfeld kann der Text im Output verändert werden\"),\n",
        "        dbc.Input(id=\"my-input\", type=\"text\", value=\"\", placeholder=\"Input\"),\n",
        "        html.Br(),\n",
        "        html.Div(id=\"my-output\"),\n",
        "    ]\n",
        ")\n",
        "\n",
        "# Der Callback wird immer aufgerufen, sobald sich eine Property des Inputs ändert,\n",
        "# in diesem Fall mit component_id='my-input' im Layout \n",
        "# Der Output wird analog über component_id='my-output' angesprochen\n",
        "@app.callback(\n",
        "    Output(component_id='my-output', component_property='children'),\n",
        "    [Input(component_id='my-input', component_property='value')]\n",
        ")\n",
        "def update_output_div(input_value):\n",
        "    return 'Output: {}'.format(input_value)\n",
        "\n",
        "\n",
        "app.run_server(mode='inline')"
      ],
      "execution_count": null,
      "outputs": [
        {
          "output_type": "display_data",
          "data": {
            "application/javascript": [
              "(async (port, path, width, height, cache, element) => {\n",
              "    if (!google.colab.kernel.accessAllowed && !cache) {\n",
              "      return;\n",
              "    }\n",
              "    element.appendChild(document.createTextNode(''));\n",
              "    const url = await google.colab.kernel.proxyPort(port, {cache});\n",
              "    const iframe = document.createElement('iframe');\n",
              "    iframe.src = url + path;\n",
              "    iframe.height = height;\n",
              "    iframe.width = width;\n",
              "    iframe.style.border = 0;\n",
              "    element.appendChild(iframe);\n",
              "  })(8050, \"/\", \"100%\", 650, false, window.element)"
            ],
            "text/plain": [
              "<IPython.core.display.Javascript object>"
            ]
          },
          "metadata": {
            "tags": []
          }
        }
      ]
    },
    {
      "cell_type": "markdown",
      "metadata": {
        "id": "Gjr9n0MVNhZG",
        "colab_type": "text"
      },
      "source": [
        "Das Input-Feld in diesem Beispiel ist Teil der Dash Core Components (https://dash.plotly.com/dash-core-components), ebenso wie `dcc.Graph `, welcher uns in den vorherigen Beispielen bereits begegnet ist.\n",
        "\n",
        "Mithilfe von Callbacks bauen wir in die Iris-App eine einfache Filtermöglichkeit ein: Ein Dropdown-Menü (ebenfalls aus `dcc`), mit welchem Iris-Spezies ausgewählt werden können."
      ]
    },
    {
      "cell_type": "markdown",
      "metadata": {
        "id": "-UVcDcLBKWBQ",
        "colab_type": "text"
      },
      "source": [
        "*Anmerkung: In diesem Beispiel sind die Farben nicht an die Spezies gebunden, d.h. wenn nur eine Spezies ausgewählt wird, wird diese immer in Blau angezeigt. Um den Code halbwegs übersichtlich zu halten, belassen wir das in diesem Notebook so.*"
      ]
    },
    {
      "cell_type": "code",
      "metadata": {
        "id": "hODE5A2aAt_J",
        "colab_type": "code",
        "colab": {
          "base_uri": "https://localhost:8080/",
          "height": 671
        },
        "outputId": "805c0de5-fef3-4bc5-8b0d-e58d5bcd3175"
      },
      "source": [
        "app = JupyterDash(__name__, external_stylesheets=[dbc.themes.BOOTSTRAP])\n",
        "\n",
        "# Liste der Spezies für das Dropdown-Menü erstellen, mit Zusatzoption 'All species'\n",
        "species_list = ['All species']\n",
        "species_list.extend(iris['species'].unique())\n",
        "species_list\n",
        "\n",
        "# Die Erstellung des Plots an sich kapseln wir zwecks Verwendung im Callback in eine\n",
        "# eigene Methode\n",
        "def generate_my_plot(df):\n",
        "  fig = px.scatter(df, x=\"sepal_length\", y=\"sepal_width\", color=\"species\")\n",
        "  # Die Minimal- und Maximalwerte der Achsen\n",
        "  fig.update_xaxes(range=[4, 8])\n",
        "  fig.update_yaxes(range=[1.5, 5])\n",
        "  return fig\n",
        "\n",
        "fig = generate_my_plot(iris)\n",
        "\n",
        "app.layout = dbc.Container([\n",
        "     html.H1(\"Iris Data\"),\n",
        "     dcc.Dropdown(id=\"species-select\", \n",
        "                  options=[{\"label\": i, \"value\": i} for i in species_list], \n",
        "                  value=species_list[0]),\n",
        "     dcc.Graph(id='iris-graph', figure=fig)\n",
        "])\n",
        "\n",
        "\n",
        "\n",
        "# Der Callback wird aufgerufen sobald, sich eine Input-Property ändert\n",
        "@app.callback(\n",
        "    Output(component_id='iris-graph', component_property='figure'),\n",
        "    [Input(component_id='species-select', component_property='value')]\n",
        ")\n",
        "def update_graph(input_value):\n",
        "  if input_value == 'All species':\n",
        "    iris_updated = iris\n",
        "  else:\n",
        "    iris_updated = iris.loc[iris['species']==input_value]\n",
        "  return generate_my_plot(iris_updated)\n",
        "\n",
        "app.run_server(mode='inline')"
      ],
      "execution_count": null,
      "outputs": [
        {
          "output_type": "display_data",
          "data": {
            "application/javascript": [
              "(async (port, path, width, height, cache, element) => {\n",
              "    if (!google.colab.kernel.accessAllowed && !cache) {\n",
              "      return;\n",
              "    }\n",
              "    element.appendChild(document.createTextNode(''));\n",
              "    const url = await google.colab.kernel.proxyPort(port, {cache});\n",
              "    const iframe = document.createElement('iframe');\n",
              "    iframe.src = url + path;\n",
              "    iframe.height = height;\n",
              "    iframe.width = width;\n",
              "    iframe.style.border = 0;\n",
              "    element.appendChild(iframe);\n",
              "  })(8050, \"/\", \"100%\", 650, false, window.element)"
            ],
            "text/plain": [
              "<IPython.core.display.Javascript object>"
            ]
          },
          "metadata": {
            "tags": []
          }
        }
      ]
    },
    {
      "cell_type": "markdown",
      "metadata": {
        "id": "xP8_eppteqmu",
        "colab_type": "text"
      },
      "source": [
        "### Übung TODO"
      ]
    },
    {
      "cell_type": "markdown",
      "metadata": {
        "id": "r1MeKOlketBn",
        "colab_type": "text"
      },
      "source": [
        "### Lösung TODO"
      ]
    },
    {
      "cell_type": "markdown",
      "metadata": {
        "id": "Uz5EM9pkOS68",
        "colab_type": "text"
      },
      "source": [
        "## Anpassung des Layouts\n",
        "Das Dropdown-Menü sieht momentan noch etwas breit aus. Bevor wir unserer App also weitere Elemente hinzufügen, sollten wir das Layout noch ein wenig anpassen:"
      ]
    },
    {
      "cell_type": "code",
      "metadata": {
        "id": "zd4oDF2xPASL",
        "colab_type": "code",
        "colab": {
          "base_uri": "https://localhost:8080/",
          "height": 671
        },
        "outputId": "47ac2890-3bfa-40c0-f64b-708d39faf635"
      },
      "source": [
        "app = JupyterDash(__name__, external_stylesheets=[dbc.themes.BOOTSTRAP])\n",
        "\n",
        "species_list = ['All species']\n",
        "species_list.extend(iris['species'].unique())\n",
        "species_list\n",
        "\n",
        "def generate_my_plot(df):\n",
        "  fig = px.scatter(df, x=\"sepal_length\", y=\"sepal_width\", color=\"species\")\n",
        "  # Die Minimal- und Maximalwerte der Achsen\n",
        "  fig.update_xaxes(range=[4, 8])\n",
        "  fig.update_yaxes(range=[1.5, 5])\n",
        "  return fig\n",
        "\n",
        "fig = generate_my_plot(iris)\n",
        " \n",
        "# Das Layout wird so umgestellt, dass das Dropdownmenü neben dem Graphen steht\n",
        "# Anmerkung: Das Card Element ist hier für den Rahmen um die Formgroup verantwortlich,\n",
        "# bietet aber auch sehr viele Anpassungsmöglichkeiten für das Layout\n",
        "controls = dbc.Card([\n",
        "                     dbc.FormGroup([\n",
        "                                    dbc.Label('Species:'),\n",
        "                                    dcc.Dropdown(id=\"species-select\", \n",
        "                                    options=[{\"label\": i, \"value\": i} for i in species_list], \n",
        "                                    value=species_list[0],)\n",
        "                     ])\n",
        "], body=True)\n",
        "\n",
        "app.layout = dbc.Container([\n",
        "     html.H1(\"Iris Data\"),\n",
        "     dbc.Row([\n",
        "              dbc.Col(controls, md=4),\n",
        "              dbc.Col(dcc.Graph(id='iris-graph', figure=fig), md=8)\n",
        "     ],align=\"top\",)\n",
        "])\n",
        "\n",
        "@app.callback(\n",
        "    Output(component_id='iris-graph', component_property='figure'),\n",
        "    [Input(component_id='species-select', component_property='value')]\n",
        ")\n",
        "def update_graph(input_value):\n",
        "  if input_value == 'All species':\n",
        "    iris_updated = iris\n",
        "  else:\n",
        "    iris_updated = iris.loc[iris['species']==input_value]\n",
        "  return generate_my_plot(iris_updated)\n",
        "\n",
        "app.run_server(mode='inline')"
      ],
      "execution_count": null,
      "outputs": [
        {
          "output_type": "display_data",
          "data": {
            "application/javascript": [
              "(async (port, path, width, height, cache, element) => {\n",
              "    if (!google.colab.kernel.accessAllowed && !cache) {\n",
              "      return;\n",
              "    }\n",
              "    element.appendChild(document.createTextNode(''));\n",
              "    const url = await google.colab.kernel.proxyPort(port, {cache});\n",
              "    const iframe = document.createElement('iframe');\n",
              "    iframe.src = url + path;\n",
              "    iframe.height = height;\n",
              "    iframe.width = width;\n",
              "    iframe.style.border = 0;\n",
              "    element.appendChild(iframe);\n",
              "  })(8050, \"/\", \"100%\", 650, false, window.element)"
            ],
            "text/plain": [
              "<IPython.core.display.Javascript object>"
            ]
          },
          "metadata": {
            "tags": []
          }
        }
      ]
    },
    {
      "cell_type": "markdown",
      "metadata": {
        "id": "JY2PTUcn3lrd",
        "colab_type": "text"
      },
      "source": [
        "## Slider\n",
        "Nur nach der Spezies zu filtern ist natürlich zu einfach, deshalb wollen wir zusätzlich nach Blütengrößen filtern können:"
      ]
    },
    {
      "cell_type": "code",
      "metadata": {
        "id": "V_ZmcoOP4jwL",
        "colab_type": "code",
        "colab": {
          "base_uri": "https://localhost:8080/",
          "height": 671
        },
        "outputId": "3dd4cb1b-b8f6-42bd-f628-91c2d6f49149"
      },
      "source": [
        "app = JupyterDash(__name__, external_stylesheets=[dbc.themes.BOOTSTRAP])\n",
        "\n",
        "species_list = ['All species']\n",
        "species_list.extend(iris['species'].unique())\n",
        "species_list\n",
        "\n",
        "def generate_my_plot(df):\n",
        "  fig = px.scatter(df, x=\"sepal_length\", y=\"sepal_width\", color=\"species\")\n",
        "  # Die Minimal- und Maximalwerte der Achsen\n",
        "  fig.update_xaxes(range=[4, 8])\n",
        "  fig.update_yaxes(range=[1.5, 5])\n",
        "  return fig\n",
        "\n",
        "fig = generate_my_plot(iris)\n",
        "\n",
        "controls = dbc.Card([\n",
        "                     dbc.FormGroup([\n",
        "                                    dbc.Label('Species:'),\n",
        "                                    dcc.Dropdown(id=\"species-select\", \n",
        "                                    options=[{\"label\": i, \"value\": i} for i in species_list], \n",
        "                                    value=species_list[0],)\n",
        "                     ]),\n",
        "                     dbc.FormGroup([\n",
        "                                    dbc.Label('Petal length:'),\n",
        "                                    dcc.RangeSlider(id=\"petal-length-select\", \n",
        "                                                    count=1,min=1,max=7,step=0.5,\n",
        "                                                    value=[1,7], \n",
        "                                                    marks={i: '{}'.format(i) for i in range(1,8)}),\n",
        "                     ]),\n",
        "                     dbc.FormGroup([\n",
        "                                    dbc.Label('Petal width:'),\n",
        "                                    dcc.RangeSlider(id=\"petal-width-select\", \n",
        "                                                    count=1,min=0,max=3,step=0.5,\n",
        "                                                    value=[0, 3], \n",
        "                                                    marks={i: '{}'.format(i) for i in range(0, 4)})\n",
        "                     ])\n",
        "], body=True)\n",
        "\n",
        "app.layout = dbc.Container([\n",
        "     html.H1(\"Iris Data\"),\n",
        "     dbc.Row([\n",
        "              dbc.Col(controls, md=4),\n",
        "              dbc.Col(dcc.Graph(id='iris-graph', figure=fig), md=8)\n",
        "     ],align=\"top\",)\n",
        "])\n",
        "\n",
        "\n",
        "\n",
        "# Die zusätzlichen Inputs werden einfach hinzugefügt\n",
        "@app.callback(\n",
        "    Output(component_id='iris-graph', component_property='figure'),\n",
        "    [Input(component_id='species-select', component_property='value'),\n",
        "     Input(component_id='petal-length-select', component_property='value'),\n",
        "     Input(component_id='petal-width-select', component_property='value')]\n",
        ")\n",
        "def update_graph(species_select, petal_length_select, petal_width_select):\n",
        "  # Spezies filtern\n",
        "  if species_select == 'All species':\n",
        "    iris_updated = iris\n",
        "  else:\n",
        "    iris_updated = iris.loc[iris['species']==species_select]\n",
        "  # Sliderwerte filtern\n",
        "  iris_updated = iris_updated.loc[iris_updated['petal_length'].between(petal_length_select[0],petal_length_select[1])]\n",
        "  iris_updated = iris_updated.loc[iris_updated['petal_width'].between(petal_width_select[0],petal_width_select[1])]\n",
        "  return generate_my_plot(iris_updated)\n",
        "\n",
        "app.run_server(mode='inline')"
      ],
      "execution_count": null,
      "outputs": [
        {
          "output_type": "display_data",
          "data": {
            "application/javascript": [
              "(async (port, path, width, height, cache, element) => {\n",
              "    if (!google.colab.kernel.accessAllowed && !cache) {\n",
              "      return;\n",
              "    }\n",
              "    element.appendChild(document.createTextNode(''));\n",
              "    const url = await google.colab.kernel.proxyPort(port, {cache});\n",
              "    const iframe = document.createElement('iframe');\n",
              "    iframe.src = url + path;\n",
              "    iframe.height = height;\n",
              "    iframe.width = width;\n",
              "    iframe.style.border = 0;\n",
              "    element.appendChild(iframe);\n",
              "  })(8050, \"/\", \"100%\", 650, false, window.element)"
            ],
            "text/plain": [
              "<IPython.core.display.Javascript object>"
            ]
          },
          "metadata": {
            "tags": []
          }
        }
      ]
    },
    {
      "cell_type": "markdown",
      "metadata": {
        "id": "yk96h_O3D8Jp",
        "colab_type": "text"
      },
      "source": [
        "## DataTable\n",
        "Für tiefergehende Datenanalyse kann in einer Dash-Anwendung natürlich auch mehr als nur ein einzelner Graph angezeigt werden. Im letzten Schritt werden wir nun eine Datatable hinzufügen, mit der eine Spezies ausgewählt und zusätzliche Informationen zu ihr angezeigt werden können."
      ]
    },
    {
      "cell_type": "code",
      "metadata": {
        "id": "8UDh6rFQHYej",
        "colab_type": "code",
        "colab": {
          "base_uri": "https://localhost:8080/",
          "height": 671
        },
        "outputId": "213b74da-f979-4778-db5e-e1f501c82d46"
      },
      "source": [
        "app = JupyterDash(__name__, external_stylesheets=[dbc.themes.BOOTSTRAP])\n",
        "\n",
        "species_list = ['All species']\n",
        "species_list.extend(iris['species'].unique())\n",
        "species_list\n",
        "\n",
        "def generate_my_plot(df):\n",
        "  fig = px.scatter(df, x=\"sepal_length\", y=\"sepal_width\", color=\"species\")\n",
        "  fig.update_xaxes(range=[4, 8])\n",
        "  fig.update_yaxes(range=[1.5, 5])\n",
        "  return fig\n",
        "\n",
        "def generate_my_other_plot(df):\n",
        "  fig = px.box(df, y=\"sepal_length\")\n",
        "  return fig\n",
        "\n",
        "fig = generate_my_plot(iris)\n",
        "lower_fig = generate_my_other_plot(iris)\n",
        "\n",
        "controlsUpper = dbc.Card([\n",
        "                     dbc.FormGroup([\n",
        "                                    dbc.Label('Species:'),\n",
        "                                    dcc.Dropdown(id=\"species-select\", \n",
        "                                    options=[{\"label\": i, \"value\": i} for i in species_list], \n",
        "                                    value=species_list[0],)\n",
        "                     ]),\n",
        "                     dbc.FormGroup([\n",
        "                                    dbc.Label('Petal length:'),\n",
        "                                    dcc.RangeSlider(id=\"petal-length-select\", \n",
        "                                                    count=1,min=1,max=7,step=0.5,\n",
        "                                                    value=[1,7], \n",
        "                                                    marks={i: '{}'.format(i) for i in range(1,8)}),\n",
        "                     ]),\n",
        "                     dbc.FormGroup([\n",
        "                                    dbc.Label('Petal width:'),\n",
        "                                    dcc.RangeSlider(id=\"petal-width-select\", \n",
        "                                                    count=1,min=0,max=3,step=0.5,\n",
        "                                                    value=[0, 3], \n",
        "                                                    marks={i: '{}'.format(i) for i in range(0, 4)})\n",
        "                     ])\n",
        "], body=True)\n",
        "\n",
        "# DataTable hinzufügen\n",
        "controlsLower = dbc.Card([\n",
        "                          dbc.FormGroup([\n",
        "                                        dbc.Label('Sepal Length Distribution:'),\n",
        "                                        dash_table.DataTable(\n",
        "                                        id='species-table',\n",
        "                                        columns=[{\"name\": \"Species\", \"id\": \"species\"}], # id muss dem Spaltennamen aus den Daten entsprechen!\n",
        "                                        data=[{'species': 'All'},\n",
        "                                              {'species': 'species-setosa'},\n",
        "                                              {'species': 'species-versicolor'},\n",
        "                                              {'species': 'species-virginica'}\n",
        "                                              ],\n",
        "                                        row_selectable=\"single\")\n",
        "                          ])\n",
        "], body=True)\n",
        "\n",
        "app.layout = dbc.Container([\n",
        "     html.H1(\"Iris Data\"),\n",
        "     dbc.Row([\n",
        "              dbc.Col(controlsUpper, md=4),\n",
        "              dbc.Col(dcc.Graph(id='iris-graph', figure=fig), md=8)\n",
        "     ],align=\"top\",),\n",
        "     dbc.Row([\n",
        "              dbc.Col(controlsLower, md=4),\n",
        "              dbc.Col(dcc.Graph(id='lower-graph', figure=lower_fig), md=8)\n",
        "     ],align=\"top\",)\n",
        "])\n",
        "\n",
        "\n",
        "@app.callback(\n",
        "    Output(component_id='iris-graph', component_property='figure'),\n",
        "    [Input(component_id='species-select', component_property='value'),\n",
        "     Input(component_id='petal-length-select', component_property='value'),\n",
        "     Input(component_id='petal-width-select', component_property='value')]\n",
        ")\n",
        "def update_iris_graph(species_select, petal_length_select, petal_width_select):\n",
        "  # Spezies filtern\n",
        "  if species_select == 'All species':\n",
        "    iris_updated = iris\n",
        "  else:\n",
        "    iris_updated = iris.loc[iris['species']==species_select]\n",
        "  # Sliderwerte filtern\n",
        "  iris_updated = iris_updated.loc[iris_updated['petal_length'].between(petal_length_select[0],petal_length_select[1])]\n",
        "  iris_updated = iris_updated.loc[iris_updated['petal_width'].between(petal_width_select[0],petal_width_select[1])]\n",
        "  return generate_my_plot(iris_updated)\n",
        "\n",
        "\n",
        "\n",
        "@app.callback(\n",
        "    Output(component_id='lower-graph', component_property='figure'),\n",
        "    [Input(component_id='species-table', component_property='selected_rows')]\n",
        ")\n",
        "def update_lower_graph(input_value):\n",
        "  if input_value[0] == 0:\n",
        "    iris_updated = iris\n",
        "  elif input_value[0] == 1:\n",
        "    iris_updated = iris.loc[iris['species']=='species-setosa']\n",
        "  elif input_value[0] == 2:\n",
        "    iris_updated = iris.loc[iris['species']=='species-versicolor']\n",
        "  elif input_value[0] == 3:\n",
        "    iris_updated = iris.loc[iris['species']=='species-virginica']\n",
        "  return generate_my_other_plot(iris_updated)\n",
        "\n",
        "app.run_server(mode='inline')"
      ],
      "execution_count": null,
      "outputs": [
        {
          "output_type": "display_data",
          "data": {
            "application/javascript": [
              "(async (port, path, width, height, cache, element) => {\n",
              "    if (!google.colab.kernel.accessAllowed && !cache) {\n",
              "      return;\n",
              "    }\n",
              "    element.appendChild(document.createTextNode(''));\n",
              "    const url = await google.colab.kernel.proxyPort(port, {cache});\n",
              "    const iframe = document.createElement('iframe');\n",
              "    iframe.src = url + path;\n",
              "    iframe.height = height;\n",
              "    iframe.width = width;\n",
              "    iframe.style.border = 0;\n",
              "    element.appendChild(iframe);\n",
              "  })(8050, \"/\", \"100%\", 650, false, window.element)"
            ],
            "text/plain": [
              "<IPython.core.display.Javascript object>"
            ]
          },
          "metadata": {
            "tags": []
          }
        }
      ]
    },
    {
      "cell_type": "markdown",
      "metadata": {
        "id": "bcYAF-gGfXDx",
        "colab_type": "text"
      },
      "source": [
        "### Übung TODO"
      ]
    },
    {
      "cell_type": "markdown",
      "metadata": {
        "id": "5ZVY_CxxfZMU",
        "colab_type": "text"
      },
      "source": [
        "### Lösung TODO"
      ]
    },
    {
      "cell_type": "markdown",
      "metadata": {
        "id": "lFGxUzAHv443",
        "colab_type": "text"
      },
      "source": [
        "## Weiterführende Ressourcen\n",
        "\n",
        "*  Dash Gallery (Umfangreiche Beispielsammlung für Dash-Apps, inkl. Source-Code): https://dash-gallery.plotly.host/Portal/"
      ]
    },
    {
      "cell_type": "markdown",
      "metadata": {
        "id": "VMfliru0HgPM",
        "colab_type": "text"
      },
      "source": [
        "## Codebeispiele\n",
        "\n",
        "3D-Plot ohne Bootstrap:"
      ]
    },
    {
      "cell_type": "code",
      "metadata": {
        "id": "r9muVFL1Hkp2",
        "colab_type": "code",
        "colab": {}
      },
      "source": [
        "app = JupyterDash(__name__)\n",
        "\n",
        "# Liste der Spezies für das Dropdown-Menü erstellen, mit Zusatzoption 'All species'\n",
        "species_list = ['All species']\n",
        "species_list.extend(iris['species'].unique())\n",
        "species_list\n",
        "\n",
        "# Die Erstellung des Plots an sich kapseln wir zwecks Verwendung im Callback in eine\n",
        "# eigene Methode\n",
        "def generate_my_plot(df):\n",
        "  fig = px.scatter_3d(df, x=\"sepal_length\", y=\"sepal_width\", z=\"petal_width\", color=\"species\")\n",
        "  fig.update_layout(\n",
        "      scene = dict(\n",
        "          xaxis = dict(range=[4,8]),\n",
        "          yaxis = dict(range=[1.5, 5]),\n",
        "          zaxis = dict(range=[0,3])\n",
        "          )\n",
        "  )\n",
        "  return fig\n",
        " \n",
        "app.layout = html.Div(children=[\n",
        "    html.H1(children='Iris-Daten'),\n",
        "\n",
        "    html.Div(children='''\n",
        "        Ein wunderschöner 3D-Plot:\n",
        "    '''),\n",
        "\n",
        "    dcc.Dropdown(\n",
        "                id=\"species-select\",\n",
        "                options=[{\"label\": i, \"value\": i} for i in species_list],\n",
        "                value=species_list[0],\n",
        "            ),\n",
        "\n",
        "    dcc.Graph(\n",
        "        id='iris-graph',\n",
        "        figure=fig\n",
        "    )\n",
        "])\n",
        "\n",
        "# Der Callback wird aufgerufen sobald, sich eine Input-Property ändert\n",
        "@app.callback(\n",
        "    Output(component_id='iris-graph', component_property='figure'),\n",
        "    [Input(component_id='species-select', component_property='value')]\n",
        ")\n",
        "def update_graph(input_value):\n",
        "  if input_value == 'All species':\n",
        "    iris_updated = iris\n",
        "  else:\n",
        "    iris_updated = iris.loc[iris['species']==input_value]\n",
        "  return generate_my_plot(iris_updated)\n",
        "\n",
        "app.run_server(mode='inline')"
      ],
      "execution_count": null,
      "outputs": []
    },
    {
      "cell_type": "markdown",
      "metadata": {
        "id": "eH9WV1215ZGc",
        "colab_type": "text"
      },
      "source": [
        "3D-Plot mit Slider ohne Bootstrap:"
      ]
    },
    {
      "cell_type": "code",
      "metadata": {
        "id": "8QVaFWskHloh",
        "colab_type": "code",
        "colab": {}
      },
      "source": [
        "app = JupyterDash(__name__)\n",
        "\n",
        "\n",
        "\n",
        "species_list = ['All species']\n",
        "species_list.extend(iris['species'].unique())\n",
        "species_list\n",
        "\n",
        "def generate_my_plot(df):\n",
        "  fig = px.scatter_3d(df, x=\"sepal_length\", y=\"sepal_width\", z=\"petal_width\", color=\"species\")\n",
        "\n",
        "  fig.update_layout(\n",
        "      margin=dict(l=0, r=0, b=0, t=15),\n",
        "      width = 600,\n",
        "      scene = dict(\n",
        "          xaxis = dict(range=[4,8]),\n",
        "          yaxis = dict(range=[1.5, 5]),\n",
        "          zaxis = dict(range=[0,3])\n",
        "          )\n",
        "  )\n",
        "  return fig\n",
        "\n",
        "fig = generate_my_plot(iris)\n",
        " \n",
        "app.layout = html.Div([\n",
        "        html.H1('Iris-Data'),\n",
        "        html.Div([\n",
        "            html.Label('Species:'),\n",
        "            dcc.Dropdown(id=\"species-select\", options=[{\"label\": i, \"value\": i} for i in species_list], value=species_list[0]),\n",
        "            # Ins Layout fügen wir die Slider ein\n",
        "            html.Label('Sepal length:'),\n",
        "            dcc.RangeSlider(id=\"sepal-length-select\", count=1,min=4,max=8,step=0.5,value=[4, 8], marks={i: '{}'.format(i) for i in range(4, 9)}),\n",
        "            html.Label('Sepal width:'),\n",
        "            dcc.RangeSlider(id=\"sepal-width-select\", count=1,min=0,max=5,step=0.5,value=[0, 5], marks={i: '{}'.format(i) for i in range(0, 10)}),\n",
        "            html.Label('Petal width:'),\n",
        "            dcc.RangeSlider(id=\"petal-width-select\", count=1,min=0,max=3,step=0.25,value=[0, 3], marks={i: '{}'.format(i) for i in range(0, 10)}) \n",
        "            \n",
        "        ], \n",
        "        style={'width': '15%', 'display': 'inline-block', 'vertical-align':'top'}),\n",
        "\n",
        "        html.Div(dcc.Graph(\n",
        "            id='iris-graph',\n",
        "            figure=fig),\n",
        "            style={'width': '80%', 'display': 'inline-block'})\n",
        "])\n",
        "\n",
        "# Die zusätzlichen Inputs werden einfach hinzugefügt\n",
        "@app.callback(\n",
        "    Output(component_id='iris-graph', component_property='figure'),\n",
        "    [Input(component_id='species-select', component_property='value'),\n",
        "     Input(component_id='sepal-length-select', component_property='value'),\n",
        "     Input(component_id='sepal-width-select', component_property='value'),\n",
        "     Input(component_id='petal-width-select', component_property='value')]\n",
        ")\n",
        "def update_graph(species_select, sepal_length_select, sepal_width_select, petal_width_select):\n",
        "  # Spezies filtern\n",
        "  if species_select == 'All species':\n",
        "    iris_updated = iris\n",
        "  else:\n",
        "    iris_updated = iris.loc[iris['species']==species_select]\n",
        "  # Sliderwerte filtern\n",
        "  iris_updated = iris_updated.loc[iris_updated['sepal_length'].between(sepal_length_select[0],sepal_length_select[1])]\n",
        "  iris_updated = iris_updated.loc[iris_updated['sepal_width'].between(sepal_width_select[0],sepal_width_select[1])]\n",
        "  iris_updated = iris_updated.loc[iris_updated['petal_width'].between(petal_width_select[0],petal_width_select[1])]\n",
        "  return generate_my_plot(iris_updated)\n",
        "\n",
        "app.run_server(mode='inline')"
      ],
      "execution_count": null,
      "outputs": []
    },
    {
      "cell_type": "markdown",
      "metadata": {
        "id": "xQQOaL-hf1bo",
        "colab_type": "text"
      },
      "source": [
        "# TODO Ab hier löschen, sobald fertig"
      ]
    },
    {
      "cell_type": "markdown",
      "metadata": {
        "id": "4PAf6dR6-dI8",
        "colab_type": "text"
      },
      "source": [
        "## Beispieldatensatz - Restaurant Recommendation"
      ]
    },
    {
      "cell_type": "markdown",
      "metadata": {
        "id": "DuMlueFl-l86",
        "colab_type": "text"
      },
      "source": [
        "In diesem Notebook verwenden wir für die weiteren Beispiel den Kaggle-Datensatz für die \"Restaurant Recommendation Challenge\". Er enthält Daten wie Kundenbestellungen, Restaurantbewertungen, Lieferzeiten, Ortsangaben, etc.\n",
        "\n",
        "(https://www.kaggle.com/mrmorj/restaurant-recommendation-challenge/)"
      ]
    },
    {
      "cell_type": "code",
      "metadata": {
        "id": "fHRLpqn8-kR3",
        "colab_type": "code",
        "colab": {
          "base_uri": "https://localhost:8080/",
          "height": 85
        },
        "outputId": "d2f634ce-b6bc-487e-f2f4-b471eff18b8a"
      },
      "source": [
        "# Die komprimierten Daten werden aus einem Repo gelesen\n",
        "orders = pd.read_csv(\"https://github.com/thomas-bierhance-exxcellent/data-wrangling-praktikum/raw/master/orders.csv.xz\", index_col=0)\n",
        "customers = pd.read_csv(\"https://github.com/thomas-bierhance-exxcellent/data-wrangling-praktikum/raw/master/customers.csv.xz\", index_col=0)\n",
        "locations = pd.read_csv(\"https://github.com/thomas-bierhance-exxcellent/data-wrangling-praktikum/raw/master/locations.csv.xz\", index_col=0)\n",
        "vendors = pd.read_csv(\"https://github.com/thomas-bierhance-exxcellent/data-wrangling-praktikum/raw/master/vendors.csv.xz\", index_col=0)"
      ],
      "execution_count": null,
      "outputs": [
        {
          "output_type": "stream",
          "text": [
            "/usr/local/lib/python3.6/dist-packages/IPython/core/interactiveshell.py:2718: DtypeWarning:\n",
            "\n",
            "Columns (8,9,11,12,13) have mixed types.Specify dtype option on import or set low_memory=False.\n",
            "\n"
          ],
          "name": "stderr"
        }
      ]
    },
    {
      "cell_type": "code",
      "metadata": {
        "id": "qDjLGFQD_xjn",
        "colab_type": "code",
        "colab": {}
      },
      "source": [
        "orders"
      ],
      "execution_count": null,
      "outputs": []
    },
    {
      "cell_type": "code",
      "metadata": {
        "id": "8ALTDeF1qVIR",
        "colab_type": "code",
        "colab": {}
      },
      "source": [
        "orders['delivery_date'].unique()"
      ],
      "execution_count": null,
      "outputs": []
    },
    {
      "cell_type": "code",
      "metadata": {
        "id": "floBwl2A_rRh",
        "colab_type": "code",
        "colab": {}
      },
      "source": [
        "customers"
      ],
      "execution_count": null,
      "outputs": []
    },
    {
      "cell_type": "code",
      "metadata": {
        "id": "D12nIyt1_yRg",
        "colab_type": "code",
        "colab": {}
      },
      "source": [
        "locations"
      ],
      "execution_count": null,
      "outputs": []
    },
    {
      "cell_type": "code",
      "metadata": {
        "id": "QhWSKbf4_yUa",
        "colab_type": "code",
        "colab": {}
      },
      "source": [
        "vendors"
      ],
      "execution_count": null,
      "outputs": []
    },
    {
      "cell_type": "code",
      "metadata": {
        "id": "12ZwpAzVfUia",
        "colab_type": "code",
        "colab": {}
      },
      "source": [
        "# TODO\n",
        "revenueDf = orders.loc[:,['vendor_id', 'grand_total']].dropna()\n",
        "revenueDf.groupby('vendor_id').sum()"
      ],
      "execution_count": null,
      "outputs": []
    },
    {
      "cell_type": "code",
      "metadata": {
        "id": "NC4zJ9gegG0D",
        "colab_type": "code",
        "colab": {}
      },
      "source": [
        "vendors.loc[:,['vendor_id','vendor_rating']].dropna()"
      ],
      "execution_count": null,
      "outputs": []
    },
    {
      "cell_type": "markdown",
      "metadata": {
        "id": "soYt-Qt3BaSk",
        "colab_type": "text"
      },
      "source": [
        "\n",
        "Wir werden im Folgenden Schritt für Schritt eine Dash-App bauen, die folgende Funktionalitäten enthält:\n",
        "\n",
        "*  Korrelation zwischen zwei Attributen, z.b. Restaurantbewertung und durchschnittliche Lieferzeit. Im weiteren Verlauf sollen die Attribute frei auswählbar sein.\n",
        "*  Anzeige einer Kundenliste. Die Kundeneinträge sollen selektierbar sein, woraufhin eine List mit den Bestellungen des jeweiligen Kunden angezeigt wird.\n",
        "*  Eine Liste mit den Restaurants, nach Umsatz sortiert. Wird ein Restaurant selektiert, wird dessen Umsatz als Graph in einem separaten Feld angezeigt.\n",
        "* Diverse Filterungsmöglichkeiten für die Listen.\n",
        "\n",
        "Zunächst erstellen wir einen einfachen Graphen auf Basis des ersten App-Beispiels oben. Als Einstieg untersuchen wir die Korrelation zwischen **vendor_rating** und und **delivery_time** aus der **orders**-Tabelle."
      ]
    },
    {
      "cell_type": "code",
      "metadata": {
        "id": "U_Yh3wRMLXEj",
        "colab_type": "code",
        "colab": {}
      },
      "source": [
        "# Relevante Spalten auswählen, Zeilen mit NaN-Werten entfernen\n",
        "corrDf = orders.loc[:,['vendor_rating', 'delivery_time']].dropna()\n",
        "# Die Spalte delivery_time enthält zusätzlich zu den Zeiten auch Datumseinträge. Diese interessieren uns momentan nicht,\n",
        "# daher entfernen wir sie\n",
        "corrDf['delivery_time'] = corrDf['delivery_time'].apply(lambda x: x.split(' ')[1])\n",
        "corrDf = corrDf.sort_values(by=['delivery_time'])\n",
        "corrDf = corrDf[(corrDf['vendor_rating'] > 0.0) & (corrDf['delivery_time'] != '00:00:00')]"
      ],
      "execution_count": null,
      "outputs": []
    },
    {
      "cell_type": "code",
      "metadata": {
        "id": "UeXcX4QFcO26",
        "colab_type": "code",
        "colab": {}
      },
      "source": [
        "# Relevante Spalten auswählen, Zeilen mit NaN-Werten entfernen\n",
        "corrDf = orders.loc[:,['driver_rating', 'delivery_time']].dropna()\n",
        "# Die Spalte delivery_time enthält zusätzlich zu den Zeiten auch Datumseinträge. Diese interessieren uns momentan nicht,\n",
        "# daher entfernen wir sie\n",
        "corrDf['delivery_time'] = corrDf['delivery_time'].apply(lambda x: x.split(' ')[1])\n",
        "corrDf = corrDf.sort_values(by=['delivery_time'])\n",
        "corrDf = corrDf[(corrDf['driver_rating'] > 0.0) & (corrDf['delivery_time'] != '00:00:00')]"
      ],
      "execution_count": null,
      "outputs": []
    },
    {
      "cell_type": "code",
      "metadata": {
        "id": "KCJhSTbVNBMF",
        "colab_type": "code",
        "colab": {
          "base_uri": "https://localhost:8080/",
          "height": 419
        },
        "outputId": "6fe0ca81-c730-4050-cc07-7fefb7f9a655"
      },
      "source": [
        "# Relevante Spalten auswählen, Zeilen mit NaN-Werten entfernen\n",
        "corrDf = orders.loc[:,['delivery_distance', 'delivery_time']].dropna()\n",
        "# Die Spalte delivery_time enthält zusätzlich zu den Zeiten auch Datumseinträge. Diese interessieren uns momentan nicht,\n",
        "# daher entfernen wir sie\n",
        "corrDf['delivery_time'] = corrDf['delivery_time'].apply(lambda x: x.split(' ')[1])\n",
        "corrDf = corrDf.sort_values(by=['delivery_time'])\n",
        "corrDf = corrDf[(corrDf['delivery_distance'] > 0.0) & (corrDf['delivery_time'] != '00:00:00')]\n",
        "corrDf"
      ],
      "execution_count": null,
      "outputs": [
        {
          "output_type": "execute_result",
          "data": {
            "text/html": [
              "<div>\n",
              "<style scoped>\n",
              "    .dataframe tbody tr th:only-of-type {\n",
              "        vertical-align: middle;\n",
              "    }\n",
              "\n",
              "    .dataframe tbody tr th {\n",
              "        vertical-align: top;\n",
              "    }\n",
              "\n",
              "    .dataframe thead th {\n",
              "        text-align: right;\n",
              "    }\n",
              "</style>\n",
              "<table border=\"1\" class=\"dataframe\">\n",
              "  <thead>\n",
              "    <tr style=\"text-align: right;\">\n",
              "      <th></th>\n",
              "      <th>delivery_distance</th>\n",
              "      <th>delivery_time</th>\n",
              "    </tr>\n",
              "  </thead>\n",
              "  <tbody>\n",
              "    <tr>\n",
              "      <th>55337</th>\n",
              "      <td>6.08</td>\n",
              "      <td>00:01:00</td>\n",
              "    </tr>\n",
              "    <tr>\n",
              "      <th>61495</th>\n",
              "      <td>14.51</td>\n",
              "      <td>00:02:00</td>\n",
              "    </tr>\n",
              "    <tr>\n",
              "      <th>58666</th>\n",
              "      <td>4.78</td>\n",
              "      <td>00:02:00</td>\n",
              "    </tr>\n",
              "    <tr>\n",
              "      <th>76044</th>\n",
              "      <td>9.43</td>\n",
              "      <td>00:04:00</td>\n",
              "    </tr>\n",
              "    <tr>\n",
              "      <th>67832</th>\n",
              "      <td>7.99</td>\n",
              "      <td>00:05:00</td>\n",
              "    </tr>\n",
              "    <tr>\n",
              "      <th>...</th>\n",
              "      <td>...</td>\n",
              "      <td>...</td>\n",
              "    </tr>\n",
              "    <tr>\n",
              "      <th>109182</th>\n",
              "      <td>2.85</td>\n",
              "      <td>23:59:00</td>\n",
              "    </tr>\n",
              "    <tr>\n",
              "      <th>121412</th>\n",
              "      <td>5.25</td>\n",
              "      <td>23:59:00</td>\n",
              "    </tr>\n",
              "    <tr>\n",
              "      <th>133940</th>\n",
              "      <td>9.19</td>\n",
              "      <td>23:59:00</td>\n",
              "    </tr>\n",
              "    <tr>\n",
              "      <th>129934</th>\n",
              "      <td>11.03</td>\n",
              "      <td>23:59:00</td>\n",
              "    </tr>\n",
              "    <tr>\n",
              "      <th>118580</th>\n",
              "      <td>5.84</td>\n",
              "      <td>23:59:00</td>\n",
              "    </tr>\n",
              "  </tbody>\n",
              "</table>\n",
              "<p>2734 rows × 2 columns</p>\n",
              "</div>"
            ],
            "text/plain": [
              "        delivery_distance delivery_time\n",
              "55337                6.08      00:01:00\n",
              "61495               14.51      00:02:00\n",
              "58666                4.78      00:02:00\n",
              "76044                9.43      00:04:00\n",
              "67832                7.99      00:05:00\n",
              "...                   ...           ...\n",
              "109182               2.85      23:59:00\n",
              "121412               5.25      23:59:00\n",
              "133940               9.19      23:59:00\n",
              "129934              11.03      23:59:00\n",
              "118580               5.84      23:59:00\n",
              "\n",
              "[2734 rows x 2 columns]"
            ]
          },
          "metadata": {
            "tags": []
          },
          "execution_count": 42
        }
      ]
    },
    {
      "cell_type": "code",
      "metadata": {
        "id": "02qK_rkkE4XR",
        "colab_type": "code",
        "colab": {
          "base_uri": "https://localhost:8080/",
          "height": 671
        },
        "outputId": "3e744998-6378-4df6-d618-0a77b67a1a40"
      },
      "source": [
        "app = JupyterDash(__name__)\n",
        "df = corrDf\n",
        "# Scatterplot erzeugen\n",
        "fig = px.scatter(df, x=\"delivery_time\", y=\"delivery_distance\")\n",
        "\n",
        "app.layout = html.Div(children=[\n",
        "    html.H1(children='Restaurant Recommendation App'),\n",
        "\n",
        "    html.Div(children='''\n",
        "        Ein einfacher Plot:\n",
        "    '''),\n",
        "\n",
        "    dcc.Graph(\n",
        "        id='example-graph',\n",
        "        figure=fig\n",
        "    )\n",
        "])\n",
        "\n",
        "app.run_server(mode='inline')"
      ],
      "execution_count": null,
      "outputs": [
        {
          "output_type": "display_data",
          "data": {
            "application/javascript": [
              "(async (port, path, width, height, cache, element) => {\n",
              "    if (!google.colab.kernel.accessAllowed && !cache) {\n",
              "      return;\n",
              "    }\n",
              "    element.appendChild(document.createTextNode(''));\n",
              "    const url = await google.colab.kernel.proxyPort(port, {cache});\n",
              "    const iframe = document.createElement('iframe');\n",
              "    iframe.src = url + path;\n",
              "    iframe.height = height;\n",
              "    iframe.width = width;\n",
              "    iframe.style.border = 0;\n",
              "    element.appendChild(iframe);\n",
              "  })(8050, \"/\", \"100%\", 650, false, window.element)"
            ],
            "text/plain": [
              "<IPython.core.display.Javascript object>"
            ]
          },
          "metadata": {
            "tags": []
          }
        }
      ]
    },
    {
      "cell_type": "code",
      "metadata": {
        "id": "GhByjfmWfkLd",
        "colab_type": "code",
        "colab": {
          "base_uri": "https://localhost:8080/",
          "height": 419
        },
        "outputId": "e6af851e-ba01-48c2-cd97-3b91215ac506"
      },
      "source": [
        "# Relevante Spalten auswählen, Zeilen mit NaN-Werten entfernen\n",
        "corrDf = orders.loc[:,['vendor_rating', 'driver_rating', 'delivery_time']].dropna()\n",
        "# Die Spalte delivery_time enthält zusätzlich zu den Zeiten auch Datumseinträge. Diese interessieren uns momentan nicht,\n",
        "# daher entfernen wir sie\n",
        "corrDf['delivery_time'] = corrDf['delivery_time'].apply(lambda x: x.split(' ')[1])\n",
        "corrDf = corrDf.sort_values(by=['delivery_time'])\n",
        "corrDf = corrDf[(corrDf['vendor_rating'] > 0.0) & (corrDf['driver_rating'] > 0.0) & (corrDf['delivery_time'] != '00:00:00')]\n",
        "corrDf"
      ],
      "execution_count": null,
      "outputs": [
        {
          "output_type": "execute_result",
          "data": {
            "text/html": [
              "<div>\n",
              "<style scoped>\n",
              "    .dataframe tbody tr th:only-of-type {\n",
              "        vertical-align: middle;\n",
              "    }\n",
              "\n",
              "    .dataframe tbody tr th {\n",
              "        vertical-align: top;\n",
              "    }\n",
              "\n",
              "    .dataframe thead th {\n",
              "        text-align: right;\n",
              "    }\n",
              "</style>\n",
              "<table border=\"1\" class=\"dataframe\">\n",
              "  <thead>\n",
              "    <tr style=\"text-align: right;\">\n",
              "      <th></th>\n",
              "      <th>vendor_rating</th>\n",
              "      <th>driver_rating</th>\n",
              "      <th>delivery_time</th>\n",
              "    </tr>\n",
              "  </thead>\n",
              "  <tbody>\n",
              "    <tr>\n",
              "      <th>67832</th>\n",
              "      <td>5.0</td>\n",
              "      <td>5.0</td>\n",
              "      <td>00:05:00</td>\n",
              "    </tr>\n",
              "    <tr>\n",
              "      <th>108308</th>\n",
              "      <td>5.0</td>\n",
              "      <td>5.0</td>\n",
              "      <td>00:05:00</td>\n",
              "    </tr>\n",
              "    <tr>\n",
              "      <th>74655</th>\n",
              "      <td>5.0</td>\n",
              "      <td>5.0</td>\n",
              "      <td>00:07:00</td>\n",
              "    </tr>\n",
              "    <tr>\n",
              "      <th>66576</th>\n",
              "      <td>3.0</td>\n",
              "      <td>5.0</td>\n",
              "      <td>00:10:00</td>\n",
              "    </tr>\n",
              "    <tr>\n",
              "      <th>91800</th>\n",
              "      <td>5.0</td>\n",
              "      <td>5.0</td>\n",
              "      <td>00:12:00</td>\n",
              "    </tr>\n",
              "    <tr>\n",
              "      <th>...</th>\n",
              "      <td>...</td>\n",
              "      <td>...</td>\n",
              "      <td>...</td>\n",
              "    </tr>\n",
              "    <tr>\n",
              "      <th>72670</th>\n",
              "      <td>4.0</td>\n",
              "      <td>4.0</td>\n",
              "      <td>23:52:00</td>\n",
              "    </tr>\n",
              "    <tr>\n",
              "      <th>109181</th>\n",
              "      <td>5.0</td>\n",
              "      <td>5.0</td>\n",
              "      <td>23:56:00</td>\n",
              "    </tr>\n",
              "    <tr>\n",
              "      <th>70790</th>\n",
              "      <td>5.0</td>\n",
              "      <td>5.0</td>\n",
              "      <td>23:57:00</td>\n",
              "    </tr>\n",
              "    <tr>\n",
              "      <th>105326</th>\n",
              "      <td>5.0</td>\n",
              "      <td>5.0</td>\n",
              "      <td>23:58:00</td>\n",
              "    </tr>\n",
              "    <tr>\n",
              "      <th>121412</th>\n",
              "      <td>5.0</td>\n",
              "      <td>5.0</td>\n",
              "      <td>23:59:00</td>\n",
              "    </tr>\n",
              "  </tbody>\n",
              "</table>\n",
              "<p>676 rows × 3 columns</p>\n",
              "</div>"
            ],
            "text/plain": [
              "        vendor_rating  driver_rating delivery_time\n",
              "67832             5.0            5.0      00:05:00\n",
              "108308            5.0            5.0      00:05:00\n",
              "74655             5.0            5.0      00:07:00\n",
              "66576             3.0            5.0      00:10:00\n",
              "91800             5.0            5.0      00:12:00\n",
              "...               ...            ...           ...\n",
              "72670             4.0            4.0      23:52:00\n",
              "109181            5.0            5.0      23:56:00\n",
              "70790             5.0            5.0      23:57:00\n",
              "105326            5.0            5.0      23:58:00\n",
              "121412            5.0            5.0      23:59:00\n",
              "\n",
              "[676 rows x 3 columns]"
            ]
          },
          "metadata": {
            "tags": []
          },
          "execution_count": 49
        }
      ]
    },
    {
      "cell_type": "code",
      "metadata": {
        "id": "j1xUxFpsgA-z",
        "colab_type": "code",
        "colab": {
          "base_uri": "https://localhost:8080/",
          "height": 671
        },
        "outputId": "3454d250-f36c-4074-8fd0-65c80c7f5daa"
      },
      "source": [
        "app = JupyterDash(__name__)\n",
        "df = corrDf\n",
        "# 3D Plot\n",
        "fig = px.scatter_3d(df, x=\"vendor_rating\", y=\"driver_rating\", z=\"delivery_time\")\n",
        "\n",
        "app.layout = html.Div(children=[\n",
        "    html.H1(children='Restaurant Recommendation App'),\n",
        "\n",
        "    html.Div(children='''\n",
        "        3D Plot:\n",
        "    '''),\n",
        "\n",
        "    dcc.Graph(\n",
        "        id='example-graph',\n",
        "        figure=fig\n",
        "    )\n",
        "])\n",
        "\n",
        "app.run_server(mode='inline')"
      ],
      "execution_count": null,
      "outputs": [
        {
          "output_type": "display_data",
          "data": {
            "application/javascript": [
              "(async (port, path, width, height, cache, element) => {\n",
              "    if (!google.colab.kernel.accessAllowed && !cache) {\n",
              "      return;\n",
              "    }\n",
              "    element.appendChild(document.createTextNode(''));\n",
              "    const url = await google.colab.kernel.proxyPort(port, {cache});\n",
              "    const iframe = document.createElement('iframe');\n",
              "    iframe.src = url + path;\n",
              "    iframe.height = height;\n",
              "    iframe.width = width;\n",
              "    iframe.style.border = 0;\n",
              "    element.appendChild(iframe);\n",
              "  })(8050, \"/\", \"100%\", 650, false, window.element)"
            ],
            "text/plain": [
              "<IPython.core.display.Javascript object>"
            ]
          },
          "metadata": {
            "tags": []
          }
        }
      ]
    }
  ]
}