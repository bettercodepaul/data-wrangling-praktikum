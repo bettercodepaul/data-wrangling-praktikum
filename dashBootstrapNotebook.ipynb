{
 "cells": [
  {
   "attachments": {},
   "cell_type": "markdown",
   "metadata": {
    "colab_type": "text",
    "id": "view-in-github"
   },
   "source": [
    "<a href=\"https://colab.research.google.com/github/bettercodepaul/data-wrangling-praktikum/blob/master/dashBootstrapNotebook.ipynb\" target=\"_parent\"><img src=\"https://colab.research.google.com/assets/colab-badge.svg\" alt=\"Open In Colab\"/></a>"
   ]
  },
  {
   "attachments": {},
   "cell_type": "markdown",
   "metadata": {
    "id": "BUPb5V_78Hse"
   },
   "source": [
    "# Dash Einführung\n",
    "Dash ist ein Framework zur Erstellung von Webapps für die Datenvisualisierung, entwickelt von Plotly. Dash zielt darauf ab, dass der User so weit wie möglich in Python arbeiten kann und eignet sich gut dafür, mit Pandas zusammen verwendet zu werden.\n",
    "\n",
    "In diesem Notebook werden die Grundlagen von Dash anhand von Beispielen vorgestellt. Die offizielle Dokumentation befindet sich hier: \n",
    "\n",
    "https://dash.plotly.com/\n",
    "\n",
    "*Anmerkung: Damit Dash in der Colab-Umgebung richtig funktioniert, sollten JavaScript und Cookies im Browser erlaubt sein.*"
   ]
  },
  {
   "cell_type": "markdown",
   "metadata": {},
   "source": [
    "## Installation + Vorbereitung"
   ]
  },
  {
   "cell_type": "code",
   "execution_count": null,
   "metadata": {},
   "outputs": [],
   "source": [
    "import urllib.request\n",
    "import os.path"
   ]
  },
  {
   "cell_type": "code",
   "execution_count": null,
   "metadata": {
    "id": "Mf9_yWAMFGsZ"
   },
   "outputs": [],
   "source": [
    "REQUIREMENTS_URL = \"https://github.com/bettercodepaul/data-wrangling-praktikum/raw/master/requirements.txt\"\n",
    "urllib.request.urlretrieve(REQUIREMENTS_URL, os.path.basename(REQUIREMENTS_URL))"
   ]
  },
  {
   "cell_type": "code",
   "execution_count": null,
   "metadata": {},
   "outputs": [],
   "source": [
    "# nicht vergessen, dass die Laufzeitumgebung ggf. neu gestartet werden muss\n",
    "!pip install -qr requirements.txt"
   ]
  },
  {
   "cell_type": "code",
   "execution_count": null,
   "metadata": {},
   "outputs": [],
   "source": [
    "# Daten herunterladen\n",
    "DATA_URL = \"https://github.com/bettercodepaul/data2day_2023_polars/raw/main/spotify-charts-2017-2021-global-top200.csv.gz\"\n",
    "LOCAL_DATA_FILE_NAME = os.path.basename(DATA_URL)\n",
    "#urllib.request.urlretrieve(DATA_URL, LOCAL_DATA_FILE_NAME)\n",
    "GENRES_DATA_URL = \"https://github.com/bettercodepaul/data2day_2023_polars/raw/main/track-genres.parquet\"\n",
    "LOCAL_GENRES_DATA_FILE_NAME = os.path.basename(GENRES_DATA_URL)\n",
    "#urllib.request.urlretrieve(GENRES_DATA_URL, LOCAL_GENRES_DATA_FILE_NAME)\n",
    "BIG_DATA_URL = \"https://github.com/bettercodepaul/data2day_2023_polars/releases/download/data-parquet/spotify-charts-2017-2021.parquet\"\n",
    "LOCAL_BIG_DATA_FILE_NAME = os.path.basename(BIG_DATA_URL)\n",
    "#urllib.request.urlretrieve(BIG_DATA_URL, LOCAL_BIG_DATA_FILE_NAME)"
   ]
  },
  {
   "cell_type": "code",
   "execution_count": null,
   "metadata": {},
   "outputs": [],
   "source": [
    "# Hilfsfunktionen herunterladen\n",
    "EXERCISES_URL = \"https://github.com/bettercodepaul/data-wrangling-praktikum/raw/master/utils_exercises.py\"\n",
    "urllib.request.urlretrieve(EXERCISES_URL, os.path.basename(EXERCISES_URL))"
   ]
  },
  {
   "cell_type": "code",
   "execution_count": null,
   "metadata": {},
   "outputs": [],
   "source": [
    "from utils_exercises import *"
   ]
  },
  {
   "cell_type": "code",
   "execution_count": null,
   "metadata": {},
   "outputs": [],
   "source": [
    "import polars as pl"
   ]
  },
  {
   "cell_type": "code",
   "execution_count": null,
   "metadata": {},
   "outputs": [],
   "source": [
    "# bis zu 60 Zeichen pro Spalte ausgeben und Fließkommazahlen nicht abkürzen\n",
    "pl.Config(fmt_str_lengths=60, fmt_float=\"full\")"
   ]
  },
  {
   "cell_type": "code",
   "execution_count": null,
   "metadata": {},
   "outputs": [],
   "source": [
    "df = df = (\n",
    "    pl.read_csv(LOCAL_DATA_FILE_NAME, try_parse_dates=True)\n",
    ")\n",
    "df.head(2) # die ersten 2 Zeilen ausgeben"
   ]
  },
  {
   "cell_type": "code",
   "execution_count": null,
   "metadata": {},
   "outputs": [],
   "source": [
    "region_df = (\n",
    "    pl.read_parquet(LOCAL_BIG_DATA_FILE_NAME)\n",
    "    .with_columns(pl.col(\"streams\").cast(pl.Int64))\n",
    "    .filter(pl.col(\"chart\").eq(\"top200\") & pl.col(\"region\").ne(\"Global\"))\n",
    ")\n",
    "# only keep top 25 regions\n",
    "region_df = (\n",
    "    region_df.join(\n",
    "        region_df.group_by(\"region\").agg(pl.sum(\"streams\")).top_k(25, by=\"streams\"),\n",
    "        on=\"region\", how=\"semi\"\n",
    "    )\n",
    ")\n",
    "region_df.head(2) # die ersten 2 Zeilen ausgeben"
   ]
  },
  {
   "cell_type": "code",
   "execution_count": null,
   "metadata": {
    "id": "sWHYXuXOcU5k"
   },
   "outputs": [],
   "source": [
    "from dash import dcc, html, Dash, _dash_renderer, Input, Output\n",
    "import plotly.express as px\n",
    "import dash_mantine_components as dmc\n",
    "# React-Version auf 18.2.0 setzen (wird von Dash Mantine Components benötigt)\n",
    "_dash_renderer._set_react_version(\"18.2.0\")"
   ]
  },
  {
   "attachments": {},
   "cell_type": "markdown",
   "metadata": {
    "id": "aFow9JVUy7g9"
   },
   "source": [
    "## Statische Apps"
   ]
  },
  {
   "attachments": {},
   "cell_type": "markdown",
   "metadata": {
    "id": "AoqvBlYn8Qmz"
   },
   "source": [
    "Mit Dash können sehr aufwändige Oberflächen mit komplexen Diagrammen, Auswahl- und Filterelementen (z.B. Dropdown-Menüs, Checkboxen, Slider, etc.) und Layouts erstellt werden.\n",
    "\n",
    "Normalerweise wird Dash als normales Pythonskript ausgeführt, der Zugriff auf die erzeugte Visualisierung erfolgt über den Browser. Innerhalb dieses Notebooks/der Colab-Umgebung greifen wir aber auf die Inline-Darstellung zurück.\n",
    "\n",
    "In der Praxis könntet ihr eine Dash-App sehr einfach in einen Container packen und zum Beispiel in einem Kubernetes-Cluster oder Cloud-Service laufen lassen.\n",
    "\n",
    "Für den Anfang erstmal eine minimale Dash-Anwendung:"
   ]
  },
  {
   "cell_type": "code",
   "execution_count": null,
   "metadata": {
    "id": "ytxx0akOi1BZ"
   },
   "outputs": [],
   "source": [
    "app = Dash(__name__)\n",
    "\n",
    "# Das Layout wird ähnlich wie in HTML festgelegt\n",
    "app.layout = html.Div(children=[\n",
    "    html.H1(children=\"Hallo\"),\n",
    "    html.Div(children=\"Das ist Deine erste Dash-App.\")\n",
    "])\n",
    "\n",
    "# Die Dash-App wird im Notebook selber angezeigt (jupyter_mode=\"inline\")\n",
    "app.run(jupyter_mode=\"inline\", jupyter_height=150)"
   ]
  },
  {
   "attachments": {},
   "cell_type": "markdown",
   "metadata": {
    "id": "W184w-viCgmT"
   },
   "source": [
    "Für das Layout verwenden wir in diesem Notebook **Dash Mantine Components** (https://www.dash-mantine-components.com). Dies ändert nichts an den Konzepten von Dash, macht den Layout-Code bei etwas komplexeren Beispielen aber deutlich übersichtlicher und bringt mehr fertige und konsistent gestylte UI-Komponenten mit."
   ]
  },
  {
   "cell_type": "code",
   "execution_count": null,
   "metadata": {
    "id": "4dy0LgFyCBRh"
   },
   "outputs": [],
   "source": [
    "app = Dash(external_stylesheets=dmc.styles.ALL)\n",
    "\n",
    "# Wir müssen alle Komponenten in einem MantineProvider einschließen\n",
    "app.layout = dmc.MantineProvider([\n",
    "     dmc.Title(\"Hallo\", order=1),\n",
    "     dmc.Text(\"Das ist Deine erste Dash-App mit Mantine.\")\n",
    "])\n",
    "\n",
    "# Die Dash-App wird im Notebook selber angezeigt (jupyter_mode=\"inline\")\n",
    "app.run(jupyter_mode=\"inline\", jupyter_height=150)"
   ]
  },
  {
   "attachments": {},
   "cell_type": "markdown",
   "metadata": {
    "id": "J9MZQZRm9M8y"
   },
   "source": [
    "Um Diagramme für unsere Daten erstellen zu können verwenden wir das `plotly.express` Modul, oben importiert als `px`. Es ermöglicht die Erstellung interaktiver Diagramme im Browser (das oft benutzte Matplotlib dagegen erzeugt nur statische Diagramme): https://plotly.com/python/plotly-express/"
   ]
  },
  {
   "cell_type": "code",
   "execution_count": null,
   "metadata": {},
   "outputs": [],
   "source": [
    "# Balkendiagramm erzeugen\n",
    "k = 10\n",
    "top_k_regions = (\n",
    "    region_df\n",
    "    .lazy()\n",
    "    .group_by(\"region\")\n",
    "    .agg(pl.col(\"streams\").sum())\n",
    "    .select(\n",
    "        \"region\",\n",
    "        pl.when(pl.col(\"streams\").rank(descending=True).lt(k))\n",
    "        .then(pl.col(\"region\"))\n",
    "        .otherwise(pl.lit(\"Others\"))\n",
    "        .alias(\"top_k_region\")\n",
    "    )\n",
    ")\n",
    "streams_per_month = (\n",
    "    region_df\n",
    "    .lazy()\n",
    "    .join(top_k_regions, on=\"region\")\n",
    "    .group_by(\n",
    "        \"top_k_region\",\n",
    "        pl.col(\"date\").dt.month_start()\n",
    "    )\n",
    "    .agg(pl.col(\"streams\").sum())\n",
    "    .collect()\n",
    ")\n",
    "streams_per_month.sample(3)"
   ]
  },
  {
   "cell_type": "code",
   "execution_count": null,
   "metadata": {},
   "outputs": [],
   "source": [
    "px.bar(streams_per_month, x=\"date\", y=\"streams\", color=\"top_k_region\", height=300)"
   ]
  },
  {
   "cell_type": "markdown",
   "metadata": {},
   "source": [
    "Mit einem `dcc.Graph` können wir das Diagramm auch in einer Dash-App anzeigen."
   ]
  },
  {
   "cell_type": "code",
   "execution_count": null,
   "metadata": {},
   "outputs": [],
   "source": [
    "app = Dash(external_stylesheets=dmc.styles.ALL)\n",
    "\n",
    "app.layout = dmc.MantineProvider([\n",
    "     dmc.Title(\"Dash-App mit Diagramm\", order=5),\n",
    "     # Diagramm wird mit dem Attribut figure übergeben\n",
    "     dcc.Graph(id=\"streams-chart\", figure=px.bar(streams_per_month, x=\"date\", y=\"streams\", color=\"top_k_region\", height=300))\n",
    "])\n",
    "\n",
    "app.run(jupyter_mode=\"inline\", jupyter_height=350)"
   ]
  },
  {
   "attachments": {},
   "cell_type": "markdown",
   "metadata": {
    "id": "MlshLO0xYBzA"
   },
   "source": [
    "### Übung\n",
    "\n",
    "Jetzt zu den Aufgaben für Dich:\n",
    "\n"
   ]
  },
  {
   "cell_type": "code",
   "execution_count": null,
   "metadata": {
    "id": "iX7-jL5921TM"
   },
   "outputs": [],
   "source": [
    "q1.question()"
   ]
  },
  {
   "cell_type": "code",
   "execution_count": null,
   "metadata": {},
   "outputs": [],
   "source": [
    "q1_df = ..."
   ]
  },
  {
   "cell_type": "code",
   "execution_count": null,
   "metadata": {},
   "outputs": [],
   "source": [
    "q1.check(q1_df)"
   ]
  },
  {
   "cell_type": "code",
   "execution_count": null,
   "metadata": {},
   "outputs": [],
   "source": [
    "q2.question()\n"
   ]
  },
  {
   "cell_type": "code",
   "execution_count": null,
   "metadata": {},
   "outputs": [],
   "source": [
    "q2_fig = ..."
   ]
  },
  {
   "cell_type": "code",
   "execution_count": null,
   "metadata": {},
   "outputs": [],
   "source": [
    "q2.check(q2_fig)"
   ]
  },
  {
   "attachments": {},
   "cell_type": "markdown",
   "metadata": {
    "id": "UJjLNhQ5Ab9C"
   },
   "source": [
    "## Interaktive Apps mit Callbacks\n",
    "Ein höherer Grad an Interaktion wird in Dash über Callbacks erreicht. Mit Callbacks kann auf Userinputs reagiert werden, um zum Beispiel bei der Auswahl in einer Dropdown-Komponente eine andere UI-Komponenten wie ein Diagramme anzupassen. Auch hierzu wieder ein Minimalbeispiel:"
   ]
  },
  {
   "cell_type": "code",
   "execution_count": null,
   "metadata": {
    "id": "EbHyBfgLBFvV"
   },
   "outputs": [],
   "source": [
    "app = Dash(external_stylesheets=dmc.styles.ALL)\n",
    "\n",
    "# Für Callbacks sind die ids der Komponenten wichtig\n",
    "app.layout = dmc.MantineProvider([\n",
    "     dmc.TextInput(id=\"my-input\", value=None, label=\"Deine Eingabe\", placeholder=\"Hier beliebigen Text eingeben...\"),\n",
    "     dmc.TextInput(id=\"my-output\", value=None, label=\"Meine Ausgabe\", disabled=True)\n",
    "])\n",
    "\n",
    "\n",
    "# Der Callback wird vom Client aufgerufen, sobald sich eine Property des Inputs ändert\n",
    "# Die Rückgabe des Callbacks wird vom Client in die Property des Outputs geschrieben\n",
    "@app.callback(\n",
    "    Output(component_id=\"my-output\", component_property=\"value\"),\n",
    "    Input(component_id=\"my-input\", component_property=\"value\")\n",
    ")\n",
    "def update_output_div(input_value):\n",
    "    output_value = input_value\n",
    "    return output_value\n",
    "\n",
    "app.run(jupyter_mode=\"inline\", jupyter_height=150)"
   ]
  },
  {
   "attachments": {},
   "cell_type": "markdown",
   "metadata": {
    "id": "oHSZWEfVhNaT"
   },
   "source": [
    "Callbacks werden in Dash mit `@app.callback` und den Output- und Inputparametern annotiert. Die Annotation verknüpft die Callbackfunktion über ID- und Property-Werte mit den entsprechenden Elementen, die im Layout spezifiziert sind. Alle Callbacks werden beim Start der Anwendung einmal ausgeführt, um Elemente initial einzurichten.\n",
    "\n",
    "<pre>\n",
    "# Für Callbacks sind die ids der Komponenten wichtig\n",
    "app.layout = dmc.MantineProvider([\n",
    "     dmc.TextInput(id=<span style=\"color:#4169E1\">\"my-input\"</span>, <span style=\"color:#4169E1\">value</span>=<span style=\"color:white; background-color:#4169E1\">None</span>, label=\"Deine Eingabe\", placeholder=\"Hier beliebigen Text eingeben...\"),\n",
    "     dmc.TextInput(id=<span style=\"color:#C04000\">\"my-output\"</span>, <span style=\"color:#C04000\">value</span>=<span style=\"color:white; background-color:#C04000\">None</span>, label=\"Meine Ausgabe\", disabled=True)\n",
    "])\n",
    "\n",
    "\n",
    "# Der Callback wird vom Client aufgerufen, sobald sich eine Property des Inputs ändert\n",
    "# Die Rückgabe des Callbacks wird vom Client in die Property des Outputs geschrieben\n",
    "@app.callback(\n",
    "    Output(component_id=<span style=\"color:#C04000\">\"my-output\"</span>, component_property=<span style=\"color:#C04000\">\"value\"</span>),\n",
    "    Input(component_id=<span style=\"color:#4169E1\">\"my-input\"</span>, component_property=<span style=\"color:#4169E1\">\"value\"</span>)\n",
    ")\n",
    "def update_output_div(<span style=\"color:white; background-color:#4169E1\">input_value</span>):\n",
    "    output_value = input_value\n",
    "    return <span style=\"color:white; background-color:#C04000\">output_value</span>\n",
    "</pre>"
   ]
  },
  {
   "attachments": {},
   "cell_type": "markdown",
   "metadata": {
    "id": "Gjr9n0MVNhZG"
   },
   "source": [
    "Über Properties werden die Attribute der Layout-Elemente spezifiziert, die für die Callback-Funktion relevant sind. Im Output können auch mehrere Attribute gleichzeitig verändert werden, ein Beispiel hierzu kommt am Ende des Notebooks.\n",
    "\n",
    "Mithilfe von Callbacks bauen wir nun eine einfache Filtermöglichkeit ein:"
   ]
  },
  {
   "cell_type": "code",
   "execution_count": null,
   "metadata": {
    "id": "hODE5A2aAt_J"
   },
   "outputs": [],
   "source": [
    "all_artists = region_df.get_column(\"artist\").unique().to_list()\n",
    "\n",
    "app = Dash(external_stylesheets=dmc.styles.ALL)\n",
    "\n",
    "def get_streams_per_month_figure(selected_artist):\n",
    "    if selected_artist is not None:\n",
    "        filter_expr = pl.col(\"artist\").str.contains(selected_artist)\n",
    "    else:\n",
    "        filter_expr = pl.lit(True)\n",
    "    k = 10\n",
    "    top_k_regions = (\n",
    "        region_df\n",
    "        .lazy()\n",
    "        .filter(filter_expr)\n",
    "        .group_by(\"region\")\n",
    "        .agg(pl.col(\"streams\").sum())\n",
    "        .select(\n",
    "            \"region\",\n",
    "            pl.when(pl.col(\"streams\").rank(descending=True).lt(k))\n",
    "            .then(pl.col(\"region\"))\n",
    "            .otherwise(pl.lit(\"Others\"))\n",
    "            .alias(\"top_k_region\")\n",
    "        )\n",
    "    )\n",
    "    streams_per_month = (\n",
    "        region_df\n",
    "        .lazy()\n",
    "        .filter(filter_expr)\n",
    "        .join(top_k_regions, on=\"region\")\n",
    "        .group_by(\n",
    "            \"top_k_region\",\n",
    "            pl.col(\"date\").dt.month_start()\n",
    "        )\n",
    "        .agg(pl.col(\"streams\").sum())\n",
    "        .collect()\n",
    "    )\n",
    "    return px.bar(streams_per_month, x=\"date\", y=\"streams\", color=\"top_k_region\", height=300, title=f\"Monthly Streams for {selected_artist}\")\n",
    "\n",
    "app.layout = dmc.MantineProvider([\n",
    "    dmc.Autocomplete(id=\"artist-select\", label=\"Artist\", placeholder=\"Select one\", data=all_artists, w=\"400\", mb=10),\n",
    "    dcc.Graph(id=\"streams-chart\", figure=get_streams_per_month_figure(None))\n",
    "])\n",
    "\n",
    "@app.callback(\n",
    "    Output(component_id=\"streams-chart\", component_property=\"figure\"),\n",
    "    Input(component_id=\"artist-select\", component_property=\"value\")\n",
    ")\n",
    "def update_streams_per_month(selected_artist):\n",
    "    return get_streams_per_month_figure(selected_artist)\n",
    "\n",
    "app.run(jupyter_mode=\"inline\", jupyter_height=400)"
   ]
  },
  {
   "attachments": {},
   "cell_type": "markdown",
   "metadata": {
    "id": "JY2PTUcn3lrd"
   },
   "source": [
    "### Mehrere Inputs\n",
    "\n",
    "Nur nach dem Künstler zu filtern reicht vielleicht nicht, deshalb wollen wir zusätzlich nach Region filtern können und auch die Anzahl der angezeigten Top-Regionen bestimmen können."
   ]
  },
  {
   "cell_type": "code",
   "execution_count": null,
   "metadata": {},
   "outputs": [],
   "source": [
    "# Zuerst eine Hilfs-Funktion die die Streams pro Monat gefiltert nach Künstler und Region zurückgibt\n",
    "def get_streams_per_month_figure(selected_artist, regions, top_k=10):\n",
    "    if selected_artist is not None:\n",
    "        filter_expr = pl.col(\"artist\").str.contains(selected_artist)\n",
    "    else:\n",
    "        filter_expr = pl.lit(True)\n",
    "    if regions is not None and len(regions) > 0:\n",
    "        filter_expr &= pl.col(\"region\").is_in(regions)\n",
    "    top_k_regions = (\n",
    "        region_df\n",
    "        .lazy()\n",
    "        .filter(filter_expr)\n",
    "        .group_by(\"region\")\n",
    "        .agg(pl.col(\"streams\").sum())\n",
    "        .select(\n",
    "            \"region\",\n",
    "            pl.when(pl.col(\"streams\").rank(descending=True).lt(top_k))\n",
    "            .then(pl.col(\"region\"))\n",
    "            .otherwise(pl.lit(\"Others\"))\n",
    "            .alias(\"top_k_region\")\n",
    "        )\n",
    "    )\n",
    "    streams_per_month = (\n",
    "        region_df\n",
    "        .lazy()\n",
    "        .filter(filter_expr)\n",
    "        .join(top_k_regions, on=\"region\")\n",
    "        .group_by(\n",
    "            \"top_k_region\",\n",
    "            pl.col(\"date\").dt.month_start()\n",
    "        )\n",
    "        .agg(pl.col(\"streams\").sum())\n",
    "        .collect()\n",
    "    )\n",
    "    return px.bar(streams_per_month, x=\"date\", y=\"streams\", color=\"top_k_region\", height=300, title=f\"Monthly Streams for {selected_artist}\")"
   ]
  },
  {
   "cell_type": "markdown",
   "metadata": {},
   "source": [
    "Implementierung in der Dash-App mit zusätzlichen Input-Komponenten."
   ]
  },
  {
   "cell_type": "code",
   "execution_count": null,
   "metadata": {
    "id": "V_ZmcoOP4jwL"
   },
   "outputs": [],
   "source": [
    "all_artists = region_df.get_column(\"artist\").unique().to_list()\n",
    "\n",
    "app = Dash(external_stylesheets=dmc.styles.ALL)\n",
    "\n",
    "app.layout = dmc.MantineProvider([\n",
    "    dmc.Group([\n",
    "        dmc.Autocomplete(id=\"artist-select\", label=\"Artist\", placeholder=\"Select one\", data=all_artists),\n",
    "        dmc.NumberInput(id=\"top-k-input\", label=\"Show top k regions\", value=10),\n",
    "        dmc.MultiSelect(id=\"region-select\", label=\"Regions\", data=region_df.get_column(\"region\").unique().to_list(), searchable=True, debounce=True),\n",
    "    ], grow=True, w=\"100%\"),\n",
    "    dcc.Graph(id=\"streams-chart\", figure=get_streams_per_month_figure(None, None))\n",
    "])\n",
    "\n",
    "@app.callback(\n",
    "    Output(component_id=\"streams-chart\", component_property=\"figure\"),\n",
    "    Input(component_id=\"artist-select\", component_property=\"value\"),\n",
    "    Input(component_id=\"region-select\", component_property=\"value\")\n",
    ")\n",
    "def update_streams_per_month(selected_artist, regions):\n",
    "    return get_streams_per_month_figure(selected_artist, regions)\n",
    "\n",
    "app.run(jupyter_mode=\"inline\", jupyter_height=400)"
   ]
  },
  {
   "attachments": {},
   "cell_type": "markdown",
   "metadata": {
    "id": "xP8_eppteqmu"
   },
   "source": [
    "### Übung"
   ]
  },
  {
   "cell_type": "code",
   "execution_count": null,
   "metadata": {
    "id": "9G6Wx9oIf4LC"
   },
   "outputs": [],
   "source": [
    "q3.question()"
   ]
  },
  {
   "cell_type": "code",
   "execution_count": null,
   "metadata": {},
   "outputs": [],
   "source": [
    "# Platz für deine Lösung"
   ]
  },
  {
   "cell_type": "code",
   "execution_count": null,
   "metadata": {},
   "outputs": [],
   "source": [
    "#q3.hint()"
   ]
  },
  {
   "attachments": {},
   "cell_type": "markdown",
   "metadata": {
    "id": "yk96h_O3D8Jp"
   },
   "source": [
    "## IFrame\n",
    "\n",
    "Damit wir die Lieder auch anhören können, bauen wir einen IFrame mit dem Spotify Player ein."
   ]
  },
  {
   "cell_type": "code",
   "execution_count": null,
   "metadata": {},
   "outputs": [],
   "source": [
    "def get_top_song_player_url(selected_artist, regions):\n",
    "    if selected_artist is not None:\n",
    "        filter_expr = pl.col(\"artist\").str.contains(selected_artist)\n",
    "    else:\n",
    "        filter_expr = pl.lit(True)\n",
    "    if regions is not None and len(regions) > 0:\n",
    "        filter_expr &= pl.col(\"region\").is_in(regions)\n",
    "    top_song = (\n",
    "        region_df\n",
    "        .lazy()\n",
    "        .filter(filter_expr)\n",
    "        .group_by(\n",
    "            \"url\",\n",
    "        )\n",
    "        .agg(pl.col(\"streams\").sum())\n",
    "        .top_k(1, by=\"streams\")\n",
    "        .collect()\n",
    "    )\n",
    "    return play_song(top_song)"
   ]
  },
  {
   "cell_type": "code",
   "execution_count": null,
   "metadata": {},
   "outputs": [],
   "source": [
    "all_artists = region_df.get_column(\"artist\").unique().to_list()\n",
    "\n",
    "app = Dash(external_stylesheets=dmc.styles.ALL)\n",
    "\n",
    "app.layout = dmc.MantineProvider([\n",
    "    dmc.Group([\n",
    "        dmc.Autocomplete(id=\"artist-select\", label=\"Artist\", placeholder=\"Select one\", data=all_artists),\n",
    "        dmc.NumberInput(id=\"top-k-input\", label=\"Show top k regions\", value=10),\n",
    "        dmc.MultiSelect(id=\"region-select\", label=\"Regions\", data=region_df.get_column(\"region\").unique().to_list(), searchable=True, debounce=True),\n",
    "    ], grow=True, w=\"100%\"),\n",
    "    dcc.Graph(id=\"streams-chart\", figure=get_streams_per_month_figure(None, None)),\n",
    "    dmc.Title(\"Most streamed title\", order=4, mb=10),\n",
    "    html.Iframe(id=\"player-iframe\", src=None, width=\"100%\", height=\"80\", style={\"border\": \"none\"})\n",
    "])\n",
    "\n",
    "@app.callback(\n",
    "    Output(component_id=\"streams-chart\", component_property=\"figure\"),\n",
    "    Output(component_id=\"player-iframe\", component_property=\"src\"),\n",
    "    Input(component_id=\"artist-select\", component_property=\"value\"),\n",
    "    Input(component_id=\"region-select\", component_property=\"value\")\n",
    ")\n",
    "def update_streams_per_month(selected_artist, regions):\n",
    "    spotify_url = get_top_song_player_url(selected_artist, regions).src\n",
    "    return (get_streams_per_month_figure(selected_artist, regions), spotify_url)\n",
    "\n",
    "app.run(jupyter_mode=\"inline\", jupyter_height=600)"
   ]
  },
  {
   "attachments": {},
   "cell_type": "markdown",
   "metadata": {
    "id": "lFGxUzAHv443"
   },
   "source": [
    "## Weiterführende Ressourcen\n",
    "\n",
    "*  Dash Gallery (Umfangreiche Beispielsammlung für Dash-Apps, inkl. Source-Code): https://dash-gallery.plotly.host/Portal/\n",
    "\n",
    "* lokale Python-Umgebung: Anaconda (https://www.anaconda.com/products/individual#Downloads)\n",
    "* lokale Python-IDE: VSCode (https://code.visualstudio.com/)\n",
    "* Zugriff auf Datenbanken: SQLAlchemy (conda install sqlalchemy), (https://www.sqlalchemy.org/)\n"
   ]
  }
 ],
 "metadata": {
  "colab": {
   "collapsed_sections": [],
   "include_colab_link": true,
   "name": "dashBootstrapNotebook.ipynb",
   "provenance": [],
   "toc_visible": true
  },
  "kernelspec": {
   "display_name": ".venv",
   "language": "python",
   "name": "python3"
  },
  "language_info": {
   "codemirror_mode": {
    "name": "ipython",
    "version": 3
   },
   "file_extension": ".py",
   "mimetype": "text/x-python",
   "name": "python",
   "nbconvert_exporter": "python",
   "pygments_lexer": "ipython3",
   "version": "3.10.13"
  }
 },
 "nbformat": 4,
 "nbformat_minor": 0
}
