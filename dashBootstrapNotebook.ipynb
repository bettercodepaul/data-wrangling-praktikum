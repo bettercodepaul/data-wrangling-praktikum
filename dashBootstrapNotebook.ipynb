{
  "nbformat": 4,
  "nbformat_minor": 0,
  "metadata": {
    "colab": {
      "name": "dashBootstrapNotebook.ipynb",
      "provenance": [],
      "collapsed_sections": [],
      "toc_visible": true
    },
    "kernelspec": {
      "name": "python3",
      "display_name": "Python 3"
    }
  },
  "cells": [
    {
      "cell_type": "markdown",
      "metadata": {
        "id": "BUPb5V_78Hse",
        "colab_type": "text"
      },
      "source": [
        "# Dash Einführung\n",
        "Dash ist ein Framework zur Erstellung von Webapps für die Datenvisualisierung, entwickelt von Plotly. Dash zielt darauf ab, dass der User so weit wie möglich in Python arbeiten kann und eignet sich gut dafür, mit Pandas zusammen verwendet zu werden.\n",
        "\n",
        "In diesem Notebook werden die Grundlagen von Dash anhand von Beispielen vorgestellt. Die offizielle Dokumentation befindet sich hier: \n",
        "\n",
        "https://dash.plotly.com/\n",
        "\n",
        "Normalerweise wird Dash als normaler Pythonskript ausgeführt, der Zugriff auf die erzeugte Visualisierung erfolgt über den Browser. Innerhalb dieses Notebooks/der Colab-Umgebung greifen wir daher auf JupyterDash zurück, das ebenfalls von Plotly entwickelt wurde:\n",
        "\n",
        "(https://medium.com/plotly/introducing-jupyterdash-811f1f57c02e)\n",
        "\n",
        "*Anmerkung: Damit Dash in der Colab-Umgebung richtig funktioniert, sollten JavaScript und Cookies im Browser erlaubt sein.*"
      ]
    },
    {
      "cell_type": "code",
      "metadata": {
        "id": "Mf9_yWAMFGsZ",
        "colab_type": "code",
        "colab": {
          "base_uri": "https://localhost:8080/",
          "height": 1000
        },
        "outputId": "4e822d98-b087-4170-e928-2c45602f31e6"
      },
      "source": [
        "!pip install jupyter-dash\n",
        "!pip install dash-bootstrap-components\n",
        "\n",
        "import dash\n",
        "import dash_bootstrap_components as dbc\n",
        "import dash_core_components as dcc\n",
        "import dash_html_components as html\n",
        "import dash_table\n",
        "import plotly.express as px\n",
        "from dash.dependencies import Input, Output\n",
        "from jupyter_dash import JupyterDash\n",
        "import numpy as np\n",
        "import pandas as pd\n",
        "\n",
        "iris = pd.read_csv(\"https://raw.githubusercontent.com/thomas-bierhance-exxcellent/data-wrangling-praktikum/master/iris.csv\")"
      ],
      "execution_count": null,
      "outputs": [
        {
          "output_type": "stream",
          "text": [
            "Requirement already satisfied: jupyter-dash in /usr/local/lib/python3.6/dist-packages (0.3.1)\n",
            "Requirement already satisfied: ansi2html in /usr/local/lib/python3.6/dist-packages (from jupyter-dash) (1.5.2)\n",
            "Requirement already satisfied: retrying in /usr/local/lib/python3.6/dist-packages (from jupyter-dash) (1.3.3)\n",
            "Requirement already satisfied: flask in /usr/local/lib/python3.6/dist-packages (from jupyter-dash) (1.1.2)\n",
            "Requirement already satisfied: requests in /usr/local/lib/python3.6/dist-packages (from jupyter-dash) (2.23.0)\n",
            "Requirement already satisfied: ipython in /usr/local/lib/python3.6/dist-packages (from jupyter-dash) (5.5.0)\n",
            "Requirement already satisfied: dash in /usr/local/lib/python3.6/dist-packages (from jupyter-dash) (1.16.1)\n",
            "Requirement already satisfied: ipykernel in /usr/local/lib/python3.6/dist-packages (from jupyter-dash) (4.10.1)\n",
            "Requirement already satisfied: six in /usr/local/lib/python3.6/dist-packages (from ansi2html->jupyter-dash) (1.15.0)\n",
            "Requirement already satisfied: itsdangerous>=0.24 in /usr/local/lib/python3.6/dist-packages (from flask->jupyter-dash) (1.1.0)\n",
            "Requirement already satisfied: Jinja2>=2.10.1 in /usr/local/lib/python3.6/dist-packages (from flask->jupyter-dash) (2.11.2)\n",
            "Requirement already satisfied: Werkzeug>=0.15 in /usr/local/lib/python3.6/dist-packages (from flask->jupyter-dash) (1.0.1)\n",
            "Requirement already satisfied: click>=5.1 in /usr/local/lib/python3.6/dist-packages (from flask->jupyter-dash) (7.1.2)\n",
            "Requirement already satisfied: certifi>=2017.4.17 in /usr/local/lib/python3.6/dist-packages (from requests->jupyter-dash) (2020.6.20)\n",
            "Requirement already satisfied: urllib3!=1.25.0,!=1.25.1,<1.26,>=1.21.1 in /usr/local/lib/python3.6/dist-packages (from requests->jupyter-dash) (1.24.3)\n",
            "Requirement already satisfied: chardet<4,>=3.0.2 in /usr/local/lib/python3.6/dist-packages (from requests->jupyter-dash) (3.0.4)\n",
            "Requirement already satisfied: idna<3,>=2.5 in /usr/local/lib/python3.6/dist-packages (from requests->jupyter-dash) (2.10)\n",
            "Requirement already satisfied: setuptools>=18.5 in /usr/local/lib/python3.6/dist-packages (from ipython->jupyter-dash) (50.3.0)\n",
            "Requirement already satisfied: pexpect; sys_platform != \"win32\" in /usr/local/lib/python3.6/dist-packages (from ipython->jupyter-dash) (4.8.0)\n",
            "Requirement already satisfied: simplegeneric>0.8 in /usr/local/lib/python3.6/dist-packages (from ipython->jupyter-dash) (0.8.1)\n",
            "Requirement already satisfied: pickleshare in /usr/local/lib/python3.6/dist-packages (from ipython->jupyter-dash) (0.7.5)\n",
            "Requirement already satisfied: decorator in /usr/local/lib/python3.6/dist-packages (from ipython->jupyter-dash) (4.4.2)\n",
            "Requirement already satisfied: prompt-toolkit<2.0.0,>=1.0.4 in /usr/local/lib/python3.6/dist-packages (from ipython->jupyter-dash) (1.0.18)\n",
            "Requirement already satisfied: pygments in /usr/local/lib/python3.6/dist-packages (from ipython->jupyter-dash) (2.6.1)\n",
            "Requirement already satisfied: traitlets>=4.2 in /usr/local/lib/python3.6/dist-packages (from ipython->jupyter-dash) (4.3.3)\n",
            "Requirement already satisfied: future in /usr/local/lib/python3.6/dist-packages (from dash->jupyter-dash) (0.16.0)\n",
            "Requirement already satisfied: dash-core-components==1.12.1 in /usr/local/lib/python3.6/dist-packages (from dash->jupyter-dash) (1.12.1)\n",
            "Requirement already satisfied: dash-table==4.10.1 in /usr/local/lib/python3.6/dist-packages (from dash->jupyter-dash) (4.10.1)\n",
            "Requirement already satisfied: flask-compress in /usr/local/lib/python3.6/dist-packages (from dash->jupyter-dash) (1.5.0)\n",
            "Requirement already satisfied: plotly in /usr/local/lib/python3.6/dist-packages (from dash->jupyter-dash) (4.4.1)\n",
            "Requirement already satisfied: dash-renderer==1.8.1 in /usr/local/lib/python3.6/dist-packages (from dash->jupyter-dash) (1.8.1)\n",
            "Requirement already satisfied: dash-html-components==1.1.1 in /usr/local/lib/python3.6/dist-packages (from dash->jupyter-dash) (1.1.1)\n",
            "Requirement already satisfied: tornado>=4.0 in /usr/local/lib/python3.6/dist-packages (from ipykernel->jupyter-dash) (5.1.1)\n",
            "Requirement already satisfied: jupyter-client in /usr/local/lib/python3.6/dist-packages (from ipykernel->jupyter-dash) (5.3.5)\n",
            "Requirement already satisfied: MarkupSafe>=0.23 in /usr/local/lib/python3.6/dist-packages (from Jinja2>=2.10.1->flask->jupyter-dash) (1.1.1)\n",
            "Requirement already satisfied: ptyprocess>=0.5 in /usr/local/lib/python3.6/dist-packages (from pexpect; sys_platform != \"win32\"->ipython->jupyter-dash) (0.6.0)\n",
            "Requirement already satisfied: wcwidth in /usr/local/lib/python3.6/dist-packages (from prompt-toolkit<2.0.0,>=1.0.4->ipython->jupyter-dash) (0.2.5)\n",
            "Requirement already satisfied: ipython-genutils in /usr/local/lib/python3.6/dist-packages (from traitlets>=4.2->ipython->jupyter-dash) (0.2.0)\n",
            "Requirement already satisfied: brotli in /usr/local/lib/python3.6/dist-packages (from flask-compress->dash->jupyter-dash) (1.0.9)\n",
            "Requirement already satisfied: jupyter-core>=4.6.0 in /usr/local/lib/python3.6/dist-packages (from jupyter-client->ipykernel->jupyter-dash) (4.6.3)\n",
            "Requirement already satisfied: pyzmq>=13 in /usr/local/lib/python3.6/dist-packages (from jupyter-client->ipykernel->jupyter-dash) (19.0.2)\n",
            "Requirement already satisfied: python-dateutil>=2.1 in /usr/local/lib/python3.6/dist-packages (from jupyter-client->ipykernel->jupyter-dash) (2.8.1)\n",
            "Requirement already satisfied: dash-bootstrap-components in /usr/local/lib/python3.6/dist-packages (0.10.6)\n",
            "Requirement already satisfied: dash>=1.9.0 in /usr/local/lib/python3.6/dist-packages (from dash-bootstrap-components) (1.16.1)\n",
            "Requirement already satisfied: flask-compress in /usr/local/lib/python3.6/dist-packages (from dash>=1.9.0->dash-bootstrap-components) (1.5.0)\n",
            "Requirement already satisfied: future in /usr/local/lib/python3.6/dist-packages (from dash>=1.9.0->dash-bootstrap-components) (0.16.0)\n",
            "Requirement already satisfied: dash-core-components==1.12.1 in /usr/local/lib/python3.6/dist-packages (from dash>=1.9.0->dash-bootstrap-components) (1.12.1)\n",
            "Requirement already satisfied: dash-renderer==1.8.1 in /usr/local/lib/python3.6/dist-packages (from dash>=1.9.0->dash-bootstrap-components) (1.8.1)\n",
            "Requirement already satisfied: plotly in /usr/local/lib/python3.6/dist-packages (from dash>=1.9.0->dash-bootstrap-components) (4.4.1)\n",
            "Requirement already satisfied: dash-table==4.10.1 in /usr/local/lib/python3.6/dist-packages (from dash>=1.9.0->dash-bootstrap-components) (4.10.1)\n",
            "Requirement already satisfied: Flask>=1.0.2 in /usr/local/lib/python3.6/dist-packages (from dash>=1.9.0->dash-bootstrap-components) (1.1.2)\n",
            "Requirement already satisfied: dash-html-components==1.1.1 in /usr/local/lib/python3.6/dist-packages (from dash>=1.9.0->dash-bootstrap-components) (1.1.1)\n",
            "Requirement already satisfied: brotli in /usr/local/lib/python3.6/dist-packages (from flask-compress->dash>=1.9.0->dash-bootstrap-components) (1.0.9)\n",
            "Requirement already satisfied: six in /usr/local/lib/python3.6/dist-packages (from plotly->dash>=1.9.0->dash-bootstrap-components) (1.15.0)\n",
            "Requirement already satisfied: retrying>=1.3.3 in /usr/local/lib/python3.6/dist-packages (from plotly->dash>=1.9.0->dash-bootstrap-components) (1.3.3)\n",
            "Requirement already satisfied: itsdangerous>=0.24 in /usr/local/lib/python3.6/dist-packages (from Flask>=1.0.2->dash>=1.9.0->dash-bootstrap-components) (1.1.0)\n",
            "Requirement already satisfied: click>=5.1 in /usr/local/lib/python3.6/dist-packages (from Flask>=1.0.2->dash>=1.9.0->dash-bootstrap-components) (7.1.2)\n",
            "Requirement already satisfied: Jinja2>=2.10.1 in /usr/local/lib/python3.6/dist-packages (from Flask>=1.0.2->dash>=1.9.0->dash-bootstrap-components) (2.11.2)\n",
            "Requirement already satisfied: Werkzeug>=0.15 in /usr/local/lib/python3.6/dist-packages (from Flask>=1.0.2->dash>=1.9.0->dash-bootstrap-components) (1.0.1)\n",
            "Requirement already satisfied: MarkupSafe>=0.23 in /usr/local/lib/python3.6/dist-packages (from Jinja2>=2.10.1->Flask>=1.0.2->dash>=1.9.0->dash-bootstrap-components) (1.1.1)\n"
          ],
          "name": "stdout"
        }
      ]
    },
    {
      "cell_type": "markdown",
      "metadata": {
        "id": "aFow9JVUy7g9",
        "colab_type": "text"
      },
      "source": [
        "## Plots und Layout"
      ]
    },
    {
      "cell_type": "markdown",
      "metadata": {
        "id": "AoqvBlYn8Qmz",
        "colab_type": "text"
      },
      "source": [
        "Mit Dash können sehr aufwändige Oberflächen mit komplexen Graphen, Auswahl- und Filterelementen (z.B. Dropdown-Menüs, Checkboxen, Slider, etc.) und Layouts erstellt werden.\n",
        "\n",
        "Für den Anfang erstmal eine minimale Dash-App:"
      ]
    },
    {
      "cell_type": "code",
      "metadata": {
        "id": "ytxx0akOi1BZ",
        "colab_type": "code",
        "colab": {
          "base_uri": "https://localhost:8080/",
          "height": 671
        },
        "outputId": "bbbb5aa9-d63f-4663-b124-9154f8f78cef"
      },
      "source": [
        "app = JupyterDash(__name__)\n",
        "\n",
        "# Das Layout wird ähnlich wie in HTML festgelegt\n",
        "app.layout = html.Div(children=[\n",
        "    html.H1(children='Hallo'),\n",
        "    html.Div(children=\"Hier könnte Ihre Dash App stehen.\")\n",
        "])\n",
        "\n",
        "# Die JupyterDash-App wird im Notebook selber angezeigt\n",
        "app.run_server(mode='inline')"
      ],
      "execution_count": null,
      "outputs": [
        {
          "output_type": "display_data",
          "data": {
            "application/javascript": [
              "(async (port, path, width, height, cache, element) => {\n",
              "    if (!google.colab.kernel.accessAllowed && !cache) {\n",
              "      return;\n",
              "    }\n",
              "    element.appendChild(document.createTextNode(''));\n",
              "    const url = await google.colab.kernel.proxyPort(port, {cache});\n",
              "    const iframe = document.createElement('iframe');\n",
              "    iframe.src = url + path;\n",
              "    iframe.height = height;\n",
              "    iframe.width = width;\n",
              "    iframe.style.border = 0;\n",
              "    element.appendChild(iframe);\n",
              "  })(8050, \"/\", \"100%\", 650, false, window.element)"
            ],
            "text/plain": [
              "<IPython.core.display.Javascript object>"
            ]
          },
          "metadata": {
            "tags": []
          }
        }
      ]
    },
    {
      "cell_type": "markdown",
      "metadata": {
        "id": "W184w-viCgmT",
        "colab_type": "text"
      },
      "source": [
        "Für das Layout verwenden wir in diesem Notebook **Dash Bootstrap** (https://dash-bootstrap-components.opensource.faculty.ai/). Dies ändert nichts an den Konzepten von Dash, macht den Layout-Code bei etwas komplexeren Beispielen aber deutlich übersichtlicher."
      ]
    },
    {
      "cell_type": "code",
      "metadata": {
        "id": "4dy0LgFyCBRh",
        "colab_type": "code",
        "colab": {
          "base_uri": "https://localhost:8080/",
          "height": 671
        },
        "outputId": "61f6ab68-92fe-47f1-e5ac-ae3d79f41285"
      },
      "source": [
        "app = JupyterDash(__name__, external_stylesheets=[dbc.themes.BOOTSTRAP])\n",
        "\n",
        "\n",
        "# Das Layout wird ähnlich wie in HTML festgelegt\n",
        "app.layout = app.layout = dbc.Container([\n",
        "     html.H1(\"Hallo\"),\n",
        "     html.Div(\"Hier ist Dash :D\")\n",
        "])\n",
        "\n",
        "# Die JupyterDash-App wird im Notebook selber angezeigt\n",
        "app.run_server(mode='inline')"
      ],
      "execution_count": null,
      "outputs": [
        {
          "output_type": "display_data",
          "data": {
            "application/javascript": [
              "(async (port, path, width, height, cache, element) => {\n",
              "    if (!google.colab.kernel.accessAllowed && !cache) {\n",
              "      return;\n",
              "    }\n",
              "    element.appendChild(document.createTextNode(''));\n",
              "    const url = await google.colab.kernel.proxyPort(port, {cache});\n",
              "    const iframe = document.createElement('iframe');\n",
              "    iframe.src = url + path;\n",
              "    iframe.height = height;\n",
              "    iframe.width = width;\n",
              "    iframe.style.border = 0;\n",
              "    element.appendChild(iframe);\n",
              "  })(8050, \"/\", \"100%\", 650, false, window.element)"
            ],
            "text/plain": [
              "<IPython.core.display.Javascript object>"
            ]
          },
          "metadata": {
            "tags": []
          }
        }
      ]
    },
    {
      "cell_type": "markdown",
      "metadata": {
        "id": "J9MZQZRm9M8y",
        "colab_type": "text"
      },
      "source": [
        "Wir setzen jetzt einen der Iris-Plots aus dem Pandas-Notebook in Dash um: "
      ]
    },
    {
      "cell_type": "code",
      "metadata": {
        "id": "c3JAcqKs9L2v",
        "colab_type": "code",
        "colab": {
          "base_uri": "https://localhost:8080/",
          "height": 671
        },
        "outputId": "aa3f3944-9f15-4933-9d2d-d4412c7fe523"
      },
      "source": [
        "app = JupyterDash(__name__, external_stylesheets=[dbc.themes.BOOTSTRAP])\n",
        "# Scatterplot erzeugen\n",
        "fig = px.scatter(iris, x=\"sepal_length\", y=\"sepal_width\", color=\"species\")\n",
        "# Die Minimal- und Maximalwerte der Achsen\n",
        "fig.update_xaxes(range=[4, 8])\n",
        "fig.update_yaxes(range=[1.5, 5])\n",
        "\n",
        "app.layout = dbc.Container(\n",
        "    [\n",
        "        html.H1(\"Iris Data\"),\n",
        "        dcc.Graph(id='iris-graph', figure=fig)\n",
        "    ]\n",
        ")\n",
        "\n",
        "app.run_server(mode='inline')"
      ],
      "execution_count": null,
      "outputs": [
        {
          "output_type": "display_data",
          "data": {
            "application/javascript": [
              "(async (port, path, width, height, cache, element) => {\n",
              "    if (!google.colab.kernel.accessAllowed && !cache) {\n",
              "      return;\n",
              "    }\n",
              "    element.appendChild(document.createTextNode(''));\n",
              "    const url = await google.colab.kernel.proxyPort(port, {cache});\n",
              "    const iframe = document.createElement('iframe');\n",
              "    iframe.src = url + path;\n",
              "    iframe.height = height;\n",
              "    iframe.width = width;\n",
              "    iframe.style.border = 0;\n",
              "    element.appendChild(iframe);\n",
              "  })(8050, \"/\", \"100%\", 650, false, window.element)"
            ],
            "text/plain": [
              "<IPython.core.display.Javascript object>"
            ]
          },
          "metadata": {
            "tags": []
          }
        }
      ]
    },
    {
      "cell_type": "markdown",
      "metadata": {
        "id": "fma-oXGR917w",
        "colab_type": "text"
      },
      "source": [
        "Tooltips für die einzelnen Datenpunkte werden durch Dash automatisch generiert, ebenso wie Legenden (siehe erstes Iris-Beispiel weiter unten) und eine Plot-Toolbar mit Auswahl- und Zoomwerkzeugen (die Ansicht kann mit dem \"Autoscale\"-Button zurückgesetzt werden).\n",
        "\n",
        "Auch 3D-Plots können ohne großen Aufwand erstellt werden:"
      ]
    },
    {
      "cell_type": "code",
      "metadata": {
        "id": "rAsmcwfiN2NB",
        "colab_type": "code",
        "colab": {
          "base_uri": "https://localhost:8080/",
          "height": 671
        },
        "outputId": "93bf174a-a805-4905-e886-cc66180f6441"
      },
      "source": [
        "app = JupyterDash(__name__, external_stylesheets=[dbc.themes.BOOTSTRAP])\n",
        "# Die Dimension \"petal_length\" wird nun hinzugefügt\n",
        "fig = px.scatter_3d(iris, x=\"sepal_length\", y=\"sepal_width\", z=\"petal_width\", color=\"species\")\n",
        "\n",
        "# Die Achsen müssen bei 3D-Plots etwas anders gesetzt werden, dies ist aber optional\n",
        "fig.update_layout(\n",
        "    scene = dict(\n",
        "        xaxis = dict(range=[4,8]),\n",
        "        yaxis = dict(range=[1.5, 5]),\n",
        "        zaxis = dict(range=[0,3])\n",
        "        )\n",
        ")\n",
        "\n",
        "app.layout = dbc.Container(\n",
        "    [\n",
        "        html.H1(\"Iris Data\"),\n",
        "        dcc.Graph(id='iris-graph', figure=fig)\n",
        "    ]\n",
        ")\n",
        "\n",
        "app.run_server(mode='inline')"
      ],
      "execution_count": null,
      "outputs": [
        {
          "output_type": "display_data",
          "data": {
            "application/javascript": [
              "(async (port, path, width, height, cache, element) => {\n",
              "    if (!google.colab.kernel.accessAllowed && !cache) {\n",
              "      return;\n",
              "    }\n",
              "    element.appendChild(document.createTextNode(''));\n",
              "    const url = await google.colab.kernel.proxyPort(port, {cache});\n",
              "    const iframe = document.createElement('iframe');\n",
              "    iframe.src = url + path;\n",
              "    iframe.height = height;\n",
              "    iframe.width = width;\n",
              "    iframe.style.border = 0;\n",
              "    element.appendChild(iframe);\n",
              "  })(8050, \"/\", \"100%\", 650, false, window.element)"
            ],
            "text/plain": [
              "<IPython.core.display.Javascript object>"
            ]
          },
          "metadata": {
            "tags": []
          }
        }
      ]
    },
    {
      "cell_type": "markdown",
      "metadata": {
        "id": "MlshLO0xYBzA",
        "colab_type": "text"
      },
      "source": [
        "### Übung\n",
        "\n",
        "Jetzt zu den Aufgaben für Dich:\n",
        "\n",
        "1.   Erstelle aus den Restaurant-Daten einen neuen DataFrame mit dem Bestelltdatum als Zeilenindex und den Spalten `revenue` und `total_orders`. `revenue` ist der Gesamtumsatz aller Restaurants zum jeweiligen Datum, `total_orders` die Gesamtzahl aller Bestellungen.\n",
        "2.    Erstelle einen einfachen Dash-Plot mit obigem DataFrame, mit dem Datum auf der x-Achse und dem Gesamtumsatz auf der y-Achse.\n",
        "\n",
        "\n"
      ]
    },
    {
      "cell_type": "code",
      "metadata": {
        "id": "B11kEqUB2riO",
        "colab_type": "code",
        "colab": {}
      },
      "source": [
        "# Daten laden\n",
        "vendors = pd.read_csv('https://github.com/thomas-bierhance-exxcellent/data-wrangling-praktikum/raw/master/vendors.csv.xz')\n",
        "customers = pd.read_csv('https://github.com/thomas-bierhance-exxcellent/data-wrangling-praktikum/raw/master/customers.csv.xz')\n",
        "locations = pd.read_csv('https://github.com/thomas-bierhance-exxcellent/data-wrangling-praktikum/raw/master/locations.csv.xz')\n",
        "orders = pd.read_csv('https://github.com/thomas-bierhance-exxcellent/data-wrangling-praktikum/raw/master/orders.csv.xz',\n",
        "                     parse_dates=['order_accepted_time', 'delivered_time', 'delivery_date'])"
      ],
      "execution_count": null,
      "outputs": []
    },
    {
      "cell_type": "code",
      "metadata": {
        "id": "iX7-jL5921TM",
        "colab_type": "code",
        "colab": {}
      },
      "source": [
        "# Platz für Deine Übungen :)"
      ],
      "execution_count": null,
      "outputs": []
    },
    {
      "cell_type": "markdown",
      "metadata": {
        "id": "ngOI84Fqx0R_",
        "colab_type": "text"
      },
      "source": [
        "### Lösung"
      ]
    },
    {
      "cell_type": "code",
      "metadata": {
        "id": "tTkSMJey3bnw",
        "colab_type": "code",
        "colab": {
          "base_uri": "https://localhost:8080/",
          "height": 450
        },
        "outputId": "5ebe0e7f-f228-46b6-e0cb-6a41bce64dee"
      },
      "source": [
        "# 1. DataFrame erstellen\n",
        "grouped_df = orders[['delivery_date', 'grand_total']].groupby('delivery_date')\n",
        "restaurant_df = pd.concat([grouped_df.sum(), grouped_df.count()], axis=1)\n",
        "restaurant_df.columns = ['revenue', 'total_orders']\n",
        "restaurant_df"
      ],
      "execution_count": null,
      "outputs": [
        {
          "output_type": "execute_result",
          "data": {
            "text/html": [
              "<div>\n",
              "<style scoped>\n",
              "    .dataframe tbody tr th:only-of-type {\n",
              "        vertical-align: middle;\n",
              "    }\n",
              "\n",
              "    .dataframe tbody tr th {\n",
              "        vertical-align: top;\n",
              "    }\n",
              "\n",
              "    .dataframe thead th {\n",
              "        text-align: right;\n",
              "    }\n",
              "</style>\n",
              "<table border=\"1\" class=\"dataframe\">\n",
              "  <thead>\n",
              "    <tr style=\"text-align: right;\">\n",
              "      <th></th>\n",
              "      <th>revenue</th>\n",
              "      <th>total_orders</th>\n",
              "    </tr>\n",
              "    <tr>\n",
              "      <th>delivery_date</th>\n",
              "      <th></th>\n",
              "      <th></th>\n",
              "    </tr>\n",
              "  </thead>\n",
              "  <tbody>\n",
              "    <tr>\n",
              "      <th>2019-05-31</th>\n",
              "      <td>833.6</td>\n",
              "      <td>45</td>\n",
              "    </tr>\n",
              "    <tr>\n",
              "      <th>2019-06-01</th>\n",
              "      <td>3903.3</td>\n",
              "      <td>203</td>\n",
              "    </tr>\n",
              "    <tr>\n",
              "      <th>2019-06-02</th>\n",
              "      <td>3168.1</td>\n",
              "      <td>185</td>\n",
              "    </tr>\n",
              "    <tr>\n",
              "      <th>2019-06-03</th>\n",
              "      <td>3048.1</td>\n",
              "      <td>180</td>\n",
              "    </tr>\n",
              "    <tr>\n",
              "      <th>2019-06-04</th>\n",
              "      <td>4208.4</td>\n",
              "      <td>246</td>\n",
              "    </tr>\n",
              "    <tr>\n",
              "      <th>...</th>\n",
              "      <td>...</td>\n",
              "      <td>...</td>\n",
              "    </tr>\n",
              "    <tr>\n",
              "      <th>2020-03-20</th>\n",
              "      <td>35.9</td>\n",
              "      <td>4</td>\n",
              "    </tr>\n",
              "    <tr>\n",
              "      <th>2020-03-21</th>\n",
              "      <td>66.1</td>\n",
              "      <td>6</td>\n",
              "    </tr>\n",
              "    <tr>\n",
              "      <th>2020-03-24</th>\n",
              "      <td>12.2</td>\n",
              "      <td>1</td>\n",
              "    </tr>\n",
              "    <tr>\n",
              "      <th>2020-04-01</th>\n",
              "      <td>7.6</td>\n",
              "      <td>1</td>\n",
              "    </tr>\n",
              "    <tr>\n",
              "      <th>2020-04-03</th>\n",
              "      <td>24.3</td>\n",
              "      <td>3</td>\n",
              "    </tr>\n",
              "  </tbody>\n",
              "</table>\n",
              "<p>259 rows × 2 columns</p>\n",
              "</div>"
            ],
            "text/plain": [
              "               revenue  total_orders\n",
              "delivery_date                       \n",
              "2019-05-31       833.6            45\n",
              "2019-06-01      3903.3           203\n",
              "2019-06-02      3168.1           185\n",
              "2019-06-03      3048.1           180\n",
              "2019-06-04      4208.4           246\n",
              "...                ...           ...\n",
              "2020-03-20        35.9             4\n",
              "2020-03-21        66.1             6\n",
              "2020-03-24        12.2             1\n",
              "2020-04-01         7.6             1\n",
              "2020-04-03        24.3             3\n",
              "\n",
              "[259 rows x 2 columns]"
            ]
          },
          "metadata": {
            "tags": []
          },
          "execution_count": 109
        }
      ]
    },
    {
      "cell_type": "code",
      "metadata": {
        "id": "9AyzK4xRHK1R",
        "colab_type": "code",
        "colab": {
          "base_uri": "https://localhost:8080/",
          "height": 671
        },
        "outputId": "98fa69b2-1837-402c-d709-2897200347b1"
      },
      "source": [
        "# 2. Dash-Plot erstellen\n",
        "app = JupyterDash(__name__, external_stylesheets=[dbc.themes.BOOTSTRAP])\n",
        "# Zur Abwechslung mal einen Line-Plot\n",
        "fig = px.line(restaurant_df, x = restaurant_df.index, y=\"revenue\")\n",
        "\n",
        "app.layout = dbc.Container(\n",
        "    [\n",
        "        html.H1(\"Restaurant Data\"),\n",
        "        dcc.Graph(id='restaurant-graph', figure=fig)\n",
        "    ]\n",
        ")\n",
        "\n",
        "app.run_server(mode='inline')"
      ],
      "execution_count": null,
      "outputs": [
        {
          "output_type": "display_data",
          "data": {
            "application/javascript": [
              "(async (port, path, width, height, cache, element) => {\n",
              "    if (!google.colab.kernel.accessAllowed && !cache) {\n",
              "      return;\n",
              "    }\n",
              "    element.appendChild(document.createTextNode(''));\n",
              "    const url = await google.colab.kernel.proxyPort(port, {cache});\n",
              "    const iframe = document.createElement('iframe');\n",
              "    iframe.src = url + path;\n",
              "    iframe.height = height;\n",
              "    iframe.width = width;\n",
              "    iframe.style.border = 0;\n",
              "    element.appendChild(iframe);\n",
              "  })(8050, \"/\", \"100%\", 650, false, window.element)"
            ],
            "text/plain": [
              "<IPython.core.display.Javascript object>"
            ]
          },
          "metadata": {
            "tags": []
          }
        }
      ]
    },
    {
      "cell_type": "markdown",
      "metadata": {
        "id": "UJjLNhQ5Ab9C",
        "colab_type": "text"
      },
      "source": [
        "## Callbacks\n",
        "Ein höherer Grad an Interaktion wird in Dash über Callbacks erreicht. Auch hierzu wieder ein Minimalbeispiel:"
      ]
    },
    {
      "cell_type": "code",
      "metadata": {
        "id": "EbHyBfgLBFvV",
        "colab_type": "code",
        "colab": {
          "base_uri": "https://localhost:8080/",
          "height": 671
        },
        "outputId": "f64df4bc-16e9-41a2-a8cf-722382b9cb5d"
      },
      "source": [
        "app = JupyterDash(__name__, external_stylesheets=[dbc.themes.BOOTSTRAP])\n",
        "\n",
        "# Für Callbacks sind die component_ids im Layout wichtig\n",
        "app.layout = html.Div([\n",
        "    html.H5(\"Mit dem Inputfeld kann der Text im Output verändert werden\"),\n",
        "    html.Div([\"Input: \",\n",
        "              dcc.Input(id='my-input', value='Hai :D', type='text')]),\n",
        "    html.Br(),\n",
        "    html.Div(id='my-output'),\n",
        "\n",
        "])\n",
        "\n",
        "app.layout = dbc.Container(\n",
        "    [\n",
        "        html.H6(\"Mit dem Inputfeld kann der Text im Output verändert werden\"),\n",
        "        dbc.Input(id=\"my-input\", type=\"text\", value=\"\", placeholder=\"Input\"),\n",
        "        html.Br(),\n",
        "        html.Div(id=\"my-output\"),\n",
        "    ]\n",
        ")\n",
        "\n",
        "# Der Callback wird immer aufgerufen, sobald sich eine Property des Inputs ändert,\n",
        "# in diesem Fall mit component_id='my-input' im Layout \n",
        "# Der Output wird analog über component_id='my-output' angesprochen\n",
        "@app.callback(\n",
        "    Output(component_id='my-output', component_property='children'),\n",
        "    [Input(component_id='my-input', component_property='value')]\n",
        ")\n",
        "def update_output_div(input_value):\n",
        "    return 'Output: {}'.format(input_value)\n",
        "\n",
        "\n",
        "app.run_server(mode='inline')"
      ],
      "execution_count": null,
      "outputs": [
        {
          "output_type": "display_data",
          "data": {
            "application/javascript": [
              "(async (port, path, width, height, cache, element) => {\n",
              "    if (!google.colab.kernel.accessAllowed && !cache) {\n",
              "      return;\n",
              "    }\n",
              "    element.appendChild(document.createTextNode(''));\n",
              "    const url = await google.colab.kernel.proxyPort(port, {cache});\n",
              "    const iframe = document.createElement('iframe');\n",
              "    iframe.src = url + path;\n",
              "    iframe.height = height;\n",
              "    iframe.width = width;\n",
              "    iframe.style.border = 0;\n",
              "    element.appendChild(iframe);\n",
              "  })(8050, \"/\", \"100%\", 650, false, window.element)"
            ],
            "text/plain": [
              "<IPython.core.display.Javascript object>"
            ]
          },
          "metadata": {
            "tags": []
          }
        }
      ]
    },
    {
      "cell_type": "markdown",
      "metadata": {
        "id": "Gjr9n0MVNhZG",
        "colab_type": "text"
      },
      "source": [
        "Das Input-Feld in diesem Beispiel ist Teil der Dash Core Components (https://dash.plotly.com/dash-core-components), ebenso wie `dcc.Graph `, welcher uns in den vorherigen Beispielen bereits begegnet ist.\n",
        "\n",
        "Mithilfe von Callbacks bauen wir in die Iris-App eine einfache Filtermöglichkeit ein: Ein Dropdown-Menü (ebenfalls aus `dcc`), mit welchem Iris-Spezies ausgewählt werden können."
      ]
    },
    {
      "cell_type": "markdown",
      "metadata": {
        "id": "-UVcDcLBKWBQ",
        "colab_type": "text"
      },
      "source": [
        "*Anmerkung: In diesem Beispiel sind die Farben nicht an die Spezies gebunden, d.h. wenn nur eine Spezies ausgewählt wird, wird diese immer in Blau angezeigt. Um den Code halbwegs übersichtlich zu halten, belassen wir das in diesem Notebook so.*"
      ]
    },
    {
      "cell_type": "code",
      "metadata": {
        "id": "hODE5A2aAt_J",
        "colab_type": "code",
        "colab": {
          "base_uri": "https://localhost:8080/",
          "height": 671
        },
        "outputId": "805c0de5-fef3-4bc5-8b0d-e58d5bcd3175"
      },
      "source": [
        "app = JupyterDash(__name__, external_stylesheets=[dbc.themes.BOOTSTRAP])\n",
        "\n",
        "# Liste der Spezies für das Dropdown-Menü erstellen, mit Zusatzoption 'All species'\n",
        "species_list = ['All species']\n",
        "species_list.extend(iris['species'].unique())\n",
        "species_list\n",
        "\n",
        "# Die Erstellung des Plots an sich kapseln wir zwecks Verwendung im Callback in eine\n",
        "# eigene Methode\n",
        "def generate_my_plot(df):\n",
        "  fig = px.scatter(df, x=\"sepal_length\", y=\"sepal_width\", color=\"species\")\n",
        "  # Die Minimal- und Maximalwerte der Achsen\n",
        "  fig.update_xaxes(range=[4, 8])\n",
        "  fig.update_yaxes(range=[1.5, 5])\n",
        "  return fig\n",
        "\n",
        "fig = generate_my_plot(iris)\n",
        "\n",
        "app.layout = dbc.Container([\n",
        "     html.H1(\"Iris Data\"),\n",
        "     dcc.Dropdown(id=\"species-select\", \n",
        "                  options=[{\"label\": i, \"value\": i} for i in species_list], \n",
        "                  value=species_list[0]),\n",
        "     dcc.Graph(id='iris-graph', figure=fig)\n",
        "])\n",
        "\n",
        "\n",
        "\n",
        "# Der Callback wird aufgerufen sobald, sich eine Input-Property ändert\n",
        "@app.callback(\n",
        "    Output(component_id='iris-graph', component_property='figure'),\n",
        "    [Input(component_id='species-select', component_property='value')]\n",
        ")\n",
        "def update_graph(input_value):\n",
        "  if input_value == 'All species':\n",
        "    iris_updated = iris\n",
        "  else:\n",
        "    iris_updated = iris.loc[iris['species']==input_value]\n",
        "  return generate_my_plot(iris_updated)\n",
        "\n",
        "app.run_server(mode='inline')"
      ],
      "execution_count": null,
      "outputs": [
        {
          "output_type": "display_data",
          "data": {
            "application/javascript": [
              "(async (port, path, width, height, cache, element) => {\n",
              "    if (!google.colab.kernel.accessAllowed && !cache) {\n",
              "      return;\n",
              "    }\n",
              "    element.appendChild(document.createTextNode(''));\n",
              "    const url = await google.colab.kernel.proxyPort(port, {cache});\n",
              "    const iframe = document.createElement('iframe');\n",
              "    iframe.src = url + path;\n",
              "    iframe.height = height;\n",
              "    iframe.width = width;\n",
              "    iframe.style.border = 0;\n",
              "    element.appendChild(iframe);\n",
              "  })(8050, \"/\", \"100%\", 650, false, window.element)"
            ],
            "text/plain": [
              "<IPython.core.display.Javascript object>"
            ]
          },
          "metadata": {
            "tags": []
          }
        }
      ]
    },
    {
      "cell_type": "markdown",
      "metadata": {
        "id": "Uz5EM9pkOS68",
        "colab_type": "text"
      },
      "source": [
        "## Anpassung des Layouts\n",
        "Das Dropdown-Menü sieht momentan noch etwas breit aus. Bevor wir unserer App also weitere Elemente hinzufügen, sollten wir das Layout noch ein wenig anpassen:"
      ]
    },
    {
      "cell_type": "code",
      "metadata": {
        "id": "zd4oDF2xPASL",
        "colab_type": "code",
        "colab": {
          "base_uri": "https://localhost:8080/",
          "height": 671
        },
        "outputId": "79bad612-2df7-4522-b2f6-79cd3fd0b412"
      },
      "source": [
        "app = JupyterDash(__name__, external_stylesheets=[dbc.themes.BOOTSTRAP])\n",
        "\n",
        "species_list = ['All species']\n",
        "species_list.extend(iris['species'].unique())\n",
        "species_list\n",
        "\n",
        "def generate_my_plot(df):\n",
        "  fig = px.scatter(df, x=\"sepal_length\", y=\"sepal_width\", color=\"species\")\n",
        "  # Die Minimal- und Maximalwerte der Achsen\n",
        "  fig.update_xaxes(range=[4, 8])\n",
        "  fig.update_yaxes(range=[1.5, 5])\n",
        "  return fig\n",
        "\n",
        "fig = generate_my_plot(iris)\n",
        " \n",
        "# Das Layout wird so umgestellt, dass das Dropdownmenü neben dem Graphen steht\n",
        "# Anmerkung: Das Card Element ist hier für den Rahmen um die Formgroup verantwortlich,\n",
        "# bietet aber auch sehr viele Anpassungsmöglichkeiten für das Layout\n",
        "controls = dbc.Card([\n",
        "                     dbc.FormGroup([\n",
        "                                    dbc.Label('Species:'),\n",
        "                                    dcc.Dropdown(id=\"species-select\", \n",
        "                                    options=[{\"label\": i, \"value\": i} for i in species_list], \n",
        "                                    value=species_list[0],)\n",
        "                     ])\n",
        "], body=True)\n",
        "\n",
        "app.layout = dbc.Container([\n",
        "     html.H1(\"Iris Data\"),\n",
        "     dbc.Row([\n",
        "              dbc.Col(controls, md=4),\n",
        "              dbc.Col(dcc.Graph(id='iris-graph', figure=fig), md=8)\n",
        "     ],align=\"top\",)\n",
        "])\n",
        "\n",
        "@app.callback(\n",
        "    Output(component_id='iris-graph', component_property='figure'),\n",
        "    [Input(component_id='species-select', component_property='value')]\n",
        ")\n",
        "def update_graph(input_value):\n",
        "  if input_value == 'All species':\n",
        "    iris_updated = iris\n",
        "  else:\n",
        "    iris_updated = iris.loc[iris['species']==input_value]\n",
        "  return generate_my_plot(iris_updated)\n",
        "\n",
        "app.run_server(mode='inline')"
      ],
      "execution_count": null,
      "outputs": [
        {
          "output_type": "display_data",
          "data": {
            "application/javascript": [
              "(async (port, path, width, height, cache, element) => {\n",
              "    if (!google.colab.kernel.accessAllowed && !cache) {\n",
              "      return;\n",
              "    }\n",
              "    element.appendChild(document.createTextNode(''));\n",
              "    const url = await google.colab.kernel.proxyPort(port, {cache});\n",
              "    const iframe = document.createElement('iframe');\n",
              "    iframe.src = url + path;\n",
              "    iframe.height = height;\n",
              "    iframe.width = width;\n",
              "    iframe.style.border = 0;\n",
              "    element.appendChild(iframe);\n",
              "  })(8050, \"/\", \"100%\", 650, false, window.element)"
            ],
            "text/plain": [
              "<IPython.core.display.Javascript object>"
            ]
          },
          "metadata": {
            "tags": []
          }
        }
      ]
    },
    {
      "cell_type": "markdown",
      "metadata": {
        "id": "xP8_eppteqmu",
        "colab_type": "text"
      },
      "source": [
        "### Übung\n",
        "Jetzt zu den Aufgaben für Dich:\n",
        "1.  Füge zum Restaurant-Plot ein Dropdown-Menü hinzu, so dass die Anzeige auf der y-Achse zwischen dem Umsatz und der Anzahl an Bestellungen umgestellt werden kann.\n",
        "2.  Passe das Layout an, so dass es dir besser gefällt. :D"
      ]
    },
    {
      "cell_type": "code",
      "metadata": {
        "id": "9G6Wx9oIf4LC",
        "colab_type": "code",
        "colab": {}
      },
      "source": [
        "# Platz für Deine Übungen :)"
      ],
      "execution_count": null,
      "outputs": []
    },
    {
      "cell_type": "markdown",
      "metadata": {
        "id": "r1MeKOlketBn",
        "colab_type": "text"
      },
      "source": [
        "### Lösung"
      ]
    },
    {
      "cell_type": "code",
      "metadata": {
        "id": "QV_eoZ-KM6bB",
        "colab_type": "code",
        "colab": {
          "base_uri": "https://localhost:8080/",
          "height": 671
        },
        "outputId": "397c9f26-6015-4488-d34a-41790ab53e8d"
      },
      "source": [
        "# 1. Dropdown-Menü\n",
        "app = JupyterDash(__name__, external_stylesheets=[dbc.themes.BOOTSTRAP])\n",
        "\n",
        "def generate_my_plot(df, column):\n",
        "  return px.line(df, x = df.index, y=column)\n",
        "\n",
        "fig = generate_my_plot(restaurant_df, restaurant_df.columns[0])\n",
        "\n",
        "app.layout = dbc.Container([\n",
        "                            html.H1(\"Restaurant Data\"),\n",
        "                            dcc.Dropdown(id=\"axes-select\",\n",
        "                                         options=[{\"label\": i, \"value\": i} for i in restaurant_df.columns],\n",
        "                                         value=restaurant_df.columns[0]),\n",
        "                            dcc.Graph(id='restaurant-graph', figure=fig)\n",
        "])\n",
        "\n",
        "@app.callback(\n",
        "    Output(component_id='restaurant-graph', component_property='figure'),\n",
        "    [Input(component_id='axes-select', component_property='value')]\n",
        ")\n",
        "def update_graph(input_value):\n",
        "  return generate_my_plot(restaurant_df, input_value)\n",
        "\n",
        "app.run_server(mode='inline')"
      ],
      "execution_count": null,
      "outputs": [
        {
          "output_type": "display_data",
          "data": {
            "application/javascript": [
              "(async (port, path, width, height, cache, element) => {\n",
              "    if (!google.colab.kernel.accessAllowed && !cache) {\n",
              "      return;\n",
              "    }\n",
              "    element.appendChild(document.createTextNode(''));\n",
              "    const url = await google.colab.kernel.proxyPort(port, {cache});\n",
              "    const iframe = document.createElement('iframe');\n",
              "    iframe.src = url + path;\n",
              "    iframe.height = height;\n",
              "    iframe.width = width;\n",
              "    iframe.style.border = 0;\n",
              "    element.appendChild(iframe);\n",
              "  })(8050, \"/\", \"100%\", 650, false, window.element)"
            ],
            "text/plain": [
              "<IPython.core.display.Javascript object>"
            ]
          },
          "metadata": {
            "tags": []
          }
        }
      ]
    },
    {
      "cell_type": "code",
      "metadata": {
        "id": "QYGRR58abRAR",
        "colab_type": "code",
        "colab": {
          "base_uri": "https://localhost:8080/",
          "height": 671
        },
        "outputId": "19bea084-796f-485c-a422-f7ae4447ade2"
      },
      "source": [
        "# 2. Layout\n",
        "app = JupyterDash(__name__, external_stylesheets=[dbc.themes.BOOTSTRAP])\n",
        "\n",
        "def generate_my_plot(df, column):\n",
        "  return px.line(df, x = df.index, y=column)\n",
        "\n",
        "fig = generate_my_plot(restaurant_df, restaurant_df.columns[0])\n",
        "\n",
        "controls = dbc.Card([\n",
        "                     dbc.FormGroup([\n",
        "                                    dbc.Label('x-Axis data:'),\n",
        "                                    dcc.Dropdown(id=\"axes-select\",\n",
        "                                         options=[{\"label\": i, \"value\": i} for i in restaurant_df.columns],\n",
        "                                         value=restaurant_df.columns[0])\n",
        "                     ])\n",
        "], body=True)\n",
        "\n",
        "app.layout = dbc.Container([\n",
        "                            html.H1(\"Restaurant Data\"),\n",
        "                            dbc.Row([\n",
        "                                     dbc.Col(controls, md=4),\n",
        "                                     dbc.Col(dcc.Graph(id='restaurant-graph', figure=fig), md=8)\n",
        "                            ],align=\"top\",)\n",
        "])    \n",
        "\n",
        "@app.callback(\n",
        "    Output(component_id='restaurant-graph', component_property='figure'),\n",
        "    [Input(component_id='axes-select', component_property='value')]\n",
        ")\n",
        "def update_graph(input_value):\n",
        "  return generate_my_plot(restaurant_df, input_value)\n",
        "\n",
        "app.run_server(mode='inline')"
      ],
      "execution_count": null,
      "outputs": [
        {
          "output_type": "display_data",
          "data": {
            "application/javascript": [
              "(async (port, path, width, height, cache, element) => {\n",
              "    if (!google.colab.kernel.accessAllowed && !cache) {\n",
              "      return;\n",
              "    }\n",
              "    element.appendChild(document.createTextNode(''));\n",
              "    const url = await google.colab.kernel.proxyPort(port, {cache});\n",
              "    const iframe = document.createElement('iframe');\n",
              "    iframe.src = url + path;\n",
              "    iframe.height = height;\n",
              "    iframe.width = width;\n",
              "    iframe.style.border = 0;\n",
              "    element.appendChild(iframe);\n",
              "  })(8050, \"/\", \"100%\", 650, false, window.element)"
            ],
            "text/plain": [
              "<IPython.core.display.Javascript object>"
            ]
          },
          "metadata": {
            "tags": []
          }
        }
      ]
    },
    {
      "cell_type": "markdown",
      "metadata": {
        "id": "JY2PTUcn3lrd",
        "colab_type": "text"
      },
      "source": [
        "## Slider\n",
        "Nur nach der Spezies zu filtern ist natürlich zu einfach, deshalb wollen wir zusätzlich nach Blütengrößen filtern können:"
      ]
    },
    {
      "cell_type": "code",
      "metadata": {
        "id": "V_ZmcoOP4jwL",
        "colab_type": "code",
        "colab": {
          "base_uri": "https://localhost:8080/",
          "height": 671
        },
        "outputId": "3dd4cb1b-b8f6-42bd-f628-91c2d6f49149"
      },
      "source": [
        "app = JupyterDash(__name__, external_stylesheets=[dbc.themes.BOOTSTRAP])\n",
        "\n",
        "species_list = ['All species']\n",
        "species_list.extend(iris['species'].unique())\n",
        "species_list\n",
        "\n",
        "def generate_my_plot(df):\n",
        "  fig = px.scatter(df, x=\"sepal_length\", y=\"sepal_width\", color=\"species\")\n",
        "  # Die Minimal- und Maximalwerte der Achsen\n",
        "  fig.update_xaxes(range=[4, 8])\n",
        "  fig.update_yaxes(range=[1.5, 5])\n",
        "  return fig\n",
        "\n",
        "fig = generate_my_plot(iris)\n",
        "\n",
        "controls = dbc.Card([\n",
        "                     dbc.FormGroup([\n",
        "                                    dbc.Label('Species:'),\n",
        "                                    dcc.Dropdown(id=\"species-select\", \n",
        "                                    options=[{\"label\": i, \"value\": i} for i in species_list], \n",
        "                                    value=species_list[0],)\n",
        "                     ]),\n",
        "                     dbc.FormGroup([\n",
        "                                    dbc.Label('Petal length:'),\n",
        "                                    dcc.RangeSlider(id=\"petal-length-select\", \n",
        "                                                    count=1,min=1,max=7,step=0.5,\n",
        "                                                    value=[1,7], \n",
        "                                                    marks={i: '{}'.format(i) for i in range(1,8)}),\n",
        "                     ]),\n",
        "                     dbc.FormGroup([\n",
        "                                    dbc.Label('Petal width:'),\n",
        "                                    dcc.RangeSlider(id=\"petal-width-select\", \n",
        "                                                    count=1,min=0,max=3,step=0.5,\n",
        "                                                    value=[0, 3], \n",
        "                                                    marks={i: '{}'.format(i) for i in range(0, 4)})\n",
        "                     ])\n",
        "], body=True)\n",
        "\n",
        "app.layout = dbc.Container([\n",
        "     html.H1(\"Iris Data\"),\n",
        "     dbc.Row([\n",
        "              dbc.Col(controls, md=4),\n",
        "              dbc.Col(dcc.Graph(id='iris-graph', figure=fig), md=8)\n",
        "     ],align=\"top\",)\n",
        "])\n",
        "\n",
        "\n",
        "\n",
        "# Die zusätzlichen Inputs werden einfach hinzugefügt\n",
        "@app.callback(\n",
        "    Output(component_id='iris-graph', component_property='figure'),\n",
        "    [Input(component_id='species-select', component_property='value'),\n",
        "     Input(component_id='petal-length-select', component_property='value'),\n",
        "     Input(component_id='petal-width-select', component_property='value')]\n",
        ")\n",
        "def update_graph(species_select, petal_length_select, petal_width_select):\n",
        "  # Spezies filtern\n",
        "  if species_select == 'All species':\n",
        "    iris_updated = iris\n",
        "  else:\n",
        "    iris_updated = iris.loc[iris['species']==species_select]\n",
        "  # Sliderwerte filtern\n",
        "  iris_updated = iris_updated.loc[iris_updated['petal_length'].between(petal_length_select[0],petal_length_select[1])]\n",
        "  iris_updated = iris_updated.loc[iris_updated['petal_width'].between(petal_width_select[0],petal_width_select[1])]\n",
        "  return generate_my_plot(iris_updated)\n",
        "\n",
        "app.run_server(mode='inline')"
      ],
      "execution_count": null,
      "outputs": [
        {
          "output_type": "display_data",
          "data": {
            "application/javascript": [
              "(async (port, path, width, height, cache, element) => {\n",
              "    if (!google.colab.kernel.accessAllowed && !cache) {\n",
              "      return;\n",
              "    }\n",
              "    element.appendChild(document.createTextNode(''));\n",
              "    const url = await google.colab.kernel.proxyPort(port, {cache});\n",
              "    const iframe = document.createElement('iframe');\n",
              "    iframe.src = url + path;\n",
              "    iframe.height = height;\n",
              "    iframe.width = width;\n",
              "    iframe.style.border = 0;\n",
              "    element.appendChild(iframe);\n",
              "  })(8050, \"/\", \"100%\", 650, false, window.element)"
            ],
            "text/plain": [
              "<IPython.core.display.Javascript object>"
            ]
          },
          "metadata": {
            "tags": []
          }
        }
      ]
    },
    {
      "cell_type": "markdown",
      "metadata": {
        "id": "yk96h_O3D8Jp",
        "colab_type": "text"
      },
      "source": [
        "## DataTable\n",
        "Für tiefergehende Datenanalyse kann in einer Dash-Anwendung natürlich auch mehr als nur ein einzelner Graph angezeigt werden. Im letzten Schritt werden wir nun eine Datatable hinzufügen, mit der eine Spezies ausgewählt und zusätzliche Informationen zu ihr angezeigt werden können."
      ]
    },
    {
      "cell_type": "code",
      "metadata": {
        "id": "8UDh6rFQHYej",
        "colab_type": "code",
        "colab": {
          "base_uri": "https://localhost:8080/",
          "height": 671
        },
        "outputId": "213b74da-f979-4778-db5e-e1f501c82d46"
      },
      "source": [
        "app = JupyterDash(__name__, external_stylesheets=[dbc.themes.BOOTSTRAP])\n",
        "\n",
        "species_list = ['All species']\n",
        "species_list.extend(iris['species'].unique())\n",
        "species_list\n",
        "\n",
        "def generate_my_plot(df):\n",
        "  fig = px.scatter(df, x=\"sepal_length\", y=\"sepal_width\", color=\"species\")\n",
        "  fig.update_xaxes(range=[4, 8])\n",
        "  fig.update_yaxes(range=[1.5, 5])\n",
        "  return fig\n",
        "\n",
        "def generate_my_other_plot(df):\n",
        "  fig = px.box(df, y=\"sepal_length\")\n",
        "  return fig\n",
        "\n",
        "fig = generate_my_plot(iris)\n",
        "lower_fig = generate_my_other_plot(iris)\n",
        "\n",
        "controlsUpper = dbc.Card([\n",
        "                     dbc.FormGroup([\n",
        "                                    dbc.Label('Species:'),\n",
        "                                    dcc.Dropdown(id=\"species-select\", \n",
        "                                    options=[{\"label\": i, \"value\": i} for i in species_list], \n",
        "                                    value=species_list[0],)\n",
        "                     ]),\n",
        "                     dbc.FormGroup([\n",
        "                                    dbc.Label('Petal length:'),\n",
        "                                    dcc.RangeSlider(id=\"petal-length-select\", \n",
        "                                                    count=1,min=1,max=7,step=0.5,\n",
        "                                                    value=[1,7], \n",
        "                                                    marks={i: '{}'.format(i) for i in range(1,8)}),\n",
        "                     ]),\n",
        "                     dbc.FormGroup([\n",
        "                                    dbc.Label('Petal width:'),\n",
        "                                    dcc.RangeSlider(id=\"petal-width-select\", \n",
        "                                                    count=1,min=0,max=3,step=0.5,\n",
        "                                                    value=[0, 3], \n",
        "                                                    marks={i: '{}'.format(i) for i in range(0, 4)})\n",
        "                     ])\n",
        "], body=True)\n",
        "\n",
        "# DataTable hinzufügen\n",
        "controlsLower = dbc.Card([\n",
        "                          dbc.FormGroup([\n",
        "                                        dbc.Label('Sepal Length Distribution:'),\n",
        "                                        dash_table.DataTable(\n",
        "                                        id='species-table',\n",
        "                                        columns=[{\"name\": \"Species\", \"id\": \"species\"}], # id muss dem Spaltennamen aus den Daten entsprechen!\n",
        "                                        data=[{'species': 'All'},\n",
        "                                              {'species': 'species-setosa'},\n",
        "                                              {'species': 'species-versicolor'},\n",
        "                                              {'species': 'species-virginica'}\n",
        "                                              ],\n",
        "                                        row_selectable=\"single\")\n",
        "                          ])\n",
        "], body=True)\n",
        "\n",
        "app.layout = dbc.Container([\n",
        "     html.H1(\"Iris Data\"),\n",
        "     dbc.Row([\n",
        "              dbc.Col(controlsUpper, md=4),\n",
        "              dbc.Col(dcc.Graph(id='iris-graph', figure=fig), md=8)\n",
        "     ],align=\"top\",),\n",
        "     dbc.Row([\n",
        "              dbc.Col(controlsLower, md=4),\n",
        "              dbc.Col(dcc.Graph(id='lower-graph', figure=lower_fig), md=8)\n",
        "     ],align=\"top\",)\n",
        "])\n",
        "\n",
        "\n",
        "@app.callback(\n",
        "    Output(component_id='iris-graph', component_property='figure'),\n",
        "    [Input(component_id='species-select', component_property='value'),\n",
        "     Input(component_id='petal-length-select', component_property='value'),\n",
        "     Input(component_id='petal-width-select', component_property='value')]\n",
        ")\n",
        "def update_iris_graph(species_select, petal_length_select, petal_width_select):\n",
        "  # Spezies filtern\n",
        "  if species_select == 'All species':\n",
        "    iris_updated = iris\n",
        "  else:\n",
        "    iris_updated = iris.loc[iris['species']==species_select]\n",
        "  # Sliderwerte filtern\n",
        "  iris_updated = iris_updated.loc[iris_updated['petal_length'].between(petal_length_select[0],petal_length_select[1])]\n",
        "  iris_updated = iris_updated.loc[iris_updated['petal_width'].between(petal_width_select[0],petal_width_select[1])]\n",
        "  return generate_my_plot(iris_updated)\n",
        "\n",
        "\n",
        "\n",
        "@app.callback(\n",
        "    Output(component_id='lower-graph', component_property='figure'),\n",
        "    [Input(component_id='species-table', component_property='selected_rows')]\n",
        ")\n",
        "def update_lower_graph(input_value):\n",
        "  if input_value[0] == 0:\n",
        "    iris_updated = iris\n",
        "  elif input_value[0] == 1:\n",
        "    iris_updated = iris.loc[iris['species']=='species-setosa']\n",
        "  elif input_value[0] == 2:\n",
        "    iris_updated = iris.loc[iris['species']=='species-versicolor']\n",
        "  elif input_value[0] == 3:\n",
        "    iris_updated = iris.loc[iris['species']=='species-virginica']\n",
        "  return generate_my_other_plot(iris_updated)\n",
        "\n",
        "app.run_server(mode='inline')"
      ],
      "execution_count": null,
      "outputs": [
        {
          "output_type": "display_data",
          "data": {
            "application/javascript": [
              "(async (port, path, width, height, cache, element) => {\n",
              "    if (!google.colab.kernel.accessAllowed && !cache) {\n",
              "      return;\n",
              "    }\n",
              "    element.appendChild(document.createTextNode(''));\n",
              "    const url = await google.colab.kernel.proxyPort(port, {cache});\n",
              "    const iframe = document.createElement('iframe');\n",
              "    iframe.src = url + path;\n",
              "    iframe.height = height;\n",
              "    iframe.width = width;\n",
              "    iframe.style.border = 0;\n",
              "    element.appendChild(iframe);\n",
              "  })(8050, \"/\", \"100%\", 650, false, window.element)"
            ],
            "text/plain": [
              "<IPython.core.display.Javascript object>"
            ]
          },
          "metadata": {
            "tags": []
          }
        }
      ]
    },
    {
      "cell_type": "markdown",
      "metadata": {
        "id": "bcYAF-gGfXDx",
        "colab_type": "text"
      },
      "source": [
        "### Übung TODO\n",
        "Jetzt zu den Aufgaben für Dich:\n",
        "1.  Slider\n",
        "2. Kundenliste"
      ]
    },
    {
      "cell_type": "code",
      "metadata": {
        "id": "p9snK2nyf5an",
        "colab_type": "code",
        "colab": {}
      },
      "source": [
        "# Platz für Deine Übungen :)"
      ],
      "execution_count": null,
      "outputs": []
    },
    {
      "cell_type": "markdown",
      "metadata": {
        "id": "5ZVY_CxxfZMU",
        "colab_type": "text"
      },
      "source": [
        "### Lösung TODO"
      ]
    },
    {
      "cell_type": "code",
      "metadata": {
        "id": "m5matJPdftv_",
        "colab_type": "code",
        "colab": {
          "base_uri": "https://localhost:8080/",
          "height": 671
        },
        "outputId": "33968a2a-135f-4856-984b-b23383303559"
      },
      "source": [
        "# 2. Layout\n",
        "app = JupyterDash(__name__, external_stylesheets=[dbc.themes.BOOTSTRAP])\n",
        "\n",
        "def generate_my_plot(df, column):\n",
        "  return px.line(df, x = df.index, y=column)\n",
        "\n",
        "# Neue Methode, um Distanzfilter zu berücksichtigen\n",
        "def filter_restaurant_df(lower_distance, upper_distance):\n",
        "  df = orders.loc[orders['delivery_distance'].between(lower_distance, upper_distance)]\n",
        "  df = df[['delivery_date', 'grand_total']].groupby('delivery_date')\n",
        "  restaurant_df = pd.concat([df.sum(), df.count()], axis=1)\n",
        "  restaurant_df.columns = ['revenue', 'total_orders']\n",
        "  return restaurant_df\n",
        "\n",
        "fig = generate_my_plot(restaurant_df, restaurant_df.columns[0])\n",
        "\n",
        "controls = dbc.Card([\n",
        "                     dbc.FormGroup([\n",
        "                                    dbc.Label('x-Axis data:'),\n",
        "                                    dcc.Dropdown(id=\"axes-select\",\n",
        "                                         options=[{\"label\": i, \"value\": i} for i in restaurant_df.columns],\n",
        "                                         value=restaurant_df.columns[0])\n",
        "                     ]),\n",
        "                     dbc.FormGroup([\n",
        "                                    dbc.Label('Delivery distance:'),\n",
        "                                    dcc.RangeSlider(id=\"delivery-distance-select\", \n",
        "                                                    count=1,min=0,max=20,step=1,\n",
        "                                                    value=[0,20], \n",
        "                                                    marks={0:\"0\", 5:\"5\", 10:\"10\", 15: \"15\", 20:\"20\"}),\n",
        "                     ]),\n",
        "], body=True)\n",
        "\n",
        "app.layout = dbc.Container([\n",
        "                            html.H1(\"Restaurant Data\"),\n",
        "                            dbc.Row([\n",
        "                                     dbc.Col(controls, md=4),\n",
        "                                     dbc.Col(dcc.Graph(id='restaurant-graph', figure=fig), md=8)\n",
        "                            ],align=\"top\",)\n",
        "])    \n",
        "\n",
        "@app.callback(\n",
        "    Output(component_id='restaurant-graph', component_property='figure'),\n",
        "    [Input(component_id='axes-select', component_property='value'),\n",
        "     Input(component_id='delivery-distance-select', component_property='value')]\n",
        ")\n",
        "def update_graph(axes_select, delivery_distance_select):\n",
        "  return generate_my_plot(filter_restaurant_df(delivery_distance_select[0], \n",
        "                                               delivery_distance_select[1]), \n",
        "                                               axes_select)\n",
        "\n",
        "app.run_server(mode='inline')"
      ],
      "execution_count": null,
      "outputs": [
        {
          "output_type": "display_data",
          "data": {
            "application/javascript": [
              "(async (port, path, width, height, cache, element) => {\n",
              "    if (!google.colab.kernel.accessAllowed && !cache) {\n",
              "      return;\n",
              "    }\n",
              "    element.appendChild(document.createTextNode(''));\n",
              "    const url = await google.colab.kernel.proxyPort(port, {cache});\n",
              "    const iframe = document.createElement('iframe');\n",
              "    iframe.src = url + path;\n",
              "    iframe.height = height;\n",
              "    iframe.width = width;\n",
              "    iframe.style.border = 0;\n",
              "    element.appendChild(iframe);\n",
              "  })(8050, \"/\", \"100%\", 650, false, window.element)"
            ],
            "text/plain": [
              "<IPython.core.display.Javascript object>"
            ]
          },
          "metadata": {
            "tags": []
          }
        }
      ]
    },
    {
      "cell_type": "code",
      "metadata": {
        "id": "rkAgeRauiE3i",
        "colab_type": "code",
        "colab": {
          "base_uri": "https://localhost:8080/",
          "height": 419
        },
        "outputId": "1515bbc3-cf01-42b3-f686-d7b5100494f4"
      },
      "source": [
        "#iris_updated.loc[iris_updated['sepal_length'].between(sepal_length_select[0],sepal_length_select[1])]\n",
        "orders.sort_values('delivery_distance')"
      ],
      "execution_count": null,
      "outputs": [
        {
          "output_type": "execute_result",
          "data": {
            "text/html": [
              "<div>\n",
              "<style scoped>\n",
              "    .dataframe tbody tr th:only-of-type {\n",
              "        vertical-align: middle;\n",
              "    }\n",
              "\n",
              "    .dataframe tbody tr th {\n",
              "        vertical-align: top;\n",
              "    }\n",
              "\n",
              "    .dataframe thead th {\n",
              "        text-align: right;\n",
              "    }\n",
              "</style>\n",
              "<table border=\"1\" class=\"dataframe\">\n",
              "  <thead>\n",
              "    <tr style=\"text-align: right;\">\n",
              "      <th></th>\n",
              "      <th>customer_id</th>\n",
              "      <th>grand_total</th>\n",
              "      <th>vendor_rating</th>\n",
              "      <th>driver_rating</th>\n",
              "      <th>delivery_distance</th>\n",
              "      <th>order_accepted_time</th>\n",
              "      <th>delivered_time</th>\n",
              "      <th>delivery_date</th>\n",
              "      <th>vendor_id</th>\n",
              "      <th>location_number</th>\n",
              "    </tr>\n",
              "  </thead>\n",
              "  <tbody>\n",
              "    <tr>\n",
              "      <th>0</th>\n",
              "      <td>92PEE24</td>\n",
              "      <td>7.6</td>\n",
              "      <td>NaN</td>\n",
              "      <td>0.0</td>\n",
              "      <td>0.00</td>\n",
              "      <td>NaT</td>\n",
              "      <td>NaT</td>\n",
              "      <td>2019-07-31</td>\n",
              "      <td>105</td>\n",
              "      <td>0</td>\n",
              "    </tr>\n",
              "    <tr>\n",
              "      <th>37068</th>\n",
              "      <td>8YW0PPI</td>\n",
              "      <td>48.7</td>\n",
              "      <td>NaN</td>\n",
              "      <td>0.0</td>\n",
              "      <td>0.00</td>\n",
              "      <td>NaT</td>\n",
              "      <td>NaT</td>\n",
              "      <td>NaT</td>\n",
              "      <td>92</td>\n",
              "      <td>0</td>\n",
              "    </tr>\n",
              "    <tr>\n",
              "      <th>37069</th>\n",
              "      <td>FPUA12F</td>\n",
              "      <td>8.7</td>\n",
              "      <td>NaN</td>\n",
              "      <td>0.0</td>\n",
              "      <td>0.00</td>\n",
              "      <td>NaT</td>\n",
              "      <td>NaT</td>\n",
              "      <td>NaT</td>\n",
              "      <td>113</td>\n",
              "      <td>3</td>\n",
              "    </tr>\n",
              "    <tr>\n",
              "      <th>37070</th>\n",
              "      <td>0FXJBR0</td>\n",
              "      <td>15.8</td>\n",
              "      <td>NaN</td>\n",
              "      <td>0.0</td>\n",
              "      <td>0.00</td>\n",
              "      <td>NaT</td>\n",
              "      <td>NaT</td>\n",
              "      <td>NaT</td>\n",
              "      <td>83</td>\n",
              "      <td>0</td>\n",
              "    </tr>\n",
              "    <tr>\n",
              "      <th>37071</th>\n",
              "      <td>28IKEN8</td>\n",
              "      <td>13.0</td>\n",
              "      <td>NaN</td>\n",
              "      <td>0.0</td>\n",
              "      <td>0.00</td>\n",
              "      <td>NaT</td>\n",
              "      <td>NaT</td>\n",
              "      <td>NaT</td>\n",
              "      <td>145</td>\n",
              "      <td>1</td>\n",
              "    </tr>\n",
              "    <tr>\n",
              "      <th>...</th>\n",
              "      <td>...</td>\n",
              "      <td>...</td>\n",
              "      <td>...</td>\n",
              "      <td>...</td>\n",
              "      <td>...</td>\n",
              "      <td>...</td>\n",
              "      <td>...</td>\n",
              "      <td>...</td>\n",
              "      <td>...</td>\n",
              "      <td>...</td>\n",
              "    </tr>\n",
              "    <tr>\n",
              "      <th>53202</th>\n",
              "      <td>WWJLJYZ</td>\n",
              "      <td>32.9</td>\n",
              "      <td>0.0</td>\n",
              "      <td>0.0</td>\n",
              "      <td>16.94</td>\n",
              "      <td>2019-10-28 15:44:30</td>\n",
              "      <td>2019-10-28 20:57:11</td>\n",
              "      <td>2019-10-28</td>\n",
              "      <td>197</td>\n",
              "      <td>3</td>\n",
              "    </tr>\n",
              "    <tr>\n",
              "      <th>59797</th>\n",
              "      <td>4ISVKB9</td>\n",
              "      <td>48.4</td>\n",
              "      <td>0.0</td>\n",
              "      <td>0.0</td>\n",
              "      <td>17.20</td>\n",
              "      <td>2019-11-07 15:33:32</td>\n",
              "      <td>2019-11-07 20:31:13</td>\n",
              "      <td>2019-11-07</td>\n",
              "      <td>197</td>\n",
              "      <td>0</td>\n",
              "    </tr>\n",
              "    <tr>\n",
              "      <th>64871</th>\n",
              "      <td>RP2TR1P</td>\n",
              "      <td>20.7</td>\n",
              "      <td>3.0</td>\n",
              "      <td>5.0</td>\n",
              "      <td>19.29</td>\n",
              "      <td>2019-11-15 18:52:24</td>\n",
              "      <td>2019-11-15 23:45:24</td>\n",
              "      <td>2019-11-15</td>\n",
              "      <td>197</td>\n",
              "      <td>1</td>\n",
              "    </tr>\n",
              "    <tr>\n",
              "      <th>59698</th>\n",
              "      <td>8P53LJ0</td>\n",
              "      <td>21.5</td>\n",
              "      <td>5.0</td>\n",
              "      <td>5.0</td>\n",
              "      <td>19.36</td>\n",
              "      <td>2019-11-07 12:00:32</td>\n",
              "      <td>2019-11-07 16:52:10</td>\n",
              "      <td>2019-11-07</td>\n",
              "      <td>197</td>\n",
              "      <td>1</td>\n",
              "    </tr>\n",
              "    <tr>\n",
              "      <th>72119</th>\n",
              "      <td>YQD5LPY</td>\n",
              "      <td>25.0</td>\n",
              "      <td>NaN</td>\n",
              "      <td>0.0</td>\n",
              "      <td>19.81</td>\n",
              "      <td>2019-11-26 17:05:30</td>\n",
              "      <td>2019-11-26 22:22:54</td>\n",
              "      <td>2019-11-26</td>\n",
              "      <td>197</td>\n",
              "      <td>1</td>\n",
              "    </tr>\n",
              "  </tbody>\n",
              "</table>\n",
              "<p>135303 rows × 10 columns</p>\n",
              "</div>"
            ],
            "text/plain": [
              "      customer_id  grand_total  ...  vendor_id  location_number\n",
              "0         92PEE24          7.6  ...        105                0\n",
              "37068     8YW0PPI         48.7  ...         92                0\n",
              "37069     FPUA12F          8.7  ...        113                3\n",
              "37070     0FXJBR0         15.8  ...         83                0\n",
              "37071     28IKEN8         13.0  ...        145                1\n",
              "...           ...          ...  ...        ...              ...\n",
              "53202     WWJLJYZ         32.9  ...        197                3\n",
              "59797     4ISVKB9         48.4  ...        197                0\n",
              "64871     RP2TR1P         20.7  ...        197                1\n",
              "59698     8P53LJ0         21.5  ...        197                1\n",
              "72119     YQD5LPY         25.0  ...        197                1\n",
              "\n",
              "[135303 rows x 10 columns]"
            ]
          },
          "metadata": {
            "tags": []
          },
          "execution_count": 143
        }
      ]
    },
    {
      "cell_type": "markdown",
      "metadata": {
        "id": "lFGxUzAHv443",
        "colab_type": "text"
      },
      "source": [
        "## Weiterführende Ressourcen\n",
        "\n",
        "*  Dash Gallery (Umfangreiche Beispielsammlung für Dash-Apps, inkl. Source-Code): https://dash-gallery.plotly.host/Portal/"
      ]
    },
    {
      "cell_type": "markdown",
      "metadata": {
        "id": "VMfliru0HgPM",
        "colab_type": "text"
      },
      "source": [
        "## Codebeispiele\n",
        "\n",
        "3D-Plot ohne Bootstrap:"
      ]
    },
    {
      "cell_type": "code",
      "metadata": {
        "id": "r9muVFL1Hkp2",
        "colab_type": "code",
        "colab": {}
      },
      "source": [
        "app = JupyterDash(__name__)\n",
        "\n",
        "# Liste der Spezies für das Dropdown-Menü erstellen, mit Zusatzoption 'All species'\n",
        "species_list = ['All species']\n",
        "species_list.extend(iris['species'].unique())\n",
        "species_list\n",
        "\n",
        "# Die Erstellung des Plots an sich kapseln wir zwecks Verwendung im Callback in eine\n",
        "# eigene Methode\n",
        "def generate_my_plot(df):\n",
        "  fig = px.scatter_3d(df, x=\"sepal_length\", y=\"sepal_width\", z=\"petal_width\", color=\"species\")\n",
        "  fig.update_layout(\n",
        "      scene = dict(\n",
        "          xaxis = dict(range=[4,8]),\n",
        "          yaxis = dict(range=[1.5, 5]),\n",
        "          zaxis = dict(range=[0,3])\n",
        "          )\n",
        "  )\n",
        "  return fig\n",
        " \n",
        "app.layout = html.Div(children=[\n",
        "    html.H1(children='Iris-Daten'),\n",
        "\n",
        "    html.Div(children='''\n",
        "        Ein wunderschöner 3D-Plot:\n",
        "    '''),\n",
        "\n",
        "    dcc.Dropdown(\n",
        "                id=\"species-select\",\n",
        "                options=[{\"label\": i, \"value\": i} for i in species_list],\n",
        "                value=species_list[0],\n",
        "            ),\n",
        "\n",
        "    dcc.Graph(\n",
        "        id='iris-graph',\n",
        "        figure=fig\n",
        "    )\n",
        "])\n",
        "\n",
        "# Der Callback wird aufgerufen sobald, sich eine Input-Property ändert\n",
        "@app.callback(\n",
        "    Output(component_id='iris-graph', component_property='figure'),\n",
        "    [Input(component_id='species-select', component_property='value')]\n",
        ")\n",
        "def update_graph(input_value):\n",
        "  if input_value == 'All species':\n",
        "    iris_updated = iris\n",
        "  else:\n",
        "    iris_updated = iris.loc[iris['species']==input_value]\n",
        "  return generate_my_plot(iris_updated)\n",
        "\n",
        "app.run_server(mode='inline')"
      ],
      "execution_count": null,
      "outputs": []
    },
    {
      "cell_type": "markdown",
      "metadata": {
        "id": "eH9WV1215ZGc",
        "colab_type": "text"
      },
      "source": [
        "3D-Plot mit Slider ohne Bootstrap:"
      ]
    },
    {
      "cell_type": "code",
      "metadata": {
        "id": "8QVaFWskHloh",
        "colab_type": "code",
        "colab": {}
      },
      "source": [
        "app = JupyterDash(__name__)\n",
        "\n",
        "\n",
        "\n",
        "species_list = ['All species']\n",
        "species_list.extend(iris['species'].unique())\n",
        "species_list\n",
        "\n",
        "def generate_my_plot(df):\n",
        "  fig = px.scatter_3d(df, x=\"sepal_length\", y=\"sepal_width\", z=\"petal_width\", color=\"species\")\n",
        "\n",
        "  fig.update_layout(\n",
        "      margin=dict(l=0, r=0, b=0, t=15),\n",
        "      width = 600,\n",
        "      scene = dict(\n",
        "          xaxis = dict(range=[4,8]),\n",
        "          yaxis = dict(range=[1.5, 5]),\n",
        "          zaxis = dict(range=[0,3])\n",
        "          )\n",
        "  )\n",
        "  return fig\n",
        "\n",
        "fig = generate_my_plot(iris)\n",
        " \n",
        "app.layout = html.Div([\n",
        "        html.H1('Iris-Data'),\n",
        "        html.Div([\n",
        "            html.Label('Species:'),\n",
        "            dcc.Dropdown(id=\"species-select\", options=[{\"label\": i, \"value\": i} for i in species_list], value=species_list[0]),\n",
        "            # Ins Layout fügen wir die Slider ein\n",
        "            html.Label('Sepal length:'),\n",
        "            dcc.RangeSlider(id=\"sepal-length-select\", count=1,min=4,max=8,step=0.5,value=[4, 8], marks={i: '{}'.format(i) for i in range(4, 9)}),\n",
        "            html.Label('Sepal width:'),\n",
        "            dcc.RangeSlider(id=\"sepal-width-select\", count=1,min=0,max=5,step=0.5,value=[0, 5], marks={i: '{}'.format(i) for i in range(0, 10)}),\n",
        "            html.Label('Petal width:'),\n",
        "            dcc.RangeSlider(id=\"petal-width-select\", count=1,min=0,max=3,step=0.25,value=[0, 3], marks={i: '{}'.format(i) for i in range(0, 10)}) \n",
        "            \n",
        "        ], \n",
        "        style={'width': '15%', 'display': 'inline-block', 'vertical-align':'top'}),\n",
        "\n",
        "        html.Div(dcc.Graph(\n",
        "            id='iris-graph',\n",
        "            figure=fig),\n",
        "            style={'width': '80%', 'display': 'inline-block'})\n",
        "])\n",
        "\n",
        "# Die zusätzlichen Inputs werden einfach hinzugefügt\n",
        "@app.callback(\n",
        "    Output(component_id='iris-graph', component_property='figure'),\n",
        "    [Input(component_id='species-select', component_property='value'),\n",
        "     Input(component_id='sepal-length-select', component_property='value'),\n",
        "     Input(component_id='sepal-width-select', component_property='value'),\n",
        "     Input(component_id='petal-width-select', component_property='value')]\n",
        ")\n",
        "def update_graph(species_select, sepal_length_select, sepal_width_select, petal_width_select):\n",
        "  # Spezies filtern\n",
        "  if species_select == 'All species':\n",
        "    iris_updated = iris\n",
        "  else:\n",
        "    iris_updated = iris.loc[iris['species']==species_select]\n",
        "  # Sliderwerte filtern\n",
        "  iris_updated = iris_updated.loc[iris_updated['sepal_length'].between(sepal_length_select[0],sepal_length_select[1])]\n",
        "  iris_updated = iris_updated.loc[iris_updated['sepal_width'].between(sepal_width_select[0],sepal_width_select[1])]\n",
        "  iris_updated = iris_updated.loc[iris_updated['petal_width'].between(petal_width_select[0],petal_width_select[1])]\n",
        "  return generate_my_plot(iris_updated)\n",
        "\n",
        "app.run_server(mode='inline')"
      ],
      "execution_count": null,
      "outputs": []
    },
    {
      "cell_type": "markdown",
      "metadata": {
        "id": "xQQOaL-hf1bo",
        "colab_type": "text"
      },
      "source": [
        "# TODO Ab hier löschen, sobald fertig"
      ]
    },
    {
      "cell_type": "markdown",
      "metadata": {
        "id": "4PAf6dR6-dI8",
        "colab_type": "text"
      },
      "source": [
        "## Beispieldatensatz - Restaurant Recommendation"
      ]
    },
    {
      "cell_type": "markdown",
      "metadata": {
        "id": "DuMlueFl-l86",
        "colab_type": "text"
      },
      "source": [
        "In diesem Notebook verwenden wir für die weiteren Beispiel den Kaggle-Datensatz für die \"Restaurant Recommendation Challenge\". Er enthält Daten wie Kundenbestellungen, Restaurantbewertungen, Lieferzeiten, Ortsangaben, etc.\n",
        "\n",
        "(https://www.kaggle.com/mrmorj/restaurant-recommendation-challenge/)"
      ]
    },
    {
      "cell_type": "code",
      "metadata": {
        "id": "fHRLpqn8-kR3",
        "colab_type": "code",
        "colab": {
          "base_uri": "https://localhost:8080/",
          "height": 85
        },
        "outputId": "d2f634ce-b6bc-487e-f2f4-b471eff18b8a"
      },
      "source": [
        "# Die komprimierten Daten werden aus einem Repo gelesen\n",
        "orders = pd.read_csv(\"https://github.com/thomas-bierhance-exxcellent/data-wrangling-praktikum/raw/master/orders.csv.xz\", index_col=0)\n",
        "customers = pd.read_csv(\"https://github.com/thomas-bierhance-exxcellent/data-wrangling-praktikum/raw/master/customers.csv.xz\", index_col=0)\n",
        "locations = pd.read_csv(\"https://github.com/thomas-bierhance-exxcellent/data-wrangling-praktikum/raw/master/locations.csv.xz\", index_col=0)\n",
        "vendors = pd.read_csv(\"https://github.com/thomas-bierhance-exxcellent/data-wrangling-praktikum/raw/master/vendors.csv.xz\", index_col=0)"
      ],
      "execution_count": null,
      "outputs": [
        {
          "output_type": "stream",
          "text": [
            "/usr/local/lib/python3.6/dist-packages/IPython/core/interactiveshell.py:2718: DtypeWarning:\n",
            "\n",
            "Columns (8,9,11,12,13) have mixed types.Specify dtype option on import or set low_memory=False.\n",
            "\n"
          ],
          "name": "stderr"
        }
      ]
    },
    {
      "cell_type": "code",
      "metadata": {
        "id": "qDjLGFQD_xjn",
        "colab_type": "code",
        "colab": {}
      },
      "source": [
        "orders"
      ],
      "execution_count": null,
      "outputs": []
    },
    {
      "cell_type": "code",
      "metadata": {
        "id": "8ALTDeF1qVIR",
        "colab_type": "code",
        "colab": {}
      },
      "source": [
        "orders['delivery_date'].unique()"
      ],
      "execution_count": null,
      "outputs": []
    },
    {
      "cell_type": "code",
      "metadata": {
        "id": "floBwl2A_rRh",
        "colab_type": "code",
        "colab": {}
      },
      "source": [
        "customers"
      ],
      "execution_count": null,
      "outputs": []
    },
    {
      "cell_type": "code",
      "metadata": {
        "id": "D12nIyt1_yRg",
        "colab_type": "code",
        "colab": {}
      },
      "source": [
        "locations"
      ],
      "execution_count": null,
      "outputs": []
    },
    {
      "cell_type": "code",
      "metadata": {
        "id": "QhWSKbf4_yUa",
        "colab_type": "code",
        "colab": {}
      },
      "source": [
        "vendors"
      ],
      "execution_count": null,
      "outputs": []
    },
    {
      "cell_type": "code",
      "metadata": {
        "id": "12ZwpAzVfUia",
        "colab_type": "code",
        "colab": {}
      },
      "source": [
        "# TODO\n",
        "revenueDf = orders.loc[:,['vendor_id', 'grand_total']].dropna()\n",
        "revenueDf.groupby('vendor_id').sum()"
      ],
      "execution_count": null,
      "outputs": []
    },
    {
      "cell_type": "code",
      "metadata": {
        "id": "NC4zJ9gegG0D",
        "colab_type": "code",
        "colab": {}
      },
      "source": [
        "vendors.loc[:,['vendor_id','vendor_rating']].dropna()"
      ],
      "execution_count": null,
      "outputs": []
    },
    {
      "cell_type": "markdown",
      "metadata": {
        "id": "soYt-Qt3BaSk",
        "colab_type": "text"
      },
      "source": [
        "\n",
        "Wir werden im Folgenden Schritt für Schritt eine Dash-App bauen, die folgende Funktionalitäten enthält:\n",
        "\n",
        "*  Korrelation zwischen zwei Attributen, z.b. Restaurantbewertung und durchschnittliche Lieferzeit. Im weiteren Verlauf sollen die Attribute frei auswählbar sein.\n",
        "*  Anzeige einer Kundenliste. Die Kundeneinträge sollen selektierbar sein, woraufhin eine List mit den Bestellungen des jeweiligen Kunden angezeigt wird.\n",
        "*  Eine Liste mit den Restaurants, nach Umsatz sortiert. Wird ein Restaurant selektiert, wird dessen Umsatz als Graph in einem separaten Feld angezeigt.\n",
        "* Diverse Filterungsmöglichkeiten für die Listen.\n",
        "\n",
        "Zunächst erstellen wir einen einfachen Graphen auf Basis des ersten App-Beispiels oben. Als Einstieg untersuchen wir die Korrelation zwischen **vendor_rating** und und **delivery_time** aus der **orders**-Tabelle."
      ]
    },
    {
      "cell_type": "code",
      "metadata": {
        "id": "U_Yh3wRMLXEj",
        "colab_type": "code",
        "colab": {}
      },
      "source": [
        "# Relevante Spalten auswählen, Zeilen mit NaN-Werten entfernen\n",
        "corrDf = orders.loc[:,['vendor_rating', 'delivery_time']].dropna()\n",
        "# Die Spalte delivery_time enthält zusätzlich zu den Zeiten auch Datumseinträge. Diese interessieren uns momentan nicht,\n",
        "# daher entfernen wir sie\n",
        "corrDf['delivery_time'] = corrDf['delivery_time'].apply(lambda x: x.split(' ')[1])\n",
        "corrDf = corrDf.sort_values(by=['delivery_time'])\n",
        "corrDf = corrDf[(corrDf['vendor_rating'] > 0.0) & (corrDf['delivery_time'] != '00:00:00')]"
      ],
      "execution_count": null,
      "outputs": []
    },
    {
      "cell_type": "code",
      "metadata": {
        "id": "UeXcX4QFcO26",
        "colab_type": "code",
        "colab": {}
      },
      "source": [
        "# Relevante Spalten auswählen, Zeilen mit NaN-Werten entfernen\n",
        "corrDf = orders.loc[:,['driver_rating', 'delivery_time']].dropna()\n",
        "# Die Spalte delivery_time enthält zusätzlich zu den Zeiten auch Datumseinträge. Diese interessieren uns momentan nicht,\n",
        "# daher entfernen wir sie\n",
        "corrDf['delivery_time'] = corrDf['delivery_time'].apply(lambda x: x.split(' ')[1])\n",
        "corrDf = corrDf.sort_values(by=['delivery_time'])\n",
        "corrDf = corrDf[(corrDf['driver_rating'] > 0.0) & (corrDf['delivery_time'] != '00:00:00')]"
      ],
      "execution_count": null,
      "outputs": []
    },
    {
      "cell_type": "code",
      "metadata": {
        "id": "KCJhSTbVNBMF",
        "colab_type": "code",
        "colab": {
          "base_uri": "https://localhost:8080/",
          "height": 419
        },
        "outputId": "6fe0ca81-c730-4050-cc07-7fefb7f9a655"
      },
      "source": [
        "# Relevante Spalten auswählen, Zeilen mit NaN-Werten entfernen\n",
        "corrDf = orders.loc[:,['delivery_distance', 'delivery_time']].dropna()\n",
        "# Die Spalte delivery_time enthält zusätzlich zu den Zeiten auch Datumseinträge. Diese interessieren uns momentan nicht,\n",
        "# daher entfernen wir sie\n",
        "corrDf['delivery_time'] = corrDf['delivery_time'].apply(lambda x: x.split(' ')[1])\n",
        "corrDf = corrDf.sort_values(by=['delivery_time'])\n",
        "corrDf = corrDf[(corrDf['delivery_distance'] > 0.0) & (corrDf['delivery_time'] != '00:00:00')]\n",
        "corrDf"
      ],
      "execution_count": null,
      "outputs": [
        {
          "output_type": "execute_result",
          "data": {
            "text/html": [
              "<div>\n",
              "<style scoped>\n",
              "    .dataframe tbody tr th:only-of-type {\n",
              "        vertical-align: middle;\n",
              "    }\n",
              "\n",
              "    .dataframe tbody tr th {\n",
              "        vertical-align: top;\n",
              "    }\n",
              "\n",
              "    .dataframe thead th {\n",
              "        text-align: right;\n",
              "    }\n",
              "</style>\n",
              "<table border=\"1\" class=\"dataframe\">\n",
              "  <thead>\n",
              "    <tr style=\"text-align: right;\">\n",
              "      <th></th>\n",
              "      <th>delivery_distance</th>\n",
              "      <th>delivery_time</th>\n",
              "    </tr>\n",
              "  </thead>\n",
              "  <tbody>\n",
              "    <tr>\n",
              "      <th>55337</th>\n",
              "      <td>6.08</td>\n",
              "      <td>00:01:00</td>\n",
              "    </tr>\n",
              "    <tr>\n",
              "      <th>61495</th>\n",
              "      <td>14.51</td>\n",
              "      <td>00:02:00</td>\n",
              "    </tr>\n",
              "    <tr>\n",
              "      <th>58666</th>\n",
              "      <td>4.78</td>\n",
              "      <td>00:02:00</td>\n",
              "    </tr>\n",
              "    <tr>\n",
              "      <th>76044</th>\n",
              "      <td>9.43</td>\n",
              "      <td>00:04:00</td>\n",
              "    </tr>\n",
              "    <tr>\n",
              "      <th>67832</th>\n",
              "      <td>7.99</td>\n",
              "      <td>00:05:00</td>\n",
              "    </tr>\n",
              "    <tr>\n",
              "      <th>...</th>\n",
              "      <td>...</td>\n",
              "      <td>...</td>\n",
              "    </tr>\n",
              "    <tr>\n",
              "      <th>109182</th>\n",
              "      <td>2.85</td>\n",
              "      <td>23:59:00</td>\n",
              "    </tr>\n",
              "    <tr>\n",
              "      <th>121412</th>\n",
              "      <td>5.25</td>\n",
              "      <td>23:59:00</td>\n",
              "    </tr>\n",
              "    <tr>\n",
              "      <th>133940</th>\n",
              "      <td>9.19</td>\n",
              "      <td>23:59:00</td>\n",
              "    </tr>\n",
              "    <tr>\n",
              "      <th>129934</th>\n",
              "      <td>11.03</td>\n",
              "      <td>23:59:00</td>\n",
              "    </tr>\n",
              "    <tr>\n",
              "      <th>118580</th>\n",
              "      <td>5.84</td>\n",
              "      <td>23:59:00</td>\n",
              "    </tr>\n",
              "  </tbody>\n",
              "</table>\n",
              "<p>2734 rows × 2 columns</p>\n",
              "</div>"
            ],
            "text/plain": [
              "        delivery_distance delivery_time\n",
              "55337                6.08      00:01:00\n",
              "61495               14.51      00:02:00\n",
              "58666                4.78      00:02:00\n",
              "76044                9.43      00:04:00\n",
              "67832                7.99      00:05:00\n",
              "...                   ...           ...\n",
              "109182               2.85      23:59:00\n",
              "121412               5.25      23:59:00\n",
              "133940               9.19      23:59:00\n",
              "129934              11.03      23:59:00\n",
              "118580               5.84      23:59:00\n",
              "\n",
              "[2734 rows x 2 columns]"
            ]
          },
          "metadata": {
            "tags": []
          },
          "execution_count": 42
        }
      ]
    },
    {
      "cell_type": "code",
      "metadata": {
        "id": "02qK_rkkE4XR",
        "colab_type": "code",
        "colab": {
          "base_uri": "https://localhost:8080/",
          "height": 671
        },
        "outputId": "3e744998-6378-4df6-d618-0a77b67a1a40"
      },
      "source": [
        "app = JupyterDash(__name__)\n",
        "df = corrDf\n",
        "# Scatterplot erzeugen\n",
        "fig = px.scatter(df, x=\"delivery_time\", y=\"delivery_distance\")\n",
        "\n",
        "app.layout = html.Div(children=[\n",
        "    html.H1(children='Restaurant Recommendation App'),\n",
        "\n",
        "    html.Div(children='''\n",
        "        Ein einfacher Plot:\n",
        "    '''),\n",
        "\n",
        "    dcc.Graph(\n",
        "        id='example-graph',\n",
        "        figure=fig\n",
        "    )\n",
        "])\n",
        "\n",
        "app.run_server(mode='inline')"
      ],
      "execution_count": null,
      "outputs": [
        {
          "output_type": "display_data",
          "data": {
            "application/javascript": [
              "(async (port, path, width, height, cache, element) => {\n",
              "    if (!google.colab.kernel.accessAllowed && !cache) {\n",
              "      return;\n",
              "    }\n",
              "    element.appendChild(document.createTextNode(''));\n",
              "    const url = await google.colab.kernel.proxyPort(port, {cache});\n",
              "    const iframe = document.createElement('iframe');\n",
              "    iframe.src = url + path;\n",
              "    iframe.height = height;\n",
              "    iframe.width = width;\n",
              "    iframe.style.border = 0;\n",
              "    element.appendChild(iframe);\n",
              "  })(8050, \"/\", \"100%\", 650, false, window.element)"
            ],
            "text/plain": [
              "<IPython.core.display.Javascript object>"
            ]
          },
          "metadata": {
            "tags": []
          }
        }
      ]
    },
    {
      "cell_type": "code",
      "metadata": {
        "id": "GhByjfmWfkLd",
        "colab_type": "code",
        "colab": {
          "base_uri": "https://localhost:8080/",
          "height": 419
        },
        "outputId": "e6af851e-ba01-48c2-cd97-3b91215ac506"
      },
      "source": [
        "# Relevante Spalten auswählen, Zeilen mit NaN-Werten entfernen\n",
        "corrDf = orders.loc[:,['vendor_rating', 'driver_rating', 'delivery_time']].dropna()\n",
        "# Die Spalte delivery_time enthält zusätzlich zu den Zeiten auch Datumseinträge. Diese interessieren uns momentan nicht,\n",
        "# daher entfernen wir sie\n",
        "corrDf['delivery_time'] = corrDf['delivery_time'].apply(lambda x: x.split(' ')[1])\n",
        "corrDf = corrDf.sort_values(by=['delivery_time'])\n",
        "corrDf = corrDf[(corrDf['vendor_rating'] > 0.0) & (corrDf['driver_rating'] > 0.0) & (corrDf['delivery_time'] != '00:00:00')]\n",
        "corrDf"
      ],
      "execution_count": null,
      "outputs": [
        {
          "output_type": "execute_result",
          "data": {
            "text/html": [
              "<div>\n",
              "<style scoped>\n",
              "    .dataframe tbody tr th:only-of-type {\n",
              "        vertical-align: middle;\n",
              "    }\n",
              "\n",
              "    .dataframe tbody tr th {\n",
              "        vertical-align: top;\n",
              "    }\n",
              "\n",
              "    .dataframe thead th {\n",
              "        text-align: right;\n",
              "    }\n",
              "</style>\n",
              "<table border=\"1\" class=\"dataframe\">\n",
              "  <thead>\n",
              "    <tr style=\"text-align: right;\">\n",
              "      <th></th>\n",
              "      <th>vendor_rating</th>\n",
              "      <th>driver_rating</th>\n",
              "      <th>delivery_time</th>\n",
              "    </tr>\n",
              "  </thead>\n",
              "  <tbody>\n",
              "    <tr>\n",
              "      <th>67832</th>\n",
              "      <td>5.0</td>\n",
              "      <td>5.0</td>\n",
              "      <td>00:05:00</td>\n",
              "    </tr>\n",
              "    <tr>\n",
              "      <th>108308</th>\n",
              "      <td>5.0</td>\n",
              "      <td>5.0</td>\n",
              "      <td>00:05:00</td>\n",
              "    </tr>\n",
              "    <tr>\n",
              "      <th>74655</th>\n",
              "      <td>5.0</td>\n",
              "      <td>5.0</td>\n",
              "      <td>00:07:00</td>\n",
              "    </tr>\n",
              "    <tr>\n",
              "      <th>66576</th>\n",
              "      <td>3.0</td>\n",
              "      <td>5.0</td>\n",
              "      <td>00:10:00</td>\n",
              "    </tr>\n",
              "    <tr>\n",
              "      <th>91800</th>\n",
              "      <td>5.0</td>\n",
              "      <td>5.0</td>\n",
              "      <td>00:12:00</td>\n",
              "    </tr>\n",
              "    <tr>\n",
              "      <th>...</th>\n",
              "      <td>...</td>\n",
              "      <td>...</td>\n",
              "      <td>...</td>\n",
              "    </tr>\n",
              "    <tr>\n",
              "      <th>72670</th>\n",
              "      <td>4.0</td>\n",
              "      <td>4.0</td>\n",
              "      <td>23:52:00</td>\n",
              "    </tr>\n",
              "    <tr>\n",
              "      <th>109181</th>\n",
              "      <td>5.0</td>\n",
              "      <td>5.0</td>\n",
              "      <td>23:56:00</td>\n",
              "    </tr>\n",
              "    <tr>\n",
              "      <th>70790</th>\n",
              "      <td>5.0</td>\n",
              "      <td>5.0</td>\n",
              "      <td>23:57:00</td>\n",
              "    </tr>\n",
              "    <tr>\n",
              "      <th>105326</th>\n",
              "      <td>5.0</td>\n",
              "      <td>5.0</td>\n",
              "      <td>23:58:00</td>\n",
              "    </tr>\n",
              "    <tr>\n",
              "      <th>121412</th>\n",
              "      <td>5.0</td>\n",
              "      <td>5.0</td>\n",
              "      <td>23:59:00</td>\n",
              "    </tr>\n",
              "  </tbody>\n",
              "</table>\n",
              "<p>676 rows × 3 columns</p>\n",
              "</div>"
            ],
            "text/plain": [
              "        vendor_rating  driver_rating delivery_time\n",
              "67832             5.0            5.0      00:05:00\n",
              "108308            5.0            5.0      00:05:00\n",
              "74655             5.0            5.0      00:07:00\n",
              "66576             3.0            5.0      00:10:00\n",
              "91800             5.0            5.0      00:12:00\n",
              "...               ...            ...           ...\n",
              "72670             4.0            4.0      23:52:00\n",
              "109181            5.0            5.0      23:56:00\n",
              "70790             5.0            5.0      23:57:00\n",
              "105326            5.0            5.0      23:58:00\n",
              "121412            5.0            5.0      23:59:00\n",
              "\n",
              "[676 rows x 3 columns]"
            ]
          },
          "metadata": {
            "tags": []
          },
          "execution_count": 49
        }
      ]
    },
    {
      "cell_type": "code",
      "metadata": {
        "id": "j1xUxFpsgA-z",
        "colab_type": "code",
        "colab": {
          "base_uri": "https://localhost:8080/",
          "height": 671
        },
        "outputId": "3454d250-f36c-4074-8fd0-65c80c7f5daa"
      },
      "source": [
        "app = JupyterDash(__name__)\n",
        "df = corrDf\n",
        "# 3D Plot\n",
        "fig = px.scatter_3d(df, x=\"vendor_rating\", y=\"driver_rating\", z=\"delivery_time\")\n",
        "\n",
        "app.layout = html.Div(children=[\n",
        "    html.H1(children='Restaurant Recommendation App'),\n",
        "\n",
        "    html.Div(children='''\n",
        "        3D Plot:\n",
        "    '''),\n",
        "\n",
        "    dcc.Graph(\n",
        "        id='example-graph',\n",
        "        figure=fig\n",
        "    )\n",
        "])\n",
        "\n",
        "app.run_server(mode='inline')"
      ],
      "execution_count": null,
      "outputs": [
        {
          "output_type": "display_data",
          "data": {
            "application/javascript": [
              "(async (port, path, width, height, cache, element) => {\n",
              "    if (!google.colab.kernel.accessAllowed && !cache) {\n",
              "      return;\n",
              "    }\n",
              "    element.appendChild(document.createTextNode(''));\n",
              "    const url = await google.colab.kernel.proxyPort(port, {cache});\n",
              "    const iframe = document.createElement('iframe');\n",
              "    iframe.src = url + path;\n",
              "    iframe.height = height;\n",
              "    iframe.width = width;\n",
              "    iframe.style.border = 0;\n",
              "    element.appendChild(iframe);\n",
              "  })(8050, \"/\", \"100%\", 650, false, window.element)"
            ],
            "text/plain": [
              "<IPython.core.display.Javascript object>"
            ]
          },
          "metadata": {
            "tags": []
          }
        }
      ]
    }
  ]
}