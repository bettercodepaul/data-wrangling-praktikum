{
  "nbformat": 4,
  "nbformat_minor": 0,
  "metadata": {
    "colab": {
      "name": "pandasNotebook.ipynb",
      "provenance": [],
      "collapsed_sections": [
        "uTK7Lkt7CA8o",
        "lAXvmrIhF8C5",
        "IuvHHv9a56ym",
        "1Rc01SAFMH_6",
        "Rix2QHNfjJRW",
        "2uHSJi7yc1ku"
      ],
      "toc_visible": true
    },
    "kernelspec": {
      "name": "python3",
      "display_name": "Python 3"
    }
  },
  "cells": [
    {
      "cell_type": "code",
      "metadata": {
        "id": "5EYBn6kZJVxV",
        "colab_type": "code",
        "colab": {}
      },
      "source": [
        "import urllib.request\n",
        "urllib.request.urlcleanup()"
      ],
      "execution_count": null,
      "outputs": []
    },
    {
      "cell_type": "markdown",
      "metadata": {
        "id": "MFnswkLeOKXj",
        "colab_type": "text"
      },
      "source": [
        "TODO Einführung in Colab (analog zu dem Teil von Muriel für den eXXcellent workshop)\n",
        "\n",
        "# Pandas Einführung\n",
        "\n",
        "Pandas ist *die* Standard-Python-Bibliothek für die grundlegende Verarbeitung und Analyse von Daten.\n",
        "\n",
        "In diesem Notebook werden die wichtigsten Pandas-Konzepte und -Funktionen vorgestellt. Die Hauptquelle für diese Einführung ist die offizielle Pandas-Webseite, die auch weiterführende Informationen enthält:\n",
        "\n",
        "https://pandas.pydata.org/pandas-docs/stable/user_guide/\n",
        "\n",
        "In jeder Sektion ist der entsprechende Teil der Dokumentation verlinkt.\n"
      ]
    },
    {
      "cell_type": "code",
      "metadata": {
        "id": "wVyKWjYeb7QD",
        "colab_type": "code",
        "colab": {}
      },
      "source": [
        "# Die Module Pandas und Numpy (bietet unterstützende, numerische Funktionen) laden\n",
        "import pandas as pd\n",
        "import numpy as np"
      ],
      "execution_count": null,
      "outputs": []
    },
    {
      "cell_type": "markdown",
      "metadata": {
        "id": "4bseLXlca51_",
        "colab_type": "text"
      },
      "source": [
        "## Einfache Datenstrukturen in Python\n",
        "\n",
        "Zunächst ein paar Basics mit Python. Eine einfache Liste wird in Python mit eckigen Klammern angelegt."
      ]
    },
    {
      "cell_type": "code",
      "metadata": {
        "id": "OCge_EE7QWph",
        "colab_type": "code",
        "colab": {}
      },
      "source": [
        "some_ua_characters = ['Vanya', 'Luther', 'Diego', 'Allison', 'Klaus', 'Five']\n",
        "some_primes = [1, 2, 3, 5, 7, 11, 13]"
      ],
      "execution_count": null,
      "outputs": []
    },
    {
      "cell_type": "markdown",
      "metadata": {
        "id": "n5bDuS89Q7Fa",
        "colab_type": "text"
      },
      "source": [
        "Auf die einzelnen Elemente einer Liste wird mit dem Index-Operator `[]` unter Angabe der Position des Elements zugegriffen."
      ]
    },
    {
      "cell_type": "code",
      "metadata": {
        "id": "x4HOdp5qQ3jr",
        "colab_type": "code",
        "colab": {
          "base_uri": "https://localhost:8080/",
          "height": 35
        },
        "outputId": "f22b8e13-ff44-483c-b363-17d411e9767e"
      },
      "source": [
        "some_ua_characters[0]"
      ],
      "execution_count": null,
      "outputs": [
        {
          "output_type": "execute_result",
          "data": {
            "application/vnd.google.colaboratory.intrinsic+json": {
              "type": "string"
            },
            "text/plain": [
              "'Vanya'"
            ]
          },
          "metadata": {
            "tags": []
          },
          "execution_count": 3
        }
      ]
    },
    {
      "cell_type": "markdown",
      "metadata": {
        "id": "9Rnkhq_Pk9_L",
        "colab_type": "text"
      },
      "source": [
        "Die Länge einer Liste wird mit der Funktion `len` zurückgegeben."
      ]
    },
    {
      "cell_type": "code",
      "metadata": {
        "id": "IaLWApCwlCes",
        "colab_type": "code",
        "colab": {
          "base_uri": "https://localhost:8080/",
          "height": 34
        },
        "outputId": "95db3950-70e0-4d6d-9994-13315ec2cd23"
      },
      "source": [
        "len(some_primes)"
      ],
      "execution_count": null,
      "outputs": [
        {
          "output_type": "execute_result",
          "data": {
            "text/plain": [
              "7"
            ]
          },
          "metadata": {
            "tags": []
          },
          "execution_count": 4
        }
      ]
    },
    {
      "cell_type": "markdown",
      "metadata": {
        "id": "cfcrIiYaQ6Jc",
        "colab_type": "text"
      },
      "source": [
        "Eine Zuordnungstabelle mit Paaren aus Schlüssel und Wert (in Python Dictionary genannt) wird mit geschweiften Klammern angelegt."
      ]
    },
    {
      "cell_type": "code",
      "metadata": {
        "id": "Cuke_cScTXBW",
        "colab_type": "code",
        "colab": {
          "base_uri": "https://localhost:8080/",
          "height": 85
        },
        "outputId": "3082c801-4f15-4f70-86e5-40c524f1d477"
      },
      "source": [
        "hans = {'first name': 'Hans', 'last name': 'Mustermann', 'age': 42, 'city': 'Bielefeld'}\n",
        "hans"
      ],
      "execution_count": null,
      "outputs": [
        {
          "output_type": "execute_result",
          "data": {
            "text/plain": [
              "{'age': 42,\n",
              " 'city': 'Bielefeld',\n",
              " 'first name': 'Hans',\n",
              " 'last name': 'Mustermann'}"
            ]
          },
          "metadata": {
            "tags": []
          },
          "execution_count": 5
        }
      ]
    },
    {
      "cell_type": "markdown",
      "metadata": {
        "id": "N8vAHcxiT91W",
        "colab_type": "text"
      },
      "source": [
        "Auch hier kannst Du mit dem Index-Operator auf die Werte der einzelnen Elemente zugreifen; aber unter Angabe des Schlüssels statt der Position."
      ]
    },
    {
      "cell_type": "code",
      "metadata": {
        "id": "59_lCNP8T-vO",
        "colab_type": "code",
        "colab": {
          "base_uri": "https://localhost:8080/",
          "height": 34
        },
        "outputId": "3483294f-4dd6-4ef6-cc90-68c4df4e53e6"
      },
      "source": [
        "hans_alter = hans['age']\n",
        "hans_vorname = hans['first name']\n",
        "print(\"%s ist %s Jahre alt.\" % (hans_vorname, hans_alter))"
      ],
      "execution_count": null,
      "outputs": [
        {
          "output_type": "stream",
          "text": [
            "Hans ist 42 Jahre alt.\n"
          ],
          "name": "stdout"
        }
      ]
    },
    {
      "cell_type": "markdown",
      "metadata": {
        "id": "11fD13ggVbYF",
        "colab_type": "text"
      },
      "source": [
        "Welchen Datentyp eine Variable hat, kannst Du mit der Funktion ``type`` bestimmen.\n",
        "\n"
      ]
    },
    {
      "cell_type": "code",
      "metadata": {
        "id": "TPMKGGw0VIfV",
        "colab_type": "code",
        "colab": {
          "base_uri": "https://localhost:8080/",
          "height": 85
        },
        "outputId": "13cc3963-95cf-4d81-f712-a7a435c82406"
      },
      "source": [
        "print(type(some_primes))\n",
        "print(type(hans))\n",
        "print(type('Hans'))\n",
        "print(type(1.5834645))"
      ],
      "execution_count": null,
      "outputs": [
        {
          "output_type": "stream",
          "text": [
            "<class 'list'>\n",
            "<class 'dict'>\n",
            "<class 'str'>\n",
            "<class 'float'>\n"
          ],
          "name": "stdout"
        }
      ]
    },
    {
      "cell_type": "markdown",
      "metadata": {
        "id": "USDqF84oXRMt",
        "colab_type": "text"
      },
      "source": [
        "## DataFrames und Series\n",
        "\n",
        "Der wichtigste Datentyp in Pandas ist der DataFrame. Ein DataFrame ist eine Tabelle mit Zeilen und Spalten.\n",
        "\n",
        "In den meisten Fällen wirst Du einen DataFrame aus einer Datei einlesen oder von einer Datenbank abfragen.\n",
        "\n",
        "Ein DataFrame kann aber auch zu Fuß z.B. auf Basis von Spalten mit einem Dictionary erzeugt werden. Im Dictionary ist der Schlüssel der Spaltenname und der Wert sind die Spalteneinträge als Liste."
      ]
    },
    {
      "cell_type": "code",
      "metadata": {
        "id": "PC_V9DoaXxpD",
        "colab_type": "code",
        "colab": {
          "base_uri": "https://localhost:8080/",
          "height": 235
        },
        "outputId": "a8644ffb-4153-4cd9-e361-bd9838e32fea"
      },
      "source": [
        "df = pd.DataFrame({'character': ['Vanya', 'Luther', 'Diego', 'Allison', 'Klaus', 'Five'],\n",
        "                   'actor': ['Ellen Page', 'Tom Hopper', 'David Castañeda', 'Emmy Raver-Lampman', 'Robert Sheehan', 'Aidan Gallagher'],\n",
        "                   'year_of_birth': [1987, 1985, 1989, 1988, 1988, 2003]})\n",
        "df"
      ],
      "execution_count": null,
      "outputs": [
        {
          "output_type": "execute_result",
          "data": {
            "text/html": [
              "<div>\n",
              "<style scoped>\n",
              "    .dataframe tbody tr th:only-of-type {\n",
              "        vertical-align: middle;\n",
              "    }\n",
              "\n",
              "    .dataframe tbody tr th {\n",
              "        vertical-align: top;\n",
              "    }\n",
              "\n",
              "    .dataframe thead th {\n",
              "        text-align: right;\n",
              "    }\n",
              "</style>\n",
              "<table border=\"1\" class=\"dataframe\">\n",
              "  <thead>\n",
              "    <tr style=\"text-align: right;\">\n",
              "      <th></th>\n",
              "      <th>character</th>\n",
              "      <th>actor</th>\n",
              "      <th>year_of_birth</th>\n",
              "    </tr>\n",
              "  </thead>\n",
              "  <tbody>\n",
              "    <tr>\n",
              "      <th>0</th>\n",
              "      <td>Vanya</td>\n",
              "      <td>Ellen Page</td>\n",
              "      <td>1987</td>\n",
              "    </tr>\n",
              "    <tr>\n",
              "      <th>1</th>\n",
              "      <td>Luther</td>\n",
              "      <td>Tom Hopper</td>\n",
              "      <td>1985</td>\n",
              "    </tr>\n",
              "    <tr>\n",
              "      <th>2</th>\n",
              "      <td>Diego</td>\n",
              "      <td>David Castañeda</td>\n",
              "      <td>1989</td>\n",
              "    </tr>\n",
              "    <tr>\n",
              "      <th>3</th>\n",
              "      <td>Allison</td>\n",
              "      <td>Emmy Raver-Lampman</td>\n",
              "      <td>1988</td>\n",
              "    </tr>\n",
              "    <tr>\n",
              "      <th>4</th>\n",
              "      <td>Klaus</td>\n",
              "      <td>Robert Sheehan</td>\n",
              "      <td>1988</td>\n",
              "    </tr>\n",
              "    <tr>\n",
              "      <th>5</th>\n",
              "      <td>Five</td>\n",
              "      <td>Aidan Gallagher</td>\n",
              "      <td>2003</td>\n",
              "    </tr>\n",
              "  </tbody>\n",
              "</table>\n",
              "</div>"
            ],
            "text/plain": [
              "  character               actor  year_of_birth\n",
              "0     Vanya          Ellen Page           1987\n",
              "1    Luther          Tom Hopper           1985\n",
              "2     Diego     David Castañeda           1989\n",
              "3   Allison  Emmy Raver-Lampman           1988\n",
              "4     Klaus      Robert Sheehan           1988\n",
              "5      Five     Aidan Gallagher           2003"
            ]
          },
          "metadata": {
            "tags": []
          },
          "execution_count": 8
        }
      ]
    },
    {
      "cell_type": "markdown",
      "metadata": {
        "id": "lFU1LvKeYTpw",
        "colab_type": "text"
      },
      "source": [
        "Oder du übergibst die Daten auf Basis von Zeilen (als Liste von Listen) und die Spaltennamen als ein zusätzliches Attribut."
      ]
    },
    {
      "cell_type": "code",
      "metadata": {
        "id": "dlu-pNsBYSqw",
        "colab_type": "code",
        "colab": {
          "base_uri": "https://localhost:8080/",
          "height": 235
        },
        "outputId": "17f77135-f38a-4899-cef5-c14794ea7603"
      },
      "source": [
        "df = pd.DataFrame([['Vanya', 'Ellen Page', 1987],\n",
        "                   ['Luther', 'Tom Hopper', 1985],\n",
        "                   ['Diego', 'David Castañeda', 1989],\n",
        "                   ['Allison', 'Emmy Raver-Lampman', 1988],\n",
        "                   ['Klaus', 'Robert Sheehan', 1988],\n",
        "                   ['Five', 'Aidan Gallagher', 2003]], columns=['character', 'actor', 'year_of_birth'])\n",
        "df"
      ],
      "execution_count": null,
      "outputs": [
        {
          "output_type": "execute_result",
          "data": {
            "text/html": [
              "<div>\n",
              "<style scoped>\n",
              "    .dataframe tbody tr th:only-of-type {\n",
              "        vertical-align: middle;\n",
              "    }\n",
              "\n",
              "    .dataframe tbody tr th {\n",
              "        vertical-align: top;\n",
              "    }\n",
              "\n",
              "    .dataframe thead th {\n",
              "        text-align: right;\n",
              "    }\n",
              "</style>\n",
              "<table border=\"1\" class=\"dataframe\">\n",
              "  <thead>\n",
              "    <tr style=\"text-align: right;\">\n",
              "      <th></th>\n",
              "      <th>character</th>\n",
              "      <th>actor</th>\n",
              "      <th>year_of_birth</th>\n",
              "    </tr>\n",
              "  </thead>\n",
              "  <tbody>\n",
              "    <tr>\n",
              "      <th>0</th>\n",
              "      <td>Vanya</td>\n",
              "      <td>Ellen Page</td>\n",
              "      <td>1987</td>\n",
              "    </tr>\n",
              "    <tr>\n",
              "      <th>1</th>\n",
              "      <td>Luther</td>\n",
              "      <td>Tom Hopper</td>\n",
              "      <td>1985</td>\n",
              "    </tr>\n",
              "    <tr>\n",
              "      <th>2</th>\n",
              "      <td>Diego</td>\n",
              "      <td>David Castañeda</td>\n",
              "      <td>1989</td>\n",
              "    </tr>\n",
              "    <tr>\n",
              "      <th>3</th>\n",
              "      <td>Allison</td>\n",
              "      <td>Emmy Raver-Lampman</td>\n",
              "      <td>1988</td>\n",
              "    </tr>\n",
              "    <tr>\n",
              "      <th>4</th>\n",
              "      <td>Klaus</td>\n",
              "      <td>Robert Sheehan</td>\n",
              "      <td>1988</td>\n",
              "    </tr>\n",
              "    <tr>\n",
              "      <th>5</th>\n",
              "      <td>Five</td>\n",
              "      <td>Aidan Gallagher</td>\n",
              "      <td>2003</td>\n",
              "    </tr>\n",
              "  </tbody>\n",
              "</table>\n",
              "</div>"
            ],
            "text/plain": [
              "  character               actor  year_of_birth\n",
              "0     Vanya          Ellen Page           1987\n",
              "1    Luther          Tom Hopper           1985\n",
              "2     Diego     David Castañeda           1989\n",
              "3   Allison  Emmy Raver-Lampman           1988\n",
              "4     Klaus      Robert Sheehan           1988\n",
              "5      Five     Aidan Gallagher           2003"
            ]
          },
          "metadata": {
            "tags": []
          },
          "execution_count": 9
        }
      ]
    },
    {
      "cell_type": "markdown",
      "metadata": {
        "id": "Ez4szR7AmH8E",
        "colab_type": "text"
      },
      "source": [
        "Für die Anzahl der Zeilen eines DataFrame gibt es überraschenderweise kein spezielles Attribut. Das Attribut `shape`, das sowohl die Anzahl der Zeilen als auch die Anzahl der Spalten als Tupel liefert, kannst Du alternativ nutzen."
      ]
    },
    {
      "cell_type": "code",
      "metadata": {
        "id": "vCYfJXkVmPlh",
        "colab_type": "code",
        "colab": {
          "base_uri": "https://localhost:8080/",
          "height": 34
        },
        "outputId": "76ae55bb-215f-402f-9864-409c8e217061"
      },
      "source": [
        "df.shape"
      ],
      "execution_count": null,
      "outputs": [
        {
          "output_type": "execute_result",
          "data": {
            "text/plain": [
              "(6, 3)"
            ]
          },
          "metadata": {
            "tags": []
          },
          "execution_count": 10
        }
      ]
    },
    {
      "cell_type": "code",
      "metadata": {
        "id": "UqpdtdexnBOb",
        "colab_type": "code",
        "colab": {
          "base_uri": "https://localhost:8080/",
          "height": 34
        },
        "outputId": "37953ef8-594b-4b59-bba3-3189e9f6b345"
      },
      "source": [
        "# Anzahl der Zeilen steht im ersten Element der Liste (Position=0)\n",
        "df.shape[0]"
      ],
      "execution_count": null,
      "outputs": [
        {
          "output_type": "execute_result",
          "data": {
            "text/plain": [
              "6"
            ]
          },
          "metadata": {
            "tags": []
          },
          "execution_count": 14
        }
      ]
    },
    {
      "cell_type": "markdown",
      "metadata": {
        "id": "QtpLqXtVodyl",
        "colab_type": "text"
      },
      "source": [
        "Die Spaltennamen eines DataFrame stecken im Attribut `columns`, die Datentypen der Spalten im Attribut `dtypes`. "
      ]
    },
    {
      "cell_type": "code",
      "metadata": {
        "id": "lHeh7Af1ozop",
        "colab_type": "code",
        "colab": {
          "base_uri": "https://localhost:8080/",
          "height": 34
        },
        "outputId": "f40506af-60f6-49b8-8097-dfcab3f71c4a"
      },
      "source": [
        "df.columns"
      ],
      "execution_count": null,
      "outputs": [
        {
          "output_type": "execute_result",
          "data": {
            "text/plain": [
              "Index(['character', 'actor', 'year_of_birth'], dtype='object')"
            ]
          },
          "metadata": {
            "tags": []
          },
          "execution_count": 15
        }
      ]
    },
    {
      "cell_type": "code",
      "metadata": {
        "id": "Uq2pIjLho8Bt",
        "colab_type": "code",
        "colab": {
          "base_uri": "https://localhost:8080/",
          "height": 85
        },
        "outputId": "9b2d54a3-7adb-4a02-9f27-eee2beb75cf1"
      },
      "source": [
        "df.dtypes"
      ],
      "execution_count": null,
      "outputs": [
        {
          "output_type": "execute_result",
          "data": {
            "text/plain": [
              "character        object\n",
              "actor            object\n",
              "year_of_birth     int64\n",
              "dtype: object"
            ]
          },
          "metadata": {
            "tags": []
          },
          "execution_count": 16
        }
      ]
    },
    {
      "cell_type": "markdown",
      "metadata": {
        "id": "PCuIKmPTYVZr",
        "colab_type": "text"
      },
      "source": [
        "Um einen ersten Eindruck von den Daten zu gewinnen, ist es oft hilfreich, sich die ersten paar Zeilen eines DataFrames auszugeben, was mit `head` geht. Ein paar statistische Informationen über einen DataFrame gibt die Funktion `describe` aus."
      ]
    },
    {
      "cell_type": "code",
      "metadata": {
        "id": "XjQHShgdYpTr",
        "colab_type": "code",
        "colab": {
          "base_uri": "https://localhost:8080/",
          "height": 204
        },
        "outputId": "1b9c3383-cd92-43bc-85fa-f97ab636b1c2"
      },
      "source": [
        "df.head()"
      ],
      "execution_count": null,
      "outputs": [
        {
          "output_type": "execute_result",
          "data": {
            "text/html": [
              "<div>\n",
              "<style scoped>\n",
              "    .dataframe tbody tr th:only-of-type {\n",
              "        vertical-align: middle;\n",
              "    }\n",
              "\n",
              "    .dataframe tbody tr th {\n",
              "        vertical-align: top;\n",
              "    }\n",
              "\n",
              "    .dataframe thead th {\n",
              "        text-align: right;\n",
              "    }\n",
              "</style>\n",
              "<table border=\"1\" class=\"dataframe\">\n",
              "  <thead>\n",
              "    <tr style=\"text-align: right;\">\n",
              "      <th></th>\n",
              "      <th>character</th>\n",
              "      <th>actor</th>\n",
              "      <th>year_of_birth</th>\n",
              "    </tr>\n",
              "  </thead>\n",
              "  <tbody>\n",
              "    <tr>\n",
              "      <th>0</th>\n",
              "      <td>Vanya</td>\n",
              "      <td>Ellen Page</td>\n",
              "      <td>1987</td>\n",
              "    </tr>\n",
              "    <tr>\n",
              "      <th>1</th>\n",
              "      <td>Luther</td>\n",
              "      <td>Tom Hopper</td>\n",
              "      <td>1985</td>\n",
              "    </tr>\n",
              "    <tr>\n",
              "      <th>2</th>\n",
              "      <td>Diego</td>\n",
              "      <td>David Castañeda</td>\n",
              "      <td>1989</td>\n",
              "    </tr>\n",
              "    <tr>\n",
              "      <th>3</th>\n",
              "      <td>Allison</td>\n",
              "      <td>Emmy Raver-Lampman</td>\n",
              "      <td>1988</td>\n",
              "    </tr>\n",
              "    <tr>\n",
              "      <th>4</th>\n",
              "      <td>Klaus</td>\n",
              "      <td>Robert Sheehan</td>\n",
              "      <td>1988</td>\n",
              "    </tr>\n",
              "  </tbody>\n",
              "</table>\n",
              "</div>"
            ],
            "text/plain": [
              "  character               actor  year_of_birth\n",
              "0     Vanya          Ellen Page           1987\n",
              "1    Luther          Tom Hopper           1985\n",
              "2     Diego     David Castañeda           1989\n",
              "3   Allison  Emmy Raver-Lampman           1988\n",
              "4     Klaus      Robert Sheehan           1988"
            ]
          },
          "metadata": {
            "tags": []
          },
          "execution_count": 17
        }
      ]
    },
    {
      "cell_type": "code",
      "metadata": {
        "id": "hj68IKU0YrTY",
        "colab_type": "code",
        "colab": {
          "base_uri": "https://localhost:8080/",
          "height": 390
        },
        "outputId": "bc957f9f-594f-45d6-ef78-6b42c9b211b4"
      },
      "source": [
        "df.describe(include='all')"
      ],
      "execution_count": null,
      "outputs": [
        {
          "output_type": "execute_result",
          "data": {
            "text/html": [
              "<div>\n",
              "<style scoped>\n",
              "    .dataframe tbody tr th:only-of-type {\n",
              "        vertical-align: middle;\n",
              "    }\n",
              "\n",
              "    .dataframe tbody tr th {\n",
              "        vertical-align: top;\n",
              "    }\n",
              "\n",
              "    .dataframe thead th {\n",
              "        text-align: right;\n",
              "    }\n",
              "</style>\n",
              "<table border=\"1\" class=\"dataframe\">\n",
              "  <thead>\n",
              "    <tr style=\"text-align: right;\">\n",
              "      <th></th>\n",
              "      <th>character</th>\n",
              "      <th>actor</th>\n",
              "      <th>year_of_birth</th>\n",
              "    </tr>\n",
              "  </thead>\n",
              "  <tbody>\n",
              "    <tr>\n",
              "      <th>count</th>\n",
              "      <td>6</td>\n",
              "      <td>6</td>\n",
              "      <td>6.000000</td>\n",
              "    </tr>\n",
              "    <tr>\n",
              "      <th>unique</th>\n",
              "      <td>6</td>\n",
              "      <td>6</td>\n",
              "      <td>NaN</td>\n",
              "    </tr>\n",
              "    <tr>\n",
              "      <th>top</th>\n",
              "      <td>Klaus</td>\n",
              "      <td>Robert Sheehan</td>\n",
              "      <td>NaN</td>\n",
              "    </tr>\n",
              "    <tr>\n",
              "      <th>freq</th>\n",
              "      <td>1</td>\n",
              "      <td>1</td>\n",
              "      <td>NaN</td>\n",
              "    </tr>\n",
              "    <tr>\n",
              "      <th>mean</th>\n",
              "      <td>NaN</td>\n",
              "      <td>NaN</td>\n",
              "      <td>1990.000000</td>\n",
              "    </tr>\n",
              "    <tr>\n",
              "      <th>std</th>\n",
              "      <td>NaN</td>\n",
              "      <td>NaN</td>\n",
              "      <td>6.511528</td>\n",
              "    </tr>\n",
              "    <tr>\n",
              "      <th>min</th>\n",
              "      <td>NaN</td>\n",
              "      <td>NaN</td>\n",
              "      <td>1985.000000</td>\n",
              "    </tr>\n",
              "    <tr>\n",
              "      <th>25%</th>\n",
              "      <td>NaN</td>\n",
              "      <td>NaN</td>\n",
              "      <td>1987.250000</td>\n",
              "    </tr>\n",
              "    <tr>\n",
              "      <th>50%</th>\n",
              "      <td>NaN</td>\n",
              "      <td>NaN</td>\n",
              "      <td>1988.000000</td>\n",
              "    </tr>\n",
              "    <tr>\n",
              "      <th>75%</th>\n",
              "      <td>NaN</td>\n",
              "      <td>NaN</td>\n",
              "      <td>1988.750000</td>\n",
              "    </tr>\n",
              "    <tr>\n",
              "      <th>max</th>\n",
              "      <td>NaN</td>\n",
              "      <td>NaN</td>\n",
              "      <td>2003.000000</td>\n",
              "    </tr>\n",
              "  </tbody>\n",
              "</table>\n",
              "</div>"
            ],
            "text/plain": [
              "       character           actor  year_of_birth\n",
              "count          6               6       6.000000\n",
              "unique         6               6            NaN\n",
              "top        Klaus  Robert Sheehan            NaN\n",
              "freq           1               1            NaN\n",
              "mean         NaN             NaN    1990.000000\n",
              "std          NaN             NaN       6.511528\n",
              "min          NaN             NaN    1985.000000\n",
              "25%          NaN             NaN    1987.250000\n",
              "50%          NaN             NaN    1988.000000\n",
              "75%          NaN             NaN    1988.750000\n",
              "max          NaN             NaN    2003.000000"
            ]
          },
          "metadata": {
            "tags": []
          },
          "execution_count": 18
        }
      ]
    },
    {
      "cell_type": "markdown",
      "metadata": {
        "id": "HhAJ2bWaaHVw",
        "colab_type": "text"
      },
      "source": [
        "Um von einem DataFrame eine einzelne Spalte zu erhalten, wird der Index-Operator mit Angabe des Spaltennamens benutzt."
      ]
    },
    {
      "cell_type": "code",
      "metadata": {
        "id": "HoNqTtJ_aXQs",
        "colab_type": "code",
        "colab": {
          "base_uri": "https://localhost:8080/",
          "height": 136
        },
        "outputId": "37cb8104-154a-4c9e-c456-08367db413b9"
      },
      "source": [
        "df['actor']"
      ],
      "execution_count": null,
      "outputs": [
        {
          "output_type": "execute_result",
          "data": {
            "text/plain": [
              "0            Ellen Page\n",
              "1            Tom Hopper\n",
              "2       David Castañeda\n",
              "3    Emmy Raver-Lampman\n",
              "4        Robert Sheehan\n",
              "5       Aidan Gallagher\n",
              "Name: actor, dtype: object"
            ]
          },
          "metadata": {
            "tags": []
          },
          "execution_count": 19
        }
      ]
    },
    {
      "cell_type": "markdown",
      "metadata": {
        "id": "5mEeZnU_ZokL",
        "colab_type": "text"
      },
      "source": [
        "Eine Spalte wird vom DataFrame nicht als einfache Liste zurückgeben, sondern als Objekt der Klasse *Series*, die viele nützliche Attribute und Funktionen bereitstellt, z.B. die Anzahl der Werte (`size`), Mittelwert (`mean`), kleinster Wert (`min`), größter Wert (`max`), die unterschiedlichen Werte (`unique`) oder deren Anzahl (`nunique`)."
      ]
    },
    {
      "cell_type": "code",
      "metadata": {
        "id": "20kjtjgnZbvw",
        "colab_type": "code",
        "colab": {
          "base_uri": "https://localhost:8080/",
          "height": 34
        },
        "outputId": "a70efc98-765e-45c6-e0f4-5cbaf5292bba"
      },
      "source": [
        "type(df['actor'])"
      ],
      "execution_count": null,
      "outputs": [
        {
          "output_type": "execute_result",
          "data": {
            "text/plain": [
              "pandas.core.series.Series"
            ]
          },
          "metadata": {
            "tags": []
          },
          "execution_count": 20
        }
      ]
    },
    {
      "cell_type": "code",
      "metadata": {
        "id": "CZLZbNWjbCgE",
        "colab_type": "code",
        "colab": {
          "base_uri": "https://localhost:8080/",
          "height": 102
        },
        "outputId": "cf1dfade-2e27-4429-fe87-40c3f7e793f8"
      },
      "source": [
        "print('Anzahl der Schauspieler: %s' % df['actor'].size)\n",
        "print('Anzahl unterschiedlicher Werte für Geburtsjahr: %s' % df['year_of_birth'].nunique())\n",
        "print('Durchschnittsalter der Schauspieler: %s' % (2020-df['year_of_birth'].mean()))\n",
        "print('Alter des jüngsten Mitglieds: %s' % (2020-df['year_of_birth'].max()))\n",
        "print('Alter des ältesten Mitglieds: %s' % (2020-df['year_of_birth'].min()))"
      ],
      "execution_count": null,
      "outputs": [
        {
          "output_type": "stream",
          "text": [
            "Anzahl der Schauspieler: 6\n",
            "Anzahl unterschiedlicher Werte für Geburtsjahr: 5\n",
            "Durchschnittsalter der Schauspieler: 30.0\n",
            "Alter des jüngsten Mitglieds: 17\n",
            "Alter des ältesten Mitglieds: 35\n"
          ],
          "name": "stdout"
        }
      ]
    },
    {
      "cell_type": "markdown",
      "metadata": {
        "id": "ki3tT7zWQNT5",
        "colab_type": "text"
      },
      "source": [
        "*   Einführung in Pandas-Datenstrukturen: https://pandas.pydata.org/pandas-docs/stable/user_guide/dsintro\n",
        "*   Dokumentation der Klasse DataFrame: https://pandas.pydata.org/pandas-docs/stable/reference/frame.html\n",
        "*   Dokumentation der Klasse Series: https://pandas.pydata.org/pandas-docs/stable/reference/api/pandas.Series.html"
      ]
    },
    {
      "cell_type": "markdown",
      "metadata": {
        "id": "dHs2aoFpW33K",
        "colab_type": "text"
      },
      "source": [
        "### DataFrames aus Dateien lesen\n",
        "\n",
        "Pandas beinhaltet umfangreiche Methoden zum lesen und schreiben für verbreitete Formate, z.B. CSV, JSON, HTML, Excel oder auch das klassische \"fixed width format\".\n",
        "\n",
        "Eine CSV-Datei wird mit der Funktion `read_csv` eingelesen.\n",
        "\n",
        "Hier ein Beispiel, das von Pandas direkt ziemlich gut eingelesen wird:\n",
        "\n",
        "```\n",
        "product,price,valid_from,valid_to,in_print_brochure\n",
        "Rote Äpfel,2.9,2020-11-09;2020-11-15,TRUE\n",
        "Mini Käsekuchen,1.93,2020-11-17,2020-11-23,FALSE\n",
        "```"
      ]
    },
    {
      "cell_type": "code",
      "metadata": {
        "id": "d_RXByBMXCE_",
        "colab_type": "code",
        "colab": {
          "base_uri": "https://localhost:8080/",
          "height": 111
        },
        "outputId": "7361e4f0-6c7b-4678-b1ea-7e37698a7e9d"
      },
      "source": [
        "pd.read_csv('https://github.com/thomas-bierhance-exxcellent/data-wrangling-praktikum/raw/master/Offers.csv')"
      ],
      "execution_count": null,
      "outputs": [
        {
          "output_type": "execute_result",
          "data": {
            "text/html": [
              "<div>\n",
              "<style scoped>\n",
              "    .dataframe tbody tr th:only-of-type {\n",
              "        vertical-align: middle;\n",
              "    }\n",
              "\n",
              "    .dataframe tbody tr th {\n",
              "        vertical-align: top;\n",
              "    }\n",
              "\n",
              "    .dataframe thead th {\n",
              "        text-align: right;\n",
              "    }\n",
              "</style>\n",
              "<table border=\"1\" class=\"dataframe\">\n",
              "  <thead>\n",
              "    <tr style=\"text-align: right;\">\n",
              "      <th></th>\n",
              "      <th>product</th>\n",
              "      <th>price</th>\n",
              "      <th>valid_from</th>\n",
              "      <th>valid_to</th>\n",
              "      <th>in_print_brochure</th>\n",
              "    </tr>\n",
              "  </thead>\n",
              "  <tbody>\n",
              "    <tr>\n",
              "      <th>0</th>\n",
              "      <td>Rote Äpfel</td>\n",
              "      <td>2.90</td>\n",
              "      <td>2020-11-09</td>\n",
              "      <td>2020-11-15</td>\n",
              "      <td>True</td>\n",
              "    </tr>\n",
              "    <tr>\n",
              "      <th>1</th>\n",
              "      <td>Mini Käsekuchen</td>\n",
              "      <td>1.93</td>\n",
              "      <td>2020-11-17</td>\n",
              "      <td>2020-11-23</td>\n",
              "      <td>False</td>\n",
              "    </tr>\n",
              "  </tbody>\n",
              "</table>\n",
              "</div>"
            ],
            "text/plain": [
              "           product  price  valid_from    valid_to  in_print_brochure\n",
              "0       Rote Äpfel   2.90  2020-11-09  2020-11-15               True\n",
              "1  Mini Käsekuchen   1.93  2020-11-17  2020-11-23              False"
            ]
          },
          "metadata": {
            "tags": []
          },
          "execution_count": 22
        }
      ]
    },
    {
      "cell_type": "markdown",
      "metadata": {
        "id": "O3W6zucBXwsw",
        "colab_type": "text"
      },
      "source": [
        "Das klappt aber nicht immer. Hier eine zweite Beispiel-Datei, die Pandas ohne Hinweise nicht gut einliest, weil Spaltenüberschriften fehlen, das Trennzeichen ein Semikolon ist, ...\n",
        "\n",
        "```\n",
        "Rote Äpfel;2,9;09.11.2020;15.11.2020;Wahr\n",
        "Mini Käsekuchen;1,93;17.11.2020;23.11.2020;Falsch\n",
        "```\n"
      ]
    },
    {
      "cell_type": "code",
      "metadata": {
        "id": "VjAHKT3tgFor",
        "colab_type": "code",
        "colab": {
          "base_uri": "https://localhost:8080/",
          "height": 80
        },
        "outputId": "feab0710-3f01-4778-aa13-df2d0d889466"
      },
      "source": [
        "pd.read_csv('https://github.com/thomas-bierhance-exxcellent/data-wrangling-praktikum/raw/master/Angebote.csv')"
      ],
      "execution_count": null,
      "outputs": [
        {
          "output_type": "execute_result",
          "data": {
            "text/html": [
              "<div>\n",
              "<style scoped>\n",
              "    .dataframe tbody tr th:only-of-type {\n",
              "        vertical-align: middle;\n",
              "    }\n",
              "\n",
              "    .dataframe tbody tr th {\n",
              "        vertical-align: top;\n",
              "    }\n",
              "\n",
              "    .dataframe thead th {\n",
              "        text-align: right;\n",
              "    }\n",
              "</style>\n",
              "<table border=\"1\" class=\"dataframe\">\n",
              "  <thead>\n",
              "    <tr style=\"text-align: right;\">\n",
              "      <th></th>\n",
              "      <th>Rote Äpfel;2</th>\n",
              "      <th>9;09.11.2020;15.11.2020;Wahr</th>\n",
              "    </tr>\n",
              "  </thead>\n",
              "  <tbody>\n",
              "    <tr>\n",
              "      <th>0</th>\n",
              "      <td>Mini Käsekuchen;1</td>\n",
              "      <td>93;17.11.2020;23.11.2020;Falsch</td>\n",
              "    </tr>\n",
              "  </tbody>\n",
              "</table>\n",
              "</div>"
            ],
            "text/plain": [
              "        Rote Äpfel;2     9;09.11.2020;15.11.2020;Wahr\n",
              "0  Mini Käsekuchen;1  93;17.11.2020;23.11.2020;Falsch"
            ]
          },
          "metadata": {
            "tags": []
          },
          "execution_count": 23
        }
      ]
    },
    {
      "cell_type": "markdown",
      "metadata": {
        "id": "r_wLl-eKg1nx",
        "colab_type": "text"
      },
      "source": [
        "Für solche Fälle gibt es eine Unmenge an Optionen, damit Du die CSV-Dateien in den unterschiedlichsten Geschmackrichtungen einlesen kannst. Eine kleine Auswahl:\n",
        "\n",
        "* `sep` Spalten-Trennzeichen (Default `sep=','`)\n",
        "* `names` Spalten-Namen, falls die Datei keine enthält \n",
        "* `true_values`/`false_values` Liste mit Strings für Boolsche-Werte\n",
        "* `decimal` Dezimaltrennzeichen (Default `.`)\n",
        "* `thousands` Tausendertrennzeichen\n",
        "* `parse_dates` Liste der Spalten, die als Datum/Zeit interpretiert werden sollen\n",
        "* `date_parser` Funktion, die für das Parsen von Datum/Zeit-Spalten genutzt werden soll (falls der Default-Parser nicht funktioniert)\n",
        "\n",
        "Und dann klappt das auch..."
      ]
    },
    {
      "cell_type": "code",
      "metadata": {
        "id": "D9tFvezvcKG7",
        "colab_type": "code",
        "colab": {
          "base_uri": "https://localhost:8080/",
          "height": 111
        },
        "outputId": "d7572bb1-ac45-4dbb-cde7-1667964607af"
      },
      "source": [
        "pd.read_csv('https://github.com/thomas-bierhance-exxcellent/data-wrangling-praktikum/raw/master/Angebote.csv',\n",
        "            sep=';', names=['product', 'price', 'valid_from', 'valid_to', 'in_print_brochure'],\n",
        "            decimal=',',\n",
        "            true_values=['Wahr'], false_values=['Falsch'],\n",
        "            parse_dates=['valid_from', 'valid_to'],\n",
        "            date_parser=lambda x: pd.to_datetime(x, format='%d.%m.%Y')) # Lambdafunktion für die Datumskonvertierung"
      ],
      "execution_count": null,
      "outputs": [
        {
          "output_type": "execute_result",
          "data": {
            "text/html": [
              "<div>\n",
              "<style scoped>\n",
              "    .dataframe tbody tr th:only-of-type {\n",
              "        vertical-align: middle;\n",
              "    }\n",
              "\n",
              "    .dataframe tbody tr th {\n",
              "        vertical-align: top;\n",
              "    }\n",
              "\n",
              "    .dataframe thead th {\n",
              "        text-align: right;\n",
              "    }\n",
              "</style>\n",
              "<table border=\"1\" class=\"dataframe\">\n",
              "  <thead>\n",
              "    <tr style=\"text-align: right;\">\n",
              "      <th></th>\n",
              "      <th>product</th>\n",
              "      <th>price</th>\n",
              "      <th>valid_from</th>\n",
              "      <th>valid_to</th>\n",
              "      <th>in_print_brochure</th>\n",
              "    </tr>\n",
              "  </thead>\n",
              "  <tbody>\n",
              "    <tr>\n",
              "      <th>0</th>\n",
              "      <td>Rote Äpfel</td>\n",
              "      <td>2.90</td>\n",
              "      <td>2020-11-09</td>\n",
              "      <td>2020-11-15</td>\n",
              "      <td>True</td>\n",
              "    </tr>\n",
              "    <tr>\n",
              "      <th>1</th>\n",
              "      <td>Mini Käsekuchen</td>\n",
              "      <td>1.93</td>\n",
              "      <td>2020-11-17</td>\n",
              "      <td>2020-11-23</td>\n",
              "      <td>False</td>\n",
              "    </tr>\n",
              "  </tbody>\n",
              "</table>\n",
              "</div>"
            ],
            "text/plain": [
              "           product  price valid_from   valid_to  in_print_brochure\n",
              "0       Rote Äpfel   2.90 2020-11-09 2020-11-15               True\n",
              "1  Mini Käsekuchen   1.93 2020-11-17 2020-11-23              False"
            ]
          },
          "metadata": {
            "tags": []
          },
          "execution_count": 24
        }
      ]
    },
    {
      "cell_type": "markdown",
      "metadata": {
        "id": "v79MDoupXLBl",
        "colab_type": "text"
      },
      "source": [
        "Weiterführende Dokumentation zum Thema IO gibt es noch hier: https://pandas.pydata.org/pandas-docs/stable/user_guide/io.html"
      ]
    },
    {
      "cell_type": "markdown",
      "metadata": {
        "id": "ZfnNLGGMzozo",
        "colab_type": "text"
      },
      "source": [
        "### Übung\n",
        "Für die Übungen in diesem Notebook kannst Du entweder Deine eigenen Datensätze verwenden oder Du nutzt Daten aus der [Akeed Restaurant Recommendation Challenge](https://zindi.africa/competitions/akeed-restaurant-recommendation-challenge/data), die wir für Dich vorbereitet haben.\n",
        "\n",
        "Akeed ist ein Essenslieferdienst aus Oman - ähnlich wie Lieferando, Foodora & Co.\n",
        "\n",
        "Als Daten stehen bereit:\n",
        "\n",
        "* Lieferant, von denen Essen bezogen werden kann (https://github.com/thomas-bierhance-exxcellent/data-wrangling-praktikum/raw/master/vendors.csv.xz)\n",
        "* Kunden, die Essen bestellt haben (https://github.com/thomas-bierhance-exxcellent/data-wrangling-praktikum/raw/master/customers.csv.xz)\n",
        "* Lieferorte, an die das Essen ausgeliefert wird (https://github.com/thomas-bierhance-exxcellent/data-wrangling-praktikum/raw/master/locations.csv.xz)\n",
        "* Bestellungen, die von Kunden getätigt wurden (https://github.com/thomas-bierhance-exxcellent/data-wrangling-praktikum/raw/master/orders.csv.xz)\n",
        "\n",
        "Jetzt zu den Aufgaben für Dich:\n",
        "\n",
        "1.   Lese die Daten jeweils in einen eigenen DataFrame ein.\n",
        "2.   Mache dich mit den Daten vertraut. Lasse Dir für jeden Datensatz die ersten Zeilen ausgeben. Welche Datentypen sind in den Spalten? Wie viele Zeilen haben die Datensätze?\n",
        "3.   Wann wurde die erste (älteste) Bestellung ausgeliefert?\n",
        "4.   Wann wurde die letzte (neueste) Bestellung ausgeliefert?\n",
        "5.   Was ist die durchschnittliche Bewertung der Lieferanten auf Basis der Bestellungen (orders.csv.xz)?\n",
        "6.   Was ist die durchschnittliche Bewertung der Lieferanten auf Basis der Stammdaten (vendors.csv.xz)?\n",
        "\n",
        "Zwei zusätzliche Tipps:\n",
        "* Pandas wird die komprimierten Daten automatisch entpacken.\n",
        "* Achte darauf, dass Du die Datum/Zeit-Spalten auch als solche importierst."
      ]
    },
    {
      "cell_type": "code",
      "metadata": {
        "id": "gLqnyVp8BoR8",
        "colab_type": "code",
        "colab": {}
      },
      "source": [
        "# Platz für Deine Übungen :)"
      ],
      "execution_count": null,
      "outputs": []
    },
    {
      "cell_type": "markdown",
      "metadata": {
        "id": "uTK7Lkt7CA8o",
        "colab_type": "text"
      },
      "source": [
        "### Lösungen"
      ]
    },
    {
      "cell_type": "code",
      "metadata": {
        "id": "ffdnTMzRCEwa",
        "colab_type": "code",
        "colab": {}
      },
      "source": [
        "# 1. Lese die Daten jeweils in einen eigenen DataFrame ein.\n",
        "vendors = pd.read_csv('https://github.com/thomas-bierhance-exxcellent/data-wrangling-praktikum/raw/master/vendors.csv.xz')\n",
        "customers = pd.read_csv('https://github.com/thomas-bierhance-exxcellent/data-wrangling-praktikum/raw/master/customers.csv.xz')\n",
        "locations = pd.read_csv('https://github.com/thomas-bierhance-exxcellent/data-wrangling-praktikum/raw/master/locations.csv.xz')\n",
        "orders = pd.read_csv('https://github.com/thomas-bierhance-exxcellent/data-wrangling-praktikum/raw/master/orders.csv.xz',\n",
        "                     parse_dates=['order_accepted_time', 'delivered_time', 'delivery_date'])"
      ],
      "execution_count": null,
      "outputs": []
    },
    {
      "cell_type": "code",
      "metadata": {
        "id": "gbfgfRacCnmI",
        "colab_type": "code",
        "colab": {
          "base_uri": "https://localhost:8080/",
          "height": 204
        },
        "outputId": "fb0ff49e-171d-45b8-f926-56973bd03e40"
      },
      "source": [
        "# 2. Mache dich mit den Daten vertraut. Lasse Dir für jeden Datensatz die ersten Zeilen ausgeben.\n",
        "orders.head()"
      ],
      "execution_count": null,
      "outputs": [
        {
          "output_type": "execute_result",
          "data": {
            "text/html": [
              "<div>\n",
              "<style scoped>\n",
              "    .dataframe tbody tr th:only-of-type {\n",
              "        vertical-align: middle;\n",
              "    }\n",
              "\n",
              "    .dataframe tbody tr th {\n",
              "        vertical-align: top;\n",
              "    }\n",
              "\n",
              "    .dataframe thead th {\n",
              "        text-align: right;\n",
              "    }\n",
              "</style>\n",
              "<table border=\"1\" class=\"dataframe\">\n",
              "  <thead>\n",
              "    <tr style=\"text-align: right;\">\n",
              "      <th></th>\n",
              "      <th>customer_id</th>\n",
              "      <th>grand_total</th>\n",
              "      <th>vendor_rating</th>\n",
              "      <th>driver_rating</th>\n",
              "      <th>delivery_distance</th>\n",
              "      <th>order_accepted_time</th>\n",
              "      <th>delivered_time</th>\n",
              "      <th>delivery_date</th>\n",
              "      <th>vendor_id</th>\n",
              "      <th>location_number</th>\n",
              "    </tr>\n",
              "  </thead>\n",
              "  <tbody>\n",
              "    <tr>\n",
              "      <th>0</th>\n",
              "      <td>92PEE24</td>\n",
              "      <td>7.6</td>\n",
              "      <td>NaN</td>\n",
              "      <td>0.0</td>\n",
              "      <td>0.0</td>\n",
              "      <td>NaT</td>\n",
              "      <td>NaT</td>\n",
              "      <td>2019-07-31</td>\n",
              "      <td>105</td>\n",
              "      <td>0</td>\n",
              "    </tr>\n",
              "    <tr>\n",
              "      <th>1</th>\n",
              "      <td>QS68UD8</td>\n",
              "      <td>8.7</td>\n",
              "      <td>NaN</td>\n",
              "      <td>0.0</td>\n",
              "      <td>0.0</td>\n",
              "      <td>NaT</td>\n",
              "      <td>NaT</td>\n",
              "      <td>2019-07-31</td>\n",
              "      <td>294</td>\n",
              "      <td>0</td>\n",
              "    </tr>\n",
              "    <tr>\n",
              "      <th>2</th>\n",
              "      <td>MB7VY5F</td>\n",
              "      <td>14.4</td>\n",
              "      <td>NaN</td>\n",
              "      <td>0.0</td>\n",
              "      <td>0.0</td>\n",
              "      <td>NaT</td>\n",
              "      <td>NaT</td>\n",
              "      <td>2019-07-31</td>\n",
              "      <td>83</td>\n",
              "      <td>0</td>\n",
              "    </tr>\n",
              "    <tr>\n",
              "      <th>3</th>\n",
              "      <td>KDJ951Y</td>\n",
              "      <td>7.1</td>\n",
              "      <td>NaN</td>\n",
              "      <td>0.0</td>\n",
              "      <td>0.0</td>\n",
              "      <td>NaT</td>\n",
              "      <td>NaT</td>\n",
              "      <td>2019-07-31</td>\n",
              "      <td>90</td>\n",
              "      <td>0</td>\n",
              "    </tr>\n",
              "    <tr>\n",
              "      <th>4</th>\n",
              "      <td>BAL0RVT</td>\n",
              "      <td>27.2</td>\n",
              "      <td>NaN</td>\n",
              "      <td>0.0</td>\n",
              "      <td>0.0</td>\n",
              "      <td>NaT</td>\n",
              "      <td>NaT</td>\n",
              "      <td>2019-07-31</td>\n",
              "      <td>83</td>\n",
              "      <td>0</td>\n",
              "    </tr>\n",
              "  </tbody>\n",
              "</table>\n",
              "</div>"
            ],
            "text/plain": [
              "  customer_id  grand_total  ...  vendor_id  location_number\n",
              "0     92PEE24          7.6  ...        105                0\n",
              "1     QS68UD8          8.7  ...        294                0\n",
              "2     MB7VY5F         14.4  ...         83                0\n",
              "3     KDJ951Y          7.1  ...         90                0\n",
              "4     BAL0RVT         27.2  ...         83                0\n",
              "\n",
              "[5 rows x 10 columns]"
            ]
          },
          "metadata": {
            "tags": []
          },
          "execution_count": 30
        }
      ]
    },
    {
      "cell_type": "code",
      "metadata": {
        "id": "rt9gPc8ACtlU",
        "colab_type": "code",
        "colab": {
          "base_uri": "https://localhost:8080/",
          "height": 204
        },
        "outputId": "37446787-3c4b-4a9c-ae43-186c3a218be5"
      },
      "source": [
        "# 2. Mache dich mit den Daten vertraut. Welche Datentypen sind in den Spalten?\n",
        "orders.dtypes"
      ],
      "execution_count": null,
      "outputs": [
        {
          "output_type": "execute_result",
          "data": {
            "text/plain": [
              "customer_id                    object\n",
              "grand_total                   float64\n",
              "vendor_rating                 float64\n",
              "driver_rating                 float64\n",
              "delivery_distance             float64\n",
              "order_accepted_time    datetime64[ns]\n",
              "delivered_time         datetime64[ns]\n",
              "delivery_date          datetime64[ns]\n",
              "vendor_id                       int64\n",
              "location_number                 int64\n",
              "dtype: object"
            ]
          },
          "metadata": {
            "tags": []
          },
          "execution_count": 31
        }
      ]
    },
    {
      "cell_type": "code",
      "metadata": {
        "id": "xdrpjcRVCyQF",
        "colab_type": "code",
        "colab": {
          "base_uri": "https://localhost:8080/",
          "height": 34
        },
        "outputId": "28900252-e78b-43d3-a198-c91060a5c3ff"
      },
      "source": [
        "# 2. Mache dich mit den Daten vertraut. Wie viele Zeilen haben die Datensätze?\n",
        "orders.shape[0]"
      ],
      "execution_count": null,
      "outputs": [
        {
          "output_type": "execute_result",
          "data": {
            "text/plain": [
              "135303"
            ]
          },
          "metadata": {
            "tags": []
          },
          "execution_count": 32
        }
      ]
    },
    {
      "cell_type": "code",
      "metadata": {
        "id": "t45KJM73C8SB",
        "colab_type": "code",
        "colab": {
          "base_uri": "https://localhost:8080/",
          "height": 34
        },
        "outputId": "40a25750-39d6-4ff0-c457-05763ae9ac79"
      },
      "source": [
        "# 3. Wann wurde die erste (älteste) Bestellung ausgeliefert?\n",
        "orders['delivered_time'].min()"
      ],
      "execution_count": null,
      "outputs": [
        {
          "output_type": "execute_result",
          "data": {
            "text/plain": [
              "Timestamp('2019-10-02 10:45:35')"
            ]
          },
          "metadata": {
            "tags": []
          },
          "execution_count": 33
        }
      ]
    },
    {
      "cell_type": "code",
      "metadata": {
        "id": "uS8nLsVuDycx",
        "colab_type": "code",
        "colab": {
          "base_uri": "https://localhost:8080/",
          "height": 34
        },
        "outputId": "ac46ed72-208e-4888-e18a-526a7d7ddd04"
      },
      "source": [
        "# 4. Wann wurde die letzte (neueste) Bestellung ausgeliefert?\n",
        "orders['delivered_time'].max()"
      ],
      "execution_count": null,
      "outputs": [
        {
          "output_type": "execute_result",
          "data": {
            "text/plain": [
              "Timestamp('2020-04-01 16:54:26')"
            ]
          },
          "metadata": {
            "tags": []
          },
          "execution_count": 34
        }
      ]
    },
    {
      "cell_type": "code",
      "metadata": {
        "id": "VnJGK8jxD5sw",
        "colab_type": "code",
        "colab": {
          "base_uri": "https://localhost:8080/",
          "height": 34
        },
        "outputId": "d66e7a64-5c50-44aa-e9e4-a74f2e9d58e0"
      },
      "source": [
        "# 5. Was ist die durchschnittliche Bewertung der Lieferanten auf Basis der Bestellungen (orders.csv.xz)?\n",
        "orders['vendor_rating'].mean()"
      ],
      "execution_count": null,
      "outputs": [
        {
          "output_type": "execute_result",
          "data": {
            "text/plain": [
              "1.9597302078726226"
            ]
          },
          "metadata": {
            "tags": []
          },
          "execution_count": 35
        }
      ]
    },
    {
      "cell_type": "code",
      "metadata": {
        "id": "UyW5DzrCEMIY",
        "colab_type": "code",
        "colab": {
          "base_uri": "https://localhost:8080/",
          "height": 34
        },
        "outputId": "0a48fc57-a69a-46a5-d6f1-574a13d2e061"
      },
      "source": [
        "# 6. Was ist die durchschnittliche Bewertung der Lieferanten auf Basis der Stammdaten (vendors.csv.xz)?\n",
        "vendors['vendor_rating'].mean()"
      ],
      "execution_count": null,
      "outputs": [
        {
          "output_type": "execute_result",
          "data": {
            "text/plain": [
              "4.35"
            ]
          },
          "metadata": {
            "tags": []
          },
          "execution_count": 36
        }
      ]
    },
    {
      "cell_type": "markdown",
      "metadata": {
        "id": "v-reU3CnW6xD",
        "colab_type": "text"
      },
      "source": [
        "## Daten filtern\n",
        "\n"
      ]
    },
    {
      "cell_type": "markdown",
      "metadata": {
        "id": "cpX0w2qXS8is",
        "colab_type": "text"
      },
      "source": [
        "Als einfachen Beispieldatensatz verwenden wir im Folgenden das verbreitete **Iris flower data set**. Es enthält 150 Einträge von verschiedenen Blumen der Gattung \"Schwertlilie\" mit Angaben über die Größe (in cm) ihrer Blütenblätter (`petal_length`, `petal_width`), Kelchblätter (`sepal_length`, `sepal_width`) und die Pflanzenart (`species`) mit den Ausprägungen [Borsten-Schwertlilie](https://de.wikipedia.org/wiki/Borsten-Schwertlilie) (`setosa`), [verschiedenfarbige Schwertlilie](https://de.wikipedia.org/wiki/Verschiedenfarbige_Schwertlilie) (`versicolor`) und [virginische Schwertlilie](https://en.wikipedia.org/wiki/Iris_virginica) (`virginica`).\n",
        "\n",
        "![flower-parts-diagram-arrangement-base-cross-section.jpg](data:image/jpeg;base64,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)"
      ]
    },
    {
      "cell_type": "code",
      "metadata": {
        "id": "zab09A3eDtPq",
        "colab_type": "code",
        "colab": {
          "base_uri": "https://localhost:8080/",
          "height": 204
        },
        "outputId": "60b52889-2b2c-4509-b551-aba664d7a05a"
      },
      "source": [
        "iris = pd.read_csv('https://github.com/thomas-bierhance-exxcellent/data-wrangling-praktikum/raw/master/iris.csv')\n",
        "iris.head()"
      ],
      "execution_count": null,
      "outputs": [
        {
          "output_type": "execute_result",
          "data": {
            "text/html": [
              "<div>\n",
              "<style scoped>\n",
              "    .dataframe tbody tr th:only-of-type {\n",
              "        vertical-align: middle;\n",
              "    }\n",
              "\n",
              "    .dataframe tbody tr th {\n",
              "        vertical-align: top;\n",
              "    }\n",
              "\n",
              "    .dataframe thead th {\n",
              "        text-align: right;\n",
              "    }\n",
              "</style>\n",
              "<table border=\"1\" class=\"dataframe\">\n",
              "  <thead>\n",
              "    <tr style=\"text-align: right;\">\n",
              "      <th></th>\n",
              "      <th>sepal_length</th>\n",
              "      <th>sepal_width</th>\n",
              "      <th>petal_length</th>\n",
              "      <th>petal_width</th>\n",
              "      <th>species</th>\n",
              "    </tr>\n",
              "  </thead>\n",
              "  <tbody>\n",
              "    <tr>\n",
              "      <th>0</th>\n",
              "      <td>5.1</td>\n",
              "      <td>3.5</td>\n",
              "      <td>1.4</td>\n",
              "      <td>0.2</td>\n",
              "      <td>species-setosa</td>\n",
              "    </tr>\n",
              "    <tr>\n",
              "      <th>1</th>\n",
              "      <td>4.9</td>\n",
              "      <td>3.0</td>\n",
              "      <td>1.4</td>\n",
              "      <td>0.2</td>\n",
              "      <td>species-setosa</td>\n",
              "    </tr>\n",
              "    <tr>\n",
              "      <th>2</th>\n",
              "      <td>4.7</td>\n",
              "      <td>3.2</td>\n",
              "      <td>1.3</td>\n",
              "      <td>0.2</td>\n",
              "      <td>species-setosa</td>\n",
              "    </tr>\n",
              "    <tr>\n",
              "      <th>3</th>\n",
              "      <td>4.6</td>\n",
              "      <td>3.1</td>\n",
              "      <td>1.5</td>\n",
              "      <td>0.2</td>\n",
              "      <td>species-setosa</td>\n",
              "    </tr>\n",
              "    <tr>\n",
              "      <th>4</th>\n",
              "      <td>5.0</td>\n",
              "      <td>3.6</td>\n",
              "      <td>1.4</td>\n",
              "      <td>0.2</td>\n",
              "      <td>species-setosa</td>\n",
              "    </tr>\n",
              "  </tbody>\n",
              "</table>\n",
              "</div>"
            ],
            "text/plain": [
              "   sepal_length  sepal_width  petal_length  petal_width         species\n",
              "0           5.1          3.5           1.4          0.2  species-setosa\n",
              "1           4.9          3.0           1.4          0.2  species-setosa\n",
              "2           4.7          3.2           1.3          0.2  species-setosa\n",
              "3           4.6          3.1           1.5          0.2  species-setosa\n",
              "4           5.0          3.6           1.4          0.2  species-setosa"
            ]
          },
          "metadata": {
            "tags": []
          },
          "execution_count": 37
        }
      ]
    },
    {
      "cell_type": "markdown",
      "metadata": {
        "id": "Zq4pJJhrD2Tf",
        "colab_type": "text"
      },
      "source": [
        "Um einen DataFrame nach Kriterien zu filtern, kannst Du die Property `loc` nutzen. Zum Beispiel um alle Pflanzen anzuzeigen, deren Kelchblätter 4,6 cm lang sind."
      ]
    },
    {
      "cell_type": "code",
      "metadata": {
        "id": "T6bS7qUYD6LO",
        "colab_type": "code",
        "colab": {
          "base_uri": "https://localhost:8080/",
          "height": 173
        },
        "outputId": "a7b76552-96b6-4c21-d5eb-c35085c57e11"
      },
      "source": [
        "iris.loc[iris['sepal_length']==4.6]"
      ],
      "execution_count": null,
      "outputs": [
        {
          "output_type": "execute_result",
          "data": {
            "text/html": [
              "<div>\n",
              "<style scoped>\n",
              "    .dataframe tbody tr th:only-of-type {\n",
              "        vertical-align: middle;\n",
              "    }\n",
              "\n",
              "    .dataframe tbody tr th {\n",
              "        vertical-align: top;\n",
              "    }\n",
              "\n",
              "    .dataframe thead th {\n",
              "        text-align: right;\n",
              "    }\n",
              "</style>\n",
              "<table border=\"1\" class=\"dataframe\">\n",
              "  <thead>\n",
              "    <tr style=\"text-align: right;\">\n",
              "      <th></th>\n",
              "      <th>sepal_length</th>\n",
              "      <th>sepal_width</th>\n",
              "      <th>petal_length</th>\n",
              "      <th>petal_width</th>\n",
              "      <th>species</th>\n",
              "    </tr>\n",
              "  </thead>\n",
              "  <tbody>\n",
              "    <tr>\n",
              "      <th>3</th>\n",
              "      <td>4.6</td>\n",
              "      <td>3.1</td>\n",
              "      <td>1.5</td>\n",
              "      <td>0.2</td>\n",
              "      <td>species-setosa</td>\n",
              "    </tr>\n",
              "    <tr>\n",
              "      <th>6</th>\n",
              "      <td>4.6</td>\n",
              "      <td>3.4</td>\n",
              "      <td>1.4</td>\n",
              "      <td>0.3</td>\n",
              "      <td>species-setosa</td>\n",
              "    </tr>\n",
              "    <tr>\n",
              "      <th>22</th>\n",
              "      <td>4.6</td>\n",
              "      <td>3.6</td>\n",
              "      <td>1.0</td>\n",
              "      <td>0.2</td>\n",
              "      <td>species-setosa</td>\n",
              "    </tr>\n",
              "    <tr>\n",
              "      <th>47</th>\n",
              "      <td>4.6</td>\n",
              "      <td>3.2</td>\n",
              "      <td>1.4</td>\n",
              "      <td>0.2</td>\n",
              "      <td>species-setosa</td>\n",
              "    </tr>\n",
              "  </tbody>\n",
              "</table>\n",
              "</div>"
            ],
            "text/plain": [
              "    sepal_length  sepal_width  petal_length  petal_width         species\n",
              "3            4.6          3.1           1.5          0.2  species-setosa\n",
              "6            4.6          3.4           1.4          0.3  species-setosa\n",
              "22           4.6          3.6           1.0          0.2  species-setosa\n",
              "47           4.6          3.2           1.4          0.2  species-setosa"
            ]
          },
          "metadata": {
            "tags": []
          },
          "execution_count": 38
        }
      ]
    },
    {
      "cell_type": "markdown",
      "metadata": {
        "id": "gKBr8d7xFhiJ",
        "colab_type": "text"
      },
      "source": [
        "Nach dem `loc` kommen eckige Klammern, weil `loc` eine Property ist und keine Methode. An `loc` übergibst Du eine Boolsche-Maske, um die passenden Zeilen auszuwählen. Im obigen Beispiel eine Maske, die für alle Pflanzen, deren Kelchblätter 4,6 cm lang sind, wahr ist und für alle anderen falsch.\n",
        "\n",
        "Du kannst für die Maske auch mehrere Ausdrücke kombinieren. Pass aber auf, dass Du die einzelnen Teilausdrücke mit Klammern versiehst, damit keine komischen Fehlermeldungen kommen. Die wichtigsten Operatoren sind `&` (und), `|` (oder) und `~` (nicht). "
      ]
    },
    {
      "cell_type": "code",
      "metadata": {
        "id": "0MdEqd33yMsu",
        "colab_type": "code",
        "colab": {
          "base_uri": "https://localhost:8080/",
          "height": 235
        },
        "outputId": "4bcf85a6-6d7d-4b0d-f442-ae975c36bde2"
      },
      "source": [
        "iris.loc[(iris['sepal_length']==4.6) | (iris['petal_length']==1.2)]"
      ],
      "execution_count": null,
      "outputs": [
        {
          "output_type": "execute_result",
          "data": {
            "text/html": [
              "<div>\n",
              "<style scoped>\n",
              "    .dataframe tbody tr th:only-of-type {\n",
              "        vertical-align: middle;\n",
              "    }\n",
              "\n",
              "    .dataframe tbody tr th {\n",
              "        vertical-align: top;\n",
              "    }\n",
              "\n",
              "    .dataframe thead th {\n",
              "        text-align: right;\n",
              "    }\n",
              "</style>\n",
              "<table border=\"1\" class=\"dataframe\">\n",
              "  <thead>\n",
              "    <tr style=\"text-align: right;\">\n",
              "      <th></th>\n",
              "      <th>sepal_length</th>\n",
              "      <th>sepal_width</th>\n",
              "      <th>petal_length</th>\n",
              "      <th>petal_width</th>\n",
              "      <th>species</th>\n",
              "    </tr>\n",
              "  </thead>\n",
              "  <tbody>\n",
              "    <tr>\n",
              "      <th>3</th>\n",
              "      <td>4.6</td>\n",
              "      <td>3.1</td>\n",
              "      <td>1.5</td>\n",
              "      <td>0.2</td>\n",
              "      <td>species-setosa</td>\n",
              "    </tr>\n",
              "    <tr>\n",
              "      <th>6</th>\n",
              "      <td>4.6</td>\n",
              "      <td>3.4</td>\n",
              "      <td>1.4</td>\n",
              "      <td>0.3</td>\n",
              "      <td>species-setosa</td>\n",
              "    </tr>\n",
              "    <tr>\n",
              "      <th>14</th>\n",
              "      <td>5.8</td>\n",
              "      <td>4.0</td>\n",
              "      <td>1.2</td>\n",
              "      <td>0.2</td>\n",
              "      <td>species-setosa</td>\n",
              "    </tr>\n",
              "    <tr>\n",
              "      <th>22</th>\n",
              "      <td>4.6</td>\n",
              "      <td>3.6</td>\n",
              "      <td>1.0</td>\n",
              "      <td>0.2</td>\n",
              "      <td>species-setosa</td>\n",
              "    </tr>\n",
              "    <tr>\n",
              "      <th>35</th>\n",
              "      <td>5.0</td>\n",
              "      <td>3.2</td>\n",
              "      <td>1.2</td>\n",
              "      <td>0.2</td>\n",
              "      <td>species-setosa</td>\n",
              "    </tr>\n",
              "    <tr>\n",
              "      <th>47</th>\n",
              "      <td>4.6</td>\n",
              "      <td>3.2</td>\n",
              "      <td>1.4</td>\n",
              "      <td>0.2</td>\n",
              "      <td>species-setosa</td>\n",
              "    </tr>\n",
              "  </tbody>\n",
              "</table>\n",
              "</div>"
            ],
            "text/plain": [
              "    sepal_length  sepal_width  petal_length  petal_width         species\n",
              "3            4.6          3.1           1.5          0.2  species-setosa\n",
              "6            4.6          3.4           1.4          0.3  species-setosa\n",
              "14           5.8          4.0           1.2          0.2  species-setosa\n",
              "22           4.6          3.6           1.0          0.2  species-setosa\n",
              "35           5.0          3.2           1.2          0.2  species-setosa\n",
              "47           4.6          3.2           1.4          0.2  species-setosa"
            ]
          },
          "metadata": {
            "tags": []
          },
          "execution_count": 39
        }
      ]
    },
    {
      "cell_type": "code",
      "metadata": {
        "id": "dIl2kIFKGg9c",
        "colab_type": "code",
        "colab": {
          "base_uri": "https://localhost:8080/",
          "height": 173
        },
        "outputId": "9609d7cc-cb9e-44aa-9589-52af31c8fc8d"
      },
      "source": [
        "iris.loc[(iris['sepal_length']>6) & (iris['petal_length']==4.9) & ~(iris['species']=='versicolor')]"
      ],
      "execution_count": null,
      "outputs": [
        {
          "output_type": "execute_result",
          "data": {
            "text/html": [
              "<div>\n",
              "<style scoped>\n",
              "    .dataframe tbody tr th:only-of-type {\n",
              "        vertical-align: middle;\n",
              "    }\n",
              "\n",
              "    .dataframe tbody tr th {\n",
              "        vertical-align: top;\n",
              "    }\n",
              "\n",
              "    .dataframe thead th {\n",
              "        text-align: right;\n",
              "    }\n",
              "</style>\n",
              "<table border=\"1\" class=\"dataframe\">\n",
              "  <thead>\n",
              "    <tr style=\"text-align: right;\">\n",
              "      <th></th>\n",
              "      <th>sepal_length</th>\n",
              "      <th>sepal_width</th>\n",
              "      <th>petal_length</th>\n",
              "      <th>petal_width</th>\n",
              "      <th>species</th>\n",
              "    </tr>\n",
              "  </thead>\n",
              "  <tbody>\n",
              "    <tr>\n",
              "      <th>52</th>\n",
              "      <td>6.9</td>\n",
              "      <td>3.1</td>\n",
              "      <td>4.9</td>\n",
              "      <td>1.5</td>\n",
              "      <td>species-versicolor</td>\n",
              "    </tr>\n",
              "    <tr>\n",
              "      <th>72</th>\n",
              "      <td>6.3</td>\n",
              "      <td>2.5</td>\n",
              "      <td>4.9</td>\n",
              "      <td>1.5</td>\n",
              "      <td>species-versicolor</td>\n",
              "    </tr>\n",
              "    <tr>\n",
              "      <th>123</th>\n",
              "      <td>6.3</td>\n",
              "      <td>2.7</td>\n",
              "      <td>4.9</td>\n",
              "      <td>1.8</td>\n",
              "      <td>species-virginica</td>\n",
              "    </tr>\n",
              "    <tr>\n",
              "      <th>127</th>\n",
              "      <td>6.1</td>\n",
              "      <td>3.0</td>\n",
              "      <td>4.9</td>\n",
              "      <td>1.8</td>\n",
              "      <td>species-virginica</td>\n",
              "    </tr>\n",
              "  </tbody>\n",
              "</table>\n",
              "</div>"
            ],
            "text/plain": [
              "     sepal_length  sepal_width  petal_length  petal_width             species\n",
              "52            6.9          3.1           4.9          1.5  species-versicolor\n",
              "72            6.3          2.5           4.9          1.5  species-versicolor\n",
              "123           6.3          2.7           4.9          1.8   species-virginica\n",
              "127           6.1          3.0           4.9          1.8   species-virginica"
            ]
          },
          "metadata": {
            "tags": []
          },
          "execution_count": 40
        }
      ]
    },
    {
      "cell_type": "markdown",
      "metadata": {
        "id": "Ma_zA6xYH8yS",
        "colab_type": "text"
      },
      "source": [
        "Du kannst mit der Property `loc` neben der Zeilenfilterung auch die zurückgeliefertn Spalten filtern. Das funktioniert z.B. mit einer Liste von Spaltennamen:"
      ]
    },
    {
      "cell_type": "code",
      "metadata": {
        "id": "j8K3g3TDIMJv",
        "colab_type": "code",
        "colab": {
          "base_uri": "https://localhost:8080/",
          "height": 173
        },
        "outputId": "9ae18699-207c-4557-fda6-efd96e52d469"
      },
      "source": [
        "iris.loc[(iris['sepal_length']>7.2) & (iris['sepal_length']!=7.7), ['sepal_length', 'species']]"
      ],
      "execution_count": null,
      "outputs": [
        {
          "output_type": "execute_result",
          "data": {
            "text/html": [
              "<div>\n",
              "<style scoped>\n",
              "    .dataframe tbody tr th:only-of-type {\n",
              "        vertical-align: middle;\n",
              "    }\n",
              "\n",
              "    .dataframe tbody tr th {\n",
              "        vertical-align: top;\n",
              "    }\n",
              "\n",
              "    .dataframe thead th {\n",
              "        text-align: right;\n",
              "    }\n",
              "</style>\n",
              "<table border=\"1\" class=\"dataframe\">\n",
              "  <thead>\n",
              "    <tr style=\"text-align: right;\">\n",
              "      <th></th>\n",
              "      <th>sepal_length</th>\n",
              "      <th>species</th>\n",
              "    </tr>\n",
              "  </thead>\n",
              "  <tbody>\n",
              "    <tr>\n",
              "      <th>105</th>\n",
              "      <td>7.6</td>\n",
              "      <td>species-virginica</td>\n",
              "    </tr>\n",
              "    <tr>\n",
              "      <th>107</th>\n",
              "      <td>7.3</td>\n",
              "      <td>species-virginica</td>\n",
              "    </tr>\n",
              "    <tr>\n",
              "      <th>130</th>\n",
              "      <td>7.4</td>\n",
              "      <td>species-virginica</td>\n",
              "    </tr>\n",
              "    <tr>\n",
              "      <th>131</th>\n",
              "      <td>7.9</td>\n",
              "      <td>species-virginica</td>\n",
              "    </tr>\n",
              "  </tbody>\n",
              "</table>\n",
              "</div>"
            ],
            "text/plain": [
              "     sepal_length            species\n",
              "105           7.6  species-virginica\n",
              "107           7.3  species-virginica\n",
              "130           7.4  species-virginica\n",
              "131           7.9  species-virginica"
            ]
          },
          "metadata": {
            "tags": []
          },
          "execution_count": 41
        }
      ]
    },
    {
      "cell_type": "markdown",
      "metadata": {
        "id": "2dlkdOzKlp23",
        "colab_type": "text"
      },
      "source": [
        "Wenn Du alle Einträge mit Werten aus einer Liste möchtest, kannst Du anstatt einer Menge von oder-verknüpften Ausdrücken `isin` verwenden."
      ]
    },
    {
      "cell_type": "code",
      "metadata": {
        "id": "hsrXYVYxl5Kk",
        "colab_type": "code",
        "colab": {
          "base_uri": "https://localhost:8080/",
          "height": 297
        },
        "outputId": "66833aad-d004-4ed6-b9ec-6cf9f1a06966"
      },
      "source": [
        "iris.loc[iris['petal_width'].isin([1.2, 1.1])]"
      ],
      "execution_count": null,
      "outputs": [
        {
          "output_type": "execute_result",
          "data": {
            "text/html": [
              "<div>\n",
              "<style scoped>\n",
              "    .dataframe tbody tr th:only-of-type {\n",
              "        vertical-align: middle;\n",
              "    }\n",
              "\n",
              "    .dataframe tbody tr th {\n",
              "        vertical-align: top;\n",
              "    }\n",
              "\n",
              "    .dataframe thead th {\n",
              "        text-align: right;\n",
              "    }\n",
              "</style>\n",
              "<table border=\"1\" class=\"dataframe\">\n",
              "  <thead>\n",
              "    <tr style=\"text-align: right;\">\n",
              "      <th></th>\n",
              "      <th>sepal_length</th>\n",
              "      <th>sepal_width</th>\n",
              "      <th>petal_length</th>\n",
              "      <th>petal_width</th>\n",
              "      <th>species</th>\n",
              "    </tr>\n",
              "  </thead>\n",
              "  <tbody>\n",
              "    <tr>\n",
              "      <th>69</th>\n",
              "      <td>5.6</td>\n",
              "      <td>2.5</td>\n",
              "      <td>3.9</td>\n",
              "      <td>1.1</td>\n",
              "      <td>species-versicolor</td>\n",
              "    </tr>\n",
              "    <tr>\n",
              "      <th>73</th>\n",
              "      <td>6.1</td>\n",
              "      <td>2.8</td>\n",
              "      <td>4.7</td>\n",
              "      <td>1.2</td>\n",
              "      <td>species-versicolor</td>\n",
              "    </tr>\n",
              "    <tr>\n",
              "      <th>80</th>\n",
              "      <td>5.5</td>\n",
              "      <td>2.4</td>\n",
              "      <td>3.8</td>\n",
              "      <td>1.1</td>\n",
              "      <td>species-versicolor</td>\n",
              "    </tr>\n",
              "    <tr>\n",
              "      <th>82</th>\n",
              "      <td>5.8</td>\n",
              "      <td>2.7</td>\n",
              "      <td>3.9</td>\n",
              "      <td>1.2</td>\n",
              "      <td>species-versicolor</td>\n",
              "    </tr>\n",
              "    <tr>\n",
              "      <th>90</th>\n",
              "      <td>5.5</td>\n",
              "      <td>2.6</td>\n",
              "      <td>4.4</td>\n",
              "      <td>1.2</td>\n",
              "      <td>species-versicolor</td>\n",
              "    </tr>\n",
              "    <tr>\n",
              "      <th>92</th>\n",
              "      <td>5.8</td>\n",
              "      <td>2.6</td>\n",
              "      <td>4.0</td>\n",
              "      <td>1.2</td>\n",
              "      <td>species-versicolor</td>\n",
              "    </tr>\n",
              "    <tr>\n",
              "      <th>95</th>\n",
              "      <td>5.7</td>\n",
              "      <td>3.0</td>\n",
              "      <td>4.2</td>\n",
              "      <td>1.2</td>\n",
              "      <td>species-versicolor</td>\n",
              "    </tr>\n",
              "    <tr>\n",
              "      <th>98</th>\n",
              "      <td>5.1</td>\n",
              "      <td>2.5</td>\n",
              "      <td>3.0</td>\n",
              "      <td>1.1</td>\n",
              "      <td>species-versicolor</td>\n",
              "    </tr>\n",
              "  </tbody>\n",
              "</table>\n",
              "</div>"
            ],
            "text/plain": [
              "    sepal_length  sepal_width  petal_length  petal_width             species\n",
              "69           5.6          2.5           3.9          1.1  species-versicolor\n",
              "73           6.1          2.8           4.7          1.2  species-versicolor\n",
              "80           5.5          2.4           3.8          1.1  species-versicolor\n",
              "82           5.8          2.7           3.9          1.2  species-versicolor\n",
              "90           5.5          2.6           4.4          1.2  species-versicolor\n",
              "92           5.8          2.6           4.0          1.2  species-versicolor\n",
              "95           5.7          3.0           4.2          1.2  species-versicolor\n",
              "98           5.1          2.5           3.0          1.1  species-versicolor"
            ]
          },
          "metadata": {
            "tags": []
          },
          "execution_count": 42
        }
      ]
    },
    {
      "cell_type": "markdown",
      "metadata": {
        "id": "yJCeq6be_Dp2",
        "colab_type": "text"
      },
      "source": [
        "Pandas hat auch Methoden, um nach Strings filtern zu können. Eine Auswahl:\n",
        "*   `str.startswith`/`str.endswith` prüft, ob der String mit einem anderen String beginnt oder endet\n",
        "*   `str.contains` prüft, ob der String einen anderen String beinhaltet\n",
        "*   `str.match` prüft, ob der String zu einem regulären Ausdruck passt"
      ]
    },
    {
      "cell_type": "code",
      "metadata": {
        "id": "97ZaRPB9-2JQ",
        "colab_type": "code",
        "colab": {
          "base_uri": "https://localhost:8080/",
          "height": 419
        },
        "outputId": "d607bb3f-0ec7-4f49-d6c5-d87cd51d981d"
      },
      "source": [
        "iris.loc[iris['species'].str.endswith('a')]"
      ],
      "execution_count": null,
      "outputs": [
        {
          "output_type": "execute_result",
          "data": {
            "text/html": [
              "<div>\n",
              "<style scoped>\n",
              "    .dataframe tbody tr th:only-of-type {\n",
              "        vertical-align: middle;\n",
              "    }\n",
              "\n",
              "    .dataframe tbody tr th {\n",
              "        vertical-align: top;\n",
              "    }\n",
              "\n",
              "    .dataframe thead th {\n",
              "        text-align: right;\n",
              "    }\n",
              "</style>\n",
              "<table border=\"1\" class=\"dataframe\">\n",
              "  <thead>\n",
              "    <tr style=\"text-align: right;\">\n",
              "      <th></th>\n",
              "      <th>sepal_length</th>\n",
              "      <th>sepal_width</th>\n",
              "      <th>petal_length</th>\n",
              "      <th>petal_width</th>\n",
              "      <th>species</th>\n",
              "    </tr>\n",
              "  </thead>\n",
              "  <tbody>\n",
              "    <tr>\n",
              "      <th>0</th>\n",
              "      <td>5.1</td>\n",
              "      <td>3.5</td>\n",
              "      <td>1.4</td>\n",
              "      <td>0.2</td>\n",
              "      <td>species-setosa</td>\n",
              "    </tr>\n",
              "    <tr>\n",
              "      <th>1</th>\n",
              "      <td>4.9</td>\n",
              "      <td>3.0</td>\n",
              "      <td>1.4</td>\n",
              "      <td>0.2</td>\n",
              "      <td>species-setosa</td>\n",
              "    </tr>\n",
              "    <tr>\n",
              "      <th>2</th>\n",
              "      <td>4.7</td>\n",
              "      <td>3.2</td>\n",
              "      <td>1.3</td>\n",
              "      <td>0.2</td>\n",
              "      <td>species-setosa</td>\n",
              "    </tr>\n",
              "    <tr>\n",
              "      <th>3</th>\n",
              "      <td>4.6</td>\n",
              "      <td>3.1</td>\n",
              "      <td>1.5</td>\n",
              "      <td>0.2</td>\n",
              "      <td>species-setosa</td>\n",
              "    </tr>\n",
              "    <tr>\n",
              "      <th>4</th>\n",
              "      <td>5.0</td>\n",
              "      <td>3.6</td>\n",
              "      <td>1.4</td>\n",
              "      <td>0.2</td>\n",
              "      <td>species-setosa</td>\n",
              "    </tr>\n",
              "    <tr>\n",
              "      <th>...</th>\n",
              "      <td>...</td>\n",
              "      <td>...</td>\n",
              "      <td>...</td>\n",
              "      <td>...</td>\n",
              "      <td>...</td>\n",
              "    </tr>\n",
              "    <tr>\n",
              "      <th>145</th>\n",
              "      <td>6.7</td>\n",
              "      <td>3.0</td>\n",
              "      <td>5.2</td>\n",
              "      <td>2.3</td>\n",
              "      <td>species-virginica</td>\n",
              "    </tr>\n",
              "    <tr>\n",
              "      <th>146</th>\n",
              "      <td>6.3</td>\n",
              "      <td>2.5</td>\n",
              "      <td>5.0</td>\n",
              "      <td>1.9</td>\n",
              "      <td>species-virginica</td>\n",
              "    </tr>\n",
              "    <tr>\n",
              "      <th>147</th>\n",
              "      <td>6.5</td>\n",
              "      <td>3.0</td>\n",
              "      <td>5.2</td>\n",
              "      <td>2.0</td>\n",
              "      <td>species-virginica</td>\n",
              "    </tr>\n",
              "    <tr>\n",
              "      <th>148</th>\n",
              "      <td>6.2</td>\n",
              "      <td>3.4</td>\n",
              "      <td>5.4</td>\n",
              "      <td>2.3</td>\n",
              "      <td>species-virginica</td>\n",
              "    </tr>\n",
              "    <tr>\n",
              "      <th>149</th>\n",
              "      <td>5.9</td>\n",
              "      <td>3.0</td>\n",
              "      <td>5.1</td>\n",
              "      <td>1.8</td>\n",
              "      <td>species-virginica</td>\n",
              "    </tr>\n",
              "  </tbody>\n",
              "</table>\n",
              "<p>100 rows × 5 columns</p>\n",
              "</div>"
            ],
            "text/plain": [
              "     sepal_length  sepal_width  petal_length  petal_width            species\n",
              "0             5.1          3.5           1.4          0.2     species-setosa\n",
              "1             4.9          3.0           1.4          0.2     species-setosa\n",
              "2             4.7          3.2           1.3          0.2     species-setosa\n",
              "3             4.6          3.1           1.5          0.2     species-setosa\n",
              "4             5.0          3.6           1.4          0.2     species-setosa\n",
              "..            ...          ...           ...          ...                ...\n",
              "145           6.7          3.0           5.2          2.3  species-virginica\n",
              "146           6.3          2.5           5.0          1.9  species-virginica\n",
              "147           6.5          3.0           5.2          2.0  species-virginica\n",
              "148           6.2          3.4           5.4          2.3  species-virginica\n",
              "149           5.9          3.0           5.1          1.8  species-virginica\n",
              "\n",
              "[100 rows x 5 columns]"
            ]
          },
          "metadata": {
            "tags": []
          },
          "execution_count": 43
        }
      ]
    },
    {
      "cell_type": "code",
      "metadata": {
        "id": "skvWDwq7k4p2",
        "colab_type": "code",
        "colab": {}
      },
      "source": [
        "# Platz für Deine Übungen :)"
      ],
      "execution_count": null,
      "outputs": []
    },
    {
      "cell_type": "markdown",
      "metadata": {
        "id": "vfjD2MyCw4yn",
        "colab_type": "text"
      },
      "source": [
        "### Übung\n",
        "\n",
        "Jetzt zu den Aufgaben für Dich:\n",
        "\n",
        "1.   Wie viele Bestellungen haben mehr als 200 Rials gekostet?\n",
        "2.   Was ist die durchschnittliche Bewertung der Lieferanten der Kategorie \"Sweets & Bakes\"?\n",
        "3.   Gebe die Lieferanten-Datensätze der Kategorie \"Sweets & Bakes\" aus, die einen Umkreis von weniger als 15km beliefern.\n",
        "4.   Wie viele Kunden haben schon einmal bei einer Bestellung den Lieferanten höher als den Fahrer bewertet?\n",
        "5.   Gebe die Lieferanten-Datensätze aus, die \"Pizza\" und \"Pasta\" aber kein \"Italian\" im Angebot haben. *Tipp: Nutze den Parameter `na=False` der Methode `str.contains`.*"
      ]
    },
    {
      "cell_type": "markdown",
      "metadata": {
        "id": "lAXvmrIhF8C5",
        "colab_type": "text"
      },
      "source": [
        "### Lösungen"
      ]
    },
    {
      "cell_type": "code",
      "metadata": {
        "id": "dIGDqg25wzSG",
        "colab_type": "code",
        "colab": {
          "base_uri": "https://localhost:8080/",
          "height": 34
        },
        "outputId": "5f949717-1ae1-415c-b282-2c94bcb1ca50"
      },
      "source": [
        "# 1. Wie viele Bestellungen haben mehr als 200 Rials gekostet?\n",
        "orders[orders['grand_total']>200].shape[0]"
      ],
      "execution_count": null,
      "outputs": [
        {
          "output_type": "execute_result",
          "data": {
            "text/plain": [
              "7"
            ]
          },
          "metadata": {
            "tags": []
          },
          "execution_count": 45
        }
      ]
    },
    {
      "cell_type": "code",
      "metadata": {
        "id": "ADXN6sdlGC1l",
        "colab_type": "code",
        "colab": {
          "base_uri": "https://localhost:8080/",
          "height": 34
        },
        "outputId": "df1eecbb-2e38-4dc6-8755-1697ea5fe5e3"
      },
      "source": [
        "# 2. Was ist die durchschnittliche Bewertung der Lieferanten der Kategorie \"Sweets & Bakes\"\n",
        "vendors.loc[vendors['vendor_category_en']=='Sweets & Bakes', 'vendor_rating'].mean()"
      ],
      "execution_count": null,
      "outputs": [
        {
          "output_type": "execute_result",
          "data": {
            "text/plain": [
              "4.366666666666666"
            ]
          },
          "metadata": {
            "tags": []
          },
          "execution_count": 46
        }
      ]
    },
    {
      "cell_type": "code",
      "metadata": {
        "id": "-WLAGZQNG2i6",
        "colab_type": "code",
        "colab": {
          "base_uri": "https://localhost:8080/",
          "height": 173
        },
        "outputId": "cfee61c2-1ba7-4652-9155-1443b20c8ecd"
      },
      "source": [
        "# 3. Gebe die Lieferanten-Datensätze der Kategorie \"Sweets & Bakes\" aus, die einen Umkreis von weniger als 15km beliefern.\n",
        "vendors.loc[(vendors['serving_distance']<15) & (vendors['vendor_category_en']=='Sweets & Bakes')]"
      ],
      "execution_count": null,
      "outputs": [
        {
          "output_type": "execute_result",
          "data": {
            "text/html": [
              "<div>\n",
              "<style scoped>\n",
              "    .dataframe tbody tr th:only-of-type {\n",
              "        vertical-align: middle;\n",
              "    }\n",
              "\n",
              "    .dataframe tbody tr th {\n",
              "        vertical-align: top;\n",
              "    }\n",
              "\n",
              "    .dataframe thead th {\n",
              "        text-align: right;\n",
              "    }\n",
              "</style>\n",
              "<table border=\"1\" class=\"dataframe\">\n",
              "  <thead>\n",
              "    <tr style=\"text-align: right;\">\n",
              "      <th></th>\n",
              "      <th>vendor_id</th>\n",
              "      <th>latitude</th>\n",
              "      <th>longitude</th>\n",
              "      <th>vendor_category_en</th>\n",
              "      <th>serving_distance</th>\n",
              "      <th>opening_time</th>\n",
              "      <th>vendor_rating</th>\n",
              "      <th>vendor_tag_name</th>\n",
              "    </tr>\n",
              "  </thead>\n",
              "  <tbody>\n",
              "    <tr>\n",
              "      <th>19</th>\n",
              "      <td>85</td>\n",
              "      <td>-0.600173</td>\n",
              "      <td>0.755861</td>\n",
              "      <td>Sweets &amp; Bakes</td>\n",
              "      <td>5.0</td>\n",
              "      <td>11:59AM-11:30PM</td>\n",
              "      <td>4.6</td>\n",
              "      <td>Desserts,Omani</td>\n",
              "    </tr>\n",
              "    <tr>\n",
              "      <th>46</th>\n",
              "      <td>196</td>\n",
              "      <td>-1.787413</td>\n",
              "      <td>0.006934</td>\n",
              "      <td>Sweets &amp; Bakes</td>\n",
              "      <td>10.0</td>\n",
              "      <td>06:00PM-11:59PM</td>\n",
              "      <td>4.4</td>\n",
              "      <td>NaN</td>\n",
              "    </tr>\n",
              "    <tr>\n",
              "      <th>55</th>\n",
              "      <td>231</td>\n",
              "      <td>205.242327</td>\n",
              "      <td>44.210807</td>\n",
              "      <td>Sweets &amp; Bakes</td>\n",
              "      <td>10.0</td>\n",
              "      <td>9am-10pm</td>\n",
              "      <td>4.3</td>\n",
              "      <td>NaN</td>\n",
              "    </tr>\n",
              "    <tr>\n",
              "      <th>60</th>\n",
              "      <td>265</td>\n",
              "      <td>-0.861073</td>\n",
              "      <td>-0.065147</td>\n",
              "      <td>Sweets &amp; Bakes</td>\n",
              "      <td>10.0</td>\n",
              "      <td>08:00AM-11:45PM</td>\n",
              "      <td>4.3</td>\n",
              "      <td>Desserts,Free Delivery,Fresh Juices,Healthy Fo...</td>\n",
              "    </tr>\n",
              "  </tbody>\n",
              "</table>\n",
              "</div>"
            ],
            "text/plain": [
              "    vendor_id  ...                                    vendor_tag_name\n",
              "19         85  ...                                     Desserts,Omani\n",
              "46        196  ...                                                NaN\n",
              "55        231  ...                                                NaN\n",
              "60        265  ...  Desserts,Free Delivery,Fresh Juices,Healthy Fo...\n",
              "\n",
              "[4 rows x 8 columns]"
            ]
          },
          "metadata": {
            "tags": []
          },
          "execution_count": 47
        }
      ]
    },
    {
      "cell_type": "code",
      "metadata": {
        "id": "BKFdMwimHul7",
        "colab_type": "code",
        "colab": {
          "base_uri": "https://localhost:8080/",
          "height": 34
        },
        "outputId": "b3cacd0a-d377-4cb1-f0c5-6ad4bbbd1259"
      },
      "source": [
        "# 4. Gebe die Anzahl der Kunden aus, die schon einmal bei einer Bestellung den Lieferanten höher als den Fahrer bewertet haben\n",
        "orders.loc[orders['vendor_rating']>orders['driver_rating'], 'customer_id'].nunique()"
      ],
      "execution_count": null,
      "outputs": [
        {
          "output_type": "execute_result",
          "data": {
            "text/plain": [
              "1481"
            ]
          },
          "metadata": {
            "tags": []
          },
          "execution_count": 48
        }
      ]
    },
    {
      "cell_type": "code",
      "metadata": {
        "id": "rtEfD3_1KBWJ",
        "colab_type": "code",
        "colab": {
          "base_uri": "https://localhost:8080/",
          "height": 80
        },
        "outputId": "67b52fa9-0925-43aa-b31c-6c68dbf999fc"
      },
      "source": [
        "# 5. Gebe die Lieferanten-Datensätze aus, die \"Pizza\" und \"Pasta\" aber kein \"Italian\" im Angebot haben.\n",
        "vendors.loc[vendors['vendor_tag_name'].str.contains('Pasta', na=False) &\n",
        "            vendors['vendor_tag_name'].str.contains('Pizza', na=False) &\n",
        "            ~vendors['vendor_tag_name'].str.contains('Italian', na=False)]"
      ],
      "execution_count": null,
      "outputs": [
        {
          "output_type": "execute_result",
          "data": {
            "text/html": [
              "<div>\n",
              "<style scoped>\n",
              "    .dataframe tbody tr th:only-of-type {\n",
              "        vertical-align: middle;\n",
              "    }\n",
              "\n",
              "    .dataframe tbody tr th {\n",
              "        vertical-align: top;\n",
              "    }\n",
              "\n",
              "    .dataframe thead th {\n",
              "        text-align: right;\n",
              "    }\n",
              "</style>\n",
              "<table border=\"1\" class=\"dataframe\">\n",
              "  <thead>\n",
              "    <tr style=\"text-align: right;\">\n",
              "      <th></th>\n",
              "      <th>vendor_id</th>\n",
              "      <th>latitude</th>\n",
              "      <th>longitude</th>\n",
              "      <th>vendor_category_en</th>\n",
              "      <th>serving_distance</th>\n",
              "      <th>opening_time</th>\n",
              "      <th>vendor_rating</th>\n",
              "      <th>vendor_tag_name</th>\n",
              "    </tr>\n",
              "  </thead>\n",
              "  <tbody>\n",
              "    <tr>\n",
              "      <th>73</th>\n",
              "      <td>356</td>\n",
              "      <td>-0.845096</td>\n",
              "      <td>0.067013</td>\n",
              "      <td>Restaurants</td>\n",
              "      <td>15.0</td>\n",
              "      <td>11:00AM-111:00PM</td>\n",
              "      <td>4.2</td>\n",
              "      <td>American,Kids meal,Pasta,Pizzas,Salads</td>\n",
              "    </tr>\n",
              "  </tbody>\n",
              "</table>\n",
              "</div>"
            ],
            "text/plain": [
              "    vendor_id  latitude  ...  vendor_rating                         vendor_tag_name\n",
              "73        356 -0.845096  ...            4.2  American,Kids meal,Pasta,Pizzas,Salads\n",
              "\n",
              "[1 rows x 8 columns]"
            ]
          },
          "metadata": {
            "tags": []
          },
          "execution_count": 49
        }
      ]
    },
    {
      "cell_type": "markdown",
      "metadata": {
        "id": "RDDSEeNUxYeV",
        "colab_type": "text"
      },
      "source": [
        "## Spalten transformieren, hinzufügen oder entfernen"
      ]
    },
    {
      "cell_type": "markdown",
      "metadata": {
        "id": "5FbX5PeV-MXX",
        "colab_type": "text"
      },
      "source": [
        "### Numerische Spalten\n",
        "\n",
        "Die Werte einer bestehenden Spalte können durch eine erneute Zuweisung ersetzt werden. Zum Beispiel kannst Du die Größe der Blätter in mm statt in cm angeben:"
      ]
    },
    {
      "cell_type": "code",
      "metadata": {
        "id": "HdclP_lG1G-Y",
        "colab_type": "code",
        "colab": {
          "base_uri": "https://localhost:8080/",
          "height": 204
        },
        "outputId": "428a68cf-9c09-4608-fa0f-00b48a6ac334"
      },
      "source": [
        "iris_cm = iris.copy()\n",
        "iris_cm['petal_width'] = iris_cm['petal_width']*10\n",
        "iris_cm['petal_length'] = iris_cm['petal_length']*10\n",
        "iris_cm['sepal_width'] = iris_cm['sepal_width']*10\n",
        "iris_cm['sepal_length'] = iris_cm['sepal_length']*10\n",
        "iris_cm.head()"
      ],
      "execution_count": null,
      "outputs": [
        {
          "output_type": "execute_result",
          "data": {
            "text/html": [
              "<div>\n",
              "<style scoped>\n",
              "    .dataframe tbody tr th:only-of-type {\n",
              "        vertical-align: middle;\n",
              "    }\n",
              "\n",
              "    .dataframe tbody tr th {\n",
              "        vertical-align: top;\n",
              "    }\n",
              "\n",
              "    .dataframe thead th {\n",
              "        text-align: right;\n",
              "    }\n",
              "</style>\n",
              "<table border=\"1\" class=\"dataframe\">\n",
              "  <thead>\n",
              "    <tr style=\"text-align: right;\">\n",
              "      <th></th>\n",
              "      <th>sepal_length</th>\n",
              "      <th>sepal_width</th>\n",
              "      <th>petal_length</th>\n",
              "      <th>petal_width</th>\n",
              "      <th>species</th>\n",
              "    </tr>\n",
              "  </thead>\n",
              "  <tbody>\n",
              "    <tr>\n",
              "      <th>0</th>\n",
              "      <td>51.0</td>\n",
              "      <td>35.0</td>\n",
              "      <td>14.0</td>\n",
              "      <td>2.0</td>\n",
              "      <td>species-setosa</td>\n",
              "    </tr>\n",
              "    <tr>\n",
              "      <th>1</th>\n",
              "      <td>49.0</td>\n",
              "      <td>30.0</td>\n",
              "      <td>14.0</td>\n",
              "      <td>2.0</td>\n",
              "      <td>species-setosa</td>\n",
              "    </tr>\n",
              "    <tr>\n",
              "      <th>2</th>\n",
              "      <td>47.0</td>\n",
              "      <td>32.0</td>\n",
              "      <td>13.0</td>\n",
              "      <td>2.0</td>\n",
              "      <td>species-setosa</td>\n",
              "    </tr>\n",
              "    <tr>\n",
              "      <th>3</th>\n",
              "      <td>46.0</td>\n",
              "      <td>31.0</td>\n",
              "      <td>15.0</td>\n",
              "      <td>2.0</td>\n",
              "      <td>species-setosa</td>\n",
              "    </tr>\n",
              "    <tr>\n",
              "      <th>4</th>\n",
              "      <td>50.0</td>\n",
              "      <td>36.0</td>\n",
              "      <td>14.0</td>\n",
              "      <td>2.0</td>\n",
              "      <td>species-setosa</td>\n",
              "    </tr>\n",
              "  </tbody>\n",
              "</table>\n",
              "</div>"
            ],
            "text/plain": [
              "   sepal_length  sepal_width  petal_length  petal_width         species\n",
              "0          51.0         35.0          14.0          2.0  species-setosa\n",
              "1          49.0         30.0          14.0          2.0  species-setosa\n",
              "2          47.0         32.0          13.0          2.0  species-setosa\n",
              "3          46.0         31.0          15.0          2.0  species-setosa\n",
              "4          50.0         36.0          14.0          2.0  species-setosa"
            ]
          },
          "metadata": {
            "tags": []
          },
          "execution_count": 50
        }
      ]
    },
    {
      "cell_type": "markdown",
      "metadata": {
        "id": "RWrh0h1s0v1e",
        "colab_type": "text"
      },
      "source": [
        "Neue Spalten können direkt über eine Zuweisung unter Angabe des neuen Spaltennamens angelegt werden. Zum Beispiel kannst Du so eine neue Spalte mit der ungefähren Fläche der Blüttenblätter hinzufügen:"
      ]
    },
    {
      "cell_type": "code",
      "metadata": {
        "id": "3cdXXsWVktJe",
        "colab_type": "code",
        "colab": {
          "base_uri": "https://localhost:8080/",
          "height": 204
        },
        "outputId": "326b7c0d-2a19-4e1a-8dd3-d5c51c7899b9"
      },
      "source": [
        "iris['petal_area'] = iris['petal_length']/2 * iris['petal_width']/2 * np.pi\n",
        "iris.head()"
      ],
      "execution_count": null,
      "outputs": [
        {
          "output_type": "execute_result",
          "data": {
            "text/html": [
              "<div>\n",
              "<style scoped>\n",
              "    .dataframe tbody tr th:only-of-type {\n",
              "        vertical-align: middle;\n",
              "    }\n",
              "\n",
              "    .dataframe tbody tr th {\n",
              "        vertical-align: top;\n",
              "    }\n",
              "\n",
              "    .dataframe thead th {\n",
              "        text-align: right;\n",
              "    }\n",
              "</style>\n",
              "<table border=\"1\" class=\"dataframe\">\n",
              "  <thead>\n",
              "    <tr style=\"text-align: right;\">\n",
              "      <th></th>\n",
              "      <th>sepal_length</th>\n",
              "      <th>sepal_width</th>\n",
              "      <th>petal_length</th>\n",
              "      <th>petal_width</th>\n",
              "      <th>species</th>\n",
              "      <th>petal_area</th>\n",
              "    </tr>\n",
              "  </thead>\n",
              "  <tbody>\n",
              "    <tr>\n",
              "      <th>0</th>\n",
              "      <td>5.1</td>\n",
              "      <td>3.5</td>\n",
              "      <td>1.4</td>\n",
              "      <td>0.2</td>\n",
              "      <td>species-setosa</td>\n",
              "      <td>0.219911</td>\n",
              "    </tr>\n",
              "    <tr>\n",
              "      <th>1</th>\n",
              "      <td>4.9</td>\n",
              "      <td>3.0</td>\n",
              "      <td>1.4</td>\n",
              "      <td>0.2</td>\n",
              "      <td>species-setosa</td>\n",
              "      <td>0.219911</td>\n",
              "    </tr>\n",
              "    <tr>\n",
              "      <th>2</th>\n",
              "      <td>4.7</td>\n",
              "      <td>3.2</td>\n",
              "      <td>1.3</td>\n",
              "      <td>0.2</td>\n",
              "      <td>species-setosa</td>\n",
              "      <td>0.204204</td>\n",
              "    </tr>\n",
              "    <tr>\n",
              "      <th>3</th>\n",
              "      <td>4.6</td>\n",
              "      <td>3.1</td>\n",
              "      <td>1.5</td>\n",
              "      <td>0.2</td>\n",
              "      <td>species-setosa</td>\n",
              "      <td>0.235619</td>\n",
              "    </tr>\n",
              "    <tr>\n",
              "      <th>4</th>\n",
              "      <td>5.0</td>\n",
              "      <td>3.6</td>\n",
              "      <td>1.4</td>\n",
              "      <td>0.2</td>\n",
              "      <td>species-setosa</td>\n",
              "      <td>0.219911</td>\n",
              "    </tr>\n",
              "  </tbody>\n",
              "</table>\n",
              "</div>"
            ],
            "text/plain": [
              "   sepal_length  sepal_width  ...         species  petal_area\n",
              "0           5.1          3.5  ...  species-setosa    0.219911\n",
              "1           4.9          3.0  ...  species-setosa    0.219911\n",
              "2           4.7          3.2  ...  species-setosa    0.204204\n",
              "3           4.6          3.1  ...  species-setosa    0.235619\n",
              "4           5.0          3.6  ...  species-setosa    0.219911\n",
              "\n",
              "[5 rows x 6 columns]"
            ]
          },
          "metadata": {
            "tags": []
          },
          "execution_count": 55
        }
      ]
    },
    {
      "cell_type": "markdown",
      "metadata": {
        "id": "dE8UwTD8pwsQ",
        "colab_type": "text"
      },
      "source": [
        "### Spalten umbenennen oder löschen\n",
        "\n",
        "Spalten können auch umbenannt..."
      ]
    },
    {
      "cell_type": "code",
      "metadata": {
        "id": "9h6OHt3iTqz7",
        "colab_type": "code",
        "colab": {
          "base_uri": "https://localhost:8080/",
          "height": 204
        },
        "outputId": "2c3ad1ee-87ac-41ee-a57a-a50f183fed7c"
      },
      "source": [
        "iris.rename(columns={'species': 'type'}).head()"
      ],
      "execution_count": null,
      "outputs": [
        {
          "output_type": "execute_result",
          "data": {
            "text/html": [
              "<div>\n",
              "<style scoped>\n",
              "    .dataframe tbody tr th:only-of-type {\n",
              "        vertical-align: middle;\n",
              "    }\n",
              "\n",
              "    .dataframe tbody tr th {\n",
              "        vertical-align: top;\n",
              "    }\n",
              "\n",
              "    .dataframe thead th {\n",
              "        text-align: right;\n",
              "    }\n",
              "</style>\n",
              "<table border=\"1\" class=\"dataframe\">\n",
              "  <thead>\n",
              "    <tr style=\"text-align: right;\">\n",
              "      <th></th>\n",
              "      <th>sepal_length</th>\n",
              "      <th>sepal_width</th>\n",
              "      <th>petal_length</th>\n",
              "      <th>petal_width</th>\n",
              "      <th>type</th>\n",
              "      <th>petal_area</th>\n",
              "    </tr>\n",
              "  </thead>\n",
              "  <tbody>\n",
              "    <tr>\n",
              "      <th>0</th>\n",
              "      <td>5.1</td>\n",
              "      <td>3.5</td>\n",
              "      <td>1.4</td>\n",
              "      <td>0.2</td>\n",
              "      <td>species-setosa</td>\n",
              "      <td>0.219911</td>\n",
              "    </tr>\n",
              "    <tr>\n",
              "      <th>1</th>\n",
              "      <td>4.9</td>\n",
              "      <td>3.0</td>\n",
              "      <td>1.4</td>\n",
              "      <td>0.2</td>\n",
              "      <td>species-setosa</td>\n",
              "      <td>0.219911</td>\n",
              "    </tr>\n",
              "    <tr>\n",
              "      <th>2</th>\n",
              "      <td>4.7</td>\n",
              "      <td>3.2</td>\n",
              "      <td>1.3</td>\n",
              "      <td>0.2</td>\n",
              "      <td>species-setosa</td>\n",
              "      <td>0.204204</td>\n",
              "    </tr>\n",
              "    <tr>\n",
              "      <th>3</th>\n",
              "      <td>4.6</td>\n",
              "      <td>3.1</td>\n",
              "      <td>1.5</td>\n",
              "      <td>0.2</td>\n",
              "      <td>species-setosa</td>\n",
              "      <td>0.235619</td>\n",
              "    </tr>\n",
              "    <tr>\n",
              "      <th>4</th>\n",
              "      <td>5.0</td>\n",
              "      <td>3.6</td>\n",
              "      <td>1.4</td>\n",
              "      <td>0.2</td>\n",
              "      <td>species-setosa</td>\n",
              "      <td>0.219911</td>\n",
              "    </tr>\n",
              "  </tbody>\n",
              "</table>\n",
              "</div>"
            ],
            "text/plain": [
              "   sepal_length  sepal_width  ...            type  petal_area\n",
              "0           5.1          3.5  ...  species-setosa    0.219911\n",
              "1           4.9          3.0  ...  species-setosa    0.219911\n",
              "2           4.7          3.2  ...  species-setosa    0.204204\n",
              "3           4.6          3.1  ...  species-setosa    0.235619\n",
              "4           5.0          3.6  ...  species-setosa    0.219911\n",
              "\n",
              "[5 rows x 6 columns]"
            ]
          },
          "metadata": {
            "tags": []
          },
          "execution_count": 56
        }
      ]
    },
    {
      "cell_type": "markdown",
      "metadata": {
        "id": "YLE6D-7HK91Z",
        "colab_type": "text"
      },
      "source": [
        "... oder gelöscht werden:"
      ]
    },
    {
      "cell_type": "code",
      "metadata": {
        "id": "6q_MV2Xso8N0",
        "colab_type": "code",
        "colab": {
          "base_uri": "https://localhost:8080/",
          "height": 204
        },
        "outputId": "cc6f8434-dfa0-46b2-a0b8-9ff27ecf2728"
      },
      "source": [
        "iris.drop(columns=['petal_area'], inplace=True) # ohne inplace=True liefert drop eine Kopie des DataFrames zurück\n",
        "iris.head()"
      ],
      "execution_count": null,
      "outputs": [
        {
          "output_type": "execute_result",
          "data": {
            "text/html": [
              "<div>\n",
              "<style scoped>\n",
              "    .dataframe tbody tr th:only-of-type {\n",
              "        vertical-align: middle;\n",
              "    }\n",
              "\n",
              "    .dataframe tbody tr th {\n",
              "        vertical-align: top;\n",
              "    }\n",
              "\n",
              "    .dataframe thead th {\n",
              "        text-align: right;\n",
              "    }\n",
              "</style>\n",
              "<table border=\"1\" class=\"dataframe\">\n",
              "  <thead>\n",
              "    <tr style=\"text-align: right;\">\n",
              "      <th></th>\n",
              "      <th>sepal_length</th>\n",
              "      <th>sepal_width</th>\n",
              "      <th>petal_length</th>\n",
              "      <th>petal_width</th>\n",
              "      <th>species</th>\n",
              "    </tr>\n",
              "  </thead>\n",
              "  <tbody>\n",
              "    <tr>\n",
              "      <th>0</th>\n",
              "      <td>5.1</td>\n",
              "      <td>3.5</td>\n",
              "      <td>1.4</td>\n",
              "      <td>0.2</td>\n",
              "      <td>species-setosa</td>\n",
              "    </tr>\n",
              "    <tr>\n",
              "      <th>1</th>\n",
              "      <td>4.9</td>\n",
              "      <td>3.0</td>\n",
              "      <td>1.4</td>\n",
              "      <td>0.2</td>\n",
              "      <td>species-setosa</td>\n",
              "    </tr>\n",
              "    <tr>\n",
              "      <th>2</th>\n",
              "      <td>4.7</td>\n",
              "      <td>3.2</td>\n",
              "      <td>1.3</td>\n",
              "      <td>0.2</td>\n",
              "      <td>species-setosa</td>\n",
              "    </tr>\n",
              "    <tr>\n",
              "      <th>3</th>\n",
              "      <td>4.6</td>\n",
              "      <td>3.1</td>\n",
              "      <td>1.5</td>\n",
              "      <td>0.2</td>\n",
              "      <td>species-setosa</td>\n",
              "    </tr>\n",
              "    <tr>\n",
              "      <th>4</th>\n",
              "      <td>5.0</td>\n",
              "      <td>3.6</td>\n",
              "      <td>1.4</td>\n",
              "      <td>0.2</td>\n",
              "      <td>species-setosa</td>\n",
              "    </tr>\n",
              "  </tbody>\n",
              "</table>\n",
              "</div>"
            ],
            "text/plain": [
              "   sepal_length  sepal_width  petal_length  petal_width         species\n",
              "0           5.1          3.5           1.4          0.2  species-setosa\n",
              "1           4.9          3.0           1.4          0.2  species-setosa\n",
              "2           4.7          3.2           1.3          0.2  species-setosa\n",
              "3           4.6          3.1           1.5          0.2  species-setosa\n",
              "4           5.0          3.6           1.4          0.2  species-setosa"
            ]
          },
          "metadata": {
            "tags": []
          },
          "execution_count": 57
        }
      ]
    },
    {
      "cell_type": "markdown",
      "metadata": {
        "id": "lkL7tdSI4QEu",
        "colab_type": "text"
      },
      "source": [
        "### Spalten mit Strings\n",
        "\n",
        "In vielen Fällen sind in Strings Informationen \"versteckt\", die Du mit ein paar Transformationen herauskitzeln kannst.\n",
        "\n",
        "Du kannst zum Beispiel einen Teilstring durch einen anderen mit `str.replace` ersetzen.\n"
      ]
    },
    {
      "cell_type": "code",
      "metadata": {
        "id": "GkQlwbAW5QYx",
        "colab_type": "code",
        "colab": {
          "base_uri": "https://localhost:8080/",
          "height": 119
        },
        "outputId": "06331c49-5632-489a-9f48-f41bbf01105c"
      },
      "source": [
        "iris['species'].str.replace('species-', '').head()"
      ],
      "execution_count": null,
      "outputs": [
        {
          "output_type": "execute_result",
          "data": {
            "text/plain": [
              "0    setosa\n",
              "1    setosa\n",
              "2    setosa\n",
              "3    setosa\n",
              "4    setosa\n",
              "Name: species, dtype: object"
            ]
          },
          "metadata": {
            "tags": []
          },
          "execution_count": 61
        }
      ]
    },
    {
      "cell_type": "markdown",
      "metadata": {
        "id": "mdEBJE3V7ndA",
        "colab_type": "text"
      },
      "source": [
        "Die Methode `str.split` zerteilt einen String auf Basis eines Trennzeichens."
      ]
    },
    {
      "cell_type": "code",
      "metadata": {
        "id": "ZWpdsakC5pfE",
        "colab_type": "code",
        "colab": {
          "base_uri": "https://localhost:8080/",
          "height": 204
        },
        "outputId": "85f5ebb3-3a8f-4f68-a618-7ad55492304e"
      },
      "source": [
        "iris['species'].str.split('-', expand=True).head()"
      ],
      "execution_count": null,
      "outputs": [
        {
          "output_type": "execute_result",
          "data": {
            "text/html": [
              "<div>\n",
              "<style scoped>\n",
              "    .dataframe tbody tr th:only-of-type {\n",
              "        vertical-align: middle;\n",
              "    }\n",
              "\n",
              "    .dataframe tbody tr th {\n",
              "        vertical-align: top;\n",
              "    }\n",
              "\n",
              "    .dataframe thead th {\n",
              "        text-align: right;\n",
              "    }\n",
              "</style>\n",
              "<table border=\"1\" class=\"dataframe\">\n",
              "  <thead>\n",
              "    <tr style=\"text-align: right;\">\n",
              "      <th></th>\n",
              "      <th>0</th>\n",
              "      <th>1</th>\n",
              "    </tr>\n",
              "  </thead>\n",
              "  <tbody>\n",
              "    <tr>\n",
              "      <th>0</th>\n",
              "      <td>species</td>\n",
              "      <td>setosa</td>\n",
              "    </tr>\n",
              "    <tr>\n",
              "      <th>1</th>\n",
              "      <td>species</td>\n",
              "      <td>setosa</td>\n",
              "    </tr>\n",
              "    <tr>\n",
              "      <th>2</th>\n",
              "      <td>species</td>\n",
              "      <td>setosa</td>\n",
              "    </tr>\n",
              "    <tr>\n",
              "      <th>3</th>\n",
              "      <td>species</td>\n",
              "      <td>setosa</td>\n",
              "    </tr>\n",
              "    <tr>\n",
              "      <th>4</th>\n",
              "      <td>species</td>\n",
              "      <td>setosa</td>\n",
              "    </tr>\n",
              "  </tbody>\n",
              "</table>\n",
              "</div>"
            ],
            "text/plain": [
              "         0       1\n",
              "0  species  setosa\n",
              "1  species  setosa\n",
              "2  species  setosa\n",
              "3  species  setosa\n",
              "4  species  setosa"
            ]
          },
          "metadata": {
            "tags": []
          },
          "execution_count": 62
        }
      ]
    },
    {
      "cell_type": "markdown",
      "metadata": {
        "id": "nGXLDTN18Qqq",
        "colab_type": "text"
      },
      "source": [
        "Die neuen Spalten, die `str.split` liefert könntest Du in einen DataFrame unter Angabe der Spaltennamen als Liste einfügen: `df[['colname_left', 'colname_right']] = df['colname'].str.split(...)`\n",
        "\n",
        "Wenn das Trennzeichen nicht reicht, unterstützt die Methode `str.extract` auch reguläre Ausdrücke und erzeugt für jede Gruppe eine neue Spalte.\n",
        "\n",
        "Mehr Infos zu den Pandas-Funktionen für Strings:\n",
        "*   https://pandas.pydata.org/pandas-docs/stable/user_guide/text.html"
      ]
    },
    {
      "cell_type": "code",
      "metadata": {
        "id": "g97bPkUi9y9l",
        "colab_type": "code",
        "colab": {
          "base_uri": "https://localhost:8080/",
          "height": 204
        },
        "outputId": "d2fff648-d922-4010-ccff-1357c195a28d"
      },
      "source": [
        "iris['species'].str.extract(r'(spe)([a-z]+)-([a-z]+)', expand=True).head()"
      ],
      "execution_count": null,
      "outputs": [
        {
          "output_type": "execute_result",
          "data": {
            "text/html": [
              "<div>\n",
              "<style scoped>\n",
              "    .dataframe tbody tr th:only-of-type {\n",
              "        vertical-align: middle;\n",
              "    }\n",
              "\n",
              "    .dataframe tbody tr th {\n",
              "        vertical-align: top;\n",
              "    }\n",
              "\n",
              "    .dataframe thead th {\n",
              "        text-align: right;\n",
              "    }\n",
              "</style>\n",
              "<table border=\"1\" class=\"dataframe\">\n",
              "  <thead>\n",
              "    <tr style=\"text-align: right;\">\n",
              "      <th></th>\n",
              "      <th>0</th>\n",
              "      <th>1</th>\n",
              "      <th>2</th>\n",
              "    </tr>\n",
              "  </thead>\n",
              "  <tbody>\n",
              "    <tr>\n",
              "      <th>0</th>\n",
              "      <td>spe</td>\n",
              "      <td>cies</td>\n",
              "      <td>setosa</td>\n",
              "    </tr>\n",
              "    <tr>\n",
              "      <th>1</th>\n",
              "      <td>spe</td>\n",
              "      <td>cies</td>\n",
              "      <td>setosa</td>\n",
              "    </tr>\n",
              "    <tr>\n",
              "      <th>2</th>\n",
              "      <td>spe</td>\n",
              "      <td>cies</td>\n",
              "      <td>setosa</td>\n",
              "    </tr>\n",
              "    <tr>\n",
              "      <th>3</th>\n",
              "      <td>spe</td>\n",
              "      <td>cies</td>\n",
              "      <td>setosa</td>\n",
              "    </tr>\n",
              "    <tr>\n",
              "      <th>4</th>\n",
              "      <td>spe</td>\n",
              "      <td>cies</td>\n",
              "      <td>setosa</td>\n",
              "    </tr>\n",
              "  </tbody>\n",
              "</table>\n",
              "</div>"
            ],
            "text/plain": [
              "     0     1       2\n",
              "0  spe  cies  setosa\n",
              "1  spe  cies  setosa\n",
              "2  spe  cies  setosa\n",
              "3  spe  cies  setosa\n",
              "4  spe  cies  setosa"
            ]
          },
          "metadata": {
            "tags": []
          },
          "execution_count": 63
        }
      ]
    },
    {
      "cell_type": "markdown",
      "metadata": {
        "id": "0SqWeMAy4Jo4",
        "colab_type": "text"
      },
      "source": [
        "### Spalten mit Datum und Zeit\n",
        "\n",
        "Wenn es um Datum und Zeit geht, wird es oft ein wenig kompliziert. In Pandas gibt es deshalb eine Unmenge an Funktionalität um Datumsangaben und Zeiten zu verarbeiten. Im Folgenden eine Mini-Auswahl...\n",
        "\n",
        "Zur Extraktion einer Komponente wie Jahr (`dt.year`), Monat (`dt.month`), Stunde (`dt.hour`) oder Name des Wochentags (`dt.day_name()`)"
      ]
    },
    {
      "cell_type": "code",
      "metadata": {
        "id": "b5AjbcKJhxIo",
        "colab_type": "code",
        "colab": {
          "base_uri": "https://localhost:8080/",
          "height": 102
        },
        "outputId": "ba7e6d45-bb38-4ad6-80b3-92823e1906b9"
      },
      "source": [
        "d = pd.Series(pd.date_range('2020-02-28', periods=4, freq='d')) # Iris hat keine Spalten mit Datum/Zeit, deshalb erzeugen wir welche\n",
        "d"
      ],
      "execution_count": null,
      "outputs": [
        {
          "output_type": "execute_result",
          "data": {
            "text/plain": [
              "0   2020-02-28\n",
              "1   2020-02-29\n",
              "2   2020-03-01\n",
              "3   2020-03-02\n",
              "dtype: datetime64[ns]"
            ]
          },
          "metadata": {
            "tags": []
          },
          "execution_count": 64
        }
      ]
    },
    {
      "cell_type": "code",
      "metadata": {
        "id": "kbjZXUzdib0d",
        "colab_type": "code",
        "colab": {
          "base_uri": "https://localhost:8080/",
          "height": 102
        },
        "outputId": "45c4a664-fb27-46c7-b9de-66aefe1fc966"
      },
      "source": [
        "d.dt.month"
      ],
      "execution_count": null,
      "outputs": [
        {
          "output_type": "execute_result",
          "data": {
            "text/plain": [
              "0    2\n",
              "1    2\n",
              "2    3\n",
              "3    3\n",
              "dtype: int64"
            ]
          },
          "metadata": {
            "tags": []
          },
          "execution_count": 65
        }
      ]
    },
    {
      "cell_type": "markdown",
      "metadata": {
        "id": "D42jZ9OUii-S",
        "colab_type": "text"
      },
      "source": [
        "Um ein Datum in die Zukunft oder Vergangenheit zu verschieben, kannst Du `pd.DateOffset`, `pandas.tseries.offsets.MonthEnd`, etc. nutzen.\n"
      ]
    },
    {
      "cell_type": "code",
      "metadata": {
        "id": "ZjK3W1vIitjU",
        "colab_type": "code",
        "colab": {
          "base_uri": "https://localhost:8080/",
          "height": 102
        },
        "outputId": "5535b7f3-f19b-45e5-af52-1cd8f55e4268"
      },
      "source": [
        "d + pd.DateOffset(days=1)"
      ],
      "execution_count": null,
      "outputs": [
        {
          "output_type": "execute_result",
          "data": {
            "text/plain": [
              "0   2020-02-29\n",
              "1   2020-03-01\n",
              "2   2020-03-02\n",
              "3   2020-03-03\n",
              "dtype: datetime64[ns]"
            ]
          },
          "metadata": {
            "tags": []
          },
          "execution_count": 66
        }
      ]
    },
    {
      "cell_type": "code",
      "metadata": {
        "id": "IBP7Fd62ixNu",
        "colab_type": "code",
        "colab": {
          "base_uri": "https://localhost:8080/",
          "height": 102
        },
        "outputId": "775e340e-ce60-483e-d5f4-9ed1abb1d4f4"
      },
      "source": [
        "from pandas.tseries.offsets import MonthEnd\n",
        "d + MonthEnd(0)"
      ],
      "execution_count": null,
      "outputs": [
        {
          "output_type": "execute_result",
          "data": {
            "text/plain": [
              "0   2020-02-29\n",
              "1   2020-02-29\n",
              "2   2020-03-31\n",
              "3   2020-03-31\n",
              "dtype: datetime64[ns]"
            ]
          },
          "metadata": {
            "tags": []
          },
          "execution_count": 67
        }
      ]
    },
    {
      "cell_type": "markdown",
      "metadata": {
        "id": "zDhKy-xfipNh",
        "colab_type": "text"
      },
      "source": [
        "Der Abstand zwischen zwei Daten kann mit dem normalen Differenz-Operator `-` berechnet werden und liefert Objekte der Klasse `Timedelta`."
      ]
    },
    {
      "cell_type": "code",
      "metadata": {
        "id": "slGMSgbljrjV",
        "colab_type": "code",
        "colab": {
          "base_uri": "https://localhost:8080/",
          "height": 102
        },
        "outputId": "86ce4227-8ec0-4f4a-c81e-4ef20763121b"
      },
      "source": [
        "# Tage bis zum Monatsende berechnen\n",
        "d2 = d + MonthEnd(0)\n",
        "d2-d"
      ],
      "execution_count": null,
      "outputs": [
        {
          "output_type": "execute_result",
          "data": {
            "text/plain": [
              "0    1 days\n",
              "1    0 days\n",
              "2   30 days\n",
              "3   29 days\n",
              "dtype: timedelta64[ns]"
            ]
          },
          "metadata": {
            "tags": []
          },
          "execution_count": 68
        }
      ]
    },
    {
      "cell_type": "markdown",
      "metadata": {
        "id": "j9R6YnJ0lK3M",
        "colab_type": "text"
      },
      "source": [
        "Mehr Infos zu den Pandas-Funktionen für Zeitangaben:\n",
        "*   https://pandas.pydata.org/pandas-docs/stable/user_guide/timeseries.html\n",
        "*   https://pandas.pydata.org/pandas-docs/stable/user_guide/timedeltas.html"
      ]
    },
    {
      "cell_type": "markdown",
      "metadata": {
        "id": "P47r1wr-AFfv",
        "colab_type": "text"
      },
      "source": [
        "### Übung\n",
        "\n",
        "Jetzt zu den Aufgaben für Dich:\n",
        "\n",
        "1.   Erzeuge eine Spalte *delivered_weekday_name* für die Bestellungen mit dem Wochentag an dem die Bestellung ausgeliefert wurde.\n",
        "2.   Ermittel, wie viele Bestellungen an einem Sonntag und wie viele an einem Montag ausgeliefert wurden.\n",
        "3.   Ermittel, wie viel Zeit durchschnittlich zwischen der Annahme einer Bestellung (*order_accepted_time*) und der Auslieferung (*delivered_time*) verging.\n",
        "4.   Extrahiere für die Lieferanten aus der Spalte *opening_time* wann der Lieferant öffnet/schließt und erzeuge dafür die zwei neuen Spalten *opens_at* und *closes_at* und lösche danach die Spalte *opening_time*."
      ]
    },
    {
      "cell_type": "code",
      "metadata": {
        "id": "Jvt-tCi7k13J",
        "colab_type": "code",
        "colab": {}
      },
      "source": [
        "# Platz für Deine Übungen :)"
      ],
      "execution_count": null,
      "outputs": []
    },
    {
      "cell_type": "markdown",
      "metadata": {
        "id": "IuvHHv9a56ym",
        "colab_type": "text"
      },
      "source": [
        "### Lösungen"
      ]
    },
    {
      "cell_type": "code",
      "metadata": {
        "id": "HbsFzVhM586u",
        "colab_type": "code",
        "colab": {
          "base_uri": "https://localhost:8080/",
          "height": 51
        },
        "outputId": "71758aab-fe1f-4aff-fcc4-b579a3d10d18"
      },
      "source": [
        "# 1. Erzeuge eine Spalte *delivered_weekday_name* für die Bestellungen mit dem Wochentag an dem die Bestellung ausgeliefert wurde.\n",
        "orders['delivered_weekday_name'] = orders['delivered_time'].dt.day_name()\n",
        "orders['delivered_weekday_name'].unique()"
      ],
      "execution_count": null,
      "outputs": [
        {
          "output_type": "execute_result",
          "data": {
            "text/plain": [
              "array([nan, 'Wednesday', 'Monday', 'Saturday', 'Thursday', 'Friday',\n",
              "       'Sunday', 'Tuesday'], dtype=object)"
            ]
          },
          "metadata": {
            "tags": []
          },
          "execution_count": 69
        }
      ]
    },
    {
      "cell_type": "code",
      "metadata": {
        "id": "NPUCdxQ988-Y",
        "colab_type": "code",
        "colab": {
          "base_uri": "https://localhost:8080/",
          "height": 51
        },
        "outputId": "f2f41227-b36c-40b0-cb4c-6d72809bd6fe"
      },
      "source": [
        "# 2. Ermittel, wie viele Bestellungen an einem Sonntag und wie viele an einem Montag ausgeliefert wurden.\n",
        "print('Sonntag: %d Bestellungen' % orders[orders['delivered_weekday_name']=='Sunday'].shape[0])\n",
        "print('Montag: %d Bestellungen' % orders[orders['delivered_weekday_name']=='Monday'].shape[0])"
      ],
      "execution_count": null,
      "outputs": [
        {
          "output_type": "stream",
          "text": [
            "Sonntag: 12106 Bestellungen\n",
            "Montag: 13178 Bestellungen\n"
          ],
          "name": "stdout"
        }
      ]
    },
    {
      "cell_type": "code",
      "metadata": {
        "id": "n8lCi6Zs--Td",
        "colab_type": "code",
        "colab": {
          "base_uri": "https://localhost:8080/",
          "height": 34
        },
        "outputId": "4b1a0689-e324-4714-df4e-2a4d72ad3edb"
      },
      "source": [
        "# 3. Ermittel, wie viel Zeit durchschnittlich zwischen der Annahme einer Bestellung (*order_accepted_time*) und der Auslieferung (*delivered_time*) verging.\n",
        "(orders['delivered_time'] - orders['order_accepted_time']).mean()"
      ],
      "execution_count": null,
      "outputs": [
        {
          "output_type": "execute_result",
          "data": {
            "text/plain": [
              "Timedelta('0 days 02:20:11.284226')"
            ]
          },
          "metadata": {
            "tags": []
          },
          "execution_count": 71
        }
      ]
    },
    {
      "cell_type": "code",
      "metadata": {
        "id": "G2rCm9btAbqD",
        "colab_type": "code",
        "colab": {}
      },
      "source": [
        "# 4. Extrahiere für die Lieferanten aus der Spalte *opening_time* wann der Lieferant öffnet/schließt und erzeuge dafür die zwei neuen Spalten *opens_at* und *closes_at* und lösche danach die Spalte *opening_time*.\n",
        "vendors[['opens_at', 'closes_at']] = vendors['opening_time'].str.split('-', expand=True)\n",
        "vendors.drop(columns=['opening_time'], inplace=True)\n",
        "vendors.head()"
      ],
      "execution_count": null,
      "outputs": []
    },
    {
      "cell_type": "markdown",
      "metadata": {
        "id": "rih9fBc-yXiO",
        "colab_type": "text"
      },
      "source": [
        "## Daten gezielt verändern\n",
        "\n",
        "Daten, die mit dem Operator `loc` gefiltert wurden, können auch mit neuen Werten überschrieben werden. Das ist nützlich, um Korrekturen durchzuführen oder neue Spalten in mehreren Schritten zu berechnen.\n",
        "\n",
        "Zum Beispiel könnten wir in drei Schritten eine Spalte `sepal_length_category` erstellen, die angibt, ob die Kelchblätter kurz (Länge <80% des Mittelwerts), lang (Länge >120% des Mittelwerts) oder normal (alle anderen) sind. "
      ]
    },
    {
      "cell_type": "code",
      "metadata": {
        "id": "pqHKVhjSyVYx",
        "colab_type": "code",
        "colab": {
          "base_uri": "https://localhost:8080/",
          "height": 173
        },
        "outputId": "ad94530a-f83f-43be-f2bc-1ef86edc95bb"
      },
      "source": [
        "iris['sepal_length_category'] = 'normal' # 1. alle auf 'normal' setzen\n",
        "iris.loc[iris['sepal_length'] > iris['sepal_length'].mean()*1.2, 'sepal_length_category'] = 'long' # 2. nach den langen filtern und auf 'long' setzen\n",
        "iris.loc[iris['sepal_length'] < iris['sepal_length'].mean()*0.8, 'sepal_length_category'] = 'short' # 3. nach den kurzen filtern und auf 'short' setzen\n",
        "iris.loc[iris['sepal_length'].isin([4.3, 6.6, 7.9])]"
      ],
      "execution_count": null,
      "outputs": [
        {
          "output_type": "execute_result",
          "data": {
            "text/html": [
              "<div>\n",
              "<style scoped>\n",
              "    .dataframe tbody tr th:only-of-type {\n",
              "        vertical-align: middle;\n",
              "    }\n",
              "\n",
              "    .dataframe tbody tr th {\n",
              "        vertical-align: top;\n",
              "    }\n",
              "\n",
              "    .dataframe thead th {\n",
              "        text-align: right;\n",
              "    }\n",
              "</style>\n",
              "<table border=\"1\" class=\"dataframe\">\n",
              "  <thead>\n",
              "    <tr style=\"text-align: right;\">\n",
              "      <th></th>\n",
              "      <th>sepal_length</th>\n",
              "      <th>sepal_width</th>\n",
              "      <th>petal_length</th>\n",
              "      <th>petal_width</th>\n",
              "      <th>species</th>\n",
              "      <th>sepal_length_category</th>\n",
              "    </tr>\n",
              "  </thead>\n",
              "  <tbody>\n",
              "    <tr>\n",
              "      <th>13</th>\n",
              "      <td>4.3</td>\n",
              "      <td>3.0</td>\n",
              "      <td>1.1</td>\n",
              "      <td>0.1</td>\n",
              "      <td>species-setosa</td>\n",
              "      <td>short</td>\n",
              "    </tr>\n",
              "    <tr>\n",
              "      <th>58</th>\n",
              "      <td>6.6</td>\n",
              "      <td>2.9</td>\n",
              "      <td>4.6</td>\n",
              "      <td>1.3</td>\n",
              "      <td>species-versicolor</td>\n",
              "      <td>normal</td>\n",
              "    </tr>\n",
              "    <tr>\n",
              "      <th>75</th>\n",
              "      <td>6.6</td>\n",
              "      <td>3.0</td>\n",
              "      <td>4.4</td>\n",
              "      <td>1.4</td>\n",
              "      <td>species-versicolor</td>\n",
              "      <td>normal</td>\n",
              "    </tr>\n",
              "    <tr>\n",
              "      <th>131</th>\n",
              "      <td>7.9</td>\n",
              "      <td>3.8</td>\n",
              "      <td>6.4</td>\n",
              "      <td>2.0</td>\n",
              "      <td>species-virginica</td>\n",
              "      <td>long</td>\n",
              "    </tr>\n",
              "  </tbody>\n",
              "</table>\n",
              "</div>"
            ],
            "text/plain": [
              "     sepal_length  sepal_width  ...             species  sepal_length_category\n",
              "13            4.3          3.0  ...      species-setosa                  short\n",
              "58            6.6          2.9  ...  species-versicolor                 normal\n",
              "75            6.6          3.0  ...  species-versicolor                 normal\n",
              "131           7.9          3.8  ...   species-virginica                   long\n",
              "\n",
              "[4 rows x 6 columns]"
            ]
          },
          "metadata": {
            "tags": []
          },
          "execution_count": 77
        }
      ]
    },
    {
      "cell_type": "markdown",
      "metadata": {
        "id": "9EHufts0KUWf",
        "colab_type": "text"
      },
      "source": [
        "Es muss nicht immer nur eine Zahl oder ein String zugewiesen werden, sondern es können auch mehrere berechnet Werte sein."
      ]
    },
    {
      "cell_type": "code",
      "metadata": {
        "id": "8zT9B6esJDTP",
        "colab_type": "code",
        "colab": {
          "base_uri": "https://localhost:8080/",
          "height": 111
        },
        "outputId": "b74c2afc-1477-4a8d-b93e-895a9db3e2b9"
      },
      "source": [
        "selection_mask = (iris['petal_width']==2) & (iris['petal_length']>6)\n",
        "iris.loc[selection_mask, 'sepal_length'] = iris.loc[selection_mask, 'sepal_length'] + 0.001\n",
        "iris.loc[selection_mask]"
      ],
      "execution_count": null,
      "outputs": [
        {
          "output_type": "execute_result",
          "data": {
            "text/html": [
              "<div>\n",
              "<style scoped>\n",
              "    .dataframe tbody tr th:only-of-type {\n",
              "        vertical-align: middle;\n",
              "    }\n",
              "\n",
              "    .dataframe tbody tr th {\n",
              "        vertical-align: top;\n",
              "    }\n",
              "\n",
              "    .dataframe thead th {\n",
              "        text-align: right;\n",
              "    }\n",
              "</style>\n",
              "<table border=\"1\" class=\"dataframe\">\n",
              "  <thead>\n",
              "    <tr style=\"text-align: right;\">\n",
              "      <th></th>\n",
              "      <th>sepal_length</th>\n",
              "      <th>sepal_width</th>\n",
              "      <th>petal_length</th>\n",
              "      <th>petal_width</th>\n",
              "      <th>species</th>\n",
              "      <th>sepal_length_category</th>\n",
              "    </tr>\n",
              "  </thead>\n",
              "  <tbody>\n",
              "    <tr>\n",
              "      <th>122</th>\n",
              "      <td>7.701</td>\n",
              "      <td>2.8</td>\n",
              "      <td>6.7</td>\n",
              "      <td>2.0</td>\n",
              "      <td>species-virginica</td>\n",
              "      <td>long</td>\n",
              "    </tr>\n",
              "    <tr>\n",
              "      <th>131</th>\n",
              "      <td>7.901</td>\n",
              "      <td>3.8</td>\n",
              "      <td>6.4</td>\n",
              "      <td>2.0</td>\n",
              "      <td>species-virginica</td>\n",
              "      <td>long</td>\n",
              "    </tr>\n",
              "  </tbody>\n",
              "</table>\n",
              "</div>"
            ],
            "text/plain": [
              "     sepal_length  sepal_width  ...            species  sepal_length_category\n",
              "122         7.701          2.8  ...  species-virginica                   long\n",
              "131         7.901          3.8  ...  species-virginica                   long\n",
              "\n",
              "[2 rows x 6 columns]"
            ]
          },
          "metadata": {
            "tags": []
          },
          "execution_count": 78
        }
      ]
    },
    {
      "cell_type": "markdown",
      "metadata": {
        "colab_type": "text",
        "id": "9tr6bpOyLf7p"
      },
      "source": [
        "### Übung\n",
        "\n",
        "Jetzt zu den Aufgaben für Dich:\n",
        "\n",
        "1.   In der Spalte *opens_at* der Lieferanten sind ein paar merkwürdige Werte drin. Erstelle eine Liste der eindeutigen Werte in der Spalte, um die merkwürdigen Werte \"manuell\" identifizieren zu können.\n",
        "2.   Ersetze die merkwürdigen Einträge so, dass am Ende alle Werte ein einheitliches Format haben.\n",
        "3.   Das gleich nochmal für *closes_at*, gerne auch kreativ mit anderen Mitteln als in 1. und 2. :-)"
      ]
    },
    {
      "cell_type": "code",
      "metadata": {
        "colab_type": "code",
        "id": "hAcC1qKzLf7w",
        "colab": {}
      },
      "source": [
        "# Platz für Deine Übungen :)"
      ],
      "execution_count": null,
      "outputs": []
    },
    {
      "cell_type": "markdown",
      "metadata": {
        "id": "1Rc01SAFMH_6",
        "colab_type": "text"
      },
      "source": [
        "### Lösungen"
      ]
    },
    {
      "cell_type": "code",
      "metadata": {
        "id": "OY28Xx_LMI6P",
        "colab_type": "code",
        "colab": {
          "base_uri": "https://localhost:8080/",
          "height": 102
        },
        "outputId": "6f1f9780-b016-4327-cbef-a41476b3747d"
      },
      "source": [
        "# 1. In der Spalte *opens_at* der Lieferanten sind ein paar merkwürdige Werte drin. Erstelle eine Liste der eindeutigen Werte in der Spalte, um die merkwürdigen \"manuell\" identifizieren zu können.\n",
        "vendors['opens_at'].unique()"
      ],
      "execution_count": null,
      "outputs": [
        {
          "output_type": "execute_result",
          "data": {
            "text/plain": [
              "array(['11:00AM', '08:30AM', '08:00AM', '10:59AM', '09:00AM', '05:00PM',\n",
              "       '11:59AM', '10:00AM', '11:15AM', '09:59AM', '8:00AM', '04:00PM',\n",
              "       '11.30am', '7:58AM', '09:00 AM', '05:30PM', '06:00PM', '06:15AM',\n",
              "       '9am', '08:30PM', '01.00PM', '11AM', '11:30AM', '9:00AM',\n",
              "       '04:59PM', '12:00PM', '00:01AM', '9', nan], dtype=object)"
            ]
          },
          "metadata": {
            "tags": []
          },
          "execution_count": 79
        }
      ]
    },
    {
      "cell_type": "code",
      "metadata": {
        "id": "RrH8kNmUM4H5",
        "colab_type": "code",
        "colab": {
          "base_uri": "https://localhost:8080/",
          "height": 85
        },
        "outputId": "03dd744e-d8b3-4982-9ce5-8d4787823f8a"
      },
      "source": [
        "# 2. Ersetze die merkwürdigen Einträge so, dass am Ende alle Werte ein einheitliches Format haben.\n",
        "vendors.loc[vendors['opens_at']=='8:00AM', 'opens_at'] = '08:00AM'\n",
        "vendors.loc[vendors['opens_at']=='09:00 AM', 'opens_at'] = '09:00AM'\n",
        "vendors.loc[vendors['opens_at']=='7:58AM', 'opens_at'] = '07:58AM'\n",
        "vendors.loc[vendors['opens_at']=='9am', 'opens_at'] = '09:00AM'\n",
        "vendors.loc[vendors['opens_at']=='11AM', 'opens_at'] = '11:00AM'\n",
        "vendors.loc[vendors['opens_at']=='9:00AM', 'opens_at'] = '09:00AM'\n",
        "vendors.loc[vendors['opens_at']=='9', 'opens_at'] = '09:00AM'\n",
        "vendors['opens_at'].unique()"
      ],
      "execution_count": null,
      "outputs": [
        {
          "output_type": "execute_result",
          "data": {
            "text/plain": [
              "array(['11:00AM', '08:30AM', '08:00AM', '10:59AM', '09:00AM', '05:00PM',\n",
              "       '11:59AM', '10:00AM', '11:15AM', '09:59AM', '04:00PM', '11.30am',\n",
              "       '07:58AM', '05:30PM', '06:00PM', '06:15AM', '08:30PM', '01.00PM',\n",
              "       '11:30AM', '04:59PM', '12:00PM', '00:01AM', nan], dtype=object)"
            ]
          },
          "metadata": {
            "tags": []
          },
          "execution_count": 80
        }
      ]
    },
    {
      "cell_type": "code",
      "metadata": {
        "id": "-NFrEfbiNjgb",
        "colab_type": "code",
        "colab": {
          "base_uri": "https://localhost:8080/",
          "height": 68
        },
        "outputId": "9e8a507f-2289-4201-e755-b9077bba790f"
      },
      "source": [
        "# 3. Das gleich nochmal für *closes_at*, gerne auch kreativ mit anderen Mitteln als in 1. und 2. :-)\n",
        "vendors.loc[~vendors['closes_at'].str.match('\\d\\d:\\d\\d[AP]M', na=True), 'closes_at'].unique() # regulärer Ausdruck, um auf die falschen Formate zu filtern"
      ],
      "execution_count": null,
      "outputs": [
        {
          "output_type": "execute_result",
          "data": {
            "text/plain": [
              "array(['2:15 am', '3:30PM', '11:45 PM', '3:50pm', '08:00pm ', '10pm',\n",
              "       '02:.00AM', '11PM', '11.59 PM', '1:45PM', '111:00PM', '22'],\n",
              "      dtype=object)"
            ]
          },
          "metadata": {
            "tags": []
          },
          "execution_count": 81
        }
      ]
    },
    {
      "cell_type": "code",
      "metadata": {
        "id": "B9S-jmzLNxIx",
        "colab_type": "code",
        "colab": {
          "base_uri": "https://localhost:8080/",
          "height": 51
        },
        "outputId": "846b04ce-6d1e-4748-ef69-ff9a940b7b0d"
      },
      "source": [
        "vendors['closes_at'] = vendors['closes_at'].str.upper().str.replace(' ', '') # Kleinbuchstaben in Großbuchstaben wandeln und Leerzeichen entfernen\n",
        "vendors['closes_at'] = vendors['closes_at'].str.replace('^(\\d:\\d\\d)', '0\\\\1') # führende 0 ergänzen, wenn sie fehlt\n",
        "vendors.loc[~vendors['closes_at'].str.match('\\d\\d:\\d\\d[AP]M', na=True), 'closes_at'].unique()"
      ],
      "execution_count": null,
      "outputs": [
        {
          "output_type": "execute_result",
          "data": {
            "text/plain": [
              "array(['10PM', '02:.00AM', '11PM', '11.59PM', '111:00PM', '22'],\n",
              "      dtype=object)"
            ]
          },
          "metadata": {
            "tags": []
          },
          "execution_count": 82
        }
      ]
    },
    {
      "cell_type": "code",
      "metadata": {
        "id": "MhkX32v6RQ4Z",
        "colab_type": "code",
        "colab": {
          "base_uri": "https://localhost:8080/",
          "height": 34
        },
        "outputId": "f6455303-6164-4e2e-aed0-c4926dcda4b5"
      },
      "source": [
        "# die restlichen in Kleinarbeit...\n",
        "vendors.loc[vendors['closes_at']=='10PM', 'closes_at'] = '10:00PM'\n",
        "vendors.loc[vendors['closes_at']=='02:.00AM', 'closes_at'] = '02:00AM'\n",
        "vendors.loc[vendors['closes_at']=='11PM', 'closes_at'] = '11:00PM'\n",
        "vendors.loc[vendors['closes_at']=='11.59PM', 'closes_at'] = '11:59PM'\n",
        "vendors.loc[vendors['closes_at']=='111:00PM', 'closes_at'] = '11:00PM'\n",
        "vendors.loc[vendors['closes_at']=='22', 'closes_at'] = '11:00PM'\n",
        "vendors.loc[~vendors['closes_at'].str.match('\\d\\d:\\d\\d[AP]M', na=True), 'closes_at'].unique()"
      ],
      "execution_count": null,
      "outputs": [
        {
          "output_type": "execute_result",
          "data": {
            "text/plain": [
              "array([], dtype=object)"
            ]
          },
          "metadata": {
            "tags": []
          },
          "execution_count": 83
        }
      ]
    },
    {
      "cell_type": "markdown",
      "metadata": {
        "id": "Qt31XNsK7blG",
        "colab_type": "text"
      },
      "source": [
        "## Sortieren, Gruppieren und Aggregieren\n",
        "\n",
        "Wer SQL kann, weiß was jetzt kommt.\n",
        "\n",
        "Sortieren ist ganz einfach."
      ]
    },
    {
      "cell_type": "code",
      "metadata": {
        "id": "RvQfJWPk-0hd",
        "colab_type": "code",
        "colab": {
          "base_uri": "https://localhost:8080/",
          "height": 204
        },
        "outputId": "1df85ab0-dd65-4b5b-e2ad-b8d884c2dc75"
      },
      "source": [
        "iris.sort_values(['sepal_length']).head()"
      ],
      "execution_count": null,
      "outputs": [
        {
          "output_type": "execute_result",
          "data": {
            "text/html": [
              "<div>\n",
              "<style scoped>\n",
              "    .dataframe tbody tr th:only-of-type {\n",
              "        vertical-align: middle;\n",
              "    }\n",
              "\n",
              "    .dataframe tbody tr th {\n",
              "        vertical-align: top;\n",
              "    }\n",
              "\n",
              "    .dataframe thead th {\n",
              "        text-align: right;\n",
              "    }\n",
              "</style>\n",
              "<table border=\"1\" class=\"dataframe\">\n",
              "  <thead>\n",
              "    <tr style=\"text-align: right;\">\n",
              "      <th></th>\n",
              "      <th>sepal_length</th>\n",
              "      <th>sepal_width</th>\n",
              "      <th>petal_length</th>\n",
              "      <th>petal_width</th>\n",
              "      <th>species</th>\n",
              "      <th>sepal_length_category</th>\n",
              "    </tr>\n",
              "  </thead>\n",
              "  <tbody>\n",
              "    <tr>\n",
              "      <th>13</th>\n",
              "      <td>4.3</td>\n",
              "      <td>3.0</td>\n",
              "      <td>1.1</td>\n",
              "      <td>0.1</td>\n",
              "      <td>species-setosa</td>\n",
              "      <td>short</td>\n",
              "    </tr>\n",
              "    <tr>\n",
              "      <th>42</th>\n",
              "      <td>4.4</td>\n",
              "      <td>3.2</td>\n",
              "      <td>1.3</td>\n",
              "      <td>0.2</td>\n",
              "      <td>species-setosa</td>\n",
              "      <td>short</td>\n",
              "    </tr>\n",
              "    <tr>\n",
              "      <th>38</th>\n",
              "      <td>4.4</td>\n",
              "      <td>3.0</td>\n",
              "      <td>1.3</td>\n",
              "      <td>0.2</td>\n",
              "      <td>species-setosa</td>\n",
              "      <td>short</td>\n",
              "    </tr>\n",
              "    <tr>\n",
              "      <th>8</th>\n",
              "      <td>4.4</td>\n",
              "      <td>2.9</td>\n",
              "      <td>1.4</td>\n",
              "      <td>0.2</td>\n",
              "      <td>species-setosa</td>\n",
              "      <td>short</td>\n",
              "    </tr>\n",
              "    <tr>\n",
              "      <th>41</th>\n",
              "      <td>4.5</td>\n",
              "      <td>2.3</td>\n",
              "      <td>1.3</td>\n",
              "      <td>0.3</td>\n",
              "      <td>species-setosa</td>\n",
              "      <td>short</td>\n",
              "    </tr>\n",
              "  </tbody>\n",
              "</table>\n",
              "</div>"
            ],
            "text/plain": [
              "    sepal_length  sepal_width  ...         species  sepal_length_category\n",
              "13           4.3          3.0  ...  species-setosa                  short\n",
              "42           4.4          3.2  ...  species-setosa                  short\n",
              "38           4.4          3.0  ...  species-setosa                  short\n",
              "8            4.4          2.9  ...  species-setosa                  short\n",
              "41           4.5          2.3  ...  species-setosa                  short\n",
              "\n",
              "[5 rows x 6 columns]"
            ]
          },
          "metadata": {
            "tags": []
          },
          "execution_count": 84
        }
      ]
    },
    {
      "cell_type": "code",
      "metadata": {
        "id": "pCm9Widz_V3y",
        "colab_type": "code",
        "colab": {
          "base_uri": "https://localhost:8080/",
          "height": 204
        },
        "outputId": "86b46521-5444-49f5-ac48-aa61310899a5"
      },
      "source": [
        "# Sortieren nach mehreren Spalten geht auch\n",
        "iris.sort_values(['sepal_length', 'sepal_width']).head()"
      ],
      "execution_count": null,
      "outputs": [
        {
          "output_type": "execute_result",
          "data": {
            "text/html": [
              "<div>\n",
              "<style scoped>\n",
              "    .dataframe tbody tr th:only-of-type {\n",
              "        vertical-align: middle;\n",
              "    }\n",
              "\n",
              "    .dataframe tbody tr th {\n",
              "        vertical-align: top;\n",
              "    }\n",
              "\n",
              "    .dataframe thead th {\n",
              "        text-align: right;\n",
              "    }\n",
              "</style>\n",
              "<table border=\"1\" class=\"dataframe\">\n",
              "  <thead>\n",
              "    <tr style=\"text-align: right;\">\n",
              "      <th></th>\n",
              "      <th>sepal_length</th>\n",
              "      <th>sepal_width</th>\n",
              "      <th>petal_length</th>\n",
              "      <th>petal_width</th>\n",
              "      <th>species</th>\n",
              "      <th>sepal_length_category</th>\n",
              "    </tr>\n",
              "  </thead>\n",
              "  <tbody>\n",
              "    <tr>\n",
              "      <th>13</th>\n",
              "      <td>4.3</td>\n",
              "      <td>3.0</td>\n",
              "      <td>1.1</td>\n",
              "      <td>0.1</td>\n",
              "      <td>species-setosa</td>\n",
              "      <td>short</td>\n",
              "    </tr>\n",
              "    <tr>\n",
              "      <th>8</th>\n",
              "      <td>4.4</td>\n",
              "      <td>2.9</td>\n",
              "      <td>1.4</td>\n",
              "      <td>0.2</td>\n",
              "      <td>species-setosa</td>\n",
              "      <td>short</td>\n",
              "    </tr>\n",
              "    <tr>\n",
              "      <th>38</th>\n",
              "      <td>4.4</td>\n",
              "      <td>3.0</td>\n",
              "      <td>1.3</td>\n",
              "      <td>0.2</td>\n",
              "      <td>species-setosa</td>\n",
              "      <td>short</td>\n",
              "    </tr>\n",
              "    <tr>\n",
              "      <th>42</th>\n",
              "      <td>4.4</td>\n",
              "      <td>3.2</td>\n",
              "      <td>1.3</td>\n",
              "      <td>0.2</td>\n",
              "      <td>species-setosa</td>\n",
              "      <td>short</td>\n",
              "    </tr>\n",
              "    <tr>\n",
              "      <th>41</th>\n",
              "      <td>4.5</td>\n",
              "      <td>2.3</td>\n",
              "      <td>1.3</td>\n",
              "      <td>0.3</td>\n",
              "      <td>species-setosa</td>\n",
              "      <td>short</td>\n",
              "    </tr>\n",
              "  </tbody>\n",
              "</table>\n",
              "</div>"
            ],
            "text/plain": [
              "    sepal_length  sepal_width  ...         species  sepal_length_category\n",
              "13           4.3          3.0  ...  species-setosa                  short\n",
              "8            4.4          2.9  ...  species-setosa                  short\n",
              "38           4.4          3.0  ...  species-setosa                  short\n",
              "42           4.4          3.2  ...  species-setosa                  short\n",
              "41           4.5          2.3  ...  species-setosa                  short\n",
              "\n",
              "[5 rows x 6 columns]"
            ]
          },
          "metadata": {
            "tags": []
          },
          "execution_count": 85
        }
      ]
    },
    {
      "cell_type": "code",
      "metadata": {
        "id": "wsFdnHMQAMX8",
        "colab_type": "code",
        "colab": {
          "base_uri": "https://localhost:8080/",
          "height": 204
        },
        "outputId": "571218bf-4b68-45b7-814e-db505288774c"
      },
      "source": [
        "# Absteigend sortieren geht auch\n",
        "iris.sort_values('sepal_length', ascending=False).head()"
      ],
      "execution_count": null,
      "outputs": [
        {
          "output_type": "execute_result",
          "data": {
            "text/html": [
              "<div>\n",
              "<style scoped>\n",
              "    .dataframe tbody tr th:only-of-type {\n",
              "        vertical-align: middle;\n",
              "    }\n",
              "\n",
              "    .dataframe tbody tr th {\n",
              "        vertical-align: top;\n",
              "    }\n",
              "\n",
              "    .dataframe thead th {\n",
              "        text-align: right;\n",
              "    }\n",
              "</style>\n",
              "<table border=\"1\" class=\"dataframe\">\n",
              "  <thead>\n",
              "    <tr style=\"text-align: right;\">\n",
              "      <th></th>\n",
              "      <th>sepal_length</th>\n",
              "      <th>sepal_width</th>\n",
              "      <th>petal_length</th>\n",
              "      <th>petal_width</th>\n",
              "      <th>species</th>\n",
              "      <th>sepal_length_category</th>\n",
              "    </tr>\n",
              "  </thead>\n",
              "  <tbody>\n",
              "    <tr>\n",
              "      <th>131</th>\n",
              "      <td>7.901</td>\n",
              "      <td>3.8</td>\n",
              "      <td>6.4</td>\n",
              "      <td>2.0</td>\n",
              "      <td>species-virginica</td>\n",
              "      <td>long</td>\n",
              "    </tr>\n",
              "    <tr>\n",
              "      <th>122</th>\n",
              "      <td>7.701</td>\n",
              "      <td>2.8</td>\n",
              "      <td>6.7</td>\n",
              "      <td>2.0</td>\n",
              "      <td>species-virginica</td>\n",
              "      <td>long</td>\n",
              "    </tr>\n",
              "    <tr>\n",
              "      <th>135</th>\n",
              "      <td>7.700</td>\n",
              "      <td>3.0</td>\n",
              "      <td>6.1</td>\n",
              "      <td>2.3</td>\n",
              "      <td>species-virginica</td>\n",
              "      <td>long</td>\n",
              "    </tr>\n",
              "    <tr>\n",
              "      <th>117</th>\n",
              "      <td>7.700</td>\n",
              "      <td>3.8</td>\n",
              "      <td>6.7</td>\n",
              "      <td>2.2</td>\n",
              "      <td>species-virginica</td>\n",
              "      <td>long</td>\n",
              "    </tr>\n",
              "    <tr>\n",
              "      <th>118</th>\n",
              "      <td>7.700</td>\n",
              "      <td>2.6</td>\n",
              "      <td>6.9</td>\n",
              "      <td>2.3</td>\n",
              "      <td>species-virginica</td>\n",
              "      <td>long</td>\n",
              "    </tr>\n",
              "  </tbody>\n",
              "</table>\n",
              "</div>"
            ],
            "text/plain": [
              "     sepal_length  sepal_width  ...            species  sepal_length_category\n",
              "131         7.901          3.8  ...  species-virginica                   long\n",
              "122         7.701          2.8  ...  species-virginica                   long\n",
              "135         7.700          3.0  ...  species-virginica                   long\n",
              "117         7.700          3.8  ...  species-virginica                   long\n",
              "118         7.700          2.6  ...  species-virginica                   long\n",
              "\n",
              "[5 rows x 6 columns]"
            ]
          },
          "metadata": {
            "tags": []
          },
          "execution_count": 86
        }
      ]
    },
    {
      "cell_type": "markdown",
      "metadata": {
        "id": "I1W0Fi_E7cfA",
        "colab_type": "text"
      },
      "source": [
        "Mit `groupby` kannst du die Daten pro Gruppe bearbeiten und analysieren. Im \n",
        "einfachsten Fall möchtest Du z.B. eine Spalte je Gruppe zusammenfassen. Für die Zusammenfassung gibt es z.B. die Funktionen `mean`, `sum`, `min`, `max` und `size`."
      ]
    },
    {
      "cell_type": "code",
      "metadata": {
        "id": "8h_jsMhz1ygh",
        "colab_type": "code",
        "colab": {
          "base_uri": "https://localhost:8080/",
          "height": 102
        },
        "outputId": "233f264f-4f7b-4975-f080-97587ae271be"
      },
      "source": [
        "# Durchschnittliche Länge der Kelchblätter je Pflanzenart ermitteln\n",
        "iris.groupby('species')['sepal_length'].mean()"
      ],
      "execution_count": null,
      "outputs": [
        {
          "output_type": "execute_result",
          "data": {
            "text/plain": [
              "species\n",
              "species-setosa        5.00600\n",
              "species-versicolor    5.93600\n",
              "species-virginica     6.58804\n",
              "Name: sepal_length, dtype: float64"
            ]
          },
          "metadata": {
            "tags": []
          },
          "execution_count": 87
        }
      ]
    },
    {
      "cell_type": "markdown",
      "metadata": {
        "id": "cra1du4LZvvl",
        "colab_type": "text"
      },
      "source": [
        "Es ist auch möglich nach mehreren Spalten zu gruppieren."
      ]
    },
    {
      "cell_type": "code",
      "metadata": {
        "id": "njjzP-eT5SlP",
        "colab_type": "code",
        "colab": {
          "base_uri": "https://localhost:8080/",
          "height": 136
        },
        "outputId": "f99fce7d-1443-40e3-d33f-f5b458c8e6bc"
      },
      "source": [
        "# Anzahl der Pflanzen der Kelchblätter je Pflanzenart und Größe ermitteln\n",
        "iris.groupby(['species', 'sepal_length_category']).size()"
      ],
      "execution_count": null,
      "outputs": [
        {
          "output_type": "execute_result",
          "data": {
            "text/plain": [
              "species             sepal_length_category\n",
              "species-setosa      normal                   41\n",
              "                    short                     9\n",
              "species-versicolor  normal                   50\n",
              "species-virginica   long                     12\n",
              "                    normal                   38\n",
              "dtype: int64"
            ]
          },
          "metadata": {
            "tags": []
          },
          "execution_count": 88
        }
      ]
    },
    {
      "cell_type": "markdown",
      "metadata": {
        "id": "Bb-C2_zwaBxB",
        "colab_type": "text"
      },
      "source": [
        "Das Ergebnis der Aggregationen von oben war immer eine Series, auch wenn die Spalten aus dem `groupby` noch in der Series drin sind (sie sind in den Index der Series gerutscht). Deshalb kann das Ergebnis nicht wie ein DataFrame behandelt werden. Es ist aber möglich mit der Methode `reset_index` wieder zu einem DataFrame zurückzukehren. Über den Parameter `name` lässt sich der erzeugte Spaltenname bestimmen."
      ]
    },
    {
      "cell_type": "code",
      "metadata": {
        "id": "46ki82cYaV6A",
        "colab_type": "code",
        "colab": {
          "base_uri": "https://localhost:8080/",
          "height": 204
        },
        "outputId": "d00bc76a-ac73-47da-cb7d-dca8f73d5d5a"
      },
      "source": [
        "iris.groupby(['species', 'sepal_length_category']).size().reset_index(name='n')"
      ],
      "execution_count": null,
      "outputs": [
        {
          "output_type": "execute_result",
          "data": {
            "text/html": [
              "<div>\n",
              "<style scoped>\n",
              "    .dataframe tbody tr th:only-of-type {\n",
              "        vertical-align: middle;\n",
              "    }\n",
              "\n",
              "    .dataframe tbody tr th {\n",
              "        vertical-align: top;\n",
              "    }\n",
              "\n",
              "    .dataframe thead th {\n",
              "        text-align: right;\n",
              "    }\n",
              "</style>\n",
              "<table border=\"1\" class=\"dataframe\">\n",
              "  <thead>\n",
              "    <tr style=\"text-align: right;\">\n",
              "      <th></th>\n",
              "      <th>species</th>\n",
              "      <th>sepal_length_category</th>\n",
              "      <th>n</th>\n",
              "    </tr>\n",
              "  </thead>\n",
              "  <tbody>\n",
              "    <tr>\n",
              "      <th>0</th>\n",
              "      <td>species-setosa</td>\n",
              "      <td>normal</td>\n",
              "      <td>41</td>\n",
              "    </tr>\n",
              "    <tr>\n",
              "      <th>1</th>\n",
              "      <td>species-setosa</td>\n",
              "      <td>short</td>\n",
              "      <td>9</td>\n",
              "    </tr>\n",
              "    <tr>\n",
              "      <th>2</th>\n",
              "      <td>species-versicolor</td>\n",
              "      <td>normal</td>\n",
              "      <td>50</td>\n",
              "    </tr>\n",
              "    <tr>\n",
              "      <th>3</th>\n",
              "      <td>species-virginica</td>\n",
              "      <td>long</td>\n",
              "      <td>12</td>\n",
              "    </tr>\n",
              "    <tr>\n",
              "      <th>4</th>\n",
              "      <td>species-virginica</td>\n",
              "      <td>normal</td>\n",
              "      <td>38</td>\n",
              "    </tr>\n",
              "  </tbody>\n",
              "</table>\n",
              "</div>"
            ],
            "text/plain": [
              "              species sepal_length_category   n\n",
              "0      species-setosa                normal  41\n",
              "1      species-setosa                 short   9\n",
              "2  species-versicolor                normal  50\n",
              "3   species-virginica                  long  12\n",
              "4   species-virginica                normal  38"
            ]
          },
          "metadata": {
            "tags": []
          },
          "execution_count": 89
        }
      ]
    },
    {
      "cell_type": "markdown",
      "metadata": {
        "id": "chl0cqcecYR1",
        "colab_type": "text"
      },
      "source": [
        "Es ist auch möglich mehrere Spalten auf einmal zu aggregieren. Das geht aber nur, wenn auch alle Nicht-Gruppierungs-Spalten die Aggregatsfunktion unterstützen (z.B. geht `mean` nicht mit Strings). "
      ]
    },
    {
      "cell_type": "code",
      "metadata": {
        "id": "MVPYF53KcoRn",
        "colab_type": "code",
        "colab": {
          "base_uri": "https://localhost:8080/",
          "height": 235
        },
        "outputId": "a52c1bab-8214-4a9d-bab5-9fc040204e79"
      },
      "source": [
        "iris.groupby(['species', 'sepal_length_category']).mean() # Vorsicht - da das reset_index fehlt, rutschen die Spalten der Gruppierung wieder in den Index und wären nicht normal ansprechbar"
      ],
      "execution_count": null,
      "outputs": [
        {
          "output_type": "execute_result",
          "data": {
            "text/html": [
              "<div>\n",
              "<style scoped>\n",
              "    .dataframe tbody tr th:only-of-type {\n",
              "        vertical-align: middle;\n",
              "    }\n",
              "\n",
              "    .dataframe tbody tr th {\n",
              "        vertical-align: top;\n",
              "    }\n",
              "\n",
              "    .dataframe thead th {\n",
              "        text-align: right;\n",
              "    }\n",
              "</style>\n",
              "<table border=\"1\" class=\"dataframe\">\n",
              "  <thead>\n",
              "    <tr style=\"text-align: right;\">\n",
              "      <th></th>\n",
              "      <th></th>\n",
              "      <th>sepal_length</th>\n",
              "      <th>sepal_width</th>\n",
              "      <th>petal_length</th>\n",
              "      <th>petal_width</th>\n",
              "    </tr>\n",
              "    <tr>\n",
              "      <th>species</th>\n",
              "      <th>sepal_length_category</th>\n",
              "      <th></th>\n",
              "      <th></th>\n",
              "      <th></th>\n",
              "      <th></th>\n",
              "    </tr>\n",
              "  </thead>\n",
              "  <tbody>\n",
              "    <tr>\n",
              "      <th rowspan=\"2\" valign=\"top\">species-setosa</th>\n",
              "      <th>normal</th>\n",
              "      <td>5.119512</td>\n",
              "      <td>3.492683</td>\n",
              "      <td>1.500000</td>\n",
              "      <td>0.251220</td>\n",
              "    </tr>\n",
              "    <tr>\n",
              "      <th>short</th>\n",
              "      <td>4.488889</td>\n",
              "      <td>3.077778</td>\n",
              "      <td>1.300000</td>\n",
              "      <td>0.211111</td>\n",
              "    </tr>\n",
              "    <tr>\n",
              "      <th>species-versicolor</th>\n",
              "      <th>normal</th>\n",
              "      <td>5.936000</td>\n",
              "      <td>2.770000</td>\n",
              "      <td>4.260000</td>\n",
              "      <td>1.326000</td>\n",
              "    </tr>\n",
              "    <tr>\n",
              "      <th rowspan=\"2\" valign=\"top\">species-virginica</th>\n",
              "      <th>long</th>\n",
              "      <td>7.475167</td>\n",
              "      <td>3.125000</td>\n",
              "      <td>6.300000</td>\n",
              "      <td>2.050000</td>\n",
              "    </tr>\n",
              "    <tr>\n",
              "      <th>normal</th>\n",
              "      <td>6.307895</td>\n",
              "      <td>2.926316</td>\n",
              "      <td>5.315789</td>\n",
              "      <td>2.018421</td>\n",
              "    </tr>\n",
              "  </tbody>\n",
              "</table>\n",
              "</div>"
            ],
            "text/plain": [
              "                                          sepal_length  ...  petal_width\n",
              "species            sepal_length_category                ...             \n",
              "species-setosa     normal                     5.119512  ...     0.251220\n",
              "                   short                      4.488889  ...     0.211111\n",
              "species-versicolor normal                     5.936000  ...     1.326000\n",
              "species-virginica  long                       7.475167  ...     2.050000\n",
              "                   normal                     6.307895  ...     2.018421\n",
              "\n",
              "[5 rows x 4 columns]"
            ]
          },
          "metadata": {
            "tags": []
          },
          "execution_count": 90
        }
      ]
    },
    {
      "cell_type": "markdown",
      "metadata": {
        "id": "zujOh9WadFXD",
        "colab_type": "text"
      },
      "source": [
        "Mit der Funktion `agg` gibt es noch mehr Kontrolle über die Aggregation:"
      ]
    },
    {
      "cell_type": "code",
      "metadata": {
        "id": "P4uiYIkwdLvP",
        "colab_type": "code",
        "colab": {
          "base_uri": "https://localhost:8080/",
          "height": 173
        },
        "outputId": "85360e63-ab2b-451c-c5e9-352f400ac4d5"
      },
      "source": [
        "iris.groupby(['species']).agg(average_sepal_length=('sepal_length', 'mean'),\n",
        "                              average_sepal_width=('sepal_width', 'mean'),\n",
        "                              n=('sepal_length', 'size'))"
      ],
      "execution_count": null,
      "outputs": [
        {
          "output_type": "execute_result",
          "data": {
            "text/html": [
              "<div>\n",
              "<style scoped>\n",
              "    .dataframe tbody tr th:only-of-type {\n",
              "        vertical-align: middle;\n",
              "    }\n",
              "\n",
              "    .dataframe tbody tr th {\n",
              "        vertical-align: top;\n",
              "    }\n",
              "\n",
              "    .dataframe thead th {\n",
              "        text-align: right;\n",
              "    }\n",
              "</style>\n",
              "<table border=\"1\" class=\"dataframe\">\n",
              "  <thead>\n",
              "    <tr style=\"text-align: right;\">\n",
              "      <th></th>\n",
              "      <th>average_sepal_length</th>\n",
              "      <th>average_sepal_width</th>\n",
              "      <th>n</th>\n",
              "    </tr>\n",
              "    <tr>\n",
              "      <th>species</th>\n",
              "      <th></th>\n",
              "      <th></th>\n",
              "      <th></th>\n",
              "    </tr>\n",
              "  </thead>\n",
              "  <tbody>\n",
              "    <tr>\n",
              "      <th>species-setosa</th>\n",
              "      <td>5.00600</td>\n",
              "      <td>3.418</td>\n",
              "      <td>50</td>\n",
              "    </tr>\n",
              "    <tr>\n",
              "      <th>species-versicolor</th>\n",
              "      <td>5.93600</td>\n",
              "      <td>2.770</td>\n",
              "      <td>50</td>\n",
              "    </tr>\n",
              "    <tr>\n",
              "      <th>species-virginica</th>\n",
              "      <td>6.58804</td>\n",
              "      <td>2.974</td>\n",
              "      <td>50</td>\n",
              "    </tr>\n",
              "  </tbody>\n",
              "</table>\n",
              "</div>"
            ],
            "text/plain": [
              "                    average_sepal_length  average_sepal_width   n\n",
              "species                                                          \n",
              "species-setosa                   5.00600                3.418  50\n",
              "species-versicolor               5.93600                2.770  50\n",
              "species-virginica                6.58804                2.974  50"
            ]
          },
          "metadata": {
            "tags": []
          },
          "execution_count": 91
        }
      ]
    },
    {
      "cell_type": "markdown",
      "metadata": {
        "id": "UaFFssMVeVgb",
        "colab_type": "text"
      },
      "source": [
        "### Übung\n",
        "\n",
        "Jetzt zu den Aufgaben für Dich:\n",
        "\n",
        "1.   Ermittel die durchschnittliche Bewertung der Anbieter je Lieferanten-Typ.\n",
        "2.   Ermittel die 5 Kunden mit dem höchsten Gesamtumsatz und gebe die ID der Kunden und ihren Gesamtumsatz aus.\n"
      ]
    },
    {
      "cell_type": "code",
      "metadata": {
        "id": "4FjFGBjwjv8S",
        "colab_type": "code",
        "colab": {}
      },
      "source": [
        "# Platz für Deine Übungen :)"
      ],
      "execution_count": null,
      "outputs": []
    },
    {
      "cell_type": "markdown",
      "metadata": {
        "id": "Rix2QHNfjJRW",
        "colab_type": "text"
      },
      "source": [
        "### Lösungen"
      ]
    },
    {
      "cell_type": "code",
      "metadata": {
        "id": "V5zw1tvSfJ5G",
        "colab_type": "code",
        "colab": {
          "base_uri": "https://localhost:8080/",
          "height": 85
        },
        "outputId": "1c5fdede-ff9f-45be-9f30-b0e8a67615fa"
      },
      "source": [
        "# 1. Ermittel die durchschnittliche Bewertung der Restaurants je Typ des Restaurants.\n",
        "vendors.groupby('vendor_category_en')['vendor_rating'].mean()"
      ],
      "execution_count": null,
      "outputs": [
        {
          "output_type": "execute_result",
          "data": {
            "text/plain": [
              "vendor_category_en\n",
              "Restaurants       4.347727\n",
              "Sweets & Bakes    4.366667\n",
              "Name: vendor_rating, dtype: float64"
            ]
          },
          "metadata": {
            "tags": []
          },
          "execution_count": 92
        }
      ]
    },
    {
      "cell_type": "code",
      "metadata": {
        "id": "OHclAIRJel7V",
        "colab_type": "code",
        "colab": {
          "base_uri": "https://localhost:8080/",
          "height": 204
        },
        "outputId": "617495b3-7dd7-4cd5-9993-b6ca67cfda2e"
      },
      "source": [
        "# 2. Ermittel die 5 Kunden mit dem höchsten Gesamtumsatz und gebe die ID der Kunden und ihren Gesamtumsatz aus.\n",
        "orders.groupby('customer_id')['grand_total'].sum().reset_index().sort_values('grand_total', ascending=False).head()"
      ],
      "execution_count": null,
      "outputs": [
        {
          "output_type": "execute_result",
          "data": {
            "text/html": [
              "<div>\n",
              "<style scoped>\n",
              "    .dataframe tbody tr th:only-of-type {\n",
              "        vertical-align: middle;\n",
              "    }\n",
              "\n",
              "    .dataframe tbody tr th {\n",
              "        vertical-align: top;\n",
              "    }\n",
              "\n",
              "    .dataframe thead th {\n",
              "        text-align: right;\n",
              "    }\n",
              "</style>\n",
              "<table border=\"1\" class=\"dataframe\">\n",
              "  <thead>\n",
              "    <tr style=\"text-align: right;\">\n",
              "      <th></th>\n",
              "      <th>customer_id</th>\n",
              "      <th>grand_total</th>\n",
              "    </tr>\n",
              "  </thead>\n",
              "  <tbody>\n",
              "    <tr>\n",
              "      <th>8431</th>\n",
              "      <td>B28LJKM</td>\n",
              "      <td>3965.5</td>\n",
              "    </tr>\n",
              "    <tr>\n",
              "      <th>25804</th>\n",
              "      <td>XW90EAP</td>\n",
              "      <td>3830.6</td>\n",
              "    </tr>\n",
              "    <tr>\n",
              "      <th>23372</th>\n",
              "      <td>UO5X10D</td>\n",
              "      <td>3274.6</td>\n",
              "    </tr>\n",
              "    <tr>\n",
              "      <th>9315</th>\n",
              "      <td>C8D4BO3</td>\n",
              "      <td>2997.8</td>\n",
              "    </tr>\n",
              "    <tr>\n",
              "      <th>23944</th>\n",
              "      <td>VEGWXS8</td>\n",
              "      <td>2558.8</td>\n",
              "    </tr>\n",
              "  </tbody>\n",
              "</table>\n",
              "</div>"
            ],
            "text/plain": [
              "      customer_id  grand_total\n",
              "8431      B28LJKM       3965.5\n",
              "25804     XW90EAP       3830.6\n",
              "23372     UO5X10D       3274.6\n",
              "9315      C8D4BO3       2997.8\n",
              "23944     VEGWXS8       2558.8"
            ]
          },
          "metadata": {
            "tags": []
          },
          "execution_count": 93
        }
      ]
    },
    {
      "cell_type": "markdown",
      "metadata": {
        "id": "YUbo7ku_7gYb",
        "colab_type": "text"
      },
      "source": [
        "## DataFrames kombinieren\n",
        "\n"
      ]
    },
    {
      "cell_type": "markdown",
      "metadata": {
        "id": "BZTKXccc48KG",
        "colab_type": "text"
      },
      "source": [
        "Zuerst ein DataFrame mit mehr Infos zu den Pflanzen, den wir später mit dem Iris-DataFrame kombinieren."
      ]
    },
    {
      "cell_type": "code",
      "metadata": {
        "id": "60HXSW0C4nJg",
        "colab_type": "code",
        "colab": {
          "base_uri": "https://localhost:8080/",
          "height": 142
        },
        "outputId": "3aa41b73-c0e9-4e83-e002-cb99e598e99c"
      },
      "source": [
        "iris_info = pd.DataFrame({'species': ['species-setosa', 'species-virginica', 'species-lutescens'],\n",
        "                     'taxa_named_by': ['Peter Simon Pallas', 'Carl Linnaeus', 'Jean-Baptiste de Lamarck'],\n",
        "                     'synonym': ['Iris arctica', 'Iris caroliniana', 'Iris chamaeiris']})\n",
        "iris_info"
      ],
      "execution_count": null,
      "outputs": [
        {
          "output_type": "execute_result",
          "data": {
            "text/html": [
              "<div>\n",
              "<style scoped>\n",
              "    .dataframe tbody tr th:only-of-type {\n",
              "        vertical-align: middle;\n",
              "    }\n",
              "\n",
              "    .dataframe tbody tr th {\n",
              "        vertical-align: top;\n",
              "    }\n",
              "\n",
              "    .dataframe thead th {\n",
              "        text-align: right;\n",
              "    }\n",
              "</style>\n",
              "<table border=\"1\" class=\"dataframe\">\n",
              "  <thead>\n",
              "    <tr style=\"text-align: right;\">\n",
              "      <th></th>\n",
              "      <th>species</th>\n",
              "      <th>taxa_named_by</th>\n",
              "      <th>synonym</th>\n",
              "    </tr>\n",
              "  </thead>\n",
              "  <tbody>\n",
              "    <tr>\n",
              "      <th>0</th>\n",
              "      <td>species-setosa</td>\n",
              "      <td>Peter Simon Pallas</td>\n",
              "      <td>Iris arctica</td>\n",
              "    </tr>\n",
              "    <tr>\n",
              "      <th>1</th>\n",
              "      <td>species-virginica</td>\n",
              "      <td>Carl Linnaeus</td>\n",
              "      <td>Iris caroliniana</td>\n",
              "    </tr>\n",
              "    <tr>\n",
              "      <th>2</th>\n",
              "      <td>species-lutescens</td>\n",
              "      <td>Jean-Baptiste de Lamarck</td>\n",
              "      <td>Iris chamaeiris</td>\n",
              "    </tr>\n",
              "  </tbody>\n",
              "</table>\n",
              "</div>"
            ],
            "text/plain": [
              "             species             taxa_named_by           synonym\n",
              "0     species-setosa        Peter Simon Pallas      Iris arctica\n",
              "1  species-virginica             Carl Linnaeus  Iris caroliniana\n",
              "2  species-lutescens  Jean-Baptiste de Lamarck   Iris chamaeiris"
            ]
          },
          "metadata": {
            "tags": []
          },
          "execution_count": 94
        }
      ]
    },
    {
      "cell_type": "markdown",
      "metadata": {
        "id": "Hs5WiGbd1wCx",
        "colab_type": "text"
      },
      "source": [
        "Pandas unterstützt die aus SQL bekannten Methoden zum Kombinieren von DataFrames.\n",
        "\n",
        "(https://pandas.pydata.org/pandas-docs/stable/user_guide/merging.html)"
      ]
    },
    {
      "cell_type": "markdown",
      "metadata": {
        "id": "pe9wolXO377q",
        "colab_type": "text"
      },
      "source": [
        "![joins.PNG](data:image/png;base64,iVBORw0KGgoAAAANSUhEUgAAAi8AAADxCAYAAAADf1cyAAAAAXNSR0IArs4c6QAAAARnQU1BAACxjwv8YQUAAAAJcEhZcwAADsMAAA7DAcdvqGQAAAAhdEVYdENyZWF0aW9uIFRpbWUAMjAyMDowOToxNSAxNTowODozNLJLpOUAAC3GSURBVHhe7dzfbxXV/vDxjw+SBo1HAyTnitgNlNL6DxA0x0D1tOHg12KvTEiMItKoIRrsaeDmyXMDaXqaryFqihWNCZGrhqpIQGkJCRD/AVra0u4euTiH8EMOBjwVyH7Wmlkze83s2XvP/tF2T/t+JQN7fq21Zs3sPZ9Za00fyygCAACQEP/H/A8AAJAIBC8AACBRCF4AAECiBMa8pK/9y3wCAACoTQzYBQAAiUK3EQAASBSCFwAAkCgELwAAIFEIXgAAQKIQvAAAgEQheAEAAIlC8AIAABKF4AUAACQKwQsAAEgUghcAAJAoBC8AACBRCF4AAECiELwAAIBEIXgBAACJQvACAAASheAFAAAkCsELAABIlAqClxk50t4sazeYqfucWe4a7rbWtR+VtFm+dJ2TLqc+DsiwWVI9c5l2+QLXgJpeGZgxa4LSAx2B7aK3rcYxeml0yJHYF2Q18404rvRReaXi9JMiWw85U039RlTjnGvVSgdAWPVaXsanrR+fGbk6bj4uYfrm3TViZpYYfey7T5gZ43LvttDN2w2AW3rHzHyW3nYxBr2Xez/nRhZltE9aSgoqa9NS/s4D86kKwUuTdOxoUj8+UzJtlqjHSbk6KvLcjnZ5zixZWtybcvjmvXSck9POsTdJ95lRmZ4YleEudY0ol38Y9gOS4e5t0qOuE3s7Zzqzz71u1A1tb57WmvmzRXqdch2UFrOkMkOyO9RKufSEzvfEKVH3fGVMevproW7KOedR3/lqXzsAPFVpeVm/vlH9OySnvSeOkZ9kUP23cf06dz4k3E0QfFLxmlo7pKvb2857IrO7qvSy6GbZwumHjBxwt1NP+Uf8bg43PTudcBr589Bl9G7KIoOdan1OC4LdfJ77tBlOO7cLxa6HWn7SG5OTZ92yp3YPujeqoV2ScpbYAc6g7HEXulK75HsTwMxHS0Xh+g5fY9a83+WjpzitBibQP/FJ4W29azIq7apfr7WgXvb8rwlYT/xU2nc5p66CvwXh70rwPOX7rSlwzgP5eevzfefD6bhiX28lX1/A0lGdbqOXXpYO9d+VKfdLmJ7SfUbt0vaSMxugm1XD3QT6y557gx6TwRPedo2yPhX8gXCe0lrfc4IkW/z0Q9RTfo//1KSejtUPhp3O4OFsAFJ2Hg6dtl1udRwfFk7b6ULxn9bD9aDzzq2HhbVF2na4n5yyq7rMuemkp+WK/r95m/zVDlw8qRbZ7jyNj8vVOfzRLl7f+ajz2Nonl81c+Dzms77zffVdKbCtvmF1DpkZj77WgzfA+bte50nE+S5a7si6UnXhPyzkflci61ItC/7WmI85VNqB/Oy84ol/vZV3fQFLRZXGvKRkvfrhuWx+daavqi9n8zpZ68xZ1I/Nx/oHt3mfDPtNxp86gU/UE/ZzXafMNgelJT0sJ50fodyuCF+J6Qe1y4Devr/dzJt8/C4M0y1WNA/1FDnkNYOLdPSr9X5rg8s/rnxp283q3jYn3nMDgIh6yJa5drT0ZOtA0zedwNNjesr6YS5kbO6Clzj1XYB/Hr36D3Sd5rNF3tXXrQo+PotKX7c66TT9yb22coO4al2vtcac7zjl9q6hwDZq8r5v/nfF1JWaBpygekg+DgVugd8asyxKdjtzXpzzWPw77yjxeivv+gKWhioFL/Xi9Bw5Tb6mO6BxbcSX1/zYqC98i98c6rUahH+cm2T7S/Xms+Ltu+N9v4shtVs/xVpKSj/EC7ZS69wfE+8JLLVWNjrzRiV5ONrlg93muPKlbR2jvpl9YFoxnJatqG22ui1ftUX/oFs/zg7rqdev5wUUp77zsq7PEus/tbvPudHZrSO5vO6DPK1q83a9zrcm9zjilNs79sA22QA5ffaUOb8v+wFJS48bNHzvfQcdod+avKzvrtW6WPg6sZR0vZV/fQFLQZWCF/Wj0KqfDtSPyojbHdDRusVZHt8cPmE7Skw/quWoqLk+hgTyWhL8IMa78Zib7Ogp+dGrM/Vk+op38xn53DT3m5tZybJjHYq1oJSnUPdCMSqw26u+L+qmu7d/yiwznDqwb9SeIvkl/np1B/nHq1dTbn1tBYJjTQfIi2F8SCXXF7D4VS14cZ+C1I/KGf10keeG4z8lZptx7al3q7MymrevNdgxPfBJ8Ae+kvTjipWHaYkqVcQx2k3NzpNYnHpYaNagUv8eEm4R8J9crZuN8xSq59W+3tiCfGNiisqeg8EzZjyBN87Gb6WIUd9zZetBpwvj8okh92nc8FoLcroWyzUf34kqGO42wZrXShK33F5wbCa3W8gNblIvbTPnNzsI2B8sW9YbX3Z3kzfgXGTjOn2dxPjOL+T1BiwyVQxe3JvToPoxzvvU4DeRDjkDDN1mXjMVG/jmD+gzNze1T8sP6kfeWWlUkn5cJebhjPWIm7efdvYY13qD9rym5qh6CA0AXHBeM3dUk78VjGTHxWSPJfx6ecfe8NiBiHpXU9TgU7c1UDnxnrudX5feDTJGfc+hls78gYk30NkvT7ldPPPxnSiZVd9mcs97k3R3mhbbOOXOedMom44bnHrflWwa7nfFyqdE/nnxr+d98m4oAMz7nV/g6w1YTKoXvFh9wHYfc5juc3afjix6wF3UALcAPYbCG7yoqSeyofdDT/OVpB9fnDz8G6dWwkA7nXZ4ILLzFN7j/dgGBwdqHf12vdQC/fctgmV05JwHd1xMzsBri99qUo6tB3MHM+/41KrLOPU9h9TN7HAob/1KuX1t6bK45Su/i2c+vhMV0+WZCL4yX7TcUedXByb+q/e535Xg+lKp35xAfvo3qLTv/IJeb8Ai8lhGMZ+TR48PcJ5cdNMyfwhq0THnd2N/7XRvYCnSg6d1Swu/M0CtqGLLyxzTNzLT9OtPfpNr/pYeJFjKHc9A4AIAsCUneNE3spwmYkU3I9PkCgDAkpHsbiMAALDkJKflBQAAQCF4AQAAiULwAgAAEoXgBQAAJArBCwAASBSCFwAAkCgELwAAIFEIXgAAQKIQvAAAgEQheAEAAIlC8AIAABKF4AUAACQKwQsAAEgUghcAAJAoj2UU81nS1/5lPgEAANQmWl4AAECiBFpeAAAAah0tLwAAIFEIXgAAQKIQvAAAgEQheAEAAIlC8AIAABKF4AUAACQKwQsAAEgUghcAAJAoBC8AACBRCF4AAECiELwAAIBEIXgBAACJQvACAAASheAFAAAkCsELAABIFIIXAACQKAQvAAAgUQheAMyTc9K1oVm6RsysbeSArN1wQIbNbFWlj8orGzrkSNrML6D0QIc6zmY1LWB5SqyPnDKnz8lwgX1r4hjnWg1dU0sVwQsAzItz8lnvmHT0j8r0xKDsSZnFNS1UZlE37dZP5KpZmyuJx4gkqih4+f1Qn1x/0Z3uXDILY7spv72d3f/m8ZtmOQAsQulpuSJNsj5JN/RSy5zEY0QiVRS8rNi/T/58/g15osEsKMWlS3JfNsnK8zqNfbL69dVmhRvUlB4MoVY8OP5V3mDUDnjd6Tv5vcg6nV5wuTvFCnivXZSb1j7+dXXpO7n+9kV5YGbt665YfvmPYVzuBJZ/Jb9dc1YUFU4zcGz5jiEnPz2ZsujjU/PZdBL2vXKa5XXXQ3YKdjfNyJF2e30JXU5OF5Xap/ucWZA/reFuezuX0y3iLStaTkNv19onl2VMelpNms6+B+SI383i5Rsqj52/110xEsz3lYGZnLJEliNSnuMPl/ndA4F5J09bKccYKque/PScdeUcY6nXROn1HFWnRa8RzI1MxW5k7u76R+bXi2Y2pj+++TLz74NXzJytvPRQO/S5vfHNDTMXdP9g/nNbaJ3rSubXv3ybuW/mitPbW2n+ciFz4y9fZu7+oj5f/Dbz710XMn+4a5So6y46v/zl1Nub9BXnGg/kEY9OP1t/BY7BF1FO5/jUefDzr4Xv1Ujmo4amzEfDZtY2vD+TatifOas/T3+R2d7wWqZ/2lnjcpZ5+6Yz/a82ZVJ/H3FWadOfv5ZJvfpFxt7FZ6cXSEcrkpZdLoe7vbN/0XKGhLc329p555YnNO/tYx2rU97IZXa5LYFyFDn+yDKHjtkWuX0w/ajrIFBeb5+SjrHIceQot54jrtFC1wjmzNyNecnztOg91d7uvy1y+qRZbz9hfy33J0Vm93v7xn96BWwPjl+S2bbt8sxms2DN8/Jk222ZvRCjxaYKlr+wQZZN3pKHZr4clR3DBnmyZULuJaW1JaAx2PWQ2iXfT4xK71b1eeRz6Rltl4GeLe46JbX7fekY7ZPPCrU26Kfp1j6RrlNuOlqxtLa+LB0yJKe9dNPDclJt3+btX6icMXW0ZvPOLU+97NnbLnLip0ArQsfeXeJlm3ppmzyn/s9dNi5Xiw0oLbcuSxQ4xnRK3g3VUVR5SzrGUo+j7HqOqNOi1wjmwhwFL+NyZ+ctedJ0Cf35/HaR/W4Qsvz1N51lKztXiqgfZXf9/8gKtZe7zu2Gqjvk7fumPLXGTRWLQzYwVVOg66bwulI9nLkty+pXmTnX4/Ur5dHMLTNXvjjl/P3Yz/KordG5tstV6TE8rgKoh+fHzVxCqADggx1DsjuqOV9JT+njsdY703syqJZemQp1ZfjGpKdTd2mIbFxX7y5Siqe1Rd7tapLBM24Z0mdPyeUdL0uLnilSzngixoc0r5O15qMjtS5004waU1LeOJPy6rJUobKl6t2AwOu+05PT3WQr7RjLOo6y6jlKgWsEc2ZugpdrN9XT5qTc9X7cXzwps2YVkA1M1fTF87LcLNcKrasl+ct5W+7vdK/7u1ObZOX+RrN8geiWGrlUI62XKVnfbD6GODcf62bS0qPfVtHTp9Jx4j1zM7LGMDTvk2FnfXD6fnc2MAnTb8AM7BAZPHxUAg/PRdJynridJ/IZ+fGHsUArQtFyJkEZdVkZ95X5tZ3j0n3G5Hdmn9OyUpF5P46sQtcI5sYcBS+35FFDdjCuO9GCgvkV1UIR1ZJRXSvliWPqej+2SZZN/iz/iTOouIBqHMOKF1fJ/WP6yXSh1ct6FctFPQlPXx0TaVzrN9FnbZFe5yakggPTNJ9apxIZPSU/hpvvC3Kfolt6VDqjfbLXDA6NlVaqRbY3q7wHCnUH5JazbOHypKfkcrh7qkrKq8sKjfwkg06gYb1K7Rxj+co6jmrWc6xrBNU0N8HL5kapUz/c5fW1r5bH16kf6H/Oz7gELF7OmJPTVqvDtYty7/RKqXthtciaVSq4mJD/+uvGZXayQeq8sSWVWvO8PN2pAo/+S/7bVPndlN+Oe8GFKsdpFbQ86759V/AY4tq8WZ6YmqiJ1s+W1na53Lst+NZG+qh8fMIaFxH1B+vsV3C3viPdzWPS86HVguLsE+ePhrlN/Jd797nbxkqrXv76tyYZ7O0LdgcUK2c5vPL0e11QM3Lk8JDIXHVDlFqXqbWyUcZyx32Uyg4c9FikTnWMlSj1OKpez3muEcyZCoIX7++0BAfYugNzG+UZ9eT5sMzxCyt2bhLp/9rsy4DdJHrknz93sl/RDYwXsV6VrjoVQKw+tMrvxrm+c0LqjpkWQCe4kNA6d+xVHHGOYfnrm6VOJuVe0daX1fLUs+MmrZPysPONwADdvMegx5aZfWb9btqosqj031olj9T3dMFtPeh0EVzp9MYlqKn1lGw/Yw3g1Nv0S3D8grON96ReL3uGTkm39EmLt97pgoj3R9FSu/usG128tPwBo3Z3QNFylsOUZ9zrgtomPY2fyrQ1ELW6Sq3LLdKmu970+Sv3VWBVbwM7VP3r16n9OtMtVpUERaUeR/XrOfIawZx5TL9yZD4DAKI4bypNyQcTB3mqRjSukXk1R28bAcDiod8gka53uCkhL66R+UXwAgD56KfpDc3S8sM2OTwPb60ggbhGFgTdRgAAIFFoeQEAAIlC8AIAABKF4AUAACQKwQsAAEgUghcAAJAoBC8AACBRCF4AAECiELwAAIBEIXgBAACJQvACAAASheAFAAAkCsELAABIFIIXAACQKAQvAAAgUR7LKOazpK/9y3wCAACoTYHgBQAAoNbRbQQAABKF4AUAACQKwQsAAEgUghcAAJAoBC8AACBRCF4AAECiELwAAIBEIXgBAACJQvACAAASheAFAAAkCsELAABIFIIXAACQKAQvAAAgUQheAABAohC8AACARCF4AQAAiULwAgAAEoXgBcA8OSddG5qla8TM2kYOyNoNB2TYzFZV+qi8sqFDjqTN/AJKD3So42xWU22Ux1dKHcXZNn1Ohgusr9l6qKYauu4WI4IXAJgX5+Sz3jHp6B+V6YlB2ZMyi2tBapd8X60y6Zt26ydy1czmquF6QGLMbfBy7aLcfLFP7lwy80WNy50Xv5PfzRwALBrpabkiTbJ+qd+sqQdUQcJaXm7Kb2+XEgxh/ukAtE+u+9NX8ts1sypnnZ7sYNU9v/Z651xf+k6uv31RHrgbKdnr4MHxrwLbe9PN4zfNtgWY4Nrbx7+uKsjv90Phdd7xFaqXwsJpBo4t3zEUqmt9fGo+m04Nfq+cJnfdrZCdgt1NM3Kk3V5fQpeT00Wl9uk+ZxbkT2u4297O5XR5eMuKltNwWiP65LKMSU+rSdPZ94Ac8btQvHxD5bHzd/bpkCMjwXxfGZjJKUtkObSofL10/S4Ot4vPXe/lF6rjs6YezeTkp9OxjtMply20vmA9OMuz6evJT88rb8n1UOp1U/q5iKr3otcRSpepKVcyv/7l28x9M5frRuburn9kfr1oZlGD9Dn8MnP3F3fuj2++zPx714XMH+6sEXWe3XP774NXzLzl4rehNKKug2LXTpje3krjlwuZG165K8jv/sF812eceilOp3/jmxtmrsAx+CLK6Rzfl5kbfv7z9b0ayXzU0JT5aNjM2ob3Z1IN+zNn9efpLzLbG17L9E87a1zOMm/fdKb/1aZM6u8jzipt+vPXMqlXv8jYu/js9ALpaEXSssvlcLd39i9azpDw9mZbO+/c8oTmvX2sY3XKG7nMLrclKt9A2dzztP3ztLPKmw+enwL5BdKKEF4fVZ6IayU3j6gyFChXqddN2ecioh4KXUcoS0UtL/qJ8M5x+8kv+xRtPy3mPNGZJz97CjxNWuu95e4T79dyf1Jkdr+3X/ynVyyM5S9skGWTt+Shmc/r0iV1bhvkT/sbzYK59eD4JZlt2y7PbDYL1jwvT7bdltkL1nU4h2LXSwGVHcMGebJlQu7VUmtLQGOwW8EZkzEqvVvV55HPpWe0XQZ6trjrlNTu96VjtE8+y9faoOknZfXUL12n3HS0YmltfVk6ZEhOe+mmh+Wk2r7N279QOWPqaM3mnVueetmzt13kxE+BFoKOvbvEyzb10jZ5Tv2fu2xcrhYYLBrI1zbykwxKu3ywu94s2CLvdjWZz1ml5ldMoDzplLwbqseoPEqqh1Kvm7LPRUQ9FL2OUKqKu41m1Vl8+vw++bOa/tQ2KbPmx3DFfr3sDXmiwZ3PGpc7+2/JE8fcff58SG3QsEmefn21WT8pd883+use9V9yAqLlr7/pp1d3yOx7/k15ao27F2rT78d+lkdtjbLCzOfz4J+3RMx2dteMH/hO/iy3zTIviK3Ew5nbsqx+lZlzPV6/Uh7NqHJUKBtcqynQ/ZQVt14KqfQYHlcB1MPz42auhqgA4IMdQ7I7qqleSU/pMlvrnek9dcMVuTIV6qbwjUlPp+6uENm4zrspx0nLvXEPnnHLkD57Si7veFla9EyRcsYTMfajeZ2sNR8dqXWhG2LUeJFSx5Dk396pk1AZvMAgq9pjVkLpperdgMDr4tOT091kK60eyrpuyjoXUQpcRyhLxcFL3VvPy3LzWQcs/lNg2ayn7zWrZJn7CYlyW+7vdG/ed6c2ycoSW1PsQNWnAtyVJkiODoprRza4VtMX2e9HpfVSdbqlRi7NY+tlStY3m48h4RtmS49+E0VPn0rHiffMjcYan9C8T4ad9cHpe7+1IJd+u2Vgh8jg4aMSeDAukpZz43aetmfkxx/GAi0ERcuJMpkxN53j0n3G1PGZfaEAqgxlXDfVUug6QukWYMBuo9S1ZX/Er+tWmP9r/8Aj+Va6LWvHNsmyyZ/lP3aXYB7Ln10lMnUzspViLkS1UES1ZFRX6fVSSDWOYcWLq+T+Mf1EOh/qZb2K16KecqevjqmfhrV+83vWFul1bjAqODDN7ql1KpHRU/JjuGm+IPcJuaVHpTPaJ3vNwM9YaaVaZHuzynugUFN/bjnLFi5Pekouh7un5pBbJ1MybeYdThnmke66cgIN61XqCstQ1nVTzXMR6zpCXPMfvFy7KPf0U6f/FF1K189qeXyd+oH+5/yMS0CF1JP9053qBmu6/grarILaKtzQ43LGnJy2Wh30dXl6pdS9sNpt8ZuckP/668ZldrJB6ipuVTRKqRf9JtBxL7hQ5TitgpZn3S7WgscQ1+bN8sTUhMya2bnW0toul3u3Bd/ISB+Vj09YYx6i/mCd/Xrt1neku3lMej60WlCcfey3ZfJxm+8v9+5zt42VVr389W9NMtjbF2zqL1bOcnjl6fe6oGbkyOEhkfnsYjDjMz723xQ6J12dqgxxpdbKRhnLHfdRKjtw0OOVSilDlFKvm6qfizzXEcoyR8GL98prcICtM35BN1Wvs8cv6Cn+33ZZsXOTSP/XZj8G7Na65a9vljqZlHtOUOK9vntS3Swn5W7g3DfKM+e3y+P+udXXzkpZNldjmtR1uPrQqmwL4M4JqTtmAmknuJDQuv+JPT4lMOYlz7UdrJdCVstTz46btE7Kw843AgN08x5Dwbq2qfTfWiWPKhxDFNvWg07z/5VOb8yBmlpPyfYz1uBMvU2/BMcmONt4T+H1smfolHRLn7R4653uhXh/8Cy1u8+6icVLyxvzEWjqL1rOcpjyjHtdUNukp/FTmbYGmc493Yr0qWxUQaZbhk9kfVe7WRfHFmnT3XP6HJf7KrCq24Ed6hzp16n9etWtWpUERaVeN9U/F5HXEcrymH7lyHyeH/pNov0ifzqfvRnoN5Pu1b8hq/1BuwBQQ5w3labkg4mDS/OJWbdQHF4nw0PZN2tQhqV+HVXRAox5CQs2hQNArdFvh0jXO0vjhpPTlWK6SyLHJKEUS+o6mmPz3/LidCkFX3Vd1kmrC4AaZP42zGU9eHQJtTrov/7a0jtm5pQd8911tcgs0etoLi1A8AIAAFC+Gug2AgAAiI/gBQAAJArBCwAASBSCFwAAkCgELwAAIFEIXgAAQKIQvAAAgEQheAEAAIlC8AIAABKF4AUAACQKwQsAAEgUghcAAJAoBC8AACBRCF4AAECiELwAAIBEeSyjmM+SvvYv8wkAAKA2BYIXAACAWke3EQAASBSCFwAAkCgELwAAIFEIXgAAQKIQvAAAgEQheAEAAIlC8AIAABKF4AUAACQKwQsAAEgUghcAAJAoBC8AACBRCF4AAECiELwAAIBEIXgBAACJQvACAAASheAFAAAkCsELAABIFIIXAPPknHRtaJauETNrGzkgazcckGEzW1PSR+WVDR1yJG3m51l6oEPVTbOaIsqwwGWzFSznfKlGfaTPybC3fxnp1UQ9LAEELwBQSGqXfD8xKHtSZn5enZPPeseko39UphesDHEkpZxF6GCl9RO5amZLt0jqIQEIXgCgVqWn5Yo0yfpavwkmpZxzjXqYNwsUvNyU397ukzuXzCwWld8P9cn1F+3pO/ldr7j0nVx/+6I8cLbSgtfBg+Nfyc3jN92ZkELrCrp2UW5aZfGvuQJl0XkFy+9OXv55j0/G5U5g+Vfy2zVnRVHhNAPHmu8YcvLTk1XXaj6bTsK+c05zvW56z07B7qYZOdJury/Q5RTV9G8v8z6PBPP088vZP5R39zmzXCmWVqQ86em0WvvksoxJT6u1vBCn+83eNn89DXfnpul0edj5+/u5U+RxRJXT2feAHPG7ULx8S6+7VwZmcspSuD6Vs6Ye9NR+VIK9N/Hq28nXY6enporrIXQ8evLzc9aVUw/5z7UjIs+i9VjLMgviRuburn9kfr1oZrGo3D+Y59xe/Dbz710XMn+Y2fB18Mc3X2ZufHPDnQkptC6/K5lf/2KV5ZcLmRt/+TJz9xf1uUhZXHr/bzP3zZwn7/E525v0FV3mYB7x6PSzx1rgGHwR5XSOT9WZn38tfOdGMh81NGU+GjaztuH9mVTD/sxZ/Xn6i8z2htcy/dPOGpezzNs3nel/tSmT+vuIs0qb/vy1TOrVLzL2Lr686ZllJm17fye9yPKE8w7NF0srR5z0QmW3RRxHtn6L1JNd5w53e2f/qHxz0reEtzfb2nnHO1Y1n1N3Ucvy1GdOGkXyjCxDxHGUlH+xesj9HgTSzJtnoXKEj8us97YPl0sz+USezwSorOWl4BOh9zSqONu58+5T7ddyf1Jkdr+3r/WEmjdN9+n0znF7vZUHEPLg+CWZbdsuz2w2C9Y8L0+23ZbZC2W04JRh+QsbZNnkLXlo5stR2TFskCdbJuReUlpbAhqDTe/OuJNR6d2qPo98Lj2j7TLQs8Vdp6R2vy8do33yWQVPkh17d4mXZeqlbfKc+h27Gh5wmZN3vezZ2y5y4qfAU26stLSY6RWln6rVU790nXLrSCtWT1tflg4ZktNenaWH5aTavs3bv9A5iKmjNZt3+XVXQn0a2e1VHv+7T5478YnbclZmfZeaf1igHtIpeTdUj1FpllQPxc61o/LzWUvKD150kLFzQuqO7ZM/n1fTsU3ycH/xZvLlr7+ptn9DnmgQqTtk9j3/pjy1Rq9VQc/OW/Kks0xP20VCac6qK+xps/5PbZMym8gf5sUvG5iqKdA9M38eztyWZfWrzJzr8fqV8mjmlpkrX5zj+/3Yz/KorVFWmPlyVHoMj6sA6uH5cTOXEOpH9YMdQ7Lba962uxaU9JQ+Hmu9M70ng2rplSmrqb8kJYxTaF4na81HR2pd6MZT4piHoukVMyY9nbq7QmTjunp3kVK8nrbIu11NMnjGrd/02VNyecfL0qJnipyDeCLqoay6K3UMiR2AKam1slHVkZ9HyfVdav5hof1T9W4A4nXx6cnpbrKVVg9Fz3VVzmdtKTt4eXBhQv0wbzZBh2KeCB/F7OOPdO2mekqdlLveTeHFkzJrVnnq3npelpvPK/bvyz6RoqZkA1M1fZE9Z4tF/uO7Lfd3utfv3alNsnJ/o1m+QPT3Ui7FHnszt1Kyvtl8DHF+fK2bSkuPfltDT59Kx4n3zI+x1YffvE+GnfXB6fvd2Zv3UqLfbhnYITJ4ODS+o0g9OU/vTqvDjPz4w1ighaDoOUCZ3D8ZsLZzXLrPmDo+s08FUBUqcq4X2/msrbeNrt2SRw3qB9+7KTiT1yoDlCaqhSKqJaO6VsoTujXy2CZZNvmz/KecQcaWahzDihdXyf1jtdD6Ui/rVSwX1ToyfXVMpHGt3ySetUV6vR9c08WRWqcSGT0lP8ZumaiycN7pKfXUHGqSL0XF6blP5C09qo5G+2SvGfgZq55SLbK9WdXrQLjLyJZ7DspW7bqLFGpFCb8BNC9lKGDkJxl0Ag3rVWqnDOUr7TtRxfO5gMoOXpz+/NPWE921i3Lv9EpZ5gcat+Shs+6m/Pb/fpZHzjLPanl8nfoR/mfoh31zo9SpH/xk9tGjqDWr1A19Qv7rXzPjMjvZIHVz1HqW7xqte2H13JdlzfPydKcKPPovxRiXpb4jx73gQpXjtApanlVlVAoeQ1ybN8sTUxM5rZgLoaW1XS73bgu+5ZA+Kh+fsMYFRP3BOvsGtPUd6W4ek54PrVYGZx/7jSCL6TY4edYLmmbkyIfhZvqYvLz7vWZ3ldbhIRGvu6VUVU3P7Qa63LvPrYdY9VQvf/1bkwz2qvqw8yx2DspR7brLyz5mc653vO8GCsXKEO5imit2oKHHK3WqMlSi2Lmei/O5wMpveVE/zqsPqSc600R+3Rn/4rWSNMqTnWLWfS2zLZukztkpa8XOTSL9X5vuIW9cS6M844ydMWnqaYHGS2AOODd077pQk3PN/E9gTMgj/5pwJ3vAdqF1kQpdozHKUkhgzEuegePLX9+srvtJuVe09WW1PPXsuEnrpDzsfCMwQDf/98x7VVp3r3rdrVFlUem/tUoeTZrZhbT1oNNEfqVTN1mbqfWUbD9jDRzU2/RLsP/e2cZ7Uq2XPUOnpFv6pMVb7zTB5/ujYOpJU+UpKmhy09smV/fqp85ymLzHvWb3bdLT+KlMWwMlS1Pd9FK7+6ybWLx68geD2oNKi56DclS77vJpku6/TZljDudRrAxbpE13v+nrc67Ghai6HdihzpF+ndqvV309VhI0FTnXc3I+F9Zj+pUj8xkAsNQ4bypNyQcTB6vcAgLMndoa8wIAmFf6LSPpeofABYlC8AIAS5H5i6stP2yTw0v0LS0kF91GAAAgUWh5AQAAiULwAgAAEoXgBQAAJArBCwAASBSCFwAAkCgELwAAIFEIXgAAQKIQvAAAgEQheAEAAIlC8AIAABKF4AUAACQKwQsAAEgUghcAAJAoBC8AACBRHsso5rOkr/3LfAIAAKhNgeAFAACg1tFtBAAAEoXgBQAAJArBCwAASBSCFwAAkCgELwAAIFEIXgAAQKIQvAAAgEQheAEAAIlC8AIAABKF4AUAACQKwQsAAEgUghcAAJAoBC8AACBRCF4AAECiELwAAIBEIXgBAACJQvACAAASheAFwDw5J10bmqVrxMzaRg7I2g0HZNjMVlX6qLyyoUOOpM18MelzMhx324Vil7HU46uy9ECHOnfNaooowwKXzVawnPOlGvVR4bmviXqoAoIXAItbapd8PzEoe1JmvhB9M2j9RK6a2ZoULmMpx1d15+Sz3jHp6B+V6QUrQxxJKWcRFV+fi6QelMqDl2sX5eaLfXLnkpkHACwN6Wm5Ik2yvtZvgkkp51xbRPVAywuqbFzuqGD2emD6Tn7Xqy5958zfPH7T2VLkpvz2tgl8C61Tfj+UJ82c/L6S3645K4oKp5nNWzFBubcuG5yXeXwojdMcrpu2s1Owu2lGjrTb6wt0OdlN697nkWD6TtrOU22fXJYx6WltllcGZpzdC+blpHdAjvhN8WZdxeUPre8+5y6OKqN3TH4XQJ59NW/bqOPPK15ZAvnk43QP2tvmr4fh7tw0nS4PO39/P3eKPI6ocjr7Rpy3Muouew6yywrXp3LW1IOe2o9KsPemhHPvsdNTU8X1EDoePfn5OevKqYf859oRkWfBeswAc+JK5te/fJu5b+YcF7/N/HvXl5kbuy5k/nAW3Mjc3fWPzK8Xi6xT7h/Mfg7S+XyZufuLO/fHN1+qdLw04tPp3/jmhpnTaVr5/XIhc8PKw1Xi8UEZyXzU0JT5aNjM2ob3Z1IN+zNn9efpLzLbG17L9E87a1zOMm/fdKb/1aZM6u8jzipt+vPXMqlXv8jYu/js9Ew69rbOvnnzLpKXl561PjcNxWwXr/zh9aF6C6cfmA/vG5r3ypvv+HPESS90rDZ7vck7e/7DaZuyeGWzrwmHu72zf1S+Oelbwtubbe284x2rms+pu6hleeozJ40ieUaWIeI4Ssq/WD3kfk8DaebNs1A5wsdl1nvbh8ulmXwiz6dSUcuL/eQafLrUT6ffyW/Hv/LXZ59GC61T8j7xuvndOW6v956+kRwb5MmWCbkX2RpRaF08y1/YIMsmb8lDM1+OB8cvyWzbdnlms1mw5nl5su22zF6wrtO8Kj8GaI3Bpm1nXMeo9G5Vn0c+l57Rdhno2eKuU1K735eO0T75rNgTr9Gxd5d4yade2ibPqd+lq1GDF2Pm1dGaXe+qoPzpYTk52iTdnd76LdLr7VtMTtr1smdvu8iJnwJPueUff3R6RemnavXUL12nssdRrB62viwdMiSnvXp26qVd2vx6KFDHMQXOW9l1V0J9GtntVR7/u0+eO/GJ23JWZn2Xmn9YoB7SKXk3VI9RaZZUD8XOtaO081lR8LJi/z758/k35IkGsyBgUu7PbFbr1TaHGuRR/yUr0Mi3TgU2O2/Jk3q5M20X2R/sBphVZ/Bps/5PbZMyy00icR5XAcbD8+NmLqjQutn92aD2+tsX5YFZbvv92M/yqK1RVpj5cjycuS3L6leZOdfj9Svl0cwtM1dYoWNADOpH64MdQ7Lbaz62m+6V9JSuW2u9M70ng2rplSmrKT2v+H3+8fIKpVdp+dNTcjn8Q16K5nWy1nx0pNaFbjwljnkoml4xY9LTqbsrRDauq3cXKcXrdou829Ukg2fc+kufPSWXd7wsLXqmSB3HE1EPZdVdifUpdgCmpNbKRlVHfh4l13ep+YeF9k/VuwGI18WnJ6e7yVZaPRQ912Wczzkc89Igf9rf6H5cs0qWuZ+MPOuu3VRPzJNy129ZOSmzZpWn7q3nZbn5rIMn/+kYyaFbMuRS9NiUAuvqDnlBrZq+yF4HIrfl/k73mrk7tUlWetfWQil0fEtaStY3m48hzo+b9aPd0qPfhtDTp9Jx4j3zY2f1kTfvk2FnfXD6fnf25lg1ZeRVU+WvAfrtloEdIoOHQ+M7itSD8/TutDrMyI8/jAVaCIrWMcrk/kmDtZ3j0n3G1PGZfSqAqlCRc13q+aytAbvXbsmjBnXz8W5QzvSmPLXGrMeiseLFVXL/mI7GcxVaF22lPHFMXSvHNsmyyZ/lP3Y3ZBmiWlmiWmMKKf0YloJ6Wa/iyqjWkemrYyKNa/0m5yy3y8T5QVNPbroLIbVOJTJ6Sn6M/eRfvsrzKqP8JbdshITTrrQlp+L03Cfylh5VB6N9stcM/IxVt6kW2d6s6m0g3GVky63jslW77iKFzm34DaB5KUMBIz/JoBNoWK9SO2UoX2nfo3jns7aCl82NUqduPowXWAI2b5YnpiZyWtYchdYVsuZ5ebpTBR6BLsp8bspvx73gYlxmT6ug5dnVzpwzbua01XJy7aLcO71S6l5w18dS7jEsci2t7XK5d1vwLYL0Ufn4hNXvHvUH6+wf+K3vSHfzmPR8aD3FO/vYb9yUKdyEX05elZbfuWGr9f1e07l5S8NrSg+X0ealbe97eEjE624pVVXTc7uBLvfuc48zVt3Wy1//1iSDvX3ZLiOtWB2Xo9p1l5d9zCqPD/Wxve8GCsXKUOjcV5MdaOjxSp2qDJUodq7LOJ8VBC/ua6DXX/xa7k9mxyNU9lpoozyjnp4fxhjbgFrlvUqsu/y8LsCogdWr5am3Vskjde3kil4XGPOSZ7D28tc3S53K917R1heVx7PjJq2T8rDzjcAA3dWHVvldUdd3TkjdMa8FsBrHt4RtPeg0QV/p1E3CZmo9JdvPWAPz9Db9Euwfd7bxngTrZc/QKemWPmnx1jtN3NX4o1tbpE13b+jyOcFCGXlVXH6zftxrOt8mPY2fyrQ/2DFcRluxfUtV3fRSu/usm1i8uvUHg9qDSovWcTmqXXf5NEn336bMMYfzqOTcV4mq24Ed6hzp16n9etWtIJUETUXOdRnn8zH9ypH5DABAbXHeVJqSDyYOVrkFBElWW91GAABY9FtG0vUOgQsCCF4AALXH/MXVlh+2yeFF+hYWyke3EQAASBRaXgAAQKIQvAAAgEQheAEAAIlC8AIAABKF4AUAACQKwQsAAEgUghcAAJAoBC8AACBRCF4AAECCiPx/PwgymNxILRYAAAAASUVORK5CYII=)"
      ]
    },
    {
      "cell_type": "markdown",
      "metadata": {
        "id": "mJuTMfTO1Iu4",
        "colab_type": "text"
      },
      "source": [
        "Die Merge-Methode wird an `merge` über den Parameter `how` übergeben."
      ]
    },
    {
      "cell_type": "code",
      "metadata": {
        "id": "ILFwhTvV5Og1",
        "colab_type": "code",
        "colab": {
          "base_uri": "https://localhost:8080/",
          "height": 85
        },
        "outputId": "2877f6bf-0770-465b-df98-45e1191c777e"
      },
      "source": [
        "print('inner join: %s' % iris.merge(iris_info, on='species').shape[0]) # species-versicolor und species-lutescens fehlen\n",
        "print('left join: %s' % iris.merge(iris_info, on='species', how='left').shape[0]) # species-lutescens fehlt\n",
        "print('right join: %s' % iris.merge(iris_info, on='species', how='right').shape[0]) # species-versicolor fehlt\n",
        "print('outer join: %s' % iris.merge(iris_info, on='species', how='outer').shape[0]) # alles da"
      ],
      "execution_count": null,
      "outputs": [
        {
          "output_type": "stream",
          "text": [
            "inner join: 100\n",
            "left join: 150\n",
            "right join: 101\n",
            "outer join: 151\n"
          ],
          "name": "stdout"
        }
      ]
    },
    {
      "cell_type": "markdown",
      "metadata": {
        "id": "SFTNCF9x4j6Q",
        "colab_type": "text"
      },
      "source": [
        "## Reshape mit pivot, melt und tranpose\n",
        "DataFrames können auf viele verschiedene Weise transformiert werden, um sie für Auswertungen und Analysen in eine geeignete Form zu bringen."
      ]
    },
    {
      "cell_type": "markdown",
      "metadata": {
        "id": "kHPjUGB-ln8-",
        "colab_type": "text"
      },
      "source": [
        "Die Daten im Iris-Datensatz sind einem sogenannten *wide format*. Es gibt mehrere Spalten (*wide*), die alle Längenmessungen enthalten. Mit Hilfe der Funktion `melt` ist es möglich die \"Spalten in Zeilen\" zu konvertieren. Die Spalte, die eine Zeile identifiziert und nicht in Zeilen konvertiert werden sollen, wird als `id_vars` übergeben."
      ]
    },
    {
      "cell_type": "code",
      "metadata": {
        "id": "2laHJB0Xkixp",
        "colab_type": "code",
        "colab": {
          "base_uri": "https://localhost:8080/",
          "height": 419
        },
        "outputId": "7bc88d4e-dce2-4468-c7e5-99b8411d54a7"
      },
      "source": [
        "iris_long = iris.drop(columns=['species', 'sepal_length_category'])\n",
        "iris_long['id'] = iris_long.index # die Zeilennumern \"sichern\", damit später wieder die passenden Werte zusammen kommen\n",
        "iris_long = iris_long.melt(id_vars='id', var_name='key', value_name='measurement')\n",
        "iris_long"
      ],
      "execution_count": null,
      "outputs": [
        {
          "output_type": "execute_result",
          "data": {
            "text/html": [
              "<div>\n",
              "<style scoped>\n",
              "    .dataframe tbody tr th:only-of-type {\n",
              "        vertical-align: middle;\n",
              "    }\n",
              "\n",
              "    .dataframe tbody tr th {\n",
              "        vertical-align: top;\n",
              "    }\n",
              "\n",
              "    .dataframe thead th {\n",
              "        text-align: right;\n",
              "    }\n",
              "</style>\n",
              "<table border=\"1\" class=\"dataframe\">\n",
              "  <thead>\n",
              "    <tr style=\"text-align: right;\">\n",
              "      <th></th>\n",
              "      <th>id</th>\n",
              "      <th>key</th>\n",
              "      <th>measurement</th>\n",
              "    </tr>\n",
              "  </thead>\n",
              "  <tbody>\n",
              "    <tr>\n",
              "      <th>0</th>\n",
              "      <td>0</td>\n",
              "      <td>sepal_length</td>\n",
              "      <td>5.1</td>\n",
              "    </tr>\n",
              "    <tr>\n",
              "      <th>1</th>\n",
              "      <td>1</td>\n",
              "      <td>sepal_length</td>\n",
              "      <td>4.9</td>\n",
              "    </tr>\n",
              "    <tr>\n",
              "      <th>2</th>\n",
              "      <td>2</td>\n",
              "      <td>sepal_length</td>\n",
              "      <td>4.7</td>\n",
              "    </tr>\n",
              "    <tr>\n",
              "      <th>3</th>\n",
              "      <td>3</td>\n",
              "      <td>sepal_length</td>\n",
              "      <td>4.6</td>\n",
              "    </tr>\n",
              "    <tr>\n",
              "      <th>4</th>\n",
              "      <td>4</td>\n",
              "      <td>sepal_length</td>\n",
              "      <td>5.0</td>\n",
              "    </tr>\n",
              "    <tr>\n",
              "      <th>...</th>\n",
              "      <td>...</td>\n",
              "      <td>...</td>\n",
              "      <td>...</td>\n",
              "    </tr>\n",
              "    <tr>\n",
              "      <th>595</th>\n",
              "      <td>145</td>\n",
              "      <td>petal_width</td>\n",
              "      <td>2.3</td>\n",
              "    </tr>\n",
              "    <tr>\n",
              "      <th>596</th>\n",
              "      <td>146</td>\n",
              "      <td>petal_width</td>\n",
              "      <td>1.9</td>\n",
              "    </tr>\n",
              "    <tr>\n",
              "      <th>597</th>\n",
              "      <td>147</td>\n",
              "      <td>petal_width</td>\n",
              "      <td>2.0</td>\n",
              "    </tr>\n",
              "    <tr>\n",
              "      <th>598</th>\n",
              "      <td>148</td>\n",
              "      <td>petal_width</td>\n",
              "      <td>2.3</td>\n",
              "    </tr>\n",
              "    <tr>\n",
              "      <th>599</th>\n",
              "      <td>149</td>\n",
              "      <td>petal_width</td>\n",
              "      <td>1.8</td>\n",
              "    </tr>\n",
              "  </tbody>\n",
              "</table>\n",
              "<p>600 rows × 3 columns</p>\n",
              "</div>"
            ],
            "text/plain": [
              "      id           key  measurement\n",
              "0      0  sepal_length          5.1\n",
              "1      1  sepal_length          4.9\n",
              "2      2  sepal_length          4.7\n",
              "3      3  sepal_length          4.6\n",
              "4      4  sepal_length          5.0\n",
              "..   ...           ...          ...\n",
              "595  145   petal_width          2.3\n",
              "596  146   petal_width          1.9\n",
              "597  147   petal_width          2.0\n",
              "598  148   petal_width          2.3\n",
              "599  149   petal_width          1.8\n",
              "\n",
              "[600 rows x 3 columns]"
            ]
          },
          "metadata": {
            "tags": []
          },
          "execution_count": 96
        }
      ]
    },
    {
      "cell_type": "markdown",
      "metadata": {
        "id": "0TCQ2uu6nSYq",
        "colab_type": "text"
      },
      "source": [
        "Aus den ursprünglich 150 Zeilen mit den vier Wert-Spalten wurden 600 Zeilen mit einer Wert-Spalte.\n",
        "\n",
        "Dieses *long format* lässt sich mit Hilfe der Methode `pivot` wieder in das *wide format* transformieren."
      ]
    },
    {
      "cell_type": "code",
      "metadata": {
        "id": "-nuzfwQ-oUEA",
        "colab_type": "code",
        "colab": {
          "base_uri": "https://localhost:8080/",
          "height": 450
        },
        "outputId": "3d7195e9-e74e-4ac3-e855-f5914626ae7d"
      },
      "source": [
        "iris_long.pivot(index='id', columns='key', values='measurement')"
      ],
      "execution_count": null,
      "outputs": [
        {
          "output_type": "execute_result",
          "data": {
            "text/html": [
              "<div>\n",
              "<style scoped>\n",
              "    .dataframe tbody tr th:only-of-type {\n",
              "        vertical-align: middle;\n",
              "    }\n",
              "\n",
              "    .dataframe tbody tr th {\n",
              "        vertical-align: top;\n",
              "    }\n",
              "\n",
              "    .dataframe thead th {\n",
              "        text-align: right;\n",
              "    }\n",
              "</style>\n",
              "<table border=\"1\" class=\"dataframe\">\n",
              "  <thead>\n",
              "    <tr style=\"text-align: right;\">\n",
              "      <th>key</th>\n",
              "      <th>petal_length</th>\n",
              "      <th>petal_width</th>\n",
              "      <th>sepal_length</th>\n",
              "      <th>sepal_width</th>\n",
              "    </tr>\n",
              "    <tr>\n",
              "      <th>id</th>\n",
              "      <th></th>\n",
              "      <th></th>\n",
              "      <th></th>\n",
              "      <th></th>\n",
              "    </tr>\n",
              "  </thead>\n",
              "  <tbody>\n",
              "    <tr>\n",
              "      <th>0</th>\n",
              "      <td>1.4</td>\n",
              "      <td>0.2</td>\n",
              "      <td>5.1</td>\n",
              "      <td>3.5</td>\n",
              "    </tr>\n",
              "    <tr>\n",
              "      <th>1</th>\n",
              "      <td>1.4</td>\n",
              "      <td>0.2</td>\n",
              "      <td>4.9</td>\n",
              "      <td>3.0</td>\n",
              "    </tr>\n",
              "    <tr>\n",
              "      <th>2</th>\n",
              "      <td>1.3</td>\n",
              "      <td>0.2</td>\n",
              "      <td>4.7</td>\n",
              "      <td>3.2</td>\n",
              "    </tr>\n",
              "    <tr>\n",
              "      <th>3</th>\n",
              "      <td>1.5</td>\n",
              "      <td>0.2</td>\n",
              "      <td>4.6</td>\n",
              "      <td>3.1</td>\n",
              "    </tr>\n",
              "    <tr>\n",
              "      <th>4</th>\n",
              "      <td>1.4</td>\n",
              "      <td>0.2</td>\n",
              "      <td>5.0</td>\n",
              "      <td>3.6</td>\n",
              "    </tr>\n",
              "    <tr>\n",
              "      <th>...</th>\n",
              "      <td>...</td>\n",
              "      <td>...</td>\n",
              "      <td>...</td>\n",
              "      <td>...</td>\n",
              "    </tr>\n",
              "    <tr>\n",
              "      <th>145</th>\n",
              "      <td>5.2</td>\n",
              "      <td>2.3</td>\n",
              "      <td>6.7</td>\n",
              "      <td>3.0</td>\n",
              "    </tr>\n",
              "    <tr>\n",
              "      <th>146</th>\n",
              "      <td>5.0</td>\n",
              "      <td>1.9</td>\n",
              "      <td>6.3</td>\n",
              "      <td>2.5</td>\n",
              "    </tr>\n",
              "    <tr>\n",
              "      <th>147</th>\n",
              "      <td>5.2</td>\n",
              "      <td>2.0</td>\n",
              "      <td>6.5</td>\n",
              "      <td>3.0</td>\n",
              "    </tr>\n",
              "    <tr>\n",
              "      <th>148</th>\n",
              "      <td>5.4</td>\n",
              "      <td>2.3</td>\n",
              "      <td>6.2</td>\n",
              "      <td>3.4</td>\n",
              "    </tr>\n",
              "    <tr>\n",
              "      <th>149</th>\n",
              "      <td>5.1</td>\n",
              "      <td>1.8</td>\n",
              "      <td>5.9</td>\n",
              "      <td>3.0</td>\n",
              "    </tr>\n",
              "  </tbody>\n",
              "</table>\n",
              "<p>150 rows × 4 columns</p>\n",
              "</div>"
            ],
            "text/plain": [
              "key  petal_length  petal_width  sepal_length  sepal_width\n",
              "id                                                       \n",
              "0             1.4          0.2           5.1          3.5\n",
              "1             1.4          0.2           4.9          3.0\n",
              "2             1.3          0.2           4.7          3.2\n",
              "3             1.5          0.2           4.6          3.1\n",
              "4             1.4          0.2           5.0          3.6\n",
              "..            ...          ...           ...          ...\n",
              "145           5.2          2.3           6.7          3.0\n",
              "146           5.0          1.9           6.3          2.5\n",
              "147           5.2          2.0           6.5          3.0\n",
              "148           5.4          2.3           6.2          3.4\n",
              "149           5.1          1.8           5.9          3.0\n",
              "\n",
              "[150 rows x 4 columns]"
            ]
          },
          "metadata": {
            "tags": []
          },
          "execution_count": 97
        }
      ]
    },
    {
      "cell_type": "markdown",
      "metadata": {
        "id": "A3t3XX1Pte48",
        "colab_type": "text"
      },
      "source": [
        "Für die Erstellung Diagrammen ist es manchmal hilfreich einen DataFrame zu transponieren (Zeilen und Spalten tauschen), bevor die Funktionen für das Diagramm aufgerufen werden. Dafür gibt es die Methode `transpose`."
      ]
    },
    {
      "cell_type": "code",
      "metadata": {
        "id": "U62ufl4lt1yx",
        "colab_type": "code",
        "colab": {
          "base_uri": "https://localhost:8080/",
          "height": 173
        },
        "outputId": "77668ac6-58b7-4b37-fae3-66ae3ccbe517"
      },
      "source": [
        "iris.drop(columns='sepal_length_category').groupby(['species']).mean().transpose()"
      ],
      "execution_count": null,
      "outputs": [
        {
          "output_type": "execute_result",
          "data": {
            "text/html": [
              "<div>\n",
              "<style scoped>\n",
              "    .dataframe tbody tr th:only-of-type {\n",
              "        vertical-align: middle;\n",
              "    }\n",
              "\n",
              "    .dataframe tbody tr th {\n",
              "        vertical-align: top;\n",
              "    }\n",
              "\n",
              "    .dataframe thead th {\n",
              "        text-align: right;\n",
              "    }\n",
              "</style>\n",
              "<table border=\"1\" class=\"dataframe\">\n",
              "  <thead>\n",
              "    <tr style=\"text-align: right;\">\n",
              "      <th>species</th>\n",
              "      <th>species-setosa</th>\n",
              "      <th>species-versicolor</th>\n",
              "      <th>species-virginica</th>\n",
              "    </tr>\n",
              "  </thead>\n",
              "  <tbody>\n",
              "    <tr>\n",
              "      <th>sepal_length</th>\n",
              "      <td>5.006</td>\n",
              "      <td>5.936</td>\n",
              "      <td>6.58804</td>\n",
              "    </tr>\n",
              "    <tr>\n",
              "      <th>sepal_width</th>\n",
              "      <td>3.418</td>\n",
              "      <td>2.770</td>\n",
              "      <td>2.97400</td>\n",
              "    </tr>\n",
              "    <tr>\n",
              "      <th>petal_length</th>\n",
              "      <td>1.464</td>\n",
              "      <td>4.260</td>\n",
              "      <td>5.55200</td>\n",
              "    </tr>\n",
              "    <tr>\n",
              "      <th>petal_width</th>\n",
              "      <td>0.244</td>\n",
              "      <td>1.326</td>\n",
              "      <td>2.02600</td>\n",
              "    </tr>\n",
              "  </tbody>\n",
              "</table>\n",
              "</div>"
            ],
            "text/plain": [
              "species       species-setosa  species-versicolor  species-virginica\n",
              "sepal_length           5.006               5.936            6.58804\n",
              "sepal_width            3.418               2.770            2.97400\n",
              "petal_length           1.464               4.260            5.55200\n",
              "petal_width            0.244               1.326            2.02600"
            ]
          },
          "metadata": {
            "tags": []
          },
          "execution_count": 98
        }
      ]
    },
    {
      "cell_type": "markdown",
      "metadata": {
        "id": "Xo5gyyap7QRe",
        "colab_type": "text"
      },
      "source": [
        "\"Reshaping\" ist wahrscheinlich das mächtigste, aber auch schwierigste Thema in Pandas. Mehr Details gibt es hier: https://pandas.pydata.org/pandas-docs/stable/user_guide/reshaping.html"
      ]
    },
    {
      "cell_type": "markdown",
      "metadata": {
        "id": "4fKEM04L7k7J",
        "colab_type": "text"
      },
      "source": [
        "## Visualisierung mit Pandas\n",
        "\n",
        "Für die einfache und schnelle Erstellung Graphen wird in Pandas (und in Python allgemein) häufig auf die Matplotlib-Library zurückgegriffen. \n",
        "\n",
        "(https://pandas.pydata.org/pandas-docs/stable/user_guide/visualization.html)\n",
        "\n",
        "Die einfachste Möglichkeit, in Pandas einen Plot zu generieren, ist die `plot` Funktion, die direkt auf einem DataFrame oder einer Series aufgerufen werden kann. Hier ein paar Beispiele:"
      ]
    },
    {
      "cell_type": "code",
      "metadata": {
        "id": "C9EiBYL1nhtn",
        "colab_type": "code",
        "colab": {
          "base_uri": "https://localhost:8080/",
          "height": 376
        },
        "outputId": "da47846b-8079-42f3-c2db-ca5a6523d9b6"
      },
      "source": [
        "# Das Balkendiagramm erzeugt für jede numerische Spalte einen unterschiedlich farbigen Balken.\n",
        "# Die Kategorien (x-Achse) werden über die Zeilen gesteuert. In diesem Beispiel jeweils eine Zeile pro 'species' durch Gruppierung und Aggregation.\n",
        "iris.groupby('species').mean().plot.bar()"
      ],
      "execution_count": null,
      "outputs": [
        {
          "output_type": "execute_result",
          "data": {
            "text/plain": [
              "<matplotlib.axes._subplots.AxesSubplot at 0x7f2950578f60>"
            ]
          },
          "metadata": {
            "tags": []
          },
          "execution_count": 99
        },
        {
          "output_type": "display_data",
          "data": {
            "image/png": "[encoded data removed]",
            "text/plain": [
              "<Figure size 432x288 with 1 Axes>"
            ]
          },
          "metadata": {
            "tags": [],
            "needs_background": "light"
          }
        }
      ]
    },
    {
      "cell_type": "code",
      "metadata": {
        "id": "OvN9wot-VMjh",
        "colab_type": "code",
        "colab": {
          "base_uri": "https://localhost:8080/",
          "height": 336
        },
        "outputId": "31bbf14d-b852-4052-a5e9-2c6032de9ef3"
      },
      "source": [
        "# Mit 'transpose' Zeilen und Spalten vertauschen, um die Variablen je 'species' vergleichen zu können\n",
        "iris.groupby('species').mean().transpose().plot.bar()"
      ],
      "execution_count": null,
      "outputs": [
        {
          "output_type": "execute_result",
          "data": {
            "text/plain": [
              "<matplotlib.axes._subplots.AxesSubplot at 0x7f294f491a90>"
            ]
          },
          "metadata": {
            "tags": []
          },
          "execution_count": 100
        },
        {
          "output_type": "display_data",
          "data": {
            "image/png": "[encoded data removed]",
            "text/plain": [
              "<Figure size 432x288 with 1 Axes>"
            ]
          },
          "metadata": {
            "tags": [],
            "needs_background": "light"
          }
        }
      ]
    },
    {
      "cell_type": "code",
      "metadata": {
        "id": "2a8ceKRgWIhB",
        "colab_type": "code",
        "colab": {
          "base_uri": "https://localhost:8080/",
          "height": 297
        },
        "outputId": "a2b2d1e0-5b69-48b5-fb20-0bc912a71615"
      },
      "source": [
        "# Ein Streudiagramm stellt den Zusammenhang von zwei Spalten dar \n",
        "iris.plot.scatter(x='sepal_length', y='petal_length')"
      ],
      "execution_count": null,
      "outputs": [
        {
          "output_type": "execute_result",
          "data": {
            "text/plain": [
              "<matplotlib.axes._subplots.AxesSubplot at 0x7f29506f6358>"
            ]
          },
          "metadata": {
            "tags": []
          },
          "execution_count": 101
        },
        {
          "output_type": "display_data",
          "data": {
            "image/png": "[encoded data removed]",
            "text/plain": [
              "<Figure size 432x288 with 1 Axes>"
            ]
          },
          "metadata": {
            "tags": [],
            "needs_background": "light"
          }
        }
      ]
    },
    {
      "cell_type": "code",
      "metadata": {
        "id": "vQ8usIv-oO0M",
        "colab_type": "code",
        "colab": {
          "base_uri": "https://localhost:8080/",
          "height": 297
        },
        "outputId": "0ee8a7c6-0977-40e2-a271-d7bccea9e70e"
      },
      "source": [
        "# Das gleiche Streudiagramm, aber mit nach 'species' gefärbten Punkten über den Parameter 'c' der Funktion 'plot.scatter'\n",
        "color_map = {'species-setosa':'red', 'species-versicolor':'blue', 'species-virginica':'green'}\n",
        "colors = iris['species'].apply(lambda x : color_map[x])\n",
        "iris.plot.scatter(x='sepal_length', y='petal_length', c=colors)"
      ],
      "execution_count": null,
      "outputs": [
        {
          "output_type": "execute_result",
          "data": {
            "text/plain": [
              "<matplotlib.axes._subplots.AxesSubplot at 0x7f294eeec4a8>"
            ]
          },
          "metadata": {
            "tags": []
          },
          "execution_count": 102
        },
        {
          "output_type": "display_data",
          "data": {
            "image/png": "[encoded data removed]",
            "text/plain": [
              "<Figure size 432x288 with 1 Axes>"
            ]
          },
          "metadata": {
            "tags": [],
            "needs_background": "light"
          }
        }
      ]
    },
    {
      "cell_type": "code",
      "metadata": {
        "id": "VFspvogFZTcB",
        "colab_type": "code",
        "colab": {
          "base_uri": "https://localhost:8080/",
          "height": 297
        },
        "outputId": "6d1aae1a-2fbf-48bb-e6f0-ad8e994bdedf"
      },
      "source": [
        "# die Schwertlilien-Daten geben kein sehr gutes Liniendiagramm her, aber wir versuchen es trotzdem\n",
        "iris.sort_values('petal_width').plot.line(x='petal_width', y=['petal_length', 'sepal_length'])"
      ],
      "execution_count": null,
      "outputs": [
        {
          "output_type": "execute_result",
          "data": {
            "text/plain": [
              "<matplotlib.axes._subplots.AxesSubplot at 0x7f294f491630>"
            ]
          },
          "metadata": {
            "tags": []
          },
          "execution_count": 103
        },
        {
          "output_type": "display_data",
          "data": {
            "image/png": "[encoded data removed]",
            "text/plain": [
              "<Figure size 432x288 with 1 Axes>"
            ]
          },
          "metadata": {
            "tags": [],
            "needs_background": "light"
          }
        }
      ]
    },
    {
      "cell_type": "code",
      "metadata": {
        "id": "afqAlxI8erZi",
        "colab_type": "code",
        "colab": {
          "base_uri": "https://localhost:8080/",
          "height": 265
        },
        "outputId": "f513d469-51a9-439b-8572-455483095d4d"
      },
      "source": [
        "# das gefürchtete Tortendiagramm\n",
        "iris.groupby('sepal_length_category').size().plot.pie()"
      ],
      "execution_count": null,
      "outputs": [
        {
          "output_type": "execute_result",
          "data": {
            "text/plain": [
              "<matplotlib.axes._subplots.AxesSubplot at 0x7f294ee48a58>"
            ]
          },
          "metadata": {
            "tags": []
          },
          "execution_count": 104
        },
        {
          "output_type": "display_data",
          "data": {
            "image/png": "[encoded data removed]",
            "text/plain": [
              "<Figure size 432x288 with 1 Axes>"
            ]
          },
          "metadata": {
            "tags": []
          }
        }
      ]
    },
    {
      "cell_type": "code",
      "metadata": {
        "id": "5sfXSJYPW5M3",
        "colab_type": "code",
        "colab": {
          "base_uri": "https://localhost:8080/",
          "height": 282
        },
        "outputId": "6b108761-72f2-4649-b4dc-a1b13a7e54b7"
      },
      "source": [
        "# ein einfaches Histogramm\n",
        "iris['petal_length'].plot.hist(bins=20)"
      ],
      "execution_count": null,
      "outputs": [
        {
          "output_type": "execute_result",
          "data": {
            "text/plain": [
              "<matplotlib.axes._subplots.AxesSubplot at 0x7f294ee11748>"
            ]
          },
          "metadata": {
            "tags": []
          },
          "execution_count": 105
        },
        {
          "output_type": "display_data",
          "data": {
            "image/png": "[encoded data removed]",
            "text/plain": [
              "<Figure size 432x288 with 1 Axes>"
            ]
          },
          "metadata": {
            "tags": [],
            "needs_background": "light"
          }
        }
      ]
    },
    {
      "cell_type": "code",
      "metadata": {
        "id": "mr39gii8o1mN",
        "colab_type": "code",
        "colab": {
          "base_uri": "https://localhost:8080/",
          "height": 282
        },
        "outputId": "37e77366-6465-479e-ba5a-36641d905625"
      },
      "source": [
        "# das Histogramm zeigt bei mehreren Spalten jede numerische Spalte mit einer eigenen Farbe an\n",
        "# das können wir ausnutzen, um mittels Pivotierung ein Histogramm je 'species' angezeigt zu bekommen\n",
        "iris.pivot(columns='species', values='petal_length').plot.hist(bins=20, alpha=0.5)"
      ],
      "execution_count": null,
      "outputs": [
        {
          "output_type": "execute_result",
          "data": {
            "text/plain": [
              "<matplotlib.axes._subplots.AxesSubplot at 0x7f294ee116a0>"
            ]
          },
          "metadata": {
            "tags": []
          },
          "execution_count": 106
        },
        {
          "output_type": "display_data",
          "data": {
            "image/png": "[encoded data removed]",
            "text/plain": [
              "<Figure size 432x288 with 1 Axes>"
            ]
          },
          "metadata": {
            "tags": [],
            "needs_background": "light"
          }
        }
      ]
    },
    {
      "cell_type": "markdown",
      "metadata": {
        "colab_type": "text",
        "id": "a-Ayd7jccPOA"
      },
      "source": [
        "### Übung\n",
        "\n",
        "Jetzt zu den Aufgaben für Dich:\n",
        "\n",
        "1.   Kombiniere die Bestellungen mit den Lieferanten\n",
        "2.   Erstelle eine Zusammenfassung die je Lieferanten-Typ und Liefertag den Gesamtumsatz angibt.\n",
        "3.   Pivotiere diese Zusammenfassung so, dass der Gesamtumsatz je Lieferanten-Typ in einer eigenen Spalte steht\n",
        "4.   Erstelle ein Liniendiagramm mit x-Achse=Liefertag, y-Achse=Gesamtumsatz und zwei Linien je Lieferanten-Typ\n",
        "5.   Wie viel Umsatz wäre durchschnittlich pro Monat verloren gegangen, wenn alle Lieferanten mit einem Auslieferungsumkreis von genau 15 km diesen auf 10 km reduziert hätten?\n"
      ]
    },
    {
      "cell_type": "code",
      "metadata": {
        "colab_type": "code",
        "id": "2aEIPAh_cPOH",
        "colab": {}
      },
      "source": [
        "# Platz für Deine Übungen :)"
      ],
      "execution_count": null,
      "outputs": []
    },
    {
      "cell_type": "markdown",
      "metadata": {
        "id": "2uHSJi7yc1ku",
        "colab_type": "text"
      },
      "source": [
        "### Lösungen"
      ]
    },
    {
      "cell_type": "code",
      "metadata": {
        "id": "WARwn-x0c25R",
        "colab_type": "code",
        "colab": {
          "base_uri": "https://localhost:8080/",
          "height": 394
        },
        "outputId": "e6bdb9bd-b326-4f9e-d9a5-87b674348e4c"
      },
      "source": [
        "# 1. Kombiniere die Bestellungen mit den Lieferanten\n",
        "df = orders.merge(vendors, on='vendor_id')\n",
        "df.head()"
      ],
      "execution_count": null,
      "outputs": [
        {
          "output_type": "execute_result",
          "data": {
            "text/html": [
              "<div>\n",
              "<style scoped>\n",
              "    .dataframe tbody tr th:only-of-type {\n",
              "        vertical-align: middle;\n",
              "    }\n",
              "\n",
              "    .dataframe tbody tr th {\n",
              "        vertical-align: top;\n",
              "    }\n",
              "\n",
              "    .dataframe thead th {\n",
              "        text-align: right;\n",
              "    }\n",
              "</style>\n",
              "<table border=\"1\" class=\"dataframe\">\n",
              "  <thead>\n",
              "    <tr style=\"text-align: right;\">\n",
              "      <th></th>\n",
              "      <th>customer_id</th>\n",
              "      <th>grand_total</th>\n",
              "      <th>vendor_rating_x</th>\n",
              "      <th>driver_rating</th>\n",
              "      <th>delivery_distance</th>\n",
              "      <th>order_accepted_time</th>\n",
              "      <th>delivered_time</th>\n",
              "      <th>delivery_date</th>\n",
              "      <th>vendor_id</th>\n",
              "      <th>location_number</th>\n",
              "      <th>delivered_weekday_name</th>\n",
              "      <th>latitude</th>\n",
              "      <th>longitude</th>\n",
              "      <th>vendor_category_en</th>\n",
              "      <th>serving_distance</th>\n",
              "      <th>vendor_rating_y</th>\n",
              "      <th>vendor_tag_name</th>\n",
              "      <th>opens_at</th>\n",
              "      <th>closes_at</th>\n",
              "    </tr>\n",
              "  </thead>\n",
              "  <tbody>\n",
              "    <tr>\n",
              "      <th>0</th>\n",
              "      <td>92PEE24</td>\n",
              "      <td>7.6</td>\n",
              "      <td>NaN</td>\n",
              "      <td>0.0</td>\n",
              "      <td>0.0</td>\n",
              "      <td>NaT</td>\n",
              "      <td>NaT</td>\n",
              "      <td>2019-07-31</td>\n",
              "      <td>105</td>\n",
              "      <td>0</td>\n",
              "      <td>NaN</td>\n",
              "      <td>-0.967769</td>\n",
              "      <td>0.080839</td>\n",
              "      <td>Restaurants</td>\n",
              "      <td>15.0</td>\n",
              "      <td>4.5</td>\n",
              "      <td>American,Burgers,Free Delivery,Hot Dogs,Pasta</td>\n",
              "      <td>10:59AM</td>\n",
              "      <td>11:30PM</td>\n",
              "    </tr>\n",
              "    <tr>\n",
              "      <th>1</th>\n",
              "      <td>I9DNSMJ</td>\n",
              "      <td>14.4</td>\n",
              "      <td>NaN</td>\n",
              "      <td>0.0</td>\n",
              "      <td>0.0</td>\n",
              "      <td>NaT</td>\n",
              "      <td>NaT</td>\n",
              "      <td>2019-07-31</td>\n",
              "      <td>105</td>\n",
              "      <td>0</td>\n",
              "      <td>NaN</td>\n",
              "      <td>-0.967769</td>\n",
              "      <td>0.080839</td>\n",
              "      <td>Restaurants</td>\n",
              "      <td>15.0</td>\n",
              "      <td>4.5</td>\n",
              "      <td>American,Burgers,Free Delivery,Hot Dogs,Pasta</td>\n",
              "      <td>10:59AM</td>\n",
              "      <td>11:30PM</td>\n",
              "    </tr>\n",
              "    <tr>\n",
              "      <th>2</th>\n",
              "      <td>I9DNSMJ</td>\n",
              "      <td>14.4</td>\n",
              "      <td>NaN</td>\n",
              "      <td>0.0</td>\n",
              "      <td>0.0</td>\n",
              "      <td>NaT</td>\n",
              "      <td>NaT</td>\n",
              "      <td>2019-07-31</td>\n",
              "      <td>105</td>\n",
              "      <td>0</td>\n",
              "      <td>NaN</td>\n",
              "      <td>-0.967769</td>\n",
              "      <td>0.080839</td>\n",
              "      <td>Restaurants</td>\n",
              "      <td>15.0</td>\n",
              "      <td>4.5</td>\n",
              "      <td>American,Burgers,Free Delivery,Hot Dogs,Pasta</td>\n",
              "      <td>10:59AM</td>\n",
              "      <td>11:30PM</td>\n",
              "    </tr>\n",
              "    <tr>\n",
              "      <th>3</th>\n",
              "      <td>4BQI76G</td>\n",
              "      <td>8.7</td>\n",
              "      <td>NaN</td>\n",
              "      <td>0.0</td>\n",
              "      <td>0.0</td>\n",
              "      <td>NaT</td>\n",
              "      <td>NaT</td>\n",
              "      <td>2019-08-01</td>\n",
              "      <td>105</td>\n",
              "      <td>0</td>\n",
              "      <td>NaN</td>\n",
              "      <td>-0.967769</td>\n",
              "      <td>0.080839</td>\n",
              "      <td>Restaurants</td>\n",
              "      <td>15.0</td>\n",
              "      <td>4.5</td>\n",
              "      <td>American,Burgers,Free Delivery,Hot Dogs,Pasta</td>\n",
              "      <td>10:59AM</td>\n",
              "      <td>11:30PM</td>\n",
              "    </tr>\n",
              "    <tr>\n",
              "      <th>4</th>\n",
              "      <td>V6JC4VF</td>\n",
              "      <td>20.4</td>\n",
              "      <td>NaN</td>\n",
              "      <td>0.0</td>\n",
              "      <td>0.0</td>\n",
              "      <td>NaT</td>\n",
              "      <td>NaT</td>\n",
              "      <td>2019-08-01</td>\n",
              "      <td>105</td>\n",
              "      <td>0</td>\n",
              "      <td>NaN</td>\n",
              "      <td>-0.967769</td>\n",
              "      <td>0.080839</td>\n",
              "      <td>Restaurants</td>\n",
              "      <td>15.0</td>\n",
              "      <td>4.5</td>\n",
              "      <td>American,Burgers,Free Delivery,Hot Dogs,Pasta</td>\n",
              "      <td>10:59AM</td>\n",
              "      <td>11:30PM</td>\n",
              "    </tr>\n",
              "  </tbody>\n",
              "</table>\n",
              "</div>"
            ],
            "text/plain": [
              "  customer_id  grand_total  ...  opens_at  closes_at\n",
              "0     92PEE24          7.6  ...   10:59AM    11:30PM\n",
              "1     I9DNSMJ         14.4  ...   10:59AM    11:30PM\n",
              "2     I9DNSMJ         14.4  ...   10:59AM    11:30PM\n",
              "3     4BQI76G          8.7  ...   10:59AM    11:30PM\n",
              "4     V6JC4VF         20.4  ...   10:59AM    11:30PM\n",
              "\n",
              "[5 rows x 19 columns]"
            ]
          },
          "metadata": {
            "tags": []
          },
          "execution_count": 107
        }
      ]
    },
    {
      "cell_type": "code",
      "metadata": {
        "id": "bmjhdbzCgv0N",
        "colab_type": "code",
        "colab": {
          "base_uri": "https://localhost:8080/",
          "height": 204
        },
        "outputId": "96bc58ff-58a5-4e20-992c-f7101485d12f"
      },
      "source": [
        "# 2. Erstelle eine Zusammenfassung die je Lieferanten-Typ und Liefertag den Gesamtumsatz angibt.\n",
        "df = df.groupby(['delivery_date', 'vendor_category_en'])['grand_total'].sum().reset_index()\n",
        "df.head()"
      ],
      "execution_count": null,
      "outputs": [
        {
          "output_type": "execute_result",
          "data": {
            "text/html": [
              "<div>\n",
              "<style scoped>\n",
              "    .dataframe tbody tr th:only-of-type {\n",
              "        vertical-align: middle;\n",
              "    }\n",
              "\n",
              "    .dataframe tbody tr th {\n",
              "        vertical-align: top;\n",
              "    }\n",
              "\n",
              "    .dataframe thead th {\n",
              "        text-align: right;\n",
              "    }\n",
              "</style>\n",
              "<table border=\"1\" class=\"dataframe\">\n",
              "  <thead>\n",
              "    <tr style=\"text-align: right;\">\n",
              "      <th></th>\n",
              "      <th>delivery_date</th>\n",
              "      <th>vendor_category_en</th>\n",
              "      <th>grand_total</th>\n",
              "    </tr>\n",
              "  </thead>\n",
              "  <tbody>\n",
              "    <tr>\n",
              "      <th>0</th>\n",
              "      <td>2019-05-31</td>\n",
              "      <td>Restaurants</td>\n",
              "      <td>565.3</td>\n",
              "    </tr>\n",
              "    <tr>\n",
              "      <th>1</th>\n",
              "      <td>2019-05-31</td>\n",
              "      <td>Sweets &amp; Bakes</td>\n",
              "      <td>268.3</td>\n",
              "    </tr>\n",
              "    <tr>\n",
              "      <th>2</th>\n",
              "      <td>2019-06-01</td>\n",
              "      <td>Restaurants</td>\n",
              "      <td>3138.1</td>\n",
              "    </tr>\n",
              "    <tr>\n",
              "      <th>3</th>\n",
              "      <td>2019-06-01</td>\n",
              "      <td>Sweets &amp; Bakes</td>\n",
              "      <td>765.2</td>\n",
              "    </tr>\n",
              "    <tr>\n",
              "      <th>4</th>\n",
              "      <td>2019-06-02</td>\n",
              "      <td>Restaurants</td>\n",
              "      <td>2609.0</td>\n",
              "    </tr>\n",
              "  </tbody>\n",
              "</table>\n",
              "</div>"
            ],
            "text/plain": [
              "  delivery_date vendor_category_en  grand_total\n",
              "0    2019-05-31        Restaurants        565.3\n",
              "1    2019-05-31     Sweets & Bakes        268.3\n",
              "2    2019-06-01        Restaurants       3138.1\n",
              "3    2019-06-01     Sweets & Bakes        765.2\n",
              "4    2019-06-02        Restaurants       2609.0"
            ]
          },
          "metadata": {
            "tags": []
          },
          "execution_count": 108
        }
      ]
    },
    {
      "cell_type": "code",
      "metadata": {
        "id": "EeghUTi5hJbj",
        "colab_type": "code",
        "colab": {
          "base_uri": "https://localhost:8080/",
          "height": 204
        },
        "outputId": "c9fdf25d-515f-453d-ff19-c562dc70aada"
      },
      "source": [
        "# 3. Pivotiere diese Zusammenfassung, so dass der Gesamtumsatz je Lieferanten-Typ in einer eigenen Spalte steht\n",
        "df = df.pivot(index='delivery_date', columns='vendor_category_en', values='grand_total').reset_index()\n",
        "df.head()"
      ],
      "execution_count": null,
      "outputs": [
        {
          "output_type": "execute_result",
          "data": {
            "text/html": [
              "<div>\n",
              "<style scoped>\n",
              "    .dataframe tbody tr th:only-of-type {\n",
              "        vertical-align: middle;\n",
              "    }\n",
              "\n",
              "    .dataframe tbody tr th {\n",
              "        vertical-align: top;\n",
              "    }\n",
              "\n",
              "    .dataframe thead th {\n",
              "        text-align: right;\n",
              "    }\n",
              "</style>\n",
              "<table border=\"1\" class=\"dataframe\">\n",
              "  <thead>\n",
              "    <tr style=\"text-align: right;\">\n",
              "      <th>vendor_category_en</th>\n",
              "      <th>delivery_date</th>\n",
              "      <th>Restaurants</th>\n",
              "      <th>Sweets &amp; Bakes</th>\n",
              "    </tr>\n",
              "  </thead>\n",
              "  <tbody>\n",
              "    <tr>\n",
              "      <th>0</th>\n",
              "      <td>2019-05-31</td>\n",
              "      <td>565.3</td>\n",
              "      <td>268.3</td>\n",
              "    </tr>\n",
              "    <tr>\n",
              "      <th>1</th>\n",
              "      <td>2019-06-01</td>\n",
              "      <td>3138.1</td>\n",
              "      <td>765.2</td>\n",
              "    </tr>\n",
              "    <tr>\n",
              "      <th>2</th>\n",
              "      <td>2019-06-02</td>\n",
              "      <td>2609.0</td>\n",
              "      <td>559.1</td>\n",
              "    </tr>\n",
              "    <tr>\n",
              "      <th>3</th>\n",
              "      <td>2019-06-03</td>\n",
              "      <td>2846.9</td>\n",
              "      <td>201.2</td>\n",
              "    </tr>\n",
              "    <tr>\n",
              "      <th>4</th>\n",
              "      <td>2019-06-04</td>\n",
              "      <td>3599.2</td>\n",
              "      <td>609.2</td>\n",
              "    </tr>\n",
              "  </tbody>\n",
              "</table>\n",
              "</div>"
            ],
            "text/plain": [
              "vendor_category_en delivery_date  Restaurants  Sweets & Bakes\n",
              "0                     2019-05-31        565.3           268.3\n",
              "1                     2019-06-01       3138.1           765.2\n",
              "2                     2019-06-02       2609.0           559.1\n",
              "3                     2019-06-03       2846.9           201.2\n",
              "4                     2019-06-04       3599.2           609.2"
            ]
          },
          "metadata": {
            "tags": []
          },
          "execution_count": 109
        }
      ]
    },
    {
      "cell_type": "code",
      "metadata": {
        "id": "sJaDj-kFhRu_",
        "colab_type": "code",
        "colab": {
          "base_uri": "https://localhost:8080/",
          "height": 295
        },
        "outputId": "ccd44c9a-ab15-4af9-a2ea-7fd3dabbfc4b"
      },
      "source": [
        "# 4. Erstelle ein Liniendiagramm mit x-Achse=Liefertag, y-Achse=Gesamtumsatz und zwei Linien je Lieferanten-Typ\n",
        "df.plot.line(x='delivery_date')"
      ],
      "execution_count": null,
      "outputs": [
        {
          "output_type": "execute_result",
          "data": {
            "text/plain": [
              "<matplotlib.axes._subplots.AxesSubplot at 0x7f29467bde48>"
            ]
          },
          "metadata": {
            "tags": []
          },
          "execution_count": 119
        },
        {
          "output_type": "display_data",
          "data": {
            "image/png": "[encoded data removed]",
            "text/plain": [
              "<Figure size 432x288 with 1 Axes>"
            ]
          },
          "metadata": {
            "tags": [],
            "needs_background": "light"
          }
        }
      ]
    },
    {
      "cell_type": "markdown",
      "metadata": {
        "id": "XNrQRhyqx12-",
        "colab_type": "text"
      },
      "source": [
        "## Weiterführende Ressourcen\n",
        "Themen zur Vertiefung der Konzepte und Methoden in diesem Notebook:\n",
        "\n",
        "*   **Fehlende Daten** In Pandas werden fehlende Daten normalerweise mit dem Numpy-Wert `np.nan` (aus der Bibliothek NumPy) dargestellt. In der Praxis können allerdings auch andere Wert auftreten, z.b. der Python-Wert `None`. Als Entsprechung für den datetime-Datentyp stellt Pandas zusätzlich `pd.nat` (Not A Time) zur Verfügung. Der Umgang mit fehlenden Daten ist operationsabhängig, z.B. können sie komplett ignoriert oder als \"0\" behandelt werden. (https://pandas.pydata.org/pandas-docs/stable/user_guide/missing_data.html#missing-data)\n",
        "*   **Cookbook** (enthält sehr viele Kurzbeispiele): https://pandas.pydata.org/pandas-docs/stable/user_guide/cookbook.html\n",
        "\n",
        "* **Vergleich zwischen Pandas und SQL**: https://pandas.pydata.org/pandas-docs/stable/getting_started/comparison/comparison_with_sql.html\n",
        "\n",
        "*   **Pandas-Cheatsheet** (übersichtliche Zusammenfassung): https://pandas.pydata.org/Pandas_Cheat_Sheet.pdf\n",
        "\n",
        "*   **URL-Cache löschen** hilft, falls sich eine über HTTP geladene Ressource geändert hat, aber Pandas immer noch die alten Daten lädt: \n",
        "```\n",
        "import urllib.request\n",
        "urllib.request.urlcleanup()\n",
        "```\n",
        "\n",
        "\n",
        "\n",
        "\n"
      ]
    },
    {
      "cell_type": "code",
      "metadata": {
        "id": "N-7_m5Ss3rql",
        "colab_type": "code",
        "colab": {}
      },
      "source": [
        ""
      ],
      "execution_count": null,
      "outputs": []
    }
  ]
}