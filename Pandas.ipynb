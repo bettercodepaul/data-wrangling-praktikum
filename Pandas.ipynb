{
  "cells": [
    {
      "attachments": {},
      "cell_type": "markdown",
      "metadata": {
        "colab_type": "text",
        "id": "view-in-github"
      },
      "source": [
        "<a href=\"https://colab.research.google.com/github/thomas-bierhance-exxcellent/data-wrangling-praktikum/blob/master/Pandas.ipynb\" target=\"_parent\"><img src=\"https://colab.research.google.com/assets/colab-badge.svg\" alt=\"Open In Colab\"/></a>"
      ]
    },
    {
      "attachments": {},
      "cell_type": "markdown",
      "metadata": {
        "id": "MFnswkLeOKXj"
      },
      "source": [
        "# Pandas Einführung\n",
        "\n",
        "Pandas ist *die* Standard-Python-Bibliothek für die grundlegende Verarbeitung und Analyse von Daten.\n",
        "\n",
        "In diesem Notebook werden die wichtigsten Pandas-Konzepte und -Funktionen vorgestellt. Die Hauptquelle für diese Einführung ist die offizielle Pandas-Webseite, die auch weiterführende Informationen enthält:\n",
        "\n",
        "https://pandas.pydata.org/pandas-docs/stable/user_guide/\n",
        "\n",
        "In jeder Sektion ist der entsprechende Teil der Dokumentation verlinkt.\n"
      ]
    },
    {
      "cell_type": "code",
      "execution_count": null,
      "metadata": {
        "id": "wVyKWjYeb7QD"
      },
      "outputs": [],
      "source": [
        "# Die Module Pandas und Numpy (bietet unterstützende, numerische Funktionen) laden\n",
        "import pandas as pd\n",
        "import numpy as np"
      ]
    },
    {
      "attachments": {},
      "cell_type": "markdown",
      "metadata": {
        "id": "4bseLXlca51_"
      },
      "source": [
        "## Einfache Datenstrukturen in Python\n",
        "\n",
        "Zunächst ein paar Basics mit Python. Eine einfache Liste wird in Python mit eckigen Klammern angelegt."
      ]
    },
    {
      "cell_type": "code",
      "execution_count": null,
      "metadata": {
        "id": "OCge_EE7QWph"
      },
      "outputs": [],
      "source": [
        "some_ua_characters = ['Vanya', 'Luther', 'Diego', 'Allison', 'Klaus', 'Five']\n",
        "some_primes = [1, 2, 3, 5, 7, 11, 13]"
      ]
    },
    {
      "attachments": {},
      "cell_type": "markdown",
      "metadata": {
        "id": "n5bDuS89Q7Fa"
      },
      "source": [
        "Auf die einzelnen Elemente einer Liste wird mit dem Index-Operator `[]` unter Angabe der Position des Elements zugegriffen."
      ]
    },
    {
      "cell_type": "code",
      "execution_count": null,
      "metadata": {
        "colab": {
          "base_uri": "https://localhost:8080/",
          "height": 35
        },
        "id": "x4HOdp5qQ3jr",
        "outputId": "50e4e65d-edd6-40c5-8856-df0102669d29"
      },
      "outputs": [],
      "source": [
        "some_ua_characters[0]"
      ]
    },
    {
      "attachments": {},
      "cell_type": "markdown",
      "metadata": {
        "id": "9Rnkhq_Pk9_L"
      },
      "source": [
        "Die Länge einer Liste wird mit der Funktion `len` zurückgegeben."
      ]
    },
    {
      "cell_type": "code",
      "execution_count": null,
      "metadata": {
        "colab": {
          "base_uri": "https://localhost:8080/"
        },
        "id": "IaLWApCwlCes",
        "outputId": "295f9a6f-671f-499d-b106-5d1be2f979de"
      },
      "outputs": [],
      "source": [
        "len(some_primes)"
      ]
    },
    {
      "attachments": {},
      "cell_type": "markdown",
      "metadata": {
        "id": "cfcrIiYaQ6Jc"
      },
      "source": [
        "Eine Zuordnungstabelle mit Paaren aus Schlüssel und Wert (in Python Dictionary genannt) wird mit geschweiften Klammern angelegt."
      ]
    },
    {
      "cell_type": "code",
      "execution_count": null,
      "metadata": {
        "colab": {
          "base_uri": "https://localhost:8080/"
        },
        "id": "Cuke_cScTXBW",
        "outputId": "15d5c767-32b2-4864-ba73-e02e3ef57e8f"
      },
      "outputs": [],
      "source": [
        "hans = {'first name': 'Hans', 'last name': 'Mustermann', 'age': 42, 'city': 'Bielefeld'}\n",
        "hans"
      ]
    },
    {
      "attachments": {},
      "cell_type": "markdown",
      "metadata": {
        "id": "N8vAHcxiT91W"
      },
      "source": [
        "Auch hier kannst Du mit dem Index-Operator auf die Werte der einzelnen Elemente zugreifen; aber unter Angabe des Schlüssels statt der Position."
      ]
    },
    {
      "cell_type": "code",
      "execution_count": null,
      "metadata": {
        "colab": {
          "base_uri": "https://localhost:8080/"
        },
        "id": "59_lCNP8T-vO",
        "outputId": "f3bb11f1-33f0-43ba-d2a9-f1758f451e36"
      },
      "outputs": [],
      "source": [
        "hans_alter = hans['age']\n",
        "hans_vorname = hans['first name']\n",
        "print(\"%s ist %s Jahre alt.\" % (hans_vorname, hans_alter))"
      ]
    },
    {
      "attachments": {},
      "cell_type": "markdown",
      "metadata": {
        "id": "11fD13ggVbYF"
      },
      "source": [
        "Welchen Datentyp eine Variable hat, kannst Du mit der Funktion ``type`` bestimmen.\n",
        "\n"
      ]
    },
    {
      "cell_type": "code",
      "execution_count": null,
      "metadata": {
        "colab": {
          "base_uri": "https://localhost:8080/"
        },
        "id": "TPMKGGw0VIfV",
        "outputId": "6547f804-e2e8-4168-b46a-9c984012905f"
      },
      "outputs": [],
      "source": [
        "print(type(some_primes))\n",
        "print(type(hans))\n",
        "print(type('Hans'))\n",
        "print(type(1.5834645))"
      ]
    },
    {
      "attachments": {},
      "cell_type": "markdown",
      "metadata": {
        "id": "USDqF84oXRMt"
      },
      "source": [
        "## DataFrames und Series\n",
        "\n",
        "Der wichtigste Datentyp in Pandas ist der DataFrame. Ein DataFrame ist eine Tabelle mit Zeilen und Spalten.\n",
        "\n",
        "In den meisten Fällen wirst Du einen DataFrame aus einer Datei einlesen oder von einer Datenbank abfragen.\n",
        "\n",
        "Ein DataFrame kann aber auch zu Fuß z.B. auf Basis von Spalten mit einem Dictionary erzeugt werden. Im Dictionary ist der Schlüssel der Spaltenname und der Wert sind die Spalteneinträge als Liste."
      ]
    },
    {
      "cell_type": "code",
      "execution_count": null,
      "metadata": {
        "colab": {
          "base_uri": "https://localhost:8080/",
          "height": 233
        },
        "id": "PC_V9DoaXxpD",
        "outputId": "48c0dad4-6348-42f7-c4db-31b79730e58c"
      },
      "outputs": [],
      "source": [
        "df = pd.DataFrame({'character': ['Vanya', 'Luther', 'Diego', 'Allison', 'Klaus', 'Five'],\n",
        "                   'actor': ['Ellen Page', 'Tom Hopper', 'David Castañeda', 'Emmy Raver-Lampman', 'Robert Sheehan', 'Aidan Gallagher'],\n",
        "                   'year_of_birth': [1987, 1985, 1989, 1988, 1988, 2003]})\n",
        "df"
      ]
    },
    {
      "attachments": {},
      "cell_type": "markdown",
      "metadata": {
        "id": "lFU1LvKeYTpw"
      },
      "source": [
        "Oder du übergibst die Daten auf Basis von Zeilen (als Liste von Listen) und die Spaltennamen als ein zusätzliches Attribut."
      ]
    },
    {
      "cell_type": "code",
      "execution_count": null,
      "metadata": {
        "colab": {
          "base_uri": "https://localhost:8080/",
          "height": 233
        },
        "id": "dlu-pNsBYSqw",
        "outputId": "6794285b-c4cf-4e36-f6ea-596735836dd0"
      },
      "outputs": [],
      "source": [
        "df = pd.DataFrame([['Vanya', 'Ellen Page', 1987],\n",
        "                   ['Luther', 'Tom Hopper', 1985],\n",
        "                   ['Diego', 'David Castañeda', 1989],\n",
        "                   ['Allison', 'Emmy Raver-Lampman', 1988],\n",
        "                   ['Klaus', 'Robert Sheehan', 1988],\n",
        "                   ['Five', 'Aidan Gallagher', 2003]], columns=['character', 'actor', 'year_of_birth'])\n",
        "df"
      ]
    },
    {
      "attachments": {},
      "cell_type": "markdown",
      "metadata": {
        "id": "Ez4szR7AmH8E"
      },
      "source": [
        "Für die Anzahl der Zeilen eines DataFrame gibt es überraschenderweise kein spezielles Attribut. Das Attribut `shape`, das sowohl die Anzahl der Zeilen als auch die Anzahl der Spalten als Tupel liefert, kannst Du alternativ nutzen oder die Funktion `len` zum Beispiel `len(df)`."
      ]
    },
    {
      "cell_type": "code",
      "execution_count": null,
      "metadata": {
        "colab": {
          "base_uri": "https://localhost:8080/"
        },
        "id": "vCYfJXkVmPlh",
        "outputId": "ee90d2c8-461c-43b9-841b-d0b5b52cfc56"
      },
      "outputs": [],
      "source": [
        "df.shape"
      ]
    },
    {
      "cell_type": "code",
      "execution_count": null,
      "metadata": {
        "colab": {
          "base_uri": "https://localhost:8080/"
        },
        "id": "UqpdtdexnBOb",
        "outputId": "289d2901-24bc-4637-9d96-4193bc3e636f"
      },
      "outputs": [],
      "source": [
        "# Anzahl der Zeilen steht im ersten Element der Liste (Position=0)\n",
        "df.shape[0]"
      ]
    },
    {
      "attachments": {},
      "cell_type": "markdown",
      "metadata": {
        "id": "QtpLqXtVodyl"
      },
      "source": [
        "Die Spaltennamen eines DataFrame stecken im Attribut `columns`, die Datentypen der Spalten im Attribut `dtypes`. "
      ]
    },
    {
      "cell_type": "code",
      "execution_count": null,
      "metadata": {
        "colab": {
          "base_uri": "https://localhost:8080/"
        },
        "id": "lHeh7Af1ozop",
        "outputId": "a65dae52-36f8-4d23-eac2-3684e8bba8f3"
      },
      "outputs": [],
      "source": [
        "df.columns"
      ]
    },
    {
      "cell_type": "code",
      "execution_count": null,
      "metadata": {
        "colab": {
          "base_uri": "https://localhost:8080/"
        },
        "id": "Uq2pIjLho8Bt",
        "outputId": "abd46dda-6efa-42b1-b2ad-290b838fe05b"
      },
      "outputs": [],
      "source": [
        "df.dtypes"
      ]
    },
    {
      "attachments": {},
      "cell_type": "markdown",
      "metadata": {
        "id": "PCuIKmPTYVZr"
      },
      "source": [
        "Um einen ersten Eindruck von den Daten zu gewinnen, ist es oft hilfreich, sich die ersten paar Zeilen eines DataFrames auszugeben, was mit `head` geht. Ein paar statistische Informationen über einen DataFrame gibt die Funktion `describe` aus."
      ]
    },
    {
      "cell_type": "code",
      "execution_count": null,
      "metadata": {
        "colab": {
          "base_uri": "https://localhost:8080/",
          "height": 202
        },
        "id": "XjQHShgdYpTr",
        "outputId": "57801f00-f095-44e2-f03b-01ad171cbe3f"
      },
      "outputs": [],
      "source": [
        "df.head()"
      ]
    },
    {
      "cell_type": "code",
      "execution_count": null,
      "metadata": {
        "colab": {
          "base_uri": "https://localhost:8080/",
          "height": 386
        },
        "id": "hj68IKU0YrTY",
        "outputId": "a85bd1b4-11ee-4b38-e51d-a0db37bbb34a"
      },
      "outputs": [],
      "source": [
        "df.describe(include='all')"
      ]
    },
    {
      "attachments": {},
      "cell_type": "markdown",
      "metadata": {
        "id": "HhAJ2bWaaHVw"
      },
      "source": [
        "Um von einem DataFrame eine einzelne Spalte zu erhalten, wird der Index-Operator mit Angabe des Spaltennamens benutzt."
      ]
    },
    {
      "cell_type": "code",
      "execution_count": null,
      "metadata": {
        "colab": {
          "base_uri": "https://localhost:8080/"
        },
        "id": "HoNqTtJ_aXQs",
        "outputId": "e6156f67-2fa5-48cd-a5bc-7f445e484288"
      },
      "outputs": [],
      "source": [
        "df['actor']"
      ]
    },
    {
      "attachments": {},
      "cell_type": "markdown",
      "metadata": {
        "id": "5mEeZnU_ZokL"
      },
      "source": [
        "Eine Spalte wird vom DataFrame nicht als einfache Liste zurückgeben, sondern als Objekt der Klasse *Series*, die viele nützliche Attribute und Funktionen bereitstellt, z.B. die Anzahl der Werte (`size`), Mittelwert (`mean`), kleinster Wert (`min`), größter Wert (`max`), die unterschiedlichen Werte (`unique`) oder deren Anzahl (`nunique`)."
      ]
    },
    {
      "cell_type": "code",
      "execution_count": null,
      "metadata": {
        "colab": {
          "base_uri": "https://localhost:8080/"
        },
        "id": "20kjtjgnZbvw",
        "outputId": "e1ce6179-b527-4c5c-bd2e-377a94fbb408"
      },
      "outputs": [],
      "source": [
        "type(df['actor'])"
      ]
    },
    {
      "cell_type": "code",
      "execution_count": null,
      "metadata": {
        "colab": {
          "base_uri": "https://localhost:8080/"
        },
        "id": "CZLZbNWjbCgE",
        "outputId": "7d1924a8-0759-457f-fc25-85da2a4b026c"
      },
      "outputs": [],
      "source": [
        "print('Anzahl der Schauspieler: %s' % df['actor'].size)\n",
        "print('Anzahl unterschiedlicher Werte für Geburtsjahr: %s' % df['year_of_birth'].nunique())\n",
        "print('Durchschnittsalter der Schauspieler: %s' % (2020-df['year_of_birth'].mean()))\n",
        "print('Alter des jüngsten Mitglieds: %s' % (2020-df['year_of_birth'].max()))\n",
        "print('Alter des ältesten Mitglieds: %s' % (2020-df['year_of_birth'].min()))"
      ]
    },
    {
      "attachments": {},
      "cell_type": "markdown",
      "metadata": {
        "id": "ki3tT7zWQNT5"
      },
      "source": [
        "*   Einführung in Pandas-Datenstrukturen: https://pandas.pydata.org/pandas-docs/stable/user_guide/dsintro\n",
        "*   Dokumentation der Klasse DataFrame: https://pandas.pydata.org/pandas-docs/stable/reference/frame.html\n",
        "*   Dokumentation der Klasse Series: https://pandas.pydata.org/pandas-docs/stable/reference/api/pandas.Series.html"
      ]
    },
    {
      "attachments": {},
      "cell_type": "markdown",
      "metadata": {
        "id": "dHs2aoFpW33K"
      },
      "source": [
        "### DataFrames aus Dateien lesen\n",
        "\n",
        "Pandas beinhaltet umfangreiche Methoden zum lesen und schreiben für verbreitete Formate, z.B. CSV, JSON, HTML, Excel oder auch das klassische \"fixed width format\".\n",
        "\n",
        "Eine CSV-Datei wird mit der Funktion `read_csv` eingelesen.\n",
        "\n",
        "Hier ein Beispiel, das von Pandas direkt ziemlich gut eingelesen wird:\n",
        "\n",
        "```\n",
        "product,price,valid_from,valid_to,in_print_brochure\n",
        "Rote Äpfel,2.9,2020-11-09;2020-11-15,TRUE\n",
        "Mini Käsekuchen,1.93,2020-11-17,2020-11-23,FALSE\n",
        "```"
      ]
    },
    {
      "cell_type": "code",
      "execution_count": null,
      "metadata": {
        "colab": {
          "base_uri": "https://localhost:8080/",
          "height": 110
        },
        "id": "d_RXByBMXCE_",
        "outputId": "4a9914b9-3088-48c3-dcda-037a07da89ce"
      },
      "outputs": [],
      "source": [
        "pd.read_csv('https://github.com/datenzauberai/data-wrangling-praktikum/raw/master/Offers.csv')"
      ]
    },
    {
      "attachments": {},
      "cell_type": "markdown",
      "metadata": {
        "id": "O3W6zucBXwsw"
      },
      "source": [
        "Das klappt aber nicht immer. Hier eine zweite Beispiel-Datei, die Pandas ohne Hinweise nicht gut einliest, weil Spaltenüberschriften fehlen, das Trennzeichen ein Semikolon ist, ...\n",
        "\n",
        "```\n",
        "Rote Äpfel;2,9;09.11.2020;15.11.2020;Wahr\n",
        "Mini Käsekuchen;1,93;17.11.2020;23.11.2020;Falsch\n",
        "```\n"
      ]
    },
    {
      "cell_type": "code",
      "execution_count": null,
      "metadata": {
        "colab": {
          "base_uri": "https://localhost:8080/",
          "height": 79
        },
        "id": "VjAHKT3tgFor",
        "outputId": "3202d3a7-48a5-465d-aba0-7663b4e068e4"
      },
      "outputs": [],
      "source": [
        "pd.read_csv('https://github.com/thomas-bierhance-exxcellent/data-wrangling-praktikum/raw/master/Angebote.csv')"
      ]
    },
    {
      "attachments": {},
      "cell_type": "markdown",
      "metadata": {
        "id": "r_wLl-eKg1nx"
      },
      "source": [
        "Für solche Fälle gibt es eine Unmenge an Optionen, damit Du die CSV-Dateien in den unterschiedlichsten Geschmackrichtungen einlesen kannst. Eine kleine Auswahl:\n",
        "\n",
        "* `sep` Spalten-Trennzeichen (Default `sep=','`)\n",
        "* `names` Spalten-Namen, falls die Datei keine enthält \n",
        "* `true_values`/`false_values` Liste mit Strings für Boolsche-Werte\n",
        "* `decimal` Dezimaltrennzeichen (Default `.`)\n",
        "* `thousands` Tausendertrennzeichen\n",
        "* `parse_dates` Liste der Spalten, die als Datum/Zeit interpretiert werden sollen\n",
        "* `date_parser` Funktion, die für das Parsen von Datum/Zeit-Spalten genutzt werden soll (falls der Default-Parser nicht funktioniert)\n",
        "\n",
        "Und dann klappt das auch..."
      ]
    },
    {
      "cell_type": "code",
      "execution_count": null,
      "metadata": {
        "colab": {
          "base_uri": "https://localhost:8080/",
          "height": 110
        },
        "id": "D9tFvezvcKG7",
        "outputId": "b689ac39-ef80-4967-f97e-47cb5f549ae0"
      },
      "outputs": [],
      "source": [
        "pd.read_csv('https://github.com/thomas-bierhance-exxcellent/data-wrangling-praktikum/raw/master/Angebote.csv',\n",
        "            sep=';', names=['product', 'price', 'valid_from', 'valid_to', 'in_print_brochure'],\n",
        "            decimal=',',\n",
        "            true_values=['Wahr'], false_values=['Falsch'],\n",
        "            parse_dates=['valid_from', 'valid_to'],\n",
        "            date_parser=lambda x: pd.to_datetime(x, format='%d.%m.%Y')) # Lambdafunktion für die Datumskonvertierung"
      ]
    },
    {
      "attachments": {},
      "cell_type": "markdown",
      "metadata": {
        "id": "v79MDoupXLBl"
      },
      "source": [
        "Weiterführende Dokumentation zum Thema IO gibt es noch hier: https://pandas.pydata.org/pandas-docs/stable/user_guide/io.html"
      ]
    },
    {
      "attachments": {},
      "cell_type": "markdown",
      "metadata": {
        "id": "ZfnNLGGMzozo"
      },
      "source": [
        "### Übung\n",
        "Für die Übungen in diesem Notebook kannst Du entweder Deine eigenen Datensätze verwenden oder Du nutzt Daten aus der [Akeed Restaurant Recommendation Challenge](https://zindi.africa/competitions/akeed-restaurant-recommendation-challenge/data), die wir für Dich vorbereitet haben.\n",
        "\n",
        "Akeed ist ein Essenslieferdienst aus Oman - ähnlich wie Lieferando, Foodora & Co.\n",
        "\n",
        "Als Daten stehen bereit:\n",
        "\n",
        "* Lieferant, von denen Essen bezogen werden kann (https://github.com/thomas-bierhance-exxcellent/data-wrangling-praktikum/raw/master/vendors.csv.xz)\n",
        "* Kunden, die Essen bestellt haben (https://github.com/thomas-bierhance-exxcellent/data-wrangling-praktikum/raw/master/customers.csv.xz)\n",
        "* Lieferorte, an die das Essen ausgeliefert wird (https://github.com/thomas-bierhance-exxcellent/data-wrangling-praktikum/raw/master/locations.csv.xz)\n",
        "* Bestellungen, die von Kunden getätigt wurden (https://github.com/thomas-bierhance-exxcellent/data-wrangling-praktikum/raw/master/orders.csv.xz)\n",
        "\n",
        "Jetzt zu den Aufgaben für Dich:\n",
        "\n",
        "1.   Lese die Daten jeweils in einen eigenen DataFrame ein.\n",
        "2.   Mache dich mit den Daten vertraut. Lasse Dir für jeden Datensatz die ersten Zeilen ausgeben. Welche Datentypen sind in den Spalten? Wie viele Zeilen haben die Datensätze?\n",
        "3.   Wann wurde die erste (älteste) Bestellung ausgeliefert?\n",
        "4.   Wann wurde die letzte (neueste) Bestellung ausgeliefert?\n",
        "5.   Was ist die durchschnittliche Bewertung der Lieferanten auf Basis der Bestellungen (orders.csv.xz)?\n",
        "6.   Was ist die durchschnittliche Bewertung der Lieferanten auf Basis der Stammdaten (vendors.csv.xz)?\n",
        "\n",
        "Zwei zusätzliche Tipps:\n",
        "* Pandas wird die komprimierten Daten automatisch entpacken.\n",
        "* Achte darauf, dass Du die Datum/Zeit-Spalten auch als solche importierst."
      ]
    },
    {
      "cell_type": "code",
      "execution_count": null,
      "metadata": {
        "id": "gLqnyVp8BoR8"
      },
      "outputs": [],
      "source": [
        "# Platz für Deine Übungen :)"
      ]
    },
    {
      "attachments": {},
      "cell_type": "markdown",
      "metadata": {
        "id": "uTK7Lkt7CA8o"
      },
      "source": [
        "### Lösungen"
      ]
    },
    {
      "cell_type": "code",
      "execution_count": null,
      "metadata": {
        "id": "ffdnTMzRCEwa"
      },
      "outputs": [],
      "source": [
        "# 1. Lese die Daten jeweils in einen eigenen DataFrame ein.\n",
        "vendors = pd.read_csv('https://github.com/thomas-bierhance-exxcellent/data-wrangling-praktikum/raw/master/vendors.csv.xz')\n",
        "customers = pd.read_csv('https://github.com/thomas-bierhance-exxcellent/data-wrangling-praktikum/raw/master/customers.csv.xz')\n",
        "locations = pd.read_csv('https://github.com/thomas-bierhance-exxcellent/data-wrangling-praktikum/raw/master/locations.csv.xz')\n",
        "orders = pd.read_csv('https://github.com/thomas-bierhance-exxcellent/data-wrangling-praktikum/raw/master/orders.csv.xz',\n",
        "                     parse_dates=['order_accepted_time', 'delivered_time', 'delivery_date'])"
      ]
    },
    {
      "cell_type": "code",
      "execution_count": null,
      "metadata": {
        "colab": {
          "base_uri": "https://localhost:8080/",
          "height": 222
        },
        "id": "gbfgfRacCnmI",
        "outputId": "e92f7cc7-35a3-4b74-87fd-3943fb59349a"
      },
      "outputs": [],
      "source": [
        "# 2. Mache dich mit den Daten vertraut. Lasse Dir für jeden Datensatz die ersten Zeilen ausgeben.\n",
        "orders.head()"
      ]
    },
    {
      "cell_type": "code",
      "execution_count": null,
      "metadata": {
        "colab": {
          "base_uri": "https://localhost:8080/"
        },
        "id": "rt9gPc8ACtlU",
        "outputId": "58fe3dc5-70ad-4aec-d5a4-1a9cc438331c"
      },
      "outputs": [],
      "source": [
        "# 2. Mache dich mit den Daten vertraut. Welche Datentypen sind in den Spalten?\n",
        "orders.dtypes"
      ]
    },
    {
      "cell_type": "code",
      "execution_count": null,
      "metadata": {
        "colab": {
          "base_uri": "https://localhost:8080/"
        },
        "id": "xdrpjcRVCyQF",
        "outputId": "d314fbca-aa0c-4886-8353-bbe685e92dea"
      },
      "outputs": [],
      "source": [
        "# 2. Mache dich mit den Daten vertraut. Wie viele Zeilen haben die Datensätze?\n",
        "orders.shape[0]"
      ]
    },
    {
      "cell_type": "code",
      "execution_count": null,
      "metadata": {
        "colab": {
          "base_uri": "https://localhost:8080/"
        },
        "id": "t45KJM73C8SB",
        "outputId": "c3c53007-a684-4a47-eb85-11f70aa9159c"
      },
      "outputs": [],
      "source": [
        "# 3. Wann wurde die erste (älteste) Bestellung ausgeliefert?\n",
        "orders['delivered_time'].min()"
      ]
    },
    {
      "cell_type": "code",
      "execution_count": null,
      "metadata": {
        "colab": {
          "base_uri": "https://localhost:8080/"
        },
        "id": "uS8nLsVuDycx",
        "outputId": "53f6a506-1596-4e72-88b4-6487ce456429"
      },
      "outputs": [],
      "source": [
        "# 4. Wann wurde die letzte (neueste) Bestellung ausgeliefert?\n",
        "orders['delivered_time'].max()"
      ]
    },
    {
      "cell_type": "code",
      "execution_count": null,
      "metadata": {
        "colab": {
          "base_uri": "https://localhost:8080/"
        },
        "id": "VnJGK8jxD5sw",
        "outputId": "630fef74-125d-4635-c213-34d4efc759a5"
      },
      "outputs": [],
      "source": [
        "# 5. Was ist die durchschnittliche Bewertung der Lieferanten auf Basis der Bestellungen (orders.csv.xz)?\n",
        "orders['vendor_rating'].mean()"
      ]
    },
    {
      "cell_type": "code",
      "execution_count": null,
      "metadata": {
        "colab": {
          "base_uri": "https://localhost:8080/"
        },
        "id": "UyW5DzrCEMIY",
        "outputId": "054fff44-982d-4cee-bc1b-107a5d8097c0"
      },
      "outputs": [],
      "source": [
        "# 6. Was ist die durchschnittliche Bewertung der Lieferanten auf Basis der Stammdaten (vendors.csv.xz)?\n",
        "vendors['vendor_rating'].mean()"
      ]
    },
    {
      "attachments": {},
      "cell_type": "markdown",
      "metadata": {
        "id": "v-reU3CnW6xD"
      },
      "source": [
        "## Daten filtern\n",
        "\n"
      ]
    },
    {
      "attachments": {},
      "cell_type": "markdown",
      "metadata": {
        "id": "cpX0w2qXS8is"
      },
      "source": [
        "Als einfachen Beispieldatensatz verwenden wir im Folgenden das verbreitete **Iris flower data set**. Es enthält 150 Einträge von verschiedenen Blumen der Gattung \"Schwertlilie\" mit Angaben über die Größe (in cm) ihrer Blütenblätter (`petal_length`, `petal_width`), Kelchblätter (`sepal_length`, `sepal_width`) und die Pflanzenart (`species`) mit den Ausprägungen [Borsten-Schwertlilie](https://de.wikipedia.org/wiki/Borsten-Schwertlilie) (`setosa`), [verschiedenfarbige Schwertlilie](https://de.wikipedia.org/wiki/Verschiedenfarbige_Schwertlilie) (`versicolor`) und [virginische Schwertlilie](https://en.wikipedia.org/wiki/Iris_virginica) (`virginica`).\n",
        "\n",
        "![flower-parts-diagram-arrangement-base-cross-section.jpg](data:image/jpeg;base64,/9j/4AAQSkZJRgABAQEAYABgAAD/2wBDAAMCAgMCAgMDAwMEAwMEBQgFBQQEBQoHBwYIDAoMDAsKCwsNDhIQDQ4RDgsLEBYQERMUFRUVDA8XGBYUGBIUFRT/2wBDAQMEBAUEBQkFBQkUDQsNFBQUFBQUFBQUFBQUFBQUFBQUFBQUFBQUFBQUFBQUFBQUFBQUFBQUFBQUFBQUFBQUFBT/wAARCADXAfQDASIAAhEBAxEB/8QAHwAAAQUBAQEBAQEAAAAAAAAAAAECAwQFBgcICQoL/8QAtRAAAgEDAwIEAwUFBAQAAAF9AQIDAAQRBRIhMUEGE1FhByJxFDKBkaEII0KxwRVS0fAkM2JyggkKFhcYGRolJicoKSo0NTY3ODk6Q0RFRkdISUpTVFVWV1hZWmNkZWZnaGlqc3R1dnd4eXqDhIWGh4iJipKTlJWWl5iZmqKjpKWmp6ipqrKztLW2t7i5usLDxMXGx8jJytLT1NXW19jZ2uHi4+Tl5ufo6erx8vP09fb3+Pn6/8QAHwEAAwEBAQEBAQEBAQAAAAAAAAECAwQFBgcICQoL/8QAtREAAgECBAQDBAcFBAQAAQJ3AAECAxEEBSExBhJBUQdhcRMiMoEIFEKRobHBCSMzUvAVYnLRChYkNOEl8RcYGRomJygpKjU2Nzg5OkNERUZHSElKU1RVVldYWVpjZGVmZ2hpanN0dXZ3eHl6goOEhYaHiImKkpOUlZaXmJmaoqOkpaanqKmqsrO0tba3uLm6wsPExcbHyMnK0tPU1dbX2Nna4uPk5ebn6Onq8vP09fb3+Pn6/9oADAMBAAIRAxEAPwD7i5o5o5o5rzDm1DmjmjmjmgNQ5o5o5o5oDU+dv2qNFh8SeMvhdpNy0iW1/fzWsrQkBwryWykqSCM4PGQav/8ADGfgv/oKa9/4EQf/ABmj9ojP/C0Pg5/2GD/6Ptadrni7xPp/izxZrKeJr8afo3jLRPD0Ph2W1tPsckN2mmRvI8nkeeZMX87xn7QP9WnHljYfNjQp1q1RzV9vyR+p18+zPKMjyyGArumpRqN26v2sxv8Awxn4L/6Cmvf+BEH/AMZo/wCGM/Bf/QU17/wIg/8AjNVvBPxK8a658TLGeW21SHw5f+JNW0KT7dNpaaV5Fo95HH9jxJ9vkuP9Dj8zzPMjH+kP5ezy/Lr+Cb7WfA/7P+vvY69fX2tXfjPVdLtLy8ht/MjuJ/EEtpH9yOOOPzJJPM8zy5PLkkkk8uSOOO3ro+o0P5EeD/rpxF/0GT/D/I0f+GM/Bf8A0FNe/wDAiD/4zXBeNvgzovwj+KHwv/se6v7n+0NYj837dIj48ueDbt2ov985zntW7f6hr+ueArzTfHMdjqGueFPiR4btrS93R3kiGS70u4Mm9LeCPzNl/JHmO3j/AHfyfP8AvHfV/aD1KC8+J3wl+z3EcjQ6yyyeW2djia1zXLicNRp0+aMbO6/NH1HDXE+c5jmUcLi8TKdOUKt09nalNr8UmfQHnUedXMX3iiOL/lpWdJ4yj/56V6PMz8e5mdx9qSo/tUdeSeJPjJoXhfy/7U1qx0yST/VxX1xHH5lcxH+1L4ElvJLRPEtj5kf/AD0/1f8A38/1daQVSp8FM0hTqVPgpn0N50dS815Z4b+KGk+I7fz9O1K11OL/AJ6W1x5ldhY+I45f+WlZ8zW5nzNbnR80c1myazHFWLqXi2OL/lpS5xe0Ojkuo4qzbnXo4v8AlpXlPjL43aF4cklj1HWrW2ufL8z7N5n7z/v3XgPjr9oLWteuJP8AhHp5LbSY/wDlp5f7ySuqjhMRi/gO7C4WvjJ+4faEfiOOb/lpWjbapHLX51aJ+0j431TULaBL+OLyP+nf/j4/66f/AGvy6+k/hv8AHOw8URxwPJHbatH/AKyxkk/z+7rTFYGvg4c8x18DXw8PaTPovzql5rhrHxdHL/y0ro7bWUlrh5zg52a3NHNRfakqOS6jrQ1LPNHNUft6Ufb0oAvc0c1W+1R1J51AakvNHNHNHNAahzRzRzRzQGoc0c0c0c0BqHNHNHNHNAahzRzRzRzQGoc0c0c0c0BqHNHNRVHJfxxUAWeaOazf7UT/AJ6VH/bMf/PSjnMzW5o5rJ/tmP8A56Uf2zH/AM9KOcDW5o5rJ/tmP/npR/bMf/PSjnA1uaOayf7Zj/56Uf2zH/z0o5wNbmjmsn+2Y/8AnpR/bMf/AD0o5wNbmjmsn+2Y/wDnpR/bMf8Az0o5wNbmjmsn+2Y/+elSf2on/PSjnA0uaOaox38ctWfOoNNSXmijmigNQ5o5o5o5oDUOaOaOaOaA1DmjmjmjmgNTwD9pO6hsfiN8Irm5mjt7aHVWklmlYKiKJrUlmJ4AAGSTW/pNn8HdK8e6143/ALX8KXHinU7vz/7Wubi1kuLQfY47TyreTb5kcflx/wDkSSu38cfDHw18R/sX/CRab/aP2Pf5H7+WLZv27vuMuc7F6+lcv/wzH8Nf+ha/8n7r/wCOVw8leFScqdrO29+3ofoEcfkeMy3CYXHyqxnRU17kYNPmnKX2pp7PsXrXXvhVZeJr3xTaX/gy38QXcXkXerxXFrHeXEXyfJJJu8yT/VJ/36jol174VSXGuSyah4Nll16JINVkNxa/8TOKOPZHHcfP+8Hl/u/3lUf+GY/hr/0LX/k/df8Axyj/AIZj+Gv/AELX/k/df/HKu+K7R+9/5HL7Phb/AJ+4j/wCn/8ALB+k3nwd8M6LLpOizeBtJ0p7yPUPsNk9rb2/2iPy5I5PLjb/AFnmRJ+8/wCmUdfOv7UGteF7fW9L8Q+F5tOOp/vri+v9DliFxI0fl+U7Misu8KvysVY567sYr3u//Zt+G1umV8OYP/X9c/8Axyvnj9prwf4N+H3gO8n0rTvsd/dSraWn+kSvuZm3EYZiP9UktZ+xxGKqQou3Tq+/oeplOO4ay3HQr0JV5TUZpJwppe9CUdWp363Pmjxf8RPGHjnUPtWsXsmvWf8Ayzt9+x4+f+ef3HfH+5V/QPGV/rPl6ba+IdV0y48v93ZSXclv+7/6Zx0nhuwjurfy6u6l4dght9l1aQX1l/zzkj8yv1T6vTp0+SBy/U/Z0/cOd1LwlPaySSP5kskn+skkqlHpflyfcrvbPQ545I/7I1l4o85+xaj/AKZH/wB/P9Z/5ErR8QeDfKkk8iPzY/8ApnXTTkjRUzh7a1u9GuI7/Tp57G5/5Zy20nlyV6t4F/al8Q+CI7aDxD5muad/z8/8vMf/AMcrh9NtY5fMgnrA+L1h/YOj22z/AJaVzYrCUMRDkmc1fD08RD94fbMn7QWhS+D/APhIbW/+3adJH+78v/WSSf8APPy6+bPGXxu8WfEbUJI0u59I06OT93bWUnl/9/JK8s8AaX/Zel20jx/6/wDeSV3uiaN5V5JJ5debhcroYL95U9858uyqFOZk3Phf7LHHs/dV2nhvT/8AiR3P/LX935clHiC18qz8ytbw/F5Xh+5kr2JTXJdH0kMPaZ5j4Nj/AOKgk/5ZeXJXYeJPDvm3kkjx/wCsjrJ8L2Ef/CSXP/XSvRfEkX+kW1KpO89SI0/c1POv+Ej8b+F7zz7LxDqsXl/8s5LjzI/+/cn7uvcfgv8AtSz3+qW2heKI47a9uP3dvfR/6u4k/wCecn/POSvPr6wjuo4/3f7yuL8SaD5V55kP7ry/+WlcNfA0MZT0PLx2VQqK6P0ItvGSeX/rK4Lxt+0P4a8JXEkF1qXm3sf/AC7W0fmSf9c/+mf/AG0r488UftIa1fW9l4a0/wA+2uY4447++k/dySSf9M//AI5W14S+HMd/o8d+/wC98z/ln/zzr5zC5PP48WfLYXJ51PjPbf8AhsjQpf8AmE65/wB+4/8A45XT6T+0t4a1S38z7fJbf89I5LeTzK8Xsfh/YWskd3qEflR/8865jxt4o0m1t/sGlwRxSf8ALSSvS/sfC1P4Z7H9iUD6psf2h/Ccsnlv4htYv+uknlx16L4b8b2mvW8U9ldwXNtJ/q5LaTzI5K/NCOwu7/78f+skr1b4C3+teEvGGnWllfyfYr+4/wBIsf8AlnJ+7/1lcuKyP6vT9pTmeZXyr2dP2lOZ+hNtdebHVnmuX8N3/m29dHXzUD58l5o5o5o5rQ01DmjmjmjmgNQ5o5o5o5oDUOaOaOaOaA1DmjmjmopP9XQGpS1K++yx1594g8ZfZZP9ZVjxld6trviPTvCHhuRItV1KOS4uL6SPzI7Czj/1lx5f/LST95HHHH/8brftf2VfBEtv/wATSfxHrl7J/rLm51+8t/M/7Z28kcf/AJDrOcDSnhZ1Ic55Jc/Eb/pp/wCRKi/4WNHXsP8Awyh8Mv8AoE6r/wCFNqn/AMkUf8MofDL/AKBOq/8AhTap/wDJFc3s/wC+a/2dU/nPG/8AhY3+3T/+FjR17D/wyh8Mv+gTqv8A4U2qf/JFH/DKHwy/6BOq/wDhTap/8kUez/vj/s6p/OeP/wDCxveo/wDhY3+3Xsn/AAyh8Mv+gTqv/hTap/8AJFH/AAyh8Mv+gTqv/hTap/8AJFHs/wC+L+zqn/Pw8e/4WNHS/wDCxvevYP8AhlD4Zf8AQJ1X/wAKbVP/AJIo/wCGUPhl/wBAnVf/AAptU/8Akij2f98P7Oqf8/Dxv/hY3+3T/wDhY0dew/8ADKHwy/6BOq/+FNqn/wAkUf8ADKHwy/6BOq/+FNqn/wAkUez/AL4f2dU/5+Hj/wDwsb3qP/hY3+3Xsn/DKHwy/wCgTqv/AIU2qf8AyRR/wyh8Mv8AoE6r/wCFNqn/AMkUez/vh/Z1T+c8f/4WN71JH8Rv3n+sjr1z/hlD4Zf9AnVf/Cm1T/5IrL1z9kfwbdWv/EhutY8P6h/yzuv7TuNQj/7aR3Ekn/tP/rpS9g/+fgPL6i+2YXh/xv8AapI/3leg6Tf/AGqOOvmPTY9W8L+JL3QtXjji1bTbj7PceX/q5P3fmRyR/wDTOSOvdfBt/wCbb/6yinUn/DqHmfvKdT2dQ9C5oqKL7goruOrUl5o5o5o5oDUOaOaOaOaA1DmjmjmjmgNQ5o5o5o5oDUOaOaOaOaAMTW5fKt5K/Pf9srxRJqnxE07RUk/0ewtPtEn7z/lpJJ/8bjj/AO/lfoJ4gi/0eSvzd/a80b+y/jJJd+X+7v7C3uPM/wCmkfmR/wDtOOvSyuH+1nbl3+9HOeF5fKjj2V1ckv2qPy38vy/+WdedeG7/AMqT/WV3scskv7x3jlr72ofoVCp/y7qEVtoNxYSefB5n/XOt/RNZ/d+Q/wD1zkqlY3U8Unl+Z/2zqxq2l+b5d/Bs8z/lpWVSpTo0/aVDq9hf+GZ3ijRo7C4ju0j/ANGkrj/it/xOfD+k7/8An4jt5K9Xk0a7v/Dccc8H7z/rp+8ryjxlayRaH/q/+PO7jkkj/wC2lebl+cYDM3bCVOc5sVhamH/iQNLSbWP7PJ/0zrrLzwjcaPHb3c0/mxyf6yPy/wB3WJpNr5scn/XOvU/k1nQY5PM/1kfmV+U+IeYYvBVKFOnP93M+oyuhT9mcv4gsILW38iD/AI8pPLkt/L/5Z1taJ/yA72P/AJ6UvgfR7PxJq2labqckkdlBJJHceX/zzr0nxZpfgzQdUjj0vzIrKT93JHJJJWWU8bYHL8FDB4vnczKvR9pX/dnz74b/AOQ5c7P+eldh4kk/49o/+Wle36t4f+HGsaCi6F4b/s3xB2ksR+8eT/crxjxJpd3Y+ILa01C0ktrjzP3ltcx19jl3F+CzahUr0N4fYOKnRnf2dQZc2kn2yytYH/eH95PLJ/zzrO8VaTJZ3uD/AMtP+mddJb3Kf2hPvf53/d/9+/8A95VDxAU1HWrK1RP/ACHX4/lfFeYQzGFTFVnye9zH0lbCQdP3DxLSfBF3qnjzVtS+wyRWX2iOPzK+tvC9rotr4XjngnguY7eP955clef61c2PhPQN8z/ZreCP/lp/yzrkPB+tXVh4Z1LdJ5UV/J5kkf8Azz/eV99knF2LzvG8k4fu5ngYrL4YOH7st+P/ABtd6pqHkWsnlR/89K5jRPC/myefPP8AvKu22gz3/wA7xyRVLJLHFJ5Cf8s6/X/4f7umeRCnz/xDRj8vS7fy0/1dYt9r2paXqFtqVl+6kt5PMjrtPCXhe71STz3g/wBGj/5ayVyHxMljtbiSO1n/AHcdH8T92LEKn7O1M+z/AIOePLTxl4bstStfM8u4/wCWcn/LOSvYLaXzY6+Iv2K/FEksfiPSX/5YXEdxHJ5n+s8yPy//AGnX2ppsvnRx1+c16P1fEVKZ+Y14fV684GlzRzRzRzWRlqHNHNHNVtSsI9U0+5sJ5J4o7iOSOSS2uJLeT95/zzkj/eR/9dI6A1LPNHNeLa14ItPh/wDEL4YT6NqfiUnUNduLK6j1HxTqd/bTQf2PqEvlyRz3Ekf+sjjf/tnXtPNMA5o5o5o5pBqHNRSf6upeaik/1dMNTk/hnDH/AML08cv5f7yPw7ofl/8ATP8A0jVP/jcddbL8V4D4xudAsvD+tanbWN5b6dqWs2MEclnYXckcckcckfmfaP8AVz28nmRxyRx+aPMkj8uTy+X+Gf8AyXDx7/2Luh/+lGq1Z8UfBV/FHxS0/wAXNqOlRpazwTx3LaDGddtPIff9nt9TSSPy7STnzI5I5N6XFwnmbJI/LJ/xD2qP8OBZ8D/FbUda8QfFSHVtAvtN0/wjqxtLS4igjuZLq3Gn28/7uO3kkd5P3nmf6v8A1clvHjzPMROZ8O/tfeBvEXhPWdZgS8mOi3mmWt3Y6bLZ6vcR/b7j7PbyJ9guLiN/3nmfu45PtH7v/V/vI/M6fWvgwNdk+I+m3GsmPwp49tZE1Gyjtf8ATILiSzgsDJBceZs8v7PBF+7kgf8AefvPM/5Z1hyfBHxF4i1bWdV8VeLNLvtSv5/DvlnSdCks4449J1OS/EflveXHmSP5kkfmfwf7dR+7NPfNGz/aE0yXVPsV34Y8RaRc2upW+k6vLe20Hl6ReXfl/Y45JI5JI5JLj7Rb/wDHv9o8vzY/tHkVp6X8Z9O1nxXb6Oukara2FzqV3o+n69NHALPUL+1+0faLeOPzPPjeP7Jd/vJI44/9Hf8AefvI/Mz9e+FdpdX3iG0m8QxW9x4k8WaR4nghkh/ef6D/AGX/AKPH+8/eeZ/Zn+s/5Z+b/wBM/wB5keEf2c9L8I/FSbxTbR+HQDqWoarFcReGoBrsk128kkkdxqfmfPB/pEmyOOOOTYkcfmSIknmH7sPfN/4W/HbR/isujS2eka1oseu6T/bmkyaxbRwfbrdDB5/lx+ZJInlvPbx/PsD+aHgMkf7yvTK8z8B/Br/hBW+GeNZN6PBnhSTwtj7IY/tfmf2f/pH+s/d/8eH+r/ef6z/pnXplS7dDZBRRRWZQUUUUBqeYaN8etG1Tw3qHii90XXdF8IwaTJ4gtNevLRJLO/0+OPzPtEf2eSSSP93JHJ5dxHHJJ5n+r/dyeXXv/j9baLpepSal4M8Rafr2n3OmRHw5J9gkvJhfXhtLOSORLiS38uS4Ekfz3CeX5cn/AEz34en/ALMcEy+NLfVtWsxbeJ9JvNHvJPDmix6ReahHef6y81B45JI7u7j48uTy444/PuP3f7z93i6l+zrq/hn4f6na+F7fwbp/iPUNd0GdD4Z8LQaRp0cdpqkFybiS3Fx5k7pH5j/8fH3I/LjSOQySSbfuzn987fWf2htG8O+CdU8QavpGq6bc6VqUel6lpN9JZxyWlxJFHPGJLh7j7JGnkXEcnmSXHl/vI4/9fJ5dVbH41DxdN8KNa8LXtlc+FvF2q3ej30VxD5twkkFneSjy7iOXyx5c9hJH+78yOTzN8cn8bpH8FdUmtP7dj8U6dJ42/wCEh/4ST+0Y9Jf+y/tP9nf2Xs+yef5nl/ZP+nj/AF/z58v93Vvwn8FbvR9N8EJqHiCG+1HQvFGp+Kbi4trH7PHdyX/9oeZHHH5snlxxnVP+ekn+r/6aUfuw9+54/wDtDeXF+0B5aRxxf8SHT5JJP+en+kXn/wAbrsPAP/HvH/1zri/2jP8Ak4X/ALl3S/8A0s1Cu08A/wDHvH/1zrjn/HPAxX+9TPTovuCikt/9WKK7h6k3NHNHNHNAahzRzRzRzQGoc0c0c0c0BqHNeO6bpnifx546+IkafETXvD9noutW+nWllpNppnlxx/2XZ3H/AC8Wckn+suJP+Wlexc15BoHiy08D6h8btb1JJmsbHxLbvItuuAP+JJpfJ3jYn/XSSREj+/JJHH5j00PU9W021ksNPt4J7ufU5LeOOOS+ufL8y4/6aSeXHHH/AN+46s8149pf7TXhnxB4d0zVdIsNU1h73WpPD6afpP2e/kS/+xyXgTzILiSDmNB+8jk8uPzf3kkflyeXY1j41XT6l8NBoWgXt9ZeJNevNG1LzBB5mnSW9vefaI5P9I/1kc9vJ/q/Mj8u3uPL8zzI/MLCPS76LzY6+bP2mfgj/wALL8P/AOi/utasPMktJP8Anp/z0j/7aV6Rb/HAWvj7xVoesaXeDTtJ12z0ePVraDNvB9rtLN7cXEjyfPJJcXkkf+jxyeX+78zy4/3kj/8AhZ2ka94iTSk0vUIrO61C70aw1qWO3+x3l5B5n2m3jj8zz/3f2e4/eSRxx/6P/rP3kfmH7ylU9pTCnz06ntIH5lXOl3/hzWLnTdRtJ7HUbeTy5I5P9ZXX6Ldfu/8AWfvK+k/FHhzTf2jPClnqVn4Z1rSLSewi1HSNe1GG3g/1gjPl+WJPP/8AIflyeX5kcn+rkk+U9Sl/4QPXLnSdbnjsb20k8uSOST/WV95gcwp4un+8+M+zwONhiNzvLmLzY/MT/WVrab5mqaPcwf8ALTy/9XXn9n4rnvsx6Xo91clzj7RJ/o8f/kT95/5Dre03S/El/cf6TqUOkRyf6yPTbfzJP+/kn/xuljqH1zCVMOvtn0NCv7Opz0z0rSNag/svz5pI7aOSPzJJJJP9XXL/ABI0GO/0PVtkf7yS3/eeXXE+JPCMPhtvtsEP9rSRj7RJ/aP+l/8AbT959z/tnXZ6Tqqa9Yzv/rfPt/8AnpX8/ZTga3D+d07P7fLM+jrV4YyhOFQ5/wAJXX2qztp/+fiOOSuw8L6pHa3lzpLyf9PEdeffCmX7Vo9tBP8A6yOSSP8A8iV0et2Eml+JNB1bzP8AWWkkcn/TPy5K/T+NsDTxuXK38Q8/A4r2fIe8fs/+MtA8GzXM+s2sclvJd+W8v+s8v93+7q1+0ZJ4e+L15Y2GgTwW9z58fl3MUfl7I/8AlpXh2i393FHJ+8ki+0XH7yP/AKZ1Th8B+OrGPUfFdrO9zHpMkckf/POSOSvw3E8NV8vjTx9SfJz9zsrqHt/an1TZ+H/CvwH8G6fcjUvEOpapPB5n23T9Knv4/wB3/wA9PIjk8uvEfi98f9E8Zahp2qXMV7a3tnB5cn2jSby3/wCucf7yOpfCeqaldapqthqljdW32Dy/+W8klvJ5kf8AzzqPxlLH5flv+9r7Pg/hdVI1MdW3n5nClP2l/aHmF18VtBi1SSVNWs4CkkmBO+yt3wv498MrDc6jca/pkkuzzMfa465vSSP7fk0zfJJLb+XJ/wBs63vElpaazp1vpsfl/ab/AFOOyjk8v/pp5deDisppYejy1Kc4c0+Q9b61U9n7T2nwGDFqF58YvFEdhpbxjTvM/wCWkkfl/wDXSvQI/DkEWoR6TZSebbWn+suf+eklel/Ej4W+AvC+seJkj8G6JLHFJ5cUcmmx8f6PHH/zzryTRvhl4RbT5LhvDmnpK7/8u8Hl/wDouv1bhjLqGGwtPFU4fEfOTxFfEfGamreZLJ9gtf8AVx/8tK3/AAv8PrSwt5L/AFH915dUvB3wH8PXX797S6i/6Z21/cW//ouSl8X+ANNSY2un6t4iiKf6uIeIbt//AEZJJX3XtJ/AH7ycx/ijxl5sf2DS4PKj/wBXXlHi2wkit5JJ69O034LwaXZ/a73xZ4gsf+ef+kRyf+jI5K8j+JVxqs94LS08S6nqG9/Kjje0tJM/9M/kt460hUtrA5q9Sx6f+xXH5nijxXIn+rjjt/8A2p/8br7u0n/j3jr5X/Zm+CPizwHpdlPdeIbWKS7uPtF/YyaZ5n/bPzPMrtPBPhdtH+OrXEHh2a4vZL67ku9WvNDuLTULe3eOWSOSTV/M8i/g/wBXHHZ/6yOOS38z95ZyV8RipwxGKqVIH5zip/WK86kD3Gz8YaTqXh/UdZsria+srB7y3uPstpJJJ5lpJJHcRxx+X5kn7yOSP93/AKz/AJZ1tc18yXXw1s9P/Zn+MngGy8GC21FV1+8j0600V/s073FxcT6e9vJ5Yjnk8uOz8vy98kflxx/u3TZVT9rnRtH/ALP+JF94r8NXGuWb+B/L8N3X9jvqcVhfx/2h9okEkcUn2P8A1mn/ALyTZ5nlx/vP3X7vM5j6m5o5r5u8W/Ct9W8RfELXRo2qf21L420FLHUYGmint7B49IgvJLOSM+ZD5kf2iOSSDy/3ceJHPlgJT8VfDn7Novibw2fD17pvw7h8ax4ttK0b7ZFaaf8A2PbyeZZ6f5ckc8f9of6yP7PPH5kkknlxyR+ZGDPVPin/AMjt8Hv+xpuP/THqlek8182fD2zu9N8O/BK1uhqnlw+NtaitP7ZsvsdwLMWet/Yv9HMcflH7P5exPLjRI/L8uOPNfSfNZMQc0c0c0c0g1DmopP8AV1LzUUn+rpj1OY+Gf/JcPHv/AGLuh/8ApRqtev15B8M/+S4ePf8AsXdD/wDSjVa9fqa3xn0GH/hhRRRWGprqcN8WvBN34y8Lxz6LJHa+K9FuP7V0W5l/1cd5H/yzk/6ZyR+ZHJ/0zkrV+H/jyx+IPg/TvENrE9rHdx/v7K4/1lpcR/u5LeT/AKaRyeZH/wBs6176/jtY6+KPiz+1HpPwE+Kmv2ugf8TyPxCPNuNNtpPLjsNU/wBX5nmf9NI//Ikf/TSl7QwqThh/fqH2nca1Ba/x1S/4S2D+/X53f2z+0J8fbj9xJdeHtJuPL/48f+JfbR/9NPM/1kn/AGzrq/Df7Cmu6pJHd+JfFkn2mT/j4+zeZceZ/wBtJK5vb/yQPO+vVKn8Cgfd9vr0F1/q60Y5vNjr5a8N/sgwaD5f2L4heONM8v8A1cdjq8ccf/fvy6+i/D9hPo2j20F1qU+ryRx/vL6+8vzJP+unlxxx100z0qdSc/4kDeorz7Sfjd4M8R6h9k0jxZoer3H/ADzsdTt7iT/yHJXWW2vQXX/LSg19p7Q1a80+MXifU/8AiXeCPDF29t4s8TeZFHfRf8wyzj8v7Ref9s/M8uP/AKaSR/8ATSu28SeKNN8I+G9R13V7uOx0nTLeS4uLmT/lnHHXFfB3w5fzS6t478S2klr4n8S+XJ9hk/1mmafH/wAe9n/5Ekkk/wCmkklaAdr4X8L6b4J8N6doWiWiWOlaZbx29vbR/wDLOOOtWiio1HqfIv7Rn/Jwv/cu6X/6WahXaeAf+PeP/rnXF/tGf8nC/wDcu6X/AOlmoV2ngH/j3j/651jP+OfMYr/epnpEP+rFFLF9wUV3D1LXNVtS1S00bT7m/wBRu4LGytI5Li4ubmTy47eOP/WSSSVneNPtX/CG679g1G40m7+wXHkaja2H2+W0k8v93JHb/wDLx5f/ADz/AOWlfNrJH8RPgH8ZNC0S5vtfT+wZHszofi+78T2c9x9nuNlvBfvGlx5+Y08yz/1flyW//PxIJGGp9Wc0c185/FzxNomr6P4Dg0v4j2vh7wTPa3Zi8VXWu3D6dcT2/wBnSOCS8gvLeSSeQSXGP9L5+z3Bkjkk/eQcdN4q8UeIvhrrXjO78V65HrGk/CPRPFEEdndG2tn1R49Uk+0SRx/6z/UR/u/9RJj95G/lx7NPZhqfXvNHNfNfxG1DX/AbfEPSNH1vU76GGx8O6lPPqmqSIB9r1S4g1SeS4SPNnH9nt/3hgRI7fy5JI446zvDt1rHifSfBOnJ4wuI9C1PxvcWdvceF/E13qYew/sO4kkt/7UuI45Lj9/HJ+8j3+X/q45I5Lf5D2Y9T6l5rxfTfCP8Awm2qfF/TRctZTxeM9Mv7S4KeZGk9ppej3Fvvj/5aR+ZBH5kfmJ8n/LSP79T+APEHjlvAtqND0/SvEslrret6XJNruvXFrJHbWmqXFvb/ALyO3uJLg+XH9+T95+7/AOWnmVZ+B76nceIPizJrdlZadqp8Ux/aLbTrp7u3j/4k+l/6uR0TzOMf8s+/40w1E8PfBnVLbxDb67rniOx1LVP+Epk8Sz/2fpMlpbv/AMSf+y/s8aPcPs/56eZ5lWX+D11Z+H9Pt9L1yC21jSvEuqeJbG9vtPFxb+ZdyXnmRvAkkcj+XHfyR/6yP95HHJ/0zr1Dmjmshanm2rfCIap/wk3/ABNBH/bXinR/Ev8AqD+4+yf2f/o/+s/5af2f/rP+mn/TOsfwr+ztpfhX4lz+KbeHw+qfb7zVEuYfD0B1mS4u3d5I5NQ8z94n+kSlI44438uOOPzH/eeZ7DzRzQPU868O/DW38M/C3QvBs1095FpOk2+jSXEX+jyT+Xbxx+Z/0zr5i+Ov7PuhaDocmteHtFgsbmz/AHlxJH/rLiP/AKaSf89K+3ZIvNjrgvG2jJdW8kbx+bHJTp1KmHq+0gFOtPD1FOB8EaJF5sddHbReZHHIlUrnRv8AhHdc1HTX/wBZaXHl/vP+ef8Ayzq7bfurj/rpX6GqntF7Q/X6Xs6tP2lMzvGVh9q0uSPy/wB5Uem6X/whuoSaTPG/lx+XJH/008yPzK1dal82z+f/AK513Hxe8iLQ/A+rQRx/6fon7yT/AK5yf/bK+JzvA/XMfhIf17vvHPGfsKx4V8N7Xyry92f8e32uSOOvYPEmjfZfCfhy7f8A1cn2jy4/+2n+s/8ARdeLfC6X/iXyf89Li4kkr6D+Osseg2/g/Rf+ffSPtEn/AE08ySvXzCV8dhMP/in/AOAx/wDtjOjvCB5zH+68uT/ppX0n4JsYJPhbrMc3/LS3s/8AWV8ySapHFbx/9/K+qdJi/sb4b6jA/wDrI47OP/V/9M46/L/FKp/sFCn/AHz1zN+JFhHa+Zdp+6kuLiPzP/AeOvD/ABRL5skm+vffi9dR2vh/zP8AnncR/wDkS3/+1184eINU82T/AJ5V9N4f1HPIKD/x/wDpRl9s39S8G2mg+F/CmtJB/wATHVo7iSS5/wCWn7vy468+8CW3/CUfGyygHmf2bpt/HJHHH/y0uK9b+Jkv2D4d/DWPzP8AmGXEn/kSvJP2S/8Aic+NLad/+Xi7kk/8iV6EacK+S1q9eHP/ABZ/+TSPJnP2dH/wI9o+PWvSS6pr3z/vJL+SP/2nWLolr5VnbRv+98z95WT8TLr7f4g8v/lpJqcn/oyt7Q4vNvPL/wCedfTYOH1fB06ZvTh753Pm/wBjaPHHH/rJKyba1j0uT7ddR+bJ/rKLm/8AN1D95/q4465TxRr0ksfmJJ/0zrbl6m22pznjbxbq3iO8j03ToJ7m5uP3cccder/Bf9n2DwvcR6tq/l6n4j/56f8ALO3/AOudaPwc+F/9l/8AEyvYP+Jtcf6zzP8AlnH/AM86+gtJ0uO1jr5rG45137On8B+fZlmNTEVPZ0/gDSdLjtY/9XW1HRHF5VS815h8+HNcr4q+F/hzxpqCX+rWM0kpj+zXEdvfT26XdvnP2e7SOSOO7j/eSfu7jzI/3kn/AD0krquaOaZpqHNHNHNHNINTzb4p/wDI7fB7/sabj/0x6pXpPNebfFP/AJHb4Pf9jTcf+mPVK9J5pgHNHNHNHNINQ5qKT/V1LzUUn+rpj1OY+Gf/ACXDx7/2Luh/+lGq16/XkHwz/wCS4ePf+xd0P/0o1WvX6mt8Z9Bh/wCGFV726+yx+ZViuP8Aij4ik8I+B9e1pLSS+ksLSS5jto/+XiSOP93HWGppqfNH7SHxk8Q+I/Fkfwu+Hnny69cR/wCn31t/y6Ryf8s/+mf/AF0/5Z/u/wDnpUnw3/YZ8L6f4TubTWvMvtau4/8AkJRfu/skn+sjkt/+eckcn/LT/pnXc/AH4N/8K08N/wBpa9/pPjTVv9N1u+k/1n2iT955f/XOOrnir9pDSdN8Rx+FvDUH/CU+J5JPL+xW0nlx2/8A18XH/LOsaNGdSdzzaOFeIn7ev/8AsnT/AAg16TXvC9zaa3HBbeK9BuP7K1q2j/1f2iP/AJaR/wDTOSOSOSP/AK6V5/4//a58J+E9Uk03To7rxDcx/u5JNNjj+zRyf9dJP/afmVk/FXxb/wAK5vLbx9q8drdW95af2N4tsbaP93PbySf6PJ+8/wBZ5ckkkf8A1zuJKrfDf4q+HpNYttJTw9B4etruTy7f7N5flySf9s6c8dgcHUhTr/bPpcLhKk4Tqez+A53/AIbN13zPM/4QhPL/AOwnJ/8AI9df4b/bI8PX95HaavaX2h+Z/wAvNzH5lv8A9/I//jde/W3he0urf/V1w/i39njwfr0cn2rRbWKST955ltH9nk/8h16/t8JU+wZe0ofyHDfEj4BeAfjdp8mrJYWsWo3cfmR63pvl+ZJ/00/d/wCsr5w1a/8Aip+y1qkdvBqU+p+HPM8u3juf3llJH/zz/wCelv8A9c//AEZX0F4b+FOu/CHWPP8ACOrSavpMn/H34f1KTy/M/wCmlvJ/q45P+/de0eKPBGm+N/D9zYajaR3Nldx+XJbSV4+Kw1P+Jh6h4mOy6NT95h58kz56+Gfxwsf2qPGGkaVJFJYaB4bePVtW025f95eah5n+jx/9c4/L+0f9NJPs/wD00r7CtpY5Y/kr8uvi18KvEP7NPjy28Q+Hp5IrbzJJLS9/9t5P8/vK+5f2efjJYfFrwXZa1ax/ZpP9Xd20n/Lvcf8ALSOs6Nf2n7uocuCxU5z+r1/jPZKKKK6j2NT5F/aM/wCThf8AuXdL/wDSzUK7TwD/AMe8f/XOuL/aM/5OF/7l3S//AEs1Cu08A/8AHvH/ANc6xn/HPmMV/vUz0mL7gooi+4KK7h6lrmjmjmjmgNQ5o5o5o5phqHNHNHNHNAahzXiEPxK0D4T6h8Xtb8R6ha2Nl/wl9pb28clxHF51xJommeXGnmSRx5/66SbI/neTy445Hr2/mvBrrw7e+Jr/AOJ1rpkH2u4T4k+HLySHzEjxBBb6BcSSf9+45DTQz1ey8dWN14k0/wAPzJ9i1270n+1JNKuLu0+0WkfmRx/vI45PM/1kkkfmR+ZH+7k/ef6vzMrQvitoeoeAZPF2sP8A8IjpUF3PZ3f/AAkk8Fv9kuILyS0kjkkSSSP/AFkf/PSl1bw7e3Xxj8La4kB/sux0LV7Oe58yPEdxPcaXJHH/AOS9x/37rzvVfhrrq+AdOgl0XUL0WnjPWtYu9N0q/is9RntJ7zVPI+x3Akj8h/8ATIJJP9Ij/d+ZH/y08uRAesal8SPCOj6TbarqHifRLHS7u0/tCC9ub+OO3kg/dx/aI5PM/wBX/pFv+8/6aR/89K0LHxHpOqaxqOk2OrWN1q2meX9vsba4jkubTzP3kfmR/wDLPzK8Q+EPwp1XS9e8C6prPh64shoqeLpI11e6jvLywe/1e3ks/Mk8yTfI9v54d/Mk4MnmSfPWHY/ADX/+FR+EPCltpNloV1H8LtX8NXaq8cdvb6ndx6f/AKwx8v5kkdxJJJH5n/j9age7aL8SfCPibR5NW0XxPomraSbuPTxfWV/HcW32iTy447fzI/8Alp+8j/d/9NI6434hfF/wV4e8C2XiqbxHp1z4ev7630+z1K3v7d7eSSS48j93J5nl/u/3kkn/ADzjjk/551wdx8JfEPjTRdduNc0vXtXm1a/8MW89v41n0iSSezs9V+0XH+j2Ef2fy/LuJP8AWSSSSfvI/L/1fmdD4s8Aa3eWfxGlt7ESS3ni7SfENlbLcJ5t3BaR6Q8kadPLkkeznjj37Bv/AOeceXrOdhHhHxw0v+y/Hkd3s8qO/t/+/kkf/wBr8uuP+1f8tK9P/aQ8OeJL/R7LxLZXaab9njj8/RNWgjk+z+Z/00j/AOWn/bSSP93XztJ40n01MazpU1jz/wAfNn+/tv8AyH8//kOvrcrqc9CB+i5Ji6f1WEKh2Wpf6VbyR+Z/1zrsPiZdfav2Z/A+tf8ALS0kvNOk/wC/f/2uvG7bxlaX0fn2s6XMf/PSOTzK9b1uZPEf7EevbP8AWaTrcdx/38/d/wDtSufOP3dTCYj+/wD+lxlE2xVeFR89M8b+Hcv2X+xf3f8ArJI//RleyftYapJa/Fi5sPM/d2lhZ2//AJDr558N+I/sGoaDI/8AyzuLevVv2vb+T/hdGoyJ/wAvFpZyf+S9TX/5HeH/AME//SomMK/s5nO+DfM8SeLNB0n/AJ+7+3t//IlfcOt+XF4LvZE/dfaLv93Xyl+xr4c/t74gat4hnj/0bw7YSSR/9fEn7uP/ANqV9Y+KIvJ8J6dB/wAtPMr8G8UMy+sZpQwdP/l3/wC3Hu4Wp7Q4b9oqJ7XwHq08H/Lh/Z9x/wBs/wDV/wDtSOvkq58RyXUclfYPxPsPF/iia98N23hrTLmz1rSfsUFxcay9vI8n/LOTy/s8n/LSvz2bU9btby5sJtKto7i3k8uSM3X/AC0/79/89K+48NcTy5RUw9T7Ejz8ViPZzPp/4/az9l0/wPYf889B8z93/wBNLiSsD9ieL/i4FlbpH5sdv+8k/wCufmVj/tNap4mi8T+GYNT0DT7G5j0G3jjittVkuPMj8yT95/x7x/8ATSqX7JeqeKtL8Qa9f6ZodlfSWmm3Ekn2nVvs/l/u5P8Ap3kr6j4eHalP+eP/AKUzxalf9zA6G515NU1yOT/p7kkrtNJ1SOK8kf8A7aV82aRr3iCKSPZpVrJ/10v/AP7XXcWPjLxLayf8gWx/8Gf/ANrr7O1opHuYfFQPaNS1SOKzk2f6yT93UfgWw/4SjxZbf887eTzJK8fvvG/iW6jjj/sKx/6Z/wDEz/8Atdet/AW68b/6bd6d4X0q5jkk+z/6Trclv/7byf8APSvPx1T2dCZy5rioU8LP2Z9d+F9L8q3jrq44vKjryjSde+JsUcX/ABQHh/8A8KqT/wCQ60v+Eo+Knl/8k90D/wAKqT/5Dr4ynA/MKcD0rmjmvNf+Eo+KP/RPdA/8KqT/AOQ6P+Eo+KP/AET3QP8AwqpP/kOtDXU9K5qtJqlpFqFtYPdwRXtxHJcR23mfvJI4/L8yTy/+mfmR/wDfyOvFvjprF5Yab4UvNd1jTfDaNHcNd6bfeLLvQbKS4AjMf/E3gj8zfH+82W/7v7R5kkn/AC71CzWX/C2vhB4t1y91vSmu/C15pySeIrt7GR7+eTTzBb3FvH5dv9rk33H7jZ+8e2P/AD7x+WwPeOazvDviHSvFWkwaroeq2WtaXN5ggvNOnjuLd/8Aln+7kjrwTw/8SP8AirvAvhS48UBvFX/Cf6//AGhost//AKaLAx6xJZ+Zb+Z5nkeX9jkj/wCWf/Hv/wBM6yNc8QX+h/CTTZba6jsNEm+IfiKPWrq+1ufRbeO0GoaxJH5l/BFJJaD7RHb/ADx/6yTyo/4609mPU9a+Kn/I7fB7/sabj/0x6pXpPNfNf9qeJrjwf8Ery0bTPEutDxff/YPtGr3BsntP7P1j7OTeSW3mTiO32f6R5f8ApHliT955nmVtfFzxFfWtj4B/4WHf2XgDSbrxTJb311oviy8t7eS3/svUJI/Mu/Ls5I/9Ijj/AHf/AEzjqhHuNzqlpYXFlBdXcFtJdyfZ7SOSTy/tEnlySeXH/wA9P3cckn/bOSrPNeAeHtY1C+j+EOoNqeqPFceL9asIJPt1wY77Sfs+sSWcr4kH2sGCC0kjnk8x5Pv+Z+8cyM8K+Inh+PFxps3iC41nULm/u0nitNeuDcw248x447vRJIvLs7eNI0jjvI/3lxJ9mk5jvJKxsGp7i/iLSk0m81RtVsjpdj9o+13gnj+zweR5kdx5kn/LPy/Lk8z/AJ5+XUUniLSv7e/sD+1bL+3fsn9of2T58f2j7P5nl/aPL/1nl+Z+78yvnK1gsvDP7Mvxp0bTNf1Sx8SaHJ4i1OSN9euv7Q0//TLyeyk8wy+fGJI445PSfzJJP3nmSeZ61r//ACcN4I/7FbX/AP0s0emM3fhn/wAlw8e/9i7of/pRqtev15B8M/8AkuHj3/sXdD/9KNVr1+orfGfQYf8Ahle5uo4qyf7esNUs/tdrdwXNt5kkfmRyeZH5kcnlyV4V+2f8Wrv4c/CfUf7Lnktta1aT+zrSSP8A1kfmf6yT/v3HJ/5DrO8ba9/wpH4B21hpHl/abCwt9OtP+un+r8z/ANqVz0/3lT2cBU5+0r+zOT+Ovxk1bxl4s/4V74JnkiuZJPLv9StpP3kcn/POP/2pJXR6b8G4/hL8I9Wj0GD/AIm0lpJJJcxx/vJJPL/5Z1k/shfC+C10v/hIbr95c3fmRxySf88/M/ef+RK+rvsEEtv5dejjvcp/VKB7Eqn1epyH5s61oNhr1jcJ8lzJP/rJJJPMkk/66V3HwD0ePxR4u0qx2fu9F8u5kj/65/6v/P8A0zr6+8SfD7QrqOT7VYWsvmf6zzY/9ZXBeF/BGg+B9QvZPD2mx21zdyf6RJH+8kk/+11+TVMrhlH+1ZhX9yB9RLOliKU6dOn757rpMXlW8dYvjbWY9L0u5nf/AJZx1zum+LZ7W48ueOSL/rpHWT8aLq/1n4f6tHokEl9eyW/lxxxyeXJX12GzTCZhh3XwdTnPj40antVCofJ0njzxLax/2s/iXUo72T95+8uP3fmf9c/9XX0v4b+N0EXw70XxJqKf6FcRxyX8ltJ5n2TzI/8AWf8AbOT93XxpYzJ4n8u7vbiPy5P9XH5let/AWL7V4k1rw8kH2nQbuw8y4j/5ZxyeZ5f/AJEjk/8AIdfH8P5hVp4v6viPf5z7zOsDSqYdV6f2D6X8d+EtF+JfhO5sbry7nTr+3/1kf/kOSOvkn9m+HVvgP+0Zq3w91SR/sWr2/wBotJP+WdxJH/q5I/8Atn5n/fuvUvg54yn+HPxE1H4XaxcSS2XmfaNBuZP+ff8A1n2f/tn/APHK7D44/CqfxRceFPFmi2kkviPwzqdvex/Zv9ZcW/mR/aI/+/f/AKLr9KxWF9nO5+X43C3qU8RT+OB79Yy+bb1YqlpsXlW9Xaep1anyL+0Z/wAnC/8Acu6X/wClmoV2ngH/AI94/wDrnXF/tGf8nC/9y7pf/pZqFdp4B/494/8ArnWM/wCOfMYr/epnpMX3BRRF9wUV3D1LXNHNHNHNAahzRzRzRzQGoc0c0c0c0BqHNeO6bqfifwH46+IkifDvXvEFnrWtW+o2l7pN3pnlyR/2XZ2//LxeRyf6y3k/5Z17FzRzTDUrabdSX+n2889pPpklxHHJJY3Pl+Zb/wDTOTy5JI/+/clWeaOaOaQahzRzRzRzQGpRvbryq4fSfiNpPiS41GCyu/NuLC4kt7iP/lpHJXT63+6jr4i8bXV/8Pvixq13ZSTxXP2j7RHJJH/rI5P3kkf/AE0j8z/0XXkYrFfV/wB4ePjsV9T5Jn0n8QLCDxHo97aP/q7i3kj8yOvg3xJdT2F5cWk/7q5j/dyR/wDPOSvqnwv8X7Dxbb+R5kdtqMf+stpJK+ffj9o0dr4o/tKCT93dx/8AkSOvqcgx0Kk/Z/zn1WQ47/l3D7Z45fabY30/nPB5V5/yzuI/3cn/AH8r3D4F2Os6r8E/jJo39q/bdO/sz7T9huIP9I8yOSOTzPM/65xyfu/Lrw65/wBZJX0X+xhLBrPizWvD08nlf2taSW/mf9dI5I//AGpXo8SS9jl8638nJL/wGUT6Wv8AznytJLJYf9u8le+/tMxyapqHhjxCn+ru9Mjt5P8Ann5kdeH+JNLktbiSB4/3scklvJ/10r6G8C6NH8afhP4c0nzP9Jt7iO3kk/5aR+X/AKyuXO8RDAVcLmM/gh7v/gRxV5+znTme8/su+Df+ET+Bemo8H/Ey8RT/ANoz/wDXP/ln/wCQ69O8dRfZfsUH/POSui8H6PB/ayWkH7q2sI444446z/iRa+brFt/0zr+O83x08wx9TFz+3M+ywVT3IUy54stZLW30K/T/AFkCR/vK+DP2ovhg+g/tUWVvp0f/ABLvGFxb6hB/20k8u4j/AO/nmV+j3iTRkv8AwQZP9bJHHXiXxC8I6b4s03wh4puv+Qj4Tv5I4/3f347iP/2nJX1PB2b1MlxtRv8A5eQ//ZPMx0/aUef+Q+U/2vb/AM342RWCf8uGkWdv/wCQ/M/9qVv/ALLFrHYfC/4pa7/zz0i4jj/79/8A2yvDvi14tj8W/FDxXrUEnmx3d/JHb/8AXP8A1cde/eEv+KN/Y78Rz/6qXVruOyj/AOmn7yv6KxVOpQyXCYL/AJ+eyieTOfuUzwWx/wCWlEmvPF/2zqvHdf6P5f8A38krNki82T/pnX6OlZWO3nOn03VPNr7Z/ZzsJLDwHovn+X5lxH9o/wC/knmR/wDoyvhnwvpcms6xZaZB+6kuJPL8z/nn/wA9JK+1Y/iXoXw+0eP7bOltHHH/AKPbR/6yT/tnXxmf4iFPkpnz2eYtKEKdQ+k7GX93WlzXiXwK+JepfEvT9R1K6sI9M06O8+z2Ef7zzJI/L/eeZXtFt/qxXzVCp7SB8vRn7SHPAl5o5o5o5rpOnUOaOaOaOaA1OJi+GkH/AAllvrd1r2talb2N3JqFjo19NHJb2E8kbxySRyeX54/dz3EflvI6R+afLjj8uPy+25o5o5phqebfFP8A5Hb4Pf8AY03H/pj1Su41bw9Zaxf6NdXkJkuNKu/tljJ5knyXH2eS38z/AL93En/fyuH+Kf8AyO3we/7Gm4/9MeqV6TzQAc0c0c0c0g1DmopP9XUvNRSf6umPU5j4Z/8AJcPHv/Yu6H/6UarXrdz/AKuvJPhn/wAlw8e/9i7of/pRqteral/x71Nb4z6DD/wz4E/bUuo/GXxo8BeE/M/66f8AbxcRx/8AtOSu0/aisLi/8P8AhS0gj82S41fy44/+eknlyRx/+jK86+P3mXX7YnhT/pn/AGX/AOlklfWXiT4cx+N5PB87x/u9J1ePUZP+2ccnl/8AkTy65sFP2eK5zgyuf+1V5nn3izxlP8G/Cek6LpEaS6jJH5dv9p/1flx/6yST/wAh/wDfyrvwl/aGv9e1T+yfEUEFreyf8e9zbf6u4/6Z+X/yzkrh/wBrO1eK40CTT/8AkMxySeXH/wAs5Lf/AJaf+068CmtfE91JEkf7qSSSPy47b/j5kk/6Z/8ATSvgswzPFUc1/ie4fp+Dy+hjMD7WpD3z7+1vWZNZvI7SCT/WVJHax+FJPPmk8y2k/dv/ANM65TQLCTzLaDz5PM/1fmSSfvP3dR/Eqxute8AySaT4g83z/wB3BcW3lyR1+S8X4qpjc1nTdT93DkPIo0/ZwOrvrr/hJriOCyj/ANX/AMvMlV44pNLvPIm/1X/kOsj4f6frngvQ7e3vY31HyE8t7j/VyP8A9NJK0pNUk1i/tn2eXF/zzrl4axWKw2YwpYR/HMVaEOT3zp5PBum6zZyRzwJLHJH+8jkj/dyVL4f+H2i+F7eSPS9NtbGOT95JHbW8cfmVk+IPiDpvg3S/PvbuO2jjj/5aSV5jpv7Utpf+JLewm026trK7uI7eO+kk/wCWkn/TOv6OrYnB4epThOf7w8+jhcZiKf7s8o/bUik8Oa5oPiHT/wDRtWt/Mkjuf+uckckf/oyvqWTxvaeF/Ad74l1HzPsVhaSXtx5f7yTy44/Mr50/a08OXfxB1jwX4esv+PnVpLi3/wCucf8Ao/mSf9s469X+OFr9l+BfjSD/AJ6aJeR/+S8lfT4qp/stD/t45MXU9lQgex6JrNprVnbXdlPHc21xH5kEkcnmRyR1rV8ef8E//iXP4j+Gf9hXU8ktzoNx9nj8yTzP9Hk/eR/+1I/+2dfYcf8Aq68ynU9ocNCt9YhCofIv7RX/ACcJ/wBy7pf/AKWahXaeAf8Aj3j/AOudcX+0V/ycJ/3Lul/+lmoV2ngH/j3j/wCudZT/AI589iv97mekxfcFFEX3BRXcPUtc0c0c0c0BqHNHNHNHNAahzRzRzRzQGoc0c0c0c0BqHNHNHNHNAahzRzRzRzQGpk6ta+bbyV8rftKeEpJY7bWoI/3lv/o8kn/TOT/V/wCf+mlfW1zF5sdea/EjwlBr2j3NpPH+7nj8uSvMxdD2lPkPMx1D6xQ5D85fEH+s89JJIpI5PMjkjk/1f/POsq5+I2tapJZaTq939uto5P3ckkf7z/v5XaeP/CV34c1i9tL2P/SbeTy5P+WfmR/89K8s1ex/5aV5OW154ar7Q+by7FVMFU5zWvrXypPMSu4+AviOTwb8VNFv0k/dySfvP3n/AG0/9p1wfh/WUv4/sk//AB82/wDq/wDppWr+8sJI50/1lvJ5kdfr9eEM3wFSFP7Z+y06kMZQ9pTNb9pnw5H4X+LniuBI/wDQru7/ALRt/wDrncfvP/aldp+wPf3c3xA1qN5P+JbaWn2iSP8A6aVi/tOQ/wBv+C/DnjK0/e25g+xXcn/TP/lnJ/6MrS/YV1RLX/hNLj/VXMkccf8A7U/9qV8DmWJ+scLVFU+Ne5/28c3t+eHPUPv74T6omqzyz+X/AKx/MqL4jQ/8VFFv/v1xH7PHiOCWTTrf/pn5nmeZ5n/LSus+IesRyeJP3cn7z/Wf6yv5brYV05+zPawuYf8ALw9W0mL7d4bjT/npHXhWtxSRWfifRf8AlpcWkkcf/XT/AFkdepaR4sn0fwTJfw6NqOuSQf8ALlpvl/aH/wC/kkcdfOfiD4zXt14guLuDwB4oj8uT/VRR2n/tO4r08Dg6jq06sPzRE8ZTUKkKn2z86PDmp/2xqm9P3n7zy4/+mklfWv7Q8Ufg34L/AAx8HwfupJJJNVuI/wDyHHXzF8NNDutY+Nw06x0W8uo7TU5JJLC18jzfLjk/1f8ArP8ArnXsP7RXxe/4S74q3tv/AMI/rENtotvHpUdldfZ/Mj8v/WeZ5cnl/wCs8yv6txE/rmZ4SnD4Kfv/APtsTzKc/aTPNY7WS6k+fzPLj/56f8tKu+T+7rKk8WTzR/udD1GT/pp+7/8AjlV18RXWtf6JZaXqA/56XEez93/1z/eV9Ti8dQwcOeZrXx1DB0/aTN3w3Fd3+sSXFldz2Ntafu5JLaTy5JJP+efmV3Hh/wAJXes6pbabZR/vLiTy4/8A45XJ6TrbaXZx2lroWoRRx/6v7nyf+P19B/Av+0tLP9rP4B8TX/nx/wCh/Zo7P93H/wBtLiOvxrFVq+aYv2kz8fxVevnGO9pPY+oPhn4Xt/C/h+y02yj/ANGt4/L/AOulelR/6uvJNJ+JerWscf8Axa7xp/5T/wD5MrWj+LWrf9Eu8af9+9P/APkyvo6dP2aPradP2Z6VzRzXmv8Awt/VvL/5JX44/wC/en//ACZW14X8eX/iPVPsl14I8R+Ho/Lkk+3at9j8v/yHcSSVqa6nYc0c186+D/Ffj/xN4f8ADgsPFHma7498A6h4gtTqFvbpb6Nf7NP+zpb+XB5nkeZqH/Lf7Q/7uPn/AFnmXr74ueIPEXhnxN4k0Jr3RNJuP7D0LSbbUbOOO5t9UuLjy7j/AJ6eX5f2y3t5JP3n2e4s7j/R5PL8uR+zDU985o5r5r0fxl8SbqXS/CGoa/DpOsxeN5PD13q0a29/JJaf8I/JqGfM+z28fmeZJ+7cW8ccflx+ZHcfvPM2vGvivxX4A0n4u2UPie+1afw34Bj1mw1HULa0NxFeSf2x+8fZbxxn/UW/8H/LP/rpR7MNTsfin/yO3we/7Gm4/wDTHqlek815t8U/+R2+D3/Y03H/AKY9Ur0nmgA5o5o5o5pBqHNRSf6upeaik/1dMepzHwz/AOS4ePf+xd0P/wBKNVr1e+/495K8o+Gf/JcPHv8A2Luh/wDpRqtevyUq3xn0GH/hn57/ALXtrP4S+NnhjxQn/PvH5f8A10t7jzP/AGpHX274fuv+JXHXhX7anw0k8UfDe41a1g83UdF/02P/AKaR/wDLxH/37/ef9s66z9m/x5H8QfhPoOpef9puZLfy7iST/npH+7kryaf7uvM8zD0/q+Or/wB84/4o+DZ/i1b2XiHQfIlvbSS4spLaT/lpJHJ5ckfmf9M5I5K6L4Q/BGfw7HLd6x5cupXH7v8Ad/vI4I/+ecdZX/CR/wDCoPjRc6TepJF4c8Uyf2jaXP8Ayzt7z/l4j/7afu5P+2le633i3SfDnhvUda1S7jsdOsLeS4uLmT/lnHHSqZPhYYn699s+vnjq6wvsF8B4x8bo9ShvtJ8IeG53t9e13zDJcW/+ssLOP/j4uP8Arp+8jjj/AOmkkdbtnGmj2Ol6VbWkFtpempGkFlH/AARx1tfCXw5d3UereO/EtrJbeI/E0kcn2GT/AFmmafH/AMe9n/7Uk/6aSSUfETXtF8OaXc397IkUdvH5kklfI8QcK4XNI8/tPZzOXC1qhqSeJrD7PGfM/wC2Uf8ArKx9JsJJftN35flf8868++FPxf8ADfxQ1C5tNOnuvMt/3kltcx+XXvtvYQfY/LSvG4X4WWX1/rdepzzOrFVre4fnx44HiC7+IviO+u48XH2vy/s0j/6uOP8A1fl+Z/0zrovhNoOpeNvGNlG9p5dlYXEdxcSyf+Q4/wDv5HXq/wAdPhLq114ki1rRLCS+8yPy544/Ljk/66f9NKrfC7S/+FN+H/EfjDxf/wASyPy45JLbzPMkjjj/ANX/ANtJJJP/AEXXVRymvVzj9/T9w+snmFKnlv7ifvnq3hvwb/anxAudduo5PL0y3/s6w8yP/lpJ+8uLiP8A8hx/9s5K5D9sLWZNB+CfieSD/WSW8dv/AN/JI4//AGpXvMcsf2fzK+Iv+CgHxGjtdH07w9BJ+8uJPtFx/wBc4/8A7Z/6Lr9HxU/3dj8tzKtyYWpNnKf8E3/Ml8UeOPL/ANX5dn/7cV+itt/q6+Rf2A/hpJ4X+FcerXSeVe61cfbP9X+88v8A5Z//ABz/ALaV9fR/6ujD/AZ5dD2eFpwPkX9oz/k4X/uXdL/9LNQrtPAP/HvH/wBc64v9ov8A5OE/7l3S/wD0s1Cu08A/8e8f/XOlP+OeXiv96mekxfcFFEX3BRXcPUtc0c0c0c0BqHNHNHNHNAahzRzRzRzQGoc0c0c0c0Bqct44+J3hr4cfYv8AhItS/s77Zv8AI/cSy79m3d9xWxjevX1rl/8Ahpz4a/8AQy/+SF1/8brkf2k7WG++I3witrmGO4tptVaOWGVQyOpmtQVYHggg4INerf8ACq/Bf/Qn6B/4LIP/AImuHnrzqTjC1lbe/a/c/QI4HI8HluExWPjVlOspv3JQSXLOUftQb2Xc5f8A4ac+Gv8A0Mv/AJIXX/xuj/hpz4a/9DL/AOSF1/8AG66j/hVfgv8A6E/QP/BZB/8AE0f8Kr8F/wDQn6B/4LIP/iau2K7x+5/5nL7Thb/n1iP/AAOn/wDKzl/+GnPhr/0Mv/khdf8AxusvVP2iPhtephfEmT/143P/AMbrvP8AhVfgv/oT9A/8FkH/AMTWHJ4Z+G8fjCLwnJ4Z0iPV5bGTVY4f7CTy3gR0jlxP5Pl/u3kT935nmfvY/WlbE94/c/8AMPacK/8APrEf+B0//lZ88/Eyy8N/GdZR4W1EXOv2cZlEfkSRpNCCAU+dR3YfnXy7rmg/vJEeOS2kj/dyRyf6yP8A6Z19eSan4V+G/wC0b4zOo3Gm+HtHj06OOGLakaGVltm8uOJR88hO4+WnJIbHSuU+JHwu1n4x3v8AaXh/w9P4Wj/6Devp9nku4/8Arz/1n/fzy5P+mcleHLCyqN1Fum19x8Zxfw9h8FjKUsucvZzpwmuZptc8b2uklp6Hxtq2jz2v3JJIpP8AlnJ5lb3gmLWvG8lzpMEEcuo29v5kf7zy/tEfmf8Afv8A5aV2fiT4K6p4NupZfEFpNeTp11J/3kaf9c/L/dx/+jKy9Ei/4Q3xZp2tQfvY7eT95HH/AMtI/wDVyf8AkOvTwWcVMvn+7PmMFm9TL5+zNX4Ma9BFJq3wu8a2kkdtfyf6PHc/u/8AP/PSOmeCfBGu/A3x/q2h3SSS6NfwfaNJ1KP/AFcnl/8ALP8A6ZyfvK991vwl4e+I3h+2kkjg1eyk/eWlzHJ+8j/65yf6yP8A+115J4w+PH9j6fqvhqQ/8JAIE/0DUo5I/wDWeX+78z/pp/00/wCmdcuYTqYjnnh/gqfHD/2+J9HXxcKlM9W+EvjyPRtcsp3n/wBG/wBX5kn7v/ppXe/FbxbHFrllPaySeV5f/LOvjTwv8ZLTy449QsJLaTy/3lzbfvI/M/56eXXoNt4802aPzH12xljjj/d+ZcfvK+AxWUzhX5zip472cPZn2f4J+INhYeB5PPu4/tPl182eJPiN/Zf9tas88cVvH5kkkkkn7vy68xvvjHoQjk8m+uvLk/5do7es/wAG2P8AwuPxBc/bX+zeHdN/0j+zfM/4+5P+nj/pn/8Aa6WEyqFJ+0xHwI0qY76xyQOv/Zvhj+Enwv8AFnxX8QweXqUkcl5b21z/AKzzJP8Ajyj8v/tp5lfNfh/VJ7qS5v7rzNSvbiTzP3kn+skk/wCelfX/AMVbrTfF3w/+yRyRy6LpsdxcW/mf6u7vPL8v7R/38/dx184R6XHa2/2eCP8A7aV+gYHNJ4KnOv8A8vq3/kkPshis7+p0/Z0PjOcuZb/WZPLn/dW3/POP/V10+geXa/u0jqOPT5Jf4K9J+F3wW1bxvceZBH9msv8AlpfSR/u/+2f/AD0rlr16mMn+8Pka9erjZmt8Jfh9P8QPFHlv/wAeVv8AvLuT/wBp191eEtBjsLeONI/Kj8v93HXOfDf4c2HhLS7axsoPKto/+/kn/TSSvTrG18qOvSwOF9mfQYHC/V4FmOLyql5o5o5r1z2NQ5o5o5o5oDUxdA8E+HvC+oarfaL4e0rSL3VpPtF/c2NpHbyXcn7z95JJH/rP9ZJ/rP8AnpVl/DulPpN5pbaVZDS777R9rsxBH9nn8/zJLjzI/wDlp5nmSeZ/z08ytHmjmmGpzvh34b+EfClnbWmheGNE0S2t7uTULePTrCO3jjuPL8v7RH5cf+s8v935n/POuK+NXwLtPjUyWuqSaLPpb2clnLHqmhx31xZpJ/rJbC43x/ZJ/wDppJ58f7u3+T93J5nq/NHNAanm3xT/AOR2+D3/AGNNx/6Y9Ur0nmvNvin/AMjt8Hv+xpuP/THqlek80AHNHNHNHNINQ5qKT/V1LzUUn+rpj1OY+Gf/ACXDx7/2Luh/+lGq16/XkHwz/wCS4ePf+xd0P/0o1WvX6mt8Z9Bh/wCGZ2rWEd1b18x/DPw5J+zn8WNR8LvH5Xgfxbd/bdEuf+WdpqH/AC0s5P8Arp/yz/65+X+8kr6tqvJYRy/8s65wnT9p+8PKPjZ8L4/iX4PlsPM+zXscn2i0uf8AnnJXzJ4J+J974o8fad8MvG1wbXT/AA7eR3GpRSPxeXEflyWdn/00j/5af9s44/8AlpX1x8ZvHh+HPgm5vrKw/tfXp/8AQ9I0n/n/ALyT/Vx/+1JP+eccckleKab8B/BHxG+F+kyQal/bl7dxyXv/AAlFt+7ubi4uP3klx/38/wCWf/LP/V/8s67qNanyezqHZTr0/wCBUPoa+17zdP8AMR6+Ede8R6z4okvb/Xruf7ZJ5nmWMn+rtJP+efl16dpNh8WPgr5dg+m/8J74Yj/5aWP7u9t4/wDrn/7T/eV2mk+A/B/xkvPteo+E9VsdR/1k/wDaWmXln5n/AF0k/wBXJXy2e5LXx8eXD1PcPcyvFU8vnUqVKfOfKXwr1Cex0+O/sZ/st7Bcfu7mOvu74J+N5/GXg+yv7qP7NJ+8jkjj/wBX+7k8uuH+Inw5+HOjXltP4lv9N0i4kj8u3+06n9j8yP8A7+fvKyZPjn4E+Gmhx2GkX8FzHBH+7j0395H/AN/K5cnyXH4OvP8AkmbY7FU8woQ9nT98958QapaWFvJJPJHFHHXx54k8UT/tGfGjTvCdl+98F6Tcfbb/AMv/AJePL/56f9tP3dcP8TPjd4w+LVxbWmnabJbeHLi4+z3GpfvPsVpJJJ5cf2i4/wCefmV7r4S8OeF/2Wvh/Jf63qUf2m7k8y4uZP8AWX9x/wA844//AGnX3ns6eAp88/jPDqcmHp++er/Ej4jab8OfB97q2oz+VbW8f7zy/wDWSf8ATOvz78G+Dda/a5+NFzf6jvi0WOfzL+T/AJ5x/wDLO3jr1vW/h98Rv2tPEltd6vaXXgfwPaSf6PbXsfl3tx/008v/AJ6f9NJP+2fmV9dfCr4Q6F8L/D9vpOi2EdjZR/8APP8A5aSf89JK+b5J1Kh8tOFTH1Pf/h/+lnT+F9Gj0XT44II44o44/Ljjj/5Z1vUR/uqK7j21poj5F/aM/wCThf8AuXdL/wDSzUK7TwD/AMe8f/XOuL/aM/5OF/7l3S//AEs1Cu08A/8AHvH/ANc6xn/HPmcV/vUz0mL7gooi+4KK7h6lrmjmjmjmgNQ5o5o5o5oDUOaOaOaOaA1DmjmjmjmgNTwX9ojP/C0Pg5/2GD/6Pta9g8aWL6l4N16xhfVEknsLiOOTRbiO3vP3kf8Ay7ySfu45P+eckn/LSvEP2qNah8N+Mvhdq1ykj21hfzXUqwgFyqSWzEKCQM4HGSKv/wDDZngv/oF69/4Dwf8Ax6vNjXp0q1RTlbb8kfqdfIczzfI8sngKDqKMaidun72Zxtn4T1X/AIVX4ysfDPhyx0yykudIleTTPB1/otldwJdxyahHJodxL5k/+iR/vJI/+PuOTyOfLrPuvDGjaL4b8Ep4r0P+2fCl54+luYtBj8E3FnZxw/2BeR+XbaP/AKRcRp58Ukn7yNP3nmSeX5f7x/Qv+GzPBf8A0C9e/wDAeD/49VW5/a5+H9/cWc91oGr3M1lJ59q81pA5t5dkke+PM3yHy5HTjtK9df1+h/Ojwv8AUviL/oDn+H+Zy3iDwCuseCfCFj4p0nXLXwbHea9c2yWHh3+17izjfUPM0u3/ALPkt7hI0+ySSf6y38y38qO38y38ySOTu/hZp3iGa++CV/r1rqcl7D8PbuDV7jUoXEqXkn9j/u7iR+jyeXJxJ+8/dyelV/8AhszwX/0C9e/8B4P/AI9R/wANmeC/+gXr3/gPB/8AHqz+u0P50L/UviL/AKA5/h/mZPw68P22k/tWeLrXzbm/NtpazR3F9M1xP5jC1JIdv99lAHyhTtHygV79faXHLXzz8FfGdl8Qv2lvFev6dFPDZ3mjjZHdKqyDYbVDkKSOqnv0r6Y5qcJJShJrZyf5m/GFGrhsXhqFaNpRoUU12agk18mcVfeEo5P+WdcP4g+CPhrVPtP2rQrGWS4/1kn2eOOT/v5XtHk1HJax1pUw9OofnNTD06h+f/x+/Zkk0HS73VvBX2qL/n70mOSST7RH/wBM6+X9Nijkt49/+s8uOv108SaN5tvJXwB+0h8Jf+ED8Uf2tp8HlaVqcknmf887e4/5aR/9tP8AWf8AfyvNrw9meRiqHs6fPTPH49Gjl/5dK6zzvD39hxwf2NHFJ5f7z93/AKyT/np5lUtNi8r76VMmo6dqV35Fs/2iSP8A1kkaeZH/AN/P9XXiTm6h8/DFVKfwGP8A2XBF/B/5Do/d2sfmJJ5X/PTy/wDWVdk/e/co8P8AhO78W+JLLRYP+Pi7uPL/AOuf/TSuinOnsa06kKjO58G3Xij402eneHtB03+zNFsI447u+l/1ckkf/PT/AON17RpP7JdpLZxx3urX0tz/AM9LaOOOvcfhn8OdN8L6HZabp9oltZQR+XHHHXptto0cVevTwtOofSU8DTqfxD598L/steF9Gkjkewn1OT/Wf6dJ5n/kP/V17RpPhGCxjjjSP/V/6uunjsI4qs+TXdToU6Z3Qw9On/DK1ta+VHV7mjmjmuk6tQ5o5o5o5oDUOaOaOaOaA1DmjmjmjmgNQ5qtqWl2ms6fc2Go2kF9ZXcclvcW1zH5kdxHJ/rI5I6s80c0BqcR4d+Cvw88K6xb6roXgPw1omqweYYL3TtFt7e4T/ln+7kjjrt+aOaOaYahzRzRzRzSDUOaik/1dS81FJ/q6Y9TmPhn/wAlw8e/9i7of/pRqtev15B8M/8AkuHj3/sXdD/9KNVr1+prfGfQYf8AhhRRXmPxk1S/124074daDdyW2reIkkkv762/1mmaXH/x8XH/AEzkk/494/8AppJ5n/LOSsNTTUyPCFuPiv44vvH7DzPDmleZpfhaP/lncf8AP5qP/bST93H/ANM45JP+Xivmn4rf8Jh+yX40vfEPh6D7d8PtWu/tFxpv/LO0uJP9Z/1z/wCmcn/bP/lnHX3dpOi2GhaPZaZp9pHY6daW8dvb20Uf7uOOP/Vx1leKPCVh4j0+4tL20juba4j8uSO5j8yOSOsqkPaHLWoe2p6fGeFfCn9qrwZ8Ro440v49M1GT/lxvpPLk/wC2f/PSvcLHXrDy/kkjr4V+MX7AF3Y3lzqXgC/8qOT95/ZN9J/6Lk/+Of8AfyvIP7F/aA+F8dtGlh4mijt4/wB3HY+ZeRx/9s4/Mjrm9pUpnm/XsXh/3deB+oPiC10XxRp8lpqlpa31lJ/y7XMcckdcFJ8G/h7LJ/yKeh/+AEdfBlj8UP2iNUuI7SCDxHLJJ/1CP/tdep/C79mn4sfEvUI7v4m+KdYsdB8z95pP9pySSXH/AEz/AHcnlxx1008VU+wa0M0qVP3cKcz7U0nw74e17R73TfIsdT0mTzLO4tv3ckf/ADzkjkrhvC9j/wAK58Yad4M8S+XfadJ5kfhHxBe/vJPL8v8AeafJJ/z8R+X+7k/5aR/9NI5K9P8ABPhLTfBuh2Wk6RYQaZp1pH5dvbW0flxx0/xt4N034geHLnRtYjeSyuP3nmRv5clvJH+8jkjk/wCWckcn7yOStdXueu79TSttLji/5Z1drzn4Z+MtT/tS58EeL5I/+Ev02DzI72OPy49as/8An8jj/wDIckf/ACzk/wCmckdejUAFFFFGo9T5F/aM/wCThf8AuXdL/wDSzUK7TwD/AMe8f/XOuL/aM/5OF/7l3S//AEs1Cu08A/8AHvH/ANc6xn/HPmMV/vUz0mL7gooi+4KK7h6lrmjmjmjmgNQ5o5o5o5oDUOaOaOaOaA1Dmjmjmud8eeObH4b+GZdc1OC9ubOO7tLPy9Ogee48ye4jgj8uNP3kn7ySP/V/vP8ArpTDU6LmjmvOJvi1d24srWTwB4lHiG+8+SDQS+m/aHggNv5lx5n2z7P5fmXFun+s8z95/q/L+ekk+OGlXS6fJoWla34osrvSLPXZ7jSbePNpp8/mfZ7iSOSSOSTzPLuP3dvHJJ+7/wBX/q/MA1PSOaOa4DV/jBpml+JJ9LfTNTls7XULTSr/AFiKOD7HZ38/lfZreWPzPPk837RZ/vI45E/fx/vP3b7K3h341WPiHxJFpr+H9c0+yvNV1DSLHVrwWn2e+vLSS48yNNlxJJH/AMedxJ+8jj/1f/XOgNT0jmjmvKPBvxquL34U634y8TaFeaINK1XU7M2X7jzGjt7yS3jzsneOP/V7JJJJEjjkjkk/d2/7ymeG/wBo7w34s8K2uq6FaX2t3lxq8mjW+i6dPaXFw959n+0eXHcR3H2T/j3/AHn/AB8f9M/9Z+7oDU9a5o5rznV/HmqjXPhq9ta/2bp/iDVrvTNS07VbCRLyCRLO8uP3cnmeX+7ktJI/+Wkcnmb45PL/AHkk+kfGDTNU8SQaWmmanFZ3WoXelWGsSxwfY7y/g837TbxR+Z58flfZ7z95JHGn7iT95+8TeBqd/wA0c1yfjL4oeGvAcltBq+p/8TG4/wCPfSbGOS8vbj/rnbx/vJK5yTVPiT48/wCQXYWvw+0mT/l+1by7zVZP+udvH+7j/wCukkkn/XOkB2Hi3XtF8L6PJqWvalY6Rp0f+sub64jjj/7+SV8x/F6S/wDjJ4budN8L+F7q5srj95H4g1uOTT7b/pn5cckfmSf9+44/+mle+6L8FvD2j6pHrV7HdeKvEcf7yPW/EEn2y5j/AOvf/lnb/wDbvHHV7xbYebbyVzVIGNSnoflVY+FZL0hNSu5NRlH/AC7yf8e//fv/AOOV019ax2FvHG9p5Xl/6v7NJ+7rq/i1oP8AwiXxUvY0j/0a4k+2R/8AbT/7Z5lZPiiLzbf5PLr4yvUqe09nM/O8ROftPZ1DlP3l1J5aeXbR/wDTOvo/9ln4cx+ZJ4lnj/1n+j2/7v8A7+Sf5/6aV86W0Un2j5K/Q34U+F08OaHZWEH+rt4/L8z/AJ6V3YGn7SZ6WXU/aVz0XRdP8q3jrf5qtbReVHVnmvroH2gc0c0c0c0Ggc0c0c0c0BqHNHNHNHNAahzRzRzRzQGoc0c0c0c0BqHNHNHNHNAahzRzRzRzQGoc0c0c0c0BqHNRSf6upeaik/1dMDmPhn/yXDx7/wBi7of/AKUarXr9eQfDf/kunj3/ALF3Q/8A0o1Wud1nxl4r0/xp4w1mLxXffYNF8a6D4bh8ONZWh0+WC+TSEklkfyPtG8f2hO6H7QAHjj4KfISf8Q9ujpTPoGvPfhX4N1OxfWvFfiWBI/F/iKSOS7j8zzPsFnH/AMe9nHJ/0z/ef9tJJJK4VNb8Q6Xpfxsj0zUoF1e28Z2ltaXNzHaW9yY57DTD5EcnlxxyXfl3Elvb/aN/7z7PHI8iVznji81fxp8GTpt14m8R6ZrWk+PvDlnd/bLHTY9VszJqOnyxpP5EclpJJ/pcdwklvGn/ACwjk3+XPvz9mae0ufT9FeY6pJd2f7SnhGL7Y01neeFNYk+zy2dv/o8kd5pf7yOTy/P/AHn2j95H5nl/u4/3f7uq/wCzLpVpoPwyuNO0+1hstPtfFHiO3gt7dNkcEceuX4ijjj/5Zx4FKxrdnqUlrHLWdJ4ctJf+WdatFZDMWPw5aRf8s460rewjtf8AVx1YooAKKKKY9Tjvib8Pf+E40u3eyu/7I8R6TP8AbNI1aKPebS4/6af89I5P9XJH/wAtI6sfDfxdd+MtBkn1TSZtD1u0uJLPUrGRP3aTx/8APOT/AJaRyf6yOT/nnJXk3gbxf4si8ReG9T1Dxbe6tZeJPG3iLw02h3tnaR2dlBaSavJBJB5cCT+YP7Mgj/eSPw8nGdmzI+AvxC+IHxJfQZtan13S7Dxf4Tk1z7VqL6KPslx/oYj/ALIig8yfyIxdyH/TI5P+XfzP9ZJ5mvszn5z6Zor5e8Ean4n0T9lD4EaH4X12b/hIfEmnaZZWl9cG3t5EH9mSXewTm3kSCOOO32eZ9nuDiPyz+8kNxHa8P6tqHjKT4D634rsrKTxdpvjfXtDe9jKSSbLez1y3kIk8uPPmfY4Hk8uOOOSSP/Vx/wCrQ9mV7Q5z9of/AJOE/wC5d0v/ANLNQrtPAP8Ax7x/9c65j462sl1+0RJs/wCWfhnT/wD0o1Cu48G6f5Udck/4589iv96md5b/AOrFFLF9wUV3D1JeaOaOaOaA1DmjmjmjmgNQ5o5o5o5oDUOa5/x14R/4TLRbfTjcLaeRqumap5jR+YP9Eu7e72fV/I2f9tK6DmjmgNTyz4wfBW2+Kl9oWpSW/h+4vdJS4t47bxPoP9s2Xlz/AGeSSTyPMj/ef6PH5cnmf6vzP3f7z93J/wAKl1bQ7yxl8JeJ7fRI30bT/D9/Nc6RFcS/Z7T7R9nktDGI4IJP38//ACwkjHyfu/k8uT0/mjmmGp4/q/7POn6h8V7jxfs0F2u7601S4uLzw/BeaolxAkSRx293JJ/o8f8Ao0X7vy5JPnn8uSPzI/LrfDr4UeJ7XU7a68SanZ2+l6T4o1vXNK0q3sc3HmXdxqEcb3Fx9okjkjkt7x38vy45Pnj/AOecnme080c0XDU8vk+D91/wjmu6GmuQtp8+sx+INJ3WJ8y0vP7Q/tOQ3Enmfv4xPj93HHBJ5Y8vzPM+es+1+DfiCP7VrN54r02bxY3iT/hJLS8j0aSPTo5P7Lj0zynt/tnmP+48z/l4j/eeX/1zk9g5o5ouGpxN54HvtWm8D3epa2LvUPD2qvqlxcLaJHFeSPZXlv5ccZ/1ccf2vMf+sk2R/vJHk+euU8K/s76X4V+JU/ii3h8Pqn2+81RLmHw9AdZkuLt3kkjk1DzP3if6RKUjjjjfy444/Mf955nsPNHNAalGPS7C11C5v4LSCK9uP+Pi5jj/AHkn/XSSr3NHNHNINQ5rE1uH/R5K2+azdS/1dZ1DM+Iv2sNG8rWNA1JI/wDnpbySf+i//aleUeKI5P7L+Ty/M/6aSV79+1xF/wAU3p0n/UTj/wDRcleFeIPMl0uvi8d+7rnwOY/70c58NdQvIfHWjNd6HezeXcRybtOCXbfu/wB5ny/v/wDjlfeHgH40eBbia30+fxDaaRqTnykstaSTTLiST/rnceXJXyR8AYvtXxM07/Wfu/M8v/v3JX3npOjWGs6P9k1G0gvrKSP95bXMfmRyV7uXezPosrtyHX20sctvHIknmxyf6uSOpea81k/Z48EWv7zRLC68IXP+s8zwvf3Glx/9+7eSOOT/ALaR0f8ACEfELQf+QJ8Rv7Xj/wCWdt4t0iO4/wDIlv8AZ5P+/nmV7Z9Bqelc0c15j/wmXxG0GP8A4nfw9g1eOP8A5aeEtbjuJP8Av3efZ/8A0ZJUkf7QXgy1k8jXru+8IXP/AFNGmXGnx/8AgRJH5cn/AGzkoDU9K5o5qjpOsWGvWcd3pd/a6nZSf6u5tpPMjq9zQGoc0c0c0c0BqHNHNHNYugeMtJ8W6fot9pc899Za1Yf2rYXP2STy5Lf93/y08v8Ad/6yP93J+8/1n/POSgNTa5o5o5rF8aeMNK8A+GdQ8R61cTWujacnn3d1b2rziOP/AJ6bEjkcUw1NrmjmjmjmkGoc0c0c0c0BqHNHNHNHNAahzRzRzRzTDU4HxBqlx8NPiBbeN3Se58OXFh/ZWvfZo/Mkgjjk8y3vPL/55x+ZceZ/0zk8z/lnXU+Dfhp8Pr7xlqvxL0i00fxBrWtXSXieIvs8FxJB/okVp5dvceX5kcflxf8APT/lo/8AfrQri9W+CPgHWbyS7vfAnhy+uZP9Zc3OkW8kkn/kOtP4h208V7OHJUPWbrwxot1Z63az6TZzW2s8anFJAhjvv3ccH+kf89P3aRx/vP8AlnHVTT/AnhvSfCsvhSz8P6XZeGZIJLeTRbaxjjs/Lk/1kf2f/V+XJ5kn/fyvH/8Ahn34bf8ARPPCv/gkt/8A43S/8M8/Db/onnhX/wAEtv8A/G6jlgafXKZ7VpvhfRtLOm/YtKsbL+zLT+zrD7Pbxx/ZLf8Ad/6PH/zzj/0eP93/ANM4/wDnnVjS9JtdFt5beytYbK3kuJLl47ePy4/Mkk8yST/rpJJJJJ/20rw3/hnn4bf9E88K/wDglt//AI3R/wAM8/Db/onnhX/wS2//AMbo5aZr9dpnvtFeBf8ADPPw2/6J54V/8Etv/wDG6P8Ahnn4bf8ARPPCv/glt/8A43S5KY/r0D32ivAv+Gefht/0Tzwr/wCCW3/+N0f8M8/Db/onnhX/AMEtv/8AG6OSmH16B77RXgX/AAzz8Nv+ieeFf/BLb/8Axuj/AIZ5+G3/AETzwr/4Jbf/AON0clMPr0D0T4f/AAY8H/DvVtU1rStDsY/Eeq3eoXd3rUlnANQn+13kk8kclxHH5kke9x5f/TOKOtzQfA3hzwrqmqajo3h/S9J1DWJ/P1K506wjt5L6TMh8y4kj/wBZJ+9k/wBZ/wA9a8f/AOGefht/0Tzwr/4Jbf8A+N0f8M8/Db/onnhX/wAEtv8A/G6fLDuZfWoHq118MfB11ousaPN4V0WTSdYujqGpabJpsH2a/uDIkn2i4j8v94/mIn7yT/nnWbqlv8P/AIReF9Nku7XQfC2gaK8lxYRx28cEdpI4k3/Z4/8AnpIJ5P8AV/vP3kn/AD0rzv8A4Z5+G3/RPPCv/glt/wD43Wjofwb8EeF9Qjv9I8H6HpF7/wA/Njplvbyf9/I6OWAvrlM5TSLXUviD4w1bxnqlhPpn2/y7ewsbmP8AeW9nH5nl+Z/00kkkkk/7aeX/AMs69J0mw+yx1djsI4qs1j9s86p+8qe0JeaKOaK0DUOaOaOaOaA1DmjmjmjmgNQ5o5o5o5oDUOaOaOaOaA1DmjmjmjmgNQ5o5o5o5oDUOaOaOaOaA1DmjmjmjmgNQ5o5o5o5oDUOapal/q6u81R1L/j3oDU+Sf2uPM/4RfTv+wnH/wCi5K8C1aL/AIk/yV79+1x/yK+m/wDYTj/9FyV4DqW/+w/n/wBZXw+Zfxz8+zT+Ob37PH/JTNN2f6v95/6Lkr778L+Z9njr4E/Z4l8r4mWX/PP95/6Lkr778Ny/6PXsZb8B9Bk/8M6jmjmjmjmvoD6HUOaik/ex+W9S80c0Bqee6l8AvAOqXkl8nhex0zUZP9ZqWieZpdzJ/wBvFv5clUv+FVeJdG/5Fr4k65bRx/6ux8QW9vqlv/38k8u4/wDJivT+aOaA1PCfjVDrf/Cm7m38fRaNqtn/AMJJoPmR6TYzzxXlv/a9n5sUlmfMkk/65x+Z5lcVr3gy9u/B8/8AYfh7+zfh1/wmn22DRNR8K3d1Zppf9j+X+80RNk8if2l+88vy/wDWf6R/q/nr6ivtLtNUt44L20gvo45I7iOO5j8z95HJ5kcn/bOSOOSrPNO49T5jtfBdnpmh+AP+E78PXvi3wTbWmuF9Nk8Jz3EUFxPeW8mn+XpkZuJLdI7T7RHH5n+oj/dyeXJJ5dbPwX8E3Wkaj8EtQuvD09lf2vwyk0vU7p7QRPBJH/Y/l29w+P8Ar4/dyf8ATT/ppX0HzRzRcWp8yeCfCs1v8Hdd0vwz4T1vRPi0PBtxaarrSWb6Z9r1v7OI/MlupDHHeT+f5kkd5GZPL/eP5sf2j95m2Pgu/X4OfG230XTPKs9Q8LS2Vlo+ieCLvwzayXot7wSeVaTySSSTyB7aN5NieZ5Vun7zZJ5f1bzRzWntB6hzRzRzRzWQtQ5o5o5o5oDUOaOa+UdI+N/ivVtL1jx2PEX2SLTfCw8Y/wDCHXUlpHFdW/2eO48uCD7N9okt/Lk+z/2h9o/4+45P9H8v93Xu/wATtY1zQ9HjvtL1fQ9DtICBd3ur2E+oP5n7uOO3t7S3ljkeSSSQf8tPM8zy4445PM/duwanb80c14fb/GDxhNcS6jqGlaXoVlpOs6L4f1Xw66PcXv2y/isPMkS7jl8v/R5dTj/d+RJ5n2eT508z5G+DPih438b2/hfybnQrCTxn4Zk8S6VMdJnk/smOOSz8y3uP9M/0v93qB/eR+R/q/wDV/vPLjLBqe5c0c14rY/E3xfYfAPx/441FtF1K60y01TUNCuLGwktLe/gt7f8Ad3EkX2iT93JJHJJHJHJ+8gkjk/d+ZWrY/E7VNA8MaDeavZ3ni7VPEGrvpunWmj6HJoM/7uC4nJe31K8+Qf6JcHzHkTjy/wB2aAPVeaOa8/sfjPoWs32gw6La6prdlqVhZ6r/AGjZWn7u0s7vzI7OSSOT95+8kjk/1ccnl+V5knlx/vKz/wDhoLw//Zel3SWWqSTX1hHefYI0j+02lxJeR2dvp9x+8xbzyXEklv5cn7vzLe48ySPy5KAPUOaOa8d1/wCNd34d8YaF9ssZrfQNW0W8kj0q5sPL1VNUj1Czs47fzPM+z/vJNQjj/wCef/LT7R5cnmVb1b9orQ9HsNKun0fWpbae11O7v5Y0t/8AiU2+m3EdvqElx+8/efZ5JP8Al3+0eZ5cnl+ZRYD1fmjmvFvH/wC1l4G+GnjDUfDXiC4Fpe2HlyXErX9hj7P5Ucsknl/aPM/d74/3fl/aJPM/0eOf95VfxZ+0M+la5r0Vhps0Ph/SfDXiLVX1u6tYrgXF3ptxbwSR28f2iOSTy5JJ45I5PL8zy4/Lk8v95R7MD3HmjmuI0n4raHqnxQ1rwBG/l+IdMtPthj8+CTfB+78yTy45JJI/L89P+PiOPzPM/d+ZHXnfxa+N/iTwL8RNU0jSzY/2dpOhWmsm3udBu7j7W7yXkckcl/HJ9n09P9Dj/wBIuI/LTzJJP9XHQB73zRzXk/jf45waBB4+i0/Q9alk8I2lxJqWrfYI5LOzkj0+O8j/ANZcR/aPM8zy/Lj/AHn/AD08uORJHrR/HqfRY/ipf+ItAl0zSfCOs2+n28sl5YQfao5LezkwZJ7yOP8A1k/mfvPL/dyxR/6zzI6LAew80c15f4V/aC8P+NPElrpumWWpnTrx7e3sNfZYksru4fT49Tjjjj8z7RH/AKHJ5n7yOOP93In+sqhpP7Qmm+KPCFlq1tp+paA93JoE8dtq1rbzyvYaldxQW9wRBcbB5mZB9/zE8oyPH/q45CwHr/NHNeYf8L70b/hXd/40fS9SttEhW3u7S6vJbO0jvrOeQR29xHPPcRwRiTP3JJI5053xp5kfmd94c8RWPizw5pWuaRP9p0rUrSO8tLjy5I99vJH5kcn7ygDR5o5rxb4N/tGQfEXT/DUOp6Lf2Oo6laWkcmoRxx/2fNqdxpcepyW8H7ySf/USSSfvI/L/AHf+s8z/AFnf/D/4hWvxCsTe2WnapZWbpHeWFzeQ7Ir+zk/497iOSP8A56f885PLnj/5aRx+ZHRYNTquaKOaKQahzRzRRQK4c0c0UUBcOaOaKKAuHNHNFFAXDmjmiigLhzRzRRQFw5o5oooC4c0c0UUBcOaOaKKAuHNUdS/496KKAufJ37XsX/FL6d/2E4//AEXJXzxqUnnaHvf/AJ50UV8RmP8AvB+f5p/HOj/Zv/e/Eyy/7af+i6/QDw3H5dvHRRXr5d/Dme3k/wAB0fNHNFFfQH0tw5o5oooC4c0c0UUBcOaOaKKAuHNHNFFAXDmjmiigLhzRzRRQFw5o5oooC5w3/CnfCf8AwkH9u/ZL3P277Z9k/ta8/s37V5nmed9g8z7P5vmfvN/l/wCs/ef6z95V3xx8MNC+I91pM2s/2qZtJlkns5NN1q8sNkskQTzP9Hkj58oun/bV/wDnpJRRTC5Ut/hD4UkvrTU0tLyd7GS2Zg2q3clvNPD5YimuYZJNlxcJ5SYnkSST90n7z93HV7wx8LfDvgjUpLvTLCaG4RPssMN1fTzrZwZJ+z2kckkiWifuk/dweXH+6j/55R0UUBcm/wCFd+Hv+Fdf8IP9h/4pP+yP7H+x/aJP+PPy/s/l+b/rP9XVfS/hjoWjwaRIv9qXp06+k1Wyn1bWru/eCd7eS2/1lxJJJ/q3l/d/6v8AeGiigLlS0+EPhGwj8OPb6KscGi2VvZacv2mcxNbW+Gt45k8z9/8AZ8eZGZ/M8t/3kfzms3w18HtPs9H1u08QGw1bUfEk39o3c+m2j6fGDGfMR7b95JJAI5fNuM+Z5nn3FxPGY5HoooC5oz/B/wAJXGl2Vs2jkW9la3FjBKLy43obi4t7iR/M8zzPtHnwW9x9o/1nmJ5nmeZWFrnwF8Max4g8KzTiZdJ0nT9Rtv7IjuLgf2iLq6gaaW7k8z/SQ7W0qyJP5nnmcvJyKKKB3N2b4QeFIPFSaytrfWmrfbfPhaz1a7tlSbe0sixxxybESR1aS4j+5cOscknmSCq998EPBeqT61e3WlXEia/Y3ml3EP2+4+yvBdmNr3yoPM8uDfLGjySRxxyPJl6KKBXNTR/hX4c0TxteeJbGwuLfXJPtNs6/b7j7PC88sb3Kpb+Z9njLyxxvI8cf7yT56p+KPhD4V8Za3ca3q9rfSzGxSzukj1a7gtbm1jkeRIbiCOTy54v9Ib5JI3/1r0UUBc1dR+HugalpnizT7mzL2fijf/bafaJP9J8y3jtJP+uX+jxxp+7qvrvws8Oa/NqN3c2E0U940NzNd2d7PaPDOIvKhuUkgkjeKQxyeW8sf7ySP5H/AHf7uiigLlLwz8H/AAj4Vi0qLRtFFvHpt3HdWm26nk2XEdj/AGdHJ88n/Pr+6/8AH/8AWfPS2Hwh8I2On2VrBowS3tbPSrS3Q3U52W+mT/aLCP8A1n/LJ5P+B9ZN9FFAXK6/BHwZY291YJpU9kXeGVZYb64iurQJ5iwx2k6SeZaRpHJIkccEkcaR3Ekfl/vJK1fBfw/TwVNLa2N7P/Y9rZWekaXou+T7Pp9rapKIgfMkk3yS7pQ7/wByKCP/AJZ+ZIUUBco+Gfg/4R8KxaVFo2ii3j027jurTbdTybLiOx/s6OT55P8An1/df+P/AOs+eruhfCzw54TgvINKsJ7GOSWFn8u+uMxJbN58Nsn7z93BEp3Jbp+4AlkTy8SSUUUBc6rmiiikFz//2Q==)"
      ]
    },
    {
      "cell_type": "code",
      "execution_count": null,
      "metadata": {
        "colab": {
          "base_uri": "https://localhost:8080/",
          "height": 202
        },
        "id": "zab09A3eDtPq",
        "outputId": "8fbf43e3-6e95-4d85-e0e8-5821e268b9d1"
      },
      "outputs": [],
      "source": [
        "iris = pd.read_csv('https://github.com/thomas-bierhance-exxcellent/data-wrangling-praktikum/raw/master/iris.csv')\n",
        "iris.head()"
      ]
    },
    {
      "attachments": {},
      "cell_type": "markdown",
      "metadata": {
        "id": "Zq4pJJhrD2Tf"
      },
      "source": [
        "Um einen DataFrame nach Kriterien zu filtern, kannst Du die Property `loc` nutzen. Zum Beispiel um alle Pflanzen anzuzeigen, deren Kelchblätter 4,6 cm lang sind."
      ]
    },
    {
      "cell_type": "code",
      "execution_count": null,
      "metadata": {
        "colab": {
          "base_uri": "https://localhost:8080/",
          "height": 171
        },
        "id": "T6bS7qUYD6LO",
        "outputId": "ad6bf47e-b2d0-4097-9a47-62a846c2ad41"
      },
      "outputs": [],
      "source": [
        "iris.loc[iris['sepal_length']==4.6]"
      ]
    },
    {
      "attachments": {},
      "cell_type": "markdown",
      "metadata": {
        "id": "gKBr8d7xFhiJ"
      },
      "source": [
        "Nach dem `loc` kommen eckige Klammern, weil `loc` eine Property ist und keine Methode. An `loc` übergibst Du eine Boolsche-Maske, um die passenden Zeilen auszuwählen. Im obigen Beispiel eine Maske, die für alle Pflanzen, deren Kelchblätter 4,6 cm lang sind, wahr ist und für alle anderen falsch.\n",
        "\n",
        "Du kannst für die Maske auch mehrere Ausdrücke kombinieren. Pass aber auf, dass Du die einzelnen Teilausdrücke mit Klammern versiehst, damit keine komischen Fehlermeldungen kommen. Die wichtigsten Operatoren sind `&` (und), `|` (oder) und `~` (nicht). "
      ]
    },
    {
      "cell_type": "code",
      "execution_count": null,
      "metadata": {
        "colab": {
          "base_uri": "https://localhost:8080/",
          "height": 233
        },
        "id": "0MdEqd33yMsu",
        "outputId": "c6dcb145-7e28-4ecb-de5b-6f956a0cb0ff"
      },
      "outputs": [],
      "source": [
        "iris.loc[(iris['sepal_length']==4.6) | (iris['petal_length']==1.2)]"
      ]
    },
    {
      "cell_type": "code",
      "execution_count": null,
      "metadata": {
        "colab": {
          "base_uri": "https://localhost:8080/",
          "height": 171
        },
        "id": "dIl2kIFKGg9c",
        "outputId": "61cc4b98-dab4-4747-882d-dd5d95b89c88"
      },
      "outputs": [],
      "source": [
        "iris.loc[(iris['sepal_length']>6) & (iris['petal_length']==4.9) & ~(iris['species']=='versicolor')]"
      ]
    },
    {
      "attachments": {},
      "cell_type": "markdown",
      "metadata": {
        "id": "Ma_zA6xYH8yS"
      },
      "source": [
        "Du kannst mit der Property `loc` neben der Zeilenfilterung auch die zurückgelieferten Spalten filtern. Das funktioniert z.B. mit einer Liste von Spaltennamen:"
      ]
    },
    {
      "cell_type": "code",
      "execution_count": null,
      "metadata": {
        "colab": {
          "base_uri": "https://localhost:8080/",
          "height": 171
        },
        "id": "j8K3g3TDIMJv",
        "outputId": "a06a7666-1325-40ef-bc6c-0116a7e56bb8"
      },
      "outputs": [],
      "source": [
        "iris.loc[(iris['sepal_length']>7.2) & (iris['sepal_length']!=7.7), ['sepal_length', 'species']]"
      ]
    },
    {
      "attachments": {},
      "cell_type": "markdown",
      "metadata": {
        "id": "2dlkdOzKlp23"
      },
      "source": [
        "Wenn Du alle Einträge mit Werten aus einer Liste möchtest, kannst Du anstatt einer Menge von oder-verknüpften Ausdrücken `isin` verwenden."
      ]
    },
    {
      "cell_type": "code",
      "execution_count": null,
      "metadata": {
        "colab": {
          "base_uri": "https://localhost:8080/",
          "height": 294
        },
        "id": "hsrXYVYxl5Kk",
        "outputId": "ca721e2b-7a07-45bf-cccf-7551df4277e2"
      },
      "outputs": [],
      "source": [
        "iris.loc[iris['petal_width'].isin([1.2, 1.1])]"
      ]
    },
    {
      "attachments": {},
      "cell_type": "markdown",
      "metadata": {
        "id": "yJCeq6be_Dp2"
      },
      "source": [
        "Pandas hat auch Methoden, um nach Strings filtern zu können. Eine Auswahl:\n",
        "*   `str.startswith`/`str.endswith` prüft, ob der String mit einem anderen String beginnt oder endet\n",
        "*   `str.contains` prüft, ob der String einen anderen String beinhaltet\n",
        "*   `str.match` prüft, ob der String zu einem regulären Ausdruck passt"
      ]
    },
    {
      "cell_type": "code",
      "execution_count": null,
      "metadata": {
        "colab": {
          "base_uri": "https://localhost:8080/",
          "height": 415
        },
        "id": "97ZaRPB9-2JQ",
        "outputId": "b30a43da-f02a-45d4-95e5-1e53b48c3ed9"
      },
      "outputs": [],
      "source": [
        "iris.loc[iris['species'].str.endswith('a')]"
      ]
    },
    {
      "attachments": {},
      "cell_type": "markdown",
      "metadata": {
        "id": "vfjD2MyCw4yn"
      },
      "source": [
        "### Übung\n",
        "\n",
        "Jetzt zu den Aufgaben für Dich:\n",
        "\n",
        "1.   Wie viele Bestellungen haben mehr als 200 Rials gekostet?\n",
        "2.   Was ist die durchschnittliche Bewertung der Lieferanten der Kategorie \"Sweets & Bakes\"?\n",
        "3.   Gebe die Lieferanten-Datensätze der Kategorie \"Sweets & Bakes\" aus, die einen Umkreis von weniger als 15km beliefern.\n",
        "4.   Wie viele Kunden haben schon einmal bei einer Bestellung den Lieferanten höher als den Fahrer bewertet?\n",
        "5.   Gebe die Lieferanten-Datensätze aus, die \"Pizza\" und \"Pasta\" aber kein \"Italian\" im Angebot haben. *Tipp: Nutze den Parameter `na=False` der Methode `str.contains`.*"
      ]
    },
    {
      "cell_type": "code",
      "execution_count": null,
      "metadata": {
        "id": "skvWDwq7k4p2"
      },
      "outputs": [],
      "source": [
        "# Platz für Deine Übungen :)"
      ]
    },
    {
      "attachments": {},
      "cell_type": "markdown",
      "metadata": {
        "id": "lAXvmrIhF8C5"
      },
      "source": [
        "### Lösungen"
      ]
    },
    {
      "cell_type": "code",
      "execution_count": null,
      "metadata": {
        "colab": {
          "base_uri": "https://localhost:8080/"
        },
        "id": "dIGDqg25wzSG",
        "outputId": "008c379c-6251-4db2-d5c6-491fed3b3eeb"
      },
      "outputs": [],
      "source": [
        "# 1. Wie viele Bestellungen haben mehr als 200 Rials gekostet?\n",
        "orders[orders['grand_total']>200].shape[0]"
      ]
    },
    {
      "cell_type": "code",
      "execution_count": null,
      "metadata": {
        "colab": {
          "base_uri": "https://localhost:8080/"
        },
        "id": "ADXN6sdlGC1l",
        "outputId": "d0772b42-ff8a-4872-dfc2-0fd67de88a99"
      },
      "outputs": [],
      "source": [
        "# 2. Was ist die durchschnittliche Bewertung der Lieferanten der Kategorie \"Sweets & Bakes\"\n",
        "vendors.loc[vendors['vendor_category_en']=='Sweets & Bakes', 'vendor_rating'].mean()"
      ]
    },
    {
      "cell_type": "code",
      "execution_count": null,
      "metadata": {
        "colab": {
          "base_uri": "https://localhost:8080/",
          "height": 278
        },
        "id": "-WLAGZQNG2i6",
        "outputId": "2a917a02-24e9-45a4-b5e7-a86ad68f67a7"
      },
      "outputs": [],
      "source": [
        "# 3. Gebe die Lieferanten-Datensätze der Kategorie \"Sweets & Bakes\" aus, die einen Umkreis von weniger als 15km beliefern.\n",
        "vendors.loc[(vendors['serving_distance']<15) & (vendors['vendor_category_en']=='Sweets & Bakes')]"
      ]
    },
    {
      "cell_type": "code",
      "execution_count": null,
      "metadata": {
        "colab": {
          "base_uri": "https://localhost:8080/"
        },
        "id": "BKFdMwimHul7",
        "outputId": "79aa2bec-b705-4144-b60c-50620b0ebee6"
      },
      "outputs": [],
      "source": [
        "# 4. Gebe die Anzahl der Kunden aus, die schon einmal bei einer Bestellung den Lieferanten höher als den Fahrer bewertet haben\n",
        "orders.loc[orders['vendor_rating']>orders['driver_rating'], 'customer_id'].nunique()"
      ]
    },
    {
      "cell_type": "code",
      "execution_count": null,
      "metadata": {
        "colab": {
          "base_uri": "https://localhost:8080/",
          "height": 117
        },
        "id": "rtEfD3_1KBWJ",
        "outputId": "978a2fed-2760-4e48-e84c-ee5cf7c0f8a3"
      },
      "outputs": [],
      "source": [
        "# 5. Gebe die Lieferanten-Datensätze aus, die \"Pizza\" und \"Pasta\" aber kein \"Italian\" im Angebot haben.\n",
        "vendors.loc[vendors['vendor_tag_name'].str.contains('Pasta', na=False) &\n",
        "            vendors['vendor_tag_name'].str.contains('Pizza', na=False) &\n",
        "            ~vendors['vendor_tag_name'].str.contains('Italian', na=False)]"
      ]
    },
    {
      "attachments": {},
      "cell_type": "markdown",
      "metadata": {
        "id": "RDDSEeNUxYeV"
      },
      "source": [
        "## Spalten transformieren, hinzufügen oder entfernen"
      ]
    },
    {
      "attachments": {},
      "cell_type": "markdown",
      "metadata": {
        "id": "5FbX5PeV-MXX"
      },
      "source": [
        "### Numerische Spalten\n",
        "\n",
        "Die Werte einer bestehenden Spalte können durch eine erneute Zuweisung ersetzt werden. Zum Beispiel kannst Du die Größe der Blätter in mm statt in cm angeben:"
      ]
    },
    {
      "cell_type": "code",
      "execution_count": null,
      "metadata": {
        "colab": {
          "base_uri": "https://localhost:8080/",
          "height": 202
        },
        "id": "HdclP_lG1G-Y",
        "outputId": "47390770-6c3f-4113-ae3f-658d055de007"
      },
      "outputs": [],
      "source": [
        "iris_cm = iris.copy()\n",
        "iris_cm['petal_width'] = iris_cm['petal_width']*10\n",
        "iris_cm['petal_length'] = iris_cm['petal_length']*10\n",
        "iris_cm['sepal_width'] = iris_cm['sepal_width']*10\n",
        "iris_cm['sepal_length'] = iris_cm['sepal_length']*10\n",
        "iris_cm.head()"
      ]
    },
    {
      "attachments": {},
      "cell_type": "markdown",
      "metadata": {
        "id": "RWrh0h1s0v1e"
      },
      "source": [
        "Neue Spalten können direkt über eine Zuweisung unter Angabe des neuen Spaltennamens angelegt werden. Zum Beispiel kannst Du so eine neue Spalte mit der ungefähren Fläche der Blüttenblätter hinzufügen:"
      ]
    },
    {
      "cell_type": "code",
      "execution_count": null,
      "metadata": {
        "colab": {
          "base_uri": "https://localhost:8080/",
          "height": 202
        },
        "id": "3cdXXsWVktJe",
        "outputId": "ebb5afb4-b551-472a-bf03-a3d5dc3e82f3"
      },
      "outputs": [],
      "source": [
        "iris['petal_area'] = iris['petal_length']/2 * iris['petal_width']/2 * np.pi\n",
        "iris.head()"
      ]
    },
    {
      "attachments": {},
      "cell_type": "markdown",
      "metadata": {
        "id": "dE8UwTD8pwsQ"
      },
      "source": [
        "### Spalten umbenennen oder löschen\n",
        "\n",
        "Spalten können auch umbenannt..."
      ]
    },
    {
      "cell_type": "code",
      "execution_count": null,
      "metadata": {
        "colab": {
          "base_uri": "https://localhost:8080/",
          "height": 202
        },
        "id": "9h6OHt3iTqz7",
        "outputId": "de2c2d05-50f3-4d0f-def2-1964a6d0c3b5"
      },
      "outputs": [],
      "source": [
        "iris.rename(columns={'species': 'type'}).head()"
      ]
    },
    {
      "attachments": {},
      "cell_type": "markdown",
      "metadata": {
        "id": "YLE6D-7HK91Z"
      },
      "source": [
        "... oder gelöscht werden:"
      ]
    },
    {
      "cell_type": "code",
      "execution_count": null,
      "metadata": {
        "colab": {
          "base_uri": "https://localhost:8080/",
          "height": 202
        },
        "id": "6q_MV2Xso8N0",
        "outputId": "4341ad3a-4e88-44b7-a95e-5aab3c500f44"
      },
      "outputs": [],
      "source": [
        "iris.drop(columns=['petal_area'], inplace=True) # ohne inplace=True liefert drop eine Kopie des DataFrames zurück\n",
        "iris.head()"
      ]
    },
    {
      "attachments": {},
      "cell_type": "markdown",
      "metadata": {
        "id": "lkL7tdSI4QEu"
      },
      "source": [
        "### Spalten mit Strings\n",
        "\n",
        "In vielen Fällen sind in Strings Informationen \"versteckt\", die Du mit ein paar Transformationen herauskitzeln kannst.\n",
        "\n",
        "Du kannst zum Beispiel einen Teilstring durch einen anderen mit `str.replace` ersetzen.\n"
      ]
    },
    {
      "cell_type": "code",
      "execution_count": null,
      "metadata": {
        "colab": {
          "base_uri": "https://localhost:8080/"
        },
        "id": "GkQlwbAW5QYx",
        "outputId": "3bcf3a80-be1f-4218-d1be-087c1a2881ba"
      },
      "outputs": [],
      "source": [
        "iris['species'].str.replace('species-', '').head()"
      ]
    },
    {
      "attachments": {},
      "cell_type": "markdown",
      "metadata": {
        "id": "mdEBJE3V7ndA"
      },
      "source": [
        "Die Methode `str.split` zerteilt einen String auf Basis eines Trennzeichens."
      ]
    },
    {
      "cell_type": "code",
      "execution_count": null,
      "metadata": {
        "colab": {
          "base_uri": "https://localhost:8080/",
          "height": 202
        },
        "id": "ZWpdsakC5pfE",
        "outputId": "604ea2a8-7408-4b18-940d-76bb956d8a8c"
      },
      "outputs": [],
      "source": [
        "iris['species'].str.split('-', expand=True).head()"
      ]
    },
    {
      "attachments": {},
      "cell_type": "markdown",
      "metadata": {
        "id": "nGXLDTN18Qqq"
      },
      "source": [
        "Die neuen Spalten, die `str.split` liefert könntest Du in einen DataFrame unter Angabe der Spaltennamen als Liste einfügen: `df[['colname_left', 'colname_right']] = df['colname'].str.split(...)`\n",
        "\n",
        "Wenn das Trennzeichen nicht reicht, unterstützt die Methode `str.extract` auch reguläre Ausdrücke und erzeugt für jede Gruppe eine neue Spalte.\n",
        "\n",
        "Mehr Infos zu den Pandas-Funktionen für Strings:\n",
        "*   https://pandas.pydata.org/pandas-docs/stable/user_guide/text.html"
      ]
    },
    {
      "cell_type": "code",
      "execution_count": null,
      "metadata": {
        "colab": {
          "base_uri": "https://localhost:8080/",
          "height": 202
        },
        "id": "g97bPkUi9y9l",
        "outputId": "cf1bd2be-2325-4c68-bb24-d20800290dbc"
      },
      "outputs": [],
      "source": [
        "iris['species'].str.extract(r'(spe)([a-z]+)-([a-z]+)', expand=True).head()"
      ]
    },
    {
      "attachments": {},
      "cell_type": "markdown",
      "metadata": {
        "id": "0SqWeMAy4Jo4"
      },
      "source": [
        "### Spalten mit Datum und Zeit\n",
        "\n",
        "Wenn es um Datum und Zeit geht, wird es oft ein wenig kompliziert. In Pandas gibt es deshalb eine Unmenge an Funktionalität um Datumsangaben und Zeiten zu verarbeiten. Im Folgenden eine Mini-Auswahl...\n",
        "\n",
        "Zur Extraktion einer Komponente wie Jahr (`dt.year`), Monat (`dt.month`), Stunde (`dt.hour`) oder Name des Wochentags (`dt.day_name()`)"
      ]
    },
    {
      "cell_type": "code",
      "execution_count": null,
      "metadata": {
        "colab": {
          "base_uri": "https://localhost:8080/"
        },
        "id": "b5AjbcKJhxIo",
        "outputId": "4d623aeb-fe22-407d-a1d2-52964bd4c182"
      },
      "outputs": [],
      "source": [
        "d = pd.Series(pd.date_range('2020-02-28', periods=4, freq='d')) # Iris hat keine Spalten mit Datum/Zeit, deshalb erzeugen wir welche\n",
        "d"
      ]
    },
    {
      "cell_type": "code",
      "execution_count": null,
      "metadata": {
        "colab": {
          "base_uri": "https://localhost:8080/"
        },
        "id": "kbjZXUzdib0d",
        "outputId": "464bf379-9839-4d38-e6f3-d2821a6f6bde"
      },
      "outputs": [],
      "source": [
        "d.dt.month"
      ]
    },
    {
      "attachments": {},
      "cell_type": "markdown",
      "metadata": {
        "id": "D42jZ9OUii-S"
      },
      "source": [
        "Um ein Datum in die Zukunft oder Vergangenheit zu verschieben, kannst Du `pd.DateOffset`, `pandas.tseries.offsets.MonthEnd`, etc. nutzen.\n"
      ]
    },
    {
      "cell_type": "code",
      "execution_count": null,
      "metadata": {
        "colab": {
          "base_uri": "https://localhost:8080/"
        },
        "id": "ZjK3W1vIitjU",
        "outputId": "0f938f2c-762d-4538-b36e-85ca384bb5b7"
      },
      "outputs": [],
      "source": [
        "d + pd.DateOffset(days=1)"
      ]
    },
    {
      "cell_type": "code",
      "execution_count": null,
      "metadata": {
        "colab": {
          "base_uri": "https://localhost:8080/"
        },
        "id": "IBP7Fd62ixNu",
        "outputId": "69a72367-327c-44f4-b52b-3d88127cca08"
      },
      "outputs": [],
      "source": [
        "from pandas.tseries.offsets import MonthEnd\n",
        "d + MonthEnd(0)"
      ]
    },
    {
      "attachments": {},
      "cell_type": "markdown",
      "metadata": {
        "id": "zDhKy-xfipNh"
      },
      "source": [
        "Der Abstand zwischen zwei Daten kann mit dem normalen Differenz-Operator `-` berechnet werden und liefert Objekte der Klasse `Timedelta`."
      ]
    },
    {
      "cell_type": "code",
      "execution_count": null,
      "metadata": {
        "colab": {
          "base_uri": "https://localhost:8080/"
        },
        "id": "slGMSgbljrjV",
        "outputId": "2aad946a-1ee5-48bf-b812-3ca36cd8a259"
      },
      "outputs": [],
      "source": [
        "# Tage bis zum Monatsende berechnen\n",
        "d2 = d + MonthEnd(0)\n",
        "d2-d"
      ]
    },
    {
      "attachments": {},
      "cell_type": "markdown",
      "metadata": {
        "id": "j9R6YnJ0lK3M"
      },
      "source": [
        "Mehr Infos zu den Pandas-Funktionen für Zeitangaben:\n",
        "*   https://pandas.pydata.org/pandas-docs/stable/user_guide/timeseries.html\n",
        "*   https://pandas.pydata.org/pandas-docs/stable/user_guide/timedeltas.html"
      ]
    },
    {
      "attachments": {},
      "cell_type": "markdown",
      "metadata": {
        "id": "P47r1wr-AFfv"
      },
      "source": [
        "### Übung\n",
        "\n",
        "Jetzt zu den Aufgaben für Dich:\n",
        "\n",
        "1.   Erzeuge eine Spalte *delivered_weekday_name* für die Bestellungen mit dem Wochentag, an dem die Bestellung ausgeliefert wurde.\n",
        "2.   Ermittel, wie viele Bestellungen an einem Sonntag und wie viele an einem Montag ausgeliefert wurden.\n",
        "3.   Ermittel, wie viel Zeit durchschnittlich zwischen der Annahme einer Bestellung (*order_accepted_time*) und der Auslieferung (*delivered_time*) verging.\n",
        "4.   Extrahiere für die Lieferanten aus der Spalte *opening_time* wann der Lieferant öffnet/schließt und erzeuge dafür die zwei neuen Spalten *opens_at* und *closes_at* und lösche danach die Spalte *opening_time*."
      ]
    },
    {
      "cell_type": "code",
      "execution_count": null,
      "metadata": {
        "id": "Jvt-tCi7k13J"
      },
      "outputs": [],
      "source": [
        "# Platz für Deine Übungen :)"
      ]
    },
    {
      "attachments": {},
      "cell_type": "markdown",
      "metadata": {
        "id": "IuvHHv9a56ym"
      },
      "source": [
        "### Lösungen"
      ]
    },
    {
      "cell_type": "code",
      "execution_count": null,
      "metadata": {
        "colab": {
          "base_uri": "https://localhost:8080/"
        },
        "id": "HbsFzVhM586u",
        "outputId": "443e8f85-61cf-418e-df99-50b1963aa11c"
      },
      "outputs": [],
      "source": [
        "# 1. Erzeuge eine Spalte *delivered_weekday_name* für die Bestellungen mit dem Wochentag an dem die Bestellung ausgeliefert wurde.\n",
        "orders['delivered_weekday_name'] = orders['delivered_time'].dt.day_name()\n",
        "orders['delivered_weekday_name'].unique()"
      ]
    },
    {
      "cell_type": "code",
      "execution_count": null,
      "metadata": {
        "colab": {
          "base_uri": "https://localhost:8080/"
        },
        "id": "NPUCdxQ988-Y",
        "outputId": "51209838-2342-4418-c298-0cab7aeb72a5"
      },
      "outputs": [],
      "source": [
        "# 2. Ermittel, wie viele Bestellungen an einem Sonntag und wie viele an einem Montag ausgeliefert wurden.\n",
        "print('Sonntag: %d Bestellungen' % orders[orders['delivered_weekday_name']=='Sunday'].shape[0])\n",
        "print('Montag: %d Bestellungen' % orders[orders['delivered_weekday_name']=='Monday'].shape[0])"
      ]
    },
    {
      "cell_type": "code",
      "execution_count": null,
      "metadata": {
        "colab": {
          "base_uri": "https://localhost:8080/"
        },
        "id": "n8lCi6Zs--Td",
        "outputId": "64853bfa-092c-454c-b67b-cf68dd7efbdb"
      },
      "outputs": [],
      "source": [
        "# 3. Ermittel, wie viel Zeit durchschnittlich zwischen der Annahme einer Bestellung (*order_accepted_time*) und der Auslieferung (*delivered_time*) verging.\n",
        "(orders['delivered_time'] - orders['order_accepted_time']).mean()"
      ]
    },
    {
      "cell_type": "code",
      "execution_count": null,
      "metadata": {
        "colab": {
          "base_uri": "https://localhost:8080/",
          "height": 222
        },
        "id": "G2rCm9btAbqD",
        "outputId": "90dd2b3a-0574-412a-dd30-722ccbb1ea93"
      },
      "outputs": [],
      "source": [
        "# 4. Extrahiere für die Lieferanten aus der Spalte *opening_time* wann der Lieferant öffnet/schließt und erzeuge dafür die zwei neuen Spalten *opens_at* und *closes_at* und lösche danach die Spalte *opening_time*.\n",
        "vendors[['opens_at', 'closes_at']] = vendors['opening_time'].str.split('-', expand=True)\n",
        "vendors.drop(columns=['opening_time'], inplace=True)\n",
        "vendors.head()"
      ]
    },
    {
      "attachments": {},
      "cell_type": "markdown",
      "metadata": {
        "id": "rih9fBc-yXiO"
      },
      "source": [
        "## Daten gezielt verändern\n",
        "\n",
        "Daten, die mit dem Operator `loc` gefiltert wurden, können auch mit neuen Werten überschrieben werden. Das ist nützlich, um Korrekturen durchzuführen oder neue Spalten in mehreren Schritten zu berechnen.\n",
        "\n",
        "Zum Beispiel könnten wir in drei Schritten eine Spalte `sepal_length_category` erstellen, die angibt, ob die Kelchblätter kurz (Länge <80% des Mittelwerts), lang (Länge >120% des Mittelwerts) oder normal (alle anderen) sind. "
      ]
    },
    {
      "cell_type": "code",
      "execution_count": null,
      "metadata": {
        "colab": {
          "base_uri": "https://localhost:8080/",
          "height": 171
        },
        "id": "pqHKVhjSyVYx",
        "outputId": "f5a97357-00b8-4459-e922-ca4aee19a7e9"
      },
      "outputs": [],
      "source": [
        "iris['sepal_length_category'] = 'normal' # 1. alle auf 'normal' setzen\n",
        "iris.loc[iris['sepal_length'] > iris['sepal_length'].mean()*1.2, 'sepal_length_category'] = 'long' # 2. nach den langen filtern und auf 'long' setzen\n",
        "iris.loc[iris['sepal_length'] < iris['sepal_length'].mean()*0.8, 'sepal_length_category'] = 'short' # 3. nach den kurzen filtern und auf 'short' setzen\n",
        "iris.loc[iris['sepal_length'].isin([4.3, 6.6, 7.9])]"
      ]
    },
    {
      "attachments": {},
      "cell_type": "markdown",
      "metadata": {
        "id": "9EHufts0KUWf"
      },
      "source": [
        "Es muss nicht immer nur eine Zahl oder ein String zugewiesen werden, sondern es können auch mehrere berechnet Werte sein."
      ]
    },
    {
      "cell_type": "code",
      "execution_count": null,
      "metadata": {
        "colab": {
          "base_uri": "https://localhost:8080/",
          "height": 110
        },
        "id": "8zT9B6esJDTP",
        "outputId": "ab948d1a-8729-4099-a35b-98bbf025b641"
      },
      "outputs": [],
      "source": [
        "selection_mask = (iris['petal_width']==2) & (iris['petal_length']>6)\n",
        "iris.loc[selection_mask, 'sepal_length'] = iris.loc[selection_mask, 'sepal_length'] + 0.001\n",
        "iris.loc[selection_mask]"
      ]
    },
    {
      "attachments": {},
      "cell_type": "markdown",
      "metadata": {
        "id": "9tr6bpOyLf7p"
      },
      "source": [
        "### Übung\n",
        "\n",
        "Jetzt zu den Aufgaben für Dich:\n",
        "\n",
        "1.   In der Spalte *opens_at* der Lieferanten sind ein paar merkwürdige Werte drin. Erstelle eine Liste der eindeutigen Werte in der Spalte, um die merkwürdigen Werte \"manuell\" identifizieren zu können.\n",
        "2.   Ersetze die merkwürdigen Einträge so, dass am Ende alle Werte ein einheitliches Format haben.\n",
        "3.   Das gleich nochmal für *closes_at*, gerne auch kreativ mit anderen Mitteln als in 1. und 2. :-)"
      ]
    },
    {
      "cell_type": "code",
      "execution_count": null,
      "metadata": {
        "id": "hAcC1qKzLf7w"
      },
      "outputs": [],
      "source": [
        "# Platz für Deine Übungen :)"
      ]
    },
    {
      "attachments": {},
      "cell_type": "markdown",
      "metadata": {
        "id": "1Rc01SAFMH_6"
      },
      "source": [
        "### Lösungen"
      ]
    },
    {
      "cell_type": "code",
      "execution_count": null,
      "metadata": {
        "colab": {
          "base_uri": "https://localhost:8080/"
        },
        "id": "OY28Xx_LMI6P",
        "outputId": "2b3051ad-0991-4345-9dc8-44cb48752f21"
      },
      "outputs": [],
      "source": [
        "# 1. In der Spalte *opens_at* der Lieferanten sind ein paar merkwürdige Werte drin. Erstelle eine Liste der eindeutigen Werte in der Spalte, um die merkwürdigen \"manuell\" identifizieren zu können.\n",
        "vendors['opens_at'].unique()"
      ]
    },
    {
      "cell_type": "code",
      "execution_count": null,
      "metadata": {
        "colab": {
          "base_uri": "https://localhost:8080/"
        },
        "id": "RrH8kNmUM4H5",
        "outputId": "e0bd094e-34e7-4ee8-9954-13d33c29b8e3"
      },
      "outputs": [],
      "source": [
        "# 2. Ersetze die merkwürdigen Einträge so, dass am Ende alle Werte ein einheitliches Format haben.\n",
        "vendors.loc[vendors['opens_at']=='8:00AM', 'opens_at'] = '08:00AM'\n",
        "vendors.loc[vendors['opens_at']=='09:00 AM', 'opens_at'] = '09:00AM'\n",
        "vendors.loc[vendors['opens_at']=='7:58AM', 'opens_at'] = '07:58AM'\n",
        "vendors.loc[vendors['opens_at']=='9am', 'opens_at'] = '09:00AM'\n",
        "vendors.loc[vendors['opens_at']=='11AM', 'opens_at'] = '11:00AM'\n",
        "vendors.loc[vendors['opens_at']=='9:00AM', 'opens_at'] = '09:00AM'\n",
        "vendors.loc[vendors['opens_at']=='9', 'opens_at'] = '09:00AM'\n",
        "vendors['opens_at'].unique()"
      ]
    },
    {
      "cell_type": "code",
      "execution_count": null,
      "metadata": {
        "colab": {
          "base_uri": "https://localhost:8080/"
        },
        "id": "-NFrEfbiNjgb",
        "outputId": "c07dacd3-c23e-48dd-ef72-f074eab8dd04"
      },
      "outputs": [],
      "source": [
        "# 3. Das gleich nochmal für *closes_at*, gerne auch kreativ mit anderen Mitteln als in 1. und 2. :-)\n",
        "vendors.loc[~vendors['closes_at'].str.match('\\d\\d:\\d\\d[AP]M', na=True), 'closes_at'].unique() # regulärer Ausdruck, um auf die falschen Formate zu filtern"
      ]
    },
    {
      "cell_type": "code",
      "execution_count": null,
      "metadata": {
        "colab": {
          "base_uri": "https://localhost:8080/"
        },
        "id": "B9S-jmzLNxIx",
        "outputId": "b31df563-1e04-47a9-c7c6-9e8c79873dcd"
      },
      "outputs": [],
      "source": [
        "vendors['closes_at'] = vendors['closes_at'].str.upper().str.replace(' ', '') # Kleinbuchstaben in Großbuchstaben wandeln und Leerzeichen entfernen\n",
        "vendors['closes_at'] = vendors['closes_at'].str.replace('^(\\d:\\d\\d)', '0\\\\1', regex=True) # führende 0 ergänzen, wenn sie fehlt\n",
        "vendors.loc[~vendors['closes_at'].str.match('\\d\\d:\\d\\d[AP]M', na=True), 'closes_at'].unique()"
      ]
    },
    {
      "cell_type": "code",
      "execution_count": null,
      "metadata": {
        "colab": {
          "base_uri": "https://localhost:8080/"
        },
        "id": "MhkX32v6RQ4Z",
        "outputId": "0082edd6-32b9-4927-8e17-2f65ee9328e7"
      },
      "outputs": [],
      "source": [
        "# die restlichen in Kleinarbeit...\n",
        "vendors.loc[vendors['closes_at']=='10PM', 'closes_at'] = '10:00PM'\n",
        "vendors.loc[vendors['closes_at']=='02:.00AM', 'closes_at'] = '02:00AM'\n",
        "vendors.loc[vendors['closes_at']=='11PM', 'closes_at'] = '11:00PM'\n",
        "vendors.loc[vendors['closes_at']=='11.59PM', 'closes_at'] = '11:59PM'\n",
        "vendors.loc[vendors['closes_at']=='111:00PM', 'closes_at'] = '11:00PM'\n",
        "vendors.loc[vendors['closes_at']=='22', 'closes_at'] = '11:00PM'\n",
        "vendors.loc[~vendors['closes_at'].str.match('\\d\\d:\\d\\d[AP]M', na=True), 'closes_at'].unique()"
      ]
    },
    {
      "attachments": {},
      "cell_type": "markdown",
      "metadata": {
        "id": "Qt31XNsK7blG"
      },
      "source": [
        "## Sortieren, Gruppieren und Aggregieren\n",
        "\n",
        "Wer SQL kann, weiß was jetzt kommt.\n",
        "\n",
        "Sortieren ist ganz einfach."
      ]
    },
    {
      "cell_type": "code",
      "execution_count": null,
      "metadata": {
        "colab": {
          "base_uri": "https://localhost:8080/",
          "height": 202
        },
        "id": "RvQfJWPk-0hd",
        "outputId": "207186e0-3555-4661-c9a1-cc49c85ddadd"
      },
      "outputs": [],
      "source": [
        "iris.sort_values(['sepal_length']).head()"
      ]
    },
    {
      "cell_type": "code",
      "execution_count": null,
      "metadata": {
        "colab": {
          "base_uri": "https://localhost:8080/",
          "height": 202
        },
        "id": "pCm9Widz_V3y",
        "outputId": "f5b313d9-ead6-440a-e193-260398f34bd1"
      },
      "outputs": [],
      "source": [
        "# Sortieren nach mehreren Spalten geht auch\n",
        "iris.sort_values(['sepal_length', 'sepal_width']).head()"
      ]
    },
    {
      "cell_type": "code",
      "execution_count": null,
      "metadata": {
        "colab": {
          "base_uri": "https://localhost:8080/",
          "height": 202
        },
        "id": "wsFdnHMQAMX8",
        "outputId": "404378c8-3869-4799-91e0-15096af1a5f7"
      },
      "outputs": [],
      "source": [
        "# Absteigend sortieren geht auch\n",
        "iris.sort_values('sepal_length', ascending=False).head()"
      ]
    },
    {
      "attachments": {},
      "cell_type": "markdown",
      "metadata": {
        "id": "I1W0Fi_E7cfA"
      },
      "source": [
        "Mit `groupby` kannst du die Daten pro Gruppe bearbeiten und analysieren. Im \n",
        "einfachsten Fall möchtest Du z.B. eine Spalte je Gruppe zusammenfassen. Für die Zusammenfassung gibt es z.B. die Funktionen `mean`, `sum`, `min`, `max` und `size`."
      ]
    },
    {
      "cell_type": "code",
      "execution_count": null,
      "metadata": {
        "colab": {
          "base_uri": "https://localhost:8080/"
        },
        "id": "8h_jsMhz1ygh",
        "outputId": "78d048a0-1cbb-444d-80e0-7c59fa27f71d"
      },
      "outputs": [],
      "source": [
        "# Durchschnittliche Länge der Kelchblätter je Pflanzenart ermitteln\n",
        "iris.groupby('species')['sepal_length'].mean()"
      ]
    },
    {
      "attachments": {},
      "cell_type": "markdown",
      "metadata": {
        "id": "cra1du4LZvvl"
      },
      "source": [
        "Es ist auch möglich nach mehreren Spalten zu gruppieren."
      ]
    },
    {
      "cell_type": "code",
      "execution_count": null,
      "metadata": {
        "colab": {
          "base_uri": "https://localhost:8080/"
        },
        "id": "njjzP-eT5SlP",
        "outputId": "682025ca-6a7e-4c42-ccdc-39d270b98424"
      },
      "outputs": [],
      "source": [
        "# Anzahl der Pflanzen der Kelchblätter je Pflanzenart und Größe ermitteln\n",
        "iris.groupby(['species', 'sepal_length_category']).size()"
      ]
    },
    {
      "attachments": {},
      "cell_type": "markdown",
      "metadata": {
        "id": "Bb-C2_zwaBxB"
      },
      "source": [
        "Das Ergebnis der Aggregationen von oben war immer eine Series, auch wenn die Spalten aus dem `groupby` noch in der Series drin sind (sie sind in den Index der Series gerutscht). Deshalb kann das Ergebnis nicht wie ein DataFrame behandelt werden. Es ist aber möglich mit der Methode `reset_index` wieder zu einem DataFrame zurückzukehren. Über den Parameter `name` lässt sich der erzeugte Spaltenname bestimmen."
      ]
    },
    {
      "cell_type": "code",
      "execution_count": null,
      "metadata": {
        "colab": {
          "base_uri": "https://localhost:8080/",
          "height": 202
        },
        "id": "46ki82cYaV6A",
        "outputId": "2b410b74-b655-4bdb-c608-50e16e3720e1"
      },
      "outputs": [],
      "source": [
        "iris.groupby(['species', 'sepal_length_category']).size().reset_index(name='n')"
      ]
    },
    {
      "attachments": {},
      "cell_type": "markdown",
      "metadata": {},
      "source": [
        "Alternativ kann auch im `groupby` der Parameter `as_index=False` gesetzt werden."
      ]
    },
    {
      "cell_type": "code",
      "execution_count": null,
      "metadata": {},
      "outputs": [],
      "source": [
        "iris.groupby(['species', 'sepal_length_category'], as_index=False).size()"
      ]
    },
    {
      "attachments": {},
      "cell_type": "markdown",
      "metadata": {
        "id": "chl0cqcecYR1"
      },
      "source": [
        "Es ist auch möglich mehrere Spalten auf einmal zu aggregieren. Das geht aber nur, wenn auch alle Nicht-Gruppierungs-Spalten die Aggregatsfunktion unterstützen (z.B. geht `mean` nicht mit Strings). "
      ]
    },
    {
      "cell_type": "code",
      "execution_count": null,
      "metadata": {
        "colab": {
          "base_uri": "https://localhost:8080/",
          "height": 233
        },
        "id": "MVPYF53KcoRn",
        "outputId": "066653b6-da69-4090-9ea4-6c5c2f42beaf"
      },
      "outputs": [],
      "source": [
        "iris.groupby(['species', 'sepal_length_category']).mean() # Vorsicht - da das reset_index fehlt, rutschen die Spalten der Gruppierung wieder in den Index und wären nicht normal ansprechbar"
      ]
    },
    {
      "attachments": {},
      "cell_type": "markdown",
      "metadata": {
        "id": "zujOh9WadFXD"
      },
      "source": [
        "Mit der Funktion `agg` gibt es noch mehr Kontrolle über die Aggregation:"
      ]
    },
    {
      "cell_type": "code",
      "execution_count": null,
      "metadata": {
        "colab": {
          "base_uri": "https://localhost:8080/",
          "height": 171
        },
        "id": "P4uiYIkwdLvP",
        "outputId": "2c5148c1-479a-4247-c6e4-2cf7d2c0446b"
      },
      "outputs": [],
      "source": [
        "iris.groupby(['species']).agg(average_sepal_length=('sepal_length', 'mean'),\n",
        "                              average_sepal_width=('sepal_width', 'mean'),\n",
        "                              n=('sepal_length', 'size'))"
      ]
    },
    {
      "attachments": {},
      "cell_type": "markdown",
      "metadata": {
        "id": "UaFFssMVeVgb"
      },
      "source": [
        "### Übung\n",
        "\n",
        "Jetzt zu den Aufgaben für Dich:\n",
        "\n",
        "1.   Ermittel die durchschnittliche Bewertung der Anbieter je Lieferanten-Typ.\n",
        "2.   Ermittel die 5 Kunden mit dem höchsten Gesamtumsatz und gebe die ID der Kunden und ihren Gesamtumsatz aus.\n"
      ]
    },
    {
      "cell_type": "code",
      "execution_count": null,
      "metadata": {
        "id": "4FjFGBjwjv8S"
      },
      "outputs": [],
      "source": [
        "# Platz für Deine Übungen :)"
      ]
    },
    {
      "attachments": {},
      "cell_type": "markdown",
      "metadata": {
        "id": "Rix2QHNfjJRW"
      },
      "source": [
        "### Lösungen"
      ]
    },
    {
      "cell_type": "code",
      "execution_count": null,
      "metadata": {
        "colab": {
          "base_uri": "https://localhost:8080/"
        },
        "id": "V5zw1tvSfJ5G",
        "outputId": "2fe4cb2d-1658-4cc8-c6c1-33486687842f"
      },
      "outputs": [],
      "source": [
        "# 1. Ermittel die durchschnittliche Bewertung der Restaurants je Typ des Restaurants.\n",
        "vendors.groupby('vendor_category_en')['vendor_rating'].mean()"
      ]
    },
    {
      "cell_type": "code",
      "execution_count": null,
      "metadata": {
        "colab": {
          "base_uri": "https://localhost:8080/",
          "height": 202
        },
        "id": "OHclAIRJel7V",
        "outputId": "34e24221-0894-48e4-a4cf-fbadd1d5e995"
      },
      "outputs": [],
      "source": [
        "# 2. Ermittel die 5 Kunden mit dem höchsten Gesamtumsatz und gebe die ID der Kunden und ihren Gesamtumsatz aus.\n",
        "orders.groupby('customer_id')['grand_total'].sum().reset_index().sort_values('grand_total', ascending=False).head()"
      ]
    },
    {
      "attachments": {},
      "cell_type": "markdown",
      "metadata": {
        "id": "YUbo7ku_7gYb"
      },
      "source": [
        "## DataFrames kombinieren\n",
        "\n"
      ]
    },
    {
      "attachments": {},
      "cell_type": "markdown",
      "metadata": {
        "id": "BZTKXccc48KG"
      },
      "source": [
        "Zuerst ein DataFrame mit mehr Infos zu den Pflanzen, den wir später mit dem Iris-DataFrame kombinieren."
      ]
    },
    {
      "cell_type": "code",
      "execution_count": null,
      "metadata": {
        "colab": {
          "base_uri": "https://localhost:8080/",
          "height": 141
        },
        "id": "60HXSW0C4nJg",
        "outputId": "0ba95225-bd2c-4a64-df3d-26b217c70521"
      },
      "outputs": [],
      "source": [
        "iris_info = pd.DataFrame({'species': ['species-setosa', 'species-virginica', 'species-lutescens'],\n",
        "                     'taxa_named_by': ['Peter Simon Pallas', 'Carl Linnaeus', 'Jean-Baptiste de Lamarck'],\n",
        "                     'synonym': ['Iris arctica', 'Iris caroliniana', 'Iris chamaeiris']})\n",
        "iris_info"
      ]
    },
    {
      "attachments": {},
      "cell_type": "markdown",
      "metadata": {
        "id": "Hs5WiGbd1wCx"
      },
      "source": [
        "Pandas unterstützt die aus SQL bekannten Methoden zum Kombinieren von DataFrames.\n",
        "\n",
        "(https://pandas.pydata.org/pandas-docs/stable/user_guide/merging.html)"
      ]
    },
    {
      "attachments": {},
      "cell_type": "markdown",
      "metadata": {
        "id": "pe9wolXO377q"
      },
      "source": [
        "![joins.PNG](data:image/png;base64,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)"
      ]
    },
    {
      "attachments": {},
      "cell_type": "markdown",
      "metadata": {
        "id": "mJuTMfTO1Iu4"
      },
      "source": [
        "Die Merge-Methode wird an `merge` über den Parameter `how` übergeben."
      ]
    },
    {
      "cell_type": "code",
      "execution_count": null,
      "metadata": {
        "colab": {
          "base_uri": "https://localhost:8080/"
        },
        "id": "ILFwhTvV5Og1",
        "outputId": "bebba328-03fa-4095-f9b2-4ce0225bd81a"
      },
      "outputs": [],
      "source": [
        "print('inner join: %s' % iris.merge(iris_info, on='species').shape[0]) # species-versicolor und species-lutescens fehlen\n",
        "print('left join: %s' % iris.merge(iris_info, on='species', how='left').shape[0]) # species-lutescens fehlt\n",
        "print('right join: %s' % iris.merge(iris_info, on='species', how='right').shape[0]) # species-versicolor fehlt\n",
        "print('outer join: %s' % iris.merge(iris_info, on='species', how='outer').shape[0]) # alles da"
      ]
    },
    {
      "attachments": {},
      "cell_type": "markdown",
      "metadata": {
        "id": "SFTNCF9x4j6Q"
      },
      "source": [
        "## Reshape mit pivot, melt und tranpose\n",
        "DataFrames können auf viele verschiedene Weise transformiert werden, um sie für Auswertungen und Analysen in eine geeignete Form zu bringen."
      ]
    },
    {
      "attachments": {},
      "cell_type": "markdown",
      "metadata": {
        "id": "kHPjUGB-ln8-"
      },
      "source": [
        "Die Daten im Iris-Datensatz sind einem sogenannten *wide format*. Es gibt mehrere Spalten (*wide*), die alle Längenmessungen enthalten. Mit Hilfe der Funktion `melt` ist es möglich die \"Spalten in Zeilen\" zu konvertieren. Die Spalte, die eine Zeile identifiziert und nicht in Zeilen konvertiert werden sollen, wird als `id_vars` übergeben."
      ]
    },
    {
      "cell_type": "code",
      "execution_count": null,
      "metadata": {
        "colab": {
          "base_uri": "https://localhost:8080/",
          "height": 415
        },
        "id": "2laHJB0Xkixp",
        "outputId": "0b8d9d3f-ccb0-432f-f6a9-0afc2076343e"
      },
      "outputs": [],
      "source": [
        "iris_long = iris.drop(columns=['species', 'sepal_length_category'])\n",
        "iris_long['id'] = iris_long.index # die Zeilennumern \"sichern\", damit später wieder die passenden Werte zusammen kommen\n",
        "iris_long = iris_long.melt(id_vars='id', var_name='key', value_name='measurement')\n",
        "iris_long"
      ]
    },
    {
      "attachments": {},
      "cell_type": "markdown",
      "metadata": {
        "id": "0TCQ2uu6nSYq"
      },
      "source": [
        "Aus den ursprünglich 150 Zeilen mit den vier Wert-Spalten wurden 600 Zeilen mit einer Wert-Spalte.\n",
        "\n",
        "Dieses *long format* lässt sich mit Hilfe der Methode `pivot` wieder in das *wide format* transformieren."
      ]
    },
    {
      "cell_type": "code",
      "execution_count": null,
      "metadata": {
        "colab": {
          "base_uri": "https://localhost:8080/",
          "height": 446
        },
        "id": "-nuzfwQ-oUEA",
        "outputId": "e4c6503a-999d-423f-cecb-966f420e0273"
      },
      "outputs": [],
      "source": [
        "iris_long.pivot(index='id', columns='key', values='measurement')"
      ]
    },
    {
      "attachments": {},
      "cell_type": "markdown",
      "metadata": {
        "id": "A3t3XX1Pte48"
      },
      "source": [
        "Für die Erstellung Diagrammen ist es manchmal hilfreich einen DataFrame zu transponieren (Zeilen und Spalten tauschen), bevor die Funktionen für das Diagramm aufgerufen werden. Dafür gibt es die Methode `transpose`."
      ]
    },
    {
      "cell_type": "code",
      "execution_count": null,
      "metadata": {
        "colab": {
          "base_uri": "https://localhost:8080/",
          "height": 171
        },
        "id": "U62ufl4lt1yx",
        "outputId": "dc15023f-898e-482d-c8fc-a1f341384a81"
      },
      "outputs": [],
      "source": [
        "iris.drop(columns='sepal_length_category').groupby(['species']).mean().transpose()"
      ]
    },
    {
      "attachments": {},
      "cell_type": "markdown",
      "metadata": {
        "id": "Xo5gyyap7QRe"
      },
      "source": [
        "\"Reshaping\" ist wahrscheinlich das mächtigste, aber auch schwierigste Thema in Pandas. Mehr Details gibt es hier: https://pandas.pydata.org/pandas-docs/stable/user_guide/reshaping.html"
      ]
    },
    {
      "attachments": {},
      "cell_type": "markdown",
      "metadata": {
        "id": "4fKEM04L7k7J"
      },
      "source": [
        "## Visualisierung mit Pandas\n",
        "\n",
        "Für die einfache und schnelle Erstellung Graphen wird in Pandas (und in Python allgemein) häufig auf die Matplotlib-Library zurückgegriffen. \n",
        "\n",
        "(https://pandas.pydata.org/pandas-docs/stable/user_guide/visualization.html)\n",
        "\n",
        "Die einfachste Möglichkeit, in Pandas einen Plot zu generieren, ist die `plot` Funktion, die direkt auf einem DataFrame oder einer Series aufgerufen werden kann. Hier ein paar Beispiele:"
      ]
    },
    {
      "cell_type": "code",
      "execution_count": null,
      "metadata": {
        "colab": {
          "base_uri": "https://localhost:8080/",
          "height": 377
        },
        "id": "C9EiBYL1nhtn",
        "outputId": "92e09a71-4be7-4c3b-e110-1d8c8905a6d8"
      },
      "outputs": [],
      "source": [
        "# Das Balkendiagramm erzeugt für jede numerische Spalte einen unterschiedlich farbigen Balken.\n",
        "# Die Kategorien (x-Achse) werden über die Zeilen gesteuert. In diesem Beispiel jeweils eine Zeile pro 'species' durch Gruppierung und Aggregation.\n",
        "iris.groupby('species').mean(numeric_only=True).plot.bar()"
      ]
    },
    {
      "cell_type": "code",
      "execution_count": null,
      "metadata": {
        "colab": {
          "base_uri": "https://localhost:8080/",
          "height": 337
        },
        "id": "OvN9wot-VMjh",
        "outputId": "afdacad2-8538-4636-94f6-83a441cdd115"
      },
      "outputs": [],
      "source": [
        "# Mit 'transpose' Zeilen und Spalten vertauschen, um die Variablen je 'species' vergleichen zu können\n",
        "iris.groupby('species').mean(numeric_only=True).transpose().plot.bar()"
      ]
    },
    {
      "cell_type": "code",
      "execution_count": null,
      "metadata": {
        "colab": {
          "base_uri": "https://localhost:8080/",
          "height": 297
        },
        "id": "2a8ceKRgWIhB",
        "outputId": "03b4b5b8-375a-4795-b021-fa3382f823c7"
      },
      "outputs": [],
      "source": [
        "# Ein Streudiagramm stellt den Zusammenhang von zwei Spalten dar \n",
        "iris.plot.scatter(x='sepal_length', y='petal_length')"
      ]
    },
    {
      "cell_type": "code",
      "execution_count": null,
      "metadata": {
        "colab": {
          "base_uri": "https://localhost:8080/",
          "height": 297
        },
        "id": "vQ8usIv-oO0M",
        "outputId": "257022fd-ac8b-4afa-8b2c-83d2ea3df874"
      },
      "outputs": [],
      "source": [
        "# Das gleiche Streudiagramm, aber mit nach 'species' gefärbten Punkten über den Parameter 'c' der Funktion 'plot.scatter'\n",
        "color_map = {'species-setosa':'red', 'species-versicolor':'blue', 'species-virginica':'green'}\n",
        "colors = iris['species'].apply(lambda x : color_map[x])\n",
        "iris.plot.scatter(x='sepal_length', y='petal_length', c=colors)"
      ]
    },
    {
      "cell_type": "code",
      "execution_count": null,
      "metadata": {
        "colab": {
          "base_uri": "https://localhost:8080/",
          "height": 297
        },
        "id": "VFspvogFZTcB",
        "outputId": "f673ebbd-9d12-408a-8487-ee50cda4fb7e"
      },
      "outputs": [],
      "source": [
        "# die Schwertlilien-Daten geben kein sehr gutes Liniendiagramm her, aber wir versuchen es trotzdem\n",
        "iris.sort_values('petal_width').plot.line(x='petal_width', y=['petal_length', 'sepal_length'])"
      ]
    },
    {
      "cell_type": "code",
      "execution_count": null,
      "metadata": {
        "colab": {
          "base_uri": "https://localhost:8080/",
          "height": 265
        },
        "id": "afqAlxI8erZi",
        "outputId": "b16598b4-0bee-4dc0-c540-a2ed105d532b"
      },
      "outputs": [],
      "source": [
        "# das gefürchtete Tortendiagramm\n",
        "iris.groupby('sepal_length_category').size().plot.pie()"
      ]
    },
    {
      "cell_type": "code",
      "execution_count": null,
      "metadata": {
        "colab": {
          "base_uri": "https://localhost:8080/",
          "height": 283
        },
        "id": "5sfXSJYPW5M3",
        "outputId": "0516b440-b222-4009-c4b2-e4a264f17e8c"
      },
      "outputs": [],
      "source": [
        "# ein einfaches Histogramm\n",
        "iris['petal_length'].plot.hist(bins=20)"
      ]
    },
    {
      "cell_type": "code",
      "execution_count": null,
      "metadata": {
        "colab": {
          "base_uri": "https://localhost:8080/",
          "height": 283
        },
        "id": "mr39gii8o1mN",
        "outputId": "20bc4eda-7e84-4b0b-d23c-fb1e755fd3f5"
      },
      "outputs": [],
      "source": [
        "# das Histogramm zeigt bei mehreren Spalten jede numerische Spalte mit einer eigenen Farbe an\n",
        "# das können wir ausnutzen, um mittels Pivotierung ein Histogramm je 'species' angezeigt zu bekommen\n",
        "iris.pivot(columns='species', values='petal_length').plot.hist(bins=20, alpha=0.5)"
      ]
    },
    {
      "attachments": {},
      "cell_type": "markdown",
      "metadata": {
        "id": "a-Ayd7jccPOA"
      },
      "source": [
        "### Übung\n",
        "\n",
        "Jetzt zu den Aufgaben für Dich:\n",
        "\n",
        "1.   Kombiniere die Bestellungen mit den Lieferanten\n",
        "2.   Erstelle eine Zusammenfassung, die je Lieferanten-Typ und Liefertag den Gesamtumsatz angibt. (Ergebnis-Spalten sind: delivery_date, vendor_category_en, grand_total)\n",
        "3.   Pivotiere diese Zusammenfassung so, dass der Gesamtumsatz je Lieferanten-Typ in einer eigenen Spalte steht (Ergebnis-Spalten sind: delivery_date, Restaurants, Sweet & Bakes)\n",
        "4.   Erstelle auf dieser Basis ein Liniendiagramm mit x-Achse=Liefertag, y-Achse=Gesamtumsatz und zwei Linien je Lieferanten-Typ\n",
        "5.   Wie viel Umsatz je Lieferant wäre bei den Lieferanten mit einem Auslieferungsumkreis von genau 15 km  durchschnittlich pro Monat verloren gegangen, wenn sie ihren Auslieferungsumkreis auf 10 km reduziert hätten? Tipp: erstelle eine Spalte für Jahr/Monat des Lieferdatums in dem Du auf dem Lieferdatum `.dt.to_period('M')` aufrufst\n"
      ]
    },
    {
      "cell_type": "code",
      "execution_count": null,
      "metadata": {
        "id": "2aEIPAh_cPOH"
      },
      "outputs": [],
      "source": [
        "# Platz für Deine Übungen :)"
      ]
    },
    {
      "attachments": {},
      "cell_type": "markdown",
      "metadata": {
        "id": "2uHSJi7yc1ku"
      },
      "source": [
        "### Lösungen"
      ]
    },
    {
      "cell_type": "code",
      "execution_count": null,
      "metadata": {
        "colab": {
          "base_uri": "https://localhost:8080/",
          "height": 395
        },
        "id": "WARwn-x0c25R",
        "outputId": "7100248b-5e16-42a4-db79-bfd03cbae0db"
      },
      "outputs": [],
      "source": [
        "# 1. Kombiniere die Bestellungen mit den Lieferanten\n",
        "df = orders.merge(vendors, on='vendor_id')\n",
        "df.head()"
      ]
    },
    {
      "cell_type": "code",
      "execution_count": null,
      "metadata": {
        "colab": {
          "base_uri": "https://localhost:8080/",
          "height": 202
        },
        "id": "bmjhdbzCgv0N",
        "outputId": "163ee031-ab4b-4e63-91c5-207bd597fa0a"
      },
      "outputs": [],
      "source": [
        "# 2. Erstelle eine Zusammenfassung die je Lieferanten-Typ und Liefertag den Gesamtumsatz angibt.\n",
        "df = df.groupby(['delivery_date', 'vendor_category_en'])['grand_total'].sum().reset_index()\n",
        "df.head()"
      ]
    },
    {
      "cell_type": "code",
      "execution_count": null,
      "metadata": {
        "colab": {
          "base_uri": "https://localhost:8080/",
          "height": 202
        },
        "id": "EeghUTi5hJbj",
        "outputId": "d40d4120-e755-4f1a-8044-d69705a3b73c"
      },
      "outputs": [],
      "source": [
        "# 3. Pivotiere diese Zusammenfassung, so dass der Gesamtumsatz je Lieferanten-Typ in einer eigenen Spalte steht\n",
        "df = df.pivot(index='delivery_date', columns='vendor_category_en', values='grand_total').reset_index()\n",
        "df.head()"
      ]
    },
    {
      "cell_type": "code",
      "execution_count": null,
      "metadata": {
        "colab": {
          "base_uri": "https://localhost:8080/",
          "height": 295
        },
        "id": "sJaDj-kFhRu_",
        "outputId": "6e61f580-b314-4f8a-ceaa-f58919309e64"
      },
      "outputs": [],
      "source": [
        "# 4. Erstelle ein Liniendiagramm mit x-Achse=Liefertag, y-Achse=Gesamtumsatz und zwei Linien je Lieferanten-Typ\n",
        "df.plot.line(x='delivery_date')"
      ]
    },
    {
      "cell_type": "code",
      "execution_count": null,
      "metadata": {
        "colab": {
          "base_uri": "https://localhost:8080/"
        },
        "id": "FB8p93-gPvqP",
        "outputId": "bb49be4b-a3f1-4972-8157-4647357572bf"
      },
      "outputs": [],
      "source": [
        "# 5. Wie viel Umsatz je Lieferant wäre bei den Lieferanten mit einem Auslieferungsumkreis von genau 15 km  durchschnittlich pro Monat verloren gegangen, wenn sie ihren Auslieferungsumkreis auf 10 km reduziert hätten?\n",
        "df = orders.merge(vendors, on='vendor_id')\n",
        "df['delivery_year_month'] = df['delivery_date'].dt.to_period('M')\n",
        "df.loc[(df['serving_distance']==15) & (df['delivery_distance']>10)].groupby(['vendor_id', 'delivery_year_month'])['grand_total'].sum().mean()"
      ]
    },
    {
      "attachments": {},
      "cell_type": "markdown",
      "metadata": {
        "id": "XNrQRhyqx12-"
      },
      "source": [
        "## Weiterführende Ressourcen\n",
        "Themen zur Vertiefung der Konzepte und Methoden in diesem Notebook:\n",
        "\n",
        "*   **Fehlende Daten** In Pandas werden fehlende Daten normalerweise mit dem Numpy-Wert `np.nan` (aus der Bibliothek NumPy) dargestellt. In der Praxis können allerdings auch andere Wert auftreten, z.b. der Python-Wert `None`. Als Entsprechung für den datetime-Datentyp stellt Pandas zusätzlich `pd.nat` (Not A Time) zur Verfügung. Der Umgang mit fehlenden Daten ist operationsabhängig, z.B. können sie komplett ignoriert oder als \"0\" behandelt werden. (https://pandas.pydata.org/pandas-docs/stable/user_guide/missing_data.html#missing-data)\n",
        "*   **Cookbook** (enthält sehr viele Kurzbeispiele): https://pandas.pydata.org/pandas-docs/stable/user_guide/cookbook.html\n",
        "\n",
        "* **Vergleich zwischen Pandas und SQL**: https://pandas.pydata.org/pandas-docs/stable/getting_started/comparison/comparison_with_sql.html\n",
        "\n",
        "*   **Pandas-Cheatsheet** (übersichtliche Zusammenfassung): https://pandas.pydata.org/Pandas_Cheat_Sheet.pdf\n",
        "\n",
        "*   **URL-Cache löschen** hilft, falls sich eine über HTTP geladene Ressource geändert hat, aber Pandas immer noch die alten Daten lädt: \n",
        "```\n",
        "import urllib.request\n",
        "urllib.request.urlcleanup()\n",
        "```\n",
        "\n",
        "\n",
        "\n",
        "\n"
      ]
    }
  ],
  "metadata": {
    "colab": {
      "collapsed_sections": [
        "1Rc01SAFMH_6"
      ],
      "include_colab_link": true,
      "name": "Pandas.ipynb",
      "provenance": [],
      "toc_visible": true
    },
    "kernelspec": {
      "display_name": "Python 3",
      "name": "python3"
    },
    "language_info": {
      "codemirror_mode": {
        "name": "ipython",
        "version": 3
      },
      "file_extension": ".py",
      "mimetype": "text/x-python",
      "name": "python",
      "nbconvert_exporter": "python",
      "pygments_lexer": "ipython3",
      "version": "3.10.11"
    }
  },
  "nbformat": 4,
  "nbformat_minor": 0
}
